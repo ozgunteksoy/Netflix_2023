{
 "cells": [
  {
   "cell_type": "code",
   "execution_count": 5,
   "id": "f68098e9",
   "metadata": {
    "scrolled": true
   },
   "outputs": [
    {
     "data": {
      "text/html": [
       "<div>\n",
       "<style scoped>\n",
       "    .dataframe tbody tr th:only-of-type {\n",
       "        vertical-align: middle;\n",
       "    }\n",
       "\n",
       "    .dataframe tbody tr th {\n",
       "        vertical-align: top;\n",
       "    }\n",
       "\n",
       "    .dataframe thead th {\n",
       "        text-align: right;\n",
       "    }\n",
       "</style>\n",
       "<table border=\"1\" class=\"dataframe\">\n",
       "  <thead>\n",
       "    <tr style=\"text-align: right;\">\n",
       "      <th></th>\n",
       "      <th>Title</th>\n",
       "      <th>Available Globally?</th>\n",
       "      <th>Release Date</th>\n",
       "      <th>Hours Viewed</th>\n",
       "      <th>Language Indicator</th>\n",
       "      <th>Content Type</th>\n",
       "    </tr>\n",
       "  </thead>\n",
       "  <tbody>\n",
       "    <tr>\n",
       "      <th>0</th>\n",
       "      <td>The Night Agent: Season 1</td>\n",
       "      <td>Yes</td>\n",
       "      <td>2023-03-23</td>\n",
       "      <td>81,21,00,000</td>\n",
       "      <td>English</td>\n",
       "      <td>Show</td>\n",
       "    </tr>\n",
       "    <tr>\n",
       "      <th>1</th>\n",
       "      <td>Ginny &amp; Georgia: Season 2</td>\n",
       "      <td>Yes</td>\n",
       "      <td>2023-01-05</td>\n",
       "      <td>66,51,00,000</td>\n",
       "      <td>English</td>\n",
       "      <td>Show</td>\n",
       "    </tr>\n",
       "    <tr>\n",
       "      <th>2</th>\n",
       "      <td>The Glory: Season 1 // 더 글로리: 시즌 1</td>\n",
       "      <td>Yes</td>\n",
       "      <td>2022-12-30</td>\n",
       "      <td>62,28,00,000</td>\n",
       "      <td>Korean</td>\n",
       "      <td>Show</td>\n",
       "    </tr>\n",
       "    <tr>\n",
       "      <th>3</th>\n",
       "      <td>Wednesday: Season 1</td>\n",
       "      <td>Yes</td>\n",
       "      <td>2022-11-23</td>\n",
       "      <td>50,77,00,000</td>\n",
       "      <td>English</td>\n",
       "      <td>Show</td>\n",
       "    </tr>\n",
       "    <tr>\n",
       "      <th>4</th>\n",
       "      <td>Queen Charlotte: A Bridgerton Story</td>\n",
       "      <td>Yes</td>\n",
       "      <td>2023-05-04</td>\n",
       "      <td>50,30,00,000</td>\n",
       "      <td>English</td>\n",
       "      <td>Movie</td>\n",
       "    </tr>\n",
       "  </tbody>\n",
       "</table>\n",
       "</div>"
      ],
      "text/plain": [
       "                                 Title Available Globally? Release Date  \\\n",
       "0            The Night Agent: Season 1                 Yes   2023-03-23   \n",
       "1            Ginny & Georgia: Season 2                 Yes   2023-01-05   \n",
       "2   The Glory: Season 1 // 더 글로리: 시즌 1                 Yes   2022-12-30   \n",
       "3                  Wednesday: Season 1                 Yes   2022-11-23   \n",
       "4  Queen Charlotte: A Bridgerton Story                 Yes   2023-05-04   \n",
       "\n",
       "   Hours Viewed Language Indicator Content Type  \n",
       "0  81,21,00,000            English         Show  \n",
       "1  66,51,00,000            English         Show  \n",
       "2  62,28,00,000             Korean         Show  \n",
       "3  50,77,00,000            English         Show  \n",
       "4  50,30,00,000            English        Movie  "
      ]
     },
     "execution_count": 5,
     "metadata": {},
     "output_type": "execute_result"
    }
   ],
   "source": [
    "import pandas as pd\n",
    "import plotly.express as px\n",
    "import plotly.graph_objects as go\n",
    "import plotly.io as pio\n",
    "\n",
    "pio.templates.default = \"plotly_white\"\n",
    "\n",
    "netflix_data = pd.read_csv(\"E:/Veri Bilimi Topluluğu/Netflix Content Strategy Analysis/netflix_content_2023.csv\")\n",
    "\n",
    "netflix_data.head()"
   ]
  },
  {
   "cell_type": "markdown",
   "id": "5180daf1",
   "metadata": {},
   "source": [
    "Let me start with cleaning and preprocessing the “Hours Viewed” column to prepare it for analysis:"
   ]
  },
  {
   "cell_type": "code",
   "execution_count": 7,
   "id": "6a986d3f",
   "metadata": {},
   "outputs": [
    {
     "data": {
      "text/html": [
       "<div>\n",
       "<style scoped>\n",
       "    .dataframe tbody tr th:only-of-type {\n",
       "        vertical-align: middle;\n",
       "    }\n",
       "\n",
       "    .dataframe tbody tr th {\n",
       "        vertical-align: top;\n",
       "    }\n",
       "\n",
       "    .dataframe thead th {\n",
       "        text-align: right;\n",
       "    }\n",
       "</style>\n",
       "<table border=\"1\" class=\"dataframe\">\n",
       "  <thead>\n",
       "    <tr style=\"text-align: right;\">\n",
       "      <th></th>\n",
       "      <th>Title</th>\n",
       "      <th>Available Globally?</th>\n",
       "      <th>Release Date</th>\n",
       "      <th>Hours Viewed</th>\n",
       "      <th>Language Indicator</th>\n",
       "      <th>Content Type</th>\n",
       "    </tr>\n",
       "  </thead>\n",
       "  <tbody>\n",
       "    <tr>\n",
       "      <th>0</th>\n",
       "      <td>The Night Agent: Season 1</td>\n",
       "      <td>Yes</td>\n",
       "      <td>2023-03-23</td>\n",
       "      <td>81,21,00,000</td>\n",
       "      <td>English</td>\n",
       "      <td>Show</td>\n",
       "    </tr>\n",
       "    <tr>\n",
       "      <th>1</th>\n",
       "      <td>Ginny &amp; Georgia: Season 2</td>\n",
       "      <td>Yes</td>\n",
       "      <td>2023-01-05</td>\n",
       "      <td>66,51,00,000</td>\n",
       "      <td>English</td>\n",
       "      <td>Show</td>\n",
       "    </tr>\n",
       "    <tr>\n",
       "      <th>2</th>\n",
       "      <td>The Glory: Season 1 // 더 글로리: 시즌 1</td>\n",
       "      <td>Yes</td>\n",
       "      <td>2022-12-30</td>\n",
       "      <td>62,28,00,000</td>\n",
       "      <td>Korean</td>\n",
       "      <td>Show</td>\n",
       "    </tr>\n",
       "    <tr>\n",
       "      <th>3</th>\n",
       "      <td>Wednesday: Season 1</td>\n",
       "      <td>Yes</td>\n",
       "      <td>2022-11-23</td>\n",
       "      <td>50,77,00,000</td>\n",
       "      <td>English</td>\n",
       "      <td>Show</td>\n",
       "    </tr>\n",
       "    <tr>\n",
       "      <th>4</th>\n",
       "      <td>Queen Charlotte: A Bridgerton Story</td>\n",
       "      <td>Yes</td>\n",
       "      <td>2023-05-04</td>\n",
       "      <td>50,30,00,000</td>\n",
       "      <td>English</td>\n",
       "      <td>Movie</td>\n",
       "    </tr>\n",
       "  </tbody>\n",
       "</table>\n",
       "</div>"
      ],
      "text/plain": [
       "                                 Title Available Globally? Release Date  \\\n",
       "0            The Night Agent: Season 1                 Yes   2023-03-23   \n",
       "1            Ginny & Georgia: Season 2                 Yes   2023-01-05   \n",
       "2   The Glory: Season 1 // 더 글로리: 시즌 1                 Yes   2022-12-30   \n",
       "3                  Wednesday: Season 1                 Yes   2022-11-23   \n",
       "4  Queen Charlotte: A Bridgerton Story                 Yes   2023-05-04   \n",
       "\n",
       "   Hours Viewed Language Indicator Content Type  \n",
       "0  81,21,00,000            English         Show  \n",
       "1  66,51,00,000            English         Show  \n",
       "2  62,28,00,000             Korean         Show  \n",
       "3  50,77,00,000            English         Show  \n",
       "4  50,30,00,000            English        Movie  "
      ]
     },
     "execution_count": 7,
     "metadata": {},
     "output_type": "execute_result"
    }
   ],
   "source": [
    "df = netflix_data.copy()\n",
    "df.head()"
   ]
  },
  {
   "cell_type": "code",
   "execution_count": 55,
   "id": "45b9d8ea",
   "metadata": {},
   "outputs": [
    {
     "data": {
      "text/html": [
       "<div>\n",
       "<style scoped>\n",
       "    .dataframe tbody tr th:only-of-type {\n",
       "        vertical-align: middle;\n",
       "    }\n",
       "\n",
       "    .dataframe tbody tr th {\n",
       "        vertical-align: top;\n",
       "    }\n",
       "\n",
       "    .dataframe thead th {\n",
       "        text-align: right;\n",
       "    }\n",
       "</style>\n",
       "<table border=\"1\" class=\"dataframe\">\n",
       "  <thead>\n",
       "    <tr style=\"text-align: right;\">\n",
       "      <th></th>\n",
       "      <th>Title</th>\n",
       "      <th>Hours Viewed</th>\n",
       "    </tr>\n",
       "  </thead>\n",
       "  <tbody>\n",
       "    <tr>\n",
       "      <th>0</th>\n",
       "      <td>The Night Agent: Season 1</td>\n",
       "      <td>812100000.0</td>\n",
       "    </tr>\n",
       "    <tr>\n",
       "      <th>1</th>\n",
       "      <td>Ginny &amp; Georgia: Season 2</td>\n",
       "      <td>665100000.0</td>\n",
       "    </tr>\n",
       "    <tr>\n",
       "      <th>2</th>\n",
       "      <td>The Glory: Season 1 // 더 글로리: 시즌 1</td>\n",
       "      <td>622800000.0</td>\n",
       "    </tr>\n",
       "    <tr>\n",
       "      <th>3</th>\n",
       "      <td>Wednesday: Season 1</td>\n",
       "      <td>507700000.0</td>\n",
       "    </tr>\n",
       "    <tr>\n",
       "      <th>4</th>\n",
       "      <td>Queen Charlotte: A Bridgerton Story</td>\n",
       "      <td>503000000.0</td>\n",
       "    </tr>\n",
       "  </tbody>\n",
       "</table>\n",
       "</div>"
      ],
      "text/plain": [
       "                                 Title  Hours Viewed\n",
       "0            The Night Agent: Season 1   812100000.0\n",
       "1            Ginny & Georgia: Season 2   665100000.0\n",
       "2   The Glory: Season 1 // 더 글로리: 시즌 1   622800000.0\n",
       "3                  Wednesday: Season 1   507700000.0\n",
       "4  Queen Charlotte: A Bridgerton Story   503000000.0"
      ]
     },
     "execution_count": 55,
     "metadata": {},
     "output_type": "execute_result"
    }
   ],
   "source": [
    "df['Hours Viewed'] = df['Hours Viewed'].replace(',','',regex=True).astype(float)\n",
    "df[['Title','Hours Viewed']].head()"
   ]
  },
  {
   "cell_type": "markdown",
   "id": "c5c3a862",
   "metadata": {},
   "source": [
    "The “Hours Viewed” column has been successfully cleaned and converted to a numeric format. Now, I’ll analyze trends in content type to determine whether shows or movies dominate viewership. Let’s visualize the distribution of total viewership hours between Shows and Movies:"
   ]
  },
  {
   "cell_type": "code",
   "execution_count": 16,
   "id": "bc6be794",
   "metadata": {
    "code_folding": []
   },
   "outputs": [
    {
     "data": {
      "application/vnd.plotly.v1+json": {
       "config": {
        "plotlyServerURL": "https://plot.ly"
       },
       "data": [
        {
         "marker": {
          "color": [
           "skyblue",
           "salmon"
          ]
         },
         "type": "bar",
         "x": [
          "Movie",
          "Show"
         ],
         "y": [
          50637800000,
          107764100000
         ]
        }
       ],
       "layout": {
        "height": 500,
        "template": {
         "data": {
          "bar": [
           {
            "error_x": {
             "color": "#2a3f5f"
            },
            "error_y": {
             "color": "#2a3f5f"
            },
            "marker": {
             "line": {
              "color": "white",
              "width": 0.5
             },
             "pattern": {
              "fillmode": "overlay",
              "size": 10,
              "solidity": 0.2
             }
            },
            "type": "bar"
           }
          ],
          "barpolar": [
           {
            "marker": {
             "line": {
              "color": "white",
              "width": 0.5
             },
             "pattern": {
              "fillmode": "overlay",
              "size": 10,
              "solidity": 0.2
             }
            },
            "type": "barpolar"
           }
          ],
          "carpet": [
           {
            "aaxis": {
             "endlinecolor": "#2a3f5f",
             "gridcolor": "#C8D4E3",
             "linecolor": "#C8D4E3",
             "minorgridcolor": "#C8D4E3",
             "startlinecolor": "#2a3f5f"
            },
            "baxis": {
             "endlinecolor": "#2a3f5f",
             "gridcolor": "#C8D4E3",
             "linecolor": "#C8D4E3",
             "minorgridcolor": "#C8D4E3",
             "startlinecolor": "#2a3f5f"
            },
            "type": "carpet"
           }
          ],
          "choropleth": [
           {
            "colorbar": {
             "outlinewidth": 0,
             "ticks": ""
            },
            "type": "choropleth"
           }
          ],
          "contour": [
           {
            "colorbar": {
             "outlinewidth": 0,
             "ticks": ""
            },
            "colorscale": [
             [
              0,
              "#0d0887"
             ],
             [
              0.1111111111111111,
              "#46039f"
             ],
             [
              0.2222222222222222,
              "#7201a8"
             ],
             [
              0.3333333333333333,
              "#9c179e"
             ],
             [
              0.4444444444444444,
              "#bd3786"
             ],
             [
              0.5555555555555556,
              "#d8576b"
             ],
             [
              0.6666666666666666,
              "#ed7953"
             ],
             [
              0.7777777777777778,
              "#fb9f3a"
             ],
             [
              0.8888888888888888,
              "#fdca26"
             ],
             [
              1,
              "#f0f921"
             ]
            ],
            "type": "contour"
           }
          ],
          "contourcarpet": [
           {
            "colorbar": {
             "outlinewidth": 0,
             "ticks": ""
            },
            "type": "contourcarpet"
           }
          ],
          "heatmap": [
           {
            "colorbar": {
             "outlinewidth": 0,
             "ticks": ""
            },
            "colorscale": [
             [
              0,
              "#0d0887"
             ],
             [
              0.1111111111111111,
              "#46039f"
             ],
             [
              0.2222222222222222,
              "#7201a8"
             ],
             [
              0.3333333333333333,
              "#9c179e"
             ],
             [
              0.4444444444444444,
              "#bd3786"
             ],
             [
              0.5555555555555556,
              "#d8576b"
             ],
             [
              0.6666666666666666,
              "#ed7953"
             ],
             [
              0.7777777777777778,
              "#fb9f3a"
             ],
             [
              0.8888888888888888,
              "#fdca26"
             ],
             [
              1,
              "#f0f921"
             ]
            ],
            "type": "heatmap"
           }
          ],
          "heatmapgl": [
           {
            "colorbar": {
             "outlinewidth": 0,
             "ticks": ""
            },
            "colorscale": [
             [
              0,
              "#0d0887"
             ],
             [
              0.1111111111111111,
              "#46039f"
             ],
             [
              0.2222222222222222,
              "#7201a8"
             ],
             [
              0.3333333333333333,
              "#9c179e"
             ],
             [
              0.4444444444444444,
              "#bd3786"
             ],
             [
              0.5555555555555556,
              "#d8576b"
             ],
             [
              0.6666666666666666,
              "#ed7953"
             ],
             [
              0.7777777777777778,
              "#fb9f3a"
             ],
             [
              0.8888888888888888,
              "#fdca26"
             ],
             [
              1,
              "#f0f921"
             ]
            ],
            "type": "heatmapgl"
           }
          ],
          "histogram": [
           {
            "marker": {
             "pattern": {
              "fillmode": "overlay",
              "size": 10,
              "solidity": 0.2
             }
            },
            "type": "histogram"
           }
          ],
          "histogram2d": [
           {
            "colorbar": {
             "outlinewidth": 0,
             "ticks": ""
            },
            "colorscale": [
             [
              0,
              "#0d0887"
             ],
             [
              0.1111111111111111,
              "#46039f"
             ],
             [
              0.2222222222222222,
              "#7201a8"
             ],
             [
              0.3333333333333333,
              "#9c179e"
             ],
             [
              0.4444444444444444,
              "#bd3786"
             ],
             [
              0.5555555555555556,
              "#d8576b"
             ],
             [
              0.6666666666666666,
              "#ed7953"
             ],
             [
              0.7777777777777778,
              "#fb9f3a"
             ],
             [
              0.8888888888888888,
              "#fdca26"
             ],
             [
              1,
              "#f0f921"
             ]
            ],
            "type": "histogram2d"
           }
          ],
          "histogram2dcontour": [
           {
            "colorbar": {
             "outlinewidth": 0,
             "ticks": ""
            },
            "colorscale": [
             [
              0,
              "#0d0887"
             ],
             [
              0.1111111111111111,
              "#46039f"
             ],
             [
              0.2222222222222222,
              "#7201a8"
             ],
             [
              0.3333333333333333,
              "#9c179e"
             ],
             [
              0.4444444444444444,
              "#bd3786"
             ],
             [
              0.5555555555555556,
              "#d8576b"
             ],
             [
              0.6666666666666666,
              "#ed7953"
             ],
             [
              0.7777777777777778,
              "#fb9f3a"
             ],
             [
              0.8888888888888888,
              "#fdca26"
             ],
             [
              1,
              "#f0f921"
             ]
            ],
            "type": "histogram2dcontour"
           }
          ],
          "mesh3d": [
           {
            "colorbar": {
             "outlinewidth": 0,
             "ticks": ""
            },
            "type": "mesh3d"
           }
          ],
          "parcoords": [
           {
            "line": {
             "colorbar": {
              "outlinewidth": 0,
              "ticks": ""
             }
            },
            "type": "parcoords"
           }
          ],
          "pie": [
           {
            "automargin": true,
            "type": "pie"
           }
          ],
          "scatter": [
           {
            "fillpattern": {
             "fillmode": "overlay",
             "size": 10,
             "solidity": 0.2
            },
            "type": "scatter"
           }
          ],
          "scatter3d": [
           {
            "line": {
             "colorbar": {
              "outlinewidth": 0,
              "ticks": ""
             }
            },
            "marker": {
             "colorbar": {
              "outlinewidth": 0,
              "ticks": ""
             }
            },
            "type": "scatter3d"
           }
          ],
          "scattercarpet": [
           {
            "marker": {
             "colorbar": {
              "outlinewidth": 0,
              "ticks": ""
             }
            },
            "type": "scattercarpet"
           }
          ],
          "scattergeo": [
           {
            "marker": {
             "colorbar": {
              "outlinewidth": 0,
              "ticks": ""
             }
            },
            "type": "scattergeo"
           }
          ],
          "scattergl": [
           {
            "marker": {
             "colorbar": {
              "outlinewidth": 0,
              "ticks": ""
             }
            },
            "type": "scattergl"
           }
          ],
          "scattermapbox": [
           {
            "marker": {
             "colorbar": {
              "outlinewidth": 0,
              "ticks": ""
             }
            },
            "type": "scattermapbox"
           }
          ],
          "scatterpolar": [
           {
            "marker": {
             "colorbar": {
              "outlinewidth": 0,
              "ticks": ""
             }
            },
            "type": "scatterpolar"
           }
          ],
          "scatterpolargl": [
           {
            "marker": {
             "colorbar": {
              "outlinewidth": 0,
              "ticks": ""
             }
            },
            "type": "scatterpolargl"
           }
          ],
          "scatterternary": [
           {
            "marker": {
             "colorbar": {
              "outlinewidth": 0,
              "ticks": ""
             }
            },
            "type": "scatterternary"
           }
          ],
          "surface": [
           {
            "colorbar": {
             "outlinewidth": 0,
             "ticks": ""
            },
            "colorscale": [
             [
              0,
              "#0d0887"
             ],
             [
              0.1111111111111111,
              "#46039f"
             ],
             [
              0.2222222222222222,
              "#7201a8"
             ],
             [
              0.3333333333333333,
              "#9c179e"
             ],
             [
              0.4444444444444444,
              "#bd3786"
             ],
             [
              0.5555555555555556,
              "#d8576b"
             ],
             [
              0.6666666666666666,
              "#ed7953"
             ],
             [
              0.7777777777777778,
              "#fb9f3a"
             ],
             [
              0.8888888888888888,
              "#fdca26"
             ],
             [
              1,
              "#f0f921"
             ]
            ],
            "type": "surface"
           }
          ],
          "table": [
           {
            "cells": {
             "fill": {
              "color": "#EBF0F8"
             },
             "line": {
              "color": "white"
             }
            },
            "header": {
             "fill": {
              "color": "#C8D4E3"
             },
             "line": {
              "color": "white"
             }
            },
            "type": "table"
           }
          ]
         },
         "layout": {
          "annotationdefaults": {
           "arrowcolor": "#2a3f5f",
           "arrowhead": 0,
           "arrowwidth": 1
          },
          "autotypenumbers": "strict",
          "coloraxis": {
           "colorbar": {
            "outlinewidth": 0,
            "ticks": ""
           }
          },
          "colorscale": {
           "diverging": [
            [
             0,
             "#8e0152"
            ],
            [
             0.1,
             "#c51b7d"
            ],
            [
             0.2,
             "#de77ae"
            ],
            [
             0.3,
             "#f1b6da"
            ],
            [
             0.4,
             "#fde0ef"
            ],
            [
             0.5,
             "#f7f7f7"
            ],
            [
             0.6,
             "#e6f5d0"
            ],
            [
             0.7,
             "#b8e186"
            ],
            [
             0.8,
             "#7fbc41"
            ],
            [
             0.9,
             "#4d9221"
            ],
            [
             1,
             "#276419"
            ]
           ],
           "sequential": [
            [
             0,
             "#0d0887"
            ],
            [
             0.1111111111111111,
             "#46039f"
            ],
            [
             0.2222222222222222,
             "#7201a8"
            ],
            [
             0.3333333333333333,
             "#9c179e"
            ],
            [
             0.4444444444444444,
             "#bd3786"
            ],
            [
             0.5555555555555556,
             "#d8576b"
            ],
            [
             0.6666666666666666,
             "#ed7953"
            ],
            [
             0.7777777777777778,
             "#fb9f3a"
            ],
            [
             0.8888888888888888,
             "#fdca26"
            ],
            [
             1,
             "#f0f921"
            ]
           ],
           "sequentialminus": [
            [
             0,
             "#0d0887"
            ],
            [
             0.1111111111111111,
             "#46039f"
            ],
            [
             0.2222222222222222,
             "#7201a8"
            ],
            [
             0.3333333333333333,
             "#9c179e"
            ],
            [
             0.4444444444444444,
             "#bd3786"
            ],
            [
             0.5555555555555556,
             "#d8576b"
            ],
            [
             0.6666666666666666,
             "#ed7953"
            ],
            [
             0.7777777777777778,
             "#fb9f3a"
            ],
            [
             0.8888888888888888,
             "#fdca26"
            ],
            [
             1,
             "#f0f921"
            ]
           ]
          },
          "colorway": [
           "#636efa",
           "#EF553B",
           "#00cc96",
           "#ab63fa",
           "#FFA15A",
           "#19d3f3",
           "#FF6692",
           "#B6E880",
           "#FF97FF",
           "#FECB52"
          ],
          "font": {
           "color": "#2a3f5f"
          },
          "geo": {
           "bgcolor": "white",
           "lakecolor": "white",
           "landcolor": "white",
           "showlakes": true,
           "showland": true,
           "subunitcolor": "#C8D4E3"
          },
          "hoverlabel": {
           "align": "left"
          },
          "hovermode": "closest",
          "mapbox": {
           "style": "light"
          },
          "paper_bgcolor": "white",
          "plot_bgcolor": "white",
          "polar": {
           "angularaxis": {
            "gridcolor": "#EBF0F8",
            "linecolor": "#EBF0F8",
            "ticks": ""
           },
           "bgcolor": "white",
           "radialaxis": {
            "gridcolor": "#EBF0F8",
            "linecolor": "#EBF0F8",
            "ticks": ""
           }
          },
          "scene": {
           "xaxis": {
            "backgroundcolor": "white",
            "gridcolor": "#DFE8F3",
            "gridwidth": 2,
            "linecolor": "#EBF0F8",
            "showbackground": true,
            "ticks": "",
            "zerolinecolor": "#EBF0F8"
           },
           "yaxis": {
            "backgroundcolor": "white",
            "gridcolor": "#DFE8F3",
            "gridwidth": 2,
            "linecolor": "#EBF0F8",
            "showbackground": true,
            "ticks": "",
            "zerolinecolor": "#EBF0F8"
           },
           "zaxis": {
            "backgroundcolor": "white",
            "gridcolor": "#DFE8F3",
            "gridwidth": 2,
            "linecolor": "#EBF0F8",
            "showbackground": true,
            "ticks": "",
            "zerolinecolor": "#EBF0F8"
           }
          },
          "shapedefaults": {
           "line": {
            "color": "#2a3f5f"
           }
          },
          "ternary": {
           "aaxis": {
            "gridcolor": "#DFE8F3",
            "linecolor": "#A2B1C6",
            "ticks": ""
           },
           "baxis": {
            "gridcolor": "#DFE8F3",
            "linecolor": "#A2B1C6",
            "ticks": ""
           },
           "bgcolor": "white",
           "caxis": {
            "gridcolor": "#DFE8F3",
            "linecolor": "#A2B1C6",
            "ticks": ""
           }
          },
          "title": {
           "x": 0.05
          },
          "xaxis": {
           "automargin": true,
           "gridcolor": "#EBF0F8",
           "linecolor": "#EBF0F8",
           "ticks": "",
           "title": {
            "standoff": 15
           },
           "zerolinecolor": "#EBF0F8",
           "zerolinewidth": 2
          },
          "yaxis": {
           "automargin": true,
           "gridcolor": "#EBF0F8",
           "linecolor": "#EBF0F8",
           "ticks": "",
           "title": {
            "standoff": 15
           },
           "zerolinecolor": "#EBF0F8",
           "zerolinewidth": 2
          }
         }
        },
        "title": {
         "text": "Total Viewership Hours by Content Type (2023)"
        },
        "width": 800,
        "xaxis": {
         "tickangle": 0,
         "title": {
          "text": "Content Type"
         }
        },
        "yaxis": {
         "title": {
          "text": "Total Hours Viewed(in billons)"
         }
        }
       }
      },
      "text/html": [
       "<div>                            <div id=\"c02bbe8c-c733-4c78-9a76-61e0424af3f5\" class=\"plotly-graph-div\" style=\"height:500px; width:800px;\"></div>            <script type=\"text/javascript\">                require([\"plotly\"], function(Plotly) {                    window.PLOTLYENV=window.PLOTLYENV || {};                                    if (document.getElementById(\"c02bbe8c-c733-4c78-9a76-61e0424af3f5\")) {                    Plotly.newPlot(                        \"c02bbe8c-c733-4c78-9a76-61e0424af3f5\",                        [{\"marker\":{\"color\":[\"skyblue\",\"salmon\"]},\"x\":[\"Movie\",\"Show\"],\"y\":[50637800000.0,107764100000.0],\"type\":\"bar\"}],                        {\"template\":{\"data\":{\"histogram2dcontour\":[{\"type\":\"histogram2dcontour\",\"colorbar\":{\"outlinewidth\":0,\"ticks\":\"\"},\"colorscale\":[[0.0,\"#0d0887\"],[0.1111111111111111,\"#46039f\"],[0.2222222222222222,\"#7201a8\"],[0.3333333333333333,\"#9c179e\"],[0.4444444444444444,\"#bd3786\"],[0.5555555555555556,\"#d8576b\"],[0.6666666666666666,\"#ed7953\"],[0.7777777777777778,\"#fb9f3a\"],[0.8888888888888888,\"#fdca26\"],[1.0,\"#f0f921\"]]}],\"choropleth\":[{\"type\":\"choropleth\",\"colorbar\":{\"outlinewidth\":0,\"ticks\":\"\"}}],\"histogram2d\":[{\"type\":\"histogram2d\",\"colorbar\":{\"outlinewidth\":0,\"ticks\":\"\"},\"colorscale\":[[0.0,\"#0d0887\"],[0.1111111111111111,\"#46039f\"],[0.2222222222222222,\"#7201a8\"],[0.3333333333333333,\"#9c179e\"],[0.4444444444444444,\"#bd3786\"],[0.5555555555555556,\"#d8576b\"],[0.6666666666666666,\"#ed7953\"],[0.7777777777777778,\"#fb9f3a\"],[0.8888888888888888,\"#fdca26\"],[1.0,\"#f0f921\"]]}],\"heatmap\":[{\"type\":\"heatmap\",\"colorbar\":{\"outlinewidth\":0,\"ticks\":\"\"},\"colorscale\":[[0.0,\"#0d0887\"],[0.1111111111111111,\"#46039f\"],[0.2222222222222222,\"#7201a8\"],[0.3333333333333333,\"#9c179e\"],[0.4444444444444444,\"#bd3786\"],[0.5555555555555556,\"#d8576b\"],[0.6666666666666666,\"#ed7953\"],[0.7777777777777778,\"#fb9f3a\"],[0.8888888888888888,\"#fdca26\"],[1.0,\"#f0f921\"]]}],\"heatmapgl\":[{\"type\":\"heatmapgl\",\"colorbar\":{\"outlinewidth\":0,\"ticks\":\"\"},\"colorscale\":[[0.0,\"#0d0887\"],[0.1111111111111111,\"#46039f\"],[0.2222222222222222,\"#7201a8\"],[0.3333333333333333,\"#9c179e\"],[0.4444444444444444,\"#bd3786\"],[0.5555555555555556,\"#d8576b\"],[0.6666666666666666,\"#ed7953\"],[0.7777777777777778,\"#fb9f3a\"],[0.8888888888888888,\"#fdca26\"],[1.0,\"#f0f921\"]]}],\"contourcarpet\":[{\"type\":\"contourcarpet\",\"colorbar\":{\"outlinewidth\":0,\"ticks\":\"\"}}],\"contour\":[{\"type\":\"contour\",\"colorbar\":{\"outlinewidth\":0,\"ticks\":\"\"},\"colorscale\":[[0.0,\"#0d0887\"],[0.1111111111111111,\"#46039f\"],[0.2222222222222222,\"#7201a8\"],[0.3333333333333333,\"#9c179e\"],[0.4444444444444444,\"#bd3786\"],[0.5555555555555556,\"#d8576b\"],[0.6666666666666666,\"#ed7953\"],[0.7777777777777778,\"#fb9f3a\"],[0.8888888888888888,\"#fdca26\"],[1.0,\"#f0f921\"]]}],\"surface\":[{\"type\":\"surface\",\"colorbar\":{\"outlinewidth\":0,\"ticks\":\"\"},\"colorscale\":[[0.0,\"#0d0887\"],[0.1111111111111111,\"#46039f\"],[0.2222222222222222,\"#7201a8\"],[0.3333333333333333,\"#9c179e\"],[0.4444444444444444,\"#bd3786\"],[0.5555555555555556,\"#d8576b\"],[0.6666666666666666,\"#ed7953\"],[0.7777777777777778,\"#fb9f3a\"],[0.8888888888888888,\"#fdca26\"],[1.0,\"#f0f921\"]]}],\"mesh3d\":[{\"type\":\"mesh3d\",\"colorbar\":{\"outlinewidth\":0,\"ticks\":\"\"}}],\"scatter\":[{\"fillpattern\":{\"fillmode\":\"overlay\",\"size\":10,\"solidity\":0.2},\"type\":\"scatter\"}],\"parcoords\":[{\"type\":\"parcoords\",\"line\":{\"colorbar\":{\"outlinewidth\":0,\"ticks\":\"\"}}}],\"scatterpolargl\":[{\"type\":\"scatterpolargl\",\"marker\":{\"colorbar\":{\"outlinewidth\":0,\"ticks\":\"\"}}}],\"bar\":[{\"error_x\":{\"color\":\"#2a3f5f\"},\"error_y\":{\"color\":\"#2a3f5f\"},\"marker\":{\"line\":{\"color\":\"white\",\"width\":0.5},\"pattern\":{\"fillmode\":\"overlay\",\"size\":10,\"solidity\":0.2}},\"type\":\"bar\"}],\"scattergeo\":[{\"type\":\"scattergeo\",\"marker\":{\"colorbar\":{\"outlinewidth\":0,\"ticks\":\"\"}}}],\"scatterpolar\":[{\"type\":\"scatterpolar\",\"marker\":{\"colorbar\":{\"outlinewidth\":0,\"ticks\":\"\"}}}],\"histogram\":[{\"marker\":{\"pattern\":{\"fillmode\":\"overlay\",\"size\":10,\"solidity\":0.2}},\"type\":\"histogram\"}],\"scattergl\":[{\"type\":\"scattergl\",\"marker\":{\"colorbar\":{\"outlinewidth\":0,\"ticks\":\"\"}}}],\"scatter3d\":[{\"type\":\"scatter3d\",\"line\":{\"colorbar\":{\"outlinewidth\":0,\"ticks\":\"\"}},\"marker\":{\"colorbar\":{\"outlinewidth\":0,\"ticks\":\"\"}}}],\"scattermapbox\":[{\"type\":\"scattermapbox\",\"marker\":{\"colorbar\":{\"outlinewidth\":0,\"ticks\":\"\"}}}],\"scatterternary\":[{\"type\":\"scatterternary\",\"marker\":{\"colorbar\":{\"outlinewidth\":0,\"ticks\":\"\"}}}],\"scattercarpet\":[{\"type\":\"scattercarpet\",\"marker\":{\"colorbar\":{\"outlinewidth\":0,\"ticks\":\"\"}}}],\"carpet\":[{\"aaxis\":{\"endlinecolor\":\"#2a3f5f\",\"gridcolor\":\"#C8D4E3\",\"linecolor\":\"#C8D4E3\",\"minorgridcolor\":\"#C8D4E3\",\"startlinecolor\":\"#2a3f5f\"},\"baxis\":{\"endlinecolor\":\"#2a3f5f\",\"gridcolor\":\"#C8D4E3\",\"linecolor\":\"#C8D4E3\",\"minorgridcolor\":\"#C8D4E3\",\"startlinecolor\":\"#2a3f5f\"},\"type\":\"carpet\"}],\"table\":[{\"cells\":{\"fill\":{\"color\":\"#EBF0F8\"},\"line\":{\"color\":\"white\"}},\"header\":{\"fill\":{\"color\":\"#C8D4E3\"},\"line\":{\"color\":\"white\"}},\"type\":\"table\"}],\"barpolar\":[{\"marker\":{\"line\":{\"color\":\"white\",\"width\":0.5},\"pattern\":{\"fillmode\":\"overlay\",\"size\":10,\"solidity\":0.2}},\"type\":\"barpolar\"}],\"pie\":[{\"automargin\":true,\"type\":\"pie\"}]},\"layout\":{\"autotypenumbers\":\"strict\",\"colorway\":[\"#636efa\",\"#EF553B\",\"#00cc96\",\"#ab63fa\",\"#FFA15A\",\"#19d3f3\",\"#FF6692\",\"#B6E880\",\"#FF97FF\",\"#FECB52\"],\"font\":{\"color\":\"#2a3f5f\"},\"hovermode\":\"closest\",\"hoverlabel\":{\"align\":\"left\"},\"paper_bgcolor\":\"white\",\"plot_bgcolor\":\"white\",\"polar\":{\"bgcolor\":\"white\",\"angularaxis\":{\"gridcolor\":\"#EBF0F8\",\"linecolor\":\"#EBF0F8\",\"ticks\":\"\"},\"radialaxis\":{\"gridcolor\":\"#EBF0F8\",\"linecolor\":\"#EBF0F8\",\"ticks\":\"\"}},\"ternary\":{\"bgcolor\":\"white\",\"aaxis\":{\"gridcolor\":\"#DFE8F3\",\"linecolor\":\"#A2B1C6\",\"ticks\":\"\"},\"baxis\":{\"gridcolor\":\"#DFE8F3\",\"linecolor\":\"#A2B1C6\",\"ticks\":\"\"},\"caxis\":{\"gridcolor\":\"#DFE8F3\",\"linecolor\":\"#A2B1C6\",\"ticks\":\"\"}},\"coloraxis\":{\"colorbar\":{\"outlinewidth\":0,\"ticks\":\"\"}},\"colorscale\":{\"sequential\":[[0.0,\"#0d0887\"],[0.1111111111111111,\"#46039f\"],[0.2222222222222222,\"#7201a8\"],[0.3333333333333333,\"#9c179e\"],[0.4444444444444444,\"#bd3786\"],[0.5555555555555556,\"#d8576b\"],[0.6666666666666666,\"#ed7953\"],[0.7777777777777778,\"#fb9f3a\"],[0.8888888888888888,\"#fdca26\"],[1.0,\"#f0f921\"]],\"sequentialminus\":[[0.0,\"#0d0887\"],[0.1111111111111111,\"#46039f\"],[0.2222222222222222,\"#7201a8\"],[0.3333333333333333,\"#9c179e\"],[0.4444444444444444,\"#bd3786\"],[0.5555555555555556,\"#d8576b\"],[0.6666666666666666,\"#ed7953\"],[0.7777777777777778,\"#fb9f3a\"],[0.8888888888888888,\"#fdca26\"],[1.0,\"#f0f921\"]],\"diverging\":[[0,\"#8e0152\"],[0.1,\"#c51b7d\"],[0.2,\"#de77ae\"],[0.3,\"#f1b6da\"],[0.4,\"#fde0ef\"],[0.5,\"#f7f7f7\"],[0.6,\"#e6f5d0\"],[0.7,\"#b8e186\"],[0.8,\"#7fbc41\"],[0.9,\"#4d9221\"],[1,\"#276419\"]]},\"xaxis\":{\"gridcolor\":\"#EBF0F8\",\"linecolor\":\"#EBF0F8\",\"ticks\":\"\",\"title\":{\"standoff\":15},\"zerolinecolor\":\"#EBF0F8\",\"automargin\":true,\"zerolinewidth\":2},\"yaxis\":{\"gridcolor\":\"#EBF0F8\",\"linecolor\":\"#EBF0F8\",\"ticks\":\"\",\"title\":{\"standoff\":15},\"zerolinecolor\":\"#EBF0F8\",\"automargin\":true,\"zerolinewidth\":2},\"scene\":{\"xaxis\":{\"backgroundcolor\":\"white\",\"gridcolor\":\"#DFE8F3\",\"linecolor\":\"#EBF0F8\",\"showbackground\":true,\"ticks\":\"\",\"zerolinecolor\":\"#EBF0F8\",\"gridwidth\":2},\"yaxis\":{\"backgroundcolor\":\"white\",\"gridcolor\":\"#DFE8F3\",\"linecolor\":\"#EBF0F8\",\"showbackground\":true,\"ticks\":\"\",\"zerolinecolor\":\"#EBF0F8\",\"gridwidth\":2},\"zaxis\":{\"backgroundcolor\":\"white\",\"gridcolor\":\"#DFE8F3\",\"linecolor\":\"#EBF0F8\",\"showbackground\":true,\"ticks\":\"\",\"zerolinecolor\":\"#EBF0F8\",\"gridwidth\":2}},\"shapedefaults\":{\"line\":{\"color\":\"#2a3f5f\"}},\"annotationdefaults\":{\"arrowcolor\":\"#2a3f5f\",\"arrowhead\":0,\"arrowwidth\":1},\"geo\":{\"bgcolor\":\"white\",\"landcolor\":\"white\",\"subunitcolor\":\"#C8D4E3\",\"showland\":true,\"showlakes\":true,\"lakecolor\":\"white\"},\"title\":{\"x\":0.05},\"mapbox\":{\"style\":\"light\"}}},\"xaxis\":{\"title\":{\"text\":\"Content Type\"},\"tickangle\":0},\"title\":{\"text\":\"Total Viewership Hours by Content Type (2023)\"},\"yaxis\":{\"title\":{\"text\":\"Total Hours Viewed(in billons)\"}},\"height\":500,\"width\":800},                        {\"responsive\": true}                    ).then(function(){\n",
       "                            \n",
       "var gd = document.getElementById('c02bbe8c-c733-4c78-9a76-61e0424af3f5');\n",
       "var x = new MutationObserver(function (mutations, observer) {{\n",
       "        var display = window.getComputedStyle(gd).display;\n",
       "        if (!display || display === 'none') {{\n",
       "            console.log([gd, 'removed!']);\n",
       "            Plotly.purge(gd);\n",
       "            observer.disconnect();\n",
       "        }}\n",
       "}});\n",
       "\n",
       "// Listen for the removal of the full notebook cells\n",
       "var notebookContainer = gd.closest('#notebook-container');\n",
       "if (notebookContainer) {{\n",
       "    x.observe(notebookContainer, {childList: true});\n",
       "}}\n",
       "\n",
       "// Listen for the clearing of the current output cell\n",
       "var outputEl = gd.closest('.output');\n",
       "if (outputEl) {{\n",
       "    x.observe(outputEl, {childList: true});\n",
       "}}\n",
       "\n",
       "                        })                };                });            </script>        </div>"
      ]
     },
     "metadata": {},
     "output_type": "display_data"
    }
   ],
   "source": [
    "# aggregate viewership hours by content type\n",
    "content_type_viewership = df.groupby('Content Type')['Hours Viewed'].sum()\n",
    "\n",
    "fig = go.Figure(data=[\n",
    "    go.Bar(\n",
    "    x=content_type_viewership.index,\n",
    "    y=content_type_viewership.values,\n",
    "    marker_color=['skyblue','salmon'])\n",
    "])\n",
    "fig.update_layout(\n",
    "    title='Total Viewership Hours by Content Type (2023)',\n",
    "    xaxis_title='Content Type',\n",
    "    yaxis_title='Total Hours Viewed(in billons)',\n",
    "    xaxis_tickangle=0,\n",
    "    height=500,\n",
    "    width=800\n",
    ")\n",
    "\n",
    "fig.show()"
   ]
  },
  {
   "cell_type": "markdown",
   "id": "12efbb17",
   "metadata": {},
   "source": [
    "The visualization indicates that shows dominate the total viewership hours on Netflix in 2023 compared to movies. This suggests that Netflix’s content strategy leans heavily toward shows, as they tend to attract more watch hours overall."
   ]
  },
  {
   "cell_type": "markdown",
   "id": "1c2c957e",
   "metadata": {},
   "source": [
    "Next, let’s analyze the distribution of viewership across different languages to understand which languages are contributing the most to Netflix’s content consumption:"
   ]
  },
  {
   "cell_type": "code",
   "execution_count": 26,
   "id": "c87b003f",
   "metadata": {},
   "outputs": [
    {
     "data": {
      "application/vnd.plotly.v1+json": {
       "config": {
        "plotlyServerURL": "https://plot.ly"
       },
       "data": [
        {
         "marker": {
          "color": "yellow"
         },
         "type": "bar",
         "x": [
          "English",
          "Hindi",
          "Japanese",
          "Korean",
          "Non-English",
          "Russian"
         ],
         "y": [
          124441700000,
          926100000,
          7102000000,
          15378400000,
          10439100000,
          114600000
         ]
        }
       ],
       "layout": {
        "height": 600,
        "template": {
         "data": {
          "bar": [
           {
            "error_x": {
             "color": "#2a3f5f"
            },
            "error_y": {
             "color": "#2a3f5f"
            },
            "marker": {
             "line": {
              "color": "white",
              "width": 0.5
             },
             "pattern": {
              "fillmode": "overlay",
              "size": 10,
              "solidity": 0.2
             }
            },
            "type": "bar"
           }
          ],
          "barpolar": [
           {
            "marker": {
             "line": {
              "color": "white",
              "width": 0.5
             },
             "pattern": {
              "fillmode": "overlay",
              "size": 10,
              "solidity": 0.2
             }
            },
            "type": "barpolar"
           }
          ],
          "carpet": [
           {
            "aaxis": {
             "endlinecolor": "#2a3f5f",
             "gridcolor": "#C8D4E3",
             "linecolor": "#C8D4E3",
             "minorgridcolor": "#C8D4E3",
             "startlinecolor": "#2a3f5f"
            },
            "baxis": {
             "endlinecolor": "#2a3f5f",
             "gridcolor": "#C8D4E3",
             "linecolor": "#C8D4E3",
             "minorgridcolor": "#C8D4E3",
             "startlinecolor": "#2a3f5f"
            },
            "type": "carpet"
           }
          ],
          "choropleth": [
           {
            "colorbar": {
             "outlinewidth": 0,
             "ticks": ""
            },
            "type": "choropleth"
           }
          ],
          "contour": [
           {
            "colorbar": {
             "outlinewidth": 0,
             "ticks": ""
            },
            "colorscale": [
             [
              0,
              "#0d0887"
             ],
             [
              0.1111111111111111,
              "#46039f"
             ],
             [
              0.2222222222222222,
              "#7201a8"
             ],
             [
              0.3333333333333333,
              "#9c179e"
             ],
             [
              0.4444444444444444,
              "#bd3786"
             ],
             [
              0.5555555555555556,
              "#d8576b"
             ],
             [
              0.6666666666666666,
              "#ed7953"
             ],
             [
              0.7777777777777778,
              "#fb9f3a"
             ],
             [
              0.8888888888888888,
              "#fdca26"
             ],
             [
              1,
              "#f0f921"
             ]
            ],
            "type": "contour"
           }
          ],
          "contourcarpet": [
           {
            "colorbar": {
             "outlinewidth": 0,
             "ticks": ""
            },
            "type": "contourcarpet"
           }
          ],
          "heatmap": [
           {
            "colorbar": {
             "outlinewidth": 0,
             "ticks": ""
            },
            "colorscale": [
             [
              0,
              "#0d0887"
             ],
             [
              0.1111111111111111,
              "#46039f"
             ],
             [
              0.2222222222222222,
              "#7201a8"
             ],
             [
              0.3333333333333333,
              "#9c179e"
             ],
             [
              0.4444444444444444,
              "#bd3786"
             ],
             [
              0.5555555555555556,
              "#d8576b"
             ],
             [
              0.6666666666666666,
              "#ed7953"
             ],
             [
              0.7777777777777778,
              "#fb9f3a"
             ],
             [
              0.8888888888888888,
              "#fdca26"
             ],
             [
              1,
              "#f0f921"
             ]
            ],
            "type": "heatmap"
           }
          ],
          "heatmapgl": [
           {
            "colorbar": {
             "outlinewidth": 0,
             "ticks": ""
            },
            "colorscale": [
             [
              0,
              "#0d0887"
             ],
             [
              0.1111111111111111,
              "#46039f"
             ],
             [
              0.2222222222222222,
              "#7201a8"
             ],
             [
              0.3333333333333333,
              "#9c179e"
             ],
             [
              0.4444444444444444,
              "#bd3786"
             ],
             [
              0.5555555555555556,
              "#d8576b"
             ],
             [
              0.6666666666666666,
              "#ed7953"
             ],
             [
              0.7777777777777778,
              "#fb9f3a"
             ],
             [
              0.8888888888888888,
              "#fdca26"
             ],
             [
              1,
              "#f0f921"
             ]
            ],
            "type": "heatmapgl"
           }
          ],
          "histogram": [
           {
            "marker": {
             "pattern": {
              "fillmode": "overlay",
              "size": 10,
              "solidity": 0.2
             }
            },
            "type": "histogram"
           }
          ],
          "histogram2d": [
           {
            "colorbar": {
             "outlinewidth": 0,
             "ticks": ""
            },
            "colorscale": [
             [
              0,
              "#0d0887"
             ],
             [
              0.1111111111111111,
              "#46039f"
             ],
             [
              0.2222222222222222,
              "#7201a8"
             ],
             [
              0.3333333333333333,
              "#9c179e"
             ],
             [
              0.4444444444444444,
              "#bd3786"
             ],
             [
              0.5555555555555556,
              "#d8576b"
             ],
             [
              0.6666666666666666,
              "#ed7953"
             ],
             [
              0.7777777777777778,
              "#fb9f3a"
             ],
             [
              0.8888888888888888,
              "#fdca26"
             ],
             [
              1,
              "#f0f921"
             ]
            ],
            "type": "histogram2d"
           }
          ],
          "histogram2dcontour": [
           {
            "colorbar": {
             "outlinewidth": 0,
             "ticks": ""
            },
            "colorscale": [
             [
              0,
              "#0d0887"
             ],
             [
              0.1111111111111111,
              "#46039f"
             ],
             [
              0.2222222222222222,
              "#7201a8"
             ],
             [
              0.3333333333333333,
              "#9c179e"
             ],
             [
              0.4444444444444444,
              "#bd3786"
             ],
             [
              0.5555555555555556,
              "#d8576b"
             ],
             [
              0.6666666666666666,
              "#ed7953"
             ],
             [
              0.7777777777777778,
              "#fb9f3a"
             ],
             [
              0.8888888888888888,
              "#fdca26"
             ],
             [
              1,
              "#f0f921"
             ]
            ],
            "type": "histogram2dcontour"
           }
          ],
          "mesh3d": [
           {
            "colorbar": {
             "outlinewidth": 0,
             "ticks": ""
            },
            "type": "mesh3d"
           }
          ],
          "parcoords": [
           {
            "line": {
             "colorbar": {
              "outlinewidth": 0,
              "ticks": ""
             }
            },
            "type": "parcoords"
           }
          ],
          "pie": [
           {
            "automargin": true,
            "type": "pie"
           }
          ],
          "scatter": [
           {
            "fillpattern": {
             "fillmode": "overlay",
             "size": 10,
             "solidity": 0.2
            },
            "type": "scatter"
           }
          ],
          "scatter3d": [
           {
            "line": {
             "colorbar": {
              "outlinewidth": 0,
              "ticks": ""
             }
            },
            "marker": {
             "colorbar": {
              "outlinewidth": 0,
              "ticks": ""
             }
            },
            "type": "scatter3d"
           }
          ],
          "scattercarpet": [
           {
            "marker": {
             "colorbar": {
              "outlinewidth": 0,
              "ticks": ""
             }
            },
            "type": "scattercarpet"
           }
          ],
          "scattergeo": [
           {
            "marker": {
             "colorbar": {
              "outlinewidth": 0,
              "ticks": ""
             }
            },
            "type": "scattergeo"
           }
          ],
          "scattergl": [
           {
            "marker": {
             "colorbar": {
              "outlinewidth": 0,
              "ticks": ""
             }
            },
            "type": "scattergl"
           }
          ],
          "scattermapbox": [
           {
            "marker": {
             "colorbar": {
              "outlinewidth": 0,
              "ticks": ""
             }
            },
            "type": "scattermapbox"
           }
          ],
          "scatterpolar": [
           {
            "marker": {
             "colorbar": {
              "outlinewidth": 0,
              "ticks": ""
             }
            },
            "type": "scatterpolar"
           }
          ],
          "scatterpolargl": [
           {
            "marker": {
             "colorbar": {
              "outlinewidth": 0,
              "ticks": ""
             }
            },
            "type": "scatterpolargl"
           }
          ],
          "scatterternary": [
           {
            "marker": {
             "colorbar": {
              "outlinewidth": 0,
              "ticks": ""
             }
            },
            "type": "scatterternary"
           }
          ],
          "surface": [
           {
            "colorbar": {
             "outlinewidth": 0,
             "ticks": ""
            },
            "colorscale": [
             [
              0,
              "#0d0887"
             ],
             [
              0.1111111111111111,
              "#46039f"
             ],
             [
              0.2222222222222222,
              "#7201a8"
             ],
             [
              0.3333333333333333,
              "#9c179e"
             ],
             [
              0.4444444444444444,
              "#bd3786"
             ],
             [
              0.5555555555555556,
              "#d8576b"
             ],
             [
              0.6666666666666666,
              "#ed7953"
             ],
             [
              0.7777777777777778,
              "#fb9f3a"
             ],
             [
              0.8888888888888888,
              "#fdca26"
             ],
             [
              1,
              "#f0f921"
             ]
            ],
            "type": "surface"
           }
          ],
          "table": [
           {
            "cells": {
             "fill": {
              "color": "#EBF0F8"
             },
             "line": {
              "color": "white"
             }
            },
            "header": {
             "fill": {
              "color": "#C8D4E3"
             },
             "line": {
              "color": "white"
             }
            },
            "type": "table"
           }
          ]
         },
         "layout": {
          "annotationdefaults": {
           "arrowcolor": "#2a3f5f",
           "arrowhead": 0,
           "arrowwidth": 1
          },
          "autotypenumbers": "strict",
          "coloraxis": {
           "colorbar": {
            "outlinewidth": 0,
            "ticks": ""
           }
          },
          "colorscale": {
           "diverging": [
            [
             0,
             "#8e0152"
            ],
            [
             0.1,
             "#c51b7d"
            ],
            [
             0.2,
             "#de77ae"
            ],
            [
             0.3,
             "#f1b6da"
            ],
            [
             0.4,
             "#fde0ef"
            ],
            [
             0.5,
             "#f7f7f7"
            ],
            [
             0.6,
             "#e6f5d0"
            ],
            [
             0.7,
             "#b8e186"
            ],
            [
             0.8,
             "#7fbc41"
            ],
            [
             0.9,
             "#4d9221"
            ],
            [
             1,
             "#276419"
            ]
           ],
           "sequential": [
            [
             0,
             "#0d0887"
            ],
            [
             0.1111111111111111,
             "#46039f"
            ],
            [
             0.2222222222222222,
             "#7201a8"
            ],
            [
             0.3333333333333333,
             "#9c179e"
            ],
            [
             0.4444444444444444,
             "#bd3786"
            ],
            [
             0.5555555555555556,
             "#d8576b"
            ],
            [
             0.6666666666666666,
             "#ed7953"
            ],
            [
             0.7777777777777778,
             "#fb9f3a"
            ],
            [
             0.8888888888888888,
             "#fdca26"
            ],
            [
             1,
             "#f0f921"
            ]
           ],
           "sequentialminus": [
            [
             0,
             "#0d0887"
            ],
            [
             0.1111111111111111,
             "#46039f"
            ],
            [
             0.2222222222222222,
             "#7201a8"
            ],
            [
             0.3333333333333333,
             "#9c179e"
            ],
            [
             0.4444444444444444,
             "#bd3786"
            ],
            [
             0.5555555555555556,
             "#d8576b"
            ],
            [
             0.6666666666666666,
             "#ed7953"
            ],
            [
             0.7777777777777778,
             "#fb9f3a"
            ],
            [
             0.8888888888888888,
             "#fdca26"
            ],
            [
             1,
             "#f0f921"
            ]
           ]
          },
          "colorway": [
           "#636efa",
           "#EF553B",
           "#00cc96",
           "#ab63fa",
           "#FFA15A",
           "#19d3f3",
           "#FF6692",
           "#B6E880",
           "#FF97FF",
           "#FECB52"
          ],
          "font": {
           "color": "#2a3f5f"
          },
          "geo": {
           "bgcolor": "white",
           "lakecolor": "white",
           "landcolor": "white",
           "showlakes": true,
           "showland": true,
           "subunitcolor": "#C8D4E3"
          },
          "hoverlabel": {
           "align": "left"
          },
          "hovermode": "closest",
          "mapbox": {
           "style": "light"
          },
          "paper_bgcolor": "white",
          "plot_bgcolor": "white",
          "polar": {
           "angularaxis": {
            "gridcolor": "#EBF0F8",
            "linecolor": "#EBF0F8",
            "ticks": ""
           },
           "bgcolor": "white",
           "radialaxis": {
            "gridcolor": "#EBF0F8",
            "linecolor": "#EBF0F8",
            "ticks": ""
           }
          },
          "scene": {
           "xaxis": {
            "backgroundcolor": "white",
            "gridcolor": "#DFE8F3",
            "gridwidth": 2,
            "linecolor": "#EBF0F8",
            "showbackground": true,
            "ticks": "",
            "zerolinecolor": "#EBF0F8"
           },
           "yaxis": {
            "backgroundcolor": "white",
            "gridcolor": "#DFE8F3",
            "gridwidth": 2,
            "linecolor": "#EBF0F8",
            "showbackground": true,
            "ticks": "",
            "zerolinecolor": "#EBF0F8"
           },
           "zaxis": {
            "backgroundcolor": "white",
            "gridcolor": "#DFE8F3",
            "gridwidth": 2,
            "linecolor": "#EBF0F8",
            "showbackground": true,
            "ticks": "",
            "zerolinecolor": "#EBF0F8"
           }
          },
          "shapedefaults": {
           "line": {
            "color": "#2a3f5f"
           }
          },
          "ternary": {
           "aaxis": {
            "gridcolor": "#DFE8F3",
            "linecolor": "#A2B1C6",
            "ticks": ""
           },
           "baxis": {
            "gridcolor": "#DFE8F3",
            "linecolor": "#A2B1C6",
            "ticks": ""
           },
           "bgcolor": "white",
           "caxis": {
            "gridcolor": "#DFE8F3",
            "linecolor": "#A2B1C6",
            "ticks": ""
           }
          },
          "title": {
           "x": 0.05
          },
          "xaxis": {
           "automargin": true,
           "gridcolor": "#EBF0F8",
           "linecolor": "#EBF0F8",
           "ticks": "",
           "title": {
            "standoff": 15
           },
           "zerolinecolor": "#EBF0F8",
           "zerolinewidth": 2
          },
          "yaxis": {
           "automargin": true,
           "gridcolor": "#EBF0F8",
           "linecolor": "#EBF0F8",
           "ticks": "",
           "title": {
            "standoff": 15
           },
           "zerolinecolor": "#EBF0F8",
           "zerolinewidth": 2
          }
         }
        },
        "title": {
         "text": "Total Viewership Hours by Language (2023)"
        },
        "width": 800,
        "xaxis": {
         "tickangle": 45,
         "title": {
          "text": "Language"
         }
        },
        "yaxis": {
         "title": {
          "text": "Total Hours Viewed(in billons)"
         }
        }
       }
      },
      "text/html": [
       "<div>                            <div id=\"1f439e70-f52c-4f42-a26b-10e1f81e5980\" class=\"plotly-graph-div\" style=\"height:600px; width:800px;\"></div>            <script type=\"text/javascript\">                require([\"plotly\"], function(Plotly) {                    window.PLOTLYENV=window.PLOTLYENV || {};                                    if (document.getElementById(\"1f439e70-f52c-4f42-a26b-10e1f81e5980\")) {                    Plotly.newPlot(                        \"1f439e70-f52c-4f42-a26b-10e1f81e5980\",                        [{\"marker\":{\"color\":\"yellow\"},\"x\":[\"English\",\"Hindi\",\"Japanese\",\"Korean\",\"Non-English\",\"Russian\"],\"y\":[124441700000.0,926100000.0,7102000000.0,15378400000.0,10439100000.0,114600000.0],\"type\":\"bar\"}],                        {\"template\":{\"data\":{\"histogram2dcontour\":[{\"type\":\"histogram2dcontour\",\"colorbar\":{\"outlinewidth\":0,\"ticks\":\"\"},\"colorscale\":[[0.0,\"#0d0887\"],[0.1111111111111111,\"#46039f\"],[0.2222222222222222,\"#7201a8\"],[0.3333333333333333,\"#9c179e\"],[0.4444444444444444,\"#bd3786\"],[0.5555555555555556,\"#d8576b\"],[0.6666666666666666,\"#ed7953\"],[0.7777777777777778,\"#fb9f3a\"],[0.8888888888888888,\"#fdca26\"],[1.0,\"#f0f921\"]]}],\"choropleth\":[{\"type\":\"choropleth\",\"colorbar\":{\"outlinewidth\":0,\"ticks\":\"\"}}],\"histogram2d\":[{\"type\":\"histogram2d\",\"colorbar\":{\"outlinewidth\":0,\"ticks\":\"\"},\"colorscale\":[[0.0,\"#0d0887\"],[0.1111111111111111,\"#46039f\"],[0.2222222222222222,\"#7201a8\"],[0.3333333333333333,\"#9c179e\"],[0.4444444444444444,\"#bd3786\"],[0.5555555555555556,\"#d8576b\"],[0.6666666666666666,\"#ed7953\"],[0.7777777777777778,\"#fb9f3a\"],[0.8888888888888888,\"#fdca26\"],[1.0,\"#f0f921\"]]}],\"heatmap\":[{\"type\":\"heatmap\",\"colorbar\":{\"outlinewidth\":0,\"ticks\":\"\"},\"colorscale\":[[0.0,\"#0d0887\"],[0.1111111111111111,\"#46039f\"],[0.2222222222222222,\"#7201a8\"],[0.3333333333333333,\"#9c179e\"],[0.4444444444444444,\"#bd3786\"],[0.5555555555555556,\"#d8576b\"],[0.6666666666666666,\"#ed7953\"],[0.7777777777777778,\"#fb9f3a\"],[0.8888888888888888,\"#fdca26\"],[1.0,\"#f0f921\"]]}],\"heatmapgl\":[{\"type\":\"heatmapgl\",\"colorbar\":{\"outlinewidth\":0,\"ticks\":\"\"},\"colorscale\":[[0.0,\"#0d0887\"],[0.1111111111111111,\"#46039f\"],[0.2222222222222222,\"#7201a8\"],[0.3333333333333333,\"#9c179e\"],[0.4444444444444444,\"#bd3786\"],[0.5555555555555556,\"#d8576b\"],[0.6666666666666666,\"#ed7953\"],[0.7777777777777778,\"#fb9f3a\"],[0.8888888888888888,\"#fdca26\"],[1.0,\"#f0f921\"]]}],\"contourcarpet\":[{\"type\":\"contourcarpet\",\"colorbar\":{\"outlinewidth\":0,\"ticks\":\"\"}}],\"contour\":[{\"type\":\"contour\",\"colorbar\":{\"outlinewidth\":0,\"ticks\":\"\"},\"colorscale\":[[0.0,\"#0d0887\"],[0.1111111111111111,\"#46039f\"],[0.2222222222222222,\"#7201a8\"],[0.3333333333333333,\"#9c179e\"],[0.4444444444444444,\"#bd3786\"],[0.5555555555555556,\"#d8576b\"],[0.6666666666666666,\"#ed7953\"],[0.7777777777777778,\"#fb9f3a\"],[0.8888888888888888,\"#fdca26\"],[1.0,\"#f0f921\"]]}],\"surface\":[{\"type\":\"surface\",\"colorbar\":{\"outlinewidth\":0,\"ticks\":\"\"},\"colorscale\":[[0.0,\"#0d0887\"],[0.1111111111111111,\"#46039f\"],[0.2222222222222222,\"#7201a8\"],[0.3333333333333333,\"#9c179e\"],[0.4444444444444444,\"#bd3786\"],[0.5555555555555556,\"#d8576b\"],[0.6666666666666666,\"#ed7953\"],[0.7777777777777778,\"#fb9f3a\"],[0.8888888888888888,\"#fdca26\"],[1.0,\"#f0f921\"]]}],\"mesh3d\":[{\"type\":\"mesh3d\",\"colorbar\":{\"outlinewidth\":0,\"ticks\":\"\"}}],\"scatter\":[{\"fillpattern\":{\"fillmode\":\"overlay\",\"size\":10,\"solidity\":0.2},\"type\":\"scatter\"}],\"parcoords\":[{\"type\":\"parcoords\",\"line\":{\"colorbar\":{\"outlinewidth\":0,\"ticks\":\"\"}}}],\"scatterpolargl\":[{\"type\":\"scatterpolargl\",\"marker\":{\"colorbar\":{\"outlinewidth\":0,\"ticks\":\"\"}}}],\"bar\":[{\"error_x\":{\"color\":\"#2a3f5f\"},\"error_y\":{\"color\":\"#2a3f5f\"},\"marker\":{\"line\":{\"color\":\"white\",\"width\":0.5},\"pattern\":{\"fillmode\":\"overlay\",\"size\":10,\"solidity\":0.2}},\"type\":\"bar\"}],\"scattergeo\":[{\"type\":\"scattergeo\",\"marker\":{\"colorbar\":{\"outlinewidth\":0,\"ticks\":\"\"}}}],\"scatterpolar\":[{\"type\":\"scatterpolar\",\"marker\":{\"colorbar\":{\"outlinewidth\":0,\"ticks\":\"\"}}}],\"histogram\":[{\"marker\":{\"pattern\":{\"fillmode\":\"overlay\",\"size\":10,\"solidity\":0.2}},\"type\":\"histogram\"}],\"scattergl\":[{\"type\":\"scattergl\",\"marker\":{\"colorbar\":{\"outlinewidth\":0,\"ticks\":\"\"}}}],\"scatter3d\":[{\"type\":\"scatter3d\",\"line\":{\"colorbar\":{\"outlinewidth\":0,\"ticks\":\"\"}},\"marker\":{\"colorbar\":{\"outlinewidth\":0,\"ticks\":\"\"}}}],\"scattermapbox\":[{\"type\":\"scattermapbox\",\"marker\":{\"colorbar\":{\"outlinewidth\":0,\"ticks\":\"\"}}}],\"scatterternary\":[{\"type\":\"scatterternary\",\"marker\":{\"colorbar\":{\"outlinewidth\":0,\"ticks\":\"\"}}}],\"scattercarpet\":[{\"type\":\"scattercarpet\",\"marker\":{\"colorbar\":{\"outlinewidth\":0,\"ticks\":\"\"}}}],\"carpet\":[{\"aaxis\":{\"endlinecolor\":\"#2a3f5f\",\"gridcolor\":\"#C8D4E3\",\"linecolor\":\"#C8D4E3\",\"minorgridcolor\":\"#C8D4E3\",\"startlinecolor\":\"#2a3f5f\"},\"baxis\":{\"endlinecolor\":\"#2a3f5f\",\"gridcolor\":\"#C8D4E3\",\"linecolor\":\"#C8D4E3\",\"minorgridcolor\":\"#C8D4E3\",\"startlinecolor\":\"#2a3f5f\"},\"type\":\"carpet\"}],\"table\":[{\"cells\":{\"fill\":{\"color\":\"#EBF0F8\"},\"line\":{\"color\":\"white\"}},\"header\":{\"fill\":{\"color\":\"#C8D4E3\"},\"line\":{\"color\":\"white\"}},\"type\":\"table\"}],\"barpolar\":[{\"marker\":{\"line\":{\"color\":\"white\",\"width\":0.5},\"pattern\":{\"fillmode\":\"overlay\",\"size\":10,\"solidity\":0.2}},\"type\":\"barpolar\"}],\"pie\":[{\"automargin\":true,\"type\":\"pie\"}]},\"layout\":{\"autotypenumbers\":\"strict\",\"colorway\":[\"#636efa\",\"#EF553B\",\"#00cc96\",\"#ab63fa\",\"#FFA15A\",\"#19d3f3\",\"#FF6692\",\"#B6E880\",\"#FF97FF\",\"#FECB52\"],\"font\":{\"color\":\"#2a3f5f\"},\"hovermode\":\"closest\",\"hoverlabel\":{\"align\":\"left\"},\"paper_bgcolor\":\"white\",\"plot_bgcolor\":\"white\",\"polar\":{\"bgcolor\":\"white\",\"angularaxis\":{\"gridcolor\":\"#EBF0F8\",\"linecolor\":\"#EBF0F8\",\"ticks\":\"\"},\"radialaxis\":{\"gridcolor\":\"#EBF0F8\",\"linecolor\":\"#EBF0F8\",\"ticks\":\"\"}},\"ternary\":{\"bgcolor\":\"white\",\"aaxis\":{\"gridcolor\":\"#DFE8F3\",\"linecolor\":\"#A2B1C6\",\"ticks\":\"\"},\"baxis\":{\"gridcolor\":\"#DFE8F3\",\"linecolor\":\"#A2B1C6\",\"ticks\":\"\"},\"caxis\":{\"gridcolor\":\"#DFE8F3\",\"linecolor\":\"#A2B1C6\",\"ticks\":\"\"}},\"coloraxis\":{\"colorbar\":{\"outlinewidth\":0,\"ticks\":\"\"}},\"colorscale\":{\"sequential\":[[0.0,\"#0d0887\"],[0.1111111111111111,\"#46039f\"],[0.2222222222222222,\"#7201a8\"],[0.3333333333333333,\"#9c179e\"],[0.4444444444444444,\"#bd3786\"],[0.5555555555555556,\"#d8576b\"],[0.6666666666666666,\"#ed7953\"],[0.7777777777777778,\"#fb9f3a\"],[0.8888888888888888,\"#fdca26\"],[1.0,\"#f0f921\"]],\"sequentialminus\":[[0.0,\"#0d0887\"],[0.1111111111111111,\"#46039f\"],[0.2222222222222222,\"#7201a8\"],[0.3333333333333333,\"#9c179e\"],[0.4444444444444444,\"#bd3786\"],[0.5555555555555556,\"#d8576b\"],[0.6666666666666666,\"#ed7953\"],[0.7777777777777778,\"#fb9f3a\"],[0.8888888888888888,\"#fdca26\"],[1.0,\"#f0f921\"]],\"diverging\":[[0,\"#8e0152\"],[0.1,\"#c51b7d\"],[0.2,\"#de77ae\"],[0.3,\"#f1b6da\"],[0.4,\"#fde0ef\"],[0.5,\"#f7f7f7\"],[0.6,\"#e6f5d0\"],[0.7,\"#b8e186\"],[0.8,\"#7fbc41\"],[0.9,\"#4d9221\"],[1,\"#276419\"]]},\"xaxis\":{\"gridcolor\":\"#EBF0F8\",\"linecolor\":\"#EBF0F8\",\"ticks\":\"\",\"title\":{\"standoff\":15},\"zerolinecolor\":\"#EBF0F8\",\"automargin\":true,\"zerolinewidth\":2},\"yaxis\":{\"gridcolor\":\"#EBF0F8\",\"linecolor\":\"#EBF0F8\",\"ticks\":\"\",\"title\":{\"standoff\":15},\"zerolinecolor\":\"#EBF0F8\",\"automargin\":true,\"zerolinewidth\":2},\"scene\":{\"xaxis\":{\"backgroundcolor\":\"white\",\"gridcolor\":\"#DFE8F3\",\"linecolor\":\"#EBF0F8\",\"showbackground\":true,\"ticks\":\"\",\"zerolinecolor\":\"#EBF0F8\",\"gridwidth\":2},\"yaxis\":{\"backgroundcolor\":\"white\",\"gridcolor\":\"#DFE8F3\",\"linecolor\":\"#EBF0F8\",\"showbackground\":true,\"ticks\":\"\",\"zerolinecolor\":\"#EBF0F8\",\"gridwidth\":2},\"zaxis\":{\"backgroundcolor\":\"white\",\"gridcolor\":\"#DFE8F3\",\"linecolor\":\"#EBF0F8\",\"showbackground\":true,\"ticks\":\"\",\"zerolinecolor\":\"#EBF0F8\",\"gridwidth\":2}},\"shapedefaults\":{\"line\":{\"color\":\"#2a3f5f\"}},\"annotationdefaults\":{\"arrowcolor\":\"#2a3f5f\",\"arrowhead\":0,\"arrowwidth\":1},\"geo\":{\"bgcolor\":\"white\",\"landcolor\":\"white\",\"subunitcolor\":\"#C8D4E3\",\"showland\":true,\"showlakes\":true,\"lakecolor\":\"white\"},\"title\":{\"x\":0.05},\"mapbox\":{\"style\":\"light\"}}},\"xaxis\":{\"title\":{\"text\":\"Language\"},\"tickangle\":45},\"title\":{\"text\":\"Total Viewership Hours by Language (2023)\"},\"yaxis\":{\"title\":{\"text\":\"Total Hours Viewed(in billons)\"}},\"height\":600,\"width\":800},                        {\"responsive\": true}                    ).then(function(){\n",
       "                            \n",
       "var gd = document.getElementById('1f439e70-f52c-4f42-a26b-10e1f81e5980');\n",
       "var x = new MutationObserver(function (mutations, observer) {{\n",
       "        var display = window.getComputedStyle(gd).display;\n",
       "        if (!display || display === 'none') {{\n",
       "            console.log([gd, 'removed!']);\n",
       "            Plotly.purge(gd);\n",
       "            observer.disconnect();\n",
       "        }}\n",
       "}});\n",
       "\n",
       "// Listen for the removal of the full notebook cells\n",
       "var notebookContainer = gd.closest('#notebook-container');\n",
       "if (notebookContainer) {{\n",
       "    x.observe(notebookContainer, {childList: true});\n",
       "}}\n",
       "\n",
       "// Listen for the clearing of the current output cell\n",
       "var outputEl = gd.closest('.output');\n",
       "if (outputEl) {{\n",
       "    x.observe(outputEl, {childList: true});\n",
       "}}\n",
       "\n",
       "                        })                };                });            </script>        </div>"
      ]
     },
     "metadata": {},
     "output_type": "display_data"
    }
   ],
   "source": [
    "# aggregate viewership hours by language\n",
    "language_viewership=df.groupby('Language Indicator')['Hours Viewed'].sum()\n",
    "\n",
    "fig=go.Figure(data=[\n",
    "    go.Bar(\n",
    "    x=language_viewership.index,\n",
    "    y=language_viewership.values,\n",
    "    marker_color='yellow'\n",
    "    )\n",
    "])\n",
    "\n",
    "fig.update_layout(\n",
    "    title='Total Viewership Hours by Language (2023)',\n",
    "    xaxis_title='Language',\n",
    "    yaxis_title='Total Hours Viewed(in billons)',\n",
    "    xaxis_tickangle=45,\n",
    "    height=600,\n",
    "    width=800\n",
    ")\n",
    "\n",
    "fig.show()"
   ]
  },
  {
   "cell_type": "markdown",
   "id": "f774169f",
   "metadata": {},
   "source": [
    "The visualization reveals that English-language content significantly dominates Netflix’s viewership, followed by other languages like Korean. It indicates that Netflix’s primary audience is consuming English content, although non-English shows and movies also have a considerable viewership share, which shows a diverse content strategy."
   ]
  },
  {
   "cell_type": "markdown",
   "id": "9ad36df8",
   "metadata": {},
   "source": [
    "Next, I’ll analyze how viewership varies based on release dates to identify any trends over time, such as seasonality or patterns around specific months:"
   ]
  },
  {
   "cell_type": "code",
   "execution_count": 43,
   "id": "ae69d952",
   "metadata": {},
   "outputs": [
    {
     "data": {
      "application/vnd.plotly.v1+json": {
       "config": {
        "plotlyServerURL": "https://plot.ly"
       },
       "data": [
        {
         "line": {
          "color": "blue"
         },
         "marker": {
          "color": "blue"
         },
         "mode": "lines+markers",
         "type": "scatter",
         "x": [
          1,
          2,
          3,
          4,
          5,
          6,
          7,
          8,
          9,
          10,
          11,
          12
         ],
         "y": [
          7271600000,
          7103700000,
          7437100000,
          6865700000,
          7094600000,
          8522000000,
          6524800000,
          6817800000,
          7262200000,
          8123200000,
          7749500000,
          10055800000
         ]
        }
       ],
       "layout": {
        "height": 500,
        "template": {
         "data": {
          "bar": [
           {
            "error_x": {
             "color": "#2a3f5f"
            },
            "error_y": {
             "color": "#2a3f5f"
            },
            "marker": {
             "line": {
              "color": "white",
              "width": 0.5
             },
             "pattern": {
              "fillmode": "overlay",
              "size": 10,
              "solidity": 0.2
             }
            },
            "type": "bar"
           }
          ],
          "barpolar": [
           {
            "marker": {
             "line": {
              "color": "white",
              "width": 0.5
             },
             "pattern": {
              "fillmode": "overlay",
              "size": 10,
              "solidity": 0.2
             }
            },
            "type": "barpolar"
           }
          ],
          "carpet": [
           {
            "aaxis": {
             "endlinecolor": "#2a3f5f",
             "gridcolor": "#C8D4E3",
             "linecolor": "#C8D4E3",
             "minorgridcolor": "#C8D4E3",
             "startlinecolor": "#2a3f5f"
            },
            "baxis": {
             "endlinecolor": "#2a3f5f",
             "gridcolor": "#C8D4E3",
             "linecolor": "#C8D4E3",
             "minorgridcolor": "#C8D4E3",
             "startlinecolor": "#2a3f5f"
            },
            "type": "carpet"
           }
          ],
          "choropleth": [
           {
            "colorbar": {
             "outlinewidth": 0,
             "ticks": ""
            },
            "type": "choropleth"
           }
          ],
          "contour": [
           {
            "colorbar": {
             "outlinewidth": 0,
             "ticks": ""
            },
            "colorscale": [
             [
              0,
              "#0d0887"
             ],
             [
              0.1111111111111111,
              "#46039f"
             ],
             [
              0.2222222222222222,
              "#7201a8"
             ],
             [
              0.3333333333333333,
              "#9c179e"
             ],
             [
              0.4444444444444444,
              "#bd3786"
             ],
             [
              0.5555555555555556,
              "#d8576b"
             ],
             [
              0.6666666666666666,
              "#ed7953"
             ],
             [
              0.7777777777777778,
              "#fb9f3a"
             ],
             [
              0.8888888888888888,
              "#fdca26"
             ],
             [
              1,
              "#f0f921"
             ]
            ],
            "type": "contour"
           }
          ],
          "contourcarpet": [
           {
            "colorbar": {
             "outlinewidth": 0,
             "ticks": ""
            },
            "type": "contourcarpet"
           }
          ],
          "heatmap": [
           {
            "colorbar": {
             "outlinewidth": 0,
             "ticks": ""
            },
            "colorscale": [
             [
              0,
              "#0d0887"
             ],
             [
              0.1111111111111111,
              "#46039f"
             ],
             [
              0.2222222222222222,
              "#7201a8"
             ],
             [
              0.3333333333333333,
              "#9c179e"
             ],
             [
              0.4444444444444444,
              "#bd3786"
             ],
             [
              0.5555555555555556,
              "#d8576b"
             ],
             [
              0.6666666666666666,
              "#ed7953"
             ],
             [
              0.7777777777777778,
              "#fb9f3a"
             ],
             [
              0.8888888888888888,
              "#fdca26"
             ],
             [
              1,
              "#f0f921"
             ]
            ],
            "type": "heatmap"
           }
          ],
          "heatmapgl": [
           {
            "colorbar": {
             "outlinewidth": 0,
             "ticks": ""
            },
            "colorscale": [
             [
              0,
              "#0d0887"
             ],
             [
              0.1111111111111111,
              "#46039f"
             ],
             [
              0.2222222222222222,
              "#7201a8"
             ],
             [
              0.3333333333333333,
              "#9c179e"
             ],
             [
              0.4444444444444444,
              "#bd3786"
             ],
             [
              0.5555555555555556,
              "#d8576b"
             ],
             [
              0.6666666666666666,
              "#ed7953"
             ],
             [
              0.7777777777777778,
              "#fb9f3a"
             ],
             [
              0.8888888888888888,
              "#fdca26"
             ],
             [
              1,
              "#f0f921"
             ]
            ],
            "type": "heatmapgl"
           }
          ],
          "histogram": [
           {
            "marker": {
             "pattern": {
              "fillmode": "overlay",
              "size": 10,
              "solidity": 0.2
             }
            },
            "type": "histogram"
           }
          ],
          "histogram2d": [
           {
            "colorbar": {
             "outlinewidth": 0,
             "ticks": ""
            },
            "colorscale": [
             [
              0,
              "#0d0887"
             ],
             [
              0.1111111111111111,
              "#46039f"
             ],
             [
              0.2222222222222222,
              "#7201a8"
             ],
             [
              0.3333333333333333,
              "#9c179e"
             ],
             [
              0.4444444444444444,
              "#bd3786"
             ],
             [
              0.5555555555555556,
              "#d8576b"
             ],
             [
              0.6666666666666666,
              "#ed7953"
             ],
             [
              0.7777777777777778,
              "#fb9f3a"
             ],
             [
              0.8888888888888888,
              "#fdca26"
             ],
             [
              1,
              "#f0f921"
             ]
            ],
            "type": "histogram2d"
           }
          ],
          "histogram2dcontour": [
           {
            "colorbar": {
             "outlinewidth": 0,
             "ticks": ""
            },
            "colorscale": [
             [
              0,
              "#0d0887"
             ],
             [
              0.1111111111111111,
              "#46039f"
             ],
             [
              0.2222222222222222,
              "#7201a8"
             ],
             [
              0.3333333333333333,
              "#9c179e"
             ],
             [
              0.4444444444444444,
              "#bd3786"
             ],
             [
              0.5555555555555556,
              "#d8576b"
             ],
             [
              0.6666666666666666,
              "#ed7953"
             ],
             [
              0.7777777777777778,
              "#fb9f3a"
             ],
             [
              0.8888888888888888,
              "#fdca26"
             ],
             [
              1,
              "#f0f921"
             ]
            ],
            "type": "histogram2dcontour"
           }
          ],
          "mesh3d": [
           {
            "colorbar": {
             "outlinewidth": 0,
             "ticks": ""
            },
            "type": "mesh3d"
           }
          ],
          "parcoords": [
           {
            "line": {
             "colorbar": {
              "outlinewidth": 0,
              "ticks": ""
             }
            },
            "type": "parcoords"
           }
          ],
          "pie": [
           {
            "automargin": true,
            "type": "pie"
           }
          ],
          "scatter": [
           {
            "fillpattern": {
             "fillmode": "overlay",
             "size": 10,
             "solidity": 0.2
            },
            "type": "scatter"
           }
          ],
          "scatter3d": [
           {
            "line": {
             "colorbar": {
              "outlinewidth": 0,
              "ticks": ""
             }
            },
            "marker": {
             "colorbar": {
              "outlinewidth": 0,
              "ticks": ""
             }
            },
            "type": "scatter3d"
           }
          ],
          "scattercarpet": [
           {
            "marker": {
             "colorbar": {
              "outlinewidth": 0,
              "ticks": ""
             }
            },
            "type": "scattercarpet"
           }
          ],
          "scattergeo": [
           {
            "marker": {
             "colorbar": {
              "outlinewidth": 0,
              "ticks": ""
             }
            },
            "type": "scattergeo"
           }
          ],
          "scattergl": [
           {
            "marker": {
             "colorbar": {
              "outlinewidth": 0,
              "ticks": ""
             }
            },
            "type": "scattergl"
           }
          ],
          "scattermapbox": [
           {
            "marker": {
             "colorbar": {
              "outlinewidth": 0,
              "ticks": ""
             }
            },
            "type": "scattermapbox"
           }
          ],
          "scatterpolar": [
           {
            "marker": {
             "colorbar": {
              "outlinewidth": 0,
              "ticks": ""
             }
            },
            "type": "scatterpolar"
           }
          ],
          "scatterpolargl": [
           {
            "marker": {
             "colorbar": {
              "outlinewidth": 0,
              "ticks": ""
             }
            },
            "type": "scatterpolargl"
           }
          ],
          "scatterternary": [
           {
            "marker": {
             "colorbar": {
              "outlinewidth": 0,
              "ticks": ""
             }
            },
            "type": "scatterternary"
           }
          ],
          "surface": [
           {
            "colorbar": {
             "outlinewidth": 0,
             "ticks": ""
            },
            "colorscale": [
             [
              0,
              "#0d0887"
             ],
             [
              0.1111111111111111,
              "#46039f"
             ],
             [
              0.2222222222222222,
              "#7201a8"
             ],
             [
              0.3333333333333333,
              "#9c179e"
             ],
             [
              0.4444444444444444,
              "#bd3786"
             ],
             [
              0.5555555555555556,
              "#d8576b"
             ],
             [
              0.6666666666666666,
              "#ed7953"
             ],
             [
              0.7777777777777778,
              "#fb9f3a"
             ],
             [
              0.8888888888888888,
              "#fdca26"
             ],
             [
              1,
              "#f0f921"
             ]
            ],
            "type": "surface"
           }
          ],
          "table": [
           {
            "cells": {
             "fill": {
              "color": "#EBF0F8"
             },
             "line": {
              "color": "white"
             }
            },
            "header": {
             "fill": {
              "color": "#C8D4E3"
             },
             "line": {
              "color": "white"
             }
            },
            "type": "table"
           }
          ]
         },
         "layout": {
          "annotationdefaults": {
           "arrowcolor": "#2a3f5f",
           "arrowhead": 0,
           "arrowwidth": 1
          },
          "autotypenumbers": "strict",
          "coloraxis": {
           "colorbar": {
            "outlinewidth": 0,
            "ticks": ""
           }
          },
          "colorscale": {
           "diverging": [
            [
             0,
             "#8e0152"
            ],
            [
             0.1,
             "#c51b7d"
            ],
            [
             0.2,
             "#de77ae"
            ],
            [
             0.3,
             "#f1b6da"
            ],
            [
             0.4,
             "#fde0ef"
            ],
            [
             0.5,
             "#f7f7f7"
            ],
            [
             0.6,
             "#e6f5d0"
            ],
            [
             0.7,
             "#b8e186"
            ],
            [
             0.8,
             "#7fbc41"
            ],
            [
             0.9,
             "#4d9221"
            ],
            [
             1,
             "#276419"
            ]
           ],
           "sequential": [
            [
             0,
             "#0d0887"
            ],
            [
             0.1111111111111111,
             "#46039f"
            ],
            [
             0.2222222222222222,
             "#7201a8"
            ],
            [
             0.3333333333333333,
             "#9c179e"
            ],
            [
             0.4444444444444444,
             "#bd3786"
            ],
            [
             0.5555555555555556,
             "#d8576b"
            ],
            [
             0.6666666666666666,
             "#ed7953"
            ],
            [
             0.7777777777777778,
             "#fb9f3a"
            ],
            [
             0.8888888888888888,
             "#fdca26"
            ],
            [
             1,
             "#f0f921"
            ]
           ],
           "sequentialminus": [
            [
             0,
             "#0d0887"
            ],
            [
             0.1111111111111111,
             "#46039f"
            ],
            [
             0.2222222222222222,
             "#7201a8"
            ],
            [
             0.3333333333333333,
             "#9c179e"
            ],
            [
             0.4444444444444444,
             "#bd3786"
            ],
            [
             0.5555555555555556,
             "#d8576b"
            ],
            [
             0.6666666666666666,
             "#ed7953"
            ],
            [
             0.7777777777777778,
             "#fb9f3a"
            ],
            [
             0.8888888888888888,
             "#fdca26"
            ],
            [
             1,
             "#f0f921"
            ]
           ]
          },
          "colorway": [
           "#636efa",
           "#EF553B",
           "#00cc96",
           "#ab63fa",
           "#FFA15A",
           "#19d3f3",
           "#FF6692",
           "#B6E880",
           "#FF97FF",
           "#FECB52"
          ],
          "font": {
           "color": "#2a3f5f"
          },
          "geo": {
           "bgcolor": "white",
           "lakecolor": "white",
           "landcolor": "white",
           "showlakes": true,
           "showland": true,
           "subunitcolor": "#C8D4E3"
          },
          "hoverlabel": {
           "align": "left"
          },
          "hovermode": "closest",
          "mapbox": {
           "style": "light"
          },
          "paper_bgcolor": "white",
          "plot_bgcolor": "white",
          "polar": {
           "angularaxis": {
            "gridcolor": "#EBF0F8",
            "linecolor": "#EBF0F8",
            "ticks": ""
           },
           "bgcolor": "white",
           "radialaxis": {
            "gridcolor": "#EBF0F8",
            "linecolor": "#EBF0F8",
            "ticks": ""
           }
          },
          "scene": {
           "xaxis": {
            "backgroundcolor": "white",
            "gridcolor": "#DFE8F3",
            "gridwidth": 2,
            "linecolor": "#EBF0F8",
            "showbackground": true,
            "ticks": "",
            "zerolinecolor": "#EBF0F8"
           },
           "yaxis": {
            "backgroundcolor": "white",
            "gridcolor": "#DFE8F3",
            "gridwidth": 2,
            "linecolor": "#EBF0F8",
            "showbackground": true,
            "ticks": "",
            "zerolinecolor": "#EBF0F8"
           },
           "zaxis": {
            "backgroundcolor": "white",
            "gridcolor": "#DFE8F3",
            "gridwidth": 2,
            "linecolor": "#EBF0F8",
            "showbackground": true,
            "ticks": "",
            "zerolinecolor": "#EBF0F8"
           }
          },
          "shapedefaults": {
           "line": {
            "color": "#2a3f5f"
           }
          },
          "ternary": {
           "aaxis": {
            "gridcolor": "#DFE8F3",
            "linecolor": "#A2B1C6",
            "ticks": ""
           },
           "baxis": {
            "gridcolor": "#DFE8F3",
            "linecolor": "#A2B1C6",
            "ticks": ""
           },
           "bgcolor": "white",
           "caxis": {
            "gridcolor": "#DFE8F3",
            "linecolor": "#A2B1C6",
            "ticks": ""
           }
          },
          "title": {
           "x": 0.05
          },
          "xaxis": {
           "automargin": true,
           "gridcolor": "#EBF0F8",
           "linecolor": "#EBF0F8",
           "ticks": "",
           "title": {
            "standoff": 15
           },
           "zerolinecolor": "#EBF0F8",
           "zerolinewidth": 2
          },
          "yaxis": {
           "automargin": true,
           "gridcolor": "#EBF0F8",
           "linecolor": "#EBF0F8",
           "ticks": "",
           "title": {
            "standoff": 15
           },
           "zerolinecolor": "#EBF0F8",
           "zerolinewidth": 2
          }
         }
        },
        "title": {
         "text": "Total Viewership Hours by Release Month (2023)"
        },
        "width": 800,
        "xaxis": {
         "tickangle": 90,
         "tickmode": "array",
         "ticktext": [
          "Jan",
          "Feb",
          "Mar",
          "Apr",
          "May",
          "Jun",
          "Jul",
          "Aug",
          "Sep",
          "Oct",
          "Nov",
          "Dec"
         ],
         "tickvals": [
          1,
          2,
          3,
          4,
          5,
          6,
          7,
          8,
          9,
          10,
          11,
          12
         ],
         "title": {
          "text": "Total Hours Viewed (in billions)"
         }
        },
        "yaxis": {
         "title": {
          "text": "Month"
         }
        }
       }
      },
      "text/html": [
       "<div>                            <div id=\"7e1190f5-14b7-42a5-8346-a8eddc100dbb\" class=\"plotly-graph-div\" style=\"height:500px; width:800px;\"></div>            <script type=\"text/javascript\">                require([\"plotly\"], function(Plotly) {                    window.PLOTLYENV=window.PLOTLYENV || {};                                    if (document.getElementById(\"7e1190f5-14b7-42a5-8346-a8eddc100dbb\")) {                    Plotly.newPlot(                        \"7e1190f5-14b7-42a5-8346-a8eddc100dbb\",                        [{\"line\":{\"color\":\"blue\"},\"marker\":{\"color\":\"blue\"},\"mode\":\"lines+markers\",\"x\":[1.0,2.0,3.0,4.0,5.0,6.0,7.0,8.0,9.0,10.0,11.0,12.0],\"y\":[7271600000.0,7103700000.0,7437100000.0,6865700000.0,7094600000.0,8522000000.0,6524800000.0,6817800000.0,7262200000.0,8123200000.0,7749500000.0,10055800000.0],\"type\":\"scatter\"}],                        {\"template\":{\"data\":{\"histogram2dcontour\":[{\"type\":\"histogram2dcontour\",\"colorbar\":{\"outlinewidth\":0,\"ticks\":\"\"},\"colorscale\":[[0.0,\"#0d0887\"],[0.1111111111111111,\"#46039f\"],[0.2222222222222222,\"#7201a8\"],[0.3333333333333333,\"#9c179e\"],[0.4444444444444444,\"#bd3786\"],[0.5555555555555556,\"#d8576b\"],[0.6666666666666666,\"#ed7953\"],[0.7777777777777778,\"#fb9f3a\"],[0.8888888888888888,\"#fdca26\"],[1.0,\"#f0f921\"]]}],\"choropleth\":[{\"type\":\"choropleth\",\"colorbar\":{\"outlinewidth\":0,\"ticks\":\"\"}}],\"histogram2d\":[{\"type\":\"histogram2d\",\"colorbar\":{\"outlinewidth\":0,\"ticks\":\"\"},\"colorscale\":[[0.0,\"#0d0887\"],[0.1111111111111111,\"#46039f\"],[0.2222222222222222,\"#7201a8\"],[0.3333333333333333,\"#9c179e\"],[0.4444444444444444,\"#bd3786\"],[0.5555555555555556,\"#d8576b\"],[0.6666666666666666,\"#ed7953\"],[0.7777777777777778,\"#fb9f3a\"],[0.8888888888888888,\"#fdca26\"],[1.0,\"#f0f921\"]]}],\"heatmap\":[{\"type\":\"heatmap\",\"colorbar\":{\"outlinewidth\":0,\"ticks\":\"\"},\"colorscale\":[[0.0,\"#0d0887\"],[0.1111111111111111,\"#46039f\"],[0.2222222222222222,\"#7201a8\"],[0.3333333333333333,\"#9c179e\"],[0.4444444444444444,\"#bd3786\"],[0.5555555555555556,\"#d8576b\"],[0.6666666666666666,\"#ed7953\"],[0.7777777777777778,\"#fb9f3a\"],[0.8888888888888888,\"#fdca26\"],[1.0,\"#f0f921\"]]}],\"heatmapgl\":[{\"type\":\"heatmapgl\",\"colorbar\":{\"outlinewidth\":0,\"ticks\":\"\"},\"colorscale\":[[0.0,\"#0d0887\"],[0.1111111111111111,\"#46039f\"],[0.2222222222222222,\"#7201a8\"],[0.3333333333333333,\"#9c179e\"],[0.4444444444444444,\"#bd3786\"],[0.5555555555555556,\"#d8576b\"],[0.6666666666666666,\"#ed7953\"],[0.7777777777777778,\"#fb9f3a\"],[0.8888888888888888,\"#fdca26\"],[1.0,\"#f0f921\"]]}],\"contourcarpet\":[{\"type\":\"contourcarpet\",\"colorbar\":{\"outlinewidth\":0,\"ticks\":\"\"}}],\"contour\":[{\"type\":\"contour\",\"colorbar\":{\"outlinewidth\":0,\"ticks\":\"\"},\"colorscale\":[[0.0,\"#0d0887\"],[0.1111111111111111,\"#46039f\"],[0.2222222222222222,\"#7201a8\"],[0.3333333333333333,\"#9c179e\"],[0.4444444444444444,\"#bd3786\"],[0.5555555555555556,\"#d8576b\"],[0.6666666666666666,\"#ed7953\"],[0.7777777777777778,\"#fb9f3a\"],[0.8888888888888888,\"#fdca26\"],[1.0,\"#f0f921\"]]}],\"surface\":[{\"type\":\"surface\",\"colorbar\":{\"outlinewidth\":0,\"ticks\":\"\"},\"colorscale\":[[0.0,\"#0d0887\"],[0.1111111111111111,\"#46039f\"],[0.2222222222222222,\"#7201a8\"],[0.3333333333333333,\"#9c179e\"],[0.4444444444444444,\"#bd3786\"],[0.5555555555555556,\"#d8576b\"],[0.6666666666666666,\"#ed7953\"],[0.7777777777777778,\"#fb9f3a\"],[0.8888888888888888,\"#fdca26\"],[1.0,\"#f0f921\"]]}],\"mesh3d\":[{\"type\":\"mesh3d\",\"colorbar\":{\"outlinewidth\":0,\"ticks\":\"\"}}],\"scatter\":[{\"fillpattern\":{\"fillmode\":\"overlay\",\"size\":10,\"solidity\":0.2},\"type\":\"scatter\"}],\"parcoords\":[{\"type\":\"parcoords\",\"line\":{\"colorbar\":{\"outlinewidth\":0,\"ticks\":\"\"}}}],\"scatterpolargl\":[{\"type\":\"scatterpolargl\",\"marker\":{\"colorbar\":{\"outlinewidth\":0,\"ticks\":\"\"}}}],\"bar\":[{\"error_x\":{\"color\":\"#2a3f5f\"},\"error_y\":{\"color\":\"#2a3f5f\"},\"marker\":{\"line\":{\"color\":\"white\",\"width\":0.5},\"pattern\":{\"fillmode\":\"overlay\",\"size\":10,\"solidity\":0.2}},\"type\":\"bar\"}],\"scattergeo\":[{\"type\":\"scattergeo\",\"marker\":{\"colorbar\":{\"outlinewidth\":0,\"ticks\":\"\"}}}],\"scatterpolar\":[{\"type\":\"scatterpolar\",\"marker\":{\"colorbar\":{\"outlinewidth\":0,\"ticks\":\"\"}}}],\"histogram\":[{\"marker\":{\"pattern\":{\"fillmode\":\"overlay\",\"size\":10,\"solidity\":0.2}},\"type\":\"histogram\"}],\"scattergl\":[{\"type\":\"scattergl\",\"marker\":{\"colorbar\":{\"outlinewidth\":0,\"ticks\":\"\"}}}],\"scatter3d\":[{\"type\":\"scatter3d\",\"line\":{\"colorbar\":{\"outlinewidth\":0,\"ticks\":\"\"}},\"marker\":{\"colorbar\":{\"outlinewidth\":0,\"ticks\":\"\"}}}],\"scattermapbox\":[{\"type\":\"scattermapbox\",\"marker\":{\"colorbar\":{\"outlinewidth\":0,\"ticks\":\"\"}}}],\"scatterternary\":[{\"type\":\"scatterternary\",\"marker\":{\"colorbar\":{\"outlinewidth\":0,\"ticks\":\"\"}}}],\"scattercarpet\":[{\"type\":\"scattercarpet\",\"marker\":{\"colorbar\":{\"outlinewidth\":0,\"ticks\":\"\"}}}],\"carpet\":[{\"aaxis\":{\"endlinecolor\":\"#2a3f5f\",\"gridcolor\":\"#C8D4E3\",\"linecolor\":\"#C8D4E3\",\"minorgridcolor\":\"#C8D4E3\",\"startlinecolor\":\"#2a3f5f\"},\"baxis\":{\"endlinecolor\":\"#2a3f5f\",\"gridcolor\":\"#C8D4E3\",\"linecolor\":\"#C8D4E3\",\"minorgridcolor\":\"#C8D4E3\",\"startlinecolor\":\"#2a3f5f\"},\"type\":\"carpet\"}],\"table\":[{\"cells\":{\"fill\":{\"color\":\"#EBF0F8\"},\"line\":{\"color\":\"white\"}},\"header\":{\"fill\":{\"color\":\"#C8D4E3\"},\"line\":{\"color\":\"white\"}},\"type\":\"table\"}],\"barpolar\":[{\"marker\":{\"line\":{\"color\":\"white\",\"width\":0.5},\"pattern\":{\"fillmode\":\"overlay\",\"size\":10,\"solidity\":0.2}},\"type\":\"barpolar\"}],\"pie\":[{\"automargin\":true,\"type\":\"pie\"}]},\"layout\":{\"autotypenumbers\":\"strict\",\"colorway\":[\"#636efa\",\"#EF553B\",\"#00cc96\",\"#ab63fa\",\"#FFA15A\",\"#19d3f3\",\"#FF6692\",\"#B6E880\",\"#FF97FF\",\"#FECB52\"],\"font\":{\"color\":\"#2a3f5f\"},\"hovermode\":\"closest\",\"hoverlabel\":{\"align\":\"left\"},\"paper_bgcolor\":\"white\",\"plot_bgcolor\":\"white\",\"polar\":{\"bgcolor\":\"white\",\"angularaxis\":{\"gridcolor\":\"#EBF0F8\",\"linecolor\":\"#EBF0F8\",\"ticks\":\"\"},\"radialaxis\":{\"gridcolor\":\"#EBF0F8\",\"linecolor\":\"#EBF0F8\",\"ticks\":\"\"}},\"ternary\":{\"bgcolor\":\"white\",\"aaxis\":{\"gridcolor\":\"#DFE8F3\",\"linecolor\":\"#A2B1C6\",\"ticks\":\"\"},\"baxis\":{\"gridcolor\":\"#DFE8F3\",\"linecolor\":\"#A2B1C6\",\"ticks\":\"\"},\"caxis\":{\"gridcolor\":\"#DFE8F3\",\"linecolor\":\"#A2B1C6\",\"ticks\":\"\"}},\"coloraxis\":{\"colorbar\":{\"outlinewidth\":0,\"ticks\":\"\"}},\"colorscale\":{\"sequential\":[[0.0,\"#0d0887\"],[0.1111111111111111,\"#46039f\"],[0.2222222222222222,\"#7201a8\"],[0.3333333333333333,\"#9c179e\"],[0.4444444444444444,\"#bd3786\"],[0.5555555555555556,\"#d8576b\"],[0.6666666666666666,\"#ed7953\"],[0.7777777777777778,\"#fb9f3a\"],[0.8888888888888888,\"#fdca26\"],[1.0,\"#f0f921\"]],\"sequentialminus\":[[0.0,\"#0d0887\"],[0.1111111111111111,\"#46039f\"],[0.2222222222222222,\"#7201a8\"],[0.3333333333333333,\"#9c179e\"],[0.4444444444444444,\"#bd3786\"],[0.5555555555555556,\"#d8576b\"],[0.6666666666666666,\"#ed7953\"],[0.7777777777777778,\"#fb9f3a\"],[0.8888888888888888,\"#fdca26\"],[1.0,\"#f0f921\"]],\"diverging\":[[0,\"#8e0152\"],[0.1,\"#c51b7d\"],[0.2,\"#de77ae\"],[0.3,\"#f1b6da\"],[0.4,\"#fde0ef\"],[0.5,\"#f7f7f7\"],[0.6,\"#e6f5d0\"],[0.7,\"#b8e186\"],[0.8,\"#7fbc41\"],[0.9,\"#4d9221\"],[1,\"#276419\"]]},\"xaxis\":{\"gridcolor\":\"#EBF0F8\",\"linecolor\":\"#EBF0F8\",\"ticks\":\"\",\"title\":{\"standoff\":15},\"zerolinecolor\":\"#EBF0F8\",\"automargin\":true,\"zerolinewidth\":2},\"yaxis\":{\"gridcolor\":\"#EBF0F8\",\"linecolor\":\"#EBF0F8\",\"ticks\":\"\",\"title\":{\"standoff\":15},\"zerolinecolor\":\"#EBF0F8\",\"automargin\":true,\"zerolinewidth\":2},\"scene\":{\"xaxis\":{\"backgroundcolor\":\"white\",\"gridcolor\":\"#DFE8F3\",\"linecolor\":\"#EBF0F8\",\"showbackground\":true,\"ticks\":\"\",\"zerolinecolor\":\"#EBF0F8\",\"gridwidth\":2},\"yaxis\":{\"backgroundcolor\":\"white\",\"gridcolor\":\"#DFE8F3\",\"linecolor\":\"#EBF0F8\",\"showbackground\":true,\"ticks\":\"\",\"zerolinecolor\":\"#EBF0F8\",\"gridwidth\":2},\"zaxis\":{\"backgroundcolor\":\"white\",\"gridcolor\":\"#DFE8F3\",\"linecolor\":\"#EBF0F8\",\"showbackground\":true,\"ticks\":\"\",\"zerolinecolor\":\"#EBF0F8\",\"gridwidth\":2}},\"shapedefaults\":{\"line\":{\"color\":\"#2a3f5f\"}},\"annotationdefaults\":{\"arrowcolor\":\"#2a3f5f\",\"arrowhead\":0,\"arrowwidth\":1},\"geo\":{\"bgcolor\":\"white\",\"landcolor\":\"white\",\"subunitcolor\":\"#C8D4E3\",\"showland\":true,\"showlakes\":true,\"lakecolor\":\"white\"},\"title\":{\"x\":0.05},\"mapbox\":{\"style\":\"light\"}}},\"xaxis\":{\"title\":{\"text\":\"Total Hours Viewed (in billions)\"},\"tickmode\":\"array\",\"tickvals\":[1,2,3,4,5,6,7,8,9,10,11,12],\"ticktext\":[\"Jan\",\"Feb\",\"Mar\",\"Apr\",\"May\",\"Jun\",\"Jul\",\"Aug\",\"Sep\",\"Oct\",\"Nov\",\"Dec\"],\"tickangle\":90},\"title\":{\"text\":\"Total Viewership Hours by Release Month (2023)\"},\"yaxis\":{\"title\":{\"text\":\"Month\"}},\"height\":500,\"width\":800},                        {\"responsive\": true}                    ).then(function(){\n",
       "                            \n",
       "var gd = document.getElementById('7e1190f5-14b7-42a5-8346-a8eddc100dbb');\n",
       "var x = new MutationObserver(function (mutations, observer) {{\n",
       "        var display = window.getComputedStyle(gd).display;\n",
       "        if (!display || display === 'none') {{\n",
       "            console.log([gd, 'removed!']);\n",
       "            Plotly.purge(gd);\n",
       "            observer.disconnect();\n",
       "        }}\n",
       "}});\n",
       "\n",
       "// Listen for the removal of the full notebook cells\n",
       "var notebookContainer = gd.closest('#notebook-container');\n",
       "if (notebookContainer) {{\n",
       "    x.observe(notebookContainer, {childList: true});\n",
       "}}\n",
       "\n",
       "// Listen for the clearing of the current output cell\n",
       "var outputEl = gd.closest('.output');\n",
       "if (outputEl) {{\n",
       "    x.observe(outputEl, {childList: true});\n",
       "}}\n",
       "\n",
       "                        })                };                });            </script>        </div>"
      ]
     },
     "metadata": {},
     "output_type": "display_data"
    }
   ],
   "source": [
    "# convert the \"Release Date\" to a datetime format and extract the month\n",
    "df['Release Date'] = pd.to_datetime(df['Release Date'])\n",
    "df['Release Month'] = pd.to_datetime(df['Release Date']).dt.month\n",
    "\n",
    "# aggregate viewership hours by release month\n",
    "monthly_viewership=df.groupby('Release Month')['Hours Viewed'].sum()\n",
    "\n",
    "fig=go.Figure(data=[\n",
    "    go.Scatter(\n",
    "    x=monthly_viewership.index,\n",
    "    y=monthly_viewership.values,\n",
    "    mode='lines+markers',\n",
    "    marker=dict(color='blue'),\n",
    "    line=dict(color='blue')\n",
    "    )\n",
    "])\n",
    "\n",
    "fig.update_layout(\n",
    "    title='Total Viewership Hours by Release Month (2023)',\n",
    "    xaxis_title='Total Hours Viewed (in billions)',\n",
    "    yaxis_title='Month',\n",
    "    xaxis=dict(\n",
    "        tickmode='array',\n",
    "        tickvals=list(range(1,13)),\n",
    "        ticktext=['Jan', 'Feb', 'Mar', 'Apr', 'May', 'Jun', 'Jul', 'Aug', 'Sep', 'Oct', 'Nov', 'Dec']\n",
    "        ),\n",
    "    xaxis_tickangle=90,\n",
    "    height=500,\n",
    "    width=800\n",
    ")\n",
    "\n",
    "fig.show()\n"
   ]
  },
  {
   "cell_type": "markdown",
   "id": "3b4c54b6",
   "metadata": {},
   "source": [
    "The graph shows the total viewership hours by month, which reveals a notable increase in viewership during June and a sharp rise toward the end of the year in December. It suggests that Netflix experiences spikes in audience engagement during these periods, possibly due to strategic content releases, seasonal trends, or holidays, while the middle months have a steady but lower viewership pattern."
   ]
  },
  {
   "cell_type": "markdown",
   "id": "766eecc7",
   "metadata": {},
   "source": [
    "To delve deeper, we can analyze the most successful content (both shows and movies) and understand the specific characteristics, such as genre or theme, that may have contributed to high viewership:"
   ]
  },
  {
   "cell_type": "code",
   "execution_count": 60,
   "id": "29a9ad8d",
   "metadata": {
    "scrolled": false
   },
   "outputs": [
    {
     "data": {
      "text/html": [
       "<div>\n",
       "<style scoped>\n",
       "    .dataframe tbody tr th:only-of-type {\n",
       "        vertical-align: middle;\n",
       "    }\n",
       "\n",
       "    .dataframe tbody tr th {\n",
       "        vertical-align: top;\n",
       "    }\n",
       "\n",
       "    .dataframe thead th {\n",
       "        text-align: right;\n",
       "    }\n",
       "</style>\n",
       "<table border=\"1\" class=\"dataframe\">\n",
       "  <thead>\n",
       "    <tr style=\"text-align: right;\">\n",
       "      <th></th>\n",
       "      <th>Title</th>\n",
       "      <th>Hours Viewed</th>\n",
       "      <th>Language Indicator</th>\n",
       "      <th>Content Type</th>\n",
       "      <th>Release Date</th>\n",
       "    </tr>\n",
       "  </thead>\n",
       "  <tbody>\n",
       "    <tr>\n",
       "      <th>0</th>\n",
       "      <td>The Night Agent: Season 1</td>\n",
       "      <td>812100000.0</td>\n",
       "      <td>English</td>\n",
       "      <td>Show</td>\n",
       "      <td>2023-03-23</td>\n",
       "    </tr>\n",
       "    <tr>\n",
       "      <th>1</th>\n",
       "      <td>Ginny &amp; Georgia: Season 2</td>\n",
       "      <td>665100000.0</td>\n",
       "      <td>English</td>\n",
       "      <td>Show</td>\n",
       "      <td>2023-01-05</td>\n",
       "    </tr>\n",
       "    <tr>\n",
       "      <th>18227</th>\n",
       "      <td>King the Land: Limited Series // 킹더랜드: 리미티드 시리즈</td>\n",
       "      <td>630200000.0</td>\n",
       "      <td>Korean</td>\n",
       "      <td>Movie</td>\n",
       "      <td>2023-06-17</td>\n",
       "    </tr>\n",
       "    <tr>\n",
       "      <th>2</th>\n",
       "      <td>The Glory: Season 1 // 더 글로리: 시즌 1</td>\n",
       "      <td>622800000.0</td>\n",
       "      <td>Korean</td>\n",
       "      <td>Show</td>\n",
       "      <td>2022-12-30</td>\n",
       "    </tr>\n",
       "    <tr>\n",
       "      <th>18214</th>\n",
       "      <td>ONE PIECE: Season 1</td>\n",
       "      <td>541900000.0</td>\n",
       "      <td>English</td>\n",
       "      <td>Show</td>\n",
       "      <td>2023-08-31</td>\n",
       "    </tr>\n",
       "  </tbody>\n",
       "</table>\n",
       "</div>"
      ],
      "text/plain": [
       "                                                 Title  Hours Viewed  \\\n",
       "0                            The Night Agent: Season 1   812100000.0   \n",
       "1                            Ginny & Georgia: Season 2   665100000.0   \n",
       "18227  King the Land: Limited Series // 킹더랜드: 리미티드 시리즈   630200000.0   \n",
       "2                   The Glory: Season 1 // 더 글로리: 시즌 1   622800000.0   \n",
       "18214                              ONE PIECE: Season 1   541900000.0   \n",
       "\n",
       "      Language Indicator Content Type Release Date  \n",
       "0                English         Show   2023-03-23  \n",
       "1                English         Show   2023-01-05  \n",
       "18227             Korean        Movie   2023-06-17  \n",
       "2                 Korean         Show   2022-12-30  \n",
       "18214            English         Show   2023-08-31  "
      ]
     },
     "execution_count": 60,
     "metadata": {},
     "output_type": "execute_result"
    }
   ],
   "source": [
    "# extract the top 5 titles based on viewership hours\n",
    "top_5_titles = df.nlargest(5, 'Hours Viewed')\n",
    "top_5_titles[['Title', 'Hours Viewed', 'Language Indicator', 'Content Type', 'Release Date']]"
   ]
  },
  {
   "cell_type": "markdown",
   "id": "9237481e",
   "metadata": {},
   "source": [
    "The top 5 most-viewed titles on Netflix in 2023 are:\n",
    "\n",
    "**The Night Agent:** Season 1 (English, Show) with 812.1 million hours viewed.<br>\n",
    "    __Ginny & Georgia:__ Season 2 (English, Show) with 665.1 million hours viewed.<br>\n",
    "    __King the Land:__ Limited Series (Korean, Movie) with 630.2 million hours viewed.<br>\n",
    "    __The Glory:__ Season 1 (Korean, Show) with 622.8 million hours viewed.<br>\n",
    "    __ONE PIECE:__ Season 1 (English, Show) with 541.9 million hours viewed.\n",
    "\n",
    "English-language shows dominate the top viewership spots. But, Korean content also has a notable presence in the top titles, which indicates its global popularity."
   ]
  },
  {
   "cell_type": "markdown",
   "id": "a5e314cd",
   "metadata": {},
   "source": [
    "Now, let’s have a look at the viewership trends by content type:"
   ]
  },
  {
   "cell_type": "code",
   "execution_count": 78,
   "id": "943f69ae",
   "metadata": {
    "scrolled": true
   },
   "outputs": [
    {
     "data": {
      "application/vnd.plotly.v1+json": {
       "config": {
        "plotlyServerURL": "https://plot.ly"
       },
       "data": [
        {
         "mode": "lines+markers",
         "name": "Movie",
         "type": "scatter",
         "x": [
          1,
          2,
          3,
          4,
          5,
          6,
          7,
          8,
          9,
          10,
          11,
          12
         ],
         "y": [
          2275900000,
          1654400000,
          2109400000,
          2757600000,
          2520500000,
          3135800000,
          1615700000,
          2186400000,
          2092300000,
          3400400000,
          1866900000,
          2554900000
         ]
        },
        {
         "mode": "lines+markers",
         "name": "Show",
         "type": "scatter",
         "x": [
          1,
          2,
          3,
          4,
          5,
          6,
          7,
          8,
          9,
          10,
          11,
          12
         ],
         "y": [
          4995700000,
          5449300000,
          5327700000,
          4108100000,
          4574100000,
          5386200000,
          4909100000,
          4631400000,
          5169900000,
          4722800000,
          5882600000,
          7500900000
         ]
        }
       ],
       "layout": {
        "height": 600,
        "legend": {
         "title": {
          "text": "Content_Type"
         }
        },
        "template": {
         "data": {
          "bar": [
           {
            "error_x": {
             "color": "#2a3f5f"
            },
            "error_y": {
             "color": "#2a3f5f"
            },
            "marker": {
             "line": {
              "color": "white",
              "width": 0.5
             },
             "pattern": {
              "fillmode": "overlay",
              "size": 10,
              "solidity": 0.2
             }
            },
            "type": "bar"
           }
          ],
          "barpolar": [
           {
            "marker": {
             "line": {
              "color": "white",
              "width": 0.5
             },
             "pattern": {
              "fillmode": "overlay",
              "size": 10,
              "solidity": 0.2
             }
            },
            "type": "barpolar"
           }
          ],
          "carpet": [
           {
            "aaxis": {
             "endlinecolor": "#2a3f5f",
             "gridcolor": "#C8D4E3",
             "linecolor": "#C8D4E3",
             "minorgridcolor": "#C8D4E3",
             "startlinecolor": "#2a3f5f"
            },
            "baxis": {
             "endlinecolor": "#2a3f5f",
             "gridcolor": "#C8D4E3",
             "linecolor": "#C8D4E3",
             "minorgridcolor": "#C8D4E3",
             "startlinecolor": "#2a3f5f"
            },
            "type": "carpet"
           }
          ],
          "choropleth": [
           {
            "colorbar": {
             "outlinewidth": 0,
             "ticks": ""
            },
            "type": "choropleth"
           }
          ],
          "contour": [
           {
            "colorbar": {
             "outlinewidth": 0,
             "ticks": ""
            },
            "colorscale": [
             [
              0,
              "#0d0887"
             ],
             [
              0.1111111111111111,
              "#46039f"
             ],
             [
              0.2222222222222222,
              "#7201a8"
             ],
             [
              0.3333333333333333,
              "#9c179e"
             ],
             [
              0.4444444444444444,
              "#bd3786"
             ],
             [
              0.5555555555555556,
              "#d8576b"
             ],
             [
              0.6666666666666666,
              "#ed7953"
             ],
             [
              0.7777777777777778,
              "#fb9f3a"
             ],
             [
              0.8888888888888888,
              "#fdca26"
             ],
             [
              1,
              "#f0f921"
             ]
            ],
            "type": "contour"
           }
          ],
          "contourcarpet": [
           {
            "colorbar": {
             "outlinewidth": 0,
             "ticks": ""
            },
            "type": "contourcarpet"
           }
          ],
          "heatmap": [
           {
            "colorbar": {
             "outlinewidth": 0,
             "ticks": ""
            },
            "colorscale": [
             [
              0,
              "#0d0887"
             ],
             [
              0.1111111111111111,
              "#46039f"
             ],
             [
              0.2222222222222222,
              "#7201a8"
             ],
             [
              0.3333333333333333,
              "#9c179e"
             ],
             [
              0.4444444444444444,
              "#bd3786"
             ],
             [
              0.5555555555555556,
              "#d8576b"
             ],
             [
              0.6666666666666666,
              "#ed7953"
             ],
             [
              0.7777777777777778,
              "#fb9f3a"
             ],
             [
              0.8888888888888888,
              "#fdca26"
             ],
             [
              1,
              "#f0f921"
             ]
            ],
            "type": "heatmap"
           }
          ],
          "heatmapgl": [
           {
            "colorbar": {
             "outlinewidth": 0,
             "ticks": ""
            },
            "colorscale": [
             [
              0,
              "#0d0887"
             ],
             [
              0.1111111111111111,
              "#46039f"
             ],
             [
              0.2222222222222222,
              "#7201a8"
             ],
             [
              0.3333333333333333,
              "#9c179e"
             ],
             [
              0.4444444444444444,
              "#bd3786"
             ],
             [
              0.5555555555555556,
              "#d8576b"
             ],
             [
              0.6666666666666666,
              "#ed7953"
             ],
             [
              0.7777777777777778,
              "#fb9f3a"
             ],
             [
              0.8888888888888888,
              "#fdca26"
             ],
             [
              1,
              "#f0f921"
             ]
            ],
            "type": "heatmapgl"
           }
          ],
          "histogram": [
           {
            "marker": {
             "pattern": {
              "fillmode": "overlay",
              "size": 10,
              "solidity": 0.2
             }
            },
            "type": "histogram"
           }
          ],
          "histogram2d": [
           {
            "colorbar": {
             "outlinewidth": 0,
             "ticks": ""
            },
            "colorscale": [
             [
              0,
              "#0d0887"
             ],
             [
              0.1111111111111111,
              "#46039f"
             ],
             [
              0.2222222222222222,
              "#7201a8"
             ],
             [
              0.3333333333333333,
              "#9c179e"
             ],
             [
              0.4444444444444444,
              "#bd3786"
             ],
             [
              0.5555555555555556,
              "#d8576b"
             ],
             [
              0.6666666666666666,
              "#ed7953"
             ],
             [
              0.7777777777777778,
              "#fb9f3a"
             ],
             [
              0.8888888888888888,
              "#fdca26"
             ],
             [
              1,
              "#f0f921"
             ]
            ],
            "type": "histogram2d"
           }
          ],
          "histogram2dcontour": [
           {
            "colorbar": {
             "outlinewidth": 0,
             "ticks": ""
            },
            "colorscale": [
             [
              0,
              "#0d0887"
             ],
             [
              0.1111111111111111,
              "#46039f"
             ],
             [
              0.2222222222222222,
              "#7201a8"
             ],
             [
              0.3333333333333333,
              "#9c179e"
             ],
             [
              0.4444444444444444,
              "#bd3786"
             ],
             [
              0.5555555555555556,
              "#d8576b"
             ],
             [
              0.6666666666666666,
              "#ed7953"
             ],
             [
              0.7777777777777778,
              "#fb9f3a"
             ],
             [
              0.8888888888888888,
              "#fdca26"
             ],
             [
              1,
              "#f0f921"
             ]
            ],
            "type": "histogram2dcontour"
           }
          ],
          "mesh3d": [
           {
            "colorbar": {
             "outlinewidth": 0,
             "ticks": ""
            },
            "type": "mesh3d"
           }
          ],
          "parcoords": [
           {
            "line": {
             "colorbar": {
              "outlinewidth": 0,
              "ticks": ""
             }
            },
            "type": "parcoords"
           }
          ],
          "pie": [
           {
            "automargin": true,
            "type": "pie"
           }
          ],
          "scatter": [
           {
            "fillpattern": {
             "fillmode": "overlay",
             "size": 10,
             "solidity": 0.2
            },
            "type": "scatter"
           }
          ],
          "scatter3d": [
           {
            "line": {
             "colorbar": {
              "outlinewidth": 0,
              "ticks": ""
             }
            },
            "marker": {
             "colorbar": {
              "outlinewidth": 0,
              "ticks": ""
             }
            },
            "type": "scatter3d"
           }
          ],
          "scattercarpet": [
           {
            "marker": {
             "colorbar": {
              "outlinewidth": 0,
              "ticks": ""
             }
            },
            "type": "scattercarpet"
           }
          ],
          "scattergeo": [
           {
            "marker": {
             "colorbar": {
              "outlinewidth": 0,
              "ticks": ""
             }
            },
            "type": "scattergeo"
           }
          ],
          "scattergl": [
           {
            "marker": {
             "colorbar": {
              "outlinewidth": 0,
              "ticks": ""
             }
            },
            "type": "scattergl"
           }
          ],
          "scattermapbox": [
           {
            "marker": {
             "colorbar": {
              "outlinewidth": 0,
              "ticks": ""
             }
            },
            "type": "scattermapbox"
           }
          ],
          "scatterpolar": [
           {
            "marker": {
             "colorbar": {
              "outlinewidth": 0,
              "ticks": ""
             }
            },
            "type": "scatterpolar"
           }
          ],
          "scatterpolargl": [
           {
            "marker": {
             "colorbar": {
              "outlinewidth": 0,
              "ticks": ""
             }
            },
            "type": "scatterpolargl"
           }
          ],
          "scatterternary": [
           {
            "marker": {
             "colorbar": {
              "outlinewidth": 0,
              "ticks": ""
             }
            },
            "type": "scatterternary"
           }
          ],
          "surface": [
           {
            "colorbar": {
             "outlinewidth": 0,
             "ticks": ""
            },
            "colorscale": [
             [
              0,
              "#0d0887"
             ],
             [
              0.1111111111111111,
              "#46039f"
             ],
             [
              0.2222222222222222,
              "#7201a8"
             ],
             [
              0.3333333333333333,
              "#9c179e"
             ],
             [
              0.4444444444444444,
              "#bd3786"
             ],
             [
              0.5555555555555556,
              "#d8576b"
             ],
             [
              0.6666666666666666,
              "#ed7953"
             ],
             [
              0.7777777777777778,
              "#fb9f3a"
             ],
             [
              0.8888888888888888,
              "#fdca26"
             ],
             [
              1,
              "#f0f921"
             ]
            ],
            "type": "surface"
           }
          ],
          "table": [
           {
            "cells": {
             "fill": {
              "color": "#EBF0F8"
             },
             "line": {
              "color": "white"
             }
            },
            "header": {
             "fill": {
              "color": "#C8D4E3"
             },
             "line": {
              "color": "white"
             }
            },
            "type": "table"
           }
          ]
         },
         "layout": {
          "annotationdefaults": {
           "arrowcolor": "#2a3f5f",
           "arrowhead": 0,
           "arrowwidth": 1
          },
          "autotypenumbers": "strict",
          "coloraxis": {
           "colorbar": {
            "outlinewidth": 0,
            "ticks": ""
           }
          },
          "colorscale": {
           "diverging": [
            [
             0,
             "#8e0152"
            ],
            [
             0.1,
             "#c51b7d"
            ],
            [
             0.2,
             "#de77ae"
            ],
            [
             0.3,
             "#f1b6da"
            ],
            [
             0.4,
             "#fde0ef"
            ],
            [
             0.5,
             "#f7f7f7"
            ],
            [
             0.6,
             "#e6f5d0"
            ],
            [
             0.7,
             "#b8e186"
            ],
            [
             0.8,
             "#7fbc41"
            ],
            [
             0.9,
             "#4d9221"
            ],
            [
             1,
             "#276419"
            ]
           ],
           "sequential": [
            [
             0,
             "#0d0887"
            ],
            [
             0.1111111111111111,
             "#46039f"
            ],
            [
             0.2222222222222222,
             "#7201a8"
            ],
            [
             0.3333333333333333,
             "#9c179e"
            ],
            [
             0.4444444444444444,
             "#bd3786"
            ],
            [
             0.5555555555555556,
             "#d8576b"
            ],
            [
             0.6666666666666666,
             "#ed7953"
            ],
            [
             0.7777777777777778,
             "#fb9f3a"
            ],
            [
             0.8888888888888888,
             "#fdca26"
            ],
            [
             1,
             "#f0f921"
            ]
           ],
           "sequentialminus": [
            [
             0,
             "#0d0887"
            ],
            [
             0.1111111111111111,
             "#46039f"
            ],
            [
             0.2222222222222222,
             "#7201a8"
            ],
            [
             0.3333333333333333,
             "#9c179e"
            ],
            [
             0.4444444444444444,
             "#bd3786"
            ],
            [
             0.5555555555555556,
             "#d8576b"
            ],
            [
             0.6666666666666666,
             "#ed7953"
            ],
            [
             0.7777777777777778,
             "#fb9f3a"
            ],
            [
             0.8888888888888888,
             "#fdca26"
            ],
            [
             1,
             "#f0f921"
            ]
           ]
          },
          "colorway": [
           "#636efa",
           "#EF553B",
           "#00cc96",
           "#ab63fa",
           "#FFA15A",
           "#19d3f3",
           "#FF6692",
           "#B6E880",
           "#FF97FF",
           "#FECB52"
          ],
          "font": {
           "color": "#2a3f5f"
          },
          "geo": {
           "bgcolor": "white",
           "lakecolor": "white",
           "landcolor": "white",
           "showlakes": true,
           "showland": true,
           "subunitcolor": "#C8D4E3"
          },
          "hoverlabel": {
           "align": "left"
          },
          "hovermode": "closest",
          "mapbox": {
           "style": "light"
          },
          "paper_bgcolor": "white",
          "plot_bgcolor": "white",
          "polar": {
           "angularaxis": {
            "gridcolor": "#EBF0F8",
            "linecolor": "#EBF0F8",
            "ticks": ""
           },
           "bgcolor": "white",
           "radialaxis": {
            "gridcolor": "#EBF0F8",
            "linecolor": "#EBF0F8",
            "ticks": ""
           }
          },
          "scene": {
           "xaxis": {
            "backgroundcolor": "white",
            "gridcolor": "#DFE8F3",
            "gridwidth": 2,
            "linecolor": "#EBF0F8",
            "showbackground": true,
            "ticks": "",
            "zerolinecolor": "#EBF0F8"
           },
           "yaxis": {
            "backgroundcolor": "white",
            "gridcolor": "#DFE8F3",
            "gridwidth": 2,
            "linecolor": "#EBF0F8",
            "showbackground": true,
            "ticks": "",
            "zerolinecolor": "#EBF0F8"
           },
           "zaxis": {
            "backgroundcolor": "white",
            "gridcolor": "#DFE8F3",
            "gridwidth": 2,
            "linecolor": "#EBF0F8",
            "showbackground": true,
            "ticks": "",
            "zerolinecolor": "#EBF0F8"
           }
          },
          "shapedefaults": {
           "line": {
            "color": "#2a3f5f"
           }
          },
          "ternary": {
           "aaxis": {
            "gridcolor": "#DFE8F3",
            "linecolor": "#A2B1C6",
            "ticks": ""
           },
           "baxis": {
            "gridcolor": "#DFE8F3",
            "linecolor": "#A2B1C6",
            "ticks": ""
           },
           "bgcolor": "white",
           "caxis": {
            "gridcolor": "#DFE8F3",
            "linecolor": "#A2B1C6",
            "ticks": ""
           }
          },
          "title": {
           "x": 0.05
          },
          "xaxis": {
           "automargin": true,
           "gridcolor": "#EBF0F8",
           "linecolor": "#EBF0F8",
           "ticks": "",
           "title": {
            "standoff": 15
           },
           "zerolinecolor": "#EBF0F8",
           "zerolinewidth": 2
          },
          "yaxis": {
           "automargin": true,
           "gridcolor": "#EBF0F8",
           "linecolor": "#EBF0F8",
           "ticks": "",
           "title": {
            "standoff": 15
           },
           "zerolinecolor": "#EBF0F8",
           "zerolinewidth": 2
          }
         }
        },
        "title": {
         "text": "Viewership Trends by Content Type and Release Month (2023)"
        },
        "width": 1000,
        "xaxis": {
         "tickmode": "array",
         "ticktext": [
          "Jan",
          "Feb",
          "Mar",
          "Apr",
          "May",
          "Jun",
          "Jul",
          "Aug",
          "Sep",
          "Oct",
          "Nov",
          "Dec"
         ],
         "tickvals": [
          1,
          2,
          3,
          4,
          5,
          6,
          7,
          8,
          9,
          10,
          11,
          12
         ],
         "title": {
          "text": "Month"
         }
        },
        "yaxis": {
         "title": {
          "text": "Total Hours Viewed (in billions)"
         }
        }
       }
      },
      "text/html": [
       "<div>                            <div id=\"bfa2dd3d-5d21-4821-bfde-bacf6e2c1d45\" class=\"plotly-graph-div\" style=\"height:600px; width:1000px;\"></div>            <script type=\"text/javascript\">                require([\"plotly\"], function(Plotly) {                    window.PLOTLYENV=window.PLOTLYENV || {};                                    if (document.getElementById(\"bfa2dd3d-5d21-4821-bfde-bacf6e2c1d45\")) {                    Plotly.newPlot(                        \"bfa2dd3d-5d21-4821-bfde-bacf6e2c1d45\",                        [{\"mode\":\"lines+markers\",\"name\":\"Movie\",\"x\":[1.0,2.0,3.0,4.0,5.0,6.0,7.0,8.0,9.0,10.0,11.0,12.0],\"y\":[2275900000.0,1654400000.0,2109400000.0,2757600000.0,2520500000.0,3135800000.0,1615700000.0,2186400000.0,2092300000.0,3400400000.0,1866900000.0,2554900000.0],\"type\":\"scatter\"},{\"mode\":\"lines+markers\",\"name\":\"Show\",\"x\":[1.0,2.0,3.0,4.0,5.0,6.0,7.0,8.0,9.0,10.0,11.0,12.0],\"y\":[4995700000.0,5449300000.0,5327700000.0,4108100000.0,4574100000.0,5386200000.0,4909100000.0,4631400000.0,5169900000.0,4722800000.0,5882600000.0,7500900000.0],\"type\":\"scatter\"}],                        {\"template\":{\"data\":{\"histogram2dcontour\":[{\"type\":\"histogram2dcontour\",\"colorbar\":{\"outlinewidth\":0,\"ticks\":\"\"},\"colorscale\":[[0.0,\"#0d0887\"],[0.1111111111111111,\"#46039f\"],[0.2222222222222222,\"#7201a8\"],[0.3333333333333333,\"#9c179e\"],[0.4444444444444444,\"#bd3786\"],[0.5555555555555556,\"#d8576b\"],[0.6666666666666666,\"#ed7953\"],[0.7777777777777778,\"#fb9f3a\"],[0.8888888888888888,\"#fdca26\"],[1.0,\"#f0f921\"]]}],\"choropleth\":[{\"type\":\"choropleth\",\"colorbar\":{\"outlinewidth\":0,\"ticks\":\"\"}}],\"histogram2d\":[{\"type\":\"histogram2d\",\"colorbar\":{\"outlinewidth\":0,\"ticks\":\"\"},\"colorscale\":[[0.0,\"#0d0887\"],[0.1111111111111111,\"#46039f\"],[0.2222222222222222,\"#7201a8\"],[0.3333333333333333,\"#9c179e\"],[0.4444444444444444,\"#bd3786\"],[0.5555555555555556,\"#d8576b\"],[0.6666666666666666,\"#ed7953\"],[0.7777777777777778,\"#fb9f3a\"],[0.8888888888888888,\"#fdca26\"],[1.0,\"#f0f921\"]]}],\"heatmap\":[{\"type\":\"heatmap\",\"colorbar\":{\"outlinewidth\":0,\"ticks\":\"\"},\"colorscale\":[[0.0,\"#0d0887\"],[0.1111111111111111,\"#46039f\"],[0.2222222222222222,\"#7201a8\"],[0.3333333333333333,\"#9c179e\"],[0.4444444444444444,\"#bd3786\"],[0.5555555555555556,\"#d8576b\"],[0.6666666666666666,\"#ed7953\"],[0.7777777777777778,\"#fb9f3a\"],[0.8888888888888888,\"#fdca26\"],[1.0,\"#f0f921\"]]}],\"heatmapgl\":[{\"type\":\"heatmapgl\",\"colorbar\":{\"outlinewidth\":0,\"ticks\":\"\"},\"colorscale\":[[0.0,\"#0d0887\"],[0.1111111111111111,\"#46039f\"],[0.2222222222222222,\"#7201a8\"],[0.3333333333333333,\"#9c179e\"],[0.4444444444444444,\"#bd3786\"],[0.5555555555555556,\"#d8576b\"],[0.6666666666666666,\"#ed7953\"],[0.7777777777777778,\"#fb9f3a\"],[0.8888888888888888,\"#fdca26\"],[1.0,\"#f0f921\"]]}],\"contourcarpet\":[{\"type\":\"contourcarpet\",\"colorbar\":{\"outlinewidth\":0,\"ticks\":\"\"}}],\"contour\":[{\"type\":\"contour\",\"colorbar\":{\"outlinewidth\":0,\"ticks\":\"\"},\"colorscale\":[[0.0,\"#0d0887\"],[0.1111111111111111,\"#46039f\"],[0.2222222222222222,\"#7201a8\"],[0.3333333333333333,\"#9c179e\"],[0.4444444444444444,\"#bd3786\"],[0.5555555555555556,\"#d8576b\"],[0.6666666666666666,\"#ed7953\"],[0.7777777777777778,\"#fb9f3a\"],[0.8888888888888888,\"#fdca26\"],[1.0,\"#f0f921\"]]}],\"surface\":[{\"type\":\"surface\",\"colorbar\":{\"outlinewidth\":0,\"ticks\":\"\"},\"colorscale\":[[0.0,\"#0d0887\"],[0.1111111111111111,\"#46039f\"],[0.2222222222222222,\"#7201a8\"],[0.3333333333333333,\"#9c179e\"],[0.4444444444444444,\"#bd3786\"],[0.5555555555555556,\"#d8576b\"],[0.6666666666666666,\"#ed7953\"],[0.7777777777777778,\"#fb9f3a\"],[0.8888888888888888,\"#fdca26\"],[1.0,\"#f0f921\"]]}],\"mesh3d\":[{\"type\":\"mesh3d\",\"colorbar\":{\"outlinewidth\":0,\"ticks\":\"\"}}],\"scatter\":[{\"fillpattern\":{\"fillmode\":\"overlay\",\"size\":10,\"solidity\":0.2},\"type\":\"scatter\"}],\"parcoords\":[{\"type\":\"parcoords\",\"line\":{\"colorbar\":{\"outlinewidth\":0,\"ticks\":\"\"}}}],\"scatterpolargl\":[{\"type\":\"scatterpolargl\",\"marker\":{\"colorbar\":{\"outlinewidth\":0,\"ticks\":\"\"}}}],\"bar\":[{\"error_x\":{\"color\":\"#2a3f5f\"},\"error_y\":{\"color\":\"#2a3f5f\"},\"marker\":{\"line\":{\"color\":\"white\",\"width\":0.5},\"pattern\":{\"fillmode\":\"overlay\",\"size\":10,\"solidity\":0.2}},\"type\":\"bar\"}],\"scattergeo\":[{\"type\":\"scattergeo\",\"marker\":{\"colorbar\":{\"outlinewidth\":0,\"ticks\":\"\"}}}],\"scatterpolar\":[{\"type\":\"scatterpolar\",\"marker\":{\"colorbar\":{\"outlinewidth\":0,\"ticks\":\"\"}}}],\"histogram\":[{\"marker\":{\"pattern\":{\"fillmode\":\"overlay\",\"size\":10,\"solidity\":0.2}},\"type\":\"histogram\"}],\"scattergl\":[{\"type\":\"scattergl\",\"marker\":{\"colorbar\":{\"outlinewidth\":0,\"ticks\":\"\"}}}],\"scatter3d\":[{\"type\":\"scatter3d\",\"line\":{\"colorbar\":{\"outlinewidth\":0,\"ticks\":\"\"}},\"marker\":{\"colorbar\":{\"outlinewidth\":0,\"ticks\":\"\"}}}],\"scattermapbox\":[{\"type\":\"scattermapbox\",\"marker\":{\"colorbar\":{\"outlinewidth\":0,\"ticks\":\"\"}}}],\"scatterternary\":[{\"type\":\"scatterternary\",\"marker\":{\"colorbar\":{\"outlinewidth\":0,\"ticks\":\"\"}}}],\"scattercarpet\":[{\"type\":\"scattercarpet\",\"marker\":{\"colorbar\":{\"outlinewidth\":0,\"ticks\":\"\"}}}],\"carpet\":[{\"aaxis\":{\"endlinecolor\":\"#2a3f5f\",\"gridcolor\":\"#C8D4E3\",\"linecolor\":\"#C8D4E3\",\"minorgridcolor\":\"#C8D4E3\",\"startlinecolor\":\"#2a3f5f\"},\"baxis\":{\"endlinecolor\":\"#2a3f5f\",\"gridcolor\":\"#C8D4E3\",\"linecolor\":\"#C8D4E3\",\"minorgridcolor\":\"#C8D4E3\",\"startlinecolor\":\"#2a3f5f\"},\"type\":\"carpet\"}],\"table\":[{\"cells\":{\"fill\":{\"color\":\"#EBF0F8\"},\"line\":{\"color\":\"white\"}},\"header\":{\"fill\":{\"color\":\"#C8D4E3\"},\"line\":{\"color\":\"white\"}},\"type\":\"table\"}],\"barpolar\":[{\"marker\":{\"line\":{\"color\":\"white\",\"width\":0.5},\"pattern\":{\"fillmode\":\"overlay\",\"size\":10,\"solidity\":0.2}},\"type\":\"barpolar\"}],\"pie\":[{\"automargin\":true,\"type\":\"pie\"}]},\"layout\":{\"autotypenumbers\":\"strict\",\"colorway\":[\"#636efa\",\"#EF553B\",\"#00cc96\",\"#ab63fa\",\"#FFA15A\",\"#19d3f3\",\"#FF6692\",\"#B6E880\",\"#FF97FF\",\"#FECB52\"],\"font\":{\"color\":\"#2a3f5f\"},\"hovermode\":\"closest\",\"hoverlabel\":{\"align\":\"left\"},\"paper_bgcolor\":\"white\",\"plot_bgcolor\":\"white\",\"polar\":{\"bgcolor\":\"white\",\"angularaxis\":{\"gridcolor\":\"#EBF0F8\",\"linecolor\":\"#EBF0F8\",\"ticks\":\"\"},\"radialaxis\":{\"gridcolor\":\"#EBF0F8\",\"linecolor\":\"#EBF0F8\",\"ticks\":\"\"}},\"ternary\":{\"bgcolor\":\"white\",\"aaxis\":{\"gridcolor\":\"#DFE8F3\",\"linecolor\":\"#A2B1C6\",\"ticks\":\"\"},\"baxis\":{\"gridcolor\":\"#DFE8F3\",\"linecolor\":\"#A2B1C6\",\"ticks\":\"\"},\"caxis\":{\"gridcolor\":\"#DFE8F3\",\"linecolor\":\"#A2B1C6\",\"ticks\":\"\"}},\"coloraxis\":{\"colorbar\":{\"outlinewidth\":0,\"ticks\":\"\"}},\"colorscale\":{\"sequential\":[[0.0,\"#0d0887\"],[0.1111111111111111,\"#46039f\"],[0.2222222222222222,\"#7201a8\"],[0.3333333333333333,\"#9c179e\"],[0.4444444444444444,\"#bd3786\"],[0.5555555555555556,\"#d8576b\"],[0.6666666666666666,\"#ed7953\"],[0.7777777777777778,\"#fb9f3a\"],[0.8888888888888888,\"#fdca26\"],[1.0,\"#f0f921\"]],\"sequentialminus\":[[0.0,\"#0d0887\"],[0.1111111111111111,\"#46039f\"],[0.2222222222222222,\"#7201a8\"],[0.3333333333333333,\"#9c179e\"],[0.4444444444444444,\"#bd3786\"],[0.5555555555555556,\"#d8576b\"],[0.6666666666666666,\"#ed7953\"],[0.7777777777777778,\"#fb9f3a\"],[0.8888888888888888,\"#fdca26\"],[1.0,\"#f0f921\"]],\"diverging\":[[0,\"#8e0152\"],[0.1,\"#c51b7d\"],[0.2,\"#de77ae\"],[0.3,\"#f1b6da\"],[0.4,\"#fde0ef\"],[0.5,\"#f7f7f7\"],[0.6,\"#e6f5d0\"],[0.7,\"#b8e186\"],[0.8,\"#7fbc41\"],[0.9,\"#4d9221\"],[1,\"#276419\"]]},\"xaxis\":{\"gridcolor\":\"#EBF0F8\",\"linecolor\":\"#EBF0F8\",\"ticks\":\"\",\"title\":{\"standoff\":15},\"zerolinecolor\":\"#EBF0F8\",\"automargin\":true,\"zerolinewidth\":2},\"yaxis\":{\"gridcolor\":\"#EBF0F8\",\"linecolor\":\"#EBF0F8\",\"ticks\":\"\",\"title\":{\"standoff\":15},\"zerolinecolor\":\"#EBF0F8\",\"automargin\":true,\"zerolinewidth\":2},\"scene\":{\"xaxis\":{\"backgroundcolor\":\"white\",\"gridcolor\":\"#DFE8F3\",\"linecolor\":\"#EBF0F8\",\"showbackground\":true,\"ticks\":\"\",\"zerolinecolor\":\"#EBF0F8\",\"gridwidth\":2},\"yaxis\":{\"backgroundcolor\":\"white\",\"gridcolor\":\"#DFE8F3\",\"linecolor\":\"#EBF0F8\",\"showbackground\":true,\"ticks\":\"\",\"zerolinecolor\":\"#EBF0F8\",\"gridwidth\":2},\"zaxis\":{\"backgroundcolor\":\"white\",\"gridcolor\":\"#DFE8F3\",\"linecolor\":\"#EBF0F8\",\"showbackground\":true,\"ticks\":\"\",\"zerolinecolor\":\"#EBF0F8\",\"gridwidth\":2}},\"shapedefaults\":{\"line\":{\"color\":\"#2a3f5f\"}},\"annotationdefaults\":{\"arrowcolor\":\"#2a3f5f\",\"arrowhead\":0,\"arrowwidth\":1},\"geo\":{\"bgcolor\":\"white\",\"landcolor\":\"white\",\"subunitcolor\":\"#C8D4E3\",\"showland\":true,\"showlakes\":true,\"lakecolor\":\"white\"},\"title\":{\"x\":0.05},\"mapbox\":{\"style\":\"light\"}}},\"xaxis\":{\"title\":{\"text\":\"Month\"},\"tickmode\":\"array\",\"tickvals\":[1,2,3,4,5,6,7,8,9,10,11,12],\"ticktext\":[\"Jan\",\"Feb\",\"Mar\",\"Apr\",\"May\",\"Jun\",\"Jul\",\"Aug\",\"Sep\",\"Oct\",\"Nov\",\"Dec\"]},\"title\":{\"text\":\"Viewership Trends by Content Type and Release Month (2023)\"},\"yaxis\":{\"title\":{\"text\":\"Total Hours Viewed (in billions)\"}},\"height\":600,\"width\":1000,\"legend\":{\"title\":{\"text\":\"Content_Type\"}}},                        {\"responsive\": true}                    ).then(function(){\n",
       "                            \n",
       "var gd = document.getElementById('bfa2dd3d-5d21-4821-bfde-bacf6e2c1d45');\n",
       "var x = new MutationObserver(function (mutations, observer) {{\n",
       "        var display = window.getComputedStyle(gd).display;\n",
       "        if (!display || display === 'none') {{\n",
       "            console.log([gd, 'removed!']);\n",
       "            Plotly.purge(gd);\n",
       "            observer.disconnect();\n",
       "        }}\n",
       "}});\n",
       "\n",
       "// Listen for the removal of the full notebook cells\n",
       "var notebookContainer = gd.closest('#notebook-container');\n",
       "if (notebookContainer) {{\n",
       "    x.observe(notebookContainer, {childList: true});\n",
       "}}\n",
       "\n",
       "// Listen for the clearing of the current output cell\n",
       "var outputEl = gd.closest('.output');\n",
       "if (outputEl) {{\n",
       "    x.observe(outputEl, {childList: true});\n",
       "}}\n",
       "\n",
       "                        })                };                });            </script>        </div>"
      ]
     },
     "metadata": {},
     "output_type": "display_data"
    }
   ],
   "source": [
    "# aggregate viewership hours by content type and release month\n",
    "monthly_viewership_by_type=df.pivot_table(index='Release Month',\n",
    "                                          columns='Content Type',\n",
    "                                          values='Hours Viewed',\n",
    "                                          aggfunc='sum')\n",
    "\n",
    "fig=go.Figure()\n",
    "\n",
    "for content_type in monthly_viewership_by_type.columns:\n",
    "    fig.add_trace(\n",
    "        go.Scatter(\n",
    "            x=monthly_viewership_by_type.index,\n",
    "            y=monthly_viewership_by_type[content_type],\n",
    "            mode='lines+markers',\n",
    "            name=content_type,\n",
    "        )\n",
    "    )\n",
    "\n",
    "fig.update_layout(\n",
    "    title='Viewership Trends by Content Type and Release Month (2023)',\n",
    "    xaxis_title='Month',\n",
    "    yaxis_title='Total Hours Viewed (in billions)',\n",
    "    xaxis=dict(\n",
    "        tickmode='array',\n",
    "        tickvals=list(range(1,13)),\n",
    "        ticktext=['Jan', 'Feb', 'Mar', 'Apr', 'May', 'Jun', 'Jul', 'Aug', 'Sep', 'Oct', 'Nov', 'Dec']\n",
    "    ),\n",
    "    height=600,\n",
    "    width=1000,\n",
    "    legend_title='Content_Type'\n",
    ")\n",
    "\n",
    "fig.show()"
   ]
  },
  {
   "cell_type": "markdown",
   "id": "b47b1eb8",
   "metadata": {},
   "source": [
    "The graph compares viewership trends between movies and shows throughout 2023. It shows that shows consistently have higher viewership than movies, peaking in December. Movies have more fluctuating viewership, with notable increases in June and October. This indicates that Netflix’s audience engages more with shows across the year, while movie viewership experiences occasional spikes, possibly linked to specific releases or events."
   ]
  },
  {
   "cell_type": "markdown",
   "id": "8ab4e2bd",
   "metadata": {},
   "source": [
    "Now, let’s explore the total viewership hours distributed across different release seasons:"
   ]
  },
  {
   "cell_type": "code",
   "execution_count": 108,
   "id": "f05a05a5",
   "metadata": {},
   "outputs": [
    {
     "data": {
      "application/vnd.plotly.v1+json": {
       "config": {
        "plotlyServerURL": "https://plot.ly"
       },
       "data": [
        {
         "marker": {
          "color": "orange"
         },
         "type": "bar",
         "x": [
          "Winter",
          "Spring",
          "Summer",
          "Fall"
         ],
         "y": [
          "66,51,00,00062,28,00,00044,06,00,00042,96,00,00040,25,00,00030,21,00,00025,25,00,00025,15,00,00023,50,00,00023,48,00,00020,55,00,00018,18,00,00017,68,00,00016,30,00,00016,11,00,00015,76,00,00015,02,00,00014,69,00,00014,29,00,00013,93,00,00013,66,00,00013,48,00,00012,44,00,00012,35,00,00012,07,00,00012,05,00,00012,03,00,00011,65,00,00011,36,00,00010,46,00,00010,23,00,00010,17,00,0009,99,00,0009,78,00,0009,51,00,0009,50,00,0009,46,00,0009,22,00,0009,12,00,0009,02,00,0008,60,00,0008,50,00,0008,36,00,0008,21,00,0008,10,00,0007,82,00,0007,82,00,0007,43,00,0007,28,00,0007,22,00,0007,16,00,0007,11,00,0007,10,00,0006,75,00,0006,59,00,0006,53,00,0006,31,00,0006,20,00,0006,18,00,0006,16,00,0006,06,00,0005,96,00,0005,93,00,0005,85,00,0005,67,00,0005,65,00,0005,52,00,0005,44,00,0005,33,00,0005,31,00,0005,28,00,0005,25,00,0005,09,00,0005,08,00,0004,93,00,0004,78,00,0004,71,00,0004,61,00,0004,60,00,0004,39,00,0004,38,00,0004,26,00,0004,25,00,0004,25,00,0004,18,00,0004,11,00,0004,02,00,0003,95,00,0003,95,00,0003,92,00,0003,89,00,0003,87,00,0003,87,00,0003,86,00,0003,82,00,0003,76,00,0003,73,00,0003,66,00,0003,62,00,0003,61,00,0003,58,00,0003,52,00,0003,48,00,0003,46,00,0003,43,00,0003,38,00,0003,38,00,0003,35,00,0003,33,00,0003,32,00,0003,32,00,0003,30,00,0003,21,00,0003,20,00,0003,18,00,0003,16,00,0003,12,00,0003,11,00,0003,06,00,0003,05,00,0002,95,00,0002,95,00,0002,93,00,0002,91,00,0002,86,00,0002,86,00,0002,85,00,0002,84,00,0002,81,00,0002,79,00,0002,79,00,0002,78,00,0002,78,00,0002,77,00,0002,76,00,0002,74,00,0002,73,00,0002,73,00,0002,71,00,0002,70,00,0002,68,00,0002,68,00,0002,67,00,0002,64,00,0002,62,00,0002,62,00,0002,60,00,0002,59,00,0002,57,00,0002,55,00,0002,52,00,0002,51,00,0002,48,00,0002,43,00,0002,42,00,0002,42,00,0002,42,00,0002,41,00,0002,38,00,0002,32,00,0002,31,00,0002,30,00,0002,28,00,0002,27,00,0002,27,00,0002,26,00,0002,26,00,0002,21,00,0002,20,00,0002,19,00,0002,19,00,0002,17,00,0002,17,00,0002,16,00,0002,15,00,0002,11,00,0002,11,00,0002,10,00,0002,08,00,0002,06,00,0002,05,00,0002,04,00,0002,03,00,0002,01,00,0002,00,00,0001,98,00,0001,96,00,0001,96,00,0001,96,00,0001,95,00,0001,93,00,0001,93,00,0001,93,00,0001,93,00,0001,90,00,0001,89,00,0001,88,00,0001,88,00,0001,87,00,0001,85,00,0001,84,00,0001,83,00,0001,83,00,0001,83,00,0001,81,00,0001,81,00,0001,80,00,0001,78,00,0001,78,00,0001,78,00,0001,78,00,0001,76,00,0001,75,00,0001,74,00,0001,74,00,0001,74,00,0001,71,00,0001,69,00,0001,68,00,0001,68,00,0001,68,00,0001,68,00,0001,66,00,0001,66,00,0001,64,00,0001,62,00,0001,62,00,0001,61,00,0001,60,00,0001,60,00,0001,60,00,0001,60,00,0001,59,00,0001,58,00,0001,57,00,0001,56,00,0001,55,00,0001,55,00,0001,53,00,0001,52,00,0001,51,00,0001,46,00,0001,45,00,0001,45,00,0001,44,00,0001,44,00,0001,44,00,0001,41,00,0001,40,00,0001,40,00,0001,39,00,0001,39,00,0001,38,00,0001,37,00,0001,36,00,0001,36,00,0001,36,00,0001,35,00,0001,35,00,0001,34,00,0001,33,00,0001,33,00,0001,32,00,0001,31,00,0001,31,00,0001,30,00,0001,29,00,0001,29,00,0001,29,00,0001,27,00,0001,25,00,0001,24,00,0001,23,00,0001,22,00,0001,21,00,0001,21,00,0001,19,00,0001,19,00,0001,19,00,0001,18,00,0001,17,00,0001,16,00,0001,16,00,0001,15,00,0001,15,00,0001,14,00,0001,14,00,0001,14,00,0001,14,00,0001,14,00,0001,13,00,0001,13,00,0001,12,00,0001,12,00,0001,12,00,0001,11,00,0001,10,00,0001,10,00,0001,09,00,0001,08,00,0001,08,00,0001,08,00,0001,07,00,0001,07,00,0001,05,00,0001,05,00,0001,04,00,0001,04,00,0001,03,00,0001,02,00,0001,02,00,0001,01,00,0001,00,00,00099,00,00098,00,00098,00,00097,00,00097,00,00097,00,00096,00,00095,00,00095,00,00095,00,00095,00,00095,00,00094,00,00094,00,00094,00,00093,00,00092,00,00092,00,00091,00,00091,00,00091,00,00091,00,00091,00,00090,00,00090,00,00090,00,00089,00,00089,00,00089,00,00087,00,00087,00,00086,00,00085,00,00084,00,00084,00,00084,00,00083,00,00083,00,00083,00,00083,00,00082,00,00081,00,00080,00,00080,00,00080,00,00080,00,00080,00,00079,00,00079,00,00079,00,00077,00,00077,00,00077,00,00077,00,00077,00,00076,00,00076,00,00075,00,00074,00,00074,00,00074,00,00074,00,00074,00,00073,00,00073,00,00073,00,00073,00,00073,00,00071,00,00071,00,00070,00,00070,00,00070,00,00070,00,00070,00,00070,00,00069,00,00069,00,00069,00,00069,00,00069,00,00068,00,00068,00,00068,00,00068,00,00067,00,00067,00,00066,00,00065,00,00064,00,00064,00,00064,00,00063,00,00063,00,00062,00,00062,00,00062,00,00061,00,00061,00,00060,00,00060,00,00060,00,00059,00,00059,00,00059,00,00059,00,00059,00,00058,00,00058,00,00058,00,00058,00,00058,00,00057,00,00057,00,00057,00,00056,00,00056,00,00056,00,00056,00,00056,00,00056,00,00055,00,00055,00,00055,00,00055,00,00054,00,00054,00,00054,00,00053,00,00053,00,00053,00,00053,00,00052,00,00052,00,00052,00,00052,00,00052,00,00051,00,00051,00,00051,00,00051,00,00050,00,00050,00,00050,00,00050,00,00050,00,00050,00,00050,00,00049,00,00049,00,00049,00,00049,00,00048,00,00048,00,00048,00,00048,00,00048,00,00047,00,00047,00,00047,00,00047,00,00047,00,00046,00,00046,00,00046,00,00046,00,00046,00,00046,00,00046,00,00046,00,00045,00,00045,00,00045,00,00044,00,00044,00,00044,00,00044,00,00044,00,00044,00,00044,00,00043,00,00043,00,00043,00,00043,00,00043,00,00042,00,00042,00,00041,00,00041,00,00041,00,00040,00,00040,00,00040,00,00040,00,00040,00,00040,00,00039,00,00039,00,00039,00,00039,00,00039,00,00038,00,00038,00,00038,00,00038,00,00037,00,00037,00,00037,00,00037,00,00037,00,00037,00,00037,00,00037,00,00037,00,00037,00,00037,00,00037,00,00037,00,00037,00,00037,00,00037,00,00036,00,00036,00,00036,00,00036,00,00036,00,00035,00,00035,00,00035,00,00035,00,00035,00,00035,00,00034,00,00034,00,00034,00,00034,00,00034,00,00033,00,00033,00,00033,00,00033,00,00033,00,00033,00,00033,00,00033,00,00032,00,00032,00,00032,00,00032,00,00032,00,00031,00,00031,00,00031,00,00031,00,00031,00,00031,00,00031,00,00030,00,00030,00,00030,00,00030,00,00030,00,00030,00,00030,00,00030,00,00030,00,00030,00,00030,00,00030,00,00030,00,00029,00,00029,00,00029,00,00029,00,00029,00,00029,00,00029,00,00029,00,00029,00,00029,00,00029,00,00029,00,00028,00,00028,00,00028,00,00028,00,00028,00,00028,00,00027,00,00027,00,00027,00,00027,00,00027,00,00027,00,00027,00,00027,00,00027,00,00027,00,00027,00,00026,00,00026,00,00026,00,00026,00,00026,00,00026,00,00026,00,00026,00,00025,00,00025,00,00025,00,00025,00,00025,00,00025,00,00025,00,00024,00,00024,00,00024,00,00024,00,00024,00,00024,00,00024,00,00024,00,00023,00,00023,00,00023,00,00023,00,00023,00,00023,00,00023,00,00023,00,00023,00,00023,00,00022,00,00022,00,00022,00,00022,00,00022,00,00022,00,00022,00,00022,00,00022,00,00022,00,00022,00,00021,00,00021,00,00021,00,00021,00,00021,00,00021,00,00021,00,00021,00,00021,00,00021,00,00021,00,00020,00,00020,00,00020,00,00020,00,00020,00,00020,00,00020,00,00020,00,00019,00,00019,00,00019,00,00019,00,00019,00,00019,00,00019,00,00019,00,00019,00,00019,00,00019,00,00019,00,00019,00,00019,00,00019,00,00019,00,00018,00,00018,00,00018,00,00018,00,00018,00,00018,00,00018,00,00018,00,00018,00,00018,00,00018,00,00018,00,00018,00,00018,00,00018,00,00018,00,00018,00,00018,00,00018,00,00018,00,00018,00,00018,00,00017,00,00017,00,00017,00,00017,00,00017,00,00017,00,00017,00,00017,00,00016,00,00016,00,00016,00,00016,00,00016,00,00016,00,00016,00,00016,00,00016,00,00016,00,00015,00,00015,00,00015,00,00015,00,00015,00,00015,00,00015,00,00015,00,00015,00,00015,00,00015,00,00015,00,00015,00,00015,00,00015,00,00015,00,00015,00,00015,00,00015,00,00014,00,00014,00,00014,00,00014,00,00014,00,00014,00,00014,00,00014,00,00014,00,00014,00,00014,00,00014,00,00014,00,00014,00,00014,00,00014,00,00014,00,00014,00,00013,00,00013,00,00013,00,00013,00,00013,00,00013,00,00013,00,00013,00,00013,00,00013,00,00013,00,00013,00,00013,00,00012,00,00012,00,00012,00,00012,00,00012,00,00012,00,00012,00,00012,00,00012,00,00012,00,00012,00,00012,00,00012,00,00012,00,00012,00,00012,00,00012,00,00012,00,00011,00,00011,00,00011,00,00011,00,00011,00,00011,00,00011,00,00011,00,00011,00,00011,00,00011,00,00011,00,00011,00,00011,00,00011,00,00011,00,00011,00,00011,00,00010,00,00010,00,00010,00,00010,00,00010,00,00010,00,00010,00,00010,00,00010,00,00010,00,00010,00,00010,00,00010,00,00010,00,00010,00,00010,00,00010,00,00010,00,00010,00,0009,00,0009,00,0009,00,0009,00,0009,00,0009,00,0009,00,0009,00,0009,00,0009,00,0009,00,0009,00,0009,00,0009,00,0009,00,0009,00,0009,00,0009,00,0009,00,0009,00,0008,00,0008,00,0008,00,0008,00,0008,00,0008,00,0008,00,0008,00,0008,00,0008,00,0008,00,0008,00,0008,00,0008,00,0008,00,0008,00,0008,00,0008,00,0008,00,0008,00,0007,00,0007,00,0007,00,0007,00,0007,00,0007,00,0007,00,0007,00,0007,00,0007,00,0007,00,0007,00,0007,00,0007,00,0007,00,0007,00,0007,00,0007,00,0007,00,0007,00,0007,00,0007,00,0007,00,0007,00,0007,00,0007,00,0007,00,0007,00,0007,00,0007,00,0007,00,0007,00,0006,00,0006,00,0006,00,0006,00,0006,00,0006,00,0006,00,0006,00,0006,00,0006,00,0006,00,0006,00,0006,00,0006,00,0006,00,0006,00,0006,00,0006,00,0006,00,0006,00,0006,00,0006,00,0006,00,0006,00,0006,00,0005,00,0005,00,0005,00,0005,00,0005,00,0005,00,0005,00,0005,00,0005,00,0005,00,0005,00,0005,00,0005,00,0005,00,0005,00,0005,00,0005,00,0005,00,0005,00,0005,00,0005,00,0005,00,0005,00,0005,00,0005,00,0005,00,0005,00,0005,00,0005,00,0005,00,0005,00,0005,00,0005,00,0005,00,0005,00,0004,00,0004,00,0004,00,0004,00,0004,00,0004,00,0004,00,0004,00,0004,00,0004,00,0004,00,0004,00,0004,00,0004,00,0004,00,0004,00,0004,00,0004,00,0004,00,0004,00,0004,00,0004,00,0004,00,0004,00,0004,00,0004,00,0004,00,0004,00,0004,00,0004,00,0004,00,0004,00,0004,00,0004,00,0004,00,0004,00,0004,00,0004,00,0004,00,0004,00,0004,00,0004,00,0004,00,0003,00,0003,00,0003,00,0003,00,0003,00,0003,00,0003,00,0003,00,0003,00,0003,00,0003,00,0003,00,0003,00,0003,00,0003,00,0003,00,0003,00,0003,00,0003,00,0003,00,0003,00,0003,00,0003,00,0003,00,0003,00,0003,00,0003,00,0003,00,0003,00,0003,00,0003,00,0003,00,0003,00,0003,00,0003,00,0002,00,0002,00,0002,00,0002,00,0002,00,0002,00,0002,00,0002,00,0002,00,0002,00,0002,00,0002,00,0002,00,0002,00,0002,00,0002,00,0002,00,0002,00,0002,00,0002,00,0002,00,0002,00,0002,00,0002,00,0002,00,0002,00,0002,00,0002,00,0002,00,0002,00,0002,00,0002,00,0002,00,0002,00,0002,00,0002,00,0002,00,0002,00,0002,00,0002,00,0002,00,0002,00,0002,00,0002,00,0002,00,0002,00,0002,00,0002,00,0002,00,0002,00,0002,00,0001,00,0001,00,0001,00,0001,00,0001,00,0001,00,0001,00,0001,00,0001,00,0001,00,0001,00,0001,00,0001,00,0001,00,0001,00,0001,00,0001,00,0001,00,0001,00,0001,00,0001,00,0001,00,0001,00,0001,00,0001,00,0001,00,0001,00,0001,00,0001,00,0001,00,0001,00,0001,00,0001,00,0001,00,0001,00,0001,00,0001,00,0001,00,0001,00,0001,00,0001,00,0001,00,0001,00,0001,00,0001,00,0001,00,0001,00,0001,00,0001,00,0001,00,0001,00,0001,00,0001,00,0001,00,0001,00,0001,00,0001,00,0001,00,0001,00,0001,00,0001,00,0001,00,0001,00,0001,00,0001,00,0001,00,0001,00,0001,00,0001,00,0001,00,0001,00,0001,00,0001,00,0001,00,0001,00,0001,00,0001,00,0001,00,0001,00,0001,00,0001,00,00025,43,00,0007,39,00,0008,99,00,0006,92,00,00011,86,00,0005,83,00,0003,74,00,00010,40,00,0006,25,00,0006,61,00,0004,43,00,0005,26,00,0007,43,00,0007,30,00,0009,34,00,0006,97,00,0007,26,00,0005,20,00,00010,45,00,0005,93,00,0002,01,00,0002,64,00,0005,03,00,00084,00,0006,45,00,0005,98,00,0006,47,00,0005,94,00,0006,62,00,0002,35,00,0002,26,00,0003,32,00,0002,30,00,0003,58,00,0001,60,00,0002,47,00,0001,91,00,0006,97,00,0004,17,00,0004,95,00,00063,00,0001,78,00,0003,72,00,0003,18,00,0001,09,00,0002,93,00,0002,79,00,00011,13,00,0002,86,00,0001,82,00,0003,15,00,0004,28,00,0006,69,00,0004,82,00,0002,92,00,00092,00,0002,79,00,0002,53,00,0001,49,00,0001,42,00,0002,13,00,0004,01,00,0002,20,00,0002,06,00,0001,82,00,0002,61,00,0002,90,00,0001,16,00,0003,01,00,0001,96,00,0001,80,00,0001,31,00,0003,75,00,0003,17,00,0003,08,00,0002,26,00,0005,06,00,0003,13,00,0002,23,00,0002,70,00,0002,49,00,0001,55,00,0002,77,00,0001,59,00,00061,00,0001,58,00,00035,00,0001,45,00,0001,34,00,0001,07,00,0002,29,00,00078,00,00074,00,00015,00,0002,67,00,0002,42,00,0001,80,00,0001,31,00,0001,22,00,0001,08,00,00095,00,0003,50,00,0002,40,00,0002,40,00,0002,20,00,0001,79,00,0001,57,00,0001,30,00,0001,13,00,00088,00,00075,00,0002,55,00,0001,21,00,00089,00,00060,00,00037,00,00031,00,0002,40,00,0002,10,00,0001,84,00,0001,32,00,0002,68,00,0002,49,00,0002,21,00,0001,89,00,0001,58,00,0001,52,00,0001,18,00,0001,14,00,0001,08,00,00057,00,00046,00,0008,00,0002,64,00,0002,27,00,0001,87,00,0001,57,00,0001,39,00,0001,23,00,0001,15,00,00029,00,0001,91,00,0001,01,00,00052,00,00021,00,0009,00,0005,67,00,00099,00,00084,00,00074,00,00072,00,00042,00,00019,00,0002,20,00,0002,09,00,0002,05,00,0001,94,00,0001,82,00,0001,34,00,0001,31,00,0001,22,00,0001,11,00,0001,10,00,0001,05,00,0001,03,00,00089,00,0003,40,00,0002,71,00,0001,94,00,0001,87,00,0001,76,00,0001,69,00,0001,09,00,0001,05,00,00096,00,00096,00,00085,00,00070,00,0003,54,00,0001,35,00,0001,16,00,0001,15,00,00082,00,00069,00,00053,00,0002,72,00,0002,13,00,0001,69,00,0001,41,00,00086,00,00084,00,00055,00,00044,00,0003,11,00,0002,38,00,0001,69,00,0001,60,00,0001,35,00,00093,00,00084,00,00074,00,00068,00,00067,00,00062,00,00055,00,00052,00,00013,00,0006,93,00,0001,37,00,0001,19,00,0001,12,00,00070,00,00057,00,00044,00,00040,00,00018,00,0002,19,00,0001,93,00,0001,52,00,0001,32,00,0001,10,00,0001,09,00,0001,08,00,00095,00,00094,00,00092,00,00067,00,00061,00,00061,00,00057,00,00056,00,00054,00,00046,00,00042,00,00039,00,00030,00,00030,00,00023,00,0002,49,00,0002,47,00,0001,62,00,0001,20,00,0001,05,00,00088,00,00082,00,00079,00,00070,00,00069,00,00061,00,00057,00,00053,00,00050,00,00040,00,00039,00,00038,00,00032,00,0001,55,00,0001,09,00,00094,00,00089,00,00085,00,00078,00,00076,00,00072,00,00070,00,00069,00,00069,00,00065,00,00060,00,00060,00,00046,00,00042,00,00036,00,00028,00,00014,00,0007,54,00,0001,70,00,0001,63,00,0001,38,00,0001,28,00,0001,20,00,0001,03,00,00097,00,00096,00,00084,00,00079,00,00079,00,00069,00,00067,00,00063,00,00063,00,00061,00,00059,00,00058,00,00053,00,00051,00,00050,00,00049,00,00045,00,00042,00,00040,00,00037,00,00036,00,00033,00,00031,00,00027,00,00090,00,00086,00,00085,00,00068,00,00066,00,00062,00,00061,00,00058,00,00055,00,00055,00,00054,00,00053,00,00053,00,00052,00,00047,00,00047,00,00044,00,00041,00,00036,00,00027,00,00022,00,00018,00,00012,00,00012,00,00010,00,0001,74,00,0001,47,00,00086,00,00069,00,00061,00,00060,00,00060,00,00056,00,00055,00,00053,00,00052,00,00047,00,00046,00,00044,00,00042,00,00037,00,00035,00,00032,00,00027,00,00027,00,00011,00,00010,00,0005,00,00079,00,00073,00,00066,00,00066,00,00053,00,00053,00,00052,00,00049,00,00049,00,00048,00,00047,00,00043,00,00043,00,00042,00,00041,00,00040,00,00035,00,00033,00,00031,00,00027,00,00027,00,00025,00,00023,00,00023,00,00021,00,00020,00,00017,00,00013,00,00012,00,00012,00,00012,00,00011,00,0004,00,0004,00,0001,65,00,0001,27,00,0001,00,00,00091,00,00074,00,00068,00,00059,00,00055,00,00044,00,00044,00,00043,00,00034,00,00031,00,00024,00,00024,00,00024,00,00018,00,00016,00,0007,00,0007,00,0001,21,00,00061,00,00050,00,00046,00,00042,00,00039,00,00036,00,00035,00,00035,00,00033,00,00033,00,00033,00,00031,00,00030,00,00029,00,00027,00,00027,00,00027,00,00027,00,00026,00,00024,00,00024,00,00021,00,00019,00,00015,00,00014,00,00012,00,00012,00,00011,00,0008,00,0007,00,0007,00,0006,00,0002,65,00,0001,14,00,00093,00,00087,00,00050,00,00044,00,00042,00,00041,00,00036,00,00036,00,00035,00,00035,00,00030,00,00029,00,00028,00,00028,00,00028,00,00026,00,00025,00,00024,00,00024,00,00024,00,00024,00,00023,00,00022,00,00021,00,00020,00,00020,00,00017,00,00017,00,00017,00,00016,00,00014,00,00014,00,00013,00,00013,00,00012,00,00011,00,00011,00,0005,00,0003,00,00074,00,00063,00,00061,00,00046,00,00045,00,00032,00,00032,00,00024,00,00023,00,00023,00,00023,00,00023,00,00022,00,00022,00,00022,00,00022,00,00021,00,00021,00,00020,00,00019,00,00018,00,00018,00,00017,00,00016,00,00015,00,00014,00,00014,00,00013,00,00012,00,00012,00,00011,00,00011,00,00011,00,00011,00,00010,00,0009,00,0009,00,0005,00,0005,00,0004,00,0004,00,0004,00,0004,00,0003,00,0001,00,00056,00,00047,00,00036,00,00034,00,00029,00,00027,00,00025,00,00023,00,00023,00,00022,00,00022,00,00020,00,00020,00,00019,00,00018,00,00018,00,00018,00,00017,00,00017,00,00017,00,00016,00,00016,00,00016,00,00015,00,00015,00,00015,00,00015,00,00013,00,00013,00,00012,00,00012,00,00012,00,00011,00,00011,00,00011,00,00011,00,00010,00,0009,00,0009,00,0009,00,0009,00,0009,00,0008,00,0008,00,0006,00,0006,00,0006,00,0004,00,0004,00,0003,00,0003,00,00064,00,00035,00,00032,00,00024,00,00024,00,00023,00,00020,00,00019,00,00017,00,00015,00,00015,00,00015,00,00015,00,00014,00,00014,00,00013,00,00013,00,00013,00,00013,00,00012,00,00012,00,00012,00,00012,00,00012,00,00011,00,00011,00,00011,00,00011,00,00011,00,00010,00,00010,00,00010,00,00010,00,00010,00,00010,00,00010,00,0009,00,0009,00,0009,00,0009,00,0009,00,0009,00,0009,00,0008,00,0008,00,0008,00,0008,00,0008,00,0008,00,0007,00,0007,00,0007,00,0007,00,0007,00,0007,00,0007,00,0007,00,0006,00,0006,00,0006,00,0006,00,0006,00,0005,00,0005,00,0005,00,0005,00,0005,00,0005,00,0005,00,0004,00,0004,00,0004,00,0003,00,0003,00,0002,00,0002,00,0002,00,0002,00,0002,00,0002,00,0002,00,0002,00,0002,00,0002,00,0002,00,0002,00,0002,00,0001,00,0001,00,0001,00,0001,00,00034,00,00016,00,00015,00,00013,00,00011,00,00010,00,00010,00,0009,00,0009,00,0008,00,0007,00,0007,00,0007,00,0007,00,0007,00,0006,00,0006,00,0006,00,0006,00,0006,00,0006,00,0006,00,0006,00,0006,00,0005,00,0005,00,0005,00,0005,00,0005,00,0005,00,0005,00,0005,00,0005,00,0005,00,0005,00,0005,00,0005,00,0005,00,0004,00,0004,00,0004,00,0004,00,0004,00,0004,00,0004,00,0004,00,0004,00,0004,00,0004,00,0004,00,0004,00,0004,00,0004,00,0004,00,0003,00,0003,00,0003,00,0003,00,0003,00,0003,00,0003,00,0003,00,0003,00,0003,00,0003,00,0003,00,0003,00,0002,00,0002,00,0002,00,0002,00,0002,00,0002,00,0002,00,0002,00,0002,00,0002,00,0002,00,0001,00,0001,00,0001,00,0001,00,0001,00,0001,00,0001,00,0001,00,0001,00,0001,00,0001,00,0001,00,0001,00,0001,00,0001,00,0001,00,0001,00,0001,00,0001,00,0001,00,0001,00,0001,00,0001,00,0001,00,0001,00,0001,00,0001,00,0001,00,0001,00,0001,00,000",
          "81,21,00,00050,30,00,00026,62,00,00024,99,00,00022,97,00,00022,11,00,00021,41,00,00020,97,00,00020,65,00,00020,07,00,00019,47,00,00019,29,00,00018,40,00,00018,23,00,00017,55,00,00017,43,00,00017,36,00,00014,86,00,00014,01,00,00013,62,00,00013,36,00,00013,35,00,00013,34,00,00012,00,00,00011,89,00,00011,86,00,00011,58,00,00010,45,00,0009,95,00,0009,76,00,0009,43,00,0009,42,00,0009,29,00,0009,23,00,0009,14,00,0008,61,00,0008,46,00,0008,32,00,0008,28,00,0008,08,00,0007,97,00,0007,78,00,0007,57,00,0007,28,00,0006,95,00,0006,85,00,0006,65,00,0006,52,00,0006,39,00,0006,10,00,0006,01,00,0005,75,00,0005,66,00,0005,55,00,0005,38,00,0005,35,00,0005,33,00,0005,30,00,0005,22,00,0005,18,00,0005,17,00,0005,16,00,0005,16,00,0005,06,00,0004,97,00,0004,92,00,0004,83,00,0004,79,00,0004,63,00,0004,58,00,0004,56,00,0004,53,00,0004,40,00,0004,38,00,0004,29,00,0004,27,00,0004,17,00,0004,13,00,0004,12,00,0004,10,00,0004,02,00,0004,02,00,0004,01,00,0003,99,00,0003,97,00,0003,97,00,0003,94,00,0003,83,00,0003,81,00,0003,71,00,0003,71,00,0003,69,00,0003,66,00,0003,63,00,0003,62,00,0003,62,00,0003,57,00,0003,55,00,0003,53,00,0003,50,00,0003,42,00,0003,39,00,0003,34,00,0003,17,00,0003,15,00,0003,13,00,0003,09,00,0003,08,00,0003,06,00,0003,04,00,0003,03,00,0003,03,00,0003,01,00,0003,01,00,0003,01,00,0003,01,00,0002,98,00,0002,97,00,0002,94,00,0002,90,00,0002,86,00,0002,86,00,0002,84,00,0002,79,00,0002,78,00,0002,73,00,0002,73,00,0002,71,00,0002,65,00,0002,62,00,0002,61,00,0002,49,00,0002,45,00,0002,44,00,0002,44,00,0002,42,00,0002,40,00,0002,40,00,0002,37,00,0002,37,00,0002,36,00,0002,35,00,0002,33,00,0002,32,00,0002,31,00,0002,30,00,0002,27,00,0002,27,00,0002,24,00,0002,24,00,0002,21,00,0002,19,00,0002,18,00,0002,17,00,0002,17,00,0002,11,00,0002,10,00,0002,10,00,0002,10,00,0002,08,00,0002,06,00,0002,03,00,0002,02,00,0002,01,00,0002,00,00,0002,00,00,0001,99,00,0001,98,00,0001,98,00,0001,97,00,0001,97,00,0001,95,00,0001,93,00,0001,91,00,0001,86,00,0001,84,00,0001,84,00,0001,81,00,0001,77,00,0001,76,00,0001,76,00,0001,76,00,0001,75,00,0001,75,00,0001,74,00,0001,74,00,0001,68,00,0001,66,00,0001,66,00,0001,65,00,0001,65,00,0001,65,00,0001,64,00,0001,60,00,0001,60,00,0001,59,00,0001,58,00,0001,57,00,0001,57,00,0001,54,00,0001,52,00,0001,50,00,0001,50,00,0001,49,00,0001,47,00,0001,46,00,0001,46,00,0001,45,00,0001,44,00,0001,42,00,0001,41,00,0001,40,00,0001,39,00,0001,37,00,0001,37,00,0001,37,00,0001,37,00,0001,36,00,0001,36,00,0001,36,00,0001,36,00,0001,35,00,0001,35,00,0001,33,00,0001,30,00,0001,30,00,0001,29,00,0001,29,00,0001,28,00,0001,28,00,0001,26,00,0001,26,00,0001,25,00,0001,24,00,0001,24,00,0001,23,00,0001,23,00,0001,22,00,0001,22,00,0001,20,00,0001,19,00,0001,19,00,0001,19,00,0001,18,00,0001,18,00,0001,18,00,0001,17,00,0001,17,00,0001,15,00,0001,15,00,0001,15,00,0001,14,00,0001,13,00,0001,12,00,0001,12,00,0001,11,00,0001,10,00,0001,10,00,0001,10,00,0001,10,00,0001,10,00,0001,10,00,0001,09,00,0001,08,00,0001,08,00,0001,07,00,0001,07,00,0001,07,00,0001,07,00,0001,07,00,0001,06,00,0001,06,00,0001,05,00,0001,05,00,0001,05,00,0001,05,00,0001,05,00,0001,04,00,0001,03,00,0001,02,00,0001,02,00,0001,02,00,0001,02,00,0001,01,00,0001,01,00,0001,01,00,0001,01,00,0001,00,00,0001,00,00,0001,00,00,00099,00,00099,00,00098,00,00097,00,00097,00,00097,00,00096,00,00096,00,00096,00,00095,00,00095,00,00095,00,00095,00,00094,00,00094,00,00094,00,00094,00,00093,00,00093,00,00093,00,00093,00,00092,00,00092,00,00092,00,00092,00,00092,00,00092,00,00092,00,00092,00,00092,00,00091,00,00091,00,00091,00,00090,00,00089,00,00089,00,00089,00,00088,00,00088,00,00087,00,00087,00,00087,00,00087,00,00087,00,00086,00,00086,00,00086,00,00085,00,00085,00,00085,00,00084,00,00083,00,00082,00,00082,00,00082,00,00082,00,00082,00,00082,00,00082,00,00082,00,00081,00,00081,00,00081,00,00080,00,00080,00,00079,00,00079,00,00079,00,00079,00,00078,00,00078,00,00078,00,00078,00,00078,00,00078,00,00077,00,00077,00,00077,00,00076,00,00076,00,00076,00,00075,00,00075,00,00075,00,00075,00,00075,00,00074,00,00074,00,00074,00,00074,00,00074,00,00073,00,00073,00,00073,00,00072,00,00072,00,00072,00,00072,00,00071,00,00071,00,00071,00,00071,00,00070,00,00070,00,00070,00,00070,00,00068,00,00068,00,00068,00,00068,00,00068,00,00067,00,00067,00,00067,00,00067,00,00067,00,00066,00,00066,00,00066,00,00066,00,00065,00,00065,00,00065,00,00065,00,00065,00,00065,00,00064,00,00064,00,00064,00,00064,00,00064,00,00064,00,00064,00,00064,00,00063,00,00063,00,00062,00,00062,00,00062,00,00062,00,00061,00,00061,00,00061,00,00061,00,00060,00,00060,00,00060,00,00060,00,00059,00,00059,00,00059,00,00059,00,00059,00,00059,00,00058,00,00058,00,00058,00,00058,00,00058,00,00058,00,00058,00,00057,00,00057,00,00056,00,00056,00,00056,00,00055,00,00055,00,00055,00,00055,00,00055,00,00055,00,00054,00,00054,00,00054,00,00054,00,00053,00,00053,00,00053,00,00053,00,00052,00,00052,00,00052,00,00052,00,00052,00,00052,00,00052,00,00052,00,00051,00,00051,00,00051,00,00051,00,00051,00,00050,00,00050,00,00050,00,00049,00,00049,00,00049,00,00049,00,00049,00,00049,00,00049,00,00049,00,00049,00,00049,00,00048,00,00048,00,00048,00,00048,00,00048,00,00048,00,00048,00,00048,00,00047,00,00047,00,00047,00,00047,00,00046,00,00046,00,00046,00,00046,00,00045,00,00045,00,00045,00,00045,00,00044,00,00044,00,00043,00,00043,00,00043,00,00043,00,00043,00,00043,00,00043,00,00042,00,00042,00,00042,00,00042,00,00042,00,00042,00,00042,00,00042,00,00041,00,00041,00,00041,00,00041,00,00041,00,00041,00,00041,00,00041,00,00040,00,00040,00,00040,00,00040,00,00040,00,00040,00,00039,00,00039,00,00039,00,00039,00,00038,00,00038,00,00038,00,00038,00,00038,00,00038,00,00038,00,00038,00,00038,00,00037,00,00037,00,00037,00,00036,00,00036,00,00036,00,00036,00,00036,00,00035,00,00035,00,00035,00,00035,00,00035,00,00035,00,00035,00,00035,00,00035,00,00035,00,00035,00,00035,00,00034,00,00034,00,00034,00,00034,00,00033,00,00033,00,00033,00,00033,00,00033,00,00032,00,00032,00,00032,00,00032,00,00032,00,00032,00,00032,00,00032,00,00031,00,00031,00,00031,00,00031,00,00031,00,00031,00,00031,00,00030,00,00030,00,00030,00,00030,00,00030,00,00030,00,00030,00,00030,00,00030,00,00030,00,00030,00,00030,00,00029,00,00029,00,00029,00,00029,00,00029,00,00029,00,00029,00,00029,00,00029,00,00029,00,00028,00,00028,00,00028,00,00028,00,00028,00,00028,00,00028,00,00028,00,00027,00,00027,00,00027,00,00027,00,00027,00,00027,00,00027,00,00027,00,00027,00,00026,00,00026,00,00026,00,00026,00,00026,00,00026,00,00026,00,00025,00,00025,00,00025,00,00025,00,00025,00,00025,00,00024,00,00024,00,00024,00,00024,00,00024,00,00024,00,00024,00,00024,00,00024,00,00024,00,00024,00,00024,00,00024,00,00023,00,00023,00,00023,00,00023,00,00023,00,00023,00,00023,00,00023,00,00023,00,00023,00,00023,00,00023,00,00023,00,00022,00,00022,00,00022,00,00022,00,00022,00,00022,00,00022,00,00022,00,00022,00,00022,00,00022,00,00021,00,00021,00,00021,00,00021,00,00021,00,00021,00,00021,00,00021,00,00021,00,00021,00,00021,00,00021,00,00021,00,00021,00,00020,00,00020,00,00020,00,00020,00,00020,00,00020,00,00020,00,00020,00,00020,00,00020,00,00020,00,00020,00,00020,00,00020,00,00020,00,00020,00,00020,00,00020,00,00020,00,00019,00,00019,00,00019,00,00019,00,00019,00,00019,00,00019,00,00019,00,00019,00,00019,00,00019,00,00019,00,00019,00,00019,00,00018,00,00018,00,00018,00,00018,00,00018,00,00018,00,00018,00,00018,00,00018,00,00018,00,00018,00,00018,00,00018,00,00018,00,00018,00,00018,00,00018,00,00017,00,00017,00,00017,00,00017,00,00017,00,00017,00,00017,00,00017,00,00017,00,00017,00,00017,00,00017,00,00017,00,00017,00,00016,00,00016,00,00016,00,00016,00,00016,00,00016,00,00016,00,00016,00,00016,00,00016,00,00016,00,00016,00,00016,00,00015,00,00015,00,00015,00,00015,00,00015,00,00015,00,00015,00,00015,00,00015,00,00015,00,00015,00,00015,00,00015,00,00014,00,00014,00,00014,00,00014,00,00014,00,00014,00,00014,00,00014,00,00014,00,00014,00,00014,00,00014,00,00013,00,00013,00,00013,00,00013,00,00013,00,00013,00,00013,00,00013,00,00013,00,00013,00,00013,00,00013,00,00013,00,00013,00,00013,00,00013,00,00013,00,00013,00,00013,00,00013,00,00012,00,00012,00,00012,00,00012,00,00012,00,00012,00,00012,00,00012,00,00012,00,00012,00,00012,00,00012,00,00012,00,00012,00,00012,00,00011,00,00011,00,00011,00,00011,00,00011,00,00011,00,00011,00,00011,00,00011,00,00011,00,00011,00,00011,00,00011,00,00011,00,00011,00,00011,00,00011,00,00011,00,00011,00,00011,00,00011,00,00010,00,00010,00,00010,00,00010,00,00010,00,00010,00,00010,00,00010,00,00010,00,00010,00,00010,00,00010,00,00010,00,00010,00,00010,00,00010,00,00010,00,00010,00,00010,00,00010,00,00010,00,00010,00,00010,00,0009,00,0009,00,0009,00,0009,00,0009,00,0009,00,0009,00,0009,00,0009,00,0009,00,0009,00,0009,00,0009,00,0009,00,0009,00,0009,00,0009,00,0009,00,0009,00,0009,00,0009,00,0009,00,0009,00,0009,00,0009,00,0008,00,0008,00,0008,00,0008,00,0008,00,0008,00,0008,00,0008,00,0008,00,0008,00,0008,00,0008,00,0008,00,0008,00,0008,00,0008,00,0008,00,0008,00,0008,00,0008,00,0008,00,0008,00,0008,00,0007,00,0007,00,0007,00,0007,00,0007,00,0007,00,0007,00,0007,00,0007,00,0007,00,0007,00,0007,00,0007,00,0007,00,0007,00,0007,00,0007,00,0007,00,0007,00,0007,00,0007,00,0006,00,0006,00,0006,00,0006,00,0006,00,0006,00,0006,00,0006,00,0006,00,0006,00,0006,00,0006,00,0006,00,0006,00,0006,00,0006,00,0006,00,0006,00,0006,00,0006,00,0006,00,0006,00,0006,00,0006,00,0006,00,0006,00,0006,00,0005,00,0005,00,0005,00,0005,00,0005,00,0005,00,0005,00,0005,00,0005,00,0005,00,0005,00,0005,00,0005,00,0005,00,0005,00,0005,00,0005,00,0005,00,0005,00,0005,00,0005,00,0005,00,0005,00,0005,00,0005,00,0005,00,0005,00,0005,00,0005,00,0005,00,0004,00,0004,00,0004,00,0004,00,0004,00,0004,00,0004,00,0004,00,0004,00,0004,00,0004,00,0004,00,0004,00,0004,00,0004,00,0004,00,0004,00,0004,00,0004,00,0004,00,0004,00,0004,00,0004,00,0004,00,0004,00,0004,00,0004,00,0004,00,0004,00,0004,00,0004,00,0004,00,0004,00,0003,00,0003,00,0003,00,0003,00,0003,00,0003,00,0003,00,0003,00,0003,00,0003,00,0003,00,0003,00,0003,00,0003,00,0003,00,0003,00,0003,00,0003,00,0003,00,0003,00,0003,00,0003,00,0003,00,0003,00,0003,00,0003,00,0003,00,0003,00,0003,00,0003,00,0003,00,0003,00,0003,00,0002,00,0002,00,0002,00,0002,00,0002,00,0002,00,0002,00,0002,00,0002,00,0002,00,0002,00,0002,00,0002,00,0002,00,0002,00,0002,00,0002,00,0002,00,0002,00,0002,00,0002,00,0002,00,0002,00,0002,00,0002,00,0002,00,0002,00,0002,00,0002,00,0002,00,0002,00,0002,00,0002,00,0002,00,0002,00,0002,00,0002,00,0002,00,0002,00,0002,00,0002,00,0002,00,0002,00,0002,00,0002,00,0002,00,0002,00,0002,00,0002,00,0002,00,0001,00,0001,00,0001,00,0001,00,0001,00,0001,00,0001,00,0001,00,0001,00,0001,00,0001,00,0001,00,0001,00,0001,00,0001,00,0001,00,0001,00,0001,00,0001,00,0001,00,0001,00,0001,00,0001,00,0001,00,0001,00,0001,00,0001,00,0001,00,0001,00,0001,00,0001,00,0001,00,0001,00,0001,00,0001,00,0001,00,0001,00,0001,00,0001,00,0001,00,0001,00,0001,00,0001,00,0001,00,0001,00,0001,00,0001,00,0001,00,0001,00,0001,00,0001,00,0001,00,0001,00,0001,00,0001,00,0001,00,0001,00,0001,00,0001,00,0001,00,0001,00,0001,00,0001,00,0001,00,0001,00,0001,00,0001,00,0001,00,0001,00,0001,00,0001,00,0001,00,0004,01,00,0009,71,00,0006,69,00,00017,08,00,00015,55,00,0003,80,00,0007,76,00,0005,53,00,0007,21,00,0005,65,00,0002,69,00,0006,37,00,0004,43,00,0002,98,00,0009,71,00,0001,67,00,0005,76,00,0004,03,00,0002,32,00,0001,82,00,0005,78,00,0004,29,00,0002,87,00,0003,54,00,0003,29,00,0004,69,00,0001,44,00,0002,83,00,0001,45,00,00040,00,0003,48,00,0002,40,00,0002,40,00,0001,81,00,0003,69,00,0003,25,00,0001,96,00,0003,17,00,0002,79,00,0003,79,00,0001,99,00,0002,28,00,0002,23,00,00088,00,0002,99,00,0002,64,00,0001,85,00,0001,76,00,00012,00,0005,94,00,0001,88,00,00087,00,0005,92,00,0003,74,00,0003,29,00,00065,00,0001,96,00,0001,92,00,0005,21,00,0001,54,00,0001,10,00,0001,09,00,0001,01,00,00055,00,0002,25,00,0001,92,00,0001,60,00,0003,76,00,0002,64,00,0001,77,00,0001,65,00,00078,00,0002,88,00,0002,03,00,0001,80,00,0001,63,00,0001,43,00,00073,00,00033,00,00028,00,0004,40,00,0001,83,00,0001,45,00,0001,04,00,0002,34,00,0001,65,00,0001,36,00,00048,00,00030,00,0002,08,00,0001,87,00,0001,35,00,0002,47,00,0001,59,00,0001,02,00,00098,00,00091,00,0002,37,00,0001,18,00,0001,06,00,00076,00,00025,00,0003,47,00,0003,11,00,0002,88,00,0001,93,00,0001,16,00,0001,03,00,00073,00,00032,00,0002,15,00,0002,09,00,0001,12,00,0001,06,00,00096,00,00081,00,00072,00,00064,00,0001,79,00,0001,57,00,0001,36,00,0001,23,00,0001,13,00,00088,00,00069,00,00053,00,00033,00,0001,13,00,0001,05,00,00099,00,00092,00,00091,00,00048,00,00026,00,00021,00,0002,14,00,0001,66,00,0001,65,00,0001,32,00,0001,27,00,0001,12,00,0001,05,00,00095,00,00091,00,00086,00,00074,00,00060,00,00055,00,00042,00,0001,31,00,0001,10,00,00096,00,00091,00,00087,00,00083,00,00065,00,00060,00,00055,00,00045,00,00045,00,0002,85,00,0001,85,00,0001,58,00,0001,12,00,00087,00,00079,00,00074,00,00060,00,00041,00,00031,00,00022,00,00019,00,0001,52,00,0001,51,00,0001,46,00,0001,36,00,0001,01,00,00070,00,00066,00,00064,00,00047,00,00045,00,00020,00,0003,18,00,0002,43,00,0001,15,00,0001,06,00,00076,00,00073,00,00065,00,00054,00,00047,00,00045,00,00039,00,00037,00,00016,00,00016,00,0001,88,00,0001,87,00,0001,33,00,0001,28,00,0001,17,00,0001,14,00,00084,00,00081,00,00072,00,00067,00,00054,00,00052,00,00036,00,00018,00,0001,09,00,0001,01,00,00092,00,00092,00,00082,00,00081,00,00079,00,00074,00,00060,00,00055,00,00051,00,00050,00,00049,00,00042,00,00041,00,0002,22,00,0001,21,00,0001,01,00,00098,00,00096,00,00084,00,00073,00,00072,00,00057,00,00054,00,00036,00,00017,00,00013,00,0001,47,00,0001,10,00,0001,09,00,0001,00,00,00088,00,00084,00,00072,00,00070,00,00062,00,00059,00,00058,00,00058,00,00057,00,00057,00,00057,00,00055,00,00055,00,00054,00,00049,00,00041,00,00026,00,00022,00,0005,00,0001,03,00,00091,00,00081,00,00080,00,00078,00,00072,00,00072,00,00068,00,00066,00,00054,00,00053,00,00052,00,00051,00,00051,00,00048,00,00046,00,00033,00,00025,00,0001,47,00,0001,04,00,0001,02,00,00075,00,00074,00,00073,00,00072,00,00072,00,00060,00,00060,00,00051,00,00050,00,00048,00,00044,00,00043,00,00041,00,00030,00,00029,00,00025,00,00017,00,00010,00,0009,00,0001,03,00,00082,00,00078,00,00066,00,00064,00,00061,00,00058,00,00050,00,00048,00,00045,00,00045,00,00044,00,00043,00,00041,00,00036,00,00035,00,00034,00,00033,00,00030,00,00028,00,00024,00,00020,00,0009,00,0009,00,0009,00,0001,50,00,0001,34,00,0001,28,00,0001,06,00,00078,00,00067,00,00062,00,00060,00,00052,00,00049,00,00047,00,00047,00,00047,00,00045,00,00044,00,00043,00,00039,00,00038,00,00037,00,00035,00,00034,00,00032,00,00029,00,00028,00,00026,00,00026,00,00023,00,00022,00,00020,00,00019,00,0002,21,00,0001,47,00,0001,20,00,0001,00,00,00075,00,00065,00,00061,00,00050,00,00047,00,00044,00,00044,00,00042,00,00040,00,00039,00,00039,00,00039,00,00037,00,00035,00,00035,00,00035,00,00034,00,00034,00,00033,00,00031,00,00031,00,00031,00,00029,00,00029,00,00029,00,00028,00,00023,00,00021,00,00020,00,00020,00,00019,00,00017,00,00013,00,00013,00,0008,00,0002,66,00,0001,42,00,0001,21,00,0001,14,00,00091,00,00070,00,00062,00,00043,00,00041,00,00040,00,00040,00,00038,00,00037,00,00036,00,00034,00,00034,00,00034,00,00034,00,00033,00,00029,00,00029,00,00026,00,00024,00,00024,00,00021,00,00021,00,00020,00,00020,00,00020,00,00018,00,00017,00,00016,00,00015,00,00014,00,00010,00,0006,00,0006,00,0006,00,00061,00,00055,00,00052,00,00050,00,00044,00,00041,00,00040,00,00038,00,00037,00,00034,00,00034,00,00033,00,00032,00,00030,00,00029,00,00028,00,00028,00,00028,00,00027,00,00027,00,00025,00,00025,00,00024,00,00023,00,00023,00,00022,00,00022,00,00022,00,00022,00,00021,00,00018,00,00018,00,00017,00,00016,00,00016,00,00016,00,00015,00,00014,00,00013,00,00013,00,0009,00,0008,00,0008,00,0007,00,0005,00,00066,00,00049,00,00046,00,00030,00,00030,00,00027,00,00026,00,00026,00,00025,00,00024,00,00024,00,00023,00,00023,00,00023,00,00023,00,00022,00,00021,00,00019,00,00018,00,00018,00,00017,00,00017,00,00014,00,00014,00,00013,00,00012,00,00012,00,00011,00,00010,00,0008,00,0007,00,0007,00,0004,00,0004,00,0003,00,00054,00,00049,00,00026,00,00023,00,00023,00,00022,00,00022,00,00020,00,00019,00,00019,00,00018,00,00018,00,00017,00,00017,00,00017,00,00017,00,00017,00,00017,00,00016,00,00016,00,00016,00,00016,00,00016,00,00015,00,00014,00,00014,00,00014,00,00014,00,00013,00,00012,00,00012,00,00012,00,00011,00,00011,00,00011,00,00011,00,00010,00,0009,00,0009,00,0009,00,0009,00,0009,00,0007,00,0007,00,0007,00,0006,00,0006,00,0006,00,0006,00,0004,00,0003,00,0003,00,0003,00,0003,00,0003,00,0003,00,0003,00,0003,00,00079,00,00043,00,00029,00,00029,00,00020,00,00018,00,00018,00,00014,00,00014,00,00013,00,00013,00,00013,00,00013,00,00013,00,00013,00,00012,00,00012,00,00012,00,00012,00,00012,00,00012,00,00012,00,00012,00,00011,00,00011,00,00011,00,00011,00,00010,00,00010,00,00010,00,00010,00,00010,00,00010,00,0009,00,0009,00,0009,00,0009,00,0009,00,0009,00,0009,00,0009,00,0008,00,0008,00,0008,00,0008,00,0008,00,0008,00,0008,00,0008,00,0007,00,0007,00,0007,00,0007,00,0006,00,0006,00,0006,00,0005,00,0004,00,0004,00,0004,00,0004,00,0003,00,0003,00,0003,00,0003,00,0003,00,0002,00,0002,00,0002,00,0002,00,0002,00,0002,00,0002,00,0002,00,0001,00,0001,00,0001,00,0001,00,00018,00,00010,00,00010,00,00010,00,00010,00,0009,00,0008,00,0007,00,0007,00,0007,00,0007,00,0007,00,0007,00,0007,00,0007,00,0006,00,0006,00,0006,00,0006,00,0006,00,0006,00,0006,00,0006,00,0006,00,0005,00,0005,00,0005,00,0005,00,0005,00,0005,00,0005,00,0005,00,0005,00,0005,00,0005,00,0004,00,0004,00,0004,00,0004,00,0004,00,0004,00,0004,00,0004,00,0004,00,0004,00,0004,00,0004,00,0004,00,0004,00,0004,00,0003,00,0003,00,0003,00,0003,00,0003,00,0003,00,0003,00,0003,00,0003,00,0003,00,0003,00,0003,00,0003,00,0003,00,0003,00,0003,00,0003,00,0003,00,0002,00,0002,00,0002,00,0002,00,0002,00,0002,00,0002,00,0002,00,0002,00,0002,00,0002,00,0001,00,0001,00,0001,00,0001,00,0001,00,0001,00,0001,00,0001,00,0001,00,0001,00,0001,00,0001,00,0001,00,0001,00,0001,00,0001,00,0001,00,0001,00,0001,00,0001,00,0001,00,0001,00,0001,00,0001,00,0001,00,0001,00,0001,00,0001,00,0001,00,0001,00,000",
          "20,18,00,00017,24,00,00016,83,00,00015,53,00,00015,39,00,00015,14,00,00014,67,00,00013,99,00,00013,59,00,00012,64,00,0009,25,00,0008,90,00,0008,79,00,0008,62,00,0008,61,00,0008,44,00,0008,17,00,0007,78,00,0007,52,00,0007,31,00,0006,90,00,0006,70,00,0006,27,00,0006,08,00,0005,99,00,0005,83,00,0005,83,00,0005,67,00,0005,44,00,0005,37,00,0005,25,00,0005,18,00,0004,88,00,0004,59,00,0004,57,00,0004,40,00,0004,29,00,0004,28,00,0004,27,00,0004,26,00,0004,06,00,0004,04,00,0003,91,00,0003,86,00,0003,83,00,0003,80,00,0003,73,00,0003,69,00,0003,66,00,0003,66,00,0003,61,00,0003,60,00,0003,55,00,0003,54,00,0003,52,00,0003,50,00,0003,40,00,0003,37,00,0003,34,00,0003,30,00,0003,28,00,0003,27,00,0003,26,00,0003,24,00,0003,21,00,0003,21,00,0003,19,00,0003,15,00,0003,11,00,0003,01,00,0003,01,00,0003,00,00,0002,97,00,0002,94,00,0002,92,00,0002,92,00,0002,90,00,0002,89,00,0002,87,00,0002,86,00,0002,83,00,0002,81,00,0002,80,00,0002,79,00,0002,76,00,0002,76,00,0002,75,00,0002,74,00,0002,70,00,0002,66,00,0002,66,00,0002,63,00,0002,57,00,0002,56,00,0002,54,00,0002,53,00,0002,52,00,0002,52,00,0002,48,00,0002,47,00,0002,47,00,0002,43,00,0002,43,00,0002,42,00,0002,40,00,0002,40,00,0002,40,00,0002,40,00,0002,39,00,0002,35,00,0002,34,00,0002,34,00,0002,33,00,0002,33,00,0002,32,00,0002,32,00,0002,31,00,0002,31,00,0002,30,00,0002,27,00,0002,22,00,0002,19,00,0002,18,00,0002,17,00,0002,15,00,0002,08,00,0002,07,00,0002,02,00,0002,01,00,0001,98,00,0001,97,00,0001,90,00,0001,90,00,0001,89,00,0001,88,00,0001,87,00,0001,86,00,0001,82,00,0001,81,00,0001,80,00,0001,76,00,0001,75,00,0001,74,00,0001,73,00,0001,73,00,0001,70,00,0001,69,00,0001,68,00,0001,66,00,0001,65,00,0001,65,00,0001,64,00,0001,63,00,0001,62,00,0001,61,00,0001,59,00,0001,57,00,0001,57,00,0001,56,00,0001,55,00,0001,55,00,0001,55,00,0001,55,00,0001,54,00,0001,53,00,0001,53,00,0001,52,00,0001,51,00,0001,47,00,0001,47,00,0001,45,00,0001,44,00,0001,42,00,0001,42,00,0001,41,00,0001,41,00,0001,40,00,0001,39,00,0001,37,00,0001,36,00,0001,36,00,0001,35,00,0001,35,00,0001,35,00,0001,35,00,0001,34,00,0001,34,00,0001,32,00,0001,32,00,0001,30,00,0001,30,00,0001,27,00,0001,27,00,0001,26,00,0001,24,00,0001,24,00,0001,23,00,0001,21,00,0001,20,00,0001,19,00,0001,19,00,0001,19,00,0001,19,00,0001,19,00,0001,18,00,0001,17,00,0001,17,00,0001,17,00,0001,17,00,0001,17,00,0001,16,00,0001,16,00,0001,16,00,0001,15,00,0001,15,00,0001,14,00,0001,14,00,0001,12,00,0001,11,00,0001,10,00,0001,10,00,0001,10,00,0001,10,00,0001,10,00,0001,09,00,0001,09,00,0001,09,00,0001,07,00,0001,07,00,0001,05,00,0001,04,00,0001,04,00,0001,04,00,0001,04,00,0001,04,00,0001,03,00,0001,03,00,0001,03,00,0001,03,00,0001,03,00,0001,02,00,0001,02,00,0001,01,00,0001,01,00,0001,01,00,00099,00,00099,00,00099,00,00099,00,00099,00,00099,00,00098,00,00097,00,00097,00,00097,00,00097,00,00096,00,00096,00,00096,00,00096,00,00094,00,00093,00,00093,00,00093,00,00092,00,00092,00,00091,00,00091,00,00091,00,00089,00,00089,00,00089,00,00088,00,00088,00,00087,00,00086,00,00086,00,00085,00,00085,00,00085,00,00084,00,00084,00,00083,00,00083,00,00083,00,00083,00,00082,00,00082,00,00082,00,00081,00,00081,00,00080,00,00080,00,00080,00,00080,00,00079,00,00079,00,00079,00,00078,00,00078,00,00078,00,00078,00,00077,00,00077,00,00077,00,00076,00,00076,00,00076,00,00076,00,00076,00,00076,00,00076,00,00076,00,00075,00,00074,00,00074,00,00074,00,00074,00,00074,00,00073,00,00073,00,00073,00,00073,00,00073,00,00072,00,00072,00,00072,00,00071,00,00071,00,00071,00,00071,00,00071,00,00070,00,00070,00,00070,00,00070,00,00069,00,00069,00,00068,00,00067,00,00067,00,00067,00,00066,00,00066,00,00065,00,00065,00,00065,00,00064,00,00064,00,00064,00,00064,00,00064,00,00063,00,00063,00,00063,00,00063,00,00063,00,00063,00,00063,00,00062,00,00062,00,00062,00,00062,00,00062,00,00062,00,00061,00,00061,00,00061,00,00061,00,00061,00,00061,00,00061,00,00061,00,00060,00,00060,00,00060,00,00060,00,00060,00,00060,00,00060,00,00060,00,00059,00,00059,00,00059,00,00059,00,00059,00,00058,00,00058,00,00058,00,00058,00,00057,00,00057,00,00057,00,00057,00,00057,00,00057,00,00057,00,00057,00,00056,00,00056,00,00056,00,00054,00,00054,00,00054,00,00054,00,00054,00,00053,00,00053,00,00053,00,00053,00,00053,00,00053,00,00053,00,00052,00,00052,00,00052,00,00052,00,00052,00,00052,00,00052,00,00052,00,00051,00,00051,00,00051,00,00051,00,00051,00,00051,00,00051,00,00051,00,00051,00,00050,00,00050,00,00050,00,00050,00,00050,00,00050,00,00050,00,00050,00,00049,00,00049,00,00049,00,00049,00,00049,00,00049,00,00048,00,00048,00,00048,00,00048,00,00048,00,00048,00,00048,00,00048,00,00047,00,00047,00,00047,00,00047,00,00047,00,00047,00,00046,00,00046,00,00046,00,00046,00,00046,00,00046,00,00045,00,00044,00,00044,00,00044,00,00044,00,00044,00,00044,00,00044,00,00044,00,00043,00,00043,00,00043,00,00043,00,00043,00,00042,00,00042,00,00041,00,00041,00,00040,00,00040,00,00039,00,00039,00,00039,00,00039,00,00039,00,00039,00,00039,00,00039,00,00038,00,00038,00,00038,00,00038,00,00038,00,00038,00,00038,00,00037,00,00037,00,00037,00,00037,00,00037,00,00037,00,00037,00,00037,00,00037,00,00037,00,00037,00,00037,00,00036,00,00036,00,00036,00,00036,00,00036,00,00036,00,00036,00,00036,00,00036,00,00035,00,00035,00,00035,00,00035,00,00035,00,00035,00,00035,00,00035,00,00035,00,00034,00,00034,00,00034,00,00034,00,00034,00,00034,00,00034,00,00034,00,00034,00,00034,00,00033,00,00033,00,00033,00,00033,00,00033,00,00033,00,00033,00,00033,00,00033,00,00032,00,00032,00,00032,00,00032,00,00032,00,00032,00,00032,00,00032,00,00032,00,00032,00,00031,00,00031,00,00031,00,00031,00,00031,00,00031,00,00031,00,00031,00,00031,00,00030,00,00030,00,00030,00,00030,00,00030,00,00030,00,00030,00,00030,00,00030,00,00030,00,00029,00,00029,00,00029,00,00029,00,00029,00,00029,00,00029,00,00029,00,00029,00,00028,00,00028,00,00028,00,00028,00,00028,00,00028,00,00028,00,00028,00,00028,00,00028,00,00027,00,00027,00,00027,00,00027,00,00026,00,00026,00,00026,00,00026,00,00026,00,00026,00,00026,00,00026,00,00026,00,00026,00,00026,00,00026,00,00026,00,00026,00,00025,00,00025,00,00025,00,00025,00,00025,00,00025,00,00025,00,00025,00,00025,00,00024,00,00024,00,00024,00,00024,00,00024,00,00024,00,00024,00,00024,00,00024,00,00024,00,00024,00,00024,00,00023,00,00023,00,00023,00,00023,00,00023,00,00023,00,00023,00,00023,00,00023,00,00023,00,00023,00,00023,00,00022,00,00022,00,00022,00,00022,00,00022,00,00022,00,00022,00,00022,00,00022,00,00022,00,00022,00,00022,00,00022,00,00022,00,00022,00,00021,00,00021,00,00021,00,00021,00,00021,00,00021,00,00021,00,00021,00,00021,00,00021,00,00021,00,00021,00,00021,00,00021,00,00020,00,00020,00,00020,00,00020,00,00020,00,00020,00,00020,00,00020,00,00020,00,00020,00,00020,00,00019,00,00019,00,00019,00,00019,00,00019,00,00019,00,00019,00,00019,00,00019,00,00019,00,00019,00,00019,00,00018,00,00018,00,00018,00,00018,00,00018,00,00018,00,00018,00,00018,00,00018,00,00018,00,00018,00,00018,00,00018,00,00018,00,00018,00,00017,00,00017,00,00017,00,00017,00,00017,00,00017,00,00017,00,00017,00,00017,00,00017,00,00017,00,00016,00,00016,00,00016,00,00016,00,00016,00,00016,00,00016,00,00016,00,00016,00,00016,00,00016,00,00016,00,00016,00,00016,00,00016,00,00015,00,00015,00,00015,00,00015,00,00015,00,00015,00,00015,00,00015,00,00015,00,00015,00,00015,00,00015,00,00015,00,00015,00,00015,00,00015,00,00015,00,00015,00,00015,00,00014,00,00014,00,00014,00,00014,00,00014,00,00014,00,00014,00,00014,00,00014,00,00014,00,00014,00,00014,00,00014,00,00014,00,00014,00,00014,00,00014,00,00013,00,00013,00,00013,00,00013,00,00013,00,00013,00,00013,00,00013,00,00013,00,00013,00,00013,00,00013,00,00013,00,00013,00,00013,00,00013,00,00013,00,00013,00,00013,00,00013,00,00012,00,00012,00,00012,00,00012,00,00012,00,00012,00,00012,00,00012,00,00012,00,00012,00,00012,00,00012,00,00012,00,00012,00,00012,00,00012,00,00012,00,00012,00,00011,00,00011,00,00011,00,00011,00,00011,00,00011,00,00011,00,00011,00,00011,00,00011,00,00011,00,00011,00,00011,00,00011,00,00011,00,00011,00,00011,00,00011,00,00011,00,00011,00,00011,00,00010,00,00010,00,00010,00,00010,00,00010,00,00010,00,00010,00,00010,00,00010,00,00010,00,00010,00,00010,00,00010,00,00010,00,00010,00,00010,00,00010,00,0009,00,0009,00,0009,00,0009,00,0009,00,0009,00,0009,00,0009,00,0009,00,0009,00,0009,00,0009,00,0009,00,0009,00,0009,00,0009,00,0009,00,0009,00,0009,00,0009,00,0009,00,0009,00,0009,00,0009,00,0009,00,0009,00,0009,00,0008,00,0008,00,0008,00,0008,00,0008,00,0008,00,0008,00,0008,00,0008,00,0008,00,0008,00,0008,00,0008,00,0008,00,0008,00,0008,00,0008,00,0008,00,0008,00,0008,00,0007,00,0007,00,0007,00,0007,00,0007,00,0007,00,0007,00,0007,00,0007,00,0007,00,0007,00,0007,00,0007,00,0006,00,0006,00,0006,00,0006,00,0006,00,0006,00,0006,00,0006,00,0006,00,0006,00,0006,00,0006,00,0006,00,0006,00,0006,00,0006,00,0006,00,0006,00,0006,00,0006,00,0006,00,0006,00,0006,00,0006,00,0006,00,0006,00,0006,00,0005,00,0005,00,0005,00,0005,00,0005,00,0005,00,0005,00,0005,00,0005,00,0005,00,0005,00,0005,00,0005,00,0005,00,0005,00,0005,00,0005,00,0005,00,0005,00,0005,00,0005,00,0005,00,0005,00,0005,00,0005,00,0005,00,0005,00,0005,00,0004,00,0004,00,0004,00,0004,00,0004,00,0004,00,0004,00,0004,00,0004,00,0004,00,0004,00,0004,00,0004,00,0004,00,0004,00,0004,00,0004,00,0004,00,0004,00,0004,00,0004,00,0004,00,0004,00,0004,00,0004,00,0004,00,0004,00,0004,00,0004,00,0004,00,0004,00,0004,00,0004,00,0004,00,0004,00,0004,00,0004,00,0004,00,0004,00,0003,00,0003,00,0003,00,0003,00,0003,00,0003,00,0003,00,0003,00,0003,00,0003,00,0003,00,0003,00,0003,00,0003,00,0003,00,0003,00,0003,00,0003,00,0003,00,0003,00,0003,00,0003,00,0003,00,0003,00,0003,00,0003,00,0003,00,0003,00,0003,00,0003,00,0003,00,0003,00,0003,00,0002,00,0002,00,0002,00,0002,00,0002,00,0002,00,0002,00,0002,00,0002,00,0002,00,0002,00,0002,00,0002,00,0002,00,0002,00,0002,00,0002,00,0002,00,0002,00,0002,00,0002,00,0002,00,0002,00,0002,00,0002,00,0002,00,0002,00,0002,00,0002,00,0002,00,0002,00,0002,00,0002,00,0002,00,0002,00,0002,00,0002,00,0002,00,0002,00,0002,00,0002,00,0002,00,0002,00,0002,00,0002,00,0002,00,0002,00,0002,00,0002,00,0002,00,0002,00,0002,00,0002,00,0002,00,0002,00,0002,00,0002,00,0002,00,0002,00,0001,00,0001,00,0001,00,0001,00,0001,00,0001,00,0001,00,0001,00,0001,00,0001,00,0001,00,0001,00,0001,00,0001,00,0001,00,0001,00,0001,00,0001,00,0001,00,0001,00,0001,00,0001,00,0001,00,0001,00,0001,00,0001,00,0001,00,0001,00,0001,00,0001,00,0001,00,0001,00,0001,00,0001,00,0001,00,0001,00,0001,00,0001,00,0001,00,0001,00,0001,00,0001,00,0001,00,0001,00,0001,00,0001,00,0001,00,0001,00,0001,00,0001,00,0001,00,0001,00,0001,00,0001,00,0001,00,0001,00,0001,00,0001,00,0001,00,0001,00,0001,00,0001,00,0001,00,00054,19,00,00028,62,00,00036,38,00,00029,23,00,00017,14,00,00063,02,00,0007,72,00,0008,96,00,00010,11,00,0006,05,00,00017,94,00,0007,50,00,00012,73,00,00016,40,00,00013,21,00,0008,79,00,0009,85,00,0009,00,00,0007,77,00,0004,13,00,0005,53,00,0004,81,00,00016,07,00,00011,14,00,0006,42,00,00022,20,00,0008,16,00,0007,85,00,0003,90,00,0009,72,00,0001,22,00,00013,70,00,0007,30,00,0005,34,00,0003,42,00,00015,95,00,0007,68,00,0004,35,00,0005,05,00,0004,36,00,0005,44,00,0002,92,00,0008,18,00,0006,23,00,0004,68,00,00011,92,00,0009,88,00,0002,54,00,0003,88,00,0007,13,00,0002,42,00,0001,86,00,00013,11,00,0007,77,00,0005,51,00,0005,33,00,0003,24,00,0005,13,00,0003,58,00,0003,52,00,0004,30,00,0002,12,00,0003,94,00,0003,09,00,0002,84,00,0002,64,00,0002,37,00,00028,70,00,0001,52,00,0007,35,00,0002,98,00,0002,17,00,0003,55,00,0002,74,00,0003,33,00,0001,93,00,0001,69,00,0005,00,00,0002,26,00,0004,55,00,0004,10,00,0004,47,00,0003,39,00,0002,90,00,0001,66,00,0003,25,00,0001,60,00,0003,53,00,0002,02,00,0001,80,00,00092,00,0006,41,00,0002,99,00,0001,61,00,0002,96,00,0001,89,00,0001,83,00,0006,89,00,0002,85,00,0001,83,00,0001,78,00,0001,65,00,00069,00,0004,52,00,0002,67,00,0001,86,00,0001,78,00,0001,22,00,00057,00,00032,00,0001,56,00,0001,85,00,0001,82,00,0001,70,00,0001,40,00,0001,20,00,0002,99,00,0001,80,00,0002,00,00,0001,54,00,0001,43,00,00069,00,0003,56,00,0003,06,00,0002,42,00,0002,26,00,0001,91,00,0001,58,00,0001,53,00,0001,50,00,00096,00,00090,00,00059,00,00059,00,0002,19,00,0001,51,00,00087,00,0006,04,00,0002,90,00,0001,83,00,0002,55,00,0001,86,00,0001,46,00,0001,27,00,0001,03,00,0003,63,00,0003,05,00,0002,27,00,0002,24,00,0001,91,00,0001,90,00,0001,82,00,0001,43,00,0001,16,00,00082,00,0006,20,00,0002,91,00,0001,59,00,0001,57,00,0001,53,00,0001,15,00,0001,11,00,00094,00,00092,00,00055,00,0003,14,00,0002,22,00,0001,36,00,0001,33,00,0001,28,00,0001,25,00,0001,24,00,00073,00,00067,00,0001,97,00,0001,38,00,0001,08,00,00076,00,00075,00,00065,00,00049,00,0002,02,00,0001,70,00,0001,30,00,00093,00,00050,00,00042,00,00037,00,0004,31,00,0002,73,00,0001,93,00,0001,81,00,0001,51,00,0001,40,00,0001,03,00,00075,00,00064,00,00051,00,0002,09,00,00095,00,00092,00,0001,94,00,00098,00,00086,00,00059,00,00041,00,00017,00,0002,27,00,0001,91,00,0001,43,00,0001,32,00,0001,16,00,0001,11,00,00095,00,00094,00,00089,00,00085,00,00080,00,00060,00,00048,00,0002,29,00,0001,76,00,0001,18,00,00087,00,00082,00,00066,00,00055,00,00055,00,00052,00,00049,00,0002,38,00,0002,25,00,0001,30,00,0001,28,00,0001,28,00,0001,17,00,00088,00,00083,00,00074,00,00073,00,00071,00,00060,00,00059,00,00037,00,00022,00,0008,00,0001,35,00,0001,11,00,00058,00,00035,00,00024,00,00016,00,0001,98,00,0001,06,00,00099,00,00083,00,00082,00,00071,00,00070,00,00067,00,00066,00,00053,00,00045,00,00039,00,00016,00,0001,48,00,0001,30,00,0001,17,00,0001,16,00,0001,00,00,00082,00,00077,00,00077,00,00067,00,00065,00,00059,00,00056,00,00047,00,00036,00,00033,00,00032,00,00031,00,00030,00,0004,95,00,0001,23,00,00098,00,00094,00,00079,00,00077,00,00075,00,00062,00,00062,00,00061,00,00060,00,00058,00,00057,00,00041,00,00032,00,00020,00,00018,00,0002,21,00,0001,73,00,0001,43,00,0001,08,00,00094,00,00068,00,00064,00,00063,00,00060,00,00059,00,00054,00,00052,00,00049,00,00045,00,00044,00,00043,00,00039,00,00039,00,00038,00,00037,00,00033,00,0009,00,0004,00,0001,37,00,00078,00,00074,00,00059,00,00058,00,00052,00,00048,00,00046,00,00043,00,00042,00,00041,00,00038,00,00035,00,00027,00,00024,00,00018,00,0001,76,00,00081,00,00058,00,00056,00,00055,00,00055,00,00051,00,00049,00,00048,00,00047,00,00041,00,00039,00,00035,00,00032,00,00027,00,00025,00,00024,00,00022,00,00010,00,00010,00,0003,41,00,0002,25,00,0001,97,00,00084,00,00082,00,00070,00,00068,00,00054,00,00050,00,00045,00,00045,00,00045,00,00042,00,00040,00,00040,00,00037,00,00036,00,00035,00,00034,00,00033,00,00027,00,00024,00,00021,00,00021,00,0008,00,0007,00,0004,00,0003,01,00,00069,00,00063,00,00059,00,00047,00,00045,00,00043,00,00042,00,00040,00,00039,00,00038,00,00035,00,00033,00,00032,00,00030,00,00030,00,00030,00,00028,00,00027,00,00027,00,00023,00,00022,00,00020,00,00018,00,00017,00,00015,00,00012,00,0007,00,0005,00,0004,00,0003,16,00,0002,09,00,0001,40,00,0001,08,00,0001,05,00,00068,00,00058,00,00057,00,00052,00,00036,00,00036,00,00031,00,00031,00,00031,00,00030,00,00030,00,00029,00,00028,00,00027,00,00027,00,00026,00,00026,00,00024,00,00023,00,00023,00,00022,00,00020,00,00020,00,00020,00,00018,00,00018,00,00018,00,00017,00,00016,00,00016,00,00014,00,0007,00,0002,38,00,0001,10,00,00044,00,00039,00,00036,00,00035,00,00034,00,00034,00,00034,00,00033,00,00030,00,00029,00,00028,00,00028,00,00028,00,00027,00,00027,00,00027,00,00027,00,00026,00,00025,00,00024,00,00024,00,00023,00,00023,00,00023,00,00023,00,00021,00,00021,00,00020,00,00019,00,00019,00,00018,00,00018,00,00018,00,00017,00,00017,00,00015,00,00015,00,00015,00,00012,00,00012,00,00011,00,00010,00,00010,00,0008,00,0005,00,0005,00,0004,00,0004,00,0004,00,0001,85,00,00076,00,00062,00,00043,00,00042,00,00038,00,00034,00,00033,00,00032,00,00029,00,00026,00,00025,00,00025,00,00024,00,00024,00,00024,00,00024,00,00024,00,00023,00,00023,00,00022,00,00021,00,00020,00,00019,00,00019,00,00019,00,00018,00,00018,00,00018,00,00018,00,00017,00,00017,00,00016,00,00015,00,00015,00,00015,00,00014,00,00014,00,00013,00,00013,00,00013,00,00012,00,00012,00,00012,00,00012,00,00011,00,00011,00,00011,00,00010,00,0009,00,0007,00,0004,00,0004,00,0004,00,0003,00,00080,00,00046,00,00026,00,00026,00,00025,00,00024,00,00024,00,00022,00,00021,00,00021,00,00020,00,00019,00,00019,00,00019,00,00018,00,00018,00,00018,00,00018,00,00017,00,00017,00,00016,00,00016,00,00016,00,00016,00,00016,00,00016,00,00016,00,00016,00,00016,00,00016,00,00015,00,00015,00,00015,00,00015,00,00015,00,00015,00,00015,00,00014,00,00014,00,00014,00,00014,00,00013,00,00012,00,00012,00,00012,00,00012,00,00011,00,00011,00,00011,00,00011,00,00011,00,00010,00,00010,00,00010,00,00010,00,00010,00,0009,00,0009,00,0009,00,0009,00,0009,00,0008,00,0008,00,0007,00,0007,00,0007,00,0007,00,0007,00,0006,00,0006,00,0005,00,0004,00,0004,00,0004,00,0003,00,0003,00,0002,00,0001,00,00098,00,00092,00,00070,00,00041,00,00025,00,00021,00,00019,00,00017,00,00016,00,00016,00,00015,00,00015,00,00015,00,00015,00,00014,00,00014,00,00013,00,00013,00,00013,00,00013,00,00012,00,00012,00,00012,00,00011,00,00011,00,00011,00,00010,00,00010,00,00010,00,00010,00,00010,00,00010,00,00010,00,0009,00,0009,00,0009,00,0009,00,0008,00,0008,00,0008,00,0008,00,0008,00,0008,00,0007,00,0007,00,0007,00,0007,00,0006,00,0006,00,0006,00,0006,00,0005,00,0005,00,0005,00,0004,00,0004,00,0004,00,0004,00,0004,00,0003,00,0003,00,0002,00,0002,00,0002,00,0002,00,0002,00,0002,00,0002,00,0001,00,0001,00,0001,00,00025,00,00015,00,00012,00,00010,00,00010,00,0009,00,0008,00,0008,00,0008,00,0007,00,0007,00,0007,00,0007,00,0007,00,0006,00,0006,00,0006,00,0006,00,0006,00,0006,00,0006,00,0005,00,0005,00,0005,00,0005,00,0005,00,0005,00,0005,00,0005,00,0005,00,0005,00,0004,00,0004,00,0004,00,0004,00,0004,00,0004,00,0004,00,0004,00,0004,00,0004,00,0003,00,0003,00,0003,00,0003,00,0003,00,0003,00,0003,00,0003,00,0003,00,0003,00,0003,00,0003,00,0003,00,0003,00,0002,00,0002,00,0002,00,0002,00,0002,00,0002,00,0002,00,0002,00,0002,00,0002,00,0001,00,0001,00,0001,00,0001,00,0001,00,0001,00,0001,00,0001,00,0001,00,0001,00,0001,00,0001,00,0001,00,0001,00,0001,00,0001,00,0001,00,0001,00,0001,00,0001,00,0001,00,0001,00,0001,00,0001,00,0001,00,0001,00,0001,00,0001,00,0001,00,0001,00,0001,00,0001,00,0001,00,0001,00,0001,00,0001,00,0001,00,0001,00,0001,00,0001,00,0001,00,000",
          "50,77,00,00026,26,00,00017,01,00,00016,20,00,00015,30,00,00015,21,00,00015,15,00,00014,93,00,00013,68,00,00013,21,00,00013,07,00,00012,92,00,00012,91,00,00011,62,00,00010,72,00,00010,70,00,00010,66,00,00010,43,00,00010,28,00,0009,99,00,0009,90,00,0009,85,00,0009,64,00,0009,58,00,0009,57,00,0009,47,00,0009,44,00,0009,43,00,0009,08,00,0008,86,00,0008,73,00,0008,72,00,0008,62,00,0008,54,00,0008,32,00,0008,25,00,0008,25,00,0008,24,00,0008,21,00,0008,18,00,0008,05,00,0008,03,00,0008,00,00,0007,72,00,0007,66,00,0007,63,00,0007,52,00,0007,51,00,0007,34,00,0007,33,00,0007,22,00,0007,16,00,0007,13,00,0007,13,00,0007,06,00,0006,99,00,0006,98,00,0006,97,00,0006,92,00,0006,89,00,0006,85,00,0006,82,00,0006,81,00,0006,78,00,0006,78,00,0006,77,00,0006,72,00,0006,71,00,0006,70,00,0006,67,00,0006,60,00,0006,44,00,0006,43,00,0006,42,00,0006,39,00,0006,37,00,0006,37,00,0006,35,00,0006,35,00,0006,28,00,0006,23,00,0006,20,00,0006,15,00,0006,15,00,0006,13,00,0006,11,00,0006,11,00,0005,98,00,0005,85,00,0005,83,00,0005,79,00,0005,78,00,0005,75,00,0005,75,00,0005,74,00,0005,74,00,0005,70,00,0005,65,00,0005,64,00,0005,64,00,0005,63,00,0005,60,00,0005,57,00,0005,55,00,0005,52,00,0005,52,00,0005,51,00,0005,50,00,0005,48,00,0005,44,00,0005,36,00,0005,30,00,0005,24,00,0005,23,00,0005,20,00,0005,20,00,0005,18,00,0005,18,00,0005,16,00,0005,13,00,0005,12,00,0005,12,00,0005,10,00,0005,04,00,0005,03,00,0005,01,00,0005,00,00,0005,00,00,0004,96,00,0004,94,00,0004,93,00,0004,92,00,0004,89,00,0004,89,00,0004,86,00,0004,86,00,0004,85,00,0004,85,00,0004,84,00,0004,83,00,0004,82,00,0004,81,00,0004,81,00,0004,81,00,0004,75,00,0004,69,00,0004,69,00,0004,66,00,0004,65,00,0004,64,00,0004,64,00,0004,62,00,0004,61,00,0004,61,00,0004,59,00,0004,57,00,0004,55,00,0004,54,00,0004,54,00,0004,54,00,0004,53,00,0004,53,00,0004,52,00,0004,51,00,0004,49,00,0004,49,00,0004,48,00,0004,47,00,0004,46,00,0004,43,00,0004,42,00,0004,39,00,0004,38,00,0004,37,00,0004,36,00,0004,35,00,0004,34,00,0004,33,00,0004,33,00,0004,32,00,0004,32,00,0004,32,00,0004,32,00,0004,31,00,0004,28,00,0004,28,00,0004,27,00,0004,27,00,0004,24,00,0004,23,00,0004,21,00,0004,21,00,0004,18,00,0004,17,00,0004,15,00,0004,14,00,0004,14,00,0004,12,00,0004,11,00,0004,09,00,0004,09,00,0004,09,00,0004,06,00,0004,05,00,0004,04,00,0004,03,00,0004,03,00,0004,03,00,0004,03,00,0004,03,00,0004,03,00,0004,01,00,0004,00,00,0003,99,00,0003,98,00,0003,95,00,0003,94,00,0003,93,00,0003,93,00,0003,89,00,0003,87,00,0003,87,00,0003,86,00,0003,84,00,0003,83,00,0003,81,00,0003,80,00,0003,80,00,0003,78,00,0003,78,00,0003,77,00,0003,77,00,0003,76,00,0003,76,00,0003,76,00,0003,75,00,0003,74,00,0003,74,00,0003,71,00,0003,71,00,0003,71,00,0003,71,00,0003,70,00,0003,69,00,0003,67,00,0003,66,00,0003,65,00,0003,64,00,0003,62,00,0003,62,00,0003,60,00,0003,60,00,0003,59,00,0003,59,00,0003,58,00,0003,58,00,0003,56,00,0003,52,00,0003,52,00,0003,50,00,0003,49,00,0003,48,00,0003,46,00,0003,46,00,0003,46,00,0003,45,00,0003,44,00,0003,43,00,0003,41,00,0003,41,00,0003,40,00,0003,40,00,0003,40,00,0003,39,00,0003,38,00,0003,38,00,0003,37,00,0003,37,00,0003,35,00,0003,34,00,0003,31,00,0003,31,00,0003,30,00,0003,29,00,0003,28,00,0003,27,00,0003,25,00,0003,24,00,0003,24,00,0003,24,00,0003,23,00,0003,23,00,0003,23,00,0003,23,00,0003,22,00,0003,21,00,0003,21,00,0003,19,00,0003,19,00,0003,17,00,0003,14,00,0003,13,00,0003,12,00,0003,11,00,0003,11,00,0003,10,00,0003,10,00,0003,10,00,0003,09,00,0003,08,00,0003,07,00,0003,06,00,0003,06,00,0003,05,00,0003,04,00,0003,04,00,0003,03,00,0003,03,00,0003,03,00,0003,02,00,0003,02,00,0003,02,00,0003,01,00,0003,01,00,0003,01,00,0003,00,00,0003,00,00,0002,99,00,0002,99,00,0002,99,00,0002,99,00,0002,98,00,0002,98,00,0002,96,00,0002,96,00,0002,96,00,0002,96,00,0002,95,00,0002,95,00,0002,95,00,0002,94,00,0002,93,00,0002,93,00,0002,92,00,0002,92,00,0002,91,00,0002,90,00,0002,90,00,0002,89,00,0002,89,00,0002,88,00,0002,88,00,0002,88,00,0002,88,00,0002,86,00,0002,83,00,0002,83,00,0002,83,00,0002,82,00,0002,82,00,0002,82,00,0002,81,00,0002,81,00,0002,81,00,0002,81,00,0002,81,00,0002,80,00,0002,80,00,0002,80,00,0002,79,00,0002,79,00,0002,79,00,0002,78,00,0002,78,00,0002,78,00,0002,77,00,0002,77,00,0002,77,00,0002,77,00,0002,76,00,0002,76,00,0002,76,00,0002,76,00,0002,75,00,0002,75,00,0002,75,00,0002,74,00,0002,74,00,0002,73,00,0002,73,00,0002,73,00,0002,73,00,0002,72,00,0002,72,00,0002,71,00,0002,71,00,0002,71,00,0002,71,00,0002,71,00,0002,71,00,0002,71,00,0002,71,00,0002,70,00,0002,70,00,0002,69,00,0002,68,00,0002,68,00,0002,68,00,0002,67,00,0002,67,00,0002,67,00,0002,66,00,0002,66,00,0002,66,00,0002,66,00,0002,66,00,0002,65,00,0002,64,00,0002,64,00,0002,63,00,0002,63,00,0002,62,00,0002,62,00,0002,62,00,0002,61,00,0002,61,00,0002,60,00,0002,60,00,0002,60,00,0002,59,00,0002,59,00,0002,58,00,0002,57,00,0002,57,00,0002,55,00,0002,55,00,0002,55,00,0002,54,00,0002,54,00,0002,54,00,0002,54,00,0002,54,00,0002,53,00,0002,53,00,0002,53,00,0002,52,00,0002,51,00,0002,50,00,0002,50,00,0002,48,00,0002,48,00,0002,48,00,0002,48,00,0002,48,00,0002,47,00,0002,47,00,0002,47,00,0002,45,00,0002,45,00,0002,45,00,0002,45,00,0002,45,00,0002,44,00,0002,44,00,0002,43,00,0002,43,00,0002,43,00,0002,42,00,0002,41,00,0002,40,00,0002,40,00,0002,40,00,0002,40,00,0002,39,00,0002,39,00,0002,39,00,0002,39,00,0002,38,00,0002,38,00,0002,37,00,0002,36,00,0002,36,00,0002,36,00,0002,35,00,0002,34,00,0002,34,00,0002,34,00,0002,34,00,0002,33,00,0002,33,00,0002,33,00,0002,33,00,0002,32,00,0002,31,00,0002,31,00,0002,31,00,0002,31,00,0002,31,00,0002,30,00,0002,30,00,0002,30,00,0002,29,00,0002,29,00,0002,29,00,0002,29,00,0002,29,00,0002,29,00,0002,28,00,0002,27,00,0002,27,00,0002,27,00,0002,26,00,0002,26,00,0002,25,00,0002,25,00,0002,24,00,0002,24,00,0002,24,00,0002,23,00,0002,23,00,0002,23,00,0002,22,00,0002,22,00,0002,22,00,0002,21,00,0002,20,00,0002,20,00,0002,20,00,0002,19,00,0002,18,00,0002,18,00,0002,18,00,0002,18,00,0002,17,00,0002,17,00,0002,17,00,0002,16,00,0002,16,00,0002,16,00,0002,16,00,0002,16,00,0002,15,00,0002,15,00,0002,14,00,0002,14,00,0002,13,00,0002,13,00,0002,13,00,0002,13,00,0002,12,00,0002,12,00,0002,12,00,0002,12,00,0002,11,00,0002,11,00,0002,11,00,0002,10,00,0002,10,00,0002,10,00,0002,10,00,0002,09,00,0002,09,00,0002,09,00,0002,09,00,0002,08,00,0002,08,00,0002,08,00,0002,08,00,0002,08,00,0002,08,00,0002,07,00,0002,07,00,0002,07,00,0002,06,00,0002,06,00,0002,05,00,0002,05,00,0002,04,00,0002,04,00,0002,04,00,0002,04,00,0002,03,00,0002,03,00,0002,03,00,0002,03,00,0002,03,00,0002,02,00,0002,02,00,0002,01,00,0002,01,00,0002,01,00,0002,00,00,0002,00,00,0002,00,00,0002,00,00,0001,99,00,0001,99,00,0001,98,00,0001,98,00,0001,97,00,0001,97,00,0001,97,00,0001,97,00,0001,97,00,0001,96,00,0001,96,00,0001,96,00,0001,96,00,0001,95,00,0001,95,00,0001,95,00,0001,94,00,0001,94,00,0001,94,00,0001,94,00,0001,94,00,0001,94,00,0001,93,00,0001,93,00,0001,92,00,0001,92,00,0001,91,00,0001,91,00,0001,91,00,0001,91,00,0001,91,00,0001,90,00,0001,90,00,0001,90,00,0001,89,00,0001,89,00,0001,89,00,0001,88,00,0001,88,00,0001,87,00,0001,87,00,0001,87,00,0001,87,00,0001,87,00,0001,87,00,0001,87,00,0001,86,00,0001,86,00,0001,86,00,0001,86,00,0001,86,00,0001,86,00,0001,85,00,0001,85,00,0001,84,00,0001,84,00,0001,84,00,0001,83,00,0001,83,00,0001,83,00,0001,83,00,0001,83,00,0001,83,00,0001,83,00,0001,82,00,0001,81,00,0001,81,00,0001,81,00,0001,81,00,0001,81,00,0001,81,00,0001,80,00,0001,80,00,0001,80,00,0001,79,00,0001,79,00,0001,79,00,0001,79,00,0001,79,00,0001,79,00,0001,78,00,0001,78,00,0001,78,00,0001,76,00,0001,76,00,0001,75,00,0001,75,00,0001,75,00,0001,75,00,0001,75,00,0001,74,00,0001,74,00,0001,74,00,0001,74,00,0001,74,00,0001,74,00,0001,74,00,0001,73,00,0001,73,00,0001,73,00,0001,73,00,0001,72,00,0001,72,00,0001,72,00,0001,71,00,0001,71,00,0001,71,00,0001,71,00,0001,71,00,0001,71,00,0001,71,00,0001,70,00,0001,70,00,0001,70,00,0001,69,00,0001,69,00,0001,69,00,0001,69,00,0001,69,00,0001,69,00,0001,69,00,0001,69,00,0001,68,00,0001,68,00,0001,68,00,0001,68,00,0001,67,00,0001,67,00,0001,67,00,0001,67,00,0001,67,00,0001,66,00,0001,66,00,0001,66,00,0001,66,00,0001,65,00,0001,65,00,0001,65,00,0001,65,00,0001,65,00,0001,65,00,0001,65,00,0001,65,00,0001,64,00,0001,64,00,0001,64,00,0001,64,00,0001,64,00,0001,64,00,0001,63,00,0001,63,00,0001,63,00,0001,63,00,0001,63,00,0001,63,00,0001,63,00,0001,62,00,0001,62,00,0001,62,00,0001,62,00,0001,62,00,0001,62,00,0001,62,00,0001,62,00,0001,61,00,0001,61,00,0001,61,00,0001,61,00,0001,61,00,0001,60,00,0001,60,00,0001,60,00,0001,60,00,0001,60,00,0001,59,00,0001,59,00,0001,59,00,0001,59,00,0001,59,00,0001,59,00,0001,59,00,0001,58,00,0001,58,00,0001,58,00,0001,57,00,0001,57,00,0001,57,00,0001,56,00,0001,55,00,0001,55,00,0001,55,00,0001,54,00,0001,54,00,0001,54,00,0001,54,00,0001,54,00,0001,54,00,0001,53,00,0001,53,00,0001,53,00,0001,52,00,0001,52,00,0001,52,00,0001,52,00,0001,52,00,0001,51,00,0001,51,00,0001,51,00,0001,50,00,0001,50,00,0001,50,00,0001,50,00,0001,50,00,0001,49,00,0001,49,00,0001,49,00,0001,49,00,0001,48,00,0001,47,00,0001,47,00,0001,47,00,0001,47,00,0001,47,00,0001,47,00,0001,46,00,0001,46,00,0001,46,00,0001,46,00,0001,45,00,0001,45,00,0001,45,00,0001,45,00,0001,45,00,0001,45,00,0001,44,00,0001,44,00,0001,44,00,0001,44,00,0001,43,00,0001,43,00,0001,43,00,0001,43,00,0001,43,00,0001,43,00,0001,43,00,0001,42,00,0001,42,00,0001,42,00,0001,42,00,0001,42,00,0001,42,00,0001,42,00,0001,42,00,0001,42,00,0001,41,00,0001,41,00,0001,41,00,0001,41,00,0001,41,00,0001,41,00,0001,40,00,0001,40,00,0001,40,00,0001,40,00,0001,40,00,0001,39,00,0001,39,00,0001,39,00,0001,39,00,0001,39,00,0001,39,00,0001,38,00,0001,38,00,0001,38,00,0001,38,00,0001,38,00,0001,38,00,0001,38,00,0001,38,00,0001,38,00,0001,38,00,0001,38,00,0001,37,00,0001,37,00,0001,37,00,0001,36,00,0001,36,00,0001,36,00,0001,36,00,0001,36,00,0001,35,00,0001,35,00,0001,35,00,0001,35,00,0001,35,00,0001,35,00,0001,35,00,0001,35,00,0001,34,00,0001,34,00,0001,34,00,0001,34,00,0001,34,00,0001,34,00,0001,34,00,0001,34,00,0001,34,00,0001,33,00,0001,33,00,0001,33,00,0001,33,00,0001,33,00,0001,33,00,0001,33,00,0001,33,00,0001,33,00,0001,33,00,0001,33,00,0001,33,00,0001,32,00,0001,32,00,0001,32,00,0001,32,00,0001,32,00,0001,32,00,0001,32,00,0001,31,00,0001,31,00,0001,31,00,0001,31,00,0001,31,00,0001,31,00,0001,31,00,0001,31,00,0001,30,00,0001,30,00,0001,30,00,0001,30,00,0001,30,00,0001,29,00,0001,29,00,0001,29,00,0001,29,00,0001,29,00,0001,29,00,0001,29,00,0001,29,00,0001,28,00,0001,28,00,0001,28,00,0001,27,00,0001,27,00,0001,27,00,0001,27,00,0001,27,00,0001,26,00,0001,26,00,0001,26,00,0001,26,00,0001,26,00,0001,26,00,0001,26,00,0001,25,00,0001,25,00,0001,25,00,0001,25,00,0001,25,00,0001,25,00,0001,25,00,0001,25,00,0001,25,00,0001,25,00,0001,25,00,0001,25,00,0001,25,00,0001,25,00,0001,25,00,0001,24,00,0001,24,00,0001,24,00,0001,24,00,0001,24,00,0001,24,00,0001,24,00,0001,24,00,0001,24,00,0001,24,00,0001,24,00,0001,23,00,0001,23,00,0001,23,00,0001,23,00,0001,23,00,0001,22,00,0001,22,00,0001,22,00,0001,22,00,0001,22,00,0001,22,00,0001,22,00,0001,22,00,0001,22,00,0001,22,00,0001,22,00,0001,22,00,0001,22,00,0001,22,00,0001,21,00,0001,21,00,0001,21,00,0001,21,00,0001,21,00,0001,21,00,0001,21,00,0001,21,00,0001,20,00,0001,20,00,0001,20,00,0001,20,00,0001,20,00,0001,20,00,0001,20,00,0001,20,00,0001,20,00,0001,20,00,0001,19,00,0001,19,00,0001,19,00,0001,19,00,0001,19,00,0001,19,00,0001,19,00,0001,19,00,0001,19,00,0001,19,00,0001,19,00,0001,18,00,0001,18,00,0001,18,00,0001,18,00,0001,18,00,0001,18,00,0001,18,00,0001,18,00,0001,18,00,0001,17,00,0001,17,00,0001,17,00,0001,17,00,0001,17,00,0001,17,00,0001,17,00,0001,17,00,0001,17,00,0001,16,00,0001,16,00,0001,16,00,0001,16,00,0001,16,00,0001,16,00,0001,16,00,0001,16,00,0001,16,00,0001,15,00,0001,15,00,0001,15,00,0001,15,00,0001,15,00,0001,15,00,0001,15,00,0001,15,00,0001,15,00,0001,15,00,0001,15,00,0001,15,00,0001,15,00,0001,15,00,0001,15,00,0001,15,00,0001,14,00,0001,14,00,0001,14,00,0001,14,00,0001,14,00,0001,14,00,0001,14,00,0001,14,00,0001,14,00,0001,14,00,0001,13,00,0001,13,00,0001,13,00,0001,13,00,0001,13,00,0001,13,00,0001,13,00,0001,13,00,0001,13,00,0001,12,00,0001,12,00,0001,12,00,0001,12,00,0001,12,00,0001,12,00,0001,12,00,0001,12,00,0001,12,00,0001,11,00,0001,11,00,0001,11,00,0001,11,00,0001,11,00,0001,11,00,0001,11,00,0001,11,00,0001,11,00,0001,11,00,0001,11,00,0001,10,00,0001,10,00,0001,10,00,0001,10,00,0001,10,00,0001,10,00,0001,10,00,0001,10,00,0001,10,00,0001,10,00,0001,10,00,0001,09,00,0001,09,00,0001,09,00,0001,09,00,0001,09,00,0001,08,00,0001,08,00,0001,08,00,0001,08,00,0001,07,00,0001,07,00,0001,07,00,0001,07,00,0001,07,00,0001,07,00,0001,07,00,0001,07,00,0001,07,00,0001,07,00,0001,06,00,0001,06,00,0001,06,00,0001,06,00,0001,06,00,0001,06,00,0001,06,00,0001,06,00,0001,05,00,0001,05,00,0001,05,00,0001,05,00,0001,05,00,0001,05,00,0001,05,00,0001,05,00,0001,05,00,0001,05,00,0001,04,00,0001,04,00,0001,04,00,0001,04,00,0001,04,00,0001,04,00,0001,04,00,0001,04,00,0001,04,00,0001,04,00,0001,04,00,0001,03,00,0001,03,00,0001,03,00,0001,03,00,0001,03,00,0001,03,00,0001,03,00,0001,02,00,0001,02,00,0001,02,00,0001,02,00,0001,02,00,0001,02,00,0001,02,00,0001,02,00,0001,02,00,0001,02,00,0001,02,00,0001,02,00,0001,01,00,0001,01,00,0001,01,00,0001,01,00,0001,01,00,0001,01,00,0001,01,00,0001,01,00,0001,00,00,0001,00,00,0001,00,00,0001,00,00,0001,00,00,0001,00,00,0001,00,00,0001,00,00,0001,00,00,0001,00,00,0001,00,00,00099,00,00099,00,00099,00,00099,00,00099,00,00099,00,00099,00,00099,00,00099,00,00099,00,00098,00,00098,00,00098,00,00098,00,00098,00,00098,00,00098,00,00098,00,00098,00,00098,00,00098,00,00098,00,00098,00,00098,00,00098,00,00098,00,00097,00,00097,00,00097,00,00097,00,00097,00,00096,00,00096,00,00096,00,00096,00,00096,00,00096,00,00096,00,00096,00,00095,00,00095,00,00095,00,00095,00,00095,00,00095,00,00095,00,00095,00,00095,00,00094,00,00094,00,00094,00,00094,00,00094,00,00094,00,00094,00,00094,00,00093,00,00093,00,00093,00,00093,00,00093,00,00093,00,00093,00,00093,00,00093,00,00092,00,00092,00,00092,00,00092,00,00092,00,00092,00,00092,00,00092,00,00092,00,00092,00,00092,00,00092,00,00092,00,00092,00,00092,00,00091,00,00091,00,00091,00,00091,00,00091,00,00091,00,00091,00,00091,00,00091,00,00091,00,00091,00,00091,00,00090,00,00090,00,00090,00,00090,00,00090,00,00090,00,00090,00,00090,00,00090,00,00090,00,00090,00,00090,00,00089,00,00089,00,00089,00,00089,00,00089,00,00089,00,00089,00,00089,00,00089,00,00089,00,00089,00,00089,00,00089,00,00089,00,00089,00,00089,00,00088,00,00088,00,00088,00,00088,00,00088,00,00088,00,00088,00,00088,00,00088,00,00088,00,00088,00,00088,00,00088,00,00088,00,00088,00,00088,00,00088,00,00088,00,00088,00,00088,00,00088,00,00088,00,00088,00,00087,00,00087,00,00087,00,00087,00,00087,00,00087,00,00087,00,00087,00,00087,00,00087,00,00087,00,00087,00,00087,00,00087,00,00087,00,00086,00,00086,00,00086,00,00086,00,00086,00,00086,00,00086,00,00086,00,00086,00,00086,00,00086,00,00086,00,00086,00,00086,00,00086,00,00086,00,00086,00,00086,00,00086,00,00086,00,00086,00,00085,00,00085,00,00085,00,00085,00,00085,00,00085,00,00085,00,00085,00,00085,00,00085,00,00085,00,00085,00,00085,00,00085,00,00085,00,00085,00,00085,00,00085,00,00085,00,00085,00,00084,00,00084,00,00084,00,00084,00,00084,00,00084,00,00084,00,00084,00,00084,00,00084,00,00084,00,00084,00,00084,00,00084,00,00084,00,00084,00,00083,00,00083,00,00083,00,00083,00,00083,00,00083,00,00083,00,00083,00,00083,00,00083,00,00082,00,00082,00,00082,00,00082,00,00082,00,00082,00,00082,00,00082,00,00082,00,00082,00,00082,00,00082,00,00082,00,00082,00,00082,00,00082,00,00082,00,00081,00,00081,00,00081,00,00081,00,00081,00,00081,00,00081,00,00081,00,00081,00,00081,00,00081,00,00081,00,00081,00,00081,00,00081,00,00081,00,00081,00,00081,00,00081,00,00081,00,00081,00,00081,00,00081,00,00081,00,00081,00,00081,00,00080,00,00080,00,00080,00,00080,00,00080,00,00080,00,00080,00,00080,00,00080,00,00080,00,00080,00,00080,00,00080,00,00080,00,00080,00,00080,00,00080,00,00080,00,00079,00,00079,00,00079,00,00079,00,00079,00,00079,00,00079,00,00079,00,00079,00,00078,00,00078,00,00078,00,00078,00,00078,00,00078,00,00078,00,00078,00,00078,00,00078,00,00078,00,00078,00,00078,00,00078,00,00078,00,00078,00,00078,00,00078,00,00077,00,00077,00,00077,00,00077,00,00077,00,00077,00,00077,00,00077,00,00077,00,00077,00,00077,00,00077,00,00077,00,00077,00,00077,00,00077,00,00077,00,00077,00,00077,00,00077,00,00077,00,00077,00,00076,00,00076,00,00076,00,00076,00,00076,00,00076,00,00076,00,00076,00,00076,00,00076,00,00076,00,00076,00,00076,00,00076,00,00076,00,00075,00,00075,00,00075,00,00075,00,00075,00,00075,00,00075,00,00075,00,00075,00,00075,00,00075,00,00075,00,00075,00,00075,00,00075,00,00075,00,00075,00,00074,00,00074,00,00074,00,00074,00,00074,00,00074,00,00074,00,00074,00,00074,00,00074,00,00074,00,00073,00,00073,00,00073,00,00073,00,00073,00,00073,00,00073,00,00073,00,00073,00,00073,00,00073,00,00073,00,00073,00,00073,00,00072,00,00072,00,00072,00,00072,00,00072,00,00072,00,00072,00,00072,00,00072,00,00072,00,00072,00,00072,00,00072,00,00072,00,00072,00,00072,00,00072,00,00072,00,00072,00,00072,00,00072,00,00072,00,00072,00,00072,00,00071,00,00071,00,00071,00,00071,00,00071,00,00071,00,00071,00,00071,00,00071,00,00071,00,00071,00,00071,00,00071,00,00071,00,00071,00,00071,00,00071,00,00071,00,00071,00,00071,00,00071,00,00071,00,00071,00,00071,00,00070,00,00070,00,00070,00,00070,00,00070,00,00070,00,00070,00,00070,00,00070,00,00070,00,00070,00,00070,00,00070,00,00070,00,00070,00,00070,00,00070,00,00070,00,00069,00,00069,00,00069,00,00069,00,00069,00,00069,00,00069,00,00069,00,00069,00,00069,00,00069,00,00069,00,00069,00,00069,00,00069,00,00068,00,00068,00,00068,00,00068,00,00068,00,00068,00,00068,00,00068,00,00068,00,00068,00,00068,00,00068,00,00068,00,00068,00,00068,00,00068,00,00067,00,00067,00,00067,00,00067,00,00067,00,00067,00,00067,00,00067,00,00067,00,00067,00,00067,00,00067,00,00067,00,00067,00,00067,00,00067,00,00067,00,00067,00,00067,00,00067,00,00067,00,00067,00,00067,00,00067,00,00067,00,00067,00,00067,00,00066,00,00066,00,00066,00,00066,00,00066,00,00066,00,00066,00,00066,00,00066,00,00066,00,00066,00,00066,00,00066,00,00066,00,00066,00,00066,00,00065,00,00065,00,00065,00,00065,00,00065,00,00065,00,00065,00,00065,00,00065,00,00065,00,00065,00,00065,00,00065,00,00065,00,00065,00,00065,00,00065,00,00065,00,00065,00,00065,00,00065,00,00065,00,00065,00,00065,00,00065,00,00065,00,00065,00,00065,00,00065,00,00065,00,00065,00,00065,00,00065,00,00065,00,00065,00,00065,00,00064,00,00064,00,00064,00,00064,00,00064,00,00064,00,00064,00,00064,00,00064,00,00064,00,00064,00,00064,00,00064,00,00064,00,00064,00,00064,00,00064,00,00063,00,00063,00,00063,00,00063,00,00063,00,00063,00,00063,00,00063,00,00063,00,00063,00,00063,00,00063,00,00063,00,00063,00,00063,00,00063,00,00063,00,00063,00,00063,00,00063,00,00063,00,00063,00,00063,00,00063,00,00063,00,00063,00,00063,00,00063,00,00063,00,00063,00,00062,00,00062,00,00062,00,00062,00,00062,00,00062,00,00062,00,00062,00,00062,00,00062,00,00062,00,00062,00,00062,00,00062,00,00062,00,00062,00,00062,00,00062,00,00062,00,00062,00,00062,00,00062,00,00062,00,00062,00,00062,00,00062,00,00062,00,00061,00,00061,00,00061,00,00061,00,00061,00,00061,00,00061,00,00061,00,00061,00,00061,00,00061,00,00061,00,00061,00,00061,00,00061,00,00061,00,00061,00,00061,00,00061,00,00061,00,00060,00,00060,00,00060,00,00060,00,00060,00,00060,00,00060,00,00060,00,00060,00,00060,00,00060,00,00060,00,00060,00,00060,00,00060,00,00060,00,00060,00,00060,00,00060,00,00059,00,00059,00,00059,00,00059,00,00059,00,00059,00,00059,00,00059,00,00059,00,00059,00,00059,00,00059,00,00059,00,00059,00,00059,00,00059,00,00059,00,00059,00,00059,00,00059,00,00059,00,00059,00,00059,00,00059,00,00059,00,00058,00,00058,00,00058,00,00058,00,00058,00,00058,00,00058,00,00058,00,00058,00,00058,00,00058,00,00058,00,00058,00,00058,00,00058,00,00058,00,00058,00,00058,00,00058,00,00058,00,00058,00,00058,00,00058,00,00058,00,00058,00,00058,00,00057,00,00057,00,00057,00,00057,00,00057,00,00057,00,00057,00,00057,00,00057,00,00057,00,00057,00,00057,00,00057,00,00057,00,00057,00,00057,00,00057,00,00057,00,00057,00,00057,00,00057,00,00057,00,00057,00,00057,00,00057,00,00057,00,00057,00,00057,00,00057,00,00057,00,00057,00,00057,00,00057,00,00057,00,00057,00,00057,00,00057,00,00057,00,00057,00,00057,00,00056,00,00056,00,00056,00,00056,00,00056,00,00056,00,00056,00,00056,00,00056,00,00056,00,00056,00,00056,00,00056,00,00056,00,00056,00,00056,00,00056,00,00056,00,00056,00,00056,00,00056,00,00056,00,00056,00,00056,00,00056,00,00056,00,00056,00,00056,00,00056,00,00056,00,00056,00,00055,00,00055,00,00055,00,00055,00,00055,00,00055,00,00055,00,00055,00,00055,00,00055,00,00055,00,00055,00,00055,00,00055,00,00055,00,00055,00,00055,00,00055,00,00055,00,00055,00,00055,00,00055,00,00055,00,00055,00,00055,00,00055,00,00055,00,00055,00,00055,00,00055,00,00055,00,00055,00,00055,00,00055,00,00055,00,00055,00,00054,00,00054,00,00054,00,00054,00,00054,00,00054,00,00054,00,00054,00,00054,00,00054,00,00054,00,00054,00,00054,00,00054,00,00054,00,00054,00,00054,00,00054,00,00054,00,00054,00,00054,00,00054,00,00054,00,00054,00,00054,00,00054,00,00054,00,00054,00,00054,00,00054,00,00054,00,00054,00,00053,00,00053,00,00053,00,00053,00,00053,00,00053,00,00053,00,00053,00,00053,00,00053,00,00053,00,00053,00,00053,00,00053,00,00053,00,00053,00,00053,00,00053,00,00053,00,00053,00,00053,00,00053,00,00053,00,00053,00,00053,00,00053,00,00053,00,00053,00,00052,00,00052,00,00052,00,00052,00,00052,00,00052,00,00052,00,00052,00,00052,00,00052,00,00052,00,00052,00,00052,00,00052,00,00052,00,00052,00,00052,00,00052,00,00052,00,00052,00,00052,00,00052,00,00052,00,00052,00,00052,00,00052,00,00052,00,00052,00,00052,00,00052,00,00052,00,00051,00,00051,00,00051,00,00051,00,00051,00,00051,00,00051,00,00051,00,00051,00,00051,00,00051,00,00051,00,00051,00,00051,00,00051,00,00051,00,00051,00,00051,00,00051,00,00051,00,00051,00,00051,00,00051,00,00051,00,00051,00,00051,00,00051,00,00051,00,00051,00,00051,00,00051,00,00051,00,00051,00,00051,00,00051,00,00051,00,00051,00,00051,00,00051,00,00051,00,00051,00,00051,00,00051,00,00051,00,00051,00,00051,00,00051,00,00051,00,00050,00,00050,00,00050,00,00050,00,00050,00,00050,00,00050,00,00050,00,00050,00,00050,00,00050,00,00050,00,00050,00,00050,00,00050,00,00050,00,00050,00,00050,00,00050,00,00050,00,00050,00,00050,00,00050,00,00050,00,00050,00,00050,00,00050,00,00050,00,00050,00,00050,00,00050,00,00050,00,00050,00,00050,00,00050,00,00050,00,00050,00,00050,00,00050,00,00050,00,00049,00,00049,00,00049,00,00049,00,00049,00,00049,00,00049,00,00049,00,00049,00,00049,00,00049,00,00049,00,00049,00,00049,00,00049,00,00049,00,00049,00,00049,00,00049,00,00049,00,00049,00,00049,00,00049,00,00049,00,00049,00,00049,00,00049,00,00049,00,00049,00,00049,00,00049,00,00049,00,00049,00,00049,00,00049,00,00049,00,00049,00,00048,00,00048,00,00048,00,00048,00,00048,00,00048,00,00048,00,00048,00,00048,00,00048,00,00048,00,00048,00,00048,00,00048,00,00048,00,00048,00,00048,00,00048,00,00048,00,00048,00,00048,00,00048,00,00048,00,00048,00,00048,00,00048,00,00048,00,00048,00,00048,00,00048,00,00048,00,00048,00,00048,00,00048,00,00048,00,00048,00,00047,00,00047,00,00047,00,00047,00,00047,00,00047,00,00047,00,00047,00,00047,00,00047,00,00047,00,00047,00,00047,00,00047,00,00047,00,00047,00,00047,00,00047,00,00047,00,00047,00,00047,00,00047,00,00047,00,00047,00,00047,00,00047,00,00047,00,00047,00,00047,00,00047,00,00047,00,00047,00,00047,00,00047,00,00047,00,00047,00,00047,00,00046,00,00046,00,00046,00,00046,00,00046,00,00046,00,00046,00,00046,00,00046,00,00046,00,00046,00,00046,00,00046,00,00046,00,00046,00,00046,00,00046,00,00046,00,00046,00,00046,00,00046,00,00045,00,00045,00,00045,00,00045,00,00045,00,00045,00,00045,00,00045,00,00045,00,00045,00,00045,00,00045,00,00045,00,00045,00,00045,00,00045,00,00045,00,00045,00,00045,00,00045,00,00045,00,00045,00,00045,00,00045,00,00045,00,00045,00,00045,00,00045,00,00045,00,00045,00,00045,00,00045,00,00045,00,00045,00,00045,00,00045,00,00045,00,00045,00,00045,00,00045,00,00045,00,00045,00,00044,00,00044,00,00044,00,00044,00,00044,00,00044,00,00044,00,00044,00,00044,00,00044,00,00044,00,00044,00,00044,00,00044,00,00044,00,00044,00,00044,00,00044,00,00044,00,00044,00,00044,00,00044,00,00044,00,00044,00,00044,00,00043,00,00043,00,00043,00,00043,00,00043,00,00043,00,00043,00,00043,00,00043,00,00043,00,00043,00,00043,00,00043,00,00043,00,00043,00,00043,00,00043,00,00043,00,00043,00,00043,00,00043,00,00043,00,00043,00,00043,00,00043,00,00043,00,00043,00,00043,00,00043,00,00043,00,00043,00,00043,00,00043,00,00043,00,00043,00,00043,00,00043,00,00043,00,00043,00,00043,00,00043,00,00043,00,00042,00,00042,00,00042,00,00042,00,00042,00,00042,00,00042,00,00042,00,00042,00,00042,00,00042,00,00042,00,00042,00,00042,00,00042,00,00042,00,00042,00,00042,00,00042,00,00042,00,00042,00,00042,00,00042,00,00042,00,00042,00,00042,00,00042,00,00042,00,00042,00,00042,00,00042,00,00042,00,00042,00,00042,00,00042,00,00042,00,00042,00,00042,00,00042,00,00042,00,00042,00,00042,00,00042,00,00041,00,00041,00,00041,00,00041,00,00041,00,00041,00,00041,00,00041,00,00041,00,00041,00,00041,00,00041,00,00041,00,00041,00,00041,00,00041,00,00041,00,00041,00,00041,00,00041,00,00041,00,00041,00,00041,00,00041,00,00041,00,00041,00,00041,00,00041,00,00041,00,00041,00,00041,00,00041,00,00041,00,00041,00,00041,00,00041,00,00041,00,00041,00,00040,00,00040,00,00040,00,00040,00,00040,00,00040,00,00040,00,00040,00,00040,00,00040,00,00040,00,00040,00,00040,00,00040,00,00040,00,00040,00,00040,00,00040,00,00040,00,00040,00,00040,00,00040,00,00040,00,00040,00,00040,00,00040,00,00040,00,00040,00,00040,00,00040,00,00040,00,00040,00,00040,00,00040,00,00040,00,00040,00,00040,00,00040,00,00040,00,00040,00,00040,00,00040,00,00040,00,00040,00,00040,00,00040,00,00040,00,00040,00,00040,00,00039,00,00039,00,00039,00,00039,00,00039,00,00039,00,00039,00,00039,00,00039,00,00039,00,00039,00,00039,00,00039,00,00039,00,00039,00,00039,00,00039,00,00039,00,00039,00,00039,00,00039,00,00039,00,00039,00,00039,00,00039,00,00039,00,00039,00,00039,00,00039,00,00039,00,00039,00,00039,00,00039,00,00039,00,00039,00,00039,00,00039,00,00039,00,00039,00,00039,00,00038,00,00038,00,00038,00,00038,00,00038,00,00038,00,00038,00,00038,00,00038,00,00038,00,00038,00,00038,00,00038,00,00038,00,00038,00,00038,00,00038,00,00038,00,00038,00,00038,00,00038,00,00038,00,00038,00,00038,00,00038,00,00038,00,00038,00,00038,00,00038,00,00038,00,00038,00,00038,00,00038,00,00038,00,00038,00,00038,00,00038,00,00038,00,00038,00,00038,00,00038,00,00038,00,00038,00,00038,00,00038,00,00038,00,00038,00,00038,00,00038,00,00038,00,00038,00,00038,00,00038,00,00037,00,00037,00,00037,00,00037,00,00037,00,00037,00,00037,00,00037,00,00037,00,00037,00,00037,00,00037,00,00037,00,00037,00,00037,00,00037,00,00037,00,00037,00,00037,00,00037,00,00037,00,00037,00,00037,00,00037,00,00037,00,00037,00,00037,00,00037,00,00037,00,00037,00,00037,00,00037,00,00037,00,00037,00,00037,00,00037,00,00037,00,00037,00,00037,00,00037,00,00037,00,00037,00,00037,00,00037,00,00037,00,00037,00,00037,00,00037,00,00036,00,00036,00,00036,00,00036,00,00036,00,00036,00,00036,00,00036,00,00036,00,00036,00,00036,00,00036,00,00036,00,00036,00,00036,00,00036,00,00036,00,00036,00,00036,00,00036,00,00036,00,00036,00,00036,00,00036,00,00036,00,00036,00,00036,00,00036,00,00036,00,00036,00,00036,00,00036,00,00036,00,00036,00,00036,00,00036,00,00036,00,00036,00,00035,00,00035,00,00035,00,00035,00,00035,00,00035,00,00035,00,00035,00,00035,00,00035,00,00035,00,00035,00,00035,00,00035,00,00035,00,00035,00,00035,00,00035,00,00035,00,00035,00,00035,00,00035,00,00035,00,00035,00,00035,00,00035,00,00035,00,00035,00,00035,00,00035,00,00035,00,00035,00,00035,00,00035,00,00035,00,00035,00,00035,00,00035,00,00035,00,00035,00,00035,00,00035,00,00035,00,00035,00,00035,00,00035,00,00035,00,00035,00,00035,00,00035,00,00035,00,00035,00,00035,00,00035,00,00035,00,00035,00,00035,00,00035,00,00035,00,00035,00,00035,00,00034,00,00034,00,00034,00,00034,00,00034,00,00034,00,00034,00,00034,00,00034,00,00034,00,00034,00,00034,00,00034,00,00034,00,00034,00,00034,00,00034,00,00034,00,00034,00,00034,00,00034,00,00034,00,00034,00,00034,00,00034,00,00034,00,00034,00,00034,00,00034,00,00034,00,00034,00,00034,00,00034,00,00034,00,00034,00,00034,00,00034,00,00034,00,00034,00,00034,00,00034,00,00034,00,00034,00,00034,00,00034,00,00034,00,00034,00,00034,00,00034,00,00034,00,00034,00,00033,00,00033,00,00033,00,00033,00,00033,00,00033,00,00033,00,00033,00,00033,00,00033,00,00033,00,00033,00,00033,00,00033,00,00033,00,00033,00,00033,00,00033,00,00033,00,00033,00,00033,00,00033,00,00033,00,00033,00,00033,00,00033,00,00033,00,00033,00,00033,00,00033,00,00033,00,00033,00,00033,00,00033,00,00033,00,00033,00,00033,00,00033,00,00033,00,00033,00,00033,00,00033,00,00033,00,00033,00,00033,00,00033,00,00033,00,00033,00,00033,00,00033,00,00032,00,00032,00,00032,00,00032,00,00032,00,00032,00,00032,00,00032,00,00032,00,00032,00,00032,00,00032,00,00032,00,00032,00,00032,00,00032,00,00032,00,00032,00,00032,00,00032,00,00032,00,00032,00,00032,00,00032,00,00032,00,00032,00,00032,00,00032,00,00032,00,00032,00,00032,00,00032,00,00032,00,00032,00,00032,00,00032,00,00032,00,00032,00,00032,00,00032,00,00032,00,00031,00,00031,00,00031,00,00031,00,00031,00,00031,00,00031,00,00031,00,00031,00,00031,00,00031,00,00031,00,00031,00,00031,00,00031,00,00031,00,00031,00,00031,00,00031,00,00031,00,00031,00,00031,00,00031,00,00031,00,00031,00,00031,00,00031,00,00031,00,00031,00,00031,00,00031,00,00031,00,00031,00,00031,00,00031,00,00031,00,00031,00,00031,00,00031,00,00031,00,00031,00,00031,00,00031,00,00031,00,00031,00,00031,00,00031,00,00031,00,00031,00,00031,00,00031,00,00031,00,00031,00,00031,00,00031,00,00031,00,00031,00,00031,00,00031,00,00031,00,00031,00,00031,00,00031,00,00031,00,00031,00,00031,00,00031,00,00031,00,00030,00,00030,00,00030,00,00030,00,00030,00,00030,00,00030,00,00030,00,00030,00,00030,00,00030,00,00030,00,00030,00,00030,00,00030,00,00030,00,00030,00,00030,00,00030,00,00030,00,00030,00,00030,00,00030,00,00030,00,00030,00,00030,00,00030,00,00030,00,00030,00,00030,00,00030,00,00030,00,00030,00,00030,00,00030,00,00030,00,00030,00,00030,00,00030,00,00030,00,00030,00,00030,00,00030,00,00030,00,00030,00,00030,00,00030,00,00030,00,00030,00,00030,00,00030,00,00030,00,00030,00,00030,00,00030,00,00030,00,00030,00,00029,00,00029,00,00029,00,00029,00,00029,00,00029,00,00029,00,00029,00,00029,00,00029,00,00029,00,00029,00,00029,00,00029,00,00029,00,00029,00,00029,00,00029,00,00029,00,00029,00,00029,00,00029,00,00029,00,00029,00,00029,00,00029,00,00029,00,00029,00,00029,00,00029,00,00029,00,00029,00,00029,00,00029,00,00029,00,00029,00,00029,00,00029,00,00029,00,00029,00,00029,00,00029,00,00029,00,00029,00,00029,00,00029,00,00029,00,00029,00,00029,00,00029,00,00029,00,00029,00,00029,00,00029,00,00029,00,00029,00,00029,00,00029,00,00028,00,00028,00,00028,00,00028,00,00028,00,00028,00,00028,00,00028,00,00028,00,00028,00,00028,00,00028,00,00028,00,00028,00,00028,00,00028,00,00028,00,00028,00,00028,00,00028,00,00028,00,00028,00,00028,00,00028,00,00028,00,00028,00,00028,00,00028,00,00028,00,00028,00,00028,00,00028,00,00028,00,00028,00,00028,00,00028,00,00028,00,00028,00,00028,00,00028,00,00028,00,00028,00,00028,00,00028,00,00028,00,00028,00,00028,00,00028,00,00028,00,00028,00,00028,00,00028,00,00028,00,00028,00,00028,00,00028,00,00028,00,00028,00,00028,00,00028,00,00028,00,00028,00,00028,00,00028,00,00028,00,00028,00,00028,00,00028,00,00027,00,00027,00,00027,00,00027,00,00027,00,00027,00,00027,00,00027,00,00027,00,00027,00,00027,00,00027,00,00027,00,00027,00,00027,00,00027,00,00027,00,00027,00,00027,00,00027,00,00027,00,00027,00,00027,00,00027,00,00027,00,00027,00,00027,00,00027,00,00027,00,00027,00,00027,00,00027,00,00027,00,00027,00,00027,00,00027,00,00027,00,00027,00,00027,00,00027,00,00027,00,00027,00,00027,00,00027,00,00027,00,00027,00,00027,00,00027,00,00027,00,00027,00,00027,00,00027,00,00027,00,00027,00,00027,00,00027,00,00027,00,00027,00,00027,00,00027,00,00027,00,00027,00,00027,00,00027,00,00027,00,00027,00,00027,00,00027,00,00027,00,00027,00,00027,00,00027,00,00027,00,00027,00,00027,00,00027,00,00027,00,00027,00,00026,00,00026,00,00026,00,00026,00,00026,00,00026,00,00026,00,00026,00,00026,00,00026,00,00026,00,00026,00,00026,00,00026,00,00026,00,00026,00,00026,00,00026,00,00026,00,00026,00,00026,00,00026,00,00026,00,00026,00,00026,00,00026,00,00026,00,00026,00,00026,00,00026,00,00026,00,00026,00,00026,00,00026,00,00026,00,00026,00,00026,00,00026,00,00026,00,00026,00,00026,00,00026,00,00026,00,00026,00,00026,00,00026,00,00026,00,00026,00,00026,00,00026,00,00026,00,00026,00,00026,00,00026,00,00026,00,00026,00,00026,00,00026,00,00026,00,00026,00,00026,00,00026,00,00026,00,00026,00,00026,00,00026,00,00026,00,00026,00,00026,00,00026,00,00026,00,00026,00,00026,00,00026,00,00026,00,00026,00,00026,00,00026,00,00026,00,00025,00,00025,00,00025,00,00025,00,00025,00,00025,00,00025,00,00025,00,00025,00,00025,00,00025,00,00025,00,00025,00,00025,00,00025,00,00025,00,00025,00,00025,00,00025,00,00025,00,00025,00,00025,00,00025,00,00025,00,00025,00,00025,00,00025,00,00025,00,00025,00,00025,00,00025,00,00025,00,00025,00,00025,00,00025,00,00025,00,00025,00,00025,00,00025,00,00025,00,00025,00,00025,00,00025,00,00025,00,00025,00,00025,00,00025,00,00025,00,00025,00,00025,00,00025,00,00025,00,00025,00,00025,00,00025,00,00025,00,00025,00,00025,00,00025,00,00025,00,00025,00,00025,00,00025,00,00025,00,00025,00,00025,00,00025,00,00025,00,00025,00,00025,00,00025,00,00025,00,00025,00,00025,00,00025,00,00025,00,00025,00,00025,00,00025,00,00025,00,00025,00,00025,00,00025,00,00025,00,00025,00,00025,00,00025,00,00025,00,00025,00,00025,00,00025,00,00025,00,00025,00,00025,00,00025,00,00025,00,00025,00,00025,00,00025,00,00024,00,00024,00,00024,00,00024,00,00024,00,00024,00,00024,00,00024,00,00024,00,00024,00,00024,00,00024,00,00024,00,00024,00,00024,00,00024,00,00024,00,00024,00,00024,00,00024,00,00024,00,00024,00,00024,00,00024,00,00024,00,00024,00,00024,00,00024,00,00024,00,00024,00,00024,00,00024,00,00024,00,00024,00,00024,00,00024,00,00024,00,00024,00,00024,00,00024,00,00024,00,00024,00,00024,00,00024,00,00024,00,00024,00,00024,00,00024,00,00024,00,00024,00,00024,00,00024,00,00024,00,00024,00,00024,00,00024,00,00024,00,00024,00,00024,00,00024,00,00024,00,00024,00,00024,00,00024,00,00024,00,00024,00,00024,00,00024,00,00024,00,00024,00,00024,00,00024,00,00024,00,00024,00,00024,00,00024,00,00024,00,00024,00,00024,00,00024,00,00024,00,00024,00,00024,00,00023,00,00023,00,00023,00,00023,00,00023,00,00023,00,00023,00,00023,00,00023,00,00023,00,00023,00,00023,00,00023,00,00023,00,00023,00,00023,00,00023,00,00023,00,00023,00,00023,00,00023,00,00023,00,00023,00,00023,00,00023,00,00023,00,00023,00,00023,00,00023,00,00023,00,00023,00,00023,00,00023,00,00023,00,00023,00,00023,00,00023,00,00023,00,00023,00,00023,00,00023,00,00023,00,00023,00,00023,00,00023,00,00023,00,00023,00,00023,00,00023,00,00023,00,00023,00,00023,00,00023,00,00023,00,00023,00,00023,00,00023,00,00023,00,00023,00,00023,00,00023,00,00023,00,00023,00,00023,00,00023,00,00023,00,00023,00,00023,00,00023,00,00023,00,00023,00,00023,00,00023,00,00023,00,00023,00,00023,00,00023,00,00023,00,00023,00,00023,00,00023,00,00022,00,00022,00,00022,00,00022,00,00022,00,00022,00,00022,00,00022,00,00022,00,00022,00,00022,00,00022,00,00022,00,00022,00,00022,00,00022,00,00022,00,00022,00,00022,00,00022,00,00022,00,00022,00,00022,00,00022,00,00022,00,00022,00,00022,00,00022,00,00022,00,00022,00,00022,00,00022,00,00022,00,00022,00,00022,00,00022,00,00022,00,00022,00,00022,00,00022,00,00022,00,00022,00,00022,00,00022,00,00022,00,00022,00,00022,00,00022,00,00022,00,00022,00,00022,00,00022,00,00022,00,00022,00,00022,00,00022,00,00022,00,00022,00,00022,00,00022,00,00022,00,00022,00,00022,00,00022,00,00022,00,00022,00,00022,00,00022,00,00022,00,00022,00,00022,00,00022,00,00022,00,00022,00,00022,00,00022,00,00022,00,00022,00,00022,00,00022,00,00022,00,00022,00,00022,00,00022,00,00022,00,00021,00,00021,00,00021,00,00021,00,00021,00,00021,00,00021,00,00021,00,00021,00,00021,00,00021,00,00021,00,00021,00,00021,00,00021,00,00021,00,00021,00,00021,00,00021,00,00021,00,00021,00,00021,00,00021,00,00021,00,00021,00,00021,00,00021,00,00021,00,00021,00,00021,00,00021,00,00021,00,00021,00,00021,00,00021,00,00021,00,00021,00,00021,00,00021,00,00021,00,00021,00,00021,00,00021,00,00021,00,00021,00,00021,00,00021,00,00021,00,00021,00,00021,00,00021,00,00021,00,00021,00,00021,00,00021,00,00021,00,00021,00,00021,00,00021,00,00021,00,00021,00,00021,00,00021,00,00021,00,00021,00,00021,00,00021,00,00021,00,00021,00,00021,00,00021,00,00021,00,00021,00,00021,00,00021,00,00021,00,00021,00,00020,00,00020,00,00020,00,00020,00,00020,00,00020,00,00020,00,00020,00,00020,00,00020,00,00020,00,00020,00,00020,00,00020,00,00020,00,00020,00,00020,00,00020,00,00020,00,00020,00,00020,00,00020,00,00020,00,00020,00,00020,00,00020,00,00020,00,00020,00,00020,00,00020,00,00020,00,00020,00,00020,00,00020,00,00020,00,00020,00,00020,00,00020,00,00020,00,00020,00,00020,00,00020,00,00020,00,00020,00,00020,00,00020,00,00020,00,00020,00,00020,00,00020,00,00020,00,00020,00,00020,00,00020,00,00020,00,00020,00,00020,00,00020,00,00020,00,00020,00,00020,00,00020,00,00020,00,00020,00,00020,00,00020,00,00020,00,00020,00,00020,00,00020,00,00020,00,00020,00,00020,00,00020,00,00020,00,00020,00,00020,00,00020,00,00020,00,00020,00,00020,00,00020,00,00020,00,00020,00,00020,00,00020,00,00020,00,00020,00,00020,00,00020,00,00020,00,00020,00,00020,00,00020,00,00020,00,00020,00,00020,00,00020,00,00020,00,00020,00,00020,00,00020,00,00020,00,00020,00,00020,00,00020,00,00020,00,00020,00,00020,00,00020,00,00020,00,00020,00,00020,00,00019,00,00019,00,00019,00,00019,00,00019,00,00019,00,00019,00,00019,00,00019,00,00019,00,00019,00,00019,00,00019,00,00019,00,00019,00,00019,00,00019,00,00019,00,00019,00,00019,00,00019,00,00019,00,00019,00,00019,00,00019,00,00019,00,00019,00,00019,00,00019,00,00019,00,00019,00,00019,00,00019,00,00019,00,00019,00,00019,00,00019,00,00019,00,00019,00,00019,00,00019,00,00019,00,00019,00,00019,00,00019,00,00019,00,00019,00,00019,00,00019,00,00019,00,00019,00,00019,00,00019,00,00019,00,00019,00,00019,00,00019,00,00019,00,00019,00,00019,00,00019,00,00019,00,00019,00,00019,00,00019,00,00019,00,00019,00,00019,00,00019,00,00019,00,00019,00,00019,00,00019,00,00019,00,00019,00,00019,00,00019,00,00019,00,00019,00,00019,00,00019,00,00019,00,00019,00,00019,00,00019,00,00019,00,00019,00,00019,00,00019,00,00019,00,00019,00,00019,00,00019,00,00019,00,00019,00,00019,00,00019,00,00019,00,00019,00,00019,00,00019,00,00019,00,00019,00,00019,00,00018,00,00018,00,00018,00,00018,00,00018,00,00018,00,00018,00,00018,00,00018,00,00018,00,00018,00,00018,00,00018,00,00018,00,00018,00,00018,00,00018,00,00018,00,00018,00,00018,00,00018,00,00018,00,00018,00,00018,00,00018,00,00018,00,00018,00,00018,00,00018,00,00018,00,00018,00,00018,00,00018,00,00018,00,00018,00,00018,00,00018,00,00018,00,00018,00,00018,00,00018,00,00018,00,00018,00,00018,00,00018,00,00018,00,00018,00,00018,00,00018,00,00018,00,00018,00,00018,00,00018,00,00018,00,00018,00,00018,00,00018,00,00018,00,00018,00,00018,00,00018,00,00018,00,00018,00,00018,00,00018,00,00018,00,00018,00,00018,00,00018,00,00018,00,00018,00,00018,00,00018,00,00018,00,00018,00,00018,00,00018,00,00018,00,00018,00,00018,00,00018,00,00018,00,00018,00,00018,00,00018,00,00018,00,00018,00,00018,00,00018,00,00018,00,00018,00,00018,00,00018,00,00018,00,00018,00,00018,00,00018,00,00018,00,00018,00,00018,00,00018,00,00018,00,00018,00,00018,00,00018,00,00018,00,00018,00,00018,00,00018,00,00018,00,00018,00,00018,00,00018,00,00018,00,00018,00,00018,00,00018,00,00018,00,00018,00,00018,00,00018,00,00018,00,00018,00,00018,00,00017,00,00017,00,00017,00,00017,00,00017,00,00017,00,00017,00,00017,00,00017,00,00017,00,00017,00,00017,00,00017,00,00017,00,00017,00,00017,00,00017,00,00017,00,00017,00,00017,00,00017,00,00017,00,00017,00,00017,00,00017,00,00017,00,00017,00,00017,00,00017,00,00017,00,00017,00,00017,00,00017,00,00017,00,00017,00,00017,00,00017,00,00017,00,00017,00,00017,00,00017,00,00017,00,00017,00,00017,00,00017,00,00017,00,00017,00,00017,00,00017,00,00017,00,00017,00,00017,00,00017,00,00017,00,00017,00,00017,00,00017,00,00017,00,00017,00,00017,00,00017,00,00017,00,00017,00,00017,00,00017,00,00017,00,00017,00,00017,00,00017,00,00017,00,00017,00,00017,00,00017,00,00017,00,00017,00,00017,00,00017,00,00017,00,00017,00,00017,00,00017,00,00017,00,00017,00,00017,00,00017,00,00017,00,00017,00,00017,00,00017,00,00017,00,00017,00,00017,00,00017,00,00017,00,00017,00,00017,00,00017,00,00017,00,00017,00,00017,00,00017,00,00017,00,00017,00,00017,00,00017,00,00017,00,00017,00,00017,00,00017,00,00016,00,00016,00,00016,00,00016,00,00016,00,00016,00,00016,00,00016,00,00016,00,00016,00,00016,00,00016,00,00016,00,00016,00,00016,00,00016,00,00016,00,00016,00,00016,00,00016,00,00016,00,00016,00,00016,00,00016,00,00016,00,00016,00,00016,00,00016,00,00016,00,00016,00,00016,00,00016,00,00016,00,00016,00,00016,00,00016,00,00016,00,00016,00,00016,00,00016,00,00016,00,00016,00,00016,00,00016,00,00016,00,00016,00,00016,00,00016,00,00016,00,00016,00,00016,00,00016,00,00016,00,00016,00,00016,00,00016,00,00016,00,00016,00,00016,00,00016,00,00016,00,00016,00,00016,00,00016,00,00016,00,00016,00,00016,00,00016,00,00016,00,00016,00,00016,00,00016,00,00016,00,00016,00,00016,00,00016,00,00016,00,00016,00,00016,00,00016,00,00016,00,00016,00,00016,00,00016,00,00016,00,00016,00,00016,00,00016,00,00016,00,00016,00,00016,00,00016,00,00016,00,00016,00,00016,00,00016,00,00016,00,00016,00,00016,00,00016,00,00016,00,00016,00,00016,00,00016,00,00016,00,00016,00,00016,00,00016,00,00016,00,00016,00,00016,00,00016,00,00016,00,00016,00,00016,00,00016,00,00016,00,00016,00,00016,00,00016,00,00016,00,00016,00,00016,00,00016,00,00016,00,00016,00,00016,00,00015,00,00015,00,00015,00,00015,00,00015,00,00015,00,00015,00,00015,00,00015,00,00015,00,00015,00,00015,00,00015,00,00015,00,00015,00,00015,00,00015,00,00015,00,00015,00,00015,00,00015,00,00015,00,00015,00,00015,00,00015,00,00015,00,00015,00,00015,00,00015,00,00015,00,00015,00,00015,00,00015,00,00015,00,00015,00,00015,00,00015,00,00015,00,00015,00,00015,00,00015,00,00015,00,00015,00,00015,00,00015,00,00015,00,00015,00,00015,00,00015,00,00015,00,00015,00,00015,00,00015,00,00015,00,00015,00,00015,00,00015,00,00015,00,00015,00,00015,00,00015,00,00015,00,00015,00,00015,00,00015,00,00015,00,00015,00,00015,00,00015,00,00015,00,00015,00,00015,00,00015,00,00015,00,00015,00,00015,00,00015,00,00015,00,00015,00,00015,00,00015,00,00015,00,00015,00,00015,00,00015,00,00015,00,00015,00,00015,00,00015,00,00015,00,00015,00,00015,00,00015,00,00015,00,00015,00,00015,00,00015,00,00015,00,00015,00,00015,00,00015,00,00015,00,00015,00,00015,00,00015,00,00015,00,00015,00,00015,00,00015,00,00015,00,00015,00,00015,00,00015,00,00015,00,00015,00,00015,00,00015,00,00015,00,00015,00,00015,00,00015,00,00015,00,00015,00,00015,00,00015,00,00015,00,00015,00,00015,00,00015,00,00015,00,00015,00,00015,00,00015,00,00015,00,00015,00,00015,00,00015,00,00015,00,00015,00,00015,00,00015,00,00015,00,00015,00,00015,00,00015,00,00015,00,00015,00,00015,00,00015,00,00015,00,00015,00,00014,00,00014,00,00014,00,00014,00,00014,00,00014,00,00014,00,00014,00,00014,00,00014,00,00014,00,00014,00,00014,00,00014,00,00014,00,00014,00,00014,00,00014,00,00014,00,00014,00,00014,00,00014,00,00014,00,00014,00,00014,00,00014,00,00014,00,00014,00,00014,00,00014,00,00014,00,00014,00,00014,00,00014,00,00014,00,00014,00,00014,00,00014,00,00014,00,00014,00,00014,00,00014,00,00014,00,00014,00,00014,00,00014,00,00014,00,00014,00,00014,00,00014,00,00014,00,00014,00,00014,00,00014,00,00014,00,00014,00,00014,00,00014,00,00014,00,00014,00,00014,00,00014,00,00014,00,00014,00,00014,00,00014,00,00014,00,00014,00,00014,00,00014,00,00014,00,00014,00,00014,00,00014,00,00014,00,00014,00,00014,00,00014,00,00014,00,00014,00,00014,00,00014,00,00014,00,00014,00,00014,00,00014,00,00014,00,00014,00,00014,00,00014,00,00014,00,00014,00,00014,00,00014,00,00014,00,00014,00,00014,00,00014,00,00014,00,00014,00,00014,00,00014,00,00014,00,00014,00,00014,00,00014,00,00014,00,00014,00,00014,00,00014,00,00014,00,00014,00,00014,00,00014,00,00014,00,00014,00,00014,00,00014,00,00014,00,00014,00,00014,00,00014,00,00014,00,00014,00,00014,00,00014,00,00014,00,00014,00,00014,00,00014,00,00014,00,00014,00,00014,00,00014,00,00014,00,00014,00,00014,00,00014,00,00014,00,00014,00,00014,00,00014,00,00014,00,00014,00,00014,00,00014,00,00014,00,00014,00,00014,00,00014,00,00014,00,00014,00,00014,00,00014,00,00014,00,00014,00,00014,00,00014,00,00014,00,00014,00,00014,00,00014,00,00014,00,00014,00,00014,00,00014,00,00014,00,00014,00,00014,00,00014,00,00014,00,00014,00,00014,00,00014,00,00014,00,00014,00,00014,00,00014,00,00013,00,00013,00,00013,00,00013,00,00013,00,00013,00,00013,00,00013,00,00013,00,00013,00,00013,00,00013,00,00013,00,00013,00,00013,00,00013,00,00013,00,00013,00,00013,00,00013,00,00013,00,00013,00,00013,00,00013,00,00013,00,00013,00,00013,00,00013,00,00013,00,00013,00,00013,00,00013,00,00013,00,00013,00,00013,00,00013,00,00013,00,00013,00,00013,00,00013,00,00013,00,00013,00,00013,00,00013,00,00013,00,00013,00,00013,00,00013,00,00013,00,00013,00,00013,00,00013,00,00013,00,00013,00,00013,00,00013,00,00013,00,00013,00,00013,00,00013,00,00013,00,00013,00,00013,00,00013,00,00013,00,00013,00,00013,00,00013,00,00013,00,00013,00,00013,00,00013,00,00013,00,00013,00,00013,00,00013,00,00013,00,00013,00,00013,00,00013,00,00013,00,00013,00,00013,00,00013,00,00013,00,00013,00,00013,00,00013,00,00013,00,00013,00,00013,00,00013,00,00013,00,00013,00,00013,00,00013,00,00013,00,00013,00,00013,00,00013,00,00013,00,00013,00,00013,00,00013,00,00013,00,00013,00,00013,00,00013,00,00013,00,00013,00,00013,00,00013,00,00013,00,00013,00,00013,00,00013,00,00013,00,00013,00,00013,00,00013,00,00013,00,00013,00,00013,00,00013,00,00013,00,00013,00,00013,00,00013,00,00013,00,00013,00,00013,00,00013,00,00013,00,00013,00,00013,00,00013,00,00013,00,00013,00,00013,00,00013,00,00013,00,00013,00,00013,00,00013,00,00013,00,00013,00,00013,00,00013,00,00013,00,00013,00,00013,00,00013,00,00013,00,00013,00,00013,00,00013,00,00013,00,00013,00,00013,00,00013,00,00013,00,00013,00,00013,00,00013,00,00013,00,00013,00,00013,00,00013,00,00013,00,00013,00,00013,00,00013,00,00013,00,00013,00,00013,00,00013,00,00013,00,00013,00,00013,00,00013,00,00013,00,00013,00,00013,00,00013,00,00013,00,00013,00,00013,00,00012,00,00012,00,00012,00,00012,00,00012,00,00012,00,00012,00,00012,00,00012,00,00012,00,00012,00,00012,00,00012,00,00012,00,00012,00,00012,00,00012,00,00012,00,00012,00,00012,00,00012,00,00012,00,00012,00,00012,00,00012,00,00012,00,00012,00,00012,00,00012,00,00012,00,00012,00,00012,00,00012,00,00012,00,00012,00,00012,00,00012,00,00012,00,00012,00,00012,00,00012,00,00012,00,00012,00,00012,00,00012,00,00012,00,00012,00,00012,00,00012,00,00012,00,00012,00,00012,00,00012,00,00012,00,00012,00,00012,00,00012,00,00012,00,00012,00,00012,00,00012,00,00012,00,00012,00,00012,00,00012,00,00012,00,00012,00,00012,00,00012,00,00012,00,00012,00,00012,00,00012,00,00012,00,00012,00,00012,00,00012,00,00012,00,00012,00,00012,00,00012,00,00012,00,00012,00,00012,00,00012,00,00012,00,00012,00,00012,00,00012,00,00012,00,00012,00,00012,00,00012,00,00012,00,00012,00,00012,00,00012,00,00012,00,00012,00,00012,00,00012,00,00012,00,00012,00,00012,00,00012,00,00012,00,00012,00,00012,00,00012,00,00012,00,00012,00,00012,00,00012,00,00012,00,00012,00,00012,00,00012,00,00012,00,00012,00,00012,00,00012,00,00012,00,00012,00,00012,00,00012,00,00012,00,00012,00,00012,00,00012,00,00012,00,00012,00,00012,00,00012,00,00012,00,00012,00,00012,00,00012,00,00012,00,00012,00,00012,00,00012,00,00012,00,00012,00,00012,00,00012,00,00012,00,00012,00,00012,00,00012,00,00012,00,00012,00,00012,00,00012,00,00012,00,00012,00,00012,00,00012,00,00012,00,00012,00,00012,00,00012,00,00012,00,00012,00,00012,00,00012,00,00012,00,00012,00,00012,00,00012,00,00012,00,00012,00,00012,00,00012,00,00012,00,00012,00,00012,00,00012,00,00012,00,00012,00,00012,00,00012,00,00012,00,00012,00,00012,00,00012,00,00012,00,00012,00,00012,00,00011,00,00011,00,00011,00,00011,00,00011,00,00011,00,00011,00,00011,00,00011,00,00011,00,00011,00,00011,00,00011,00,00011,00,00011,00,00011,00,00011,00,00011,00,00011,00,00011,00,00011,00,00011,00,00011,00,00011,00,00011,00,00011,00,00011,00,00011,00,00011,00,00011,00,00011,00,00011,00,00011,00,00011,00,00011,00,00011,00,00011,00,00011,00,00011,00,00011,00,00011,00,00011,00,00011,00,00011,00,00011,00,00011,00,00011,00,00011,00,00011,00,00011,00,00011,00,00011,00,00011,00,00011,00,00011,00,00011,00,00011,00,00011,00,00011,00,00011,00,00011,00,00011,00,00011,00,00011,00,00011,00,00011,00,00011,00,00011,00,00011,00,00011,00,00011,00,00011,00,00011,00,00011,00,00011,00,00011,00,00011,00,00011,00,00011,00,00011,00,00011,00,00011,00,00011,00,00011,00,00011,00,00011,00,00011,00,00011,00,00011,00,00011,00,00011,00,00011,00,00011,00,00011,00,00011,00,00011,00,00011,00,00011,00,00011,00,00011,00,00011,00,00011,00,00011,00,00011,00,00011,00,00011,00,00011,00,00011,00,00011,00,00011,00,00011,00,00011,00,00011,00,00011,00,00011,00,00011,00,00011,00,00011,00,00011,00,00011,00,00011,00,00011,00,00011,00,00011,00,00011,00,00011,00,00011,00,00011,00,00011,00,00011,00,00011,00,00011,00,00011,00,00011,00,00011,00,00011,00,00011,00,00011,00,00011,00,00011,00,00011,00,00011,00,00011,00,00011,00,00011,00,00011,00,00011,00,00011,00,00011,00,00011,00,00011,00,00011,00,00011,00,00011,00,00011,00,00011,00,00011,00,00011,00,00011,00,00011,00,00011,00,00011,00,00011,00,00011,00,00011,00,00011,00,00011,00,00011,00,00011,00,00011,00,00011,00,00011,00,00011,00,00011,00,00011,00,00011,00,00011,00,00011,00,00011,00,00011,00,00011,00,00011,00,00011,00,00011,00,00011,00,00011,00,00011,00,00011,00,00011,00,00011,00,00011,00,00011,00,00011,00,00011,00,00011,00,00011,00,00011,00,00011,00,00011,00,00011,00,00011,00,00011,00,00011,00,00011,00,00011,00,00011,00,00011,00,00011,00,00011,00,00011,00,00011,00,00011,00,00011,00,00011,00,00011,00,00011,00,00011,00,00011,00,00010,00,00010,00,00010,00,00010,00,00010,00,00010,00,00010,00,00010,00,00010,00,00010,00,00010,00,00010,00,00010,00,00010,00,00010,00,00010,00,00010,00,00010,00,00010,00,00010,00,00010,00,00010,00,00010,00,00010,00,00010,00,00010,00,00010,00,00010,00,00010,00,00010,00,00010,00,00010,00,00010,00,00010,00,00010,00,00010,00,00010,00,00010,00,00010,00,00010,00,00010,00,00010,00,00010,00,00010,00,00010,00,00010,00,00010,00,00010,00,00010,00,00010,00,00010,00,00010,00,00010,00,00010,00,00010,00,00010,00,00010,00,00010,00,00010,00,00010,00,00010,00,00010,00,00010,00,00010,00,00010,00,00010,00,00010,00,00010,00,00010,00,00010,00,00010,00,00010,00,00010,00,00010,00,00010,00,00010,00,00010,00,00010,00,00010,00,00010,00,00010,00,00010,00,00010,00,00010,00,00010,00,00010,00,00010,00,00010,00,00010,00,00010,00,00010,00,00010,00,00010,00,00010,00,00010,00,00010,00,00010,00,00010,00,00010,00,00010,00,00010,00,00010,00,00010,00,00010,00,00010,00,00010,00,00010,00,00010,00,00010,00,00010,00,00010,00,00010,00,00010,00,00010,00,00010,00,00010,00,00010,00,00010,00,00010,00,00010,00,00010,00,00010,00,00010,00,00010,00,00010,00,00010,00,00010,00,00010,00,00010,00,00010,00,00010,00,00010,00,00010,00,00010,00,00010,00,00010,00,00010,00,00010,00,00010,00,00010,00,00010,00,00010,00,00010,00,00010,00,00010,00,00010,00,00010,00,00010,00,00010,00,00010,00,00010,00,00010,00,00010,00,00010,00,00010,00,00010,00,00010,00,00010,00,00010,00,00010,00,00010,00,00010,00,00010,00,00010,00,00010,00,00010,00,00010,00,00010,00,00010,00,00010,00,00010,00,00010,00,00010,00,00010,00,00010,00,00010,00,00010,00,00010,00,00010,00,00010,00,00010,00,00010,00,00010,00,00010,00,00010,00,00010,00,00010,00,00010,00,00010,00,00010,00,00010,00,00010,00,00010,00,00010,00,00010,00,00010,00,00010,00,00010,00,00010,00,00010,00,00010,00,00010,00,00010,00,00010,00,00010,00,00010,00,00010,00,00010,00,00010,00,00010,00,00010,00,00010,00,00010,00,00010,00,00010,00,00010,00,00010,00,00010,00,00010,00,00010,00,00010,00,00010,00,00010,00,00010,00,00010,00,00010,00,00010,00,00010,00,00010,00,00010,00,00010,00,00010,00,00010,00,00010,00,00010,00,00010,00,00010,00,00010,00,00010,00,00010,00,00010,00,00010,00,00010,00,0009,00,0009,00,0009,00,0009,00,0009,00,0009,00,0009,00,0009,00,0009,00,0009,00,0009,00,0009,00,0009,00,0009,00,0009,00,0009,00,0009,00,0009,00,0009,00,0009,00,0009,00,0009,00,0009,00,0009,00,0009,00,0009,00,0009,00,0009,00,0009,00,0009,00,0009,00,0009,00,0009,00,0009,00,0009,00,0009,00,0009,00,0009,00,0009,00,0009,00,0009,00,0009,00,0009,00,0009,00,0009,00,0009,00,0009,00,0009,00,0009,00,0009,00,0009,00,0009,00,0009,00,0009,00,0009,00,0009,00,0009,00,0009,00,0009,00,0009,00,0009,00,0009,00,0009,00,0009,00,0009,00,0009,00,0009,00,0009,00,0009,00,0009,00,0009,00,0009,00,0009,00,0009,00,0009,00,0009,00,0009,00,0009,00,0009,00,0009,00,0009,00,0009,00,0009,00,0009,00,0009,00,0009,00,0009,00,0009,00,0009,00,0009,00,0009,00,0009,00,0009,00,0009,00,0009,00,0009,00,0009,00,0009,00,0009,00,0009,00,0009,00,0009,00,0009,00,0009,00,0009,00,0009,00,0009,00,0009,00,0009,00,0009,00,0009,00,0009,00,0009,00,0009,00,0009,00,0009,00,0009,00,0009,00,0009,00,0009,00,0009,00,0009,00,0009,00,0009,00,0009,00,0009,00,0009,00,0009,00,0009,00,0009,00,0009,00,0009,00,0009,00,0009,00,0009,00,0009,00,0009,00,0009,00,0009,00,0009,00,0009,00,0009,00,0009,00,0009,00,0009,00,0009,00,0009,00,0009,00,0009,00,0009,00,0009,00,0009,00,0009,00,0009,00,0009,00,0009,00,0009,00,0009,00,0009,00,0009,00,0009,00,0009,00,0009,00,0009,00,0009,00,0009,00,0009,00,0009,00,0009,00,0009,00,0009,00,0009,00,0009,00,0009,00,0009,00,0009,00,0009,00,0009,00,0009,00,0009,00,0009,00,0009,00,0009,00,0009,00,0009,00,0009,00,0009,00,0009,00,0009,00,0009,00,0009,00,0009,00,0009,00,0009,00,0009,00,0009,00,0009,00,0009,00,0009,00,0009,00,0009,00,0009,00,0009,00,0009,00,0009,00,0009,00,0009,00,0009,00,0009,00,0009,00,0009,00,0009,00,0009,00,0009,00,0009,00,0009,00,0009,00,0009,00,0009,00,0009,00,0009,00,0009,00,0009,00,0009,00,0009,00,0009,00,0009,00,0009,00,0009,00,0009,00,0009,00,0009,00,0009,00,0009,00,0009,00,0009,00,0009,00,0009,00,0009,00,0009,00,0009,00,0009,00,0009,00,0009,00,0009,00,0009,00,0009,00,0009,00,0009,00,0009,00,0009,00,0009,00,0009,00,0009,00,0009,00,0009,00,0009,00,0009,00,0009,00,0009,00,0009,00,0009,00,0009,00,0009,00,0009,00,0009,00,0009,00,0009,00,0009,00,0009,00,0009,00,0009,00,0009,00,0009,00,0009,00,0009,00,0009,00,0009,00,0009,00,0009,00,0009,00,0009,00,0009,00,0009,00,0009,00,0009,00,0009,00,0009,00,0009,00,0009,00,0009,00,0009,00,0009,00,0009,00,0009,00,0009,00,0008,00,0008,00,0008,00,0008,00,0008,00,0008,00,0008,00,0008,00,0008,00,0008,00,0008,00,0008,00,0008,00,0008,00,0008,00,0008,00,0008,00,0008,00,0008,00,0008,00,0008,00,0008,00,0008,00,0008,00,0008,00,0008,00,0008,00,0008,00,0008,00,0008,00,0008,00,0008,00,0008,00,0008,00,0008,00,0008,00,0008,00,0008,00,0008,00,0008,00,0008,00,0008,00,0008,00,0008,00,0008,00,0008,00,0008,00,0008,00,0008,00,0008,00,0008,00,0008,00,0008,00,0008,00,0008,00,0008,00,0008,00,0008,00,0008,00,0008,00,0008,00,0008,00,0008,00,0008,00,0008,00,0008,00,0008,00,0008,00,0008,00,0008,00,0008,00,0008,00,0008,00,0008,00,0008,00,0008,00,0008,00,0008,00,0008,00,0008,00,0008,00,0008,00,0008,00,0008,00,0008,00,0008,00,0008,00,0008,00,0008,00,0008,00,0008,00,0008,00,0008,00,0008,00,0008,00,0008,00,0008,00,0008,00,0008,00,0008,00,0008,00,0008,00,0008,00,0008,00,0008,00,0008,00,0008,00,0008,00,0008,00,0008,00,0008,00,0008,00,0008,00,0008,00,0008,00,0008,00,0008,00,0008,00,0008,00,0008,00,0008,00,0008,00,0008,00,0008,00,0008,00,0008,00,0008,00,0008,00,0008,00,0008,00,0008,00,0008,00,0008,00,0008,00,0008,00,0008,00,0008,00,0008,00,0008,00,0008,00,0008,00,0008,00,0008,00,0008,00,0008,00,0008,00,0008,00,0008,00,0008,00,0008,00,0008,00,0008,00,0008,00,0008,00,0008,00,0008,00,0008,00,0008,00,0008,00,0008,00,0008,00,0008,00,0008,00,0008,00,0008,00,0008,00,0008,00,0008,00,0008,00,0008,00,0008,00,0008,00,0008,00,0008,00,0008,00,0008,00,0008,00,0008,00,0008,00,0008,00,0008,00,0008,00,0008,00,0008,00,0008,00,0008,00,0008,00,0008,00,0008,00,0008,00,0008,00,0008,00,0008,00,0008,00,0008,00,0008,00,0008,00,0008,00,0008,00,0008,00,0008,00,0008,00,0008,00,0008,00,0008,00,0008,00,0008,00,0008,00,0008,00,0008,00,0008,00,0008,00,0008,00,0008,00,0008,00,0008,00,0008,00,0008,00,0008,00,0008,00,0008,00,0008,00,0008,00,0008,00,0008,00,0008,00,0008,00,0008,00,0008,00,0008,00,0008,00,0008,00,0008,00,0008,00,0008,00,0008,00,0008,00,0008,00,0008,00,0008,00,0008,00,0008,00,0008,00,0008,00,0008,00,0008,00,0008,00,0008,00,0008,00,0008,00,0008,00,0008,00,0008,00,0008,00,0008,00,0008,00,0008,00,0008,00,0008,00,0008,00,0008,00,0008,00,0008,00,0008,00,0008,00,0008,00,0008,00,0008,00,0008,00,0008,00,0008,00,0008,00,0008,00,0008,00,0008,00,0008,00,0008,00,0008,00,0008,00,0008,00,0008,00,0008,00,0008,00,0008,00,0008,00,0008,00,0008,00,0008,00,0008,00,0008,00,0008,00,0008,00,0008,00,0008,00,0008,00,0008,00,0008,00,0008,00,0008,00,0008,00,0008,00,0008,00,0008,00,0008,00,0008,00,0008,00,0008,00,0008,00,0008,00,0008,00,0008,00,0008,00,0008,00,0008,00,0008,00,0008,00,0008,00,0008,00,0008,00,0008,00,0008,00,0008,00,0008,00,0008,00,0008,00,0008,00,0008,00,0008,00,0008,00,0008,00,0007,00,0007,00,0007,00,0007,00,0007,00,0007,00,0007,00,0007,00,0007,00,0007,00,0007,00,0007,00,0007,00,0007,00,0007,00,0007,00,0007,00,0007,00,0007,00,0007,00,0007,00,0007,00,0007,00,0007,00,0007,00,0007,00,0007,00,0007,00,0007,00,0007,00,0007,00,0007,00,0007,00,0007,00,0007,00,0007,00,0007,00,0007,00,0007,00,0007,00,0007,00,0007,00,0007,00,0007,00,0007,00,0007,00,0007,00,0007,00,0007,00,0007,00,0007,00,0007,00,0007,00,0007,00,0007,00,0007,00,0007,00,0007,00,0007,00,0007,00,0007,00,0007,00,0007,00,0007,00,0007,00,0007,00,0007,00,0007,00,0007,00,0007,00,0007,00,0007,00,0007,00,0007,00,0007,00,0007,00,0007,00,0007,00,0007,00,0007,00,0007,00,0007,00,0007,00,0007,00,0007,00,0007,00,0007,00,0007,00,0007,00,0007,00,0007,00,0007,00,0007,00,0007,00,0007,00,0007,00,0007,00,0007,00,0007,00,0007,00,0007,00,0007,00,0007,00,0007,00,0007,00,0007,00,0007,00,0007,00,0007,00,0007,00,0007,00,0007,00,0007,00,0007,00,0007,00,0007,00,0007,00,0007,00,0007,00,0007,00,0007,00,0007,00,0007,00,0007,00,0007,00,0007,00,0007,00,0007,00,0007,00,0007,00,0007,00,0007,00,0007,00,0007,00,0007,00,0007,00,0007,00,0007,00,0007,00,0007,00,0007,00,0007,00,0007,00,0007,00,0007,00,0007,00,0007,00,0007,00,0007,00,0007,00,0007,00,0007,00,0007,00,0007,00,0007,00,0007,00,0007,00,0007,00,0007,00,0007,00,0007,00,0007,00,0007,00,0007,00,0007,00,0007,00,0007,00,0007,00,0007,00,0007,00,0007,00,0007,00,0007,00,0007,00,0007,00,0007,00,0007,00,0007,00,0007,00,0007,00,0007,00,0007,00,0007,00,0007,00,0007,00,0007,00,0007,00,0007,00,0007,00,0007,00,0007,00,0007,00,0007,00,0007,00,0007,00,0007,00,0007,00,0007,00,0007,00,0007,00,0007,00,0007,00,0007,00,0007,00,0007,00,0007,00,0007,00,0007,00,0007,00,0007,00,0007,00,0007,00,0007,00,0007,00,0007,00,0007,00,0007,00,0007,00,0007,00,0007,00,0007,00,0007,00,0007,00,0007,00,0007,00,0007,00,0007,00,0007,00,0007,00,0007,00,0007,00,0007,00,0007,00,0007,00,0007,00,0007,00,0007,00,0007,00,0007,00,0007,00,0007,00,0007,00,0007,00,0007,00,0007,00,0007,00,0007,00,0007,00,0007,00,0007,00,0007,00,0007,00,0007,00,0007,00,0007,00,0007,00,0007,00,0007,00,0007,00,0007,00,0007,00,0007,00,0007,00,0007,00,0007,00,0007,00,0007,00,0007,00,0007,00,0007,00,0007,00,0007,00,0007,00,0007,00,0007,00,0007,00,0007,00,0007,00,0007,00,0007,00,0007,00,0007,00,0007,00,0007,00,0007,00,0007,00,0007,00,0007,00,0007,00,0007,00,0007,00,0007,00,0007,00,0007,00,0007,00,0007,00,0007,00,0007,00,0007,00,0007,00,0007,00,0007,00,0007,00,0007,00,0007,00,0007,00,0007,00,0007,00,0007,00,0007,00,0007,00,0007,00,0007,00,0007,00,0007,00,0007,00,0007,00,0007,00,0007,00,0007,00,0007,00,0007,00,0007,00,0007,00,0007,00,0007,00,0007,00,0007,00,0007,00,0007,00,0007,00,0007,00,0007,00,0007,00,0007,00,0007,00,0007,00,0007,00,0007,00,0007,00,0007,00,0007,00,0007,00,0007,00,0007,00,0007,00,0007,00,0007,00,0007,00,0007,00,0007,00,0007,00,0007,00,0007,00,0007,00,0007,00,0007,00,0007,00,0007,00,0007,00,0007,00,0007,00,0007,00,0007,00,0007,00,0007,00,0007,00,0007,00,0007,00,0007,00,0007,00,0007,00,0007,00,0007,00,0007,00,0007,00,0007,00,0007,00,0007,00,0007,00,0007,00,0007,00,0006,00,0006,00,0006,00,0006,00,0006,00,0006,00,0006,00,0006,00,0006,00,0006,00,0006,00,0006,00,0006,00,0006,00,0006,00,0006,00,0006,00,0006,00,0006,00,0006,00,0006,00,0006,00,0006,00,0006,00,0006,00,0006,00,0006,00,0006,00,0006,00,0006,00,0006,00,0006,00,0006,00,0006,00,0006,00,0006,00,0006,00,0006,00,0006,00,0006,00,0006,00,0006,00,0006,00,0006,00,0006,00,0006,00,0006,00,0006,00,0006,00,0006,00,0006,00,0006,00,0006,00,0006,00,0006,00,0006,00,0006,00,0006,00,0006,00,0006,00,0006,00,0006,00,0006,00,0006,00,0006,00,0006,00,0006,00,0006,00,0006,00,0006,00,0006,00,0006,00,0006,00,0006,00,0006,00,0006,00,0006,00,0006,00,0006,00,0006,00,0006,00,0006,00,0006,00,0006,00,0006,00,0006,00,0006,00,0006,00,0006,00,0006,00,0006,00,0006,00,0006,00,0006,00,0006,00,0006,00,0006,00,0006,00,0006,00,0006,00,0006,00,0006,00,0006,00,0006,00,0006,00,0006,00,0006,00,0006,00,0006,00,0006,00,0006,00,0006,00,0006,00,0006,00,0006,00,0006,00,0006,00,0006,00,0006,00,0006,00,0006,00,0006,00,0006,00,0006,00,0006,00,0006,00,0006,00,0006,00,0006,00,0006,00,0006,00,0006,00,0006,00,0006,00,0006,00,0006,00,0006,00,0006,00,0006,00,0006,00,0006,00,0006,00,0006,00,0006,00,0006,00,0006,00,0006,00,0006,00,0006,00,0006,00,0006,00,0006,00,0006,00,0006,00,0006,00,0006,00,0006,00,0006,00,0006,00,0006,00,0006,00,0006,00,0006,00,0006,00,0006,00,0006,00,0006,00,0006,00,0006,00,0006,00,0006,00,0006,00,0006,00,0006,00,0006,00,0006,00,0006,00,0006,00,0006,00,0006,00,0006,00,0006,00,0006,00,0006,00,0006,00,0006,00,0006,00,0006,00,0006,00,0006,00,0006,00,0006,00,0006,00,0006,00,0006,00,0006,00,0006,00,0006,00,0006,00,0006,00,0006,00,0006,00,0006,00,0006,00,0006,00,0006,00,0006,00,0006,00,0006,00,0006,00,0006,00,0006,00,0006,00,0006,00,0006,00,0006,00,0006,00,0006,00,0006,00,0006,00,0006,00,0006,00,0006,00,0006,00,0006,00,0006,00,0006,00,0006,00,0006,00,0006,00,0006,00,0006,00,0006,00,0006,00,0006,00,0006,00,0006,00,0006,00,0006,00,0006,00,0006,00,0006,00,0006,00,0006,00,0006,00,0006,00,0006,00,0006,00,0006,00,0006,00,0006,00,0006,00,0006,00,0006,00,0006,00,0006,00,0006,00,0006,00,0006,00,0006,00,0006,00,0006,00,0006,00,0006,00,0006,00,0006,00,0006,00,0006,00,0006,00,0006,00,0006,00,0006,00,0006,00,0006,00,0006,00,0006,00,0006,00,0006,00,0006,00,0006,00,0006,00,0006,00,0006,00,0006,00,0006,00,0006,00,0006,00,0006,00,0006,00,0006,00,0006,00,0006,00,0006,00,0006,00,0006,00,0006,00,0006,00,0006,00,0006,00,0006,00,0006,00,0006,00,0006,00,0006,00,0006,00,0006,00,0006,00,0006,00,0006,00,0006,00,0006,00,0006,00,0006,00,0006,00,0006,00,0006,00,0006,00,0006,00,0006,00,0006,00,0006,00,0006,00,0006,00,0006,00,0006,00,0006,00,0006,00,0006,00,0006,00,0006,00,0006,00,0006,00,0006,00,0006,00,0006,00,0006,00,0006,00,0006,00,0006,00,0006,00,0006,00,0006,00,0006,00,0006,00,0006,00,0006,00,0006,00,0006,00,0006,00,0006,00,0006,00,0006,00,0006,00,0006,00,0006,00,0006,00,0006,00,0006,00,0006,00,0006,00,0006,00,0006,00,0006,00,0006,00,0006,00,0006,00,0006,00,0006,00,0006,00,0006,00,0006,00,0006,00,0006,00,0006,00,0006,00,0006,00,0006,00,0006,00,0006,00,0006,00,0006,00,0006,00,0006,00,0006,00,0006,00,0006,00,0006,00,0006,00,0006,00,0006,00,0006,00,0006,00,0006,00,0006,00,0006,00,0006,00,0006,00,0006,00,0006,00,0006,00,0006,00,0006,00,0006,00,0006,00,0006,00,0006,00,0006,00,0006,00,0006,00,0006,00,0006,00,0006,00,0006,00,0006,00,0006,00,0006,00,0006,00,0006,00,0006,00,0006,00,0006,00,0006,00,0006,00,0006,00,0006,00,0006,00,0006,00,0006,00,0006,00,0006,00,0006,00,0006,00,0006,00,0006,00,0006,00,0006,00,0006,00,0006,00,0006,00,0006,00,0006,00,0006,00,0006,00,0006,00,0006,00,0006,00,0006,00,0006,00,0006,00,0006,00,0006,00,0006,00,0005,00,0005,00,0005,00,0005,00,0005,00,0005,00,0005,00,0005,00,0005,00,0005,00,0005,00,0005,00,0005,00,0005,00,0005,00,0005,00,0005,00,0005,00,0005,00,0005,00,0005,00,0005,00,0005,00,0005,00,0005,00,0005,00,0005,00,0005,00,0005,00,0005,00,0005,00,0005,00,0005,00,0005,00,0005,00,0005,00,0005,00,0005,00,0005,00,0005,00,0005,00,0005,00,0005,00,0005,00,0005,00,0005,00,0005,00,0005,00,0005,00,0005,00,0005,00,0005,00,0005,00,0005,00,0005,00,0005,00,0005,00,0005,00,0005,00,0005,00,0005,00,0005,00,0005,00,0005,00,0005,00,0005,00,0005,00,0005,00,0005,00,0005,00,0005,00,0005,00,0005,00,0005,00,0005,00,0005,00,0005,00,0005,00,0005,00,0005,00,0005,00,0005,00,0005,00,0005,00,0005,00,0005,00,0005,00,0005,00,0005,00,0005,00,0005,00,0005,00,0005,00,0005,00,0005,00,0005,00,0005,00,0005,00,0005,00,0005,00,0005,00,0005,00,0005,00,0005,00,0005,00,0005,00,0005,00,0005,00,0005,00,0005,00,0005,00,0005,00,0005,00,0005,00,0005,00,0005,00,0005,00,0005,00,0005,00,0005,00,0005,00,0005,00,0005,00,0005,00,0005,00,0005,00,0005,00,0005,00,0005,00,0005,00,0005,00,0005,00,0005,00,0005,00,0005,00,0005,00,0005,00,0005,00,0005,00,0005,00,0005,00,0005,00,0005,00,0005,00,0005,00,0005,00,0005,00,0005,00,0005,00,0005,00,0005,00,0005,00,0005,00,0005,00,0005,00,0005,00,0005,00,0005,00,0005,00,0005,00,0005,00,0005,00,0005,00,0005,00,0005,00,0005,00,0005,00,0005,00,0005,00,0005,00,0005,00,0005,00,0005,00,0005,00,0005,00,0005,00,0005,00,0005,00,0005,00,0005,00,0005,00,0005,00,0005,00,0005,00,0005,00,0005,00,0005,00,0005,00,0005,00,0005,00,0005,00,0005,00,0005,00,0005,00,0005,00,0005,00,0005,00,0005,00,0005,00,0005,00,0005,00,0005,00,0005,00,0005,00,0005,00,0005,00,0005,00,0005,00,0005,00,0005,00,0005,00,0005,00,0005,00,0005,00,0005,00,0005,00,0005,00,0005,00,0005,00,0005,00,0005,00,0005,00,0005,00,0005,00,0005,00,0005,00,0005,00,0005,00,0005,00,0005,00,0005,00,0005,00,0005,00,0005,00,0005,00,0005,00,0005,00,0005,00,0005,00,0005,00,0005,00,0005,00,0005,00,0005,00,0005,00,0005,00,0005,00,0005,00,0005,00,0005,00,0005,00,0005,00,0005,00,0005,00,0005,00,0005,00,0005,00,0005,00,0005,00,0005,00,0005,00,0005,00,0005,00,0005,00,0005,00,0005,00,0005,00,0005,00,0005,00,0005,00,0005,00,0005,00,0005,00,0005,00,0005,00,0005,00,0005,00,0005,00,0005,00,0005,00,0005,00,0005,00,0005,00,0005,00,0005,00,0005,00,0005,00,0005,00,0005,00,0005,00,0005,00,0005,00,0005,00,0005,00,0005,00,0005,00,0005,00,0005,00,0005,00,0005,00,0005,00,0005,00,0005,00,0005,00,0005,00,0005,00,0005,00,0005,00,0005,00,0005,00,0005,00,0005,00,0005,00,0005,00,0005,00,0005,00,0005,00,0005,00,0005,00,0005,00,0005,00,0005,00,0005,00,0005,00,0005,00,0005,00,0005,00,0005,00,0005,00,0005,00,0005,00,0005,00,0005,00,0005,00,0005,00,0005,00,0005,00,0005,00,0005,00,0005,00,0005,00,0005,00,0005,00,0005,00,0005,00,0005,00,0005,00,0005,00,0005,00,0005,00,0005,00,0005,00,0005,00,0005,00,0005,00,0005,00,0005,00,0005,00,0005,00,0005,00,0005,00,0005,00,0005,00,0005,00,0005,00,0005,00,0005,00,0005,00,0005,00,0005,00,0005,00,0005,00,0005,00,0005,00,0005,00,0005,00,0005,00,0005,00,0005,00,0005,00,0005,00,0005,00,0005,00,0005,00,0005,00,0005,00,0005,00,0005,00,0005,00,0005,00,0005,00,0005,00,0005,00,0005,00,0005,00,0005,00,0005,00,0005,00,0005,00,0005,00,0005,00,0005,00,0005,00,0005,00,0005,00,0005,00,0005,00,0005,00,0005,00,0005,00,0005,00,0005,00,0005,00,0005,00,0005,00,0005,00,0005,00,0005,00,0005,00,0005,00,0005,00,0005,00,0005,00,0005,00,0005,00,0005,00,0005,00,0005,00,0005,00,0005,00,0005,00,0005,00,0005,00,0005,00,0005,00,0005,00,0005,00,0005,00,0005,00,0005,00,0005,00,0005,00,0005,00,0005,00,0005,00,0005,00,0005,00,0005,00,0005,00,0005,00,0005,00,0005,00,0005,00,0005,00,0005,00,0005,00,0005,00,0005,00,0005,00,0005,00,0005,00,0005,00,0005,00,0005,00,0005,00,0005,00,0005,00,0005,00,0005,00,0005,00,0005,00,0005,00,0005,00,0005,00,0005,00,0005,00,0005,00,0005,00,0005,00,0005,00,0005,00,0005,00,0005,00,0005,00,0005,00,0005,00,0005,00,0005,00,0005,00,0005,00,0005,00,0005,00,0005,00,0005,00,0005,00,0005,00,0005,00,0005,00,0005,00,0005,00,0005,00,0005,00,0005,00,0005,00,0005,00,0005,00,0005,00,0005,00,0005,00,0005,00,0005,00,0005,00,0005,00,0005,00,0005,00,0005,00,0005,00,0005,00,0005,00,0005,00,0005,00,0005,00,0005,00,0005,00,0005,00,0005,00,0005,00,0005,00,0005,00,0005,00,0005,00,0005,00,0005,00,0005,00,0005,00,0005,00,0005,00,0005,00,0005,00,0005,00,0005,00,0005,00,0005,00,0005,00,0005,00,0005,00,0005,00,0005,00,0005,00,0005,00,0005,00,0005,00,0005,00,0005,00,0005,00,0005,00,0005,00,0005,00,0005,00,0005,00,0005,00,0005,00,0005,00,0005,00,0005,00,0005,00,0005,00,0005,00,0004,00,0004,00,0004,00,0004,00,0004,00,0004,00,0004,00,0004,00,0004,00,0004,00,0004,00,0004,00,0004,00,0004,00,0004,00,0004,00,0004,00,0004,00,0004,00,0004,00,0004,00,0004,00,0004,00,0004,00,0004,00,0004,00,0004,00,0004,00,0004,00,0004,00,0004,00,0004,00,0004,00,0004,00,0004,00,0004,00,0004,00,0004,00,0004,00,0004,00,0004,00,0004,00,0004,00,0004,00,0004,00,0004,00,0004,00,0004,00,0004,00,0004,00,0004,00,0004,00,0004,00,0004,00,0004,00,0004,00,0004,00,0004,00,0004,00,0004,00,0004,00,0004,00,0004,00,0004,00,0004,00,0004,00,0004,00,0004,00,0004,00,0004,00,0004,00,0004,00,0004,00,0004,00,0004,00,0004,00,0004,00,0004,00,0004,00,0004,00,0004,00,0004,00,0004,00,0004,00,0004,00,0004,00,0004,00,0004,00,0004,00,0004,00,0004,00,0004,00,0004,00,0004,00,0004,00,0004,00,0004,00,0004,00,0004,00,0004,00,0004,00,0004,00,0004,00,0004,00,0004,00,0004,00,0004,00,0004,00,0004,00,0004,00,0004,00,0004,00,0004,00,0004,00,0004,00,0004,00,0004,00,0004,00,0004,00,0004,00,0004,00,0004,00,0004,00,0004,00,0004,00,0004,00,0004,00,0004,00,0004,00,0004,00,0004,00,0004,00,0004,00,0004,00,0004,00,0004,00,0004,00,0004,00,0004,00,0004,00,0004,00,0004,00,0004,00,0004,00,0004,00,0004,00,0004,00,0004,00,0004,00,0004,00,0004,00,0004,00,0004,00,0004,00,0004,00,0004,00,0004,00,0004,00,0004,00,0004,00,0004,00,0004,00,0004,00,0004,00,0004,00,0004,00,0004,00,0004,00,0004,00,0004,00,0004,00,0004,00,0004,00,0004,00,0004,00,0004,00,0004,00,0004,00,0004,00,0004,00,0004,00,0004,00,0004,00,0004,00,0004,00,0004,00,0004,00,0004,00,0004,00,0004,00,0004,00,0004,00,0004,00,0004,00,0004,00,0004,00,0004,00,0004,00,0004,00,0004,00,0004,00,0004,00,0004,00,0004,00,0004,00,0004,00,0004,00,0004,00,0004,00,0004,00,0004,00,0004,00,0004,00,0004,00,0004,00,0004,00,0004,00,0004,00,0004,00,0004,00,0004,00,0004,00,0004,00,0004,00,0004,00,0004,00,0004,00,0004,00,0004,00,0004,00,0004,00,0004,00,0004,00,0004,00,0004,00,0004,00,0004,00,0004,00,0004,00,0004,00,0004,00,0004,00,0004,00,0004,00,0004,00,0004,00,0004,00,0004,00,0004,00,0004,00,0004,00,0004,00,0004,00,0004,00,0004,00,0004,00,0004,00,0004,00,0004,00,0004,00,0004,00,0004,00,0004,00,0004,00,0004,00,0004,00,0004,00,0004,00,0004,00,0004,00,0004,00,0004,00,0004,00,0004,00,0004,00,0004,00,0004,00,0004,00,0004,00,0004,00,0004,00,0004,00,0004,00,0004,00,0004,00,0004,00,0004,00,0004,00,0004,00,0004,00,0004,00,0004,00,0004,00,0004,00,0004,00,0004,00,0004,00,0004,00,0004,00,0004,00,0004,00,0004,00,0004,00,0004,00,0004,00,0004,00,0004,00,0004,00,0004,00,0004,00,0004,00,0004,00,0004,00,0004,00,0004,00,0004,00,0004,00,0004,00,0004,00,0004,00,0004,00,0004,00,0004,00,0004,00,0004,00,0004,00,0004,00,0004,00,0004,00,0004,00,0004,00,0004,00,0004,00,0004,00,0004,00,0004,00,0004,00,0004,00,0004,00,0004,00,0004,00,0004,00,0004,00,0004,00,0004,00,0004,00,0004,00,0004,00,0004,00,0004,00,0004,00,0004,00,0004,00,0004,00,0004,00,0004,00,0004,00,0004,00,0004,00,0004,00,0004,00,0004,00,0004,00,0004,00,0004,00,0004,00,0004,00,0004,00,0004,00,0004,00,0004,00,0004,00,0004,00,0004,00,0004,00,0004,00,0004,00,0004,00,0004,00,0004,00,0004,00,0004,00,0004,00,0004,00,0004,00,0004,00,0004,00,0004,00,0004,00,0004,00,0004,00,0004,00,0004,00,0004,00,0004,00,0004,00,0004,00,0004,00,0004,00,0004,00,0004,00,0004,00,0004,00,0004,00,0004,00,0004,00,0004,00,0004,00,0004,00,0004,00,0004,00,0004,00,0004,00,0004,00,0004,00,0004,00,0004,00,0004,00,0004,00,0004,00,0004,00,0004,00,0004,00,0004,00,0004,00,0004,00,0004,00,0004,00,0004,00,0004,00,0004,00,0004,00,0004,00,0004,00,0004,00,0004,00,0004,00,0004,00,0004,00,0004,00,0004,00,0004,00,0004,00,0004,00,0004,00,0004,00,0004,00,0004,00,0004,00,0004,00,0004,00,0004,00,0004,00,0004,00,0004,00,0004,00,0004,00,0004,00,0004,00,0004,00,0004,00,0004,00,0004,00,0004,00,0004,00,0004,00,0004,00,0004,00,0004,00,0004,00,0004,00,0004,00,0004,00,0004,00,0004,00,0004,00,0004,00,0004,00,0004,00,0004,00,0004,00,0004,00,0004,00,0004,00,0004,00,0004,00,0004,00,0004,00,0004,00,0004,00,0004,00,0004,00,0004,00,0004,00,0004,00,0004,00,0004,00,0004,00,0004,00,0004,00,0004,00,0004,00,0004,00,0004,00,0004,00,0004,00,0004,00,0004,00,0004,00,0004,00,0004,00,0004,00,0004,00,0004,00,0004,00,0004,00,0004,00,0004,00,0004,00,0004,00,0004,00,0004,00,0004,00,0004,00,0004,00,0004,00,0004,00,0004,00,0004,00,0004,00,0004,00,0004,00,0004,00,0004,00,0004,00,0004,00,0004,00,0004,00,0004,00,0004,00,0004,00,0004,00,0004,00,0004,00,0004,00,0004,00,0004,00,0004,00,0004,00,0004,00,0004,00,0004,00,0004,00,0004,00,0004,00,0004,00,0004,00,0004,00,0004,00,0004,00,0004,00,0004,00,0004,00,0004,00,0004,00,0004,00,0004,00,0004,00,0004,00,0004,00,0004,00,0004,00,0004,00,0004,00,0004,00,0004,00,0004,00,0004,00,0004,00,0004,00,0004,00,0004,00,0004,00,0004,00,0004,00,0004,00,0004,00,0004,00,0004,00,0004,00,0004,00,0004,00,0004,00,0004,00,0004,00,0004,00,0004,00,0004,00,0004,00,0004,00,0004,00,0004,00,0004,00,0004,00,0004,00,0004,00,0004,00,0004,00,0004,00,0004,00,0004,00,0004,00,0004,00,0004,00,0004,00,0004,00,0004,00,0004,00,0004,00,0004,00,0004,00,0004,00,0004,00,0004,00,0004,00,0004,00,0004,00,0004,00,0004,00,0004,00,0004,00,0004,00,0004,00,0004,00,0004,00,0004,00,0004,00,0004,00,0004,00,0004,00,0004,00,0004,00,0004,00,0004,00,0004,00,0004,00,0004,00,0004,00,0004,00,0004,00,0004,00,0004,00,0004,00,0004,00,0004,00,0004,00,0004,00,0004,00,0004,00,0004,00,0004,00,0004,00,0004,00,0004,00,0004,00,0004,00,0004,00,0004,00,0004,00,0004,00,0004,00,0004,00,0004,00,0004,00,0004,00,0004,00,0004,00,0004,00,0004,00,0004,00,0004,00,0004,00,0004,00,0004,00,0004,00,0004,00,0004,00,0004,00,0004,00,0004,00,0004,00,0004,00,0004,00,0004,00,0004,00,0004,00,0004,00,0004,00,0004,00,0004,00,0004,00,0004,00,0004,00,0004,00,0004,00,0004,00,0004,00,0004,00,0003,00,0003,00,0003,00,0003,00,0003,00,0003,00,0003,00,0003,00,0003,00,0003,00,0003,00,0003,00,0003,00,0003,00,0003,00,0003,00,0003,00,0003,00,0003,00,0003,00,0003,00,0003,00,0003,00,0003,00,0003,00,0003,00,0003,00,0003,00,0003,00,0003,00,0003,00,0003,00,0003,00,0003,00,0003,00,0003,00,0003,00,0003,00,0003,00,0003,00,0003,00,0003,00,0003,00,0003,00,0003,00,0003,00,0003,00,0003,00,0003,00,0003,00,0003,00,0003,00,0003,00,0003,00,0003,00,0003,00,0003,00,0003,00,0003,00,0003,00,0003,00,0003,00,0003,00,0003,00,0003,00,0003,00,0003,00,0003,00,0003,00,0003,00,0003,00,0003,00,0003,00,0003,00,0003,00,0003,00,0003,00,0003,00,0003,00,0003,00,0003,00,0003,00,0003,00,0003,00,0003,00,0003,00,0003,00,0003,00,0003,00,0003,00,0003,00,0003,00,0003,00,0003,00,0003,00,0003,00,0003,00,0003,00,0003,00,0003,00,0003,00,0003,00,0003,00,0003,00,0003,00,0003,00,0003,00,0003,00,0003,00,0003,00,0003,00,0003,00,0003,00,0003,00,0003,00,0003,00,0003,00,0003,00,0003,00,0003,00,0003,00,0003,00,0003,00,0003,00,0003,00,0003,00,0003,00,0003,00,0003,00,0003,00,0003,00,0003,00,0003,00,0003,00,0003,00,0003,00,0003,00,0003,00,0003,00,0003,00,0003,00,0003,00,0003,00,0003,00,0003,00,0003,00,0003,00,0003,00,0003,00,0003,00,0003,00,0003,00,0003,00,0003,00,0003,00,0003,00,0003,00,0003,00,0003,00,0003,00,0003,00,0003,00,0003,00,0003,00,0003,00,0003,00,0003,00,0003,00,0003,00,0003,00,0003,00,0003,00,0003,00,0003,00,0003,00,0003,00,0003,00,0003,00,0003,00,0003,00,0003,00,0003,00,0003,00,0003,00,0003,00,0003,00,0003,00,0003,00,0003,00,0003,00,0003,00,0003,00,0003,00,0003,00,0003,00,0003,00,0003,00,0003,00,0003,00,0003,00,0003,00,0003,00,0003,00,0003,00,0003,00,0003,00,0003,00,0003,00,0003,00,0003,00,0003,00,0003,00,0003,00,0003,00,0003,00,0003,00,0003,00,0003,00,0003,00,0003,00,0003,00,0003,00,0003,00,0003,00,0003,00,0003,00,0003,00,0003,00,0003,00,0003,00,0003,00,0003,00,0003,00,0003,00,0003,00,0003,00,0003,00,0003,00,0003,00,0003,00,0003,00,0003,00,0003,00,0003,00,0003,00,0003,00,0003,00,0003,00,0003,00,0003,00,0003,00,0003,00,0003,00,0003,00,0003,00,0003,00,0003,00,0003,00,0003,00,0003,00,0003,00,0003,00,0003,00,0003,00,0003,00,0003,00,0003,00,0003,00,0003,00,0003,00,0003,00,0003,00,0003,00,0003,00,0003,00,0003,00,0003,00,0003,00,0003,00,0003,00,0003,00,0003,00,0003,00,0003,00,0003,00,0003,00,0003,00,0003,00,0003,00,0003,00,0003,00,0003,00,0003,00,0003,00,0003,00,0003,00,0003,00,0003,00,0003,00,0003,00,0003,00,0003,00,0003,00,0003,00,0003,00,0003,00,0003,00,0003,00,0003,00,0003,00,0003,00,0003,00,0003,00,0003,00,0003,00,0003,00,0003,00,0003,00,0003,00,0003,00,0003,00,0003,00,0003,00,0003,00,0003,00,0003,00,0003,00,0003,00,0003,00,0003,00,0003,00,0003,00,0003,00,0003,00,0003,00,0003,00,0003,00,0003,00,0003,00,0003,00,0003,00,0003,00,0003,00,0003,00,0003,00,0003,00,0003,00,0003,00,0003,00,0003,00,0003,00,0003,00,0003,00,0003,00,0003,00,0003,00,0003,00,0003,00,0003,00,0003,00,0003,00,0003,00,0003,00,0003,00,0003,00,0003,00,0003,00,0003,00,0003,00,0003,00,0003,00,0003,00,0003,00,0003,00,0003,00,0003,00,0003,00,0003,00,0003,00,0003,00,0003,00,0003,00,0003,00,0003,00,0003,00,0003,00,0003,00,0003,00,0003,00,0003,00,0003,00,0003,00,0003,00,0003,00,0003,00,0003,00,0003,00,0003,00,0003,00,0003,00,0003,00,0003,00,0003,00,0003,00,0003,00,0003,00,0003,00,0003,00,0003,00,0003,00,0003,00,0003,00,0003,00,0003,00,0003,00,0003,00,0003,00,0003,00,0003,00,0003,00,0003,00,0003,00,0003,00,0003,00,0003,00,0003,00,0003,00,0003,00,0003,00,0003,00,0003,00,0003,00,0003,00,0003,00,0003,00,0003,00,0003,00,0003,00,0003,00,0003,00,0003,00,0003,00,0003,00,0003,00,0003,00,0003,00,0003,00,0003,00,0003,00,0003,00,0003,00,0003,00,0003,00,0003,00,0003,00,0003,00,0003,00,0003,00,0003,00,0003,00,0003,00,0003,00,0003,00,0003,00,0003,00,0003,00,0003,00,0003,00,0003,00,0003,00,0003,00,0003,00,0003,00,0003,00,0003,00,0003,00,0003,00,0003,00,0003,00,0003,00,0003,00,0003,00,0003,00,0003,00,0003,00,0003,00,0003,00,0003,00,0003,00,0003,00,0003,00,0003,00,0003,00,0003,00,0003,00,0003,00,0003,00,0003,00,0003,00,0003,00,0003,00,0003,00,0003,00,0003,00,0003,00,0003,00,0003,00,0003,00,0003,00,0003,00,0003,00,0003,00,0003,00,0003,00,0003,00,0003,00,0003,00,0003,00,0003,00,0003,00,0003,00,0003,00,0003,00,0003,00,0003,00,0003,00,0003,00,0003,00,0003,00,0003,00,0003,00,0003,00,0003,00,0003,00,0003,00,0003,00,0003,00,0003,00,0003,00,0003,00,0003,00,0003,00,0003,00,0003,00,0003,00,0003,00,0003,00,0003,00,0003,00,0003,00,0003,00,0003,00,0003,00,0003,00,0003,00,0003,00,0003,00,0003,00,0003,00,0003,00,0003,00,0003,00,0003,00,0003,00,0003,00,0003,00,0003,00,0003,00,0003,00,0003,00,0003,00,0003,00,0003,00,0003,00,0003,00,0003,00,0003,00,0003,00,0003,00,0003,00,0003,00,0003,00,0003,00,0003,00,0003,00,0003,00,0003,00,0003,00,0003,00,0003,00,0003,00,0003,00,0003,00,0003,00,0003,00,0003,00,0003,00,0003,00,0003,00,0003,00,0003,00,0003,00,0003,00,0003,00,0003,00,0003,00,0003,00,0003,00,0003,00,0003,00,0003,00,0003,00,0003,00,0003,00,0003,00,0003,00,0003,00,0003,00,0003,00,0003,00,0003,00,0003,00,0003,00,0003,00,0003,00,0003,00,0003,00,0003,00,0003,00,0003,00,0003,00,0003,00,0003,00,0003,00,0003,00,0003,00,0003,00,0003,00,0003,00,0003,00,0003,00,0003,00,0003,00,0003,00,0003,00,0003,00,0003,00,0003,00,0003,00,0003,00,0003,00,0003,00,0003,00,0003,00,0003,00,0003,00,0003,00,0003,00,0003,00,0003,00,0003,00,0003,00,0003,00,0003,00,0003,00,0003,00,0003,00,0003,00,0003,00,0003,00,0003,00,0003,00,0003,00,0003,00,0003,00,0003,00,0003,00,0003,00,0003,00,0003,00,0003,00,0003,00,0003,00,0003,00,0003,00,0003,00,0003,00,0003,00,0003,00,0003,00,0003,00,0003,00,0003,00,0003,00,0003,00,0003,00,0003,00,0003,00,0003,00,0003,00,0003,00,0003,00,0003,00,0003,00,0003,00,0003,00,0003,00,0003,00,0003,00,0003,00,0003,00,0003,00,0003,00,0003,00,0003,00,0003,00,0003,00,0003,00,0003,00,0003,00,0003,00,0003,00,0003,00,0003,00,0003,00,0003,00,0003,00,0003,00,0003,00,0003,00,0003,00,0003,00,0003,00,0003,00,0003,00,0003,00,0003,00,0003,00,0003,00,0003,00,0003,00,0003,00,0003,00,0003,00,0003,00,0003,00,0003,00,0003,00,0003,00,0003,00,0003,00,0003,00,0003,00,0003,00,0003,00,0003,00,0003,00,0003,00,0003,00,0003,00,0003,00,0003,00,0003,00,0003,00,0003,00,0003,00,0003,00,0003,00,0003,00,0003,00,0003,00,0003,00,0003,00,0003,00,0003,00,0003,00,0003,00,0003,00,0003,00,0003,00,0003,00,0003,00,0003,00,0003,00,0003,00,0003,00,0003,00,0003,00,0003,00,0003,00,0003,00,0003,00,0003,00,0003,00,0003,00,0003,00,0003,00,0003,00,0003,00,0003,00,0003,00,0003,00,0003,00,0003,00,0003,00,0003,00,0003,00,0003,00,0003,00,0003,00,0003,00,0003,00,0003,00,0003,00,0003,00,0003,00,0003,00,0003,00,0003,00,0003,00,0003,00,0003,00,0003,00,0003,00,0003,00,0003,00,0003,00,0003,00,0003,00,0003,00,0003,00,0003,00,0003,00,0003,00,0003,00,0003,00,0003,00,0003,00,0003,00,0003,00,0003,00,0003,00,0003,00,0003,00,0003,00,0003,00,0003,00,0003,00,0003,00,0003,00,0003,00,0003,00,0003,00,0003,00,0003,00,0003,00,0003,00,0003,00,0003,00,0003,00,0003,00,0003,00,0003,00,0003,00,0003,00,0003,00,0003,00,0003,00,0003,00,0003,00,0003,00,0003,00,0003,00,0003,00,0003,00,0003,00,0003,00,0003,00,0003,00,0003,00,0003,00,0003,00,0003,00,0003,00,0003,00,0003,00,0003,00,0003,00,0003,00,0003,00,0003,00,0003,00,0003,00,0003,00,0003,00,0003,00,0003,00,0003,00,0003,00,0003,00,0003,00,0003,00,0003,00,0003,00,0003,00,0003,00,0003,00,0003,00,0003,00,0003,00,0003,00,0003,00,0003,00,0003,00,0003,00,0003,00,0003,00,0003,00,0003,00,0003,00,0003,00,0003,00,0003,00,0003,00,0003,00,0003,00,0003,00,0003,00,0003,00,0003,00,0003,00,0003,00,0003,00,0003,00,0003,00,0003,00,0003,00,0003,00,0003,00,0003,00,0003,00,0003,00,0003,00,0003,00,0003,00,0003,00,0003,00,0003,00,0003,00,0003,00,0003,00,0003,00,0003,00,0003,00,0003,00,0003,00,0003,00,0003,00,0003,00,0003,00,0003,00,0003,00,0003,00,0003,00,0003,00,0003,00,0003,00,0003,00,0003,00,0003,00,0003,00,0003,00,0003,00,0003,00,0003,00,0003,00,0003,00,0003,00,0003,00,0003,00,0003,00,0003,00,0003,00,0003,00,0003,00,0003,00,0003,00,0003,00,0003,00,0003,00,0003,00,0003,00,0003,00,0003,00,0003,00,0003,00,0003,00,0003,00,0003,00,0003,00,0003,00,0003,00,0003,00,0003,00,0003,00,0003,00,0003,00,0003,00,0003,00,0003,00,0003,00,0003,00,0003,00,0003,00,0003,00,0003,00,0003,00,0003,00,0003,00,0003,00,0003,00,0003,00,0003,00,0003,00,0003,00,0003,00,0003,00,0003,00,0003,00,0003,00,0003,00,0003,00,0003,00,0003,00,0003,00,0003,00,0003,00,0003,00,0003,00,0003,00,0003,00,0003,00,0003,00,0003,00,0003,00,0003,00,0003,00,0003,00,0003,00,0003,00,0002,00,0002,00,0002,00,0002,00,0002,00,0002,00,0002,00,0002,00,0002,00,0002,00,0002,00,0002,00,0002,00,0002,00,0002,00,0002,00,0002,00,0002,00,0002,00,0002,00,0002,00,0002,00,0002,00,0002,00,0002,00,0002,00,0002,00,0002,00,0002,00,0002,00,0002,00,0002,00,0002,00,0002,00,0002,00,0002,00,0002,00,0002,00,0002,00,0002,00,0002,00,0002,00,0002,00,0002,00,0002,00,0002,00,0002,00,0002,00,0002,00,0002,00,0002,00,0002,00,0002,00,0002,00,0002,00,0002,00,0002,00,0002,00,0002,00,0002,00,0002,00,0002,00,0002,00,0002,00,0002,00,0002,00,0002,00,0002,00,0002,00,0002,00,0002,00,0002,00,0002,00,0002,00,0002,00,0002,00,0002,00,0002,00,0002,00,0002,00,0002,00,0002,00,0002,00,0002,00,0002,00,0002,00,0002,00,0002,00,0002,00,0002,00,0002,00,0002,00,0002,00,0002,00,0002,00,0002,00,0002,00,0002,00,0002,00,0002,00,0002,00,0002,00,0002,00,0002,00,0002,00,0002,00,0002,00,0002,00,0002,00,0002,00,0002,00,0002,00,0002,00,0002,00,0002,00,0002,00,0002,00,0002,00,0002,00,0002,00,0002,00,0002,00,0002,00,0002,00,0002,00,0002,00,0002,00,0002,00,0002,00,0002,00,0002,00,0002,00,0002,00,0002,00,0002,00,0002,00,0002,00,0002,00,0002,00,0002,00,0002,00,0002,00,0002,00,0002,00,0002,00,0002,00,0002,00,0002,00,0002,00,0002,00,0002,00,0002,00,0002,00,0002,00,0002,00,0002,00,0002,00,0002,00,0002,00,0002,00,0002,00,0002,00,0002,00,0002,00,0002,00,0002,00,0002,00,0002,00,0002,00,0002,00,0002,00,0002,00,0002,00,0002,00,0002,00,0002,00,0002,00,0002,00,0002,00,0002,00,0002,00,0002,00,0002,00,0002,00,0002,00,0002,00,0002,00,0002,00,0002,00,0002,00,0002,00,0002,00,0002,00,0002,00,0002,00,0002,00,0002,00,0002,00,0002,00,0002,00,0002,00,0002,00,0002,00,0002,00,0002,00,0002,00,0002,00,0002,00,0002,00,0002,00,0002,00,0002,00,0002,00,0002,00,0002,00,0002,00,0002,00,0002,00,0002,00,0002,00,0002,00,0002,00,0002,00,0002,00,0002,00,0002,00,0002,00,0002,00,0002,00,0002,00,0002,00,0002,00,0002,00,0002,00,0002,00,0002,00,0002,00,0002,00,0002,00,0002,00,0002,00,0002,00,0002,00,0002,00,0002,00,0002,00,0002,00,0002,00,0002,00,0002,00,0002,00,0002,00,0002,00,0002,00,0002,00,0002,00,0002,00,0002,00,0002,00,0002,00,0002,00,0002,00,0002,00,0002,00,0002,00,0002,00,0002,00,0002,00,0002,00,0002,00,0002,00,0002,00,0002,00,0002,00,0002,00,0002,00,0002,00,0002,00,0002,00,0002,00,0002,00,0002,00,0002,00,0002,00,0002,00,0002,00,0002,00,0002,00,0002,00,0002,00,0002,00,0002,00,0002,00,0002,00,0002,00,0002,00,0002,00,0002,00,0002,00,0002,00,0002,00,0002,00,0002,00,0002,00,0002,00,0002,00,0002,00,0002,00,0002,00,0002,00,0002,00,0002,00,0002,00,0002,00,0002,00,0002,00,0002,00,0002,00,0002,00,0002,00,0002,00,0002,00,0002,00,0002,00,0002,00,0002,00,0002,00,0002,00,0002,00,0002,00,0002,00,0002,00,0002,00,0002,00,0002,00,0002,00,0002,00,0002,00,0002,00,0002,00,0002,00,0002,00,0002,00,0002,00,0002,00,0002,00,0002,00,0002,00,0002,00,0002,00,0002,00,0002,00,0002,00,0002,00,0002,00,0002,00,0002,00,0002,00,0002,00,0002,00,0002,00,0002,00,0002,00,0002,00,0002,00,0002,00,0002,00,0002,00,0002,00,0002,00,0002,00,0002,00,0002,00,0002,00,0002,00,0002,00,0002,00,0002,00,0002,00,0002,00,0002,00,0002,00,0002,00,0002,00,0002,00,0002,00,0002,00,0002,00,0002,00,0002,00,0002,00,0002,00,0002,00,0002,00,0002,00,0002,00,0002,00,0002,00,0002,00,0002,00,0002,00,0002,00,0002,00,0002,00,0002,00,0002,00,0002,00,0002,00,0002,00,0002,00,0002,00,0002,00,0002,00,0002,00,0002,00,0002,00,0002,00,0002,00,0002,00,0002,00,0002,00,0002,00,0002,00,0002,00,0002,00,0002,00,0002,00,0002,00,0002,00,0002,00,0002,00,0002,00,0002,00,0002,00,0002,00,0002,00,0002,00,0002,00,0002,00,0002,00,0002,00,0002,00,0002,00,0002,00,0002,00,0002,00,0002,00,0002,00,0002,00,0002,00,0002,00,0002,00,0002,00,0002,00,0002,00,0002,00,0002,00,0002,00,0002,00,0002,00,0002,00,0002,00,0002,00,0002,00,0002,00,0002,00,0002,00,0002,00,0002,00,0002,00,0002,00,0002,00,0002,00,0002,00,0002,00,0002,00,0002,00,0002,00,0002,00,0002,00,0002,00,0002,00,0002,00,0002,00,0002,00,0002,00,0002,00,0002,00,0002,00,0002,00,0002,00,0002,00,0002,00,0002,00,0002,00,0002,00,0002,00,0002,00,0002,00,0002,00,0002,00,0002,00,0002,00,0002,00,0002,00,0002,00,0002,00,0002,00,0002,00,0002,00,0002,00,0002,00,0002,00,0002,00,0002,00,0002,00,0002,00,0002,00,0002,00,0002,00,0002,00,0002,00,0002,00,0002,00,0002,00,0002,00,0002,00,0002,00,0002,00,0002,00,0002,00,0002,00,0002,00,0002,00,0002,00,0002,00,0002,00,0002,00,0002,00,0002,00,0002,00,0002,00,0002,00,0002,00,0002,00,0002,00,0002,00,0002,00,0002,00,0002,00,0002,00,0002,00,0002,00,0002,00,0002,00,0002,00,0002,00,0002,00,0002,00,0002,00,0002,00,0002,00,0002,00,0002,00,0002,00,0002,00,0002,00,0002,00,0002,00,0002,00,0002,00,0002,00,0002,00,0002,00,0002,00,0002,00,0002,00,0002,00,0002,00,0002,00,0002,00,0002,00,0002,00,0002,00,0002,00,0002,00,0002,00,0002,00,0002,00,0002,00,0002,00,0002,00,0002,00,0002,00,0002,00,0002,00,0002,00,0002,00,0002,00,0002,00,0002,00,0002,00,0002,00,0002,00,0002,00,0002,00,0002,00,0002,00,0002,00,0002,00,0002,00,0002,00,0002,00,0002,00,0002,00,0002,00,0002,00,0002,00,0002,00,0002,00,0002,00,0002,00,0002,00,0002,00,0002,00,0002,00,0002,00,0002,00,0002,00,0002,00,0002,00,0002,00,0002,00,0002,00,0002,00,0002,00,0002,00,0002,00,0002,00,0002,00,0002,00,0002,00,0002,00,0002,00,0002,00,0002,00,0002,00,0002,00,0002,00,0002,00,0002,00,0002,00,0002,00,0002,00,0002,00,0002,00,0002,00,0002,00,0002,00,0002,00,0002,00,0002,00,0002,00,0002,00,0002,00,0002,00,0002,00,0002,00,0002,00,0002,00,0002,00,0002,00,0002,00,0002,00,0002,00,0002,00,0002,00,0002,00,0002,00,0002,00,0002,00,0002,00,0002,00,0002,00,0002,00,0002,00,0002,00,0002,00,0002,00,0002,00,0002,00,0002,00,0002,00,0002,00,0002,00,0002,00,0002,00,0002,00,0002,00,0002,00,0002,00,0002,00,0002,00,0002,00,0002,00,0002,00,0002,00,0002,00,0002,00,0002,00,0002,00,0002,00,0002,00,0002,00,0002,00,0002,00,0002,00,0002,00,0002,00,0002,00,0002,00,0002,00,0002,00,0002,00,0002,00,0002,00,0002,00,0002,00,0002,00,0002,00,0002,00,0002,00,0002,00,0002,00,0002,00,0002,00,0002,00,0002,00,0002,00,0002,00,0002,00,0002,00,0002,00,0002,00,0002,00,0002,00,0002,00,0002,00,0002,00,0002,00,0002,00,0002,00,0002,00,0002,00,0002,00,0002,00,0002,00,0002,00,0002,00,0002,00,0002,00,0002,00,0002,00,0002,00,0002,00,0002,00,0002,00,0002,00,0002,00,0002,00,0002,00,0002,00,0002,00,0002,00,0002,00,0002,00,0002,00,0002,00,0002,00,0002,00,0002,00,0002,00,0002,00,0002,00,0002,00,0002,00,0002,00,0002,00,0002,00,0002,00,0002,00,0002,00,0002,00,0002,00,0002,00,0002,00,0002,00,0002,00,0002,00,0002,00,0002,00,0002,00,0002,00,0002,00,0002,00,0002,00,0002,00,0002,00,0002,00,0002,00,0002,00,0002,00,0002,00,0002,00,0002,00,0002,00,0002,00,0002,00,0002,00,0002,00,0002,00,0002,00,0002,00,0002,00,0002,00,0002,00,0002,00,0002,00,0002,00,0002,00,0002,00,0002,00,0002,00,0002,00,0002,00,0002,00,0002,00,0002,00,0002,00,0002,00,0002,00,0002,00,0002,00,0002,00,0002,00,0002,00,0002,00,0002,00,0002,00,0002,00,0002,00,0002,00,0002,00,0002,00,0002,00,0002,00,0002,00,0002,00,0002,00,0002,00,0002,00,0002,00,0002,00,0002,00,0002,00,0002,00,0002,00,0002,00,0002,00,0002,00,0002,00,0002,00,0002,00,0002,00,0002,00,0002,00,0002,00,0002,00,0002,00,0002,00,0002,00,0002,00,0002,00,0002,00,0002,00,0002,00,0002,00,0002,00,0002,00,0002,00,0002,00,0002,00,0002,00,0002,00,0002,00,0002,00,0002,00,0002,00,0002,00,0002,00,0002,00,0002,00,0002,00,0002,00,0002,00,0002,00,0002,00,0002,00,0002,00,0002,00,0002,00,0002,00,0002,00,0002,00,0002,00,0002,00,0002,00,0002,00,0002,00,0002,00,0002,00,0002,00,0002,00,0002,00,0002,00,0002,00,0002,00,0002,00,0002,00,0002,00,0002,00,0002,00,0002,00,0002,00,0002,00,0002,00,0002,00,0002,00,0002,00,0002,00,0002,00,0002,00,0002,00,0002,00,0002,00,0002,00,0002,00,0002,00,0002,00,0002,00,0002,00,0002,00,0002,00,0002,00,0002,00,0002,00,0002,00,0002,00,0002,00,0002,00,0002,00,0002,00,0002,00,0002,00,0002,00,0002,00,0002,00,0002,00,0002,00,0002,00,0002,00,0002,00,0002,00,0002,00,0002,00,0002,00,0002,00,0002,00,0002,00,0002,00,0002,00,0002,00,0002,00,0002,00,0002,00,0002,00,0002,00,0002,00,0002,00,0002,00,0002,00,0002,00,0002,00,0002,00,0002,00,0002,00,0002,00,0002,00,0002,00,0002,00,0002,00,0002,00,0002,00,0002,00,0002,00,0002,00,0002,00,0002,00,0002,00,0002,00,0002,00,0002,00,0002,00,0002,00,0002,00,0002,00,0002,00,0002,00,0002,00,0002,00,0002,00,0002,00,0002,00,0002,00,0002,00,0002,00,0002,00,0002,00,0002,00,0002,00,0002,00,0002,00,0002,00,0002,00,0002,00,0002,00,0002,00,0002,00,0002,00,0002,00,0002,00,0002,00,0002,00,0002,00,0002,00,0002,00,0002,00,0002,00,0002,00,0002,00,0002,00,0002,00,0002,00,0002,00,0002,00,0002,00,0002,00,0002,00,0002,00,0002,00,0002,00,0002,00,0002,00,0002,00,0002,00,0002,00,0002,00,0002,00,0002,00,0002,00,0002,00,0002,00,0002,00,0002,00,0002,00,0002,00,0002,00,0002,00,0002,00,0002,00,0002,00,0002,00,0002,00,0002,00,0002,00,0002,00,0002,00,0002,00,0002,00,0002,00,0002,00,0002,00,0002,00,0002,00,0002,00,0002,00,0002,00,0002,00,0002,00,0002,00,0002,00,0002,00,0002,00,0002,00,0002,00,0002,00,0002,00,0002,00,0002,00,0002,00,0002,00,0002,00,0002,00,0002,00,0002,00,0002,00,0002,00,0002,00,0002,00,0002,00,0002,00,0002,00,0002,00,0002,00,0002,00,0002,00,0002,00,0002,00,0002,00,0002,00,0002,00,0002,00,0002,00,0002,00,0002,00,0002,00,0002,00,0002,00,0002,00,0002,00,0002,00,0002,00,0002,00,0002,00,0002,00,0002,00,0002,00,0002,00,0002,00,0002,00,0002,00,0002,00,0002,00,0002,00,0002,00,0002,00,0002,00,0002,00,0002,00,0002,00,0002,00,0002,00,0002,00,0002,00,0002,00,0002,00,0002,00,0002,00,0002,00,0002,00,0002,00,0002,00,0002,00,0002,00,0002,00,0002,00,0002,00,0002,00,0002,00,0002,00,0002,00,0002,00,0002,00,0002,00,0002,00,0002,00,0002,00,0002,00,0002,00,0002,00,0002,00,0002,00,0002,00,0002,00,0002,00,0002,00,0002,00,0002,00,0002,00,0002,00,0002,00,0002,00,0002,00,0002,00,0002,00,0002,00,0002,00,0002,00,0002,00,0002,00,0002,00,0002,00,0002,00,0002,00,0002,00,0002,00,0002,00,0002,00,0002,00,0002,00,0002,00,0002,00,0002,00,0002,00,0002,00,0002,00,0002,00,0002,00,0002,00,0002,00,0002,00,0002,00,0002,00,0002,00,0002,00,0002,00,0002,00,0002,00,0002,00,0002,00,0002,00,0002,00,0002,00,0002,00,0002,00,0002,00,0002,00,0002,00,0002,00,0002,00,0002,00,0002,00,0002,00,0002,00,0002,00,0002,00,0002,00,0002,00,0002,00,0002,00,0002,00,0002,00,0002,00,0002,00,0002,00,0002,00,0002,00,0002,00,0002,00,0002,00,0002,00,0002,00,0002,00,0002,00,0002,00,0002,00,0002,00,0002,00,0002,00,0002,00,0002,00,0002,00,0002,00,0002,00,0002,00,0002,00,0002,00,0002,00,0002,00,0002,00,0002,00,0002,00,0002,00,0002,00,0002,00,0002,00,0002,00,0002,00,0002,00,0002,00,0002,00,0002,00,0002,00,0002,00,0002,00,0002,00,0002,00,0002,00,0002,00,0002,00,0002,00,0002,00,0002,00,0002,00,0002,00,0002,00,0002,00,0002,00,0002,00,0002,00,0002,00,0002,00,0002,00,0002,00,0002,00,0002,00,0002,00,0002,00,0002,00,0002,00,0002,00,0002,00,0002,00,0002,00,0002,00,0002,00,0002,00,0002,00,0002,00,0002,00,0002,00,0002,00,0002,00,0002,00,0002,00,0002,00,0002,00,0002,00,0002,00,0002,00,0002,00,0002,00,0002,00,0002,00,0002,00,0002,00,0002,00,0002,00,0002,00,0002,00,0002,00,0002,00,0002,00,0002,00,0002,00,0002,00,0002,00,0002,00,0002,00,0002,00,0002,00,0002,00,0002,00,0002,00,0002,00,0002,00,0002,00,0002,00,0002,00,0002,00,0002,00,0002,00,0002,00,0002,00,0002,00,0002,00,0002,00,0002,00,0002,00,0002,00,0002,00,0002,00,0002,00,0002,00,0002,00,0002,00,0002,00,0002,00,0002,00,0002,00,0002,00,0002,00,0002,00,0002,00,0002,00,0002,00,0002,00,0002,00,0002,00,0002,00,0002,00,0002,00,0002,00,0002,00,0002,00,0002,00,0002,00,0002,00,0002,00,0002,00,0002,00,0002,00,0002,00,0002,00,0002,00,0002,00,0002,00,0002,00,0002,00,0002,00,0002,00,0002,00,0002,00,0002,00,0002,00,0002,00,0002,00,0002,00,0002,00,0002,00,0002,00,0002,00,0002,00,0002,00,0002,00,0002,00,0002,00,0002,00,0002,00,0002,00,0002,00,0002,00,0002,00,0002,00,0002,00,0002,00,0002,00,0002,00,0002,00,0002,00,0002,00,0002,00,0002,00,0002,00,0002,00,0002,00,0002,00,0002,00,0002,00,0002,00,0002,00,0002,00,0002,00,0002,00,0002,00,0002,00,0002,00,0002,00,0002,00,0002,00,0002,00,0002,00,0002,00,0002,00,0002,00,0002,00,0002,00,0002,00,0002,00,0002,00,0002,00,0002,00,0002,00,0002,00,0002,00,0002,00,0002,00,0002,00,0002,00,0002,00,0002,00,0002,00,0002,00,0002,00,0002,00,0002,00,0002,00,0002,00,0002,00,0002,00,0002,00,0002,00,0002,00,0002,00,0002,00,0002,00,0002,00,0002,00,0002,00,0002,00,0002,00,0002,00,0002,00,0002,00,0002,00,0002,00,0002,00,0002,00,0002,00,0002,00,0002,00,0002,00,0002,00,0002,00,0002,00,0002,00,0002,00,0002,00,0002,00,0002,00,0002,00,0002,00,0002,00,0002,00,0002,00,0002,00,0002,00,0002,00,0002,00,0002,00,0002,00,0002,00,0002,00,0002,00,0002,00,0002,00,0002,00,0002,00,0002,00,0002,00,0002,00,0002,00,0002,00,0002,00,0002,00,0002,00,0002,00,0002,00,0002,00,0002,00,0002,00,0002,00,0002,00,0002,00,0002,00,0002,00,0002,00,0002,00,0002,00,0002,00,0002,00,0002,00,0002,00,0002,00,0002,00,0002,00,0002,00,0002,00,0002,00,0002,00,0002,00,0002,00,0002,00,0002,00,0002,00,0002,00,0002,00,0002,00,0002,00,0002,00,0002,00,0002,00,0002,00,0002,00,0002,00,0002,00,0002,00,0002,00,0002,00,0002,00,0002,00,0002,00,0002,00,0002,00,0002,00,0002,00,0002,00,0002,00,0002,00,0002,00,0002,00,0002,00,0002,00,0002,00,0002,00,0002,00,0002,00,0002,00,0002,00,0002,00,0002,00,0002,00,0002,00,0002,00,0002,00,0002,00,0002,00,0002,00,0002,00,0002,00,0002,00,0002,00,0002,00,0002,00,0002,00,0002,00,0002,00,0002,00,0002,00,0002,00,0002,00,0002,00,0002,00,0002,00,0002,00,0002,00,0002,00,0002,00,0002,00,0002,00,0002,00,0002,00,0002,00,0002,00,0002,00,0002,00,0002,00,0002,00,0002,00,0002,00,0002,00,0002,00,0002,00,0002,00,0002,00,0002,00,0002,00,0002,00,0002,00,0002,00,0002,00,0002,00,0002,00,0002,00,0002,00,0002,00,0002,00,0002,00,0002,00,0002,00,0002,00,0002,00,0002,00,0002,00,0002,00,0002,00,0002,00,0002,00,0002,00,0002,00,0002,00,0002,00,0002,00,0002,00,0002,00,0002,00,0002,00,0002,00,0002,00,0002,00,0002,00,0002,00,0002,00,0002,00,0002,00,0002,00,0002,00,0002,00,0002,00,0002,00,0002,00,0002,00,0002,00,0002,00,0002,00,0002,00,0002,00,0002,00,0002,00,0002,00,0002,00,0002,00,0002,00,0002,00,0002,00,0001,00,0001,00,0001,00,0001,00,0001,00,0001,00,0001,00,0001,00,0001,00,0001,00,0001,00,0001,00,0001,00,0001,00,0001,00,0001,00,0001,00,0001,00,0001,00,0001,00,0001,00,0001,00,0001,00,0001,00,0001,00,0001,00,0001,00,0001,00,0001,00,0001,00,0001,00,0001,00,0001,00,0001,00,0001,00,0001,00,0001,00,0001,00,0001,00,0001,00,0001,00,0001,00,0001,00,0001,00,0001,00,0001,00,0001,00,0001,00,0001,00,0001,00,0001,00,0001,00,0001,00,0001,00,0001,00,0001,00,0001,00,0001,00,0001,00,0001,00,0001,00,0001,00,0001,00,0001,00,0001,00,0001,00,0001,00,0001,00,0001,00,0001,00,0001,00,0001,00,0001,00,0001,00,0001,00,0001,00,0001,00,0001,00,0001,00,0001,00,0001,00,0001,00,0001,00,0001,00,0001,00,0001,00,0001,00,0001,00,0001,00,0001,00,0001,00,0001,00,0001,00,0001,00,0001,00,0001,00,0001,00,0001,00,0001,00,0001,00,0001,00,0001,00,0001,00,0001,00,0001,00,0001,00,0001,00,0001,00,0001,00,0001,00,0001,00,0001,00,0001,00,0001,00,0001,00,0001,00,0001,00,0001,00,0001,00,0001,00,0001,00,0001,00,0001,00,0001,00,0001,00,0001,00,0001,00,0001,00,0001,00,0001,00,0001,00,0001,00,0001,00,0001,00,0001,00,0001,00,0001,00,0001,00,0001,00,0001,00,0001,00,0001,00,0001,00,0001,00,0001,00,0001,00,0001,00,0001,00,0001,00,0001,00,0001,00,0001,00,0001,00,0001,00,0001,00,0001,00,0001,00,0001,00,0001,00,0001,00,0001,00,0001,00,0001,00,0001,00,0001,00,0001,00,0001,00,0001,00,0001,00,0001,00,0001,00,0001,00,0001,00,0001,00,0001,00,0001,00,0001,00,0001,00,0001,00,0001,00,0001,00,0001,00,0001,00,0001,00,0001,00,0001,00,0001,00,0001,00,0001,00,0001,00,0001,00,0001,00,0001,00,0001,00,0001,00,0001,00,0001,00,0001,00,0001,00,0001,00,0001,00,0001,00,0001,00,0001,00,0001,00,0001,00,0001,00,0001,00,0001,00,0001,00,0001,00,0001,00,0001,00,0001,00,0001,00,0001,00,0001,00,0001,00,0001,00,0001,00,0001,00,0001,00,0001,00,0001,00,0001,00,0001,00,0001,00,0001,00,0001,00,0001,00,0001,00,0001,00,0001,00,0001,00,0001,00,0001,00,0001,00,0001,00,0001,00,0001,00,0001,00,0001,00,0001,00,0001,00,0001,00,0001,00,0001,00,0001,00,0001,00,0001,00,0001,00,0001,00,0001,00,0001,00,0001,00,0001,00,0001,00,0001,00,0001,00,0001,00,0001,00,0001,00,0001,00,0001,00,0001,00,0001,00,0001,00,0001,00,0001,00,0001,00,0001,00,0001,00,0001,00,0001,00,0001,00,0001,00,0001,00,0001,00,0001,00,0001,00,0001,00,0001,00,0001,00,0001,00,0001,00,0001,00,0001,00,0001,00,0001,00,0001,00,0001,00,0001,00,0001,00,0001,00,0001,00,0001,00,0001,00,0001,00,0001,00,0001,00,0001,00,0001,00,0001,00,0001,00,0001,00,0001,00,0001,00,0001,00,0001,00,0001,00,0001,00,0001,00,0001,00,0001,00,0001,00,0001,00,0001,00,0001,00,0001,00,0001,00,0001,00,0001,00,0001,00,0001,00,0001,00,0001,00,0001,00,0001,00,0001,00,0001,00,0001,00,0001,00,0001,00,0001,00,0001,00,0001,00,0001,00,0001,00,0001,00,0001,00,0001,00,0001,00,0001,00,0001,00,0001,00,0001,00,0001,00,0001,00,0001,00,0001,00,0001,00,0001,00,0001,00,0001,00,0001,00,0001,00,0001,00,0001,00,0001,00,0001,00,0001,00,0001,00,0001,00,0001,00,0001,00,0001,00,0001,00,0001,00,0001,00,0001,00,0001,00,0001,00,0001,00,0001,00,0001,00,0001,00,0001,00,0001,00,0001,00,0001,00,0001,00,0001,00,0001,00,0001,00,0001,00,0001,00,0001,00,0001,00,0001,00,0001,00,0001,00,0001,00,0001,00,0001,00,0001,00,0001,00,0001,00,0001,00,0001,00,0001,00,0001,00,0001,00,0001,00,0001,00,0001,00,0001,00,0001,00,0001,00,0001,00,0001,00,0001,00,0001,00,0001,00,0001,00,0001,00,0001,00,0001,00,0001,00,0001,00,0001,00,0001,00,0001,00,0001,00,0001,00,0001,00,0001,00,0001,00,0001,00,0001,00,0001,00,0001,00,0001,00,0001,00,0001,00,0001,00,0001,00,0001,00,0001,00,0001,00,0001,00,0001,00,0001,00,0001,00,0001,00,0001,00,0001,00,0001,00,0001,00,0001,00,0001,00,0001,00,0001,00,0001,00,0001,00,0001,00,0001,00,0001,00,0001,00,0001,00,0001,00,0001,00,0001,00,0001,00,0001,00,0001,00,0001,00,0001,00,0001,00,0001,00,0001,00,0001,00,0001,00,0001,00,0001,00,0001,00,0001,00,0001,00,0001,00,0001,00,0001,00,0001,00,0001,00,0001,00,0001,00,0001,00,0001,00,0001,00,0001,00,0001,00,0001,00,0001,00,0001,00,0001,00,0001,00,0001,00,0001,00,0001,00,0001,00,0001,00,0001,00,0001,00,0001,00,0001,00,0001,00,0001,00,0001,00,0001,00,0001,00,0001,00,0001,00,0001,00,0001,00,0001,00,0001,00,0001,00,0001,00,0001,00,0001,00,0001,00,0001,00,0001,00,0001,00,0001,00,0001,00,0001,00,0001,00,0001,00,0001,00,0001,00,0001,00,0001,00,0001,00,0001,00,0001,00,0001,00,0001,00,0001,00,0001,00,0001,00,0001,00,0001,00,0001,00,0001,00,0001,00,0001,00,0001,00,0001,00,0001,00,0001,00,0001,00,0001,00,0001,00,0001,00,0001,00,0001,00,0001,00,0001,00,0001,00,0001,00,0001,00,0001,00,0001,00,0001,00,0001,00,0001,00,0001,00,0001,00,0001,00,0001,00,0001,00,0001,00,0001,00,0001,00,0001,00,0001,00,0001,00,0001,00,0001,00,0001,00,0001,00,0001,00,0001,00,0001,00,0001,00,0001,00,0001,00,0001,00,0001,00,0001,00,0001,00,0001,00,0001,00,0001,00,0001,00,0001,00,0001,00,0001,00,0001,00,0001,00,0001,00,0001,00,0001,00,0001,00,0001,00,0001,00,0001,00,0001,00,0001,00,0001,00,0001,00,0001,00,0001,00,0001,00,0001,00,0001,00,0001,00,0001,00,0001,00,0001,00,0001,00,0001,00,0001,00,0001,00,0001,00,0001,00,0001,00,0001,00,0001,00,0001,00,0001,00,0001,00,0001,00,0001,00,0001,00,0001,00,0001,00,0001,00,0001,00,0001,00,0001,00,0001,00,0001,00,0001,00,0001,00,0001,00,0001,00,0001,00,0001,00,0001,00,0001,00,0001,00,0001,00,0001,00,0001,00,0001,00,0001,00,0001,00,0001,00,0001,00,0001,00,0001,00,0001,00,0001,00,0001,00,0001,00,0001,00,0001,00,0001,00,0001,00,0001,00,0001,00,0001,00,0001,00,0001,00,0001,00,0001,00,0001,00,0001,00,0001,00,0001,00,0001,00,0001,00,0001,00,0001,00,0001,00,0001,00,0001,00,0001,00,0001,00,0001,00,0001,00,0001,00,0001,00,0001,00,0001,00,0001,00,0001,00,0001,00,0001,00,0001,00,0001,00,0001,00,0001,00,0001,00,0001,00,0001,00,0001,00,0001,00,0001,00,0001,00,0001,00,0001,00,0001,00,0001,00,0001,00,0001,00,0001,00,0001,00,0001,00,0001,00,0001,00,0001,00,0001,00,0001,00,0001,00,0001,00,0001,00,0001,00,0001,00,0001,00,0001,00,0001,00,0001,00,0001,00,0001,00,0001,00,0001,00,0001,00,0001,00,0001,00,0001,00,0001,00,0001,00,0001,00,0001,00,0001,00,0001,00,0001,00,0001,00,0001,00,0001,00,0001,00,0001,00,0001,00,0001,00,0001,00,0001,00,0001,00,0001,00,0001,00,0001,00,0001,00,0001,00,0001,00,0001,00,0001,00,0001,00,0001,00,0001,00,0001,00,0001,00,0001,00,0001,00,0001,00,0001,00,0001,00,0001,00,0001,00,0001,00,0001,00,0001,00,0001,00,0001,00,0001,00,0001,00,0001,00,0001,00,0001,00,0001,00,0001,00,0001,00,0001,00,0001,00,0001,00,0001,00,0001,00,0001,00,0001,00,0001,00,0001,00,0001,00,0001,00,0001,00,0001,00,0001,00,0001,00,0001,00,0001,00,0001,00,0001,00,0001,00,0001,00,0001,00,0001,00,0001,00,0001,00,0001,00,0001,00,0001,00,0001,00,0001,00,0001,00,0001,00,0001,00,0001,00,0001,00,0001,00,0001,00,0001,00,0001,00,0001,00,0001,00,0001,00,0001,00,0001,00,0001,00,0001,00,0001,00,0001,00,0001,00,0001,00,0001,00,0001,00,0001,00,0001,00,0001,00,0001,00,0001,00,0001,00,0001,00,0001,00,0001,00,0001,00,0001,00,0001,00,0001,00,0001,00,0001,00,0001,00,0001,00,0001,00,0001,00,0001,00,0001,00,0001,00,0001,00,0001,00,0001,00,0001,00,0001,00,0001,00,0001,00,0001,00,0001,00,0001,00,0001,00,0001,00,0001,00,0001,00,0001,00,0001,00,0001,00,0001,00,0001,00,0001,00,0001,00,0001,00,0001,00,0001,00,0001,00,0001,00,0001,00,0001,00,0001,00,0001,00,0001,00,0001,00,0001,00,0001,00,0001,00,0001,00,0001,00,0001,00,0001,00,0001,00,0001,00,0001,00,0001,00,0001,00,0001,00,0001,00,0001,00,0001,00,0001,00,0001,00,0001,00,0001,00,0001,00,0001,00,0001,00,0001,00,0001,00,0001,00,0001,00,0001,00,0001,00,0001,00,0001,00,0001,00,0001,00,0001,00,0001,00,0001,00,0001,00,0001,00,0001,00,0001,00,0001,00,0001,00,0001,00,0001,00,0001,00,0001,00,0001,00,0001,00,0001,00,0001,00,0001,00,0001,00,0001,00,0001,00,0001,00,0001,00,0001,00,0001,00,0001,00,0001,00,0001,00,0001,00,0001,00,0001,00,0001,00,0001,00,0001,00,0001,00,0001,00,0001,00,0001,00,0001,00,0001,00,0001,00,0001,00,0001,00,0001,00,0001,00,0001,00,0001,00,0001,00,0001,00,0001,00,0001,00,0001,00,0001,00,0001,00,0001,00,0001,00,0001,00,0001,00,0001,00,0001,00,0001,00,0001,00,0001,00,0001,00,0001,00,0001,00,0001,00,0001,00,0001,00,0001,00,0001,00,0001,00,0001,00,0001,00,0001,00,0001,00,0001,00,0001,00,0001,00,0001,00,0001,00,0001,00,0001,00,0001,00,0001,00,0001,00,0001,00,0001,00,0001,00,0001,00,0001,00,0001,00,0001,00,0001,00,0001,00,0001,00,0001,00,0001,00,0001,00,0001,00,0001,00,0001,00,0001,00,0001,00,0001,00,0001,00,0001,00,0001,00,0001,00,0001,00,0001,00,0001,00,0001,00,0001,00,0001,00,0001,00,0001,00,0001,00,0001,00,0001,00,0001,00,0001,00,0001,00,0001,00,0001,00,0001,00,0001,00,0001,00,0001,00,0001,00,0001,00,0001,00,0001,00,0001,00,0001,00,0001,00,0001,00,0001,00,0001,00,0001,00,0001,00,0001,00,0001,00,0001,00,0001,00,0001,00,0001,00,0001,00,0001,00,0001,00,0001,00,0001,00,0001,00,0001,00,0001,00,0001,00,0001,00,0001,00,0001,00,0001,00,0001,00,0001,00,0001,00,0001,00,0001,00,0001,00,0001,00,0001,00,0001,00,0001,00,0001,00,0001,00,0001,00,0001,00,0001,00,0001,00,0001,00,0001,00,0001,00,0001,00,0001,00,0001,00,0001,00,0001,00,0001,00,0001,00,0001,00,0001,00,0001,00,0001,00,0001,00,0001,00,0001,00,0001,00,0001,00,0001,00,0001,00,0001,00,0001,00,0001,00,0001,00,0001,00,0001,00,0001,00,0001,00,0001,00,0001,00,0001,00,0001,00,0001,00,0001,00,0001,00,0001,00,0001,00,0001,00,0001,00,0001,00,0001,00,0001,00,0001,00,0001,00,0001,00,0001,00,0001,00,0001,00,0001,00,0001,00,0001,00,0001,00,0001,00,0001,00,0001,00,0001,00,0001,00,0001,00,0001,00,0001,00,0001,00,0001,00,0001,00,0001,00,0001,00,0001,00,0001,00,0001,00,0001,00,0001,00,0001,00,0001,00,0001,00,0001,00,0001,00,0001,00,0001,00,0001,00,0001,00,0001,00,0001,00,0001,00,0001,00,0001,00,0001,00,0001,00,0001,00,0001,00,0001,00,0001,00,0001,00,0001,00,0001,00,0001,00,0001,00,0001,00,0001,00,0001,00,0001,00,0001,00,0001,00,0001,00,0001,00,0001,00,0001,00,0001,00,0001,00,0001,00,0001,00,0001,00,0001,00,0001,00,0001,00,0001,00,0001,00,0001,00,0001,00,0001,00,0001,00,0001,00,0001,00,0001,00,0001,00,0001,00,0001,00,0001,00,0001,00,0001,00,0001,00,0001,00,0001,00,0001,00,0001,00,0001,00,0001,00,0001,00,0001,00,0001,00,0001,00,0001,00,0001,00,0001,00,0001,00,0001,00,0001,00,0001,00,0001,00,0001,00,0001,00,0001,00,0001,00,0001,00,0001,00,0001,00,0001,00,0001,00,0001,00,0001,00,0001,00,0001,00,0001,00,0001,00,0001,00,0001,00,0001,00,0001,00,0001,00,0001,00,0001,00,0001,00,0001,00,0001,00,0001,00,0001,00,0001,00,0001,00,0001,00,0001,00,0001,00,0001,00,0001,00,0001,00,0001,00,0001,00,0001,00,0001,00,0001,00,0001,00,0001,00,0001,00,0001,00,0001,00,0001,00,0001,00,0001,00,0001,00,0001,00,0001,00,0001,00,0001,00,0001,00,0001,00,0001,00,0001,00,0001,00,0001,00,0001,00,0001,00,0001,00,0001,00,0001,00,0001,00,0001,00,0001,00,0001,00,0001,00,0001,00,0001,00,0001,00,0001,00,0001,00,0001,00,0001,00,0001,00,0001,00,0001,00,0001,00,0001,00,0001,00,0001,00,0001,00,0001,00,0001,00,0001,00,0001,00,0001,00,0001,00,0001,00,0001,00,0001,00,0001,00,0001,00,0001,00,0001,00,0001,00,0001,00,0001,00,0001,00,0001,00,0001,00,0001,00,0001,00,0001,00,0001,00,0001,00,0001,00,0001,00,0001,00,0001,00,0001,00,0001,00,0001,00,0001,00,0001,00,0001,00,0001,00,0001,00,0001,00,0001,00,0001,00,0001,00,0001,00,0001,00,0001,00,0001,00,0001,00,0001,00,0001,00,0001,00,0001,00,0001,00,0001,00,0001,00,0001,00,0001,00,0001,00,0001,00,0001,00,0001,00,0001,00,0001,00,0001,00,0001,00,0001,00,0001,00,0001,00,0001,00,0001,00,0001,00,0001,00,0001,00,0001,00,0001,00,0001,00,0001,00,0001,00,0001,00,0001,00,0001,00,0001,00,0001,00,0001,00,0001,00,0001,00,0001,00,0001,00,0001,00,0001,00,0001,00,0001,00,0001,00,0001,00,0001,00,0001,00,0001,00,0001,00,0001,00,0001,00,0001,00,0001,00,0001,00,0001,00,0001,00,0001,00,0001,00,0001,00,0001,00,0001,00,0001,00,0001,00,0001,00,0001,00,0001,00,0001,00,0001,00,0001,00,0001,00,0001,00,0001,00,0001,00,0001,00,0001,00,0001,00,0001,00,0001,00,0001,00,0001,00,0001,00,0001,00,0001,00,0001,00,0001,00,0001,00,0001,00,0001,00,0001,00,0001,00,0001,00,0001,00,0001,00,0001,00,0001,00,0001,00,0001,00,0001,00,0001,00,0001,00,0001,00,0001,00,0001,00,0001,00,0001,00,0001,00,0001,00,0001,00,0001,00,0001,00,0001,00,0001,00,0001,00,0001,00,0001,00,0001,00,0001,00,0001,00,0001,00,0001,00,0001,00,0001,00,0001,00,0001,00,0001,00,0001,00,0001,00,0001,00,0001,00,0001,00,0001,00,0001,00,0001,00,0001,00,0001,00,0001,00,0001,00,0001,00,0001,00,0001,00,0001,00,0001,00,0001,00,0001,00,0001,00,0001,00,0001,00,0001,00,0001,00,0001,00,0001,00,0001,00,0001,00,0001,00,0001,00,0001,00,0001,00,0001,00,0001,00,0001,00,0001,00,0001,00,0001,00,0001,00,0001,00,0001,00,0001,00,0001,00,0001,00,0001,00,0001,00,0001,00,0001,00,0001,00,0001,00,0001,00,0001,00,0001,00,0001,00,0001,00,0001,00,0001,00,0001,00,0001,00,0001,00,0001,00,0001,00,0001,00,0001,00,0001,00,0001,00,0001,00,0001,00,0001,00,0001,00,0001,00,0001,00,0001,00,0001,00,0001,00,0001,00,0001,00,0001,00,0001,00,0001,00,0001,00,0001,00,0001,00,0001,00,0001,00,0001,00,0001,00,0001,00,0001,00,0001,00,0001,00,0001,00,0001,00,0001,00,0001,00,0001,00,0001,00,0001,00,0001,00,0001,00,0001,00,0001,00,0001,00,0001,00,0001,00,0001,00,0001,00,0001,00,0001,00,0001,00,0001,00,0001,00,0001,00,0001,00,0001,00,0001,00,0001,00,0001,00,0001,00,0001,00,0001,00,0001,00,0001,00,0001,00,0001,00,0001,00,0001,00,0001,00,0001,00,0001,00,0001,00,0001,00,0001,00,0001,00,0001,00,0001,00,0001,00,0001,00,0001,00,0001,00,0001,00,0001,00,0001,00,0001,00,0001,00,0001,00,0001,00,0001,00,0001,00,0001,00,0001,00,0001,00,0001,00,0001,00,0001,00,0001,00,0001,00,0001,00,0001,00,0001,00,0001,00,0001,00,0001,00,0001,00,0001,00,0001,00,0001,00,0001,00,0001,00,0001,00,0001,00,0001,00,0001,00,0001,00,0001,00,0001,00,0001,00,0001,00,0001,00,0001,00,0001,00,0001,00,0001,00,0001,00,0001,00,0001,00,0001,00,0001,00,0001,00,0001,00,0001,00,0001,00,0001,00,0001,00,0001,00,0001,00,0001,00,0001,00,0001,00,0001,00,0001,00,0001,00,0001,00,0001,00,0001,00,0001,00,0001,00,0001,00,0001,00,0001,00,0001,00,0001,00,0001,00,0001,00,0001,00,0001,00,0001,00,0001,00,0001,00,0001,00,0001,00,0001,00,0001,00,0001,00,0001,00,0001,00,0001,00,0001,00,0001,00,0001,00,0001,00,0001,00,0001,00,0001,00,0001,00,0001,00,0001,00,0001,00,0001,00,0001,00,0001,00,0001,00,0001,00,0001,00,0001,00,0001,00,0001,00,0001,00,0001,00,0001,00,0001,00,0001,00,0001,00,0001,00,0001,00,0001,00,0001,00,0001,00,0001,00,0001,00,0001,00,0001,00,0001,00,0001,00,0001,00,0001,00,0001,00,0001,00,0001,00,0001,00,0001,00,0001,00,0001,00,0001,00,0001,00,0001,00,0001,00,0001,00,0001,00,0001,00,0001,00,0001,00,0001,00,0001,00,0001,00,0001,00,0001,00,0001,00,0001,00,0001,00,0001,00,0001,00,0001,00,0001,00,0001,00,0001,00,0001,00,0001,00,0001,00,0001,00,0001,00,0001,00,0001,00,0001,00,0001,00,0001,00,0001,00,0001,00,0001,00,0001,00,0001,00,0001,00,0001,00,0001,00,0001,00,0001,00,0001,00,0001,00,0001,00,0001,00,0001,00,0001,00,0001,00,0001,00,0001,00,0001,00,0001,00,0001,00,0001,00,0001,00,0001,00,0001,00,0001,00,0001,00,0001,00,0001,00,0001,00,0001,00,0001,00,0001,00,0001,00,0001,00,0001,00,0001,00,0001,00,0001,00,0001,00,0001,00,0001,00,0001,00,0001,00,0001,00,0001,00,0001,00,0001,00,0001,00,0001,00,0001,00,0001,00,0001,00,0001,00,0001,00,0001,00,0001,00,0001,00,0001,00,0001,00,0001,00,0001,00,0001,00,0001,00,0001,00,0001,00,0001,00,0001,00,0001,00,0001,00,0001,00,0001,00,0001,00,0001,00,0001,00,0001,00,0001,00,0001,00,0001,00,0001,00,0001,00,0001,00,0001,00,0001,00,0001,00,0001,00,0001,00,0001,00,0001,00,0001,00,0001,00,0001,00,0001,00,0001,00,0001,00,0001,00,0001,00,0001,00,0001,00,0001,00,0001,00,0001,00,0001,00,0001,00,0001,00,0001,00,0001,00,0001,00,0001,00,0001,00,0001,00,0001,00,0001,00,0001,00,0001,00,0001,00,0001,00,0001,00,0001,00,0001,00,0001,00,0001,00,0001,00,0001,00,0001,00,0001,00,0001,00,0001,00,0001,00,0001,00,0001,00,0001,00,0001,00,0001,00,0001,00,0001,00,0001,00,0001,00,0001,00,0001,00,0001,00,0001,00,0001,00,0001,00,0001,00,0001,00,0001,00,0001,00,0001,00,0001,00,0001,00,0001,00,0001,00,0001,00,0001,00,0001,00,0001,00,0001,00,0001,00,0001,00,0001,00,0001,00,0001,00,0001,00,0001,00,0001,00,0001,00,0001,00,0001,00,0001,00,0001,00,0001,00,0001,00,0001,00,0001,00,0001,00,0001,00,0001,00,0001,00,0001,00,0001,00,0001,00,0001,00,0001,00,0001,00,0001,00,0001,00,0001,00,0001,00,0001,00,0001,00,0001,00,0001,00,0001,00,0001,00,0001,00,0001,00,0001,00,0001,00,0001,00,0001,00,0001,00,0001,00,0001,00,0001,00,0001,00,0001,00,0001,00,0001,00,0001,00,0001,00,0001,00,0001,00,0001,00,0001,00,0001,00,0001,00,0001,00,0001,00,0001,00,0001,00,0001,00,0001,00,0001,00,0001,00,0001,00,0001,00,0001,00,0001,00,0001,00,0001,00,0001,00,0001,00,0001,00,0001,00,0001,00,0001,00,0001,00,0001,00,0001,00,0001,00,0001,00,0001,00,0001,00,0001,00,0001,00,0001,00,0001,00,0001,00,0001,00,0001,00,0001,00,0001,00,0001,00,0001,00,0001,00,0001,00,0001,00,0001,00,0001,00,0001,00,0001,00,0001,00,0001,00,0001,00,0001,00,0001,00,0001,00,0001,00,0001,00,0001,00,0001,00,0001,00,0001,00,0001,00,0001,00,0001,00,0001,00,0001,00,0001,00,0001,00,0001,00,0001,00,0001,00,0001,00,0001,00,0001,00,0001,00,0001,00,0001,00,0001,00,0001,00,0001,00,0001,00,0001,00,0001,00,0001,00,0001,00,0001,00,0001,00,0001,00,0001,00,0001,00,0001,00,0001,00,0001,00,0001,00,0001,00,0001,00,0001,00,0001,00,0001,00,0001,00,0001,00,0001,00,0001,00,0001,00,0001,00,0001,00,0001,00,0001,00,0001,00,0001,00,0001,00,0001,00,0001,00,0001,00,0001,00,0001,00,0001,00,0001,00,0001,00,0001,00,0001,00,0001,00,0001,00,0001,00,0001,00,0001,00,0001,00,0001,00,0001,00,0001,00,0001,00,0001,00,0001,00,0001,00,0001,00,0001,00,0001,00,0001,00,0001,00,0001,00,0001,00,0001,00,0001,00,0001,00,0001,00,0001,00,0001,00,0001,00,0001,00,0001,00,0001,00,0001,00,0001,00,0001,00,0001,00,0001,00,0001,00,0001,00,0001,00,0001,00,0001,00,0001,00,0001,00,0001,00,0001,00,0001,00,0001,00,0001,00,0001,00,0001,00,0001,00,0001,00,0001,00,0001,00,0001,00,0001,00,0001,00,0001,00,0001,00,0001,00,0001,00,0001,00,0001,00,0001,00,0001,00,0001,00,0001,00,0001,00,0001,00,0001,00,0001,00,0001,00,0001,00,0001,00,0001,00,0001,00,0001,00,0001,00,0001,00,0001,00,0001,00,0001,00,0001,00,0001,00,0001,00,0001,00,0001,00,0001,00,0001,00,0001,00,0001,00,0001,00,0001,00,0001,00,0001,00,0001,00,0001,00,0001,00,0001,00,0001,00,0001,00,0001,00,0001,00,0001,00,0001,00,0001,00,0001,00,0001,00,0001,00,0001,00,0001,00,0001,00,0001,00,0001,00,0001,00,0001,00,0001,00,0001,00,0001,00,0001,00,0001,00,0001,00,0001,00,0001,00,0001,00,0001,00,0001,00,0001,00,0001,00,0001,00,0001,00,0001,00,0001,00,0001,00,0001,00,0001,00,0001,00,0001,00,0001,00,0001,00,0001,00,0001,00,0001,00,0001,00,0001,00,0001,00,0001,00,0001,00,0001,00,0001,00,0001,00,0001,00,0001,00,0001,00,0001,00,0001,00,0001,00,0001,00,0001,00,0001,00,0001,00,0001,00,0001,00,0001,00,0001,00,0001,00,0001,00,0001,00,0001,00,0001,00,0001,00,0001,00,0001,00,0001,00,0001,00,0001,00,0001,00,0001,00,0001,00,0001,00,0001,00,0001,00,0001,00,0001,00,0001,00,0001,00,0001,00,0001,00,0001,00,0001,00,0001,00,0001,00,0001,00,0001,00,0001,00,0001,00,0001,00,0001,00,0001,00,0001,00,0001,00,0001,00,0001,00,0001,00,0001,00,0001,00,0001,00,0001,00,0001,00,0001,00,0001,00,0001,00,0001,00,0001,00,0001,00,0001,00,0001,00,0001,00,0001,00,0001,00,0001,00,0001,00,0001,00,0001,00,0001,00,0001,00,0001,00,0001,00,0001,00,0001,00,0001,00,0001,00,0001,00,0001,00,0001,00,0001,00,0001,00,0001,00,0001,00,0001,00,0001,00,0001,00,0001,00,0001,00,0001,00,0001,00,0001,00,0001,00,0001,00,0001,00,0001,00,0001,00,0001,00,0001,00,0001,00,0001,00,0001,00,0001,00,0001,00,0001,00,0001,00,0001,00,0001,00,0001,00,0001,00,0001,00,0001,00,0001,00,0001,00,0001,00,0001,00,0001,00,0001,00,0001,00,0001,00,0001,00,0001,00,0001,00,0001,00,0001,00,0001,00,0001,00,0001,00,0001,00,0001,00,0001,00,0001,00,0001,00,0001,00,0001,00,0001,00,0001,00,0001,00,0001,00,0001,00,0001,00,0001,00,0001,00,0001,00,0001,00,0001,00,0001,00,0001,00,0001,00,0001,00,0001,00,0001,00,0001,00,0001,00,0001,00,0001,00,0001,00,0001,00,0001,00,0001,00,0001,00,0001,00,0001,00,0001,00,0001,00,0001,00,0001,00,0001,00,0001,00,0001,00,0001,00,0001,00,0001,00,0001,00,0001,00,0001,00,0001,00,0001,00,0001,00,0001,00,0001,00,0001,00,0001,00,0001,00,0001,00,0001,00,0001,00,0001,00,0001,00,0001,00,0001,00,0001,00,0001,00,0001,00,0001,00,0001,00,0001,00,0001,00,0001,00,0001,00,0001,00,0001,00,0001,00,0001,00,0001,00,0001,00,0001,00,0001,00,0001,00,0001,00,0001,00,0001,00,0001,00,0001,00,0001,00,0001,00,0001,00,0001,00,0001,00,0001,00,0001,00,0001,00,0001,00,0001,00,0001,00,0001,00,0001,00,0001,00,0001,00,0001,00,0001,00,0001,00,0001,00,0001,00,0001,00,0001,00,0001,00,0001,00,0001,00,0001,00,0001,00,0001,00,0001,00,0001,00,0001,00,0001,00,0001,00,0001,00,0001,00,0001,00,0001,00,0001,00,0001,00,0001,00,0001,00,0001,00,0001,00,0001,00,0001,00,0001,00,0001,00,0001,00,0001,00,0001,00,0001,00,0001,00,0001,00,0001,00,0001,00,0001,00,0001,00,0001,00,0001,00,0001,00,0001,00,0001,00,0001,00,0001,00,0001,00,0001,00,0001,00,0001,00,0001,00,0001,00,0001,00,0001,00,0001,00,0001,00,0001,00,0001,00,0001,00,0001,00,0001,00,0001,00,0001,00,0001,00,0001,00,0001,00,0001,00,0001,00,0001,00,0001,00,0001,00,0001,00,0001,00,0001,00,0001,00,0001,00,0001,00,0001,00,0001,00,0001,00,0001,00,0001,00,0001,00,0001,00,0001,00,0001,00,0001,00,0001,00,0001,00,0001,00,0001,00,0001,00,0001,00,0001,00,0001,00,0001,00,0001,00,0001,00,0001,00,0001,00,0001,00,0001,00,0001,00,0001,00,0001,00,0001,00,0001,00,0001,00,0001,00,0001,00,0001,00,0001,00,0001,00,0001,00,0001,00,0001,00,0001,00,0001,00,0001,00,0001,00,0001,00,0001,00,0001,00,0001,00,0001,00,0001,00,0001,00,0001,00,0001,00,0001,00,0001,00,0001,00,0001,00,0001,00,0001,00,0001,00,0001,00,0001,00,0001,00,0001,00,0001,00,0001,00,0001,00,0001,00,0001,00,0001,00,0001,00,0001,00,0001,00,0001,00,0001,00,0001,00,0001,00,0001,00,0001,00,0001,00,0001,00,0001,00,0001,00,0001,00,0001,00,0001,00,0001,00,0001,00,0001,00,0001,00,0001,00,0001,00,0001,00,0001,00,0001,00,0001,00,0001,00,0001,00,0001,00,0001,00,0001,00,0001,00,0001,00,0001,00,0001,00,0001,00,0001,00,0001,00,0001,00,0001,00,0001,00,0001,00,0001,00,0001,00,0001,00,0001,00,0001,00,0001,00,0001,00,0001,00,0001,00,0001,00,0001,00,0001,00,0001,00,0001,00,0001,00,0001,00,0001,00,0001,00,0001,00,0001,00,0001,00,0001,00,0001,00,0001,00,0001,00,0001,00,0001,00,0001,00,0001,00,0001,00,0001,00,0001,00,0001,00,0001,00,0001,00,0001,00,0001,00,0001,00,0001,00,0001,00,0001,00,0001,00,0001,00,0001,00,0001,00,0001,00,0001,00,0001,00,0001,00,0001,00,0001,00,0001,00,0001,00,0001,00,0001,00,0001,00,0001,00,0001,00,0001,00,0001,00,0001,00,0001,00,0001,00,0001,00,0001,00,0001,00,0001,00,0001,00,0001,00,0001,00,0001,00,0001,00,0001,00,0001,00,0001,00,0001,00,0001,00,0001,00,0001,00,0001,00,0001,00,0001,00,0001,00,0001,00,0001,00,0001,00,0001,00,0001,00,0001,00,0001,00,0001,00,0001,00,0001,00,0001,00,0001,00,0001,00,0001,00,0001,00,0001,00,0001,00,0001,00,0001,00,0001,00,0001,00,0001,00,0001,00,0001,00,0001,00,0001,00,0001,00,0001,00,0001,00,0001,00,0001,00,0001,00,0001,00,0001,00,0001,00,0001,00,0001,00,0001,00,0001,00,0001,00,0001,00,0001,00,0001,00,0001,00,0001,00,0001,00,0001,00,0001,00,0001,00,0001,00,0001,00,0001,00,0001,00,0001,00,0001,00,0001,00,0001,00,0001,00,0001,00,0001,00,0001,00,0001,00,0001,00,0001,00,0001,00,0001,00,0001,00,0001,00,0001,00,0001,00,0001,00,0001,00,0001,00,0001,00,0001,00,0001,00,0001,00,0001,00,0001,00,0001,00,0001,00,0001,00,0001,00,0001,00,0001,00,0001,00,0001,00,0001,00,0001,00,0001,00,0001,00,0001,00,0001,00,0001,00,0001,00,0001,00,0001,00,0001,00,0001,00,0001,00,0001,00,0001,00,0001,00,0001,00,0001,00,0001,00,0001,00,0001,00,0001,00,0001,00,0001,00,0001,00,0001,00,0001,00,0001,00,0001,00,0001,00,0001,00,0001,00,0001,00,0001,00,0001,00,0001,00,0001,00,0001,00,0001,00,0001,00,0001,00,0001,00,0001,00,0001,00,0001,00,0001,00,0001,00,0001,00,0001,00,0001,00,0001,00,0001,00,0001,00,0001,00,0001,00,0001,00,0001,00,0001,00,0001,00,0001,00,0001,00,0001,00,0001,00,0001,00,0001,00,0001,00,0001,00,0001,00,0001,00,0001,00,0001,00,0001,00,0001,00,0001,00,0001,00,0001,00,0001,00,0001,00,0001,00,0001,00,0001,00,0001,00,0001,00,0001,00,0001,00,0001,00,0001,00,0001,00,0001,00,0001,00,0001,00,0001,00,0001,00,0001,00,0001,00,0001,00,0001,00,0001,00,0001,00,0001,00,0001,00,0001,00,0001,00,0001,00,0001,00,0001,00,0001,00,0001,00,0001,00,0001,00,0001,00,0001,00,0001,00,0001,00,0001,00,0001,00,0001,00,0001,00,0001,00,0001,00,0001,00,0001,00,0001,00,0001,00,0001,00,0001,00,0001,00,0001,00,0001,00,0001,00,0001,00,0001,00,0001,00,0001,00,0001,00,0001,00,0001,00,0001,00,0001,00,0001,00,0001,00,0001,00,0001,00,0001,00,0001,00,0001,00,0001,00,0001,00,0001,00,0001,00,0001,00,0001,00,0001,00,0001,00,0001,00,0001,00,0001,00,0001,00,0001,00,0001,00,0001,00,0001,00,0001,00,0001,00,0001,00,0001,00,0001,00,0001,00,0001,00,0001,00,0001,00,0001,00,0001,00,0001,00,0001,00,0001,00,0001,00,0001,00,0001,00,0001,00,0001,00,0001,00,0001,00,0001,00,0001,00,0001,00,0001,00,0001,00,0001,00,0001,00,0001,00,0001,00,0001,00,0001,00,0001,00,0001,00,0001,00,0001,00,0001,00,0001,00,0001,00,0001,00,0001,00,0001,00,0001,00,0001,00,0001,00,0001,00,0001,00,0001,00,0001,00,0001,00,0001,00,0001,00,0001,00,0001,00,0001,00,0001,00,0001,00,0001,00,0001,00,0001,00,0001,00,0001,00,0001,00,0001,00,0001,00,0001,00,0001,00,0001,00,0001,00,0001,00,0001,00,0001,00,0001,00,0001,00,0001,00,0001,00,0001,00,0001,00,0001,00,0001,00,0001,00,0001,00,0001,00,0001,00,0001,00,0001,00,0001,00,0001,00,0001,00,0001,00,0001,00,0001,00,0001,00,0001,00,0001,00,0001,00,0001,00,0001,00,0001,00,0001,00,0001,00,0001,00,0001,00,0001,00,0001,00,0001,00,0001,00,0001,00,0001,00,0001,00,0001,00,0001,00,0001,00,0001,00,0001,00,0001,00,0001,00,0001,00,0001,00,0001,00,0001,00,0001,00,0001,00,0001,00,0001,00,0001,00,0001,00,0001,00,0001,00,0001,00,0001,00,0001,00,0001,00,0001,00,0001,00,0001,00,0001,00,0001,00,0001,00,0001,00,0001,00,0001,00,0001,00,0001,00,0001,00,0001,00,0001,00,0001,00,0001,00,0001,00,0001,00,0001,00,0001,00,0001,00,0001,00,0001,00,0001,00,0001,00,0001,00,0001,00,0001,00,0001,00,0001,00,0001,00,0001,00,0001,00,0001,00,0001,00,0001,00,0001,00,0001,00,0001,00,0001,00,0001,00,0001,00,0001,00,0001,00,0001,00,0001,00,0001,00,0001,00,0001,00,0001,00,0001,00,0001,00,0001,00,0001,00,0001,00,0001,00,0001,00,0001,00,0001,00,0001,00,0001,00,0001,00,0001,00,0001,00,0001,00,0001,00,0001,00,0001,00,0001,00,0001,00,0001,00,0001,00,0001,00,0001,00,0001,00,0001,00,0001,00,0001,00,0001,00,0001,00,0001,00,0001,00,0001,00,0001,00,0001,00,0001,00,0001,00,0001,00,0001,00,0001,00,0001,00,0001,00,0001,00,0001,00,0001,00,0001,00,0001,00,0001,00,0001,00,0001,00,0001,00,0001,00,0001,00,0001,00,0001,00,0001,00,0001,00,0001,00,0001,00,0001,00,0001,00,0001,00,0001,00,0001,00,0001,00,0001,00,0001,00,0001,00,0001,00,0001,00,0001,00,0001,00,0001,00,0001,00,0001,00,0001,00,0001,00,0001,00,0001,00,0001,00,0001,00,0001,00,0001,00,0001,00,0001,00,0001,00,0001,00,0001,00,0001,00,0001,00,0001,00,0001,00,0001,00,0001,00,0001,00,0001,00,0001,00,0001,00,0001,00,0001,00,0001,00,0001,00,0001,00,0001,00,0001,00,0001,00,0001,00,0001,00,0001,00,0001,00,0001,00,0001,00,0001,00,0001,00,0001,00,0001,00,0001,00,0001,00,0001,00,0001,00,0001,00,0001,00,0001,00,0001,00,0001,00,0001,00,0001,00,0001,00,0001,00,0001,00,0001,00,0001,00,0001,00,0001,00,0001,00,0001,00,0001,00,0001,00,0001,00,0001,00,0001,00,0001,00,0001,00,0001,00,0001,00,0001,00,0001,00,0001,00,0001,00,0001,00,0001,00,0001,00,0001,00,0001,00,0001,00,0001,00,0001,00,0001,00,0001,00,0001,00,0001,00,0001,00,0001,00,0001,00,0001,00,0001,00,0001,00,0001,00,0001,00,0001,00,0001,00,0001,00,0001,00,0001,00,0001,00,0001,00,0001,00,0001,00,0001,00,0001,00,0001,00,0001,00,0001,00,0001,00,0001,00,0001,00,0001,00,0001,00,0001,00,0001,00,0001,00,0001,00,0001,00,0001,00,0001,00,0001,00,0001,00,0001,00,0001,00,0001,00,0001,00,0001,00,0001,00,0001,00,0001,00,0001,00,0001,00,0001,00,0001,00,0001,00,0001,00,0001,00,0001,00,0001,00,0001,00,0001,00,0001,00,0001,00,0001,00,0001,00,0001,00,0001,00,0001,00,0001,00,0001,00,0001,00,0001,00,0001,00,0001,00,0001,00,0001,00,0001,00,0001,00,0001,00,0001,00,0001,00,0001,00,0001,00,0001,00,0001,00,0001,00,0001,00,0001,00,0001,00,0001,00,0001,00,0001,00,0001,00,0001,00,0001,00,0001,00,0001,00,0001,00,0001,00,0001,00,0001,00,0001,00,0001,00,0001,00,0001,00,0001,00,0001,00,0001,00,0001,00,0001,00,0001,00,0001,00,0001,00,0001,00,0001,00,0001,00,0001,00,0001,00,0001,00,0001,00,0001,00,0001,00,0001,00,0001,00,0001,00,0001,00,0001,00,0001,00,0001,00,0001,00,0001,00,0001,00,0001,00,0001,00,0001,00,0001,00,0001,00,0001,00,0001,00,0001,00,0001,00,0001,00,0001,00,0001,00,0001,00,0001,00,0001,00,0001,00,0001,00,0001,00,0001,00,0001,00,0001,00,0001,00,0001,00,0001,00,0001,00,0001,00,0001,00,0001,00,0001,00,0001,00,0001,00,0001,00,0001,00,0001,00,0001,00,0001,00,0001,00,0001,00,0001,00,0001,00,0001,00,0001,00,0001,00,0001,00,0001,00,0001,00,0001,00,0001,00,0001,00,0001,00,0001,00,0001,00,0001,00,0001,00,0001,00,0001,00,0001,00,0001,00,0001,00,0001,00,0001,00,0001,00,0001,00,0001,00,0001,00,0001,00,0001,00,0001,00,0001,00,0001,00,0001,00,00025,28,00,00027,43,00,00037,47,00,00020,85,00,00033,14,00,00012,99,00,00027,06,00,00012,70,00,00022,34,00,00018,48,00,00024,77,00,00019,94,00,00018,84,00,00022,03,00,00016,27,00,0007,81,00,00014,48,00,00024,94,00,0006,12,00,00025,16,00,0002,22,00,0005,14,00,00015,33,00,0003,99,00,00022,52,00,0007,08,00,00013,08,00,0007,30,00,00012,33,00,0003,07,00,0004,54,00,00019,44,00,0005,76,00,0005,46,00,0007,66,00,00017,90,00,00010,84,00,0006,03,00,00015,18,00,00016,49,00,0007,39,00,0009,80,00,00076,00,00015,57,00,00011,71,00,0005,65,00,00016,13,00,0003,43,00,00067,00,0004,25,00,0006,12,00,0007,29,00,00094,00,00016,33,00,0003,85,00,00013,00,00012,80,00,0008,87,00,0001,35,00,0002,55,00,0006,98,00,0005,53,00,0008,82,00,0002,52,00,0004,34,00,00013,87,00,0002,45,00,0001,06,00,0007,35,00,00019,57,00,0008,96,00,00067,00,00065,00,0004,31,00,0003,24,00,0005,60,00,00010,97,00,00063,00,0003,77,00,0004,99,00,0004,21,00,0003,39,00,0003,25,00,0001,54,00,00012,32,00,00099,00,0003,74,00,0007,49,00,00017,41,00,0005,62,00,0008,55,00,0003,16,00,0002,13,00,0002,59,00,00013,75,00,0004,38,00,00011,59,00,0009,17,00,0008,77,00,0005,13,00,00017,48,00,0002,86,00,0002,62,00,0003,94,00,0002,40,00,0002,12,00,0002,08,00,0003,75,00,00081,00,00013,26,00,00012,12,00,0002,65,00,0002,52,00,00012,07,00,0004,62,00,0003,62,00,0002,04,00,0001,61,00,0001,23,00,0007,85,00,0004,66,00,0002,80,00,0001,86,00,00011,94,00,0006,73,00,0005,52,00,0002,37,00,0004,62,00,0003,71,00,0003,57,00,00010,79,00,0005,77,00,0005,63,00,00040,00,0006,01,00,0003,42,00,0007,09,00,00010,75,00,0006,22,00,0006,06,00,0002,04,00,00035,00,00025,00,00010,42,00,0001,83,00,0006,56,00,0005,47,00,0004,01,00,0003,25,00,00064,00,00052,00,00052,00,0006,50,00,0006,22,00,0005,32,00,0001,94,00,0005,73,00,0005,58,00,0003,96,00,0009,92,00,0006,36,00,00011,57,00,0004,83,00,0003,03,00,0002,25,00,0001,49,00,0004,52,00,0002,96,00,0002,95,00,0002,89,00,0001,69,00,0009,47,00,0005,22,00,0004,73,00,0003,88,00,0003,32,00,0002,84,00,0001,21,00,0009,82,00,0009,80,00,0007,49,00,0005,54,00,0004,23,00,0001,58,00,0005,24,00,0004,67,00,0003,92,00,0007,57,00,0005,38,00,0005,28,00,0005,09,00,0005,09,00,0004,96,00,0003,71,00,0003,66,00,0003,25,00,0002,43,00,0001,97,00,00030,00,0004,79,00,0004,15,00,0003,92,00,0003,49,00,0001,72,00,00041,00,0007,24,00,0003,37,00,0002,93,00,0002,53,00,0002,00,00,0001,98,00,0004,60,00,0003,17,00,0002,30,00,0002,12,00,00085,00,0008,30,00,0008,14,00,0007,84,00,0005,48,00,0003,68,00,0002,23,00,0001,97,00,0003,57,00,0001,44,00,0001,25,00,0004,75,00,0003,12,00,0003,10,00,0002,88,00,0001,86,00,0001,12,00,0005,62,00,0004,96,00,0004,46,00,0004,07,00,0002,61,00,0002,35,00,0002,19,00,0002,33,00,0007,33,00,0005,14,00,0004,59,00,0004,36,00,0003,04,00,0002,23,00,0001,77,00,0001,09,00,00090,00,00083,00,00022,00,0008,83,00,0007,24,00,0007,05,00,0004,28,00,0004,23,00,0004,09,00,0003,79,00,0003,74,00,0003,68,00,0003,11,00,0002,69,00,0001,58,00,0004,27,00,0003,73,00,0003,72,00,0003,55,00,0002,21,00,0002,09,00,0001,35,00,00071,00,00024,00,0004,71,00,0003,92,00,0003,72,00,0003,63,00,0003,52,00,0003,48,00,0003,46,00,0003,35,00,0003,22,00,0002,97,00,0002,95,00,0002,83,00,00044,00,0006,76,00,0003,90,00,0003,37,00,0002,77,00,0002,73,00,0002,12,00,0002,07,00,0001,91,00,00046,00,0006,36,00,0004,82,00,0004,48,00,0004,31,00,0003,38,00,0003,36,00,0002,83,00,0002,33,00,0002,09,00,0001,97,00,0001,29,00,0001,07,00,00069,00,0007,86,00,0006,07,00,0004,50,00,0003,95,00,0003,74,00,0001,87,00,0001,78,00,0001,56,00,00078,00,00042,00,0006,25,00,0004,78,00,0002,77,00,0002,72,00,0001,91,00,0001,53,00,00089,00,00076,00,00016,00,0005,82,00,0004,23,00,0004,01,00,0003,52,00,0003,46,00,0003,20,00,0002,02,00,0001,96,00,0001,86,00,0001,84,00,0001,83,00,0001,50,00,0001,44,00,0009,52,00,0004,93,00,0003,73,00,0003,58,00,0003,29,00,0003,27,00,0003,09,00,0001,54,00,0001,45,00,0001,05,00,00051,00,0006,75,00,0004,65,00,0004,03,00,0003,43,00,0003,37,00,0002,90,00,0002,66,00,0001,84,00,0001,56,00,00099,00,0004,55,00,0003,50,00,0003,29,00,0002,42,00,0001,00,00,00041,00,0005,68,00,0005,19,00,0004,30,00,0003,59,00,0003,12,00,0002,88,00,0002,74,00,0002,67,00,0002,55,00,0001,68,00,0001,52,00,0001,43,00,00056,00,00055,00,0005,84,00,0005,36,00,0003,81,00,0003,69,00,0003,32,00,0003,20,00,0002,78,00,0002,58,00,0002,08,00,0001,82,00,0001,81,00,0001,34,00,00058,00,0003,24,00,0003,19,00,0002,48,00,0002,34,00,0002,26,00,0001,67,00,0001,61,00,00082,00,00081,00,00058,00,0005,51,00,0005,11,00,0004,94,00,0004,31,00,0004,16,00,0003,47,00,0003,18,00,0002,12,00,0002,02,00,0001,43,00,0001,38,00,0001,37,00,00032,00,0005,55,00,0005,12,00,0003,92,00,0003,31,00,0002,71,00,0002,70,00,0001,91,00,0001,70,00,0001,68,00,0001,57,00,0001,51,00,0001,48,00,0001,46,00,0001,42,00,0001,42,00,0001,36,00,0001,26,00,0001,17,00,0001,07,00,00096,00,00094,00,00052,00,0004,77,00,0003,82,00,0003,36,00,0002,29,00,0002,14,00,0002,08,00,0001,75,00,0001,30,00,0001,13,00,0001,13,00,0001,02,00,0001,01,00,00075,00,00065,00,00059,00,0004,61,00,0004,32,00,0003,67,00,0003,18,00,0003,15,00,0002,98,00,0002,84,00,0002,79,00,0002,65,00,0002,42,00,0001,98,00,0001,81,00,0001,45,00,0001,44,00,0001,44,00,0001,44,00,0001,33,00,0001,32,00,0001,32,00,0001,21,00,0001,11,00,00090,00,00067,00,00044,00,0004,82,00,0004,67,00,0004,63,00,0004,49,00,0004,36,00,0002,77,00,0002,61,00,0002,60,00,0002,54,00,0002,06,00,0001,46,00,0001,31,00,0001,22,00,0001,22,00,00088,00,00056,00,00037,00,00037,00,00014,76,00,0006,06,00,0004,56,00,0004,11,00,0004,02,00,0003,48,00,0003,21,00,0002,76,00,0002,54,00,0002,43,00,0002,40,00,0002,15,00,0001,31,00,0001,29,00,0001,10,00,0001,02,00,00093,00,00090,00,00069,00,00010,00,0005,00,0005,00,0004,07,00,0003,99,00,0003,10,00,0002,49,00,0002,43,00,0002,13,00,0001,80,00,0001,80,00,0001,71,00,0001,55,00,0001,47,00,0001,44,00,0001,42,00,0001,32,00,0001,31,00,0001,31,00,0001,29,00,0001,22,00,0001,17,00,0001,16,00,0001,13,00,00099,00,00098,00,00042,00,0004,27,00,0003,94,00,0003,59,00,0002,82,00,0002,48,00,0002,35,00,0001,43,00,0001,29,00,0001,18,00,00076,00,00059,00,00038,00,0003,82,00,0003,80,00,0003,67,00,0003,43,00,0003,42,00,0003,28,00,0003,10,00,0002,59,00,0002,57,00,0002,54,00,0002,51,00,0002,39,00,0002,21,00,0002,18,00,0002,17,00,0002,00,00,0002,00,00,0001,65,00,0001,48,00,0001,32,00,0001,18,00,0001,13,00,0001,13,00,0001,05,00,00089,00,00085,00,00081,00,00067,00,00067,00,00066,00,00066,00,00055,00,00050,00,00050,00,00018,00,0005,03,00,0003,68,00,0003,23,00,0003,18,00,0002,36,00,0002,24,00,0002,20,00,0002,16,00,0002,00,00,0001,95,00,0001,92,00,0001,81,00,0001,50,00,0001,44,00,0001,25,00,0001,23,00,0001,22,00,0001,14,00,0001,09,00,0001,00,00,00071,00,00065,00,00060,00,00057,00,00028,00,0003,91,00,0003,62,00,0003,54,00,0003,33,00,0002,96,00,0002,81,00,0002,42,00,0002,23,00,0002,21,00,0002,10,00,0001,94,00,0001,93,00,0001,85,00,0001,66,00,0001,57,00,0001,32,00,0001,12,00,0001,05,00,0001,04,00,0001,03,00,00093,00,00056,00,00052,00,00049,00,00029,00,00022,00,00022,00,0008,00,0007,00,0005,05,00,0003,22,00,0003,21,00,0003,15,00,0002,96,00,0002,65,00,0002,41,00,0002,07,00,0001,94,00,0001,89,00,0001,86,00,0001,83,00,0001,66,00,0001,59,00,0001,51,00,0001,40,00,0001,30,00,0001,29,00,0001,22,00,0001,20,00,0001,14,00,0001,11,00,00098,00,00088,00,00079,00,00063,00,00058,00,00023,00,0003,73,00,0003,46,00,0002,05,00,0001,98,00,0001,89,00,0001,66,00,0001,19,00,0001,11,00,00094,00,00094,00,00091,00,00090,00,00084,00,00081,00,00067,00,00060,00,00056,00,00036,00,00011,00,0003,64,00,0003,20,00,0003,17,00,0003,12,00,0002,92,00,0002,69,00,0002,18,00,0002,03,00,0001,95,00,0001,93,00,0001,89,00,0001,85,00,0001,72,00,0001,71,00,0001,68,00,0001,66,00,0001,61,00,0001,60,00,0001,53,00,0001,45,00,0001,44,00,0001,38,00,0001,37,00,0001,24,00,0001,11,00,0001,03,00,0001,01,00,00099,00,00090,00,00089,00,00089,00,00072,00,00072,00,00058,00,00054,00,00048,00,00046,00,00044,00,00042,00,00041,00,00039,00,0008,00,0003,23,00,0003,16,00,0002,85,00,0002,75,00,0002,03,00,0001,96,00,0001,88,00,0001,84,00,0001,76,00,0001,54,00,0001,45,00,0001,44,00,0001,42,00,0001,36,00,0001,26,00,0001,25,00,0001,21,00,0001,07,00,0001,02,00,0001,01,00,00099,00,00096,00,00096,00,00093,00,00090,00,00090,00,00088,00,00087,00,00078,00,00074,00,00073,00,00068,00,00059,00,00057,00,00057,00,00054,00,00048,00,00045,00,00022,00,00020,00,0007,00,0003,37,00,0003,15,00,0002,75,00,0002,62,00,0002,60,00,0002,57,00,0002,53,00,0002,44,00,0002,38,00,0001,82,00,0001,79,00,0001,70,00,0001,68,00,0001,67,00,0001,66,00,0001,64,00,0001,60,00,0001,60,00,0001,59,00,0001,56,00,0001,47,00,0001,39,00,0001,36,00,0001,31,00,0001,25,00,0001,23,00,0001,16,00,0001,06,00,00097,00,00095,00,00091,00,00090,00,00088,00,00084,00,00084,00,00079,00,00075,00,00046,00,00046,00,00040,00,00039,00,00038,00,00027,00,00022,00,0007,00,0007,65,00,0002,76,00,0002,47,00,0002,35,00,0002,27,00,0002,24,00,0002,07,00,0001,89,00,0001,81,00,0001,75,00,0001,66,00,0001,63,00,0001,60,00,0001,38,00,0001,36,00,0001,36,00,0001,34,00,0001,25,00,0001,20,00,0001,18,00,0001,15,00,0001,10,00,0001,06,00,00098,00,00094,00,00085,00,00076,00,00072,00,00060,00,00059,00,00052,00,00050,00,00045,00,00030,00,00016,00,0006,00,0002,42,00,0002,37,00,0002,26,00,0001,97,00,0001,87,00,0001,80,00,0001,67,00,0001,52,00,0001,28,00,0001,21,00,0001,20,00,0001,16,00,00090,00,00083,00,00076,00,00072,00,00071,00,00068,00,00067,00,00065,00,00062,00,00056,00,00054,00,00048,00,00046,00,00045,00,00042,00,00039,00,00035,00,00035,00,00030,00,00029,00,00012,00,0004,10,00,0003,89,00,0003,17,00,0002,35,00,0002,29,00,0002,24,00,0002,03,00,0001,82,00,0001,51,00,0001,39,00,0001,16,00,0001,15,00,0001,09,00,00097,00,00096,00,00091,00,00088,00,00077,00,00075,00,00073,00,00071,00,00068,00,00067,00,00066,00,00065,00,00064,00,00064,00,00063,00,00063,00,00058,00,00058,00,00055,00,00053,00,00049,00,00045,00,00042,00,00034,00,00021,00,00020,00,00019,00,00017,00,0005,77,00,0002,85,00,0002,50,00,0002,27,00,0001,70,00,0001,69,00,0001,64,00,0001,46,00,0001,36,00,0001,09,00,0001,01,00,00099,00,00099,00,00097,00,00092,00,00085,00,00084,00,00080,00,00074,00,00073,00,00068,00,00068,00,00068,00,00068,00,00067,00,00066,00,00066,00,00066,00,00064,00,00062,00,00061,00,00061,00,00060,00,00060,00,00060,00,00060,00,00052,00,00051,00,00049,00,00048,00,00039,00,00032,00,00032,00,00026,00,00023,00,00021,00,00021,00,00020,00,00016,00,00014,00,00013,00,00013,00,0004,01,00,0003,60,00,0002,97,00,0002,44,00,0002,20,00,0002,16,00,0002,15,00,0002,12,00,0002,08,00,0002,06,00,0001,99,00,0001,97,00,0001,94,00,0001,89,00,0001,67,00,0001,51,00,0001,32,00,0001,30,00,0001,05,00,0001,04,00,00097,00,00096,00,00093,00,00085,00,00083,00,00082,00,00082,00,00081,00,00079,00,00071,00,00063,00,00062,00,00062,00,00062,00,00061,00,00057,00,00050,00,00049,00,00049,00,00042,00,00041,00,00040,00,00036,00,00033,00,00033,00,00029,00,00029,00,00028,00,00028,00,00023,00,00023,00,00022,00,00020,00,00013,00,00012,00,0007,00,0006,37,00,0002,43,00,0002,14,00,0002,09,00,0001,98,00,0001,89,00,0001,85,00,0001,81,00,0001,74,00,0001,71,00,0001,65,00,0001,55,00,0001,18,00,0001,16,00,0001,15,00,0001,14,00,0001,13,00,0001,11,00,0001,10,00,0001,09,00,0001,08,00,0001,04,00,0001,03,00,0001,01,00,00088,00,00078,00,00073,00,00066,00,00065,00,00063,00,00059,00,00058,00,00056,00,00056,00,00056,00,00056,00,00053,00,00052,00,00051,00,00051,00,00049,00,00048,00,00047,00,00042,00,00040,00,00040,00,00034,00,00032,00,00024,00,00024,00,00021,00,00018,00,00012,00,00012,00,0009,00,0008,00,0005,20,00,0004,13,00,0002,53,00,0001,92,00,0001,81,00,0001,79,00,0001,77,00,0001,75,00,0001,74,00,0001,71,00,0001,66,00,0001,65,00,0001,59,00,0001,53,00,0001,48,00,0001,38,00,0001,31,00,0001,18,00,0001,14,00,0001,08,00,0001,07,00,0001,04,00,0001,03,00,0001,01,00,0001,00,00,0001,00,00,00099,00,00098,00,00096,00,00095,00,00095,00,00095,00,00094,00,00092,00,00086,00,00086,00,00084,00,00080,00,00080,00,00075,00,00073,00,00072,00,00070,00,00070,00,00069,00,00063,00,00060,00,00060,00,00059,00,00055,00,00054,00,00054,00,00053,00,00053,00,00052,00,00052,00,00049,00,00049,00,00048,00,00046,00,00046,00,00045,00,00045,00,00038,00,00038,00,00035,00,00034,00,00033,00,00031,00,00029,00,00026,00,00025,00,00021,00,00018,00,00011,00,00010,00,0004,00,00011,51,00,0006,40,00,0005,64,00,0005,43,00,0004,71,00,0003,80,00,0002,76,00,0001,80,00,0001,64,00,0001,60,00,0001,57,00,0001,54,00,0001,47,00,0001,47,00,0001,45,00,0001,40,00,0001,38,00,0001,38,00,0001,21,00,0001,20,00,0001,13,00,0001,12,00,0001,09,00,0001,03,00,0001,00,00,00099,00,00098,00,00098,00,00094,00,00091,00,00090,00,00088,00,00085,00,00082,00,00081,00,00080,00,00080,00,00078,00,00075,00,00073,00,00067,00,00066,00,00066,00,00065,00,00064,00,00062,00,00056,00,00055,00,00054,00,00052,00,00052,00,00051,00,00051,00,00050,00,00049,00,00048,00,00048,00,00048,00,00048,00,00048,00,00047,00,00047,00,00047,00,00046,00,00045,00,00043,00,00043,00,00042,00,00039,00,00039,00,00039,00,00038,00,00037,00,00037,00,00034,00,00032,00,00031,00,00030,00,00025,00,00024,00,00018,00,00018,00,00017,00,00015,00,00014,00,0009,00,0009,00,0004,00,0004,45,00,0002,98,00,0002,32,00,0001,72,00,0001,72,00,0001,40,00,0001,38,00,0001,36,00,0001,35,00,0001,30,00,0001,28,00,0001,28,00,0001,26,00,0001,22,00,0001,07,00,0001,04,00,0001,03,00,0001,03,00,0001,02,00,00089,00,00085,00,00084,00,00084,00,00083,00,00082,00,00081,00,00081,00,00080,00,00080,00,00079,00,00077,00,00077,00,00077,00,00076,00,00076,00,00075,00,00074,00,00073,00,00073,00,00072,00,00072,00,00071,00,00071,00,00069,00,00064,00,00064,00,00062,00,00061,00,00061,00,00061,00,00060,00,00059,00,00059,00,00057,00,00057,00,00056,00,00056,00,00055,00,00055,00,00054,00,00053,00,00049,00,00048,00,00047,00,00046,00,00046,00,00046,00,00046,00,00046,00,00045,00,00044,00,00043,00,00043,00,00043,00,00043,00,00041,00,00040,00,00040,00,00040,00,00040,00,00039,00,00038,00,00038,00,00038,00,00038,00,00037,00,00036,00,00036,00,00036,00,00035,00,00035,00,00034,00,00034,00,00034,00,00033,00,00031,00,00031,00,00030,00,00029,00,00028,00,00027,00,00024,00,00024,00,00021,00,00020,00,00019,00,00018,00,00018,00,00017,00,00016,00,00015,00,00015,00,00014,00,00011,00,0009,00,0008,00,0007,00,0006,00,0006,00,0004,00,0004,29,00,0003,22,00,0002,40,00,0001,77,00,0001,68,00,0001,42,00,0001,41,00,0001,37,00,0001,29,00,0001,25,00,0001,24,00,0001,21,00,0001,15,00,0001,15,00,0001,10,00,0001,09,00,00098,00,00098,00,00086,00,00083,00,00083,00,00080,00,00080,00,00078,00,00077,00,00075,00,00075,00,00075,00,00075,00,00071,00,00070,00,00070,00,00069,00,00068,00,00067,00,00067,00,00066,00,00066,00,00066,00,00065,00,00064,00,00064,00,00064,00,00063,00,00060,00,00060,00,00059,00,00058,00,00058,00,00057,00,00057,00,00055,00,00054,00,00054,00,00054,00,00051,00,00049,00,00049,00,00048,00,00046,00,00045,00,00045,00,00044,00,00043,00,00041,00,00041,00,00040,00,00039,00,00039,00,00038,00,00038,00,00038,00,00038,00,00038,00,00037,00,00037,00,00037,00,00035,00,00035,00,00035,00,00035,00,00034,00,00034,00,00034,00,00033,00,00033,00,00033,00,00032,00,00030,00,00029,00,00029,00,00029,00,00028,00,00028,00,00027,00,00026,00,00026,00,00026,00,00026,00,00026,00,00025,00,00025,00,00024,00,00024,00,00024,00,00023,00,00023,00,00023,00,00023,00,00023,00,00022,00,00022,00,00022,00,00022,00,00022,00,00022,00,00021,00,00021,00,00020,00,00020,00,00020,00,00020,00,00020,00,00020,00,00019,00,00018,00,00017,00,00017,00,00017,00,00017,00,00016,00,00016,00,00015,00,00014,00,00014,00,00014,00,00013,00,00013,00,00013,00,00011,00,0008,00,0008,00,0007,00,0007,00,0005,00,0003,44,00,0003,35,00,0003,03,00,0001,92,00,0001,71,00,0001,37,00,0001,34,00,0001,32,00,0001,21,00,0001,16,00,0001,15,00,0001,13,00,0001,10,00,0001,06,00,0001,02,00,0001,02,00,0001,01,00,00099,00,00098,00,00097,00,00097,00,00097,00,00096,00,00096,00,00091,00,00090,00,00085,00,00078,00,00076,00,00073,00,00069,00,00066,00,00065,00,00065,00,00064,00,00063,00,00063,00,00061,00,00060,00,00057,00,00056,00,00055,00,00055,00,00055,00,00055,00,00054,00,00054,00,00054,00,00054,00,00053,00,00053,00,00052,00,00052,00,00050,00,00049,00,00049,00,00049,00,00049,00,00048,00,00048,00,00046,00,00045,00,00045,00,00045,00,00044,00,00044,00,00042,00,00042,00,00041,00,00040,00,00039,00,00039,00,00038,00,00038,00,00037,00,00034,00,00033,00,00031,00,00030,00,00030,00,00030,00,00029,00,00029,00,00029,00,00029,00,00029,00,00029,00,00028,00,00028,00,00028,00,00028,00,00028,00,00028,00,00028,00,00027,00,00027,00,00027,00,00027,00,00027,00,00027,00,00027,00,00026,00,00026,00,00026,00,00025,00,00025,00,00025,00,00025,00,00024,00,00024,00,00023,00,00023,00,00023,00,00023,00,00022,00,00021,00,00021,00,00019,00,00019,00,00018,00,00018,00,00017,00,00017,00,00017,00,00017,00,00017,00,00017,00,00016,00,00015,00,00015,00,00015,00,00015,00,00015,00,00013,00,00013,00,00013,00,00011,00,00010,00,00010,00,0007,00,0007,00,0007,00,0006,00,0006,00,0006,00,0004,00,0004,00,0003,27,00,0002,69,00,0002,64,00,0001,48,00,0001,42,00,0001,38,00,0001,34,00,0001,32,00,0001,30,00,0001,29,00,0001,23,00,0001,19,00,0001,15,00,0001,08,00,0001,05,00,00096,00,00092,00,00092,00,00089,00,00088,00,00086,00,00084,00,00083,00,00083,00,00081,00,00081,00,00078,00,00077,00,00076,00,00076,00,00075,00,00075,00,00075,00,00074,00,00073,00,00073,00,00072,00,00070,00,00070,00,00068,00,00067,00,00065,00,00064,00,00063,00,00061,00,00060,00,00059,00,00059,00,00059,00,00057,00,00056,00,00056,00,00055,00,00055,00,00054,00,00054,00,00052,00,00052,00,00052,00,00051,00,00051,00,00050,00,00050,00,00049,00,00049,00,00049,00,00049,00,00049,00,00049,00,00049,00,00049,00,00048,00,00048,00,00048,00,00048,00,00046,00,00046,00,00046,00,00046,00,00046,00,00046,00,00046,00,00045,00,00045,00,00045,00,00045,00,00044,00,00043,00,00043,00,00042,00,00042,00,00040,00,00040,00,00039,00,00039,00,00039,00,00038,00,00038,00,00038,00,00037,00,00036,00,00036,00,00036,00,00035,00,00035,00,00035,00,00034,00,00033,00,00033,00,00032,00,00032,00,00031,00,00030,00,00029,00,00029,00,00029,00,00028,00,00028,00,00028,00,00027,00,00027,00,00027,00,00027,00,00027,00,00027,00,00026,00,00026,00,00026,00,00026,00,00025,00,00025,00,00025,00,00025,00,00025,00,00025,00,00025,00,00024,00,00024,00,00024,00,00024,00,00023,00,00023,00,00023,00,00023,00,00023,00,00023,00,00023,00,00022,00,00022,00,00022,00,00022,00,00022,00,00022,00,00022,00,00022,00,00021,00,00020,00,00020,00,00020,00,00020,00,00019,00,00019,00,00017,00,00017,00,00017,00,00016,00,00016,00,00016,00,00016,00,00015,00,00015,00,00015,00,00015,00,00014,00,00014,00,00014,00,00013,00,00013,00,00013,00,00012,00,00012,00,00012,00,00011,00,00011,00,00011,00,00011,00,00010,00,00010,00,00010,00,0009,00,0009,00,0009,00,0008,00,0008,00,0007,00,0007,00,0007,00,0006,00,0005,00,0005,00,0005,00,00011,73,00,0002,78,00,0001,28,00,0001,23,00,0001,05,00,0001,03,00,00089,00,00088,00,00086,00,00086,00,00083,00,00083,00,00083,00,00081,00,00080,00,00077,00,00077,00,00076,00,00076,00,00076,00,00075,00,00074,00,00073,00,00072,00,00072,00,00069,00,00069,00,00069,00,00068,00,00067,00,00066,00,00066,00,00066,00,00066,00,00063,00,00063,00,00062,00,00062,00,00061,00,00061,00,00058,00,00057,00,00056,00,00055,00,00055,00,00054,00,00054,00,00053,00,00053,00,00053,00,00050,00,00050,00,00046,00,00046,00,00046,00,00045,00,00045,00,00044,00,00043,00,00043,00,00043,00,00042,00,00042,00,00042,00,00041,00,00041,00,00040,00,00040,00,00040,00,00040,00,00040,00,00039,00,00039,00,00039,00,00039,00,00038,00,00038,00,00038,00,00037,00,00037,00,00037,00,00037,00,00037,00,00037,00,00037,00,00037,00,00036,00,00036,00,00035,00,00035,00,00035,00,00035,00,00035,00,00035,00,00035,00,00035,00,00035,00,00035,00,00034,00,00034,00,00033,00,00032,00,00032,00,00032,00,00031,00,00031,00,00031,00,00031,00,00030,00,00029,00,00028,00,00028,00,00027,00,00027,00,00027,00,00027,00,00026,00,00026,00,00026,00,00026,00,00024,00,00024,00,00024,00,00024,00,00023,00,00023,00,00022,00,00022,00,00022,00,00021,00,00021,00,00021,00,00021,00,00021,00,00021,00,00021,00,00021,00,00020,00,00020,00,00020,00,00020,00,00020,00,00020,00,00020,00,00020,00,00020,00,00019,00,00019,00,00019,00,00019,00,00019,00,00019,00,00019,00,00019,00,00019,00,00019,00,00019,00,00019,00,00019,00,00019,00,00018,00,00018,00,00018,00,00018,00,00018,00,00018,00,00017,00,00017,00,00017,00,00017,00,00017,00,00017,00,00016,00,00016,00,00016,00,00016,00,00016,00,00016,00,00016,00,00015,00,00015,00,00015,00,00015,00,00014,00,00014,00,00014,00,00014,00,00013,00,00013,00,00013,00,00013,00,00013,00,00013,00,00013,00,00012,00,00012,00,00012,00,00012,00,00011,00,00011,00,00011,00,00011,00,00011,00,00011,00,00011,00,00011,00,00010,00,00010,00,00010,00,00010,00,00010,00,00010,00,0009,00,0009,00,0009,00,0009,00,0009,00,0009,00,0009,00,0008,00,0008,00,0008,00,0008,00,0007,00,0007,00,0007,00,0007,00,0006,00,0005,00,0005,00,0005,00,0005,00,0005,00,0005,00,0005,00,0004,00,0004,00,0004,00,0004,00,0004,00,0004,00,0004,00,0003,00,0003,00,0003,00,0001,00,0005,96,00,0004,00,00,0003,81,00,0002,74,00,0002,28,00,0001,11,00,0001,10,00,0001,04,00,0001,03,00,00098,00,00083,00,00080,00,00079,00,00078,00,00076,00,00076,00,00070,00,00068,00,00068,00,00066,00,00062,00,00062,00,00061,00,00061,00,00060,00,00060,00,00059,00,00055,00,00054,00,00054,00,00054,00,00054,00,00053,00,00053,00,00053,00,00053,00,00052,00,00052,00,00052,00,00052,00,00052,00,00052,00,00052,00,00051,00,00051,00,00051,00,00051,00,00050,00,00050,00,00050,00,00049,00,00048,00,00048,00,00047,00,00046,00,00046,00,00045,00,00045,00,00044,00,00044,00,00043,00,00042,00,00042,00,00041,00,00041,00,00041,00,00041,00,00040,00,00040,00,00040,00,00039,00,00039,00,00038,00,00038,00,00036,00,00035,00,00035,00,00034,00,00034,00,00034,00,00033,00,00033,00,00033,00,00032,00,00032,00,00032,00,00032,00,00032,00,00031,00,00031,00,00031,00,00031,00,00031,00,00030,00,00030,00,00030,00,00029,00,00029,00,00029,00,00029,00,00028,00,00028,00,00027,00,00027,00,00027,00,00027,00,00027,00,00027,00,00027,00,00027,00,00026,00,00026,00,00026,00,00025,00,00025,00,00025,00,00025,00,00025,00,00025,00,00024,00,00024,00,00024,00,00024,00,00024,00,00024,00,00024,00,00024,00,00024,00,00024,00,00023,00,00023,00,00023,00,00023,00,00023,00,00023,00,00023,00,00022,00,00022,00,00022,00,00021,00,00021,00,00021,00,00021,00,00020,00,00020,00,00020,00,00019,00,00019,00,00019,00,00019,00,00019,00,00018,00,00018,00,00018,00,00018,00,00018,00,00018,00,00017,00,00017,00,00017,00,00017,00,00017,00,00017,00,00017,00,00017,00,00017,00,00017,00,00017,00,00017,00,00016,00,00016,00,00016,00,00016,00,00016,00,00016,00,00016,00,00016,00,00016,00,00016,00,00016,00,00016,00,00016,00,00015,00,00015,00,00015,00,00015,00,00015,00,00015,00,00015,00,00015,00,00015,00,00015,00,00015,00,00015,00,00015,00,00014,00,00014,00,00014,00,00014,00,00014,00,00014,00,00014,00,00014,00,00014,00,00014,00,00014,00,00014,00,00014,00,00014,00,00014,00,00014,00,00014,00,00014,00,00014,00,00013,00,00013,00,00013,00,00013,00,00013,00,00013,00,00013,00,00013,00,00013,00,00013,00,00013,00,00013,00,00013,00,00013,00,00013,00,00013,00,00013,00,00012,00,00012,00,00012,00,00012,00,00012,00,00012,00,00012,00,00012,00,00012,00,00012,00,00012,00,00012,00,00011,00,00011,00,00011,00,00011,00,00011,00,00011,00,00011,00,00011,00,00011,00,00011,00,00011,00,00011,00,00011,00,00010,00,00010,00,00010,00,00010,00,00010,00,00010,00,00010,00,00010,00,00010,00,00010,00,00010,00,0009,00,0009,00,0009,00,0009,00,0009,00,0009,00,0009,00,0009,00,0009,00,0009,00,0008,00,0008,00,0008,00,0008,00,0008,00,0008,00,0008,00,0008,00,0008,00,0008,00,0008,00,0008,00,0008,00,0008,00,0008,00,0007,00,0007,00,0007,00,0007,00,0007,00,0007,00,0007,00,0007,00,0007,00,0007,00,0007,00,0007,00,0007,00,0007,00,0007,00,0007,00,0007,00,0007,00,0007,00,0007,00,0006,00,0006,00,0006,00,0006,00,0006,00,0006,00,0006,00,0006,00,0006,00,0006,00,0005,00,0005,00,0004,00,0004,00,0004,00,0004,00,0004,00,0004,00,0004,00,0004,00,0004,00,0003,00,0003,00,0003,00,0003,00,0003,00,0003,00,0003,00,0003,00,0003,00,0002,00,0002,00,0002,00,0002,00,0002,00,0005,32,00,0002,20,00,0002,17,00,0001,03,00,00097,00,00085,00,00084,00,00077,00,00077,00,00067,00,00065,00,00062,00,00055,00,00051,00,00051,00,00049,00,00049,00,00049,00,00048,00,00048,00,00047,00,00047,00,00047,00,00046,00,00045,00,00044,00,00044,00,00044,00,00044,00,00044,00,00043,00,00043,00,00042,00,00041,00,00041,00,00040,00,00040,00,00040,00,00040,00,00040,00,00040,00,00040,00,00040,00,00039,00,00039,00,00038,00,00038,00,00038,00,00038,00,00037,00,00037,00,00037,00,00037,00,00036,00,00036,00,00036,00,00036,00,00036,00,00035,00,00035,00,00035,00,00035,00,00034,00,00034,00,00034,00,00033,00,00033,00,00033,00,00033,00,00033,00,00033,00,00032,00,00032,00,00032,00,00032,00,00032,00,00032,00,00032,00,00032,00,00032,00,00032,00,00031,00,00031,00,00031,00,00031,00,00030,00,00030,00,00030,00,00030,00,00029,00,00029,00,00029,00,00028,00,00028,00,00028,00,00028,00,00028,00,00027,00,00027,00,00026,00,00026,00,00026,00,00026,00,00026,00,00025,00,00025,00,00025,00,00025,00,00024,00,00024,00,00023,00,00023,00,00023,00,00023,00,00023,00,00023,00,00023,00,00023,00,00023,00,00023,00,00022,00,00022,00,00022,00,00022,00,00022,00,00022,00,00022,00,00022,00,00022,00,00022,00,00022,00,00022,00,00021,00,00021,00,00021,00,00021,00,00021,00,00021,00,00021,00,00021,00,00021,00,00021,00,00021,00,00021,00,00020,00,00020,00,00020,00,00020,00,00020,00,00020,00,00020,00,00020,00,00020,00,00020,00,00020,00,00020,00,00020,00,00020,00,00019,00,00019,00,00019,00,00019,00,00019,00,00019,00,00019,00,00019,00,00019,00,00019,00,00019,00,00019,00,00019,00,00019,00,00019,00,00019,00,00019,00,00018,00,00018,00,00018,00,00018,00,00018,00,00018,00,00018,00,00018,00,00018,00,00018,00,00018,00,00018,00,00018,00,00017,00,00017,00,00017,00,00017,00,00017,00,00017,00,00017,00,00017,00,00017,00,00017,00,00017,00,00017,00,00017,00,00017,00,00017,00,00017,00,00017,00,00017,00,00017,00,00017,00,00017,00,00016,00,00016,00,00016,00,00016,00,00016,00,00016,00,00016,00,00016,00,00016,00,00016,00,00016,00,00016,00,00015,00,00015,00,00015,00,00015,00,00015,00,00015,00,00015,00,00015,00,00015,00,00015,00,00015,00,00015,00,00015,00,00015,00,00015,00,00015,00,00015,00,00015,00,00015,00,00015,00,00014,00,00014,00,00014,00,00014,00,00014,00,00014,00,00014,00,00014,00,00014,00,00014,00,00014,00,00014,00,00014,00,00014,00,00014,00,00014,00,00014,00,00014,00,00014,00,00013,00,00013,00,00013,00,00013,00,00013,00,00013,00,00013,00,00013,00,00013,00,00013,00,00013,00,00013,00,00013,00,00013,00,00013,00,00013,00,00013,00,00013,00,00013,00,00013,00,00013,00,00013,00,00012,00,00012,00,00012,00,00012,00,00012,00,00012,00,00012,00,00012,00,00012,00,00012,00,00012,00,00012,00,00012,00,00012,00,00012,00,00011,00,00011,00,00011,00,00011,00,00011,00,00011,00,00011,00,00011,00,00011,00,00011,00,00011,00,00011,00,00011,00,00011,00,00011,00,00011,00,00011,00,00011,00,00011,00,00011,00,00011,00,00010,00,00010,00,00010,00,00010,00,00010,00,00010,00,00010,00,00010,00,00010,00,00010,00,00010,00,00010,00,00010,00,00010,00,00010,00,00010,00,00010,00,00010,00,00010,00,00010,00,00010,00,00010,00,00010,00,00010,00,00010,00,00010,00,00010,00,00010,00,00010,00,00010,00,00010,00,00010,00,00010,00,00010,00,00010,00,00010,00,00010,00,00010,00,00010,00,00010,00,00010,00,00010,00,00010,00,00010,00,0009,00,0009,00,0009,00,0009,00,0009,00,0009,00,0009,00,0009,00,0009,00,0009,00,0009,00,0009,00,0009,00,0009,00,0009,00,0009,00,0009,00,0009,00,0009,00,0009,00,0009,00,0009,00,0009,00,0009,00,0009,00,0009,00,0009,00,0009,00,0009,00,0009,00,0008,00,0008,00,0008,00,0008,00,0008,00,0008,00,0008,00,0008,00,0008,00,0008,00,0008,00,0008,00,0008,00,0008,00,0008,00,0008,00,0008,00,0008,00,0008,00,0008,00,0008,00,0008,00,0008,00,0008,00,0008,00,0008,00,0008,00,0008,00,0008,00,0008,00,0008,00,0007,00,0007,00,0007,00,0007,00,0007,00,0007,00,0007,00,0007,00,0007,00,0007,00,0007,00,0007,00,0007,00,0007,00,0007,00,0007,00,0007,00,0007,00,0007,00,0007,00,0007,00,0007,00,0007,00,0007,00,0007,00,0007,00,0007,00,0007,00,0007,00,0007,00,0007,00,0006,00,0006,00,0006,00,0006,00,0006,00,0006,00,0006,00,0006,00,0006,00,0006,00,0006,00,0006,00,0006,00,0006,00,0006,00,0006,00,0006,00,0006,00,0006,00,0006,00,0006,00,0006,00,0006,00,0006,00,0006,00,0006,00,0006,00,0006,00,0006,00,0005,00,0005,00,0005,00,0005,00,0005,00,0005,00,0005,00,0005,00,0005,00,0005,00,0005,00,0005,00,0005,00,0005,00,0005,00,0005,00,0005,00,0005,00,0005,00,0005,00,0005,00,0005,00,0005,00,0005,00,0005,00,0005,00,0005,00,0005,00,0005,00,0005,00,0005,00,0005,00,0004,00,0004,00,0004,00,0004,00,0004,00,0004,00,0004,00,0004,00,0004,00,0004,00,0004,00,0004,00,0004,00,0004,00,0004,00,0004,00,0004,00,0004,00,0004,00,0004,00,0004,00,0004,00,0004,00,0003,00,0003,00,0003,00,0003,00,0003,00,0003,00,0003,00,0003,00,0003,00,0003,00,0003,00,0003,00,0003,00,0003,00,0003,00,0003,00,0003,00,0003,00,0002,00,0002,00,0002,00,0002,00,0002,00,0002,00,0002,00,0002,00,0002,00,0002,00,0002,00,0002,00,0002,00,0002,00,0002,00,0002,00,0002,00,0002,00,0002,00,0002,00,0002,00,0002,00,0002,00,0002,00,0002,00,0002,00,0002,00,0002,00,0002,00,0002,00,0001,00,0001,00,0003,38,00,0003,19,00,0002,75,00,0001,00,00,00076,00,00059,00,00058,00,00051,00,00050,00,00050,00,00049,00,00049,00,00047,00,00045,00,00044,00,00044,00,00041,00,00041,00,00040,00,00040,00,00040,00,00037,00,00037,00,00036,00,00036,00,00035,00,00035,00,00034,00,00033,00,00033,00,00032,00,00031,00,00031,00,00031,00,00030,00,00030,00,00030,00,00030,00,00029,00,00028,00,00028,00,00028,00,00028,00,00028,00,00027,00,00027,00,00027,00,00027,00,00027,00,00026,00,00025,00,00025,00,00025,00,00025,00,00025,00,00025,00,00024,00,00024,00,00024,00,00024,00,00024,00,00024,00,00024,00,00024,00,00024,00,00024,00,00023,00,00023,00,00023,00,00023,00,00023,00,00023,00,00023,00,00022,00,00022,00,00022,00,00022,00,00022,00,00022,00,00021,00,00021,00,00021,00,00021,00,00021,00,00021,00,00021,00,00021,00,00021,00,00021,00,00021,00,00020,00,00020,00,00020,00,00020,00,00020,00,00020,00,00020,00,00020,00,00019,00,00019,00,00019,00,00019,00,00019,00,00019,00,00019,00,00019,00,00019,00,00019,00,00019,00,00019,00,00019,00,00019,00,00018,00,00018,00,00018,00,00018,00,00018,00,00018,00,00018,00,00018,00,00018,00,00018,00,00018,00,00018,00,00018,00,00017,00,00017,00,00017,00,00017,00,00017,00,00017,00,00017,00,00017,00,00017,00,00017,00,00017,00,00017,00,00016,00,00016,00,00016,00,00016,00,00016,00,00016,00,00016,00,00016,00,00016,00,00016,00,00016,00,00016,00,00016,00,00016,00,00016,00,00016,00,00016,00,00016,00,00016,00,00015,00,00015,00,00015,00,00015,00,00015,00,00015,00,00015,00,00015,00,00015,00,00015,00,00015,00,00015,00,00015,00,00015,00,00014,00,00014,00,00014,00,00014,00,00014,00,00014,00,00014,00,00014,00,00014,00,00014,00,00014,00,00014,00,00014,00,00014,00,00014,00,00014,00,00013,00,00013,00,00013,00,00013,00,00013,00,00013,00,00013,00,00013,00,00013,00,00013,00,00013,00,00013,00,00013,00,00013,00,00013,00,00013,00,00013,00,00013,00,00013,00,00013,00,00013,00,00013,00,00013,00,00013,00,00013,00,00013,00,00013,00,00013,00,00013,00,00013,00,00013,00,00012,00,00012,00,00012,00,00012,00,00012,00,00012,00,00012,00,00012,00,00012,00,00012,00,00012,00,00012,00,00012,00,00012,00,00012,00,00012,00,00012,00,00012,00,00012,00,00012,00,00012,00,00012,00,00012,00,00012,00,00012,00,00012,00,00012,00,00012,00,00012,00,00012,00,00012,00,00012,00,00012,00,00011,00,00011,00,00011,00,00011,00,00011,00,00011,00,00011,00,00011,00,00011,00,00011,00,00011,00,00011,00,00011,00,00011,00,00011,00,00011,00,00011,00,00011,00,00011,00,00011,00,00011,00,00011,00,00011,00,00011,00,00011,00,00011,00,00011,00,00011,00,00011,00,00011,00,00011,00,00011,00,00011,00,00011,00,00011,00,00011,00,00011,00,00011,00,00011,00,00011,00,00011,00,00011,00,00011,00,00011,00,00010,00,00010,00,00010,00,00010,00,00010,00,00010,00,00010,00,00010,00,00010,00,00010,00,00010,00,00010,00,00010,00,00010,00,00010,00,00010,00,00010,00,00010,00,00010,00,00010,00,00010,00,00010,00,00010,00,00010,00,00010,00,00010,00,00010,00,00010,00,00010,00,00010,00,00010,00,00010,00,00010,00,00010,00,00010,00,00010,00,00010,00,00010,00,00010,00,00010,00,00010,00,00010,00,00010,00,00010,00,00010,00,0009,00,0009,00,0009,00,0009,00,0009,00,0009,00,0009,00,0009,00,0009,00,0009,00,0009,00,0009,00,0009,00,0009,00,0009,00,0009,00,0009,00,0009,00,0009,00,0009,00,0009,00,0009,00,0009,00,0009,00,0009,00,0009,00,0009,00,0009,00,0009,00,0009,00,0009,00,0009,00,0009,00,0009,00,0009,00,0009,00,0009,00,0009,00,0009,00,0009,00,0009,00,0009,00,0009,00,0009,00,0009,00,0009,00,0009,00,0009,00,0009,00,0009,00,0009,00,0008,00,0008,00,0008,00,0008,00,0008,00,0008,00,0008,00,0008,00,0008,00,0008,00,0008,00,0008,00,0008,00,0008,00,0008,00,0008,00,0008,00,0008,00,0008,00,0008,00,0008,00,0008,00,0008,00,0008,00,0008,00,0008,00,0008,00,0008,00,0008,00,0008,00,0008,00,0008,00,0008,00,0008,00,0008,00,0008,00,0008,00,0008,00,0008,00,0008,00,0008,00,0008,00,0008,00,0008,00,0008,00,0008,00,0008,00,0008,00,0008,00,0008,00,0007,00,0007,00,0007,00,0007,00,0007,00,0007,00,0007,00,0007,00,0007,00,0007,00,0007,00,0007,00,0007,00,0007,00,0007,00,0007,00,0007,00,0007,00,0007,00,0007,00,0007,00,0007,00,0007,00,0007,00,0007,00,0007,00,0007,00,0007,00,0007,00,0007,00,0007,00,0007,00,0007,00,0007,00,0007,00,0007,00,0007,00,0007,00,0007,00,0007,00,0007,00,0007,00,0007,00,0007,00,0007,00,0007,00,0007,00,0007,00,0007,00,0007,00,0007,00,0007,00,0007,00,0007,00,0007,00,0007,00,0007,00,0007,00,0007,00,0007,00,0007,00,0007,00,0007,00,0007,00,0007,00,0007,00,0007,00,0007,00,0007,00,0007,00,0007,00,0007,00,0007,00,0007,00,0007,00,0007,00,0007,00,0007,00,0007,00,0007,00,0007,00,0006,00,0006,00,0006,00,0006,00,0006,00,0006,00,0006,00,0006,00,0006,00,0006,00,0006,00,0006,00,0006,00,0006,00,0006,00,0006,00,0006,00,0006,00,0006,00,0006,00,0006,00,0006,00,0006,00,0006,00,0006,00,0006,00,0006,00,0006,00,0006,00,0006,00,0006,00,0006,00,0006,00,0006,00,0006,00,0006,00,0006,00,0006,00,0006,00,0006,00,0006,00,0006,00,0006,00,0006,00,0006,00,0006,00,0006,00,0006,00,0006,00,0006,00,0006,00,0006,00,0006,00,0006,00,0006,00,0006,00,0006,00,0006,00,0006,00,0006,00,0006,00,0006,00,0006,00,0006,00,0006,00,0006,00,0006,00,0006,00,0006,00,0006,00,0006,00,0006,00,0006,00,0006,00,0006,00,0006,00,0006,00,0006,00,0006,00,0006,00,0006,00,0006,00,0006,00,0006,00,0006,00,0006,00,0006,00,0006,00,0006,00,0006,00,0005,00,0005,00,0005,00,0005,00,0005,00,0005,00,0005,00,0005,00,0005,00,0005,00,0005,00,0005,00,0005,00,0005,00,0005,00,0005,00,0005,00,0005,00,0005,00,0005,00,0005,00,0005,00,0005,00,0005,00,0005,00,0005,00,0005,00,0005,00,0005,00,0005,00,0005,00,0005,00,0005,00,0005,00,0005,00,0005,00,0005,00,0005,00,0005,00,0005,00,0005,00,0005,00,0005,00,0005,00,0005,00,0005,00,0005,00,0005,00,0005,00,0005,00,0005,00,0005,00,0005,00,0005,00,0005,00,0005,00,0005,00,0005,00,0005,00,0005,00,0005,00,0005,00,0005,00,0005,00,0005,00,0005,00,0005,00,0005,00,0005,00,0005,00,0005,00,0005,00,0005,00,0005,00,0005,00,0005,00,0005,00,0005,00,0005,00,0005,00,0005,00,0005,00,0005,00,0005,00,0005,00,0005,00,0005,00,0005,00,0005,00,0005,00,0005,00,0005,00,0005,00,0005,00,0005,00,0005,00,0005,00,0005,00,0005,00,0005,00,0005,00,0005,00,0005,00,0005,00,0005,00,0005,00,0005,00,0005,00,0004,00,0004,00,0004,00,0004,00,0004,00,0004,00,0004,00,0004,00,0004,00,0004,00,0004,00,0004,00,0004,00,0004,00,0004,00,0004,00,0004,00,0004,00,0004,00,0004,00,0004,00,0004,00,0004,00,0004,00,0004,00,0004,00,0004,00,0004,00,0004,00,0004,00,0004,00,0004,00,0004,00,0004,00,0004,00,0004,00,0004,00,0004,00,0004,00,0004,00,0004,00,0004,00,0004,00,0004,00,0004,00,0004,00,0004,00,0004,00,0004,00,0004,00,0004,00,0004,00,0004,00,0004,00,0004,00,0004,00,0004,00,0004,00,0004,00,0004,00,0004,00,0004,00,0004,00,0004,00,0004,00,0004,00,0004,00,0004,00,0004,00,0004,00,0004,00,0004,00,0004,00,0004,00,0004,00,0004,00,0004,00,0004,00,0004,00,0004,00,0004,00,0004,00,0004,00,0004,00,0004,00,0004,00,0004,00,0004,00,0004,00,0004,00,0004,00,0004,00,0004,00,0004,00,0004,00,0004,00,0004,00,0004,00,0004,00,0004,00,0004,00,0004,00,0004,00,0004,00,0004,00,0004,00,0004,00,0004,00,0004,00,0004,00,0004,00,0004,00,0004,00,0004,00,0004,00,0004,00,0004,00,0004,00,0004,00,0004,00,0004,00,0004,00,0004,00,0004,00,0004,00,0004,00,0004,00,0004,00,0004,00,0004,00,0004,00,0004,00,0004,00,0004,00,0003,00,0003,00,0003,00,0003,00,0003,00,0003,00,0003,00,0003,00,0003,00,0003,00,0003,00,0003,00,0003,00,0003,00,0003,00,0003,00,0003,00,0003,00,0003,00,0003,00,0003,00,0003,00,0003,00,0003,00,0003,00,0003,00,0003,00,0003,00,0003,00,0003,00,0003,00,0003,00,0003,00,0003,00,0003,00,0003,00,0003,00,0003,00,0003,00,0003,00,0003,00,0003,00,0003,00,0003,00,0003,00,0003,00,0003,00,0003,00,0003,00,0003,00,0003,00,0003,00,0003,00,0003,00,0003,00,0003,00,0003,00,0003,00,0003,00,0003,00,0003,00,0003,00,0003,00,0003,00,0003,00,0003,00,0003,00,0003,00,0003,00,0003,00,0003,00,0003,00,0003,00,0003,00,0003,00,0003,00,0003,00,0003,00,0003,00,0003,00,0003,00,0003,00,0003,00,0003,00,0003,00,0003,00,0003,00,0003,00,0003,00,0003,00,0003,00,0003,00,0003,00,0003,00,0003,00,0003,00,0003,00,0003,00,0003,00,0003,00,0003,00,0003,00,0003,00,0003,00,0003,00,0003,00,0003,00,0003,00,0003,00,0003,00,0003,00,0003,00,0003,00,0003,00,0003,00,0003,00,0003,00,0003,00,0003,00,0003,00,0003,00,0003,00,0003,00,0003,00,0003,00,0003,00,0003,00,0003,00,0003,00,0003,00,0003,00,0003,00,0003,00,0002,00,0002,00,0002,00,0002,00,0002,00,0002,00,0002,00,0002,00,0002,00,0002,00,0002,00,0002,00,0002,00,0002,00,0002,00,0002,00,0002,00,0002,00,0002,00,0002,00,0002,00,0002,00,0002,00,0002,00,0002,00,0002,00,0002,00,0002,00,0002,00,0002,00,0002,00,0002,00,0002,00,0002,00,0002,00,0002,00,0002,00,0002,00,0002,00,0002,00,0002,00,0002,00,0002,00,0002,00,0002,00,0002,00,0002,00,0002,00,0002,00,0002,00,0002,00,0002,00,0002,00,0002,00,0002,00,0002,00,0002,00,0002,00,0002,00,0002,00,0002,00,0002,00,0002,00,0002,00,0002,00,0002,00,0002,00,0002,00,0002,00,0002,00,0002,00,0002,00,0002,00,0002,00,0002,00,0002,00,0002,00,0002,00,0002,00,0002,00,0002,00,0002,00,0002,00,0002,00,0002,00,0002,00,0002,00,0002,00,0002,00,0002,00,0002,00,0002,00,0002,00,0002,00,0002,00,0002,00,0001,00,0001,00,0001,00,0001,00,0001,00,0001,00,0001,00,0001,00,0001,00,0001,00,0001,00,0001,00,0001,00,0001,00,0001,00,0001,00,0001,00,0001,00,0001,00,0001,00,0001,00,0001,00,0001,00,0001,00,0001,00,0001,00,0001,00,0001,00,0001,00,0001,00,0001,00,0001,00,0001,00,0001,00,0001,00,0001,00,0001,00,0001,00,0001,00,0001,00,0001,00,0001,00,0001,00,0001,00,0001,00,0001,00,0001,00,0001,00,0001,00,0001,00,0001,00,0001,00,0001,00,0001,00,0001,00,0001,00,0001,00,0001,00,0001,00,0001,00,0001,00,0001,00,0001,00,0001,00,0001,00,0001,00,0001,00,0001,00,0001,00,0001,00,0001,00,0001,00,0001,00,0001,00,0001,00,0001,00,0001,00,0001,00,0001,00,0001,00,0001,00,0001,00,0001,00,0001,00,0001,00,0001,00,0001,00,0001,00,0001,00,0001,00,0001,00,0001,00,0001,00,0001,00,0001,00,0001,00,0001,00,0001,00,0001,00,0001,00,0001,00,0001,00,0001,00,0001,00,0001,00,0001,00,0001,00,0001,00,0001,00,0001,00,0001,00,0001,00,0001,00,0001,00,0001,00,0001,00,000"
         ]
        }
       ],
       "layout": {
        "height": 500,
        "template": {
         "data": {
          "bar": [
           {
            "error_x": {
             "color": "#2a3f5f"
            },
            "error_y": {
             "color": "#2a3f5f"
            },
            "marker": {
             "line": {
              "color": "white",
              "width": 0.5
             },
             "pattern": {
              "fillmode": "overlay",
              "size": 10,
              "solidity": 0.2
             }
            },
            "type": "bar"
           }
          ],
          "barpolar": [
           {
            "marker": {
             "line": {
              "color": "white",
              "width": 0.5
             },
             "pattern": {
              "fillmode": "overlay",
              "size": 10,
              "solidity": 0.2
             }
            },
            "type": "barpolar"
           }
          ],
          "carpet": [
           {
            "aaxis": {
             "endlinecolor": "#2a3f5f",
             "gridcolor": "#C8D4E3",
             "linecolor": "#C8D4E3",
             "minorgridcolor": "#C8D4E3",
             "startlinecolor": "#2a3f5f"
            },
            "baxis": {
             "endlinecolor": "#2a3f5f",
             "gridcolor": "#C8D4E3",
             "linecolor": "#C8D4E3",
             "minorgridcolor": "#C8D4E3",
             "startlinecolor": "#2a3f5f"
            },
            "type": "carpet"
           }
          ],
          "choropleth": [
           {
            "colorbar": {
             "outlinewidth": 0,
             "ticks": ""
            },
            "type": "choropleth"
           }
          ],
          "contour": [
           {
            "colorbar": {
             "outlinewidth": 0,
             "ticks": ""
            },
            "colorscale": [
             [
              0,
              "#0d0887"
             ],
             [
              0.1111111111111111,
              "#46039f"
             ],
             [
              0.2222222222222222,
              "#7201a8"
             ],
             [
              0.3333333333333333,
              "#9c179e"
             ],
             [
              0.4444444444444444,
              "#bd3786"
             ],
             [
              0.5555555555555556,
              "#d8576b"
             ],
             [
              0.6666666666666666,
              "#ed7953"
             ],
             [
              0.7777777777777778,
              "#fb9f3a"
             ],
             [
              0.8888888888888888,
              "#fdca26"
             ],
             [
              1,
              "#f0f921"
             ]
            ],
            "type": "contour"
           }
          ],
          "contourcarpet": [
           {
            "colorbar": {
             "outlinewidth": 0,
             "ticks": ""
            },
            "type": "contourcarpet"
           }
          ],
          "heatmap": [
           {
            "colorbar": {
             "outlinewidth": 0,
             "ticks": ""
            },
            "colorscale": [
             [
              0,
              "#0d0887"
             ],
             [
              0.1111111111111111,
              "#46039f"
             ],
             [
              0.2222222222222222,
              "#7201a8"
             ],
             [
              0.3333333333333333,
              "#9c179e"
             ],
             [
              0.4444444444444444,
              "#bd3786"
             ],
             [
              0.5555555555555556,
              "#d8576b"
             ],
             [
              0.6666666666666666,
              "#ed7953"
             ],
             [
              0.7777777777777778,
              "#fb9f3a"
             ],
             [
              0.8888888888888888,
              "#fdca26"
             ],
             [
              1,
              "#f0f921"
             ]
            ],
            "type": "heatmap"
           }
          ],
          "heatmapgl": [
           {
            "colorbar": {
             "outlinewidth": 0,
             "ticks": ""
            },
            "colorscale": [
             [
              0,
              "#0d0887"
             ],
             [
              0.1111111111111111,
              "#46039f"
             ],
             [
              0.2222222222222222,
              "#7201a8"
             ],
             [
              0.3333333333333333,
              "#9c179e"
             ],
             [
              0.4444444444444444,
              "#bd3786"
             ],
             [
              0.5555555555555556,
              "#d8576b"
             ],
             [
              0.6666666666666666,
              "#ed7953"
             ],
             [
              0.7777777777777778,
              "#fb9f3a"
             ],
             [
              0.8888888888888888,
              "#fdca26"
             ],
             [
              1,
              "#f0f921"
             ]
            ],
            "type": "heatmapgl"
           }
          ],
          "histogram": [
           {
            "marker": {
             "pattern": {
              "fillmode": "overlay",
              "size": 10,
              "solidity": 0.2
             }
            },
            "type": "histogram"
           }
          ],
          "histogram2d": [
           {
            "colorbar": {
             "outlinewidth": 0,
             "ticks": ""
            },
            "colorscale": [
             [
              0,
              "#0d0887"
             ],
             [
              0.1111111111111111,
              "#46039f"
             ],
             [
              0.2222222222222222,
              "#7201a8"
             ],
             [
              0.3333333333333333,
              "#9c179e"
             ],
             [
              0.4444444444444444,
              "#bd3786"
             ],
             [
              0.5555555555555556,
              "#d8576b"
             ],
             [
              0.6666666666666666,
              "#ed7953"
             ],
             [
              0.7777777777777778,
              "#fb9f3a"
             ],
             [
              0.8888888888888888,
              "#fdca26"
             ],
             [
              1,
              "#f0f921"
             ]
            ],
            "type": "histogram2d"
           }
          ],
          "histogram2dcontour": [
           {
            "colorbar": {
             "outlinewidth": 0,
             "ticks": ""
            },
            "colorscale": [
             [
              0,
              "#0d0887"
             ],
             [
              0.1111111111111111,
              "#46039f"
             ],
             [
              0.2222222222222222,
              "#7201a8"
             ],
             [
              0.3333333333333333,
              "#9c179e"
             ],
             [
              0.4444444444444444,
              "#bd3786"
             ],
             [
              0.5555555555555556,
              "#d8576b"
             ],
             [
              0.6666666666666666,
              "#ed7953"
             ],
             [
              0.7777777777777778,
              "#fb9f3a"
             ],
             [
              0.8888888888888888,
              "#fdca26"
             ],
             [
              1,
              "#f0f921"
             ]
            ],
            "type": "histogram2dcontour"
           }
          ],
          "mesh3d": [
           {
            "colorbar": {
             "outlinewidth": 0,
             "ticks": ""
            },
            "type": "mesh3d"
           }
          ],
          "parcoords": [
           {
            "line": {
             "colorbar": {
              "outlinewidth": 0,
              "ticks": ""
             }
            },
            "type": "parcoords"
           }
          ],
          "pie": [
           {
            "automargin": true,
            "type": "pie"
           }
          ],
          "scatter": [
           {
            "fillpattern": {
             "fillmode": "overlay",
             "size": 10,
             "solidity": 0.2
            },
            "type": "scatter"
           }
          ],
          "scatter3d": [
           {
            "line": {
             "colorbar": {
              "outlinewidth": 0,
              "ticks": ""
             }
            },
            "marker": {
             "colorbar": {
              "outlinewidth": 0,
              "ticks": ""
             }
            },
            "type": "scatter3d"
           }
          ],
          "scattercarpet": [
           {
            "marker": {
             "colorbar": {
              "outlinewidth": 0,
              "ticks": ""
             }
            },
            "type": "scattercarpet"
           }
          ],
          "scattergeo": [
           {
            "marker": {
             "colorbar": {
              "outlinewidth": 0,
              "ticks": ""
             }
            },
            "type": "scattergeo"
           }
          ],
          "scattergl": [
           {
            "marker": {
             "colorbar": {
              "outlinewidth": 0,
              "ticks": ""
             }
            },
            "type": "scattergl"
           }
          ],
          "scattermapbox": [
           {
            "marker": {
             "colorbar": {
              "outlinewidth": 0,
              "ticks": ""
             }
            },
            "type": "scattermapbox"
           }
          ],
          "scatterpolar": [
           {
            "marker": {
             "colorbar": {
              "outlinewidth": 0,
              "ticks": ""
             }
            },
            "type": "scatterpolar"
           }
          ],
          "scatterpolargl": [
           {
            "marker": {
             "colorbar": {
              "outlinewidth": 0,
              "ticks": ""
             }
            },
            "type": "scatterpolargl"
           }
          ],
          "scatterternary": [
           {
            "marker": {
             "colorbar": {
              "outlinewidth": 0,
              "ticks": ""
             }
            },
            "type": "scatterternary"
           }
          ],
          "surface": [
           {
            "colorbar": {
             "outlinewidth": 0,
             "ticks": ""
            },
            "colorscale": [
             [
              0,
              "#0d0887"
             ],
             [
              0.1111111111111111,
              "#46039f"
             ],
             [
              0.2222222222222222,
              "#7201a8"
             ],
             [
              0.3333333333333333,
              "#9c179e"
             ],
             [
              0.4444444444444444,
              "#bd3786"
             ],
             [
              0.5555555555555556,
              "#d8576b"
             ],
             [
              0.6666666666666666,
              "#ed7953"
             ],
             [
              0.7777777777777778,
              "#fb9f3a"
             ],
             [
              0.8888888888888888,
              "#fdca26"
             ],
             [
              1,
              "#f0f921"
             ]
            ],
            "type": "surface"
           }
          ],
          "table": [
           {
            "cells": {
             "fill": {
              "color": "#EBF0F8"
             },
             "line": {
              "color": "white"
             }
            },
            "header": {
             "fill": {
              "color": "#C8D4E3"
             },
             "line": {
              "color": "white"
             }
            },
            "type": "table"
           }
          ]
         },
         "layout": {
          "annotationdefaults": {
           "arrowcolor": "#2a3f5f",
           "arrowhead": 0,
           "arrowwidth": 1
          },
          "autotypenumbers": "strict",
          "coloraxis": {
           "colorbar": {
            "outlinewidth": 0,
            "ticks": ""
           }
          },
          "colorscale": {
           "diverging": [
            [
             0,
             "#8e0152"
            ],
            [
             0.1,
             "#c51b7d"
            ],
            [
             0.2,
             "#de77ae"
            ],
            [
             0.3,
             "#f1b6da"
            ],
            [
             0.4,
             "#fde0ef"
            ],
            [
             0.5,
             "#f7f7f7"
            ],
            [
             0.6,
             "#e6f5d0"
            ],
            [
             0.7,
             "#b8e186"
            ],
            [
             0.8,
             "#7fbc41"
            ],
            [
             0.9,
             "#4d9221"
            ],
            [
             1,
             "#276419"
            ]
           ],
           "sequential": [
            [
             0,
             "#0d0887"
            ],
            [
             0.1111111111111111,
             "#46039f"
            ],
            [
             0.2222222222222222,
             "#7201a8"
            ],
            [
             0.3333333333333333,
             "#9c179e"
            ],
            [
             0.4444444444444444,
             "#bd3786"
            ],
            [
             0.5555555555555556,
             "#d8576b"
            ],
            [
             0.6666666666666666,
             "#ed7953"
            ],
            [
             0.7777777777777778,
             "#fb9f3a"
            ],
            [
             0.8888888888888888,
             "#fdca26"
            ],
            [
             1,
             "#f0f921"
            ]
           ],
           "sequentialminus": [
            [
             0,
             "#0d0887"
            ],
            [
             0.1111111111111111,
             "#46039f"
            ],
            [
             0.2222222222222222,
             "#7201a8"
            ],
            [
             0.3333333333333333,
             "#9c179e"
            ],
            [
             0.4444444444444444,
             "#bd3786"
            ],
            [
             0.5555555555555556,
             "#d8576b"
            ],
            [
             0.6666666666666666,
             "#ed7953"
            ],
            [
             0.7777777777777778,
             "#fb9f3a"
            ],
            [
             0.8888888888888888,
             "#fdca26"
            ],
            [
             1,
             "#f0f921"
            ]
           ]
          },
          "colorway": [
           "#636efa",
           "#EF553B",
           "#00cc96",
           "#ab63fa",
           "#FFA15A",
           "#19d3f3",
           "#FF6692",
           "#B6E880",
           "#FF97FF",
           "#FECB52"
          ],
          "font": {
           "color": "#2a3f5f"
          },
          "geo": {
           "bgcolor": "white",
           "lakecolor": "white",
           "landcolor": "white",
           "showlakes": true,
           "showland": true,
           "subunitcolor": "#C8D4E3"
          },
          "hoverlabel": {
           "align": "left"
          },
          "hovermode": "closest",
          "mapbox": {
           "style": "light"
          },
          "paper_bgcolor": "white",
          "plot_bgcolor": "white",
          "polar": {
           "angularaxis": {
            "gridcolor": "#EBF0F8",
            "linecolor": "#EBF0F8",
            "ticks": ""
           },
           "bgcolor": "white",
           "radialaxis": {
            "gridcolor": "#EBF0F8",
            "linecolor": "#EBF0F8",
            "ticks": ""
           }
          },
          "scene": {
           "xaxis": {
            "backgroundcolor": "white",
            "gridcolor": "#DFE8F3",
            "gridwidth": 2,
            "linecolor": "#EBF0F8",
            "showbackground": true,
            "ticks": "",
            "zerolinecolor": "#EBF0F8"
           },
           "yaxis": {
            "backgroundcolor": "white",
            "gridcolor": "#DFE8F3",
            "gridwidth": 2,
            "linecolor": "#EBF0F8",
            "showbackground": true,
            "ticks": "",
            "zerolinecolor": "#EBF0F8"
           },
           "zaxis": {
            "backgroundcolor": "white",
            "gridcolor": "#DFE8F3",
            "gridwidth": 2,
            "linecolor": "#EBF0F8",
            "showbackground": true,
            "ticks": "",
            "zerolinecolor": "#EBF0F8"
           }
          },
          "shapedefaults": {
           "line": {
            "color": "#2a3f5f"
           }
          },
          "ternary": {
           "aaxis": {
            "gridcolor": "#DFE8F3",
            "linecolor": "#A2B1C6",
            "ticks": ""
           },
           "baxis": {
            "gridcolor": "#DFE8F3",
            "linecolor": "#A2B1C6",
            "ticks": ""
           },
           "bgcolor": "white",
           "caxis": {
            "gridcolor": "#DFE8F3",
            "linecolor": "#A2B1C6",
            "ticks": ""
           }
          },
          "title": {
           "x": 0.05
          },
          "xaxis": {
           "automargin": true,
           "gridcolor": "#EBF0F8",
           "linecolor": "#EBF0F8",
           "ticks": "",
           "title": {
            "standoff": 15
           },
           "zerolinecolor": "#EBF0F8",
           "zerolinewidth": 2
          },
          "yaxis": {
           "automargin": true,
           "gridcolor": "#EBF0F8",
           "linecolor": "#EBF0F8",
           "ticks": "",
           "title": {
            "standoff": 15
           },
           "zerolinecolor": "#EBF0F8",
           "zerolinewidth": 2
          }
         }
        },
        "title": {
         "text": "Total Viewership Hours by Release Season (2023)"
        },
        "width": 800,
        "xaxis": {
         "categoryarray": [
          "Winter",
          "Spring",
          "Summer",
          "Fall"
         ],
         "categoryorder": "array",
         "tickangle": 0,
         "title": {
          "text": "Season"
         }
        },
        "yaxis": {
         "title": {
          "text": "Total Hours Viewed (in billions)"
         }
        }
       }
      },
      "text/html": [
       "<div>                            <div id=\"6341ecd6-7902-4006-81ba-dbac3a21d885\" class=\"plotly-graph-div\" style=\"height:500px; width:800px;\"></div>            <script type=\"text/javascript\">                require([\"plotly\"], function(Plotly) {                    window.PLOTLYENV=window.PLOTLYENV || {};                                    if (document.getElementById(\"6341ecd6-7902-4006-81ba-dbac3a21d885\")) {                    Plotly.newPlot(                        \"6341ecd6-7902-4006-81ba-dbac3a21d885\",                        [{\"marker\":{\"color\":\"orange\"},\"x\":[\"Winter\",\"Spring\",\"Summer\",\"Fall\"],\"y\":[\"66,51,00,00062,28,00,00044,06,00,00042,96,00,00040,25,00,00030,21,00,00025,25,00,00025,15,00,00023,50,00,00023,48,00,00020,55,00,00018,18,00,00017,68,00,00016,30,00,00016,11,00,00015,76,00,00015,02,00,00014,69,00,00014,29,00,00013,93,00,00013,66,00,00013,48,00,00012,44,00,00012,35,00,00012,07,00,00012,05,00,00012,03,00,00011,65,00,00011,36,00,00010,46,00,00010,23,00,00010,17,00,0009,99,00,0009,78,00,0009,51,00,0009,50,00,0009,46,00,0009,22,00,0009,12,00,0009,02,00,0008,60,00,0008,50,00,0008,36,00,0008,21,00,0008,10,00,0007,82,00,0007,82,00,0007,43,00,0007,28,00,0007,22,00,0007,16,00,0007,11,00,0007,10,00,0006,75,00,0006,59,00,0006,53,00,0006,31,00,0006,20,00,0006,18,00,0006,16,00,0006,06,00,0005,96,00,0005,93,00,0005,85,00,0005,67,00,0005,65,00,0005,52,00,0005,44,00,0005,33,00,0005,31,00,0005,28,00,0005,25,00,0005,09,00,0005,08,00,0004,93,00,0004,78,00,0004,71,00,0004,61,00,0004,60,00,0004,39,00,0004,38,00,0004,26,00,0004,25,00,0004,25,00,0004,18,00,0004,11,00,0004,02,00,0003,95,00,0003,95,00,0003,92,00,0003,89,00,0003,87,00,0003,87,00,0003,86,00,0003,82,00,0003,76,00,0003,73,00,0003,66,00,0003,62,00,0003,61,00,0003,58,00,0003,52,00,0003,48,00,0003,46,00,0003,43,00,0003,38,00,0003,38,00,0003,35,00,0003,33,00,0003,32,00,0003,32,00,0003,30,00,0003,21,00,0003,20,00,0003,18,00,0003,16,00,0003,12,00,0003,11,00,0003,06,00,0003,05,00,0002,95,00,0002,95,00,0002,93,00,0002,91,00,0002,86,00,0002,86,00,0002,85,00,0002,84,00,0002,81,00,0002,79,00,0002,79,00,0002,78,00,0002,78,00,0002,77,00,0002,76,00,0002,74,00,0002,73,00,0002,73,00,0002,71,00,0002,70,00,0002,68,00,0002,68,00,0002,67,00,0002,64,00,0002,62,00,0002,62,00,0002,60,00,0002,59,00,0002,57,00,0002,55,00,0002,52,00,0002,51,00,0002,48,00,0002,43,00,0002,42,00,0002,42,00,0002,42,00,0002,41,00,0002,38,00,0002,32,00,0002,31,00,0002,30,00,0002,28,00,0002,27,00,0002,27,00,0002,26,00,0002,26,00,0002,21,00,0002,20,00,0002,19,00,0002,19,00,0002,17,00,0002,17,00,0002,16,00,0002,15,00,0002,11,00,0002,11,00,0002,10,00,0002,08,00,0002,06,00,0002,05,00,0002,04,00,0002,03,00,0002,01,00,0002,00,00,0001,98,00,0001,96,00,0001,96,00,0001,96,00,0001,95,00,0001,93,00,0001,93,00,0001,93,00,0001,93,00,0001,90,00,0001,89,00,0001,88,00,0001,88,00,0001,87,00,0001,85,00,0001,84,00,0001,83,00,0001,83,00,0001,83,00,0001,81,00,0001,81,00,0001,80,00,0001,78,00,0001,78,00,0001,78,00,0001,78,00,0001,76,00,0001,75,00,0001,74,00,0001,74,00,0001,74,00,0001,71,00,0001,69,00,0001,68,00,0001,68,00,0001,68,00,0001,68,00,0001,66,00,0001,66,00,0001,64,00,0001,62,00,0001,62,00,0001,61,00,0001,60,00,0001,60,00,0001,60,00,0001,60,00,0001,59,00,0001,58,00,0001,57,00,0001,56,00,0001,55,00,0001,55,00,0001,53,00,0001,52,00,0001,51,00,0001,46,00,0001,45,00,0001,45,00,0001,44,00,0001,44,00,0001,44,00,0001,41,00,0001,40,00,0001,40,00,0001,39,00,0001,39,00,0001,38,00,0001,37,00,0001,36,00,0001,36,00,0001,36,00,0001,35,00,0001,35,00,0001,34,00,0001,33,00,0001,33,00,0001,32,00,0001,31,00,0001,31,00,0001,30,00,0001,29,00,0001,29,00,0001,29,00,0001,27,00,0001,25,00,0001,24,00,0001,23,00,0001,22,00,0001,21,00,0001,21,00,0001,19,00,0001,19,00,0001,19,00,0001,18,00,0001,17,00,0001,16,00,0001,16,00,0001,15,00,0001,15,00,0001,14,00,0001,14,00,0001,14,00,0001,14,00,0001,14,00,0001,13,00,0001,13,00,0001,12,00,0001,12,00,0001,12,00,0001,11,00,0001,10,00,0001,10,00,0001,09,00,0001,08,00,0001,08,00,0001,08,00,0001,07,00,0001,07,00,0001,05,00,0001,05,00,0001,04,00,0001,04,00,0001,03,00,0001,02,00,0001,02,00,0001,01,00,0001,00,00,00099,00,00098,00,00098,00,00097,00,00097,00,00097,00,00096,00,00095,00,00095,00,00095,00,00095,00,00095,00,00094,00,00094,00,00094,00,00093,00,00092,00,00092,00,00091,00,00091,00,00091,00,00091,00,00091,00,00090,00,00090,00,00090,00,00089,00,00089,00,00089,00,00087,00,00087,00,00086,00,00085,00,00084,00,00084,00,00084,00,00083,00,00083,00,00083,00,00083,00,00082,00,00081,00,00080,00,00080,00,00080,00,00080,00,00080,00,00079,00,00079,00,00079,00,00077,00,00077,00,00077,00,00077,00,00077,00,00076,00,00076,00,00075,00,00074,00,00074,00,00074,00,00074,00,00074,00,00073,00,00073,00,00073,00,00073,00,00073,00,00071,00,00071,00,00070,00,00070,00,00070,00,00070,00,00070,00,00070,00,00069,00,00069,00,00069,00,00069,00,00069,00,00068,00,00068,00,00068,00,00068,00,00067,00,00067,00,00066,00,00065,00,00064,00,00064,00,00064,00,00063,00,00063,00,00062,00,00062,00,00062,00,00061,00,00061,00,00060,00,00060,00,00060,00,00059,00,00059,00,00059,00,00059,00,00059,00,00058,00,00058,00,00058,00,00058,00,00058,00,00057,00,00057,00,00057,00,00056,00,00056,00,00056,00,00056,00,00056,00,00056,00,00055,00,00055,00,00055,00,00055,00,00054,00,00054,00,00054,00,00053,00,00053,00,00053,00,00053,00,00052,00,00052,00,00052,00,00052,00,00052,00,00051,00,00051,00,00051,00,00051,00,00050,00,00050,00,00050,00,00050,00,00050,00,00050,00,00050,00,00049,00,00049,00,00049,00,00049,00,00048,00,00048,00,00048,00,00048,00,00048,00,00047,00,00047,00,00047,00,00047,00,00047,00,00046,00,00046,00,00046,00,00046,00,00046,00,00046,00,00046,00,00046,00,00045,00,00045,00,00045,00,00044,00,00044,00,00044,00,00044,00,00044,00,00044,00,00044,00,00043,00,00043,00,00043,00,00043,00,00043,00,00042,00,00042,00,00041,00,00041,00,00041,00,00040,00,00040,00,00040,00,00040,00,00040,00,00040,00,00039,00,00039,00,00039,00,00039,00,00039,00,00038,00,00038,00,00038,00,00038,00,00037,00,00037,00,00037,00,00037,00,00037,00,00037,00,00037,00,00037,00,00037,00,00037,00,00037,00,00037,00,00037,00,00037,00,00037,00,00037,00,00036,00,00036,00,00036,00,00036,00,00036,00,00035,00,00035,00,00035,00,00035,00,00035,00,00035,00,00034,00,00034,00,00034,00,00034,00,00034,00,00033,00,00033,00,00033,00,00033,00,00033,00,00033,00,00033,00,00033,00,00032,00,00032,00,00032,00,00032,00,00032,00,00031,00,00031,00,00031,00,00031,00,00031,00,00031,00,00031,00,00030,00,00030,00,00030,00,00030,00,00030,00,00030,00,00030,00,00030,00,00030,00,00030,00,00030,00,00030,00,00030,00,00029,00,00029,00,00029,00,00029,00,00029,00,00029,00,00029,00,00029,00,00029,00,00029,00,00029,00,00029,00,00028,00,00028,00,00028,00,00028,00,00028,00,00028,00,00027,00,00027,00,00027,00,00027,00,00027,00,00027,00,00027,00,00027,00,00027,00,00027,00,00027,00,00026,00,00026,00,00026,00,00026,00,00026,00,00026,00,00026,00,00026,00,00025,00,00025,00,00025,00,00025,00,00025,00,00025,00,00025,00,00024,00,00024,00,00024,00,00024,00,00024,00,00024,00,00024,00,00024,00,00023,00,00023,00,00023,00,00023,00,00023,00,00023,00,00023,00,00023,00,00023,00,00023,00,00022,00,00022,00,00022,00,00022,00,00022,00,00022,00,00022,00,00022,00,00022,00,00022,00,00022,00,00021,00,00021,00,00021,00,00021,00,00021,00,00021,00,00021,00,00021,00,00021,00,00021,00,00021,00,00020,00,00020,00,00020,00,00020,00,00020,00,00020,00,00020,00,00020,00,00019,00,00019,00,00019,00,00019,00,00019,00,00019,00,00019,00,00019,00,00019,00,00019,00,00019,00,00019,00,00019,00,00019,00,00019,00,00019,00,00018,00,00018,00,00018,00,00018,00,00018,00,00018,00,00018,00,00018,00,00018,00,00018,00,00018,00,00018,00,00018,00,00018,00,00018,00,00018,00,00018,00,00018,00,00018,00,00018,00,00018,00,00018,00,00017,00,00017,00,00017,00,00017,00,00017,00,00017,00,00017,00,00017,00,00016,00,00016,00,00016,00,00016,00,00016,00,00016,00,00016,00,00016,00,00016,00,00016,00,00015,00,00015,00,00015,00,00015,00,00015,00,00015,00,00015,00,00015,00,00015,00,00015,00,00015,00,00015,00,00015,00,00015,00,00015,00,00015,00,00015,00,00015,00,00015,00,00014,00,00014,00,00014,00,00014,00,00014,00,00014,00,00014,00,00014,00,00014,00,00014,00,00014,00,00014,00,00014,00,00014,00,00014,00,00014,00,00014,00,00014,00,00013,00,00013,00,00013,00,00013,00,00013,00,00013,00,00013,00,00013,00,00013,00,00013,00,00013,00,00013,00,00013,00,00012,00,00012,00,00012,00,00012,00,00012,00,00012,00,00012,00,00012,00,00012,00,00012,00,00012,00,00012,00,00012,00,00012,00,00012,00,00012,00,00012,00,00012,00,00011,00,00011,00,00011,00,00011,00,00011,00,00011,00,00011,00,00011,00,00011,00,00011,00,00011,00,00011,00,00011,00,00011,00,00011,00,00011,00,00011,00,00011,00,00010,00,00010,00,00010,00,00010,00,00010,00,00010,00,00010,00,00010,00,00010,00,00010,00,00010,00,00010,00,00010,00,00010,00,00010,00,00010,00,00010,00,00010,00,00010,00,0009,00,0009,00,0009,00,0009,00,0009,00,0009,00,0009,00,0009,00,0009,00,0009,00,0009,00,0009,00,0009,00,0009,00,0009,00,0009,00,0009,00,0009,00,0009,00,0009,00,0008,00,0008,00,0008,00,0008,00,0008,00,0008,00,0008,00,0008,00,0008,00,0008,00,0008,00,0008,00,0008,00,0008,00,0008,00,0008,00,0008,00,0008,00,0008,00,0008,00,0007,00,0007,00,0007,00,0007,00,0007,00,0007,00,0007,00,0007,00,0007,00,0007,00,0007,00,0007,00,0007,00,0007,00,0007,00,0007,00,0007,00,0007,00,0007,00,0007,00,0007,00,0007,00,0007,00,0007,00,0007,00,0007,00,0007,00,0007,00,0007,00,0007,00,0007,00,0007,00,0006,00,0006,00,0006,00,0006,00,0006,00,0006,00,0006,00,0006,00,0006,00,0006,00,0006,00,0006,00,0006,00,0006,00,0006,00,0006,00,0006,00,0006,00,0006,00,0006,00,0006,00,0006,00,0006,00,0006,00,0006,00,0005,00,0005,00,0005,00,0005,00,0005,00,0005,00,0005,00,0005,00,0005,00,0005,00,0005,00,0005,00,0005,00,0005,00,0005,00,0005,00,0005,00,0005,00,0005,00,0005,00,0005,00,0005,00,0005,00,0005,00,0005,00,0005,00,0005,00,0005,00,0005,00,0005,00,0005,00,0005,00,0005,00,0005,00,0005,00,0004,00,0004,00,0004,00,0004,00,0004,00,0004,00,0004,00,0004,00,0004,00,0004,00,0004,00,0004,00,0004,00,0004,00,0004,00,0004,00,0004,00,0004,00,0004,00,0004,00,0004,00,0004,00,0004,00,0004,00,0004,00,0004,00,0004,00,0004,00,0004,00,0004,00,0004,00,0004,00,0004,00,0004,00,0004,00,0004,00,0004,00,0004,00,0004,00,0004,00,0004,00,0004,00,0004,00,0003,00,0003,00,0003,00,0003,00,0003,00,0003,00,0003,00,0003,00,0003,00,0003,00,0003,00,0003,00,0003,00,0003,00,0003,00,0003,00,0003,00,0003,00,0003,00,0003,00,0003,00,0003,00,0003,00,0003,00,0003,00,0003,00,0003,00,0003,00,0003,00,0003,00,0003,00,0003,00,0003,00,0003,00,0003,00,0002,00,0002,00,0002,00,0002,00,0002,00,0002,00,0002,00,0002,00,0002,00,0002,00,0002,00,0002,00,0002,00,0002,00,0002,00,0002,00,0002,00,0002,00,0002,00,0002,00,0002,00,0002,00,0002,00,0002,00,0002,00,0002,00,0002,00,0002,00,0002,00,0002,00,0002,00,0002,00,0002,00,0002,00,0002,00,0002,00,0002,00,0002,00,0002,00,0002,00,0002,00,0002,00,0002,00,0002,00,0002,00,0002,00,0002,00,0002,00,0002,00,0002,00,0002,00,0001,00,0001,00,0001,00,0001,00,0001,00,0001,00,0001,00,0001,00,0001,00,0001,00,0001,00,0001,00,0001,00,0001,00,0001,00,0001,00,0001,00,0001,00,0001,00,0001,00,0001,00,0001,00,0001,00,0001,00,0001,00,0001,00,0001,00,0001,00,0001,00,0001,00,0001,00,0001,00,0001,00,0001,00,0001,00,0001,00,0001,00,0001,00,0001,00,0001,00,0001,00,0001,00,0001,00,0001,00,0001,00,0001,00,0001,00,0001,00,0001,00,0001,00,0001,00,0001,00,0001,00,0001,00,0001,00,0001,00,0001,00,0001,00,0001,00,0001,00,0001,00,0001,00,0001,00,0001,00,0001,00,0001,00,0001,00,0001,00,0001,00,0001,00,0001,00,0001,00,0001,00,0001,00,0001,00,0001,00,0001,00,0001,00,0001,00,0001,00,0001,00,00025,43,00,0007,39,00,0008,99,00,0006,92,00,00011,86,00,0005,83,00,0003,74,00,00010,40,00,0006,25,00,0006,61,00,0004,43,00,0005,26,00,0007,43,00,0007,30,00,0009,34,00,0006,97,00,0007,26,00,0005,20,00,00010,45,00,0005,93,00,0002,01,00,0002,64,00,0005,03,00,00084,00,0006,45,00,0005,98,00,0006,47,00,0005,94,00,0006,62,00,0002,35,00,0002,26,00,0003,32,00,0002,30,00,0003,58,00,0001,60,00,0002,47,00,0001,91,00,0006,97,00,0004,17,00,0004,95,00,00063,00,0001,78,00,0003,72,00,0003,18,00,0001,09,00,0002,93,00,0002,79,00,00011,13,00,0002,86,00,0001,82,00,0003,15,00,0004,28,00,0006,69,00,0004,82,00,0002,92,00,00092,00,0002,79,00,0002,53,00,0001,49,00,0001,42,00,0002,13,00,0004,01,00,0002,20,00,0002,06,00,0001,82,00,0002,61,00,0002,90,00,0001,16,00,0003,01,00,0001,96,00,0001,80,00,0001,31,00,0003,75,00,0003,17,00,0003,08,00,0002,26,00,0005,06,00,0003,13,00,0002,23,00,0002,70,00,0002,49,00,0001,55,00,0002,77,00,0001,59,00,00061,00,0001,58,00,00035,00,0001,45,00,0001,34,00,0001,07,00,0002,29,00,00078,00,00074,00,00015,00,0002,67,00,0002,42,00,0001,80,00,0001,31,00,0001,22,00,0001,08,00,00095,00,0003,50,00,0002,40,00,0002,40,00,0002,20,00,0001,79,00,0001,57,00,0001,30,00,0001,13,00,00088,00,00075,00,0002,55,00,0001,21,00,00089,00,00060,00,00037,00,00031,00,0002,40,00,0002,10,00,0001,84,00,0001,32,00,0002,68,00,0002,49,00,0002,21,00,0001,89,00,0001,58,00,0001,52,00,0001,18,00,0001,14,00,0001,08,00,00057,00,00046,00,0008,00,0002,64,00,0002,27,00,0001,87,00,0001,57,00,0001,39,00,0001,23,00,0001,15,00,00029,00,0001,91,00,0001,01,00,00052,00,00021,00,0009,00,0005,67,00,00099,00,00084,00,00074,00,00072,00,00042,00,00019,00,0002,20,00,0002,09,00,0002,05,00,0001,94,00,0001,82,00,0001,34,00,0001,31,00,0001,22,00,0001,11,00,0001,10,00,0001,05,00,0001,03,00,00089,00,0003,40,00,0002,71,00,0001,94,00,0001,87,00,0001,76,00,0001,69,00,0001,09,00,0001,05,00,00096,00,00096,00,00085,00,00070,00,0003,54,00,0001,35,00,0001,16,00,0001,15,00,00082,00,00069,00,00053,00,0002,72,00,0002,13,00,0001,69,00,0001,41,00,00086,00,00084,00,00055,00,00044,00,0003,11,00,0002,38,00,0001,69,00,0001,60,00,0001,35,00,00093,00,00084,00,00074,00,00068,00,00067,00,00062,00,00055,00,00052,00,00013,00,0006,93,00,0001,37,00,0001,19,00,0001,12,00,00070,00,00057,00,00044,00,00040,00,00018,00,0002,19,00,0001,93,00,0001,52,00,0001,32,00,0001,10,00,0001,09,00,0001,08,00,00095,00,00094,00,00092,00,00067,00,00061,00,00061,00,00057,00,00056,00,00054,00,00046,00,00042,00,00039,00,00030,00,00030,00,00023,00,0002,49,00,0002,47,00,0001,62,00,0001,20,00,0001,05,00,00088,00,00082,00,00079,00,00070,00,00069,00,00061,00,00057,00,00053,00,00050,00,00040,00,00039,00,00038,00,00032,00,0001,55,00,0001,09,00,00094,00,00089,00,00085,00,00078,00,00076,00,00072,00,00070,00,00069,00,00069,00,00065,00,00060,00,00060,00,00046,00,00042,00,00036,00,00028,00,00014,00,0007,54,00,0001,70,00,0001,63,00,0001,38,00,0001,28,00,0001,20,00,0001,03,00,00097,00,00096,00,00084,00,00079,00,00079,00,00069,00,00067,00,00063,00,00063,00,00061,00,00059,00,00058,00,00053,00,00051,00,00050,00,00049,00,00045,00,00042,00,00040,00,00037,00,00036,00,00033,00,00031,00,00027,00,00090,00,00086,00,00085,00,00068,00,00066,00,00062,00,00061,00,00058,00,00055,00,00055,00,00054,00,00053,00,00053,00,00052,00,00047,00,00047,00,00044,00,00041,00,00036,00,00027,00,00022,00,00018,00,00012,00,00012,00,00010,00,0001,74,00,0001,47,00,00086,00,00069,00,00061,00,00060,00,00060,00,00056,00,00055,00,00053,00,00052,00,00047,00,00046,00,00044,00,00042,00,00037,00,00035,00,00032,00,00027,00,00027,00,00011,00,00010,00,0005,00,00079,00,00073,00,00066,00,00066,00,00053,00,00053,00,00052,00,00049,00,00049,00,00048,00,00047,00,00043,00,00043,00,00042,00,00041,00,00040,00,00035,00,00033,00,00031,00,00027,00,00027,00,00025,00,00023,00,00023,00,00021,00,00020,00,00017,00,00013,00,00012,00,00012,00,00012,00,00011,00,0004,00,0004,00,0001,65,00,0001,27,00,0001,00,00,00091,00,00074,00,00068,00,00059,00,00055,00,00044,00,00044,00,00043,00,00034,00,00031,00,00024,00,00024,00,00024,00,00018,00,00016,00,0007,00,0007,00,0001,21,00,00061,00,00050,00,00046,00,00042,00,00039,00,00036,00,00035,00,00035,00,00033,00,00033,00,00033,00,00031,00,00030,00,00029,00,00027,00,00027,00,00027,00,00027,00,00026,00,00024,00,00024,00,00021,00,00019,00,00015,00,00014,00,00012,00,00012,00,00011,00,0008,00,0007,00,0007,00,0006,00,0002,65,00,0001,14,00,00093,00,00087,00,00050,00,00044,00,00042,00,00041,00,00036,00,00036,00,00035,00,00035,00,00030,00,00029,00,00028,00,00028,00,00028,00,00026,00,00025,00,00024,00,00024,00,00024,00,00024,00,00023,00,00022,00,00021,00,00020,00,00020,00,00017,00,00017,00,00017,00,00016,00,00014,00,00014,00,00013,00,00013,00,00012,00,00011,00,00011,00,0005,00,0003,00,00074,00,00063,00,00061,00,00046,00,00045,00,00032,00,00032,00,00024,00,00023,00,00023,00,00023,00,00023,00,00022,00,00022,00,00022,00,00022,00,00021,00,00021,00,00020,00,00019,00,00018,00,00018,00,00017,00,00016,00,00015,00,00014,00,00014,00,00013,00,00012,00,00012,00,00011,00,00011,00,00011,00,00011,00,00010,00,0009,00,0009,00,0005,00,0005,00,0004,00,0004,00,0004,00,0004,00,0003,00,0001,00,00056,00,00047,00,00036,00,00034,00,00029,00,00027,00,00025,00,00023,00,00023,00,00022,00,00022,00,00020,00,00020,00,00019,00,00018,00,00018,00,00018,00,00017,00,00017,00,00017,00,00016,00,00016,00,00016,00,00015,00,00015,00,00015,00,00015,00,00013,00,00013,00,00012,00,00012,00,00012,00,00011,00,00011,00,00011,00,00011,00,00010,00,0009,00,0009,00,0009,00,0009,00,0009,00,0008,00,0008,00,0006,00,0006,00,0006,00,0004,00,0004,00,0003,00,0003,00,00064,00,00035,00,00032,00,00024,00,00024,00,00023,00,00020,00,00019,00,00017,00,00015,00,00015,00,00015,00,00015,00,00014,00,00014,00,00013,00,00013,00,00013,00,00013,00,00012,00,00012,00,00012,00,00012,00,00012,00,00011,00,00011,00,00011,00,00011,00,00011,00,00010,00,00010,00,00010,00,00010,00,00010,00,00010,00,00010,00,0009,00,0009,00,0009,00,0009,00,0009,00,0009,00,0009,00,0008,00,0008,00,0008,00,0008,00,0008,00,0008,00,0007,00,0007,00,0007,00,0007,00,0007,00,0007,00,0007,00,0007,00,0006,00,0006,00,0006,00,0006,00,0006,00,0005,00,0005,00,0005,00,0005,00,0005,00,0005,00,0005,00,0004,00,0004,00,0004,00,0003,00,0003,00,0002,00,0002,00,0002,00,0002,00,0002,00,0002,00,0002,00,0002,00,0002,00,0002,00,0002,00,0002,00,0002,00,0001,00,0001,00,0001,00,0001,00,00034,00,00016,00,00015,00,00013,00,00011,00,00010,00,00010,00,0009,00,0009,00,0008,00,0007,00,0007,00,0007,00,0007,00,0007,00,0006,00,0006,00,0006,00,0006,00,0006,00,0006,00,0006,00,0006,00,0006,00,0005,00,0005,00,0005,00,0005,00,0005,00,0005,00,0005,00,0005,00,0005,00,0005,00,0005,00,0005,00,0005,00,0005,00,0004,00,0004,00,0004,00,0004,00,0004,00,0004,00,0004,00,0004,00,0004,00,0004,00,0004,00,0004,00,0004,00,0004,00,0004,00,0004,00,0003,00,0003,00,0003,00,0003,00,0003,00,0003,00,0003,00,0003,00,0003,00,0003,00,0003,00,0003,00,0003,00,0002,00,0002,00,0002,00,0002,00,0002,00,0002,00,0002,00,0002,00,0002,00,0002,00,0002,00,0001,00,0001,00,0001,00,0001,00,0001,00,0001,00,0001,00,0001,00,0001,00,0001,00,0001,00,0001,00,0001,00,0001,00,0001,00,0001,00,0001,00,0001,00,0001,00,0001,00,0001,00,0001,00,0001,00,0001,00,0001,00,0001,00,0001,00,0001,00,0001,00,0001,00,000\",\"81,21,00,00050,30,00,00026,62,00,00024,99,00,00022,97,00,00022,11,00,00021,41,00,00020,97,00,00020,65,00,00020,07,00,00019,47,00,00019,29,00,00018,40,00,00018,23,00,00017,55,00,00017,43,00,00017,36,00,00014,86,00,00014,01,00,00013,62,00,00013,36,00,00013,35,00,00013,34,00,00012,00,00,00011,89,00,00011,86,00,00011,58,00,00010,45,00,0009,95,00,0009,76,00,0009,43,00,0009,42,00,0009,29,00,0009,23,00,0009,14,00,0008,61,00,0008,46,00,0008,32,00,0008,28,00,0008,08,00,0007,97,00,0007,78,00,0007,57,00,0007,28,00,0006,95,00,0006,85,00,0006,65,00,0006,52,00,0006,39,00,0006,10,00,0006,01,00,0005,75,00,0005,66,00,0005,55,00,0005,38,00,0005,35,00,0005,33,00,0005,30,00,0005,22,00,0005,18,00,0005,17,00,0005,16,00,0005,16,00,0005,06,00,0004,97,00,0004,92,00,0004,83,00,0004,79,00,0004,63,00,0004,58,00,0004,56,00,0004,53,00,0004,40,00,0004,38,00,0004,29,00,0004,27,00,0004,17,00,0004,13,00,0004,12,00,0004,10,00,0004,02,00,0004,02,00,0004,01,00,0003,99,00,0003,97,00,0003,97,00,0003,94,00,0003,83,00,0003,81,00,0003,71,00,0003,71,00,0003,69,00,0003,66,00,0003,63,00,0003,62,00,0003,62,00,0003,57,00,0003,55,00,0003,53,00,0003,50,00,0003,42,00,0003,39,00,0003,34,00,0003,17,00,0003,15,00,0003,13,00,0003,09,00,0003,08,00,0003,06,00,0003,04,00,0003,03,00,0003,03,00,0003,01,00,0003,01,00,0003,01,00,0003,01,00,0002,98,00,0002,97,00,0002,94,00,0002,90,00,0002,86,00,0002,86,00,0002,84,00,0002,79,00,0002,78,00,0002,73,00,0002,73,00,0002,71,00,0002,65,00,0002,62,00,0002,61,00,0002,49,00,0002,45,00,0002,44,00,0002,44,00,0002,42,00,0002,40,00,0002,40,00,0002,37,00,0002,37,00,0002,36,00,0002,35,00,0002,33,00,0002,32,00,0002,31,00,0002,30,00,0002,27,00,0002,27,00,0002,24,00,0002,24,00,0002,21,00,0002,19,00,0002,18,00,0002,17,00,0002,17,00,0002,11,00,0002,10,00,0002,10,00,0002,10,00,0002,08,00,0002,06,00,0002,03,00,0002,02,00,0002,01,00,0002,00,00,0002,00,00,0001,99,00,0001,98,00,0001,98,00,0001,97,00,0001,97,00,0001,95,00,0001,93,00,0001,91,00,0001,86,00,0001,84,00,0001,84,00,0001,81,00,0001,77,00,0001,76,00,0001,76,00,0001,76,00,0001,75,00,0001,75,00,0001,74,00,0001,74,00,0001,68,00,0001,66,00,0001,66,00,0001,65,00,0001,65,00,0001,65,00,0001,64,00,0001,60,00,0001,60,00,0001,59,00,0001,58,00,0001,57,00,0001,57,00,0001,54,00,0001,52,00,0001,50,00,0001,50,00,0001,49,00,0001,47,00,0001,46,00,0001,46,00,0001,45,00,0001,44,00,0001,42,00,0001,41,00,0001,40,00,0001,39,00,0001,37,00,0001,37,00,0001,37,00,0001,37,00,0001,36,00,0001,36,00,0001,36,00,0001,36,00,0001,35,00,0001,35,00,0001,33,00,0001,30,00,0001,30,00,0001,29,00,0001,29,00,0001,28,00,0001,28,00,0001,26,00,0001,26,00,0001,25,00,0001,24,00,0001,24,00,0001,23,00,0001,23,00,0001,22,00,0001,22,00,0001,20,00,0001,19,00,0001,19,00,0001,19,00,0001,18,00,0001,18,00,0001,18,00,0001,17,00,0001,17,00,0001,15,00,0001,15,00,0001,15,00,0001,14,00,0001,13,00,0001,12,00,0001,12,00,0001,11,00,0001,10,00,0001,10,00,0001,10,00,0001,10,00,0001,10,00,0001,10,00,0001,09,00,0001,08,00,0001,08,00,0001,07,00,0001,07,00,0001,07,00,0001,07,00,0001,07,00,0001,06,00,0001,06,00,0001,05,00,0001,05,00,0001,05,00,0001,05,00,0001,05,00,0001,04,00,0001,03,00,0001,02,00,0001,02,00,0001,02,00,0001,02,00,0001,01,00,0001,01,00,0001,01,00,0001,01,00,0001,00,00,0001,00,00,0001,00,00,00099,00,00099,00,00098,00,00097,00,00097,00,00097,00,00096,00,00096,00,00096,00,00095,00,00095,00,00095,00,00095,00,00094,00,00094,00,00094,00,00094,00,00093,00,00093,00,00093,00,00093,00,00092,00,00092,00,00092,00,00092,00,00092,00,00092,00,00092,00,00092,00,00092,00,00091,00,00091,00,00091,00,00090,00,00089,00,00089,00,00089,00,00088,00,00088,00,00087,00,00087,00,00087,00,00087,00,00087,00,00086,00,00086,00,00086,00,00085,00,00085,00,00085,00,00084,00,00083,00,00082,00,00082,00,00082,00,00082,00,00082,00,00082,00,00082,00,00082,00,00081,00,00081,00,00081,00,00080,00,00080,00,00079,00,00079,00,00079,00,00079,00,00078,00,00078,00,00078,00,00078,00,00078,00,00078,00,00077,00,00077,00,00077,00,00076,00,00076,00,00076,00,00075,00,00075,00,00075,00,00075,00,00075,00,00074,00,00074,00,00074,00,00074,00,00074,00,00073,00,00073,00,00073,00,00072,00,00072,00,00072,00,00072,00,00071,00,00071,00,00071,00,00071,00,00070,00,00070,00,00070,00,00070,00,00068,00,00068,00,00068,00,00068,00,00068,00,00067,00,00067,00,00067,00,00067,00,00067,00,00066,00,00066,00,00066,00,00066,00,00065,00,00065,00,00065,00,00065,00,00065,00,00065,00,00064,00,00064,00,00064,00,00064,00,00064,00,00064,00,00064,00,00064,00,00063,00,00063,00,00062,00,00062,00,00062,00,00062,00,00061,00,00061,00,00061,00,00061,00,00060,00,00060,00,00060,00,00060,00,00059,00,00059,00,00059,00,00059,00,00059,00,00059,00,00058,00,00058,00,00058,00,00058,00,00058,00,00058,00,00058,00,00057,00,00057,00,00056,00,00056,00,00056,00,00055,00,00055,00,00055,00,00055,00,00055,00,00055,00,00054,00,00054,00,00054,00,00054,00,00053,00,00053,00,00053,00,00053,00,00052,00,00052,00,00052,00,00052,00,00052,00,00052,00,00052,00,00052,00,00051,00,00051,00,00051,00,00051,00,00051,00,00050,00,00050,00,00050,00,00049,00,00049,00,00049,00,00049,00,00049,00,00049,00,00049,00,00049,00,00049,00,00049,00,00048,00,00048,00,00048,00,00048,00,00048,00,00048,00,00048,00,00048,00,00047,00,00047,00,00047,00,00047,00,00046,00,00046,00,00046,00,00046,00,00045,00,00045,00,00045,00,00045,00,00044,00,00044,00,00043,00,00043,00,00043,00,00043,00,00043,00,00043,00,00043,00,00042,00,00042,00,00042,00,00042,00,00042,00,00042,00,00042,00,00042,00,00041,00,00041,00,00041,00,00041,00,00041,00,00041,00,00041,00,00041,00,00040,00,00040,00,00040,00,00040,00,00040,00,00040,00,00039,00,00039,00,00039,00,00039,00,00038,00,00038,00,00038,00,00038,00,00038,00,00038,00,00038,00,00038,00,00038,00,00037,00,00037,00,00037,00,00036,00,00036,00,00036,00,00036,00,00036,00,00035,00,00035,00,00035,00,00035,00,00035,00,00035,00,00035,00,00035,00,00035,00,00035,00,00035,00,00035,00,00034,00,00034,00,00034,00,00034,00,00033,00,00033,00,00033,00,00033,00,00033,00,00032,00,00032,00,00032,00,00032,00,00032,00,00032,00,00032,00,00032,00,00031,00,00031,00,00031,00,00031,00,00031,00,00031,00,00031,00,00030,00,00030,00,00030,00,00030,00,00030,00,00030,00,00030,00,00030,00,00030,00,00030,00,00030,00,00030,00,00029,00,00029,00,00029,00,00029,00,00029,00,00029,00,00029,00,00029,00,00029,00,00029,00,00028,00,00028,00,00028,00,00028,00,00028,00,00028,00,00028,00,00028,00,00027,00,00027,00,00027,00,00027,00,00027,00,00027,00,00027,00,00027,00,00027,00,00026,00,00026,00,00026,00,00026,00,00026,00,00026,00,00026,00,00025,00,00025,00,00025,00,00025,00,00025,00,00025,00,00024,00,00024,00,00024,00,00024,00,00024,00,00024,00,00024,00,00024,00,00024,00,00024,00,00024,00,00024,00,00024,00,00023,00,00023,00,00023,00,00023,00,00023,00,00023,00,00023,00,00023,00,00023,00,00023,00,00023,00,00023,00,00023,00,00022,00,00022,00,00022,00,00022,00,00022,00,00022,00,00022,00,00022,00,00022,00,00022,00,00022,00,00021,00,00021,00,00021,00,00021,00,00021,00,00021,00,00021,00,00021,00,00021,00,00021,00,00021,00,00021,00,00021,00,00021,00,00020,00,00020,00,00020,00,00020,00,00020,00,00020,00,00020,00,00020,00,00020,00,00020,00,00020,00,00020,00,00020,00,00020,00,00020,00,00020,00,00020,00,00020,00,00020,00,00019,00,00019,00,00019,00,00019,00,00019,00,00019,00,00019,00,00019,00,00019,00,00019,00,00019,00,00019,00,00019,00,00019,00,00018,00,00018,00,00018,00,00018,00,00018,00,00018,00,00018,00,00018,00,00018,00,00018,00,00018,00,00018,00,00018,00,00018,00,00018,00,00018,00,00018,00,00017,00,00017,00,00017,00,00017,00,00017,00,00017,00,00017,00,00017,00,00017,00,00017,00,00017,00,00017,00,00017,00,00017,00,00016,00,00016,00,00016,00,00016,00,00016,00,00016,00,00016,00,00016,00,00016,00,00016,00,00016,00,00016,00,00016,00,00015,00,00015,00,00015,00,00015,00,00015,00,00015,00,00015,00,00015,00,00015,00,00015,00,00015,00,00015,00,00015,00,00014,00,00014,00,00014,00,00014,00,00014,00,00014,00,00014,00,00014,00,00014,00,00014,00,00014,00,00014,00,00013,00,00013,00,00013,00,00013,00,00013,00,00013,00,00013,00,00013,00,00013,00,00013,00,00013,00,00013,00,00013,00,00013,00,00013,00,00013,00,00013,00,00013,00,00013,00,00013,00,00012,00,00012,00,00012,00,00012,00,00012,00,00012,00,00012,00,00012,00,00012,00,00012,00,00012,00,00012,00,00012,00,00012,00,00012,00,00011,00,00011,00,00011,00,00011,00,00011,00,00011,00,00011,00,00011,00,00011,00,00011,00,00011,00,00011,00,00011,00,00011,00,00011,00,00011,00,00011,00,00011,00,00011,00,00011,00,00011,00,00010,00,00010,00,00010,00,00010,00,00010,00,00010,00,00010,00,00010,00,00010,00,00010,00,00010,00,00010,00,00010,00,00010,00,00010,00,00010,00,00010,00,00010,00,00010,00,00010,00,00010,00,00010,00,00010,00,0009,00,0009,00,0009,00,0009,00,0009,00,0009,00,0009,00,0009,00,0009,00,0009,00,0009,00,0009,00,0009,00,0009,00,0009,00,0009,00,0009,00,0009,00,0009,00,0009,00,0009,00,0009,00,0009,00,0009,00,0009,00,0008,00,0008,00,0008,00,0008,00,0008,00,0008,00,0008,00,0008,00,0008,00,0008,00,0008,00,0008,00,0008,00,0008,00,0008,00,0008,00,0008,00,0008,00,0008,00,0008,00,0008,00,0008,00,0008,00,0007,00,0007,00,0007,00,0007,00,0007,00,0007,00,0007,00,0007,00,0007,00,0007,00,0007,00,0007,00,0007,00,0007,00,0007,00,0007,00,0007,00,0007,00,0007,00,0007,00,0007,00,0006,00,0006,00,0006,00,0006,00,0006,00,0006,00,0006,00,0006,00,0006,00,0006,00,0006,00,0006,00,0006,00,0006,00,0006,00,0006,00,0006,00,0006,00,0006,00,0006,00,0006,00,0006,00,0006,00,0006,00,0006,00,0006,00,0006,00,0005,00,0005,00,0005,00,0005,00,0005,00,0005,00,0005,00,0005,00,0005,00,0005,00,0005,00,0005,00,0005,00,0005,00,0005,00,0005,00,0005,00,0005,00,0005,00,0005,00,0005,00,0005,00,0005,00,0005,00,0005,00,0005,00,0005,00,0005,00,0005,00,0005,00,0004,00,0004,00,0004,00,0004,00,0004,00,0004,00,0004,00,0004,00,0004,00,0004,00,0004,00,0004,00,0004,00,0004,00,0004,00,0004,00,0004,00,0004,00,0004,00,0004,00,0004,00,0004,00,0004,00,0004,00,0004,00,0004,00,0004,00,0004,00,0004,00,0004,00,0004,00,0004,00,0004,00,0003,00,0003,00,0003,00,0003,00,0003,00,0003,00,0003,00,0003,00,0003,00,0003,00,0003,00,0003,00,0003,00,0003,00,0003,00,0003,00,0003,00,0003,00,0003,00,0003,00,0003,00,0003,00,0003,00,0003,00,0003,00,0003,00,0003,00,0003,00,0003,00,0003,00,0003,00,0003,00,0003,00,0002,00,0002,00,0002,00,0002,00,0002,00,0002,00,0002,00,0002,00,0002,00,0002,00,0002,00,0002,00,0002,00,0002,00,0002,00,0002,00,0002,00,0002,00,0002,00,0002,00,0002,00,0002,00,0002,00,0002,00,0002,00,0002,00,0002,00,0002,00,0002,00,0002,00,0002,00,0002,00,0002,00,0002,00,0002,00,0002,00,0002,00,0002,00,0002,00,0002,00,0002,00,0002,00,0002,00,0002,00,0002,00,0002,00,0002,00,0002,00,0002,00,0002,00,0001,00,0001,00,0001,00,0001,00,0001,00,0001,00,0001,00,0001,00,0001,00,0001,00,0001,00,0001,00,0001,00,0001,00,0001,00,0001,00,0001,00,0001,00,0001,00,0001,00,0001,00,0001,00,0001,00,0001,00,0001,00,0001,00,0001,00,0001,00,0001,00,0001,00,0001,00,0001,00,0001,00,0001,00,0001,00,0001,00,0001,00,0001,00,0001,00,0001,00,0001,00,0001,00,0001,00,0001,00,0001,00,0001,00,0001,00,0001,00,0001,00,0001,00,0001,00,0001,00,0001,00,0001,00,0001,00,0001,00,0001,00,0001,00,0001,00,0001,00,0001,00,0001,00,0001,00,0001,00,0001,00,0001,00,0001,00,0001,00,0001,00,0001,00,0001,00,0001,00,0004,01,00,0009,71,00,0006,69,00,00017,08,00,00015,55,00,0003,80,00,0007,76,00,0005,53,00,0007,21,00,0005,65,00,0002,69,00,0006,37,00,0004,43,00,0002,98,00,0009,71,00,0001,67,00,0005,76,00,0004,03,00,0002,32,00,0001,82,00,0005,78,00,0004,29,00,0002,87,00,0003,54,00,0003,29,00,0004,69,00,0001,44,00,0002,83,00,0001,45,00,00040,00,0003,48,00,0002,40,00,0002,40,00,0001,81,00,0003,69,00,0003,25,00,0001,96,00,0003,17,00,0002,79,00,0003,79,00,0001,99,00,0002,28,00,0002,23,00,00088,00,0002,99,00,0002,64,00,0001,85,00,0001,76,00,00012,00,0005,94,00,0001,88,00,00087,00,0005,92,00,0003,74,00,0003,29,00,00065,00,0001,96,00,0001,92,00,0005,21,00,0001,54,00,0001,10,00,0001,09,00,0001,01,00,00055,00,0002,25,00,0001,92,00,0001,60,00,0003,76,00,0002,64,00,0001,77,00,0001,65,00,00078,00,0002,88,00,0002,03,00,0001,80,00,0001,63,00,0001,43,00,00073,00,00033,00,00028,00,0004,40,00,0001,83,00,0001,45,00,0001,04,00,0002,34,00,0001,65,00,0001,36,00,00048,00,00030,00,0002,08,00,0001,87,00,0001,35,00,0002,47,00,0001,59,00,0001,02,00,00098,00,00091,00,0002,37,00,0001,18,00,0001,06,00,00076,00,00025,00,0003,47,00,0003,11,00,0002,88,00,0001,93,00,0001,16,00,0001,03,00,00073,00,00032,00,0002,15,00,0002,09,00,0001,12,00,0001,06,00,00096,00,00081,00,00072,00,00064,00,0001,79,00,0001,57,00,0001,36,00,0001,23,00,0001,13,00,00088,00,00069,00,00053,00,00033,00,0001,13,00,0001,05,00,00099,00,00092,00,00091,00,00048,00,00026,00,00021,00,0002,14,00,0001,66,00,0001,65,00,0001,32,00,0001,27,00,0001,12,00,0001,05,00,00095,00,00091,00,00086,00,00074,00,00060,00,00055,00,00042,00,0001,31,00,0001,10,00,00096,00,00091,00,00087,00,00083,00,00065,00,00060,00,00055,00,00045,00,00045,00,0002,85,00,0001,85,00,0001,58,00,0001,12,00,00087,00,00079,00,00074,00,00060,00,00041,00,00031,00,00022,00,00019,00,0001,52,00,0001,51,00,0001,46,00,0001,36,00,0001,01,00,00070,00,00066,00,00064,00,00047,00,00045,00,00020,00,0003,18,00,0002,43,00,0001,15,00,0001,06,00,00076,00,00073,00,00065,00,00054,00,00047,00,00045,00,00039,00,00037,00,00016,00,00016,00,0001,88,00,0001,87,00,0001,33,00,0001,28,00,0001,17,00,0001,14,00,00084,00,00081,00,00072,00,00067,00,00054,00,00052,00,00036,00,00018,00,0001,09,00,0001,01,00,00092,00,00092,00,00082,00,00081,00,00079,00,00074,00,00060,00,00055,00,00051,00,00050,00,00049,00,00042,00,00041,00,0002,22,00,0001,21,00,0001,01,00,00098,00,00096,00,00084,00,00073,00,00072,00,00057,00,00054,00,00036,00,00017,00,00013,00,0001,47,00,0001,10,00,0001,09,00,0001,00,00,00088,00,00084,00,00072,00,00070,00,00062,00,00059,00,00058,00,00058,00,00057,00,00057,00,00057,00,00055,00,00055,00,00054,00,00049,00,00041,00,00026,00,00022,00,0005,00,0001,03,00,00091,00,00081,00,00080,00,00078,00,00072,00,00072,00,00068,00,00066,00,00054,00,00053,00,00052,00,00051,00,00051,00,00048,00,00046,00,00033,00,00025,00,0001,47,00,0001,04,00,0001,02,00,00075,00,00074,00,00073,00,00072,00,00072,00,00060,00,00060,00,00051,00,00050,00,00048,00,00044,00,00043,00,00041,00,00030,00,00029,00,00025,00,00017,00,00010,00,0009,00,0001,03,00,00082,00,00078,00,00066,00,00064,00,00061,00,00058,00,00050,00,00048,00,00045,00,00045,00,00044,00,00043,00,00041,00,00036,00,00035,00,00034,00,00033,00,00030,00,00028,00,00024,00,00020,00,0009,00,0009,00,0009,00,0001,50,00,0001,34,00,0001,28,00,0001,06,00,00078,00,00067,00,00062,00,00060,00,00052,00,00049,00,00047,00,00047,00,00047,00,00045,00,00044,00,00043,00,00039,00,00038,00,00037,00,00035,00,00034,00,00032,00,00029,00,00028,00,00026,00,00026,00,00023,00,00022,00,00020,00,00019,00,0002,21,00,0001,47,00,0001,20,00,0001,00,00,00075,00,00065,00,00061,00,00050,00,00047,00,00044,00,00044,00,00042,00,00040,00,00039,00,00039,00,00039,00,00037,00,00035,00,00035,00,00035,00,00034,00,00034,00,00033,00,00031,00,00031,00,00031,00,00029,00,00029,00,00029,00,00028,00,00023,00,00021,00,00020,00,00020,00,00019,00,00017,00,00013,00,00013,00,0008,00,0002,66,00,0001,42,00,0001,21,00,0001,14,00,00091,00,00070,00,00062,00,00043,00,00041,00,00040,00,00040,00,00038,00,00037,00,00036,00,00034,00,00034,00,00034,00,00034,00,00033,00,00029,00,00029,00,00026,00,00024,00,00024,00,00021,00,00021,00,00020,00,00020,00,00020,00,00018,00,00017,00,00016,00,00015,00,00014,00,00010,00,0006,00,0006,00,0006,00,00061,00,00055,00,00052,00,00050,00,00044,00,00041,00,00040,00,00038,00,00037,00,00034,00,00034,00,00033,00,00032,00,00030,00,00029,00,00028,00,00028,00,00028,00,00027,00,00027,00,00025,00,00025,00,00024,00,00023,00,00023,00,00022,00,00022,00,00022,00,00022,00,00021,00,00018,00,00018,00,00017,00,00016,00,00016,00,00016,00,00015,00,00014,00,00013,00,00013,00,0009,00,0008,00,0008,00,0007,00,0005,00,00066,00,00049,00,00046,00,00030,00,00030,00,00027,00,00026,00,00026,00,00025,00,00024,00,00024,00,00023,00,00023,00,00023,00,00023,00,00022,00,00021,00,00019,00,00018,00,00018,00,00017,00,00017,00,00014,00,00014,00,00013,00,00012,00,00012,00,00011,00,00010,00,0008,00,0007,00,0007,00,0004,00,0004,00,0003,00,00054,00,00049,00,00026,00,00023,00,00023,00,00022,00,00022,00,00020,00,00019,00,00019,00,00018,00,00018,00,00017,00,00017,00,00017,00,00017,00,00017,00,00017,00,00016,00,00016,00,00016,00,00016,00,00016,00,00015,00,00014,00,00014,00,00014,00,00014,00,00013,00,00012,00,00012,00,00012,00,00011,00,00011,00,00011,00,00011,00,00010,00,0009,00,0009,00,0009,00,0009,00,0009,00,0007,00,0007,00,0007,00,0006,00,0006,00,0006,00,0006,00,0004,00,0003,00,0003,00,0003,00,0003,00,0003,00,0003,00,0003,00,0003,00,00079,00,00043,00,00029,00,00029,00,00020,00,00018,00,00018,00,00014,00,00014,00,00013,00,00013,00,00013,00,00013,00,00013,00,00013,00,00012,00,00012,00,00012,00,00012,00,00012,00,00012,00,00012,00,00012,00,00011,00,00011,00,00011,00,00011,00,00010,00,00010,00,00010,00,00010,00,00010,00,00010,00,0009,00,0009,00,0009,00,0009,00,0009,00,0009,00,0009,00,0009,00,0008,00,0008,00,0008,00,0008,00,0008,00,0008,00,0008,00,0008,00,0007,00,0007,00,0007,00,0007,00,0006,00,0006,00,0006,00,0005,00,0004,00,0004,00,0004,00,0004,00,0003,00,0003,00,0003,00,0003,00,0003,00,0002,00,0002,00,0002,00,0002,00,0002,00,0002,00,0002,00,0002,00,0001,00,0001,00,0001,00,0001,00,00018,00,00010,00,00010,00,00010,00,00010,00,0009,00,0008,00,0007,00,0007,00,0007,00,0007,00,0007,00,0007,00,0007,00,0007,00,0006,00,0006,00,0006,00,0006,00,0006,00,0006,00,0006,00,0006,00,0006,00,0005,00,0005,00,0005,00,0005,00,0005,00,0005,00,0005,00,0005,00,0005,00,0005,00,0005,00,0004,00,0004,00,0004,00,0004,00,0004,00,0004,00,0004,00,0004,00,0004,00,0004,00,0004,00,0004,00,0004,00,0004,00,0004,00,0003,00,0003,00,0003,00,0003,00,0003,00,0003,00,0003,00,0003,00,0003,00,0003,00,0003,00,0003,00,0003,00,0003,00,0003,00,0003,00,0003,00,0003,00,0002,00,0002,00,0002,00,0002,00,0002,00,0002,00,0002,00,0002,00,0002,00,0002,00,0002,00,0001,00,0001,00,0001,00,0001,00,0001,00,0001,00,0001,00,0001,00,0001,00,0001,00,0001,00,0001,00,0001,00,0001,00,0001,00,0001,00,0001,00,0001,00,0001,00,0001,00,0001,00,0001,00,0001,00,0001,00,0001,00,0001,00,0001,00,0001,00,0001,00,0001,00,000\",\"20,18,00,00017,24,00,00016,83,00,00015,53,00,00015,39,00,00015,14,00,00014,67,00,00013,99,00,00013,59,00,00012,64,00,0009,25,00,0008,90,00,0008,79,00,0008,62,00,0008,61,00,0008,44,00,0008,17,00,0007,78,00,0007,52,00,0007,31,00,0006,90,00,0006,70,00,0006,27,00,0006,08,00,0005,99,00,0005,83,00,0005,83,00,0005,67,00,0005,44,00,0005,37,00,0005,25,00,0005,18,00,0004,88,00,0004,59,00,0004,57,00,0004,40,00,0004,29,00,0004,28,00,0004,27,00,0004,26,00,0004,06,00,0004,04,00,0003,91,00,0003,86,00,0003,83,00,0003,80,00,0003,73,00,0003,69,00,0003,66,00,0003,66,00,0003,61,00,0003,60,00,0003,55,00,0003,54,00,0003,52,00,0003,50,00,0003,40,00,0003,37,00,0003,34,00,0003,30,00,0003,28,00,0003,27,00,0003,26,00,0003,24,00,0003,21,00,0003,21,00,0003,19,00,0003,15,00,0003,11,00,0003,01,00,0003,01,00,0003,00,00,0002,97,00,0002,94,00,0002,92,00,0002,92,00,0002,90,00,0002,89,00,0002,87,00,0002,86,00,0002,83,00,0002,81,00,0002,80,00,0002,79,00,0002,76,00,0002,76,00,0002,75,00,0002,74,00,0002,70,00,0002,66,00,0002,66,00,0002,63,00,0002,57,00,0002,56,00,0002,54,00,0002,53,00,0002,52,00,0002,52,00,0002,48,00,0002,47,00,0002,47,00,0002,43,00,0002,43,00,0002,42,00,0002,40,00,0002,40,00,0002,40,00,0002,40,00,0002,39,00,0002,35,00,0002,34,00,0002,34,00,0002,33,00,0002,33,00,0002,32,00,0002,32,00,0002,31,00,0002,31,00,0002,30,00,0002,27,00,0002,22,00,0002,19,00,0002,18,00,0002,17,00,0002,15,00,0002,08,00,0002,07,00,0002,02,00,0002,01,00,0001,98,00,0001,97,00,0001,90,00,0001,90,00,0001,89,00,0001,88,00,0001,87,00,0001,86,00,0001,82,00,0001,81,00,0001,80,00,0001,76,00,0001,75,00,0001,74,00,0001,73,00,0001,73,00,0001,70,00,0001,69,00,0001,68,00,0001,66,00,0001,65,00,0001,65,00,0001,64,00,0001,63,00,0001,62,00,0001,61,00,0001,59,00,0001,57,00,0001,57,00,0001,56,00,0001,55,00,0001,55,00,0001,55,00,0001,55,00,0001,54,00,0001,53,00,0001,53,00,0001,52,00,0001,51,00,0001,47,00,0001,47,00,0001,45,00,0001,44,00,0001,42,00,0001,42,00,0001,41,00,0001,41,00,0001,40,00,0001,39,00,0001,37,00,0001,36,00,0001,36,00,0001,35,00,0001,35,00,0001,35,00,0001,35,00,0001,34,00,0001,34,00,0001,32,00,0001,32,00,0001,30,00,0001,30,00,0001,27,00,0001,27,00,0001,26,00,0001,24,00,0001,24,00,0001,23,00,0001,21,00,0001,20,00,0001,19,00,0001,19,00,0001,19,00,0001,19,00,0001,19,00,0001,18,00,0001,17,00,0001,17,00,0001,17,00,0001,17,00,0001,17,00,0001,16,00,0001,16,00,0001,16,00,0001,15,00,0001,15,00,0001,14,00,0001,14,00,0001,12,00,0001,11,00,0001,10,00,0001,10,00,0001,10,00,0001,10,00,0001,10,00,0001,09,00,0001,09,00,0001,09,00,0001,07,00,0001,07,00,0001,05,00,0001,04,00,0001,04,00,0001,04,00,0001,04,00,0001,04,00,0001,03,00,0001,03,00,0001,03,00,0001,03,00,0001,03,00,0001,02,00,0001,02,00,0001,01,00,0001,01,00,0001,01,00,00099,00,00099,00,00099,00,00099,00,00099,00,00099,00,00098,00,00097,00,00097,00,00097,00,00097,00,00096,00,00096,00,00096,00,00096,00,00094,00,00093,00,00093,00,00093,00,00092,00,00092,00,00091,00,00091,00,00091,00,00089,00,00089,00,00089,00,00088,00,00088,00,00087,00,00086,00,00086,00,00085,00,00085,00,00085,00,00084,00,00084,00,00083,00,00083,00,00083,00,00083,00,00082,00,00082,00,00082,00,00081,00,00081,00,00080,00,00080,00,00080,00,00080,00,00079,00,00079,00,00079,00,00078,00,00078,00,00078,00,00078,00,00077,00,00077,00,00077,00,00076,00,00076,00,00076,00,00076,00,00076,00,00076,00,00076,00,00076,00,00075,00,00074,00,00074,00,00074,00,00074,00,00074,00,00073,00,00073,00,00073,00,00073,00,00073,00,00072,00,00072,00,00072,00,00071,00,00071,00,00071,00,00071,00,00071,00,00070,00,00070,00,00070,00,00070,00,00069,00,00069,00,00068,00,00067,00,00067,00,00067,00,00066,00,00066,00,00065,00,00065,00,00065,00,00064,00,00064,00,00064,00,00064,00,00064,00,00063,00,00063,00,00063,00,00063,00,00063,00,00063,00,00063,00,00062,00,00062,00,00062,00,00062,00,00062,00,00062,00,00061,00,00061,00,00061,00,00061,00,00061,00,00061,00,00061,00,00061,00,00060,00,00060,00,00060,00,00060,00,00060,00,00060,00,00060,00,00060,00,00059,00,00059,00,00059,00,00059,00,00059,00,00058,00,00058,00,00058,00,00058,00,00057,00,00057,00,00057,00,00057,00,00057,00,00057,00,00057,00,00057,00,00056,00,00056,00,00056,00,00054,00,00054,00,00054,00,00054,00,00054,00,00053,00,00053,00,00053,00,00053,00,00053,00,00053,00,00053,00,00052,00,00052,00,00052,00,00052,00,00052,00,00052,00,00052,00,00052,00,00051,00,00051,00,00051,00,00051,00,00051,00,00051,00,00051,00,00051,00,00051,00,00050,00,00050,00,00050,00,00050,00,00050,00,00050,00,00050,00,00050,00,00049,00,00049,00,00049,00,00049,00,00049,00,00049,00,00048,00,00048,00,00048,00,00048,00,00048,00,00048,00,00048,00,00048,00,00047,00,00047,00,00047,00,00047,00,00047,00,00047,00,00046,00,00046,00,00046,00,00046,00,00046,00,00046,00,00045,00,00044,00,00044,00,00044,00,00044,00,00044,00,00044,00,00044,00,00044,00,00043,00,00043,00,00043,00,00043,00,00043,00,00042,00,00042,00,00041,00,00041,00,00040,00,00040,00,00039,00,00039,00,00039,00,00039,00,00039,00,00039,00,00039,00,00039,00,00038,00,00038,00,00038,00,00038,00,00038,00,00038,00,00038,00,00037,00,00037,00,00037,00,00037,00,00037,00,00037,00,00037,00,00037,00,00037,00,00037,00,00037,00,00037,00,00036,00,00036,00,00036,00,00036,00,00036,00,00036,00,00036,00,00036,00,00036,00,00035,00,00035,00,00035,00,00035,00,00035,00,00035,00,00035,00,00035,00,00035,00,00034,00,00034,00,00034,00,00034,00,00034,00,00034,00,00034,00,00034,00,00034,00,00034,00,00033,00,00033,00,00033,00,00033,00,00033,00,00033,00,00033,00,00033,00,00033,00,00032,00,00032,00,00032,00,00032,00,00032,00,00032,00,00032,00,00032,00,00032,00,00032,00,00031,00,00031,00,00031,00,00031,00,00031,00,00031,00,00031,00,00031,00,00031,00,00030,00,00030,00,00030,00,00030,00,00030,00,00030,00,00030,00,00030,00,00030,00,00030,00,00029,00,00029,00,00029,00,00029,00,00029,00,00029,00,00029,00,00029,00,00029,00,00028,00,00028,00,00028,00,00028,00,00028,00,00028,00,00028,00,00028,00,00028,00,00028,00,00027,00,00027,00,00027,00,00027,00,00026,00,00026,00,00026,00,00026,00,00026,00,00026,00,00026,00,00026,00,00026,00,00026,00,00026,00,00026,00,00026,00,00026,00,00025,00,00025,00,00025,00,00025,00,00025,00,00025,00,00025,00,00025,00,00025,00,00024,00,00024,00,00024,00,00024,00,00024,00,00024,00,00024,00,00024,00,00024,00,00024,00,00024,00,00024,00,00023,00,00023,00,00023,00,00023,00,00023,00,00023,00,00023,00,00023,00,00023,00,00023,00,00023,00,00023,00,00022,00,00022,00,00022,00,00022,00,00022,00,00022,00,00022,00,00022,00,00022,00,00022,00,00022,00,00022,00,00022,00,00022,00,00022,00,00021,00,00021,00,00021,00,00021,00,00021,00,00021,00,00021,00,00021,00,00021,00,00021,00,00021,00,00021,00,00021,00,00021,00,00020,00,00020,00,00020,00,00020,00,00020,00,00020,00,00020,00,00020,00,00020,00,00020,00,00020,00,00019,00,00019,00,00019,00,00019,00,00019,00,00019,00,00019,00,00019,00,00019,00,00019,00,00019,00,00019,00,00018,00,00018,00,00018,00,00018,00,00018,00,00018,00,00018,00,00018,00,00018,00,00018,00,00018,00,00018,00,00018,00,00018,00,00018,00,00017,00,00017,00,00017,00,00017,00,00017,00,00017,00,00017,00,00017,00,00017,00,00017,00,00017,00,00016,00,00016,00,00016,00,00016,00,00016,00,00016,00,00016,00,00016,00,00016,00,00016,00,00016,00,00016,00,00016,00,00016,00,00016,00,00015,00,00015,00,00015,00,00015,00,00015,00,00015,00,00015,00,00015,00,00015,00,00015,00,00015,00,00015,00,00015,00,00015,00,00015,00,00015,00,00015,00,00015,00,00015,00,00014,00,00014,00,00014,00,00014,00,00014,00,00014,00,00014,00,00014,00,00014,00,00014,00,00014,00,00014,00,00014,00,00014,00,00014,00,00014,00,00014,00,00013,00,00013,00,00013,00,00013,00,00013,00,00013,00,00013,00,00013,00,00013,00,00013,00,00013,00,00013,00,00013,00,00013,00,00013,00,00013,00,00013,00,00013,00,00013,00,00013,00,00012,00,00012,00,00012,00,00012,00,00012,00,00012,00,00012,00,00012,00,00012,00,00012,00,00012,00,00012,00,00012,00,00012,00,00012,00,00012,00,00012,00,00012,00,00011,00,00011,00,00011,00,00011,00,00011,00,00011,00,00011,00,00011,00,00011,00,00011,00,00011,00,00011,00,00011,00,00011,00,00011,00,00011,00,00011,00,00011,00,00011,00,00011,00,00011,00,00010,00,00010,00,00010,00,00010,00,00010,00,00010,00,00010,00,00010,00,00010,00,00010,00,00010,00,00010,00,00010,00,00010,00,00010,00,00010,00,00010,00,0009,00,0009,00,0009,00,0009,00,0009,00,0009,00,0009,00,0009,00,0009,00,0009,00,0009,00,0009,00,0009,00,0009,00,0009,00,0009,00,0009,00,0009,00,0009,00,0009,00,0009,00,0009,00,0009,00,0009,00,0009,00,0009,00,0009,00,0008,00,0008,00,0008,00,0008,00,0008,00,0008,00,0008,00,0008,00,0008,00,0008,00,0008,00,0008,00,0008,00,0008,00,0008,00,0008,00,0008,00,0008,00,0008,00,0008,00,0007,00,0007,00,0007,00,0007,00,0007,00,0007,00,0007,00,0007,00,0007,00,0007,00,0007,00,0007,00,0007,00,0006,00,0006,00,0006,00,0006,00,0006,00,0006,00,0006,00,0006,00,0006,00,0006,00,0006,00,0006,00,0006,00,0006,00,0006,00,0006,00,0006,00,0006,00,0006,00,0006,00,0006,00,0006,00,0006,00,0006,00,0006,00,0006,00,0006,00,0005,00,0005,00,0005,00,0005,00,0005,00,0005,00,0005,00,0005,00,0005,00,0005,00,0005,00,0005,00,0005,00,0005,00,0005,00,0005,00,0005,00,0005,00,0005,00,0005,00,0005,00,0005,00,0005,00,0005,00,0005,00,0005,00,0005,00,0005,00,0004,00,0004,00,0004,00,0004,00,0004,00,0004,00,0004,00,0004,00,0004,00,0004,00,0004,00,0004,00,0004,00,0004,00,0004,00,0004,00,0004,00,0004,00,0004,00,0004,00,0004,00,0004,00,0004,00,0004,00,0004,00,0004,00,0004,00,0004,00,0004,00,0004,00,0004,00,0004,00,0004,00,0004,00,0004,00,0004,00,0004,00,0004,00,0004,00,0003,00,0003,00,0003,00,0003,00,0003,00,0003,00,0003,00,0003,00,0003,00,0003,00,0003,00,0003,00,0003,00,0003,00,0003,00,0003,00,0003,00,0003,00,0003,00,0003,00,0003,00,0003,00,0003,00,0003,00,0003,00,0003,00,0003,00,0003,00,0003,00,0003,00,0003,00,0003,00,0003,00,0002,00,0002,00,0002,00,0002,00,0002,00,0002,00,0002,00,0002,00,0002,00,0002,00,0002,00,0002,00,0002,00,0002,00,0002,00,0002,00,0002,00,0002,00,0002,00,0002,00,0002,00,0002,00,0002,00,0002,00,0002,00,0002,00,0002,00,0002,00,0002,00,0002,00,0002,00,0002,00,0002,00,0002,00,0002,00,0002,00,0002,00,0002,00,0002,00,0002,00,0002,00,0002,00,0002,00,0002,00,0002,00,0002,00,0002,00,0002,00,0002,00,0002,00,0002,00,0002,00,0002,00,0002,00,0002,00,0002,00,0002,00,0002,00,0002,00,0001,00,0001,00,0001,00,0001,00,0001,00,0001,00,0001,00,0001,00,0001,00,0001,00,0001,00,0001,00,0001,00,0001,00,0001,00,0001,00,0001,00,0001,00,0001,00,0001,00,0001,00,0001,00,0001,00,0001,00,0001,00,0001,00,0001,00,0001,00,0001,00,0001,00,0001,00,0001,00,0001,00,0001,00,0001,00,0001,00,0001,00,0001,00,0001,00,0001,00,0001,00,0001,00,0001,00,0001,00,0001,00,0001,00,0001,00,0001,00,0001,00,0001,00,0001,00,0001,00,0001,00,0001,00,0001,00,0001,00,0001,00,0001,00,0001,00,0001,00,0001,00,0001,00,0001,00,00054,19,00,00028,62,00,00036,38,00,00029,23,00,00017,14,00,00063,02,00,0007,72,00,0008,96,00,00010,11,00,0006,05,00,00017,94,00,0007,50,00,00012,73,00,00016,40,00,00013,21,00,0008,79,00,0009,85,00,0009,00,00,0007,77,00,0004,13,00,0005,53,00,0004,81,00,00016,07,00,00011,14,00,0006,42,00,00022,20,00,0008,16,00,0007,85,00,0003,90,00,0009,72,00,0001,22,00,00013,70,00,0007,30,00,0005,34,00,0003,42,00,00015,95,00,0007,68,00,0004,35,00,0005,05,00,0004,36,00,0005,44,00,0002,92,00,0008,18,00,0006,23,00,0004,68,00,00011,92,00,0009,88,00,0002,54,00,0003,88,00,0007,13,00,0002,42,00,0001,86,00,00013,11,00,0007,77,00,0005,51,00,0005,33,00,0003,24,00,0005,13,00,0003,58,00,0003,52,00,0004,30,00,0002,12,00,0003,94,00,0003,09,00,0002,84,00,0002,64,00,0002,37,00,00028,70,00,0001,52,00,0007,35,00,0002,98,00,0002,17,00,0003,55,00,0002,74,00,0003,33,00,0001,93,00,0001,69,00,0005,00,00,0002,26,00,0004,55,00,0004,10,00,0004,47,00,0003,39,00,0002,90,00,0001,66,00,0003,25,00,0001,60,00,0003,53,00,0002,02,00,0001,80,00,00092,00,0006,41,00,0002,99,00,0001,61,00,0002,96,00,0001,89,00,0001,83,00,0006,89,00,0002,85,00,0001,83,00,0001,78,00,0001,65,00,00069,00,0004,52,00,0002,67,00,0001,86,00,0001,78,00,0001,22,00,00057,00,00032,00,0001,56,00,0001,85,00,0001,82,00,0001,70,00,0001,40,00,0001,20,00,0002,99,00,0001,80,00,0002,00,00,0001,54,00,0001,43,00,00069,00,0003,56,00,0003,06,00,0002,42,00,0002,26,00,0001,91,00,0001,58,00,0001,53,00,0001,50,00,00096,00,00090,00,00059,00,00059,00,0002,19,00,0001,51,00,00087,00,0006,04,00,0002,90,00,0001,83,00,0002,55,00,0001,86,00,0001,46,00,0001,27,00,0001,03,00,0003,63,00,0003,05,00,0002,27,00,0002,24,00,0001,91,00,0001,90,00,0001,82,00,0001,43,00,0001,16,00,00082,00,0006,20,00,0002,91,00,0001,59,00,0001,57,00,0001,53,00,0001,15,00,0001,11,00,00094,00,00092,00,00055,00,0003,14,00,0002,22,00,0001,36,00,0001,33,00,0001,28,00,0001,25,00,0001,24,00,00073,00,00067,00,0001,97,00,0001,38,00,0001,08,00,00076,00,00075,00,00065,00,00049,00,0002,02,00,0001,70,00,0001,30,00,00093,00,00050,00,00042,00,00037,00,0004,31,00,0002,73,00,0001,93,00,0001,81,00,0001,51,00,0001,40,00,0001,03,00,00075,00,00064,00,00051,00,0002,09,00,00095,00,00092,00,0001,94,00,00098,00,00086,00,00059,00,00041,00,00017,00,0002,27,00,0001,91,00,0001,43,00,0001,32,00,0001,16,00,0001,11,00,00095,00,00094,00,00089,00,00085,00,00080,00,00060,00,00048,00,0002,29,00,0001,76,00,0001,18,00,00087,00,00082,00,00066,00,00055,00,00055,00,00052,00,00049,00,0002,38,00,0002,25,00,0001,30,00,0001,28,00,0001,28,00,0001,17,00,00088,00,00083,00,00074,00,00073,00,00071,00,00060,00,00059,00,00037,00,00022,00,0008,00,0001,35,00,0001,11,00,00058,00,00035,00,00024,00,00016,00,0001,98,00,0001,06,00,00099,00,00083,00,00082,00,00071,00,00070,00,00067,00,00066,00,00053,00,00045,00,00039,00,00016,00,0001,48,00,0001,30,00,0001,17,00,0001,16,00,0001,00,00,00082,00,00077,00,00077,00,00067,00,00065,00,00059,00,00056,00,00047,00,00036,00,00033,00,00032,00,00031,00,00030,00,0004,95,00,0001,23,00,00098,00,00094,00,00079,00,00077,00,00075,00,00062,00,00062,00,00061,00,00060,00,00058,00,00057,00,00041,00,00032,00,00020,00,00018,00,0002,21,00,0001,73,00,0001,43,00,0001,08,00,00094,00,00068,00,00064,00,00063,00,00060,00,00059,00,00054,00,00052,00,00049,00,00045,00,00044,00,00043,00,00039,00,00039,00,00038,00,00037,00,00033,00,0009,00,0004,00,0001,37,00,00078,00,00074,00,00059,00,00058,00,00052,00,00048,00,00046,00,00043,00,00042,00,00041,00,00038,00,00035,00,00027,00,00024,00,00018,00,0001,76,00,00081,00,00058,00,00056,00,00055,00,00055,00,00051,00,00049,00,00048,00,00047,00,00041,00,00039,00,00035,00,00032,00,00027,00,00025,00,00024,00,00022,00,00010,00,00010,00,0003,41,00,0002,25,00,0001,97,00,00084,00,00082,00,00070,00,00068,00,00054,00,00050,00,00045,00,00045,00,00045,00,00042,00,00040,00,00040,00,00037,00,00036,00,00035,00,00034,00,00033,00,00027,00,00024,00,00021,00,00021,00,0008,00,0007,00,0004,00,0003,01,00,00069,00,00063,00,00059,00,00047,00,00045,00,00043,00,00042,00,00040,00,00039,00,00038,00,00035,00,00033,00,00032,00,00030,00,00030,00,00030,00,00028,00,00027,00,00027,00,00023,00,00022,00,00020,00,00018,00,00017,00,00015,00,00012,00,0007,00,0005,00,0004,00,0003,16,00,0002,09,00,0001,40,00,0001,08,00,0001,05,00,00068,00,00058,00,00057,00,00052,00,00036,00,00036,00,00031,00,00031,00,00031,00,00030,00,00030,00,00029,00,00028,00,00027,00,00027,00,00026,00,00026,00,00024,00,00023,00,00023,00,00022,00,00020,00,00020,00,00020,00,00018,00,00018,00,00018,00,00017,00,00016,00,00016,00,00014,00,0007,00,0002,38,00,0001,10,00,00044,00,00039,00,00036,00,00035,00,00034,00,00034,00,00034,00,00033,00,00030,00,00029,00,00028,00,00028,00,00028,00,00027,00,00027,00,00027,00,00027,00,00026,00,00025,00,00024,00,00024,00,00023,00,00023,00,00023,00,00023,00,00021,00,00021,00,00020,00,00019,00,00019,00,00018,00,00018,00,00018,00,00017,00,00017,00,00015,00,00015,00,00015,00,00012,00,00012,00,00011,00,00010,00,00010,00,0008,00,0005,00,0005,00,0004,00,0004,00,0004,00,0001,85,00,00076,00,00062,00,00043,00,00042,00,00038,00,00034,00,00033,00,00032,00,00029,00,00026,00,00025,00,00025,00,00024,00,00024,00,00024,00,00024,00,00024,00,00023,00,00023,00,00022,00,00021,00,00020,00,00019,00,00019,00,00019,00,00018,00,00018,00,00018,00,00018,00,00017,00,00017,00,00016,00,00015,00,00015,00,00015,00,00014,00,00014,00,00013,00,00013,00,00013,00,00012,00,00012,00,00012,00,00012,00,00011,00,00011,00,00011,00,00010,00,0009,00,0007,00,0004,00,0004,00,0004,00,0003,00,00080,00,00046,00,00026,00,00026,00,00025,00,00024,00,00024,00,00022,00,00021,00,00021,00,00020,00,00019,00,00019,00,00019,00,00018,00,00018,00,00018,00,00018,00,00017,00,00017,00,00016,00,00016,00,00016,00,00016,00,00016,00,00016,00,00016,00,00016,00,00016,00,00016,00,00015,00,00015,00,00015,00,00015,00,00015,00,00015,00,00015,00,00014,00,00014,00,00014,00,00014,00,00013,00,00012,00,00012,00,00012,00,00012,00,00011,00,00011,00,00011,00,00011,00,00011,00,00010,00,00010,00,00010,00,00010,00,00010,00,0009,00,0009,00,0009,00,0009,00,0009,00,0008,00,0008,00,0007,00,0007,00,0007,00,0007,00,0007,00,0006,00,0006,00,0005,00,0004,00,0004,00,0004,00,0003,00,0003,00,0002,00,0001,00,00098,00,00092,00,00070,00,00041,00,00025,00,00021,00,00019,00,00017,00,00016,00,00016,00,00015,00,00015,00,00015,00,00015,00,00014,00,00014,00,00013,00,00013,00,00013,00,00013,00,00012,00,00012,00,00012,00,00011,00,00011,00,00011,00,00010,00,00010,00,00010,00,00010,00,00010,00,00010,00,00010,00,0009,00,0009,00,0009,00,0009,00,0008,00,0008,00,0008,00,0008,00,0008,00,0008,00,0007,00,0007,00,0007,00,0007,00,0006,00,0006,00,0006,00,0006,00,0005,00,0005,00,0005,00,0004,00,0004,00,0004,00,0004,00,0004,00,0003,00,0003,00,0002,00,0002,00,0002,00,0002,00,0002,00,0002,00,0002,00,0001,00,0001,00,0001,00,00025,00,00015,00,00012,00,00010,00,00010,00,0009,00,0008,00,0008,00,0008,00,0007,00,0007,00,0007,00,0007,00,0007,00,0006,00,0006,00,0006,00,0006,00,0006,00,0006,00,0006,00,0005,00,0005,00,0005,00,0005,00,0005,00,0005,00,0005,00,0005,00,0005,00,0005,00,0004,00,0004,00,0004,00,0004,00,0004,00,0004,00,0004,00,0004,00,0004,00,0004,00,0003,00,0003,00,0003,00,0003,00,0003,00,0003,00,0003,00,0003,00,0003,00,0003,00,0003,00,0003,00,0003,00,0003,00,0002,00,0002,00,0002,00,0002,00,0002,00,0002,00,0002,00,0002,00,0002,00,0002,00,0001,00,0001,00,0001,00,0001,00,0001,00,0001,00,0001,00,0001,00,0001,00,0001,00,0001,00,0001,00,0001,00,0001,00,0001,00,0001,00,0001,00,0001,00,0001,00,0001,00,0001,00,0001,00,0001,00,0001,00,0001,00,0001,00,0001,00,0001,00,0001,00,0001,00,0001,00,0001,00,0001,00,0001,00,0001,00,0001,00,0001,00,0001,00,0001,00,0001,00,0001,00,000\",\"50,77,00,00026,26,00,00017,01,00,00016,20,00,00015,30,00,00015,21,00,00015,15,00,00014,93,00,00013,68,00,00013,21,00,00013,07,00,00012,92,00,00012,91,00,00011,62,00,00010,72,00,00010,70,00,00010,66,00,00010,43,00,00010,28,00,0009,99,00,0009,90,00,0009,85,00,0009,64,00,0009,58,00,0009,57,00,0009,47,00,0009,44,00,0009,43,00,0009,08,00,0008,86,00,0008,73,00,0008,72,00,0008,62,00,0008,54,00,0008,32,00,0008,25,00,0008,25,00,0008,24,00,0008,21,00,0008,18,00,0008,05,00,0008,03,00,0008,00,00,0007,72,00,0007,66,00,0007,63,00,0007,52,00,0007,51,00,0007,34,00,0007,33,00,0007,22,00,0007,16,00,0007,13,00,0007,13,00,0007,06,00,0006,99,00,0006,98,00,0006,97,00,0006,92,00,0006,89,00,0006,85,00,0006,82,00,0006,81,00,0006,78,00,0006,78,00,0006,77,00,0006,72,00,0006,71,00,0006,70,00,0006,67,00,0006,60,00,0006,44,00,0006,43,00,0006,42,00,0006,39,00,0006,37,00,0006,37,00,0006,35,00,0006,35,00,0006,28,00,0006,23,00,0006,20,00,0006,15,00,0006,15,00,0006,13,00,0006,11,00,0006,11,00,0005,98,00,0005,85,00,0005,83,00,0005,79,00,0005,78,00,0005,75,00,0005,75,00,0005,74,00,0005,74,00,0005,70,00,0005,65,00,0005,64,00,0005,64,00,0005,63,00,0005,60,00,0005,57,00,0005,55,00,0005,52,00,0005,52,00,0005,51,00,0005,50,00,0005,48,00,0005,44,00,0005,36,00,0005,30,00,0005,24,00,0005,23,00,0005,20,00,0005,20,00,0005,18,00,0005,18,00,0005,16,00,0005,13,00,0005,12,00,0005,12,00,0005,10,00,0005,04,00,0005,03,00,0005,01,00,0005,00,00,0005,00,00,0004,96,00,0004,94,00,0004,93,00,0004,92,00,0004,89,00,0004,89,00,0004,86,00,0004,86,00,0004,85,00,0004,85,00,0004,84,00,0004,83,00,0004,82,00,0004,81,00,0004,81,00,0004,81,00,0004,75,00,0004,69,00,0004,69,00,0004,66,00,0004,65,00,0004,64,00,0004,64,00,0004,62,00,0004,61,00,0004,61,00,0004,59,00,0004,57,00,0004,55,00,0004,54,00,0004,54,00,0004,54,00,0004,53,00,0004,53,00,0004,52,00,0004,51,00,0004,49,00,0004,49,00,0004,48,00,0004,47,00,0004,46,00,0004,43,00,0004,42,00,0004,39,00,0004,38,00,0004,37,00,0004,36,00,0004,35,00,0004,34,00,0004,33,00,0004,33,00,0004,32,00,0004,32,00,0004,32,00,0004,32,00,0004,31,00,0004,28,00,0004,28,00,0004,27,00,0004,27,00,0004,24,00,0004,23,00,0004,21,00,0004,21,00,0004,18,00,0004,17,00,0004,15,00,0004,14,00,0004,14,00,0004,12,00,0004,11,00,0004,09,00,0004,09,00,0004,09,00,0004,06,00,0004,05,00,0004,04,00,0004,03,00,0004,03,00,0004,03,00,0004,03,00,0004,03,00,0004,03,00,0004,01,00,0004,00,00,0003,99,00,0003,98,00,0003,95,00,0003,94,00,0003,93,00,0003,93,00,0003,89,00,0003,87,00,0003,87,00,0003,86,00,0003,84,00,0003,83,00,0003,81,00,0003,80,00,0003,80,00,0003,78,00,0003,78,00,0003,77,00,0003,77,00,0003,76,00,0003,76,00,0003,76,00,0003,75,00,0003,74,00,0003,74,00,0003,71,00,0003,71,00,0003,71,00,0003,71,00,0003,70,00,0003,69,00,0003,67,00,0003,66,00,0003,65,00,0003,64,00,0003,62,00,0003,62,00,0003,60,00,0003,60,00,0003,59,00,0003,59,00,0003,58,00,0003,58,00,0003,56,00,0003,52,00,0003,52,00,0003,50,00,0003,49,00,0003,48,00,0003,46,00,0003,46,00,0003,46,00,0003,45,00,0003,44,00,0003,43,00,0003,41,00,0003,41,00,0003,40,00,0003,40,00,0003,40,00,0003,39,00,0003,38,00,0003,38,00,0003,37,00,0003,37,00,0003,35,00,0003,34,00,0003,31,00,0003,31,00,0003,30,00,0003,29,00,0003,28,00,0003,27,00,0003,25,00,0003,24,00,0003,24,00,0003,24,00,0003,23,00,0003,23,00,0003,23,00,0003,23,00,0003,22,00,0003,21,00,0003,21,00,0003,19,00,0003,19,00,0003,17,00,0003,14,00,0003,13,00,0003,12,00,0003,11,00,0003,11,00,0003,10,00,0003,10,00,0003,10,00,0003,09,00,0003,08,00,0003,07,00,0003,06,00,0003,06,00,0003,05,00,0003,04,00,0003,04,00,0003,03,00,0003,03,00,0003,03,00,0003,02,00,0003,02,00,0003,02,00,0003,01,00,0003,01,00,0003,01,00,0003,00,00,0003,00,00,0002,99,00,0002,99,00,0002,99,00,0002,99,00,0002,98,00,0002,98,00,0002,96,00,0002,96,00,0002,96,00,0002,96,00,0002,95,00,0002,95,00,0002,95,00,0002,94,00,0002,93,00,0002,93,00,0002,92,00,0002,92,00,0002,91,00,0002,90,00,0002,90,00,0002,89,00,0002,89,00,0002,88,00,0002,88,00,0002,88,00,0002,88,00,0002,86,00,0002,83,00,0002,83,00,0002,83,00,0002,82,00,0002,82,00,0002,82,00,0002,81,00,0002,81,00,0002,81,00,0002,81,00,0002,81,00,0002,80,00,0002,80,00,0002,80,00,0002,79,00,0002,79,00,0002,79,00,0002,78,00,0002,78,00,0002,78,00,0002,77,00,0002,77,00,0002,77,00,0002,77,00,0002,76,00,0002,76,00,0002,76,00,0002,76,00,0002,75,00,0002,75,00,0002,75,00,0002,74,00,0002,74,00,0002,73,00,0002,73,00,0002,73,00,0002,73,00,0002,72,00,0002,72,00,0002,71,00,0002,71,00,0002,71,00,0002,71,00,0002,71,00,0002,71,00,0002,71,00,0002,71,00,0002,70,00,0002,70,00,0002,69,00,0002,68,00,0002,68,00,0002,68,00,0002,67,00,0002,67,00,0002,67,00,0002,66,00,0002,66,00,0002,66,00,0002,66,00,0002,66,00,0002,65,00,0002,64,00,0002,64,00,0002,63,00,0002,63,00,0002,62,00,0002,62,00,0002,62,00,0002,61,00,0002,61,00,0002,60,00,0002,60,00,0002,60,00,0002,59,00,0002,59,00,0002,58,00,0002,57,00,0002,57,00,0002,55,00,0002,55,00,0002,55,00,0002,54,00,0002,54,00,0002,54,00,0002,54,00,0002,54,00,0002,53,00,0002,53,00,0002,53,00,0002,52,00,0002,51,00,0002,50,00,0002,50,00,0002,48,00,0002,48,00,0002,48,00,0002,48,00,0002,48,00,0002,47,00,0002,47,00,0002,47,00,0002,45,00,0002,45,00,0002,45,00,0002,45,00,0002,45,00,0002,44,00,0002,44,00,0002,43,00,0002,43,00,0002,43,00,0002,42,00,0002,41,00,0002,40,00,0002,40,00,0002,40,00,0002,40,00,0002,39,00,0002,39,00,0002,39,00,0002,39,00,0002,38,00,0002,38,00,0002,37,00,0002,36,00,0002,36,00,0002,36,00,0002,35,00,0002,34,00,0002,34,00,0002,34,00,0002,34,00,0002,33,00,0002,33,00,0002,33,00,0002,33,00,0002,32,00,0002,31,00,0002,31,00,0002,31,00,0002,31,00,0002,31,00,0002,30,00,0002,30,00,0002,30,00,0002,29,00,0002,29,00,0002,29,00,0002,29,00,0002,29,00,0002,29,00,0002,28,00,0002,27,00,0002,27,00,0002,27,00,0002,26,00,0002,26,00,0002,25,00,0002,25,00,0002,24,00,0002,24,00,0002,24,00,0002,23,00,0002,23,00,0002,23,00,0002,22,00,0002,22,00,0002,22,00,0002,21,00,0002,20,00,0002,20,00,0002,20,00,0002,19,00,0002,18,00,0002,18,00,0002,18,00,0002,18,00,0002,17,00,0002,17,00,0002,17,00,0002,16,00,0002,16,00,0002,16,00,0002,16,00,0002,16,00,0002,15,00,0002,15,00,0002,14,00,0002,14,00,0002,13,00,0002,13,00,0002,13,00,0002,13,00,0002,12,00,0002,12,00,0002,12,00,0002,12,00,0002,11,00,0002,11,00,0002,11,00,0002,10,00,0002,10,00,0002,10,00,0002,10,00,0002,09,00,0002,09,00,0002,09,00,0002,09,00,0002,08,00,0002,08,00,0002,08,00,0002,08,00,0002,08,00,0002,08,00,0002,07,00,0002,07,00,0002,07,00,0002,06,00,0002,06,00,0002,05,00,0002,05,00,0002,04,00,0002,04,00,0002,04,00,0002,04,00,0002,03,00,0002,03,00,0002,03,00,0002,03,00,0002,03,00,0002,02,00,0002,02,00,0002,01,00,0002,01,00,0002,01,00,0002,00,00,0002,00,00,0002,00,00,0002,00,00,0001,99,00,0001,99,00,0001,98,00,0001,98,00,0001,97,00,0001,97,00,0001,97,00,0001,97,00,0001,97,00,0001,96,00,0001,96,00,0001,96,00,0001,96,00,0001,95,00,0001,95,00,0001,95,00,0001,94,00,0001,94,00,0001,94,00,0001,94,00,0001,94,00,0001,94,00,0001,93,00,0001,93,00,0001,92,00,0001,92,00,0001,91,00,0001,91,00,0001,91,00,0001,91,00,0001,91,00,0001,90,00,0001,90,00,0001,90,00,0001,89,00,0001,89,00,0001,89,00,0001,88,00,0001,88,00,0001,87,00,0001,87,00,0001,87,00,0001,87,00,0001,87,00,0001,87,00,0001,87,00,0001,86,00,0001,86,00,0001,86,00,0001,86,00,0001,86,00,0001,86,00,0001,85,00,0001,85,00,0001,84,00,0001,84,00,0001,84,00,0001,83,00,0001,83,00,0001,83,00,0001,83,00,0001,83,00,0001,83,00,0001,83,00,0001,82,00,0001,81,00,0001,81,00,0001,81,00,0001,81,00,0001,81,00,0001,81,00,0001,80,00,0001,80,00,0001,80,00,0001,79,00,0001,79,00,0001,79,00,0001,79,00,0001,79,00,0001,79,00,0001,78,00,0001,78,00,0001,78,00,0001,76,00,0001,76,00,0001,75,00,0001,75,00,0001,75,00,0001,75,00,0001,75,00,0001,74,00,0001,74,00,0001,74,00,0001,74,00,0001,74,00,0001,74,00,0001,74,00,0001,73,00,0001,73,00,0001,73,00,0001,73,00,0001,72,00,0001,72,00,0001,72,00,0001,71,00,0001,71,00,0001,71,00,0001,71,00,0001,71,00,0001,71,00,0001,71,00,0001,70,00,0001,70,00,0001,70,00,0001,69,00,0001,69,00,0001,69,00,0001,69,00,0001,69,00,0001,69,00,0001,69,00,0001,69,00,0001,68,00,0001,68,00,0001,68,00,0001,68,00,0001,67,00,0001,67,00,0001,67,00,0001,67,00,0001,67,00,0001,66,00,0001,66,00,0001,66,00,0001,66,00,0001,65,00,0001,65,00,0001,65,00,0001,65,00,0001,65,00,0001,65,00,0001,65,00,0001,65,00,0001,64,00,0001,64,00,0001,64,00,0001,64,00,0001,64,00,0001,64,00,0001,63,00,0001,63,00,0001,63,00,0001,63,00,0001,63,00,0001,63,00,0001,63,00,0001,62,00,0001,62,00,0001,62,00,0001,62,00,0001,62,00,0001,62,00,0001,62,00,0001,62,00,0001,61,00,0001,61,00,0001,61,00,0001,61,00,0001,61,00,0001,60,00,0001,60,00,0001,60,00,0001,60,00,0001,60,00,0001,59,00,0001,59,00,0001,59,00,0001,59,00,0001,59,00,0001,59,00,0001,59,00,0001,58,00,0001,58,00,0001,58,00,0001,57,00,0001,57,00,0001,57,00,0001,56,00,0001,55,00,0001,55,00,0001,55,00,0001,54,00,0001,54,00,0001,54,00,0001,54,00,0001,54,00,0001,54,00,0001,53,00,0001,53,00,0001,53,00,0001,52,00,0001,52,00,0001,52,00,0001,52,00,0001,52,00,0001,51,00,0001,51,00,0001,51,00,0001,50,00,0001,50,00,0001,50,00,0001,50,00,0001,50,00,0001,49,00,0001,49,00,0001,49,00,0001,49,00,0001,48,00,0001,47,00,0001,47,00,0001,47,00,0001,47,00,0001,47,00,0001,47,00,0001,46,00,0001,46,00,0001,46,00,0001,46,00,0001,45,00,0001,45,00,0001,45,00,0001,45,00,0001,45,00,0001,45,00,0001,44,00,0001,44,00,0001,44,00,0001,44,00,0001,43,00,0001,43,00,0001,43,00,0001,43,00,0001,43,00,0001,43,00,0001,43,00,0001,42,00,0001,42,00,0001,42,00,0001,42,00,0001,42,00,0001,42,00,0001,42,00,0001,42,00,0001,42,00,0001,41,00,0001,41,00,0001,41,00,0001,41,00,0001,41,00,0001,41,00,0001,40,00,0001,40,00,0001,40,00,0001,40,00,0001,40,00,0001,39,00,0001,39,00,0001,39,00,0001,39,00,0001,39,00,0001,39,00,0001,38,00,0001,38,00,0001,38,00,0001,38,00,0001,38,00,0001,38,00,0001,38,00,0001,38,00,0001,38,00,0001,38,00,0001,38,00,0001,37,00,0001,37,00,0001,37,00,0001,36,00,0001,36,00,0001,36,00,0001,36,00,0001,36,00,0001,35,00,0001,35,00,0001,35,00,0001,35,00,0001,35,00,0001,35,00,0001,35,00,0001,35,00,0001,34,00,0001,34,00,0001,34,00,0001,34,00,0001,34,00,0001,34,00,0001,34,00,0001,34,00,0001,34,00,0001,33,00,0001,33,00,0001,33,00,0001,33,00,0001,33,00,0001,33,00,0001,33,00,0001,33,00,0001,33,00,0001,33,00,0001,33,00,0001,33,00,0001,32,00,0001,32,00,0001,32,00,0001,32,00,0001,32,00,0001,32,00,0001,32,00,0001,31,00,0001,31,00,0001,31,00,0001,31,00,0001,31,00,0001,31,00,0001,31,00,0001,31,00,0001,30,00,0001,30,00,0001,30,00,0001,30,00,0001,30,00,0001,29,00,0001,29,00,0001,29,00,0001,29,00,0001,29,00,0001,29,00,0001,29,00,0001,29,00,0001,28,00,0001,28,00,0001,28,00,0001,27,00,0001,27,00,0001,27,00,0001,27,00,0001,27,00,0001,26,00,0001,26,00,0001,26,00,0001,26,00,0001,26,00,0001,26,00,0001,26,00,0001,25,00,0001,25,00,0001,25,00,0001,25,00,0001,25,00,0001,25,00,0001,25,00,0001,25,00,0001,25,00,0001,25,00,0001,25,00,0001,25,00,0001,25,00,0001,25,00,0001,25,00,0001,24,00,0001,24,00,0001,24,00,0001,24,00,0001,24,00,0001,24,00,0001,24,00,0001,24,00,0001,24,00,0001,24,00,0001,24,00,0001,23,00,0001,23,00,0001,23,00,0001,23,00,0001,23,00,0001,22,00,0001,22,00,0001,22,00,0001,22,00,0001,22,00,0001,22,00,0001,22,00,0001,22,00,0001,22,00,0001,22,00,0001,22,00,0001,22,00,0001,22,00,0001,22,00,0001,21,00,0001,21,00,0001,21,00,0001,21,00,0001,21,00,0001,21,00,0001,21,00,0001,21,00,0001,20,00,0001,20,00,0001,20,00,0001,20,00,0001,20,00,0001,20,00,0001,20,00,0001,20,00,0001,20,00,0001,20,00,0001,19,00,0001,19,00,0001,19,00,0001,19,00,0001,19,00,0001,19,00,0001,19,00,0001,19,00,0001,19,00,0001,19,00,0001,19,00,0001,18,00,0001,18,00,0001,18,00,0001,18,00,0001,18,00,0001,18,00,0001,18,00,0001,18,00,0001,18,00,0001,17,00,0001,17,00,0001,17,00,0001,17,00,0001,17,00,0001,17,00,0001,17,00,0001,17,00,0001,17,00,0001,16,00,0001,16,00,0001,16,00,0001,16,00,0001,16,00,0001,16,00,0001,16,00,0001,16,00,0001,16,00,0001,15,00,0001,15,00,0001,15,00,0001,15,00,0001,15,00,0001,15,00,0001,15,00,0001,15,00,0001,15,00,0001,15,00,0001,15,00,0001,15,00,0001,15,00,0001,15,00,0001,15,00,0001,15,00,0001,14,00,0001,14,00,0001,14,00,0001,14,00,0001,14,00,0001,14,00,0001,14,00,0001,14,00,0001,14,00,0001,14,00,0001,13,00,0001,13,00,0001,13,00,0001,13,00,0001,13,00,0001,13,00,0001,13,00,0001,13,00,0001,13,00,0001,12,00,0001,12,00,0001,12,00,0001,12,00,0001,12,00,0001,12,00,0001,12,00,0001,12,00,0001,12,00,0001,11,00,0001,11,00,0001,11,00,0001,11,00,0001,11,00,0001,11,00,0001,11,00,0001,11,00,0001,11,00,0001,11,00,0001,11,00,0001,10,00,0001,10,00,0001,10,00,0001,10,00,0001,10,00,0001,10,00,0001,10,00,0001,10,00,0001,10,00,0001,10,00,0001,10,00,0001,09,00,0001,09,00,0001,09,00,0001,09,00,0001,09,00,0001,08,00,0001,08,00,0001,08,00,0001,08,00,0001,07,00,0001,07,00,0001,07,00,0001,07,00,0001,07,00,0001,07,00,0001,07,00,0001,07,00,0001,07,00,0001,07,00,0001,06,00,0001,06,00,0001,06,00,0001,06,00,0001,06,00,0001,06,00,0001,06,00,0001,06,00,0001,05,00,0001,05,00,0001,05,00,0001,05,00,0001,05,00,0001,05,00,0001,05,00,0001,05,00,0001,05,00,0001,05,00,0001,04,00,0001,04,00,0001,04,00,0001,04,00,0001,04,00,0001,04,00,0001,04,00,0001,04,00,0001,04,00,0001,04,00,0001,04,00,0001,03,00,0001,03,00,0001,03,00,0001,03,00,0001,03,00,0001,03,00,0001,03,00,0001,02,00,0001,02,00,0001,02,00,0001,02,00,0001,02,00,0001,02,00,0001,02,00,0001,02,00,0001,02,00,0001,02,00,0001,02,00,0001,02,00,0001,01,00,0001,01,00,0001,01,00,0001,01,00,0001,01,00,0001,01,00,0001,01,00,0001,01,00,0001,00,00,0001,00,00,0001,00,00,0001,00,00,0001,00,00,0001,00,00,0001,00,00,0001,00,00,0001,00,00,0001,00,00,0001,00,00,00099,00,00099,00,00099,00,00099,00,00099,00,00099,00,00099,00,00099,00,00099,00,00099,00,00098,00,00098,00,00098,00,00098,00,00098,00,00098,00,00098,00,00098,00,00098,00,00098,00,00098,00,00098,00,00098,00,00098,00,00098,00,00098,00,00097,00,00097,00,00097,00,00097,00,00097,00,00096,00,00096,00,00096,00,00096,00,00096,00,00096,00,00096,00,00096,00,00095,00,00095,00,00095,00,00095,00,00095,00,00095,00,00095,00,00095,00,00095,00,00094,00,00094,00,00094,00,00094,00,00094,00,00094,00,00094,00,00094,00,00093,00,00093,00,00093,00,00093,00,00093,00,00093,00,00093,00,00093,00,00093,00,00092,00,00092,00,00092,00,00092,00,00092,00,00092,00,00092,00,00092,00,00092,00,00092,00,00092,00,00092,00,00092,00,00092,00,00092,00,00091,00,00091,00,00091,00,00091,00,00091,00,00091,00,00091,00,00091,00,00091,00,00091,00,00091,00,00091,00,00090,00,00090,00,00090,00,00090,00,00090,00,00090,00,00090,00,00090,00,00090,00,00090,00,00090,00,00090,00,00089,00,00089,00,00089,00,00089,00,00089,00,00089,00,00089,00,00089,00,00089,00,00089,00,00089,00,00089,00,00089,00,00089,00,00089,00,00089,00,00088,00,00088,00,00088,00,00088,00,00088,00,00088,00,00088,00,00088,00,00088,00,00088,00,00088,00,00088,00,00088,00,00088,00,00088,00,00088,00,00088,00,00088,00,00088,00,00088,00,00088,00,00088,00,00088,00,00087,00,00087,00,00087,00,00087,00,00087,00,00087,00,00087,00,00087,00,00087,00,00087,00,00087,00,00087,00,00087,00,00087,00,00087,00,00086,00,00086,00,00086,00,00086,00,00086,00,00086,00,00086,00,00086,00,00086,00,00086,00,00086,00,00086,00,00086,00,00086,00,00086,00,00086,00,00086,00,00086,00,00086,00,00086,00,00086,00,00085,00,00085,00,00085,00,00085,00,00085,00,00085,00,00085,00,00085,00,00085,00,00085,00,00085,00,00085,00,00085,00,00085,00,00085,00,00085,00,00085,00,00085,00,00085,00,00085,00,00084,00,00084,00,00084,00,00084,00,00084,00,00084,00,00084,00,00084,00,00084,00,00084,00,00084,00,00084,00,00084,00,00084,00,00084,00,00084,00,00083,00,00083,00,00083,00,00083,00,00083,00,00083,00,00083,00,00083,00,00083,00,00083,00,00082,00,00082,00,00082,00,00082,00,00082,00,00082,00,00082,00,00082,00,00082,00,00082,00,00082,00,00082,00,00082,00,00082,00,00082,00,00082,00,00082,00,00081,00,00081,00,00081,00,00081,00,00081,00,00081,00,00081,00,00081,00,00081,00,00081,00,00081,00,00081,00,00081,00,00081,00,00081,00,00081,00,00081,00,00081,00,00081,00,00081,00,00081,00,00081,00,00081,00,00081,00,00081,00,00081,00,00080,00,00080,00,00080,00,00080,00,00080,00,00080,00,00080,00,00080,00,00080,00,00080,00,00080,00,00080,00,00080,00,00080,00,00080,00,00080,00,00080,00,00080,00,00079,00,00079,00,00079,00,00079,00,00079,00,00079,00,00079,00,00079,00,00079,00,00078,00,00078,00,00078,00,00078,00,00078,00,00078,00,00078,00,00078,00,00078,00,00078,00,00078,00,00078,00,00078,00,00078,00,00078,00,00078,00,00078,00,00078,00,00077,00,00077,00,00077,00,00077,00,00077,00,00077,00,00077,00,00077,00,00077,00,00077,00,00077,00,00077,00,00077,00,00077,00,00077,00,00077,00,00077,00,00077,00,00077,00,00077,00,00077,00,00077,00,00076,00,00076,00,00076,00,00076,00,00076,00,00076,00,00076,00,00076,00,00076,00,00076,00,00076,00,00076,00,00076,00,00076,00,00076,00,00075,00,00075,00,00075,00,00075,00,00075,00,00075,00,00075,00,00075,00,00075,00,00075,00,00075,00,00075,00,00075,00,00075,00,00075,00,00075,00,00075,00,00074,00,00074,00,00074,00,00074,00,00074,00,00074,00,00074,00,00074,00,00074,00,00074,00,00074,00,00073,00,00073,00,00073,00,00073,00,00073,00,00073,00,00073,00,00073,00,00073,00,00073,00,00073,00,00073,00,00073,00,00073,00,00072,00,00072,00,00072,00,00072,00,00072,00,00072,00,00072,00,00072,00,00072,00,00072,00,00072,00,00072,00,00072,00,00072,00,00072,00,00072,00,00072,00,00072,00,00072,00,00072,00,00072,00,00072,00,00072,00,00072,00,00071,00,00071,00,00071,00,00071,00,00071,00,00071,00,00071,00,00071,00,00071,00,00071,00,00071,00,00071,00,00071,00,00071,00,00071,00,00071,00,00071,00,00071,00,00071,00,00071,00,00071,00,00071,00,00071,00,00071,00,00070,00,00070,00,00070,00,00070,00,00070,00,00070,00,00070,00,00070,00,00070,00,00070,00,00070,00,00070,00,00070,00,00070,00,00070,00,00070,00,00070,00,00070,00,00069,00,00069,00,00069,00,00069,00,00069,00,00069,00,00069,00,00069,00,00069,00,00069,00,00069,00,00069,00,00069,00,00069,00,00069,00,00068,00,00068,00,00068,00,00068,00,00068,00,00068,00,00068,00,00068,00,00068,00,00068,00,00068,00,00068,00,00068,00,00068,00,00068,00,00068,00,00067,00,00067,00,00067,00,00067,00,00067,00,00067,00,00067,00,00067,00,00067,00,00067,00,00067,00,00067,00,00067,00,00067,00,00067,00,00067,00,00067,00,00067,00,00067,00,00067,00,00067,00,00067,00,00067,00,00067,00,00067,00,00067,00,00067,00,00066,00,00066,00,00066,00,00066,00,00066,00,00066,00,00066,00,00066,00,00066,00,00066,00,00066,00,00066,00,00066,00,00066,00,00066,00,00066,00,00065,00,00065,00,00065,00,00065,00,00065,00,00065,00,00065,00,00065,00,00065,00,00065,00,00065,00,00065,00,00065,00,00065,00,00065,00,00065,00,00065,00,00065,00,00065,00,00065,00,00065,00,00065,00,00065,00,00065,00,00065,00,00065,00,00065,00,00065,00,00065,00,00065,00,00065,00,00065,00,00065,00,00065,00,00065,00,00065,00,00064,00,00064,00,00064,00,00064,00,00064,00,00064,00,00064,00,00064,00,00064,00,00064,00,00064,00,00064,00,00064,00,00064,00,00064,00,00064,00,00064,00,00063,00,00063,00,00063,00,00063,00,00063,00,00063,00,00063,00,00063,00,00063,00,00063,00,00063,00,00063,00,00063,00,00063,00,00063,00,00063,00,00063,00,00063,00,00063,00,00063,00,00063,00,00063,00,00063,00,00063,00,00063,00,00063,00,00063,00,00063,00,00063,00,00063,00,00062,00,00062,00,00062,00,00062,00,00062,00,00062,00,00062,00,00062,00,00062,00,00062,00,00062,00,00062,00,00062,00,00062,00,00062,00,00062,00,00062,00,00062,00,00062,00,00062,00,00062,00,00062,00,00062,00,00062,00,00062,00,00062,00,00062,00,00061,00,00061,00,00061,00,00061,00,00061,00,00061,00,00061,00,00061,00,00061,00,00061,00,00061,00,00061,00,00061,00,00061,00,00061,00,00061,00,00061,00,00061,00,00061,00,00061,00,00060,00,00060,00,00060,00,00060,00,00060,00,00060,00,00060,00,00060,00,00060,00,00060,00,00060,00,00060,00,00060,00,00060,00,00060,00,00060,00,00060,00,00060,00,00060,00,00059,00,00059,00,00059,00,00059,00,00059,00,00059,00,00059,00,00059,00,00059,00,00059,00,00059,00,00059,00,00059,00,00059,00,00059,00,00059,00,00059,00,00059,00,00059,00,00059,00,00059,00,00059,00,00059,00,00059,00,00059,00,00058,00,00058,00,00058,00,00058,00,00058,00,00058,00,00058,00,00058,00,00058,00,00058,00,00058,00,00058,00,00058,00,00058,00,00058,00,00058,00,00058,00,00058,00,00058,00,00058,00,00058,00,00058,00,00058,00,00058,00,00058,00,00058,00,00057,00,00057,00,00057,00,00057,00,00057,00,00057,00,00057,00,00057,00,00057,00,00057,00,00057,00,00057,00,00057,00,00057,00,00057,00,00057,00,00057,00,00057,00,00057,00,00057,00,00057,00,00057,00,00057,00,00057,00,00057,00,00057,00,00057,00,00057,00,00057,00,00057,00,00057,00,00057,00,00057,00,00057,00,00057,00,00057,00,00057,00,00057,00,00057,00,00057,00,00056,00,00056,00,00056,00,00056,00,00056,00,00056,00,00056,00,00056,00,00056,00,00056,00,00056,00,00056,00,00056,00,00056,00,00056,00,00056,00,00056,00,00056,00,00056,00,00056,00,00056,00,00056,00,00056,00,00056,00,00056,00,00056,00,00056,00,00056,00,00056,00,00056,00,00056,00,00055,00,00055,00,00055,00,00055,00,00055,00,00055,00,00055,00,00055,00,00055,00,00055,00,00055,00,00055,00,00055,00,00055,00,00055,00,00055,00,00055,00,00055,00,00055,00,00055,00,00055,00,00055,00,00055,00,00055,00,00055,00,00055,00,00055,00,00055,00,00055,00,00055,00,00055,00,00055,00,00055,00,00055,00,00055,00,00055,00,00054,00,00054,00,00054,00,00054,00,00054,00,00054,00,00054,00,00054,00,00054,00,00054,00,00054,00,00054,00,00054,00,00054,00,00054,00,00054,00,00054,00,00054,00,00054,00,00054,00,00054,00,00054,00,00054,00,00054,00,00054,00,00054,00,00054,00,00054,00,00054,00,00054,00,00054,00,00054,00,00053,00,00053,00,00053,00,00053,00,00053,00,00053,00,00053,00,00053,00,00053,00,00053,00,00053,00,00053,00,00053,00,00053,00,00053,00,00053,00,00053,00,00053,00,00053,00,00053,00,00053,00,00053,00,00053,00,00053,00,00053,00,00053,00,00053,00,00053,00,00052,00,00052,00,00052,00,00052,00,00052,00,00052,00,00052,00,00052,00,00052,00,00052,00,00052,00,00052,00,00052,00,00052,00,00052,00,00052,00,00052,00,00052,00,00052,00,00052,00,00052,00,00052,00,00052,00,00052,00,00052,00,00052,00,00052,00,00052,00,00052,00,00052,00,00052,00,00051,00,00051,00,00051,00,00051,00,00051,00,00051,00,00051,00,00051,00,00051,00,00051,00,00051,00,00051,00,00051,00,00051,00,00051,00,00051,00,00051,00,00051,00,00051,00,00051,00,00051,00,00051,00,00051,00,00051,00,00051,00,00051,00,00051,00,00051,00,00051,00,00051,00,00051,00,00051,00,00051,00,00051,00,00051,00,00051,00,00051,00,00051,00,00051,00,00051,00,00051,00,00051,00,00051,00,00051,00,00051,00,00051,00,00051,00,00051,00,00050,00,00050,00,00050,00,00050,00,00050,00,00050,00,00050,00,00050,00,00050,00,00050,00,00050,00,00050,00,00050,00,00050,00,00050,00,00050,00,00050,00,00050,00,00050,00,00050,00,00050,00,00050,00,00050,00,00050,00,00050,00,00050,00,00050,00,00050,00,00050,00,00050,00,00050,00,00050,00,00050,00,00050,00,00050,00,00050,00,00050,00,00050,00,00050,00,00050,00,00049,00,00049,00,00049,00,00049,00,00049,00,00049,00,00049,00,00049,00,00049,00,00049,00,00049,00,00049,00,00049,00,00049,00,00049,00,00049,00,00049,00,00049,00,00049,00,00049,00,00049,00,00049,00,00049,00,00049,00,00049,00,00049,00,00049,00,00049,00,00049,00,00049,00,00049,00,00049,00,00049,00,00049,00,00049,00,00049,00,00049,00,00048,00,00048,00,00048,00,00048,00,00048,00,00048,00,00048,00,00048,00,00048,00,00048,00,00048,00,00048,00,00048,00,00048,00,00048,00,00048,00,00048,00,00048,00,00048,00,00048,00,00048,00,00048,00,00048,00,00048,00,00048,00,00048,00,00048,00,00048,00,00048,00,00048,00,00048,00,00048,00,00048,00,00048,00,00048,00,00048,00,00047,00,00047,00,00047,00,00047,00,00047,00,00047,00,00047,00,00047,00,00047,00,00047,00,00047,00,00047,00,00047,00,00047,00,00047,00,00047,00,00047,00,00047,00,00047,00,00047,00,00047,00,00047,00,00047,00,00047,00,00047,00,00047,00,00047,00,00047,00,00047,00,00047,00,00047,00,00047,00,00047,00,00047,00,00047,00,00047,00,00047,00,00046,00,00046,00,00046,00,00046,00,00046,00,00046,00,00046,00,00046,00,00046,00,00046,00,00046,00,00046,00,00046,00,00046,00,00046,00,00046,00,00046,00,00046,00,00046,00,00046,00,00046,00,00045,00,00045,00,00045,00,00045,00,00045,00,00045,00,00045,00,00045,00,00045,00,00045,00,00045,00,00045,00,00045,00,00045,00,00045,00,00045,00,00045,00,00045,00,00045,00,00045,00,00045,00,00045,00,00045,00,00045,00,00045,00,00045,00,00045,00,00045,00,00045,00,00045,00,00045,00,00045,00,00045,00,00045,00,00045,00,00045,00,00045,00,00045,00,00045,00,00045,00,00045,00,00045,00,00044,00,00044,00,00044,00,00044,00,00044,00,00044,00,00044,00,00044,00,00044,00,00044,00,00044,00,00044,00,00044,00,00044,00,00044,00,00044,00,00044,00,00044,00,00044,00,00044,00,00044,00,00044,00,00044,00,00044,00,00044,00,00043,00,00043,00,00043,00,00043,00,00043,00,00043,00,00043,00,00043,00,00043,00,00043,00,00043,00,00043,00,00043,00,00043,00,00043,00,00043,00,00043,00,00043,00,00043,00,00043,00,00043,00,00043,00,00043,00,00043,00,00043,00,00043,00,00043,00,00043,00,00043,00,00043,00,00043,00,00043,00,00043,00,00043,00,00043,00,00043,00,00043,00,00043,00,00043,00,00043,00,00043,00,00043,00,00042,00,00042,00,00042,00,00042,00,00042,00,00042,00,00042,00,00042,00,00042,00,00042,00,00042,00,00042,00,00042,00,00042,00,00042,00,00042,00,00042,00,00042,00,00042,00,00042,00,00042,00,00042,00,00042,00,00042,00,00042,00,00042,00,00042,00,00042,00,00042,00,00042,00,00042,00,00042,00,00042,00,00042,00,00042,00,00042,00,00042,00,00042,00,00042,00,00042,00,00042,00,00042,00,00042,00,00041,00,00041,00,00041,00,00041,00,00041,00,00041,00,00041,00,00041,00,00041,00,00041,00,00041,00,00041,00,00041,00,00041,00,00041,00,00041,00,00041,00,00041,00,00041,00,00041,00,00041,00,00041,00,00041,00,00041,00,00041,00,00041,00,00041,00,00041,00,00041,00,00041,00,00041,00,00041,00,00041,00,00041,00,00041,00,00041,00,00041,00,00041,00,00040,00,00040,00,00040,00,00040,00,00040,00,00040,00,00040,00,00040,00,00040,00,00040,00,00040,00,00040,00,00040,00,00040,00,00040,00,00040,00,00040,00,00040,00,00040,00,00040,00,00040,00,00040,00,00040,00,00040,00,00040,00,00040,00,00040,00,00040,00,00040,00,00040,00,00040,00,00040,00,00040,00,00040,00,00040,00,00040,00,00040,00,00040,00,00040,00,00040,00,00040,00,00040,00,00040,00,00040,00,00040,00,00040,00,00040,00,00040,00,00040,00,00039,00,00039,00,00039,00,00039,00,00039,00,00039,00,00039,00,00039,00,00039,00,00039,00,00039,00,00039,00,00039,00,00039,00,00039,00,00039,00,00039,00,00039,00,00039,00,00039,00,00039,00,00039,00,00039,00,00039,00,00039,00,00039,00,00039,00,00039,00,00039,00,00039,00,00039,00,00039,00,00039,00,00039,00,00039,00,00039,00,00039,00,00039,00,00039,00,00039,00,00038,00,00038,00,00038,00,00038,00,00038,00,00038,00,00038,00,00038,00,00038,00,00038,00,00038,00,00038,00,00038,00,00038,00,00038,00,00038,00,00038,00,00038,00,00038,00,00038,00,00038,00,00038,00,00038,00,00038,00,00038,00,00038,00,00038,00,00038,00,00038,00,00038,00,00038,00,00038,00,00038,00,00038,00,00038,00,00038,00,00038,00,00038,00,00038,00,00038,00,00038,00,00038,00,00038,00,00038,00,00038,00,00038,00,00038,00,00038,00,00038,00,00038,00,00038,00,00038,00,00038,00,00037,00,00037,00,00037,00,00037,00,00037,00,00037,00,00037,00,00037,00,00037,00,00037,00,00037,00,00037,00,00037,00,00037,00,00037,00,00037,00,00037,00,00037,00,00037,00,00037,00,00037,00,00037,00,00037,00,00037,00,00037,00,00037,00,00037,00,00037,00,00037,00,00037,00,00037,00,00037,00,00037,00,00037,00,00037,00,00037,00,00037,00,00037,00,00037,00,00037,00,00037,00,00037,00,00037,00,00037,00,00037,00,00037,00,00037,00,00037,00,00036,00,00036,00,00036,00,00036,00,00036,00,00036,00,00036,00,00036,00,00036,00,00036,00,00036,00,00036,00,00036,00,00036,00,00036,00,00036,00,00036,00,00036,00,00036,00,00036,00,00036,00,00036,00,00036,00,00036,00,00036,00,00036,00,00036,00,00036,00,00036,00,00036,00,00036,00,00036,00,00036,00,00036,00,00036,00,00036,00,00036,00,00036,00,00035,00,00035,00,00035,00,00035,00,00035,00,00035,00,00035,00,00035,00,00035,00,00035,00,00035,00,00035,00,00035,00,00035,00,00035,00,00035,00,00035,00,00035,00,00035,00,00035,00,00035,00,00035,00,00035,00,00035,00,00035,00,00035,00,00035,00,00035,00,00035,00,00035,00,00035,00,00035,00,00035,00,00035,00,00035,00,00035,00,00035,00,00035,00,00035,00,00035,00,00035,00,00035,00,00035,00,00035,00,00035,00,00035,00,00035,00,00035,00,00035,00,00035,00,00035,00,00035,00,00035,00,00035,00,00035,00,00035,00,00035,00,00035,00,00035,00,00035,00,00035,00,00034,00,00034,00,00034,00,00034,00,00034,00,00034,00,00034,00,00034,00,00034,00,00034,00,00034,00,00034,00,00034,00,00034,00,00034,00,00034,00,00034,00,00034,00,00034,00,00034,00,00034,00,00034,00,00034,00,00034,00,00034,00,00034,00,00034,00,00034,00,00034,00,00034,00,00034,00,00034,00,00034,00,00034,00,00034,00,00034,00,00034,00,00034,00,00034,00,00034,00,00034,00,00034,00,00034,00,00034,00,00034,00,00034,00,00034,00,00034,00,00034,00,00034,00,00034,00,00033,00,00033,00,00033,00,00033,00,00033,00,00033,00,00033,00,00033,00,00033,00,00033,00,00033,00,00033,00,00033,00,00033,00,00033,00,00033,00,00033,00,00033,00,00033,00,00033,00,00033,00,00033,00,00033,00,00033,00,00033,00,00033,00,00033,00,00033,00,00033,00,00033,00,00033,00,00033,00,00033,00,00033,00,00033,00,00033,00,00033,00,00033,00,00033,00,00033,00,00033,00,00033,00,00033,00,00033,00,00033,00,00033,00,00033,00,00033,00,00033,00,00033,00,00032,00,00032,00,00032,00,00032,00,00032,00,00032,00,00032,00,00032,00,00032,00,00032,00,00032,00,00032,00,00032,00,00032,00,00032,00,00032,00,00032,00,00032,00,00032,00,00032,00,00032,00,00032,00,00032,00,00032,00,00032,00,00032,00,00032,00,00032,00,00032,00,00032,00,00032,00,00032,00,00032,00,00032,00,00032,00,00032,00,00032,00,00032,00,00032,00,00032,00,00032,00,00031,00,00031,00,00031,00,00031,00,00031,00,00031,00,00031,00,00031,00,00031,00,00031,00,00031,00,00031,00,00031,00,00031,00,00031,00,00031,00,00031,00,00031,00,00031,00,00031,00,00031,00,00031,00,00031,00,00031,00,00031,00,00031,00,00031,00,00031,00,00031,00,00031,00,00031,00,00031,00,00031,00,00031,00,00031,00,00031,00,00031,00,00031,00,00031,00,00031,00,00031,00,00031,00,00031,00,00031,00,00031,00,00031,00,00031,00,00031,00,00031,00,00031,00,00031,00,00031,00,00031,00,00031,00,00031,00,00031,00,00031,00,00031,00,00031,00,00031,00,00031,00,00031,00,00031,00,00031,00,00031,00,00031,00,00031,00,00031,00,00030,00,00030,00,00030,00,00030,00,00030,00,00030,00,00030,00,00030,00,00030,00,00030,00,00030,00,00030,00,00030,00,00030,00,00030,00,00030,00,00030,00,00030,00,00030,00,00030,00,00030,00,00030,00,00030,00,00030,00,00030,00,00030,00,00030,00,00030,00,00030,00,00030,00,00030,00,00030,00,00030,00,00030,00,00030,00,00030,00,00030,00,00030,00,00030,00,00030,00,00030,00,00030,00,00030,00,00030,00,00030,00,00030,00,00030,00,00030,00,00030,00,00030,00,00030,00,00030,00,00030,00,00030,00,00030,00,00030,00,00030,00,00029,00,00029,00,00029,00,00029,00,00029,00,00029,00,00029,00,00029,00,00029,00,00029,00,00029,00,00029,00,00029,00,00029,00,00029,00,00029,00,00029,00,00029,00,00029,00,00029,00,00029,00,00029,00,00029,00,00029,00,00029,00,00029,00,00029,00,00029,00,00029,00,00029,00,00029,00,00029,00,00029,00,00029,00,00029,00,00029,00,00029,00,00029,00,00029,00,00029,00,00029,00,00029,00,00029,00,00029,00,00029,00,00029,00,00029,00,00029,00,00029,00,00029,00,00029,00,00029,00,00029,00,00029,00,00029,00,00029,00,00029,00,00029,00,00028,00,00028,00,00028,00,00028,00,00028,00,00028,00,00028,00,00028,00,00028,00,00028,00,00028,00,00028,00,00028,00,00028,00,00028,00,00028,00,00028,00,00028,00,00028,00,00028,00,00028,00,00028,00,00028,00,00028,00,00028,00,00028,00,00028,00,00028,00,00028,00,00028,00,00028,00,00028,00,00028,00,00028,00,00028,00,00028,00,00028,00,00028,00,00028,00,00028,00,00028,00,00028,00,00028,00,00028,00,00028,00,00028,00,00028,00,00028,00,00028,00,00028,00,00028,00,00028,00,00028,00,00028,00,00028,00,00028,00,00028,00,00028,00,00028,00,00028,00,00028,00,00028,00,00028,00,00028,00,00028,00,00028,00,00028,00,00028,00,00027,00,00027,00,00027,00,00027,00,00027,00,00027,00,00027,00,00027,00,00027,00,00027,00,00027,00,00027,00,00027,00,00027,00,00027,00,00027,00,00027,00,00027,00,00027,00,00027,00,00027,00,00027,00,00027,00,00027,00,00027,00,00027,00,00027,00,00027,00,00027,00,00027,00,00027,00,00027,00,00027,00,00027,00,00027,00,00027,00,00027,00,00027,00,00027,00,00027,00,00027,00,00027,00,00027,00,00027,00,00027,00,00027,00,00027,00,00027,00,00027,00,00027,00,00027,00,00027,00,00027,00,00027,00,00027,00,00027,00,00027,00,00027,00,00027,00,00027,00,00027,00,00027,00,00027,00,00027,00,00027,00,00027,00,00027,00,00027,00,00027,00,00027,00,00027,00,00027,00,00027,00,00027,00,00027,00,00027,00,00027,00,00027,00,00026,00,00026,00,00026,00,00026,00,00026,00,00026,00,00026,00,00026,00,00026,00,00026,00,00026,00,00026,00,00026,00,00026,00,00026,00,00026,00,00026,00,00026,00,00026,00,00026,00,00026,00,00026,00,00026,00,00026,00,00026,00,00026,00,00026,00,00026,00,00026,00,00026,00,00026,00,00026,00,00026,00,00026,00,00026,00,00026,00,00026,00,00026,00,00026,00,00026,00,00026,00,00026,00,00026,00,00026,00,00026,00,00026,00,00026,00,00026,00,00026,00,00026,00,00026,00,00026,00,00026,00,00026,00,00026,00,00026,00,00026,00,00026,00,00026,00,00026,00,00026,00,00026,00,00026,00,00026,00,00026,00,00026,00,00026,00,00026,00,00026,00,00026,00,00026,00,00026,00,00026,00,00026,00,00026,00,00026,00,00026,00,00026,00,00026,00,00025,00,00025,00,00025,00,00025,00,00025,00,00025,00,00025,00,00025,00,00025,00,00025,00,00025,00,00025,00,00025,00,00025,00,00025,00,00025,00,00025,00,00025,00,00025,00,00025,00,00025,00,00025,00,00025,00,00025,00,00025,00,00025,00,00025,00,00025,00,00025,00,00025,00,00025,00,00025,00,00025,00,00025,00,00025,00,00025,00,00025,00,00025,00,00025,00,00025,00,00025,00,00025,00,00025,00,00025,00,00025,00,00025,00,00025,00,00025,00,00025,00,00025,00,00025,00,00025,00,00025,00,00025,00,00025,00,00025,00,00025,00,00025,00,00025,00,00025,00,00025,00,00025,00,00025,00,00025,00,00025,00,00025,00,00025,00,00025,00,00025,00,00025,00,00025,00,00025,00,00025,00,00025,00,00025,00,00025,00,00025,00,00025,00,00025,00,00025,00,00025,00,00025,00,00025,00,00025,00,00025,00,00025,00,00025,00,00025,00,00025,00,00025,00,00025,00,00025,00,00025,00,00025,00,00025,00,00025,00,00025,00,00025,00,00025,00,00024,00,00024,00,00024,00,00024,00,00024,00,00024,00,00024,00,00024,00,00024,00,00024,00,00024,00,00024,00,00024,00,00024,00,00024,00,00024,00,00024,00,00024,00,00024,00,00024,00,00024,00,00024,00,00024,00,00024,00,00024,00,00024,00,00024,00,00024,00,00024,00,00024,00,00024,00,00024,00,00024,00,00024,00,00024,00,00024,00,00024,00,00024,00,00024,00,00024,00,00024,00,00024,00,00024,00,00024,00,00024,00,00024,00,00024,00,00024,00,00024,00,00024,00,00024,00,00024,00,00024,00,00024,00,00024,00,00024,00,00024,00,00024,00,00024,00,00024,00,00024,00,00024,00,00024,00,00024,00,00024,00,00024,00,00024,00,00024,00,00024,00,00024,00,00024,00,00024,00,00024,00,00024,00,00024,00,00024,00,00024,00,00024,00,00024,00,00024,00,00024,00,00024,00,00024,00,00023,00,00023,00,00023,00,00023,00,00023,00,00023,00,00023,00,00023,00,00023,00,00023,00,00023,00,00023,00,00023,00,00023,00,00023,00,00023,00,00023,00,00023,00,00023,00,00023,00,00023,00,00023,00,00023,00,00023,00,00023,00,00023,00,00023,00,00023,00,00023,00,00023,00,00023,00,00023,00,00023,00,00023,00,00023,00,00023,00,00023,00,00023,00,00023,00,00023,00,00023,00,00023,00,00023,00,00023,00,00023,00,00023,00,00023,00,00023,00,00023,00,00023,00,00023,00,00023,00,00023,00,00023,00,00023,00,00023,00,00023,00,00023,00,00023,00,00023,00,00023,00,00023,00,00023,00,00023,00,00023,00,00023,00,00023,00,00023,00,00023,00,00023,00,00023,00,00023,00,00023,00,00023,00,00023,00,00023,00,00023,00,00023,00,00023,00,00023,00,00023,00,00022,00,00022,00,00022,00,00022,00,00022,00,00022,00,00022,00,00022,00,00022,00,00022,00,00022,00,00022,00,00022,00,00022,00,00022,00,00022,00,00022,00,00022,00,00022,00,00022,00,00022,00,00022,00,00022,00,00022,00,00022,00,00022,00,00022,00,00022,00,00022,00,00022,00,00022,00,00022,00,00022,00,00022,00,00022,00,00022,00,00022,00,00022,00,00022,00,00022,00,00022,00,00022,00,00022,00,00022,00,00022,00,00022,00,00022,00,00022,00,00022,00,00022,00,00022,00,00022,00,00022,00,00022,00,00022,00,00022,00,00022,00,00022,00,00022,00,00022,00,00022,00,00022,00,00022,00,00022,00,00022,00,00022,00,00022,00,00022,00,00022,00,00022,00,00022,00,00022,00,00022,00,00022,00,00022,00,00022,00,00022,00,00022,00,00022,00,00022,00,00022,00,00022,00,00022,00,00022,00,00022,00,00021,00,00021,00,00021,00,00021,00,00021,00,00021,00,00021,00,00021,00,00021,00,00021,00,00021,00,00021,00,00021,00,00021,00,00021,00,00021,00,00021,00,00021,00,00021,00,00021,00,00021,00,00021,00,00021,00,00021,00,00021,00,00021,00,00021,00,00021,00,00021,00,00021,00,00021,00,00021,00,00021,00,00021,00,00021,00,00021,00,00021,00,00021,00,00021,00,00021,00,00021,00,00021,00,00021,00,00021,00,00021,00,00021,00,00021,00,00021,00,00021,00,00021,00,00021,00,00021,00,00021,00,00021,00,00021,00,00021,00,00021,00,00021,00,00021,00,00021,00,00021,00,00021,00,00021,00,00021,00,00021,00,00021,00,00021,00,00021,00,00021,00,00021,00,00021,00,00021,00,00021,00,00021,00,00021,00,00021,00,00021,00,00020,00,00020,00,00020,00,00020,00,00020,00,00020,00,00020,00,00020,00,00020,00,00020,00,00020,00,00020,00,00020,00,00020,00,00020,00,00020,00,00020,00,00020,00,00020,00,00020,00,00020,00,00020,00,00020,00,00020,00,00020,00,00020,00,00020,00,00020,00,00020,00,00020,00,00020,00,00020,00,00020,00,00020,00,00020,00,00020,00,00020,00,00020,00,00020,00,00020,00,00020,00,00020,00,00020,00,00020,00,00020,00,00020,00,00020,00,00020,00,00020,00,00020,00,00020,00,00020,00,00020,00,00020,00,00020,00,00020,00,00020,00,00020,00,00020,00,00020,00,00020,00,00020,00,00020,00,00020,00,00020,00,00020,00,00020,00,00020,00,00020,00,00020,00,00020,00,00020,00,00020,00,00020,00,00020,00,00020,00,00020,00,00020,00,00020,00,00020,00,00020,00,00020,00,00020,00,00020,00,00020,00,00020,00,00020,00,00020,00,00020,00,00020,00,00020,00,00020,00,00020,00,00020,00,00020,00,00020,00,00020,00,00020,00,00020,00,00020,00,00020,00,00020,00,00020,00,00020,00,00020,00,00020,00,00020,00,00020,00,00020,00,00020,00,00020,00,00020,00,00020,00,00019,00,00019,00,00019,00,00019,00,00019,00,00019,00,00019,00,00019,00,00019,00,00019,00,00019,00,00019,00,00019,00,00019,00,00019,00,00019,00,00019,00,00019,00,00019,00,00019,00,00019,00,00019,00,00019,00,00019,00,00019,00,00019,00,00019,00,00019,00,00019,00,00019,00,00019,00,00019,00,00019,00,00019,00,00019,00,00019,00,00019,00,00019,00,00019,00,00019,00,00019,00,00019,00,00019,00,00019,00,00019,00,00019,00,00019,00,00019,00,00019,00,00019,00,00019,00,00019,00,00019,00,00019,00,00019,00,00019,00,00019,00,00019,00,00019,00,00019,00,00019,00,00019,00,00019,00,00019,00,00019,00,00019,00,00019,00,00019,00,00019,00,00019,00,00019,00,00019,00,00019,00,00019,00,00019,00,00019,00,00019,00,00019,00,00019,00,00019,00,00019,00,00019,00,00019,00,00019,00,00019,00,00019,00,00019,00,00019,00,00019,00,00019,00,00019,00,00019,00,00019,00,00019,00,00019,00,00019,00,00019,00,00019,00,00019,00,00019,00,00019,00,00019,00,00019,00,00019,00,00018,00,00018,00,00018,00,00018,00,00018,00,00018,00,00018,00,00018,00,00018,00,00018,00,00018,00,00018,00,00018,00,00018,00,00018,00,00018,00,00018,00,00018,00,00018,00,00018,00,00018,00,00018,00,00018,00,00018,00,00018,00,00018,00,00018,00,00018,00,00018,00,00018,00,00018,00,00018,00,00018,00,00018,00,00018,00,00018,00,00018,00,00018,00,00018,00,00018,00,00018,00,00018,00,00018,00,00018,00,00018,00,00018,00,00018,00,00018,00,00018,00,00018,00,00018,00,00018,00,00018,00,00018,00,00018,00,00018,00,00018,00,00018,00,00018,00,00018,00,00018,00,00018,00,00018,00,00018,00,00018,00,00018,00,00018,00,00018,00,00018,00,00018,00,00018,00,00018,00,00018,00,00018,00,00018,00,00018,00,00018,00,00018,00,00018,00,00018,00,00018,00,00018,00,00018,00,00018,00,00018,00,00018,00,00018,00,00018,00,00018,00,00018,00,00018,00,00018,00,00018,00,00018,00,00018,00,00018,00,00018,00,00018,00,00018,00,00018,00,00018,00,00018,00,00018,00,00018,00,00018,00,00018,00,00018,00,00018,00,00018,00,00018,00,00018,00,00018,00,00018,00,00018,00,00018,00,00018,00,00018,00,00018,00,00018,00,00018,00,00018,00,00018,00,00018,00,00018,00,00017,00,00017,00,00017,00,00017,00,00017,00,00017,00,00017,00,00017,00,00017,00,00017,00,00017,00,00017,00,00017,00,00017,00,00017,00,00017,00,00017,00,00017,00,00017,00,00017,00,00017,00,00017,00,00017,00,00017,00,00017,00,00017,00,00017,00,00017,00,00017,00,00017,00,00017,00,00017,00,00017,00,00017,00,00017,00,00017,00,00017,00,00017,00,00017,00,00017,00,00017,00,00017,00,00017,00,00017,00,00017,00,00017,00,00017,00,00017,00,00017,00,00017,00,00017,00,00017,00,00017,00,00017,00,00017,00,00017,00,00017,00,00017,00,00017,00,00017,00,00017,00,00017,00,00017,00,00017,00,00017,00,00017,00,00017,00,00017,00,00017,00,00017,00,00017,00,00017,00,00017,00,00017,00,00017,00,00017,00,00017,00,00017,00,00017,00,00017,00,00017,00,00017,00,00017,00,00017,00,00017,00,00017,00,00017,00,00017,00,00017,00,00017,00,00017,00,00017,00,00017,00,00017,00,00017,00,00017,00,00017,00,00017,00,00017,00,00017,00,00017,00,00017,00,00017,00,00017,00,00017,00,00017,00,00017,00,00017,00,00017,00,00016,00,00016,00,00016,00,00016,00,00016,00,00016,00,00016,00,00016,00,00016,00,00016,00,00016,00,00016,00,00016,00,00016,00,00016,00,00016,00,00016,00,00016,00,00016,00,00016,00,00016,00,00016,00,00016,00,00016,00,00016,00,00016,00,00016,00,00016,00,00016,00,00016,00,00016,00,00016,00,00016,00,00016,00,00016,00,00016,00,00016,00,00016,00,00016,00,00016,00,00016,00,00016,00,00016,00,00016,00,00016,00,00016,00,00016,00,00016,00,00016,00,00016,00,00016,00,00016,00,00016,00,00016,00,00016,00,00016,00,00016,00,00016,00,00016,00,00016,00,00016,00,00016,00,00016,00,00016,00,00016,00,00016,00,00016,00,00016,00,00016,00,00016,00,00016,00,00016,00,00016,00,00016,00,00016,00,00016,00,00016,00,00016,00,00016,00,00016,00,00016,00,00016,00,00016,00,00016,00,00016,00,00016,00,00016,00,00016,00,00016,00,00016,00,00016,00,00016,00,00016,00,00016,00,00016,00,00016,00,00016,00,00016,00,00016,00,00016,00,00016,00,00016,00,00016,00,00016,00,00016,00,00016,00,00016,00,00016,00,00016,00,00016,00,00016,00,00016,00,00016,00,00016,00,00016,00,00016,00,00016,00,00016,00,00016,00,00016,00,00016,00,00016,00,00016,00,00016,00,00016,00,00016,00,00016,00,00015,00,00015,00,00015,00,00015,00,00015,00,00015,00,00015,00,00015,00,00015,00,00015,00,00015,00,00015,00,00015,00,00015,00,00015,00,00015,00,00015,00,00015,00,00015,00,00015,00,00015,00,00015,00,00015,00,00015,00,00015,00,00015,00,00015,00,00015,00,00015,00,00015,00,00015,00,00015,00,00015,00,00015,00,00015,00,00015,00,00015,00,00015,00,00015,00,00015,00,00015,00,00015,00,00015,00,00015,00,00015,00,00015,00,00015,00,00015,00,00015,00,00015,00,00015,00,00015,00,00015,00,00015,00,00015,00,00015,00,00015,00,00015,00,00015,00,00015,00,00015,00,00015,00,00015,00,00015,00,00015,00,00015,00,00015,00,00015,00,00015,00,00015,00,00015,00,00015,00,00015,00,00015,00,00015,00,00015,00,00015,00,00015,00,00015,00,00015,00,00015,00,00015,00,00015,00,00015,00,00015,00,00015,00,00015,00,00015,00,00015,00,00015,00,00015,00,00015,00,00015,00,00015,00,00015,00,00015,00,00015,00,00015,00,00015,00,00015,00,00015,00,00015,00,00015,00,00015,00,00015,00,00015,00,00015,00,00015,00,00015,00,00015,00,00015,00,00015,00,00015,00,00015,00,00015,00,00015,00,00015,00,00015,00,00015,00,00015,00,00015,00,00015,00,00015,00,00015,00,00015,00,00015,00,00015,00,00015,00,00015,00,00015,00,00015,00,00015,00,00015,00,00015,00,00015,00,00015,00,00015,00,00015,00,00015,00,00015,00,00015,00,00015,00,00015,00,00015,00,00015,00,00015,00,00015,00,00015,00,00015,00,00015,00,00015,00,00014,00,00014,00,00014,00,00014,00,00014,00,00014,00,00014,00,00014,00,00014,00,00014,00,00014,00,00014,00,00014,00,00014,00,00014,00,00014,00,00014,00,00014,00,00014,00,00014,00,00014,00,00014,00,00014,00,00014,00,00014,00,00014,00,00014,00,00014,00,00014,00,00014,00,00014,00,00014,00,00014,00,00014,00,00014,00,00014,00,00014,00,00014,00,00014,00,00014,00,00014,00,00014,00,00014,00,00014,00,00014,00,00014,00,00014,00,00014,00,00014,00,00014,00,00014,00,00014,00,00014,00,00014,00,00014,00,00014,00,00014,00,00014,00,00014,00,00014,00,00014,00,00014,00,00014,00,00014,00,00014,00,00014,00,00014,00,00014,00,00014,00,00014,00,00014,00,00014,00,00014,00,00014,00,00014,00,00014,00,00014,00,00014,00,00014,00,00014,00,00014,00,00014,00,00014,00,00014,00,00014,00,00014,00,00014,00,00014,00,00014,00,00014,00,00014,00,00014,00,00014,00,00014,00,00014,00,00014,00,00014,00,00014,00,00014,00,00014,00,00014,00,00014,00,00014,00,00014,00,00014,00,00014,00,00014,00,00014,00,00014,00,00014,00,00014,00,00014,00,00014,00,00014,00,00014,00,00014,00,00014,00,00014,00,00014,00,00014,00,00014,00,00014,00,00014,00,00014,00,00014,00,00014,00,00014,00,00014,00,00014,00,00014,00,00014,00,00014,00,00014,00,00014,00,00014,00,00014,00,00014,00,00014,00,00014,00,00014,00,00014,00,00014,00,00014,00,00014,00,00014,00,00014,00,00014,00,00014,00,00014,00,00014,00,00014,00,00014,00,00014,00,00014,00,00014,00,00014,00,00014,00,00014,00,00014,00,00014,00,00014,00,00014,00,00014,00,00014,00,00014,00,00014,00,00014,00,00014,00,00014,00,00014,00,00014,00,00014,00,00014,00,00014,00,00014,00,00014,00,00014,00,00014,00,00013,00,00013,00,00013,00,00013,00,00013,00,00013,00,00013,00,00013,00,00013,00,00013,00,00013,00,00013,00,00013,00,00013,00,00013,00,00013,00,00013,00,00013,00,00013,00,00013,00,00013,00,00013,00,00013,00,00013,00,00013,00,00013,00,00013,00,00013,00,00013,00,00013,00,00013,00,00013,00,00013,00,00013,00,00013,00,00013,00,00013,00,00013,00,00013,00,00013,00,00013,00,00013,00,00013,00,00013,00,00013,00,00013,00,00013,00,00013,00,00013,00,00013,00,00013,00,00013,00,00013,00,00013,00,00013,00,00013,00,00013,00,00013,00,00013,00,00013,00,00013,00,00013,00,00013,00,00013,00,00013,00,00013,00,00013,00,00013,00,00013,00,00013,00,00013,00,00013,00,00013,00,00013,00,00013,00,00013,00,00013,00,00013,00,00013,00,00013,00,00013,00,00013,00,00013,00,00013,00,00013,00,00013,00,00013,00,00013,00,00013,00,00013,00,00013,00,00013,00,00013,00,00013,00,00013,00,00013,00,00013,00,00013,00,00013,00,00013,00,00013,00,00013,00,00013,00,00013,00,00013,00,00013,00,00013,00,00013,00,00013,00,00013,00,00013,00,00013,00,00013,00,00013,00,00013,00,00013,00,00013,00,00013,00,00013,00,00013,00,00013,00,00013,00,00013,00,00013,00,00013,00,00013,00,00013,00,00013,00,00013,00,00013,00,00013,00,00013,00,00013,00,00013,00,00013,00,00013,00,00013,00,00013,00,00013,00,00013,00,00013,00,00013,00,00013,00,00013,00,00013,00,00013,00,00013,00,00013,00,00013,00,00013,00,00013,00,00013,00,00013,00,00013,00,00013,00,00013,00,00013,00,00013,00,00013,00,00013,00,00013,00,00013,00,00013,00,00013,00,00013,00,00013,00,00013,00,00013,00,00013,00,00013,00,00013,00,00013,00,00013,00,00013,00,00013,00,00013,00,00013,00,00013,00,00013,00,00013,00,00013,00,00013,00,00013,00,00013,00,00013,00,00013,00,00013,00,00012,00,00012,00,00012,00,00012,00,00012,00,00012,00,00012,00,00012,00,00012,00,00012,00,00012,00,00012,00,00012,00,00012,00,00012,00,00012,00,00012,00,00012,00,00012,00,00012,00,00012,00,00012,00,00012,00,00012,00,00012,00,00012,00,00012,00,00012,00,00012,00,00012,00,00012,00,00012,00,00012,00,00012,00,00012,00,00012,00,00012,00,00012,00,00012,00,00012,00,00012,00,00012,00,00012,00,00012,00,00012,00,00012,00,00012,00,00012,00,00012,00,00012,00,00012,00,00012,00,00012,00,00012,00,00012,00,00012,00,00012,00,00012,00,00012,00,00012,00,00012,00,00012,00,00012,00,00012,00,00012,00,00012,00,00012,00,00012,00,00012,00,00012,00,00012,00,00012,00,00012,00,00012,00,00012,00,00012,00,00012,00,00012,00,00012,00,00012,00,00012,00,00012,00,00012,00,00012,00,00012,00,00012,00,00012,00,00012,00,00012,00,00012,00,00012,00,00012,00,00012,00,00012,00,00012,00,00012,00,00012,00,00012,00,00012,00,00012,00,00012,00,00012,00,00012,00,00012,00,00012,00,00012,00,00012,00,00012,00,00012,00,00012,00,00012,00,00012,00,00012,00,00012,00,00012,00,00012,00,00012,00,00012,00,00012,00,00012,00,00012,00,00012,00,00012,00,00012,00,00012,00,00012,00,00012,00,00012,00,00012,00,00012,00,00012,00,00012,00,00012,00,00012,00,00012,00,00012,00,00012,00,00012,00,00012,00,00012,00,00012,00,00012,00,00012,00,00012,00,00012,00,00012,00,00012,00,00012,00,00012,00,00012,00,00012,00,00012,00,00012,00,00012,00,00012,00,00012,00,00012,00,00012,00,00012,00,00012,00,00012,00,00012,00,00012,00,00012,00,00012,00,00012,00,00012,00,00012,00,00012,00,00012,00,00012,00,00012,00,00012,00,00012,00,00012,00,00012,00,00012,00,00012,00,00012,00,00012,00,00012,00,00012,00,00012,00,00012,00,00012,00,00012,00,00012,00,00012,00,00011,00,00011,00,00011,00,00011,00,00011,00,00011,00,00011,00,00011,00,00011,00,00011,00,00011,00,00011,00,00011,00,00011,00,00011,00,00011,00,00011,00,00011,00,00011,00,00011,00,00011,00,00011,00,00011,00,00011,00,00011,00,00011,00,00011,00,00011,00,00011,00,00011,00,00011,00,00011,00,00011,00,00011,00,00011,00,00011,00,00011,00,00011,00,00011,00,00011,00,00011,00,00011,00,00011,00,00011,00,00011,00,00011,00,00011,00,00011,00,00011,00,00011,00,00011,00,00011,00,00011,00,00011,00,00011,00,00011,00,00011,00,00011,00,00011,00,00011,00,00011,00,00011,00,00011,00,00011,00,00011,00,00011,00,00011,00,00011,00,00011,00,00011,00,00011,00,00011,00,00011,00,00011,00,00011,00,00011,00,00011,00,00011,00,00011,00,00011,00,00011,00,00011,00,00011,00,00011,00,00011,00,00011,00,00011,00,00011,00,00011,00,00011,00,00011,00,00011,00,00011,00,00011,00,00011,00,00011,00,00011,00,00011,00,00011,00,00011,00,00011,00,00011,00,00011,00,00011,00,00011,00,00011,00,00011,00,00011,00,00011,00,00011,00,00011,00,00011,00,00011,00,00011,00,00011,00,00011,00,00011,00,00011,00,00011,00,00011,00,00011,00,00011,00,00011,00,00011,00,00011,00,00011,00,00011,00,00011,00,00011,00,00011,00,00011,00,00011,00,00011,00,00011,00,00011,00,00011,00,00011,00,00011,00,00011,00,00011,00,00011,00,00011,00,00011,00,00011,00,00011,00,00011,00,00011,00,00011,00,00011,00,00011,00,00011,00,00011,00,00011,00,00011,00,00011,00,00011,00,00011,00,00011,00,00011,00,00011,00,00011,00,00011,00,00011,00,00011,00,00011,00,00011,00,00011,00,00011,00,00011,00,00011,00,00011,00,00011,00,00011,00,00011,00,00011,00,00011,00,00011,00,00011,00,00011,00,00011,00,00011,00,00011,00,00011,00,00011,00,00011,00,00011,00,00011,00,00011,00,00011,00,00011,00,00011,00,00011,00,00011,00,00011,00,00011,00,00011,00,00011,00,00011,00,00011,00,00011,00,00011,00,00011,00,00011,00,00011,00,00011,00,00011,00,00011,00,00011,00,00011,00,00011,00,00011,00,00011,00,00011,00,00011,00,00011,00,00011,00,00011,00,00011,00,00010,00,00010,00,00010,00,00010,00,00010,00,00010,00,00010,00,00010,00,00010,00,00010,00,00010,00,00010,00,00010,00,00010,00,00010,00,00010,00,00010,00,00010,00,00010,00,00010,00,00010,00,00010,00,00010,00,00010,00,00010,00,00010,00,00010,00,00010,00,00010,00,00010,00,00010,00,00010,00,00010,00,00010,00,00010,00,00010,00,00010,00,00010,00,00010,00,00010,00,00010,00,00010,00,00010,00,00010,00,00010,00,00010,00,00010,00,00010,00,00010,00,00010,00,00010,00,00010,00,00010,00,00010,00,00010,00,00010,00,00010,00,00010,00,00010,00,00010,00,00010,00,00010,00,00010,00,00010,00,00010,00,00010,00,00010,00,00010,00,00010,00,00010,00,00010,00,00010,00,00010,00,00010,00,00010,00,00010,00,00010,00,00010,00,00010,00,00010,00,00010,00,00010,00,00010,00,00010,00,00010,00,00010,00,00010,00,00010,00,00010,00,00010,00,00010,00,00010,00,00010,00,00010,00,00010,00,00010,00,00010,00,00010,00,00010,00,00010,00,00010,00,00010,00,00010,00,00010,00,00010,00,00010,00,00010,00,00010,00,00010,00,00010,00,00010,00,00010,00,00010,00,00010,00,00010,00,00010,00,00010,00,00010,00,00010,00,00010,00,00010,00,00010,00,00010,00,00010,00,00010,00,00010,00,00010,00,00010,00,00010,00,00010,00,00010,00,00010,00,00010,00,00010,00,00010,00,00010,00,00010,00,00010,00,00010,00,00010,00,00010,00,00010,00,00010,00,00010,00,00010,00,00010,00,00010,00,00010,00,00010,00,00010,00,00010,00,00010,00,00010,00,00010,00,00010,00,00010,00,00010,00,00010,00,00010,00,00010,00,00010,00,00010,00,00010,00,00010,00,00010,00,00010,00,00010,00,00010,00,00010,00,00010,00,00010,00,00010,00,00010,00,00010,00,00010,00,00010,00,00010,00,00010,00,00010,00,00010,00,00010,00,00010,00,00010,00,00010,00,00010,00,00010,00,00010,00,00010,00,00010,00,00010,00,00010,00,00010,00,00010,00,00010,00,00010,00,00010,00,00010,00,00010,00,00010,00,00010,00,00010,00,00010,00,00010,00,00010,00,00010,00,00010,00,00010,00,00010,00,00010,00,00010,00,00010,00,00010,00,00010,00,00010,00,00010,00,00010,00,00010,00,00010,00,00010,00,00010,00,00010,00,00010,00,00010,00,00010,00,00010,00,00010,00,00010,00,00010,00,00010,00,00010,00,00010,00,00010,00,00010,00,00010,00,00010,00,00010,00,00010,00,00010,00,00010,00,00010,00,00010,00,00010,00,00010,00,0009,00,0009,00,0009,00,0009,00,0009,00,0009,00,0009,00,0009,00,0009,00,0009,00,0009,00,0009,00,0009,00,0009,00,0009,00,0009,00,0009,00,0009,00,0009,00,0009,00,0009,00,0009,00,0009,00,0009,00,0009,00,0009,00,0009,00,0009,00,0009,00,0009,00,0009,00,0009,00,0009,00,0009,00,0009,00,0009,00,0009,00,0009,00,0009,00,0009,00,0009,00,0009,00,0009,00,0009,00,0009,00,0009,00,0009,00,0009,00,0009,00,0009,00,0009,00,0009,00,0009,00,0009,00,0009,00,0009,00,0009,00,0009,00,0009,00,0009,00,0009,00,0009,00,0009,00,0009,00,0009,00,0009,00,0009,00,0009,00,0009,00,0009,00,0009,00,0009,00,0009,00,0009,00,0009,00,0009,00,0009,00,0009,00,0009,00,0009,00,0009,00,0009,00,0009,00,0009,00,0009,00,0009,00,0009,00,0009,00,0009,00,0009,00,0009,00,0009,00,0009,00,0009,00,0009,00,0009,00,0009,00,0009,00,0009,00,0009,00,0009,00,0009,00,0009,00,0009,00,0009,00,0009,00,0009,00,0009,00,0009,00,0009,00,0009,00,0009,00,0009,00,0009,00,0009,00,0009,00,0009,00,0009,00,0009,00,0009,00,0009,00,0009,00,0009,00,0009,00,0009,00,0009,00,0009,00,0009,00,0009,00,0009,00,0009,00,0009,00,0009,00,0009,00,0009,00,0009,00,0009,00,0009,00,0009,00,0009,00,0009,00,0009,00,0009,00,0009,00,0009,00,0009,00,0009,00,0009,00,0009,00,0009,00,0009,00,0009,00,0009,00,0009,00,0009,00,0009,00,0009,00,0009,00,0009,00,0009,00,0009,00,0009,00,0009,00,0009,00,0009,00,0009,00,0009,00,0009,00,0009,00,0009,00,0009,00,0009,00,0009,00,0009,00,0009,00,0009,00,0009,00,0009,00,0009,00,0009,00,0009,00,0009,00,0009,00,0009,00,0009,00,0009,00,0009,00,0009,00,0009,00,0009,00,0009,00,0009,00,0009,00,0009,00,0009,00,0009,00,0009,00,0009,00,0009,00,0009,00,0009,00,0009,00,0009,00,0009,00,0009,00,0009,00,0009,00,0009,00,0009,00,0009,00,0009,00,0009,00,0009,00,0009,00,0009,00,0009,00,0009,00,0009,00,0009,00,0009,00,0009,00,0009,00,0009,00,0009,00,0009,00,0009,00,0009,00,0009,00,0009,00,0009,00,0009,00,0009,00,0009,00,0009,00,0009,00,0009,00,0009,00,0009,00,0009,00,0009,00,0009,00,0009,00,0009,00,0009,00,0009,00,0009,00,0009,00,0009,00,0009,00,0009,00,0009,00,0009,00,0009,00,0009,00,0009,00,0009,00,0009,00,0009,00,0009,00,0009,00,0009,00,0009,00,0009,00,0009,00,0009,00,0009,00,0009,00,0009,00,0009,00,0009,00,0009,00,0009,00,0009,00,0009,00,0009,00,0009,00,0009,00,0009,00,0009,00,0009,00,0009,00,0009,00,0009,00,0009,00,0009,00,0009,00,0009,00,0009,00,0009,00,0009,00,0009,00,0009,00,0009,00,0009,00,0009,00,0009,00,0008,00,0008,00,0008,00,0008,00,0008,00,0008,00,0008,00,0008,00,0008,00,0008,00,0008,00,0008,00,0008,00,0008,00,0008,00,0008,00,0008,00,0008,00,0008,00,0008,00,0008,00,0008,00,0008,00,0008,00,0008,00,0008,00,0008,00,0008,00,0008,00,0008,00,0008,00,0008,00,0008,00,0008,00,0008,00,0008,00,0008,00,0008,00,0008,00,0008,00,0008,00,0008,00,0008,00,0008,00,0008,00,0008,00,0008,00,0008,00,0008,00,0008,00,0008,00,0008,00,0008,00,0008,00,0008,00,0008,00,0008,00,0008,00,0008,00,0008,00,0008,00,0008,00,0008,00,0008,00,0008,00,0008,00,0008,00,0008,00,0008,00,0008,00,0008,00,0008,00,0008,00,0008,00,0008,00,0008,00,0008,00,0008,00,0008,00,0008,00,0008,00,0008,00,0008,00,0008,00,0008,00,0008,00,0008,00,0008,00,0008,00,0008,00,0008,00,0008,00,0008,00,0008,00,0008,00,0008,00,0008,00,0008,00,0008,00,0008,00,0008,00,0008,00,0008,00,0008,00,0008,00,0008,00,0008,00,0008,00,0008,00,0008,00,0008,00,0008,00,0008,00,0008,00,0008,00,0008,00,0008,00,0008,00,0008,00,0008,00,0008,00,0008,00,0008,00,0008,00,0008,00,0008,00,0008,00,0008,00,0008,00,0008,00,0008,00,0008,00,0008,00,0008,00,0008,00,0008,00,0008,00,0008,00,0008,00,0008,00,0008,00,0008,00,0008,00,0008,00,0008,00,0008,00,0008,00,0008,00,0008,00,0008,00,0008,00,0008,00,0008,00,0008,00,0008,00,0008,00,0008,00,0008,00,0008,00,0008,00,0008,00,0008,00,0008,00,0008,00,0008,00,0008,00,0008,00,0008,00,0008,00,0008,00,0008,00,0008,00,0008,00,0008,00,0008,00,0008,00,0008,00,0008,00,0008,00,0008,00,0008,00,0008,00,0008,00,0008,00,0008,00,0008,00,0008,00,0008,00,0008,00,0008,00,0008,00,0008,00,0008,00,0008,00,0008,00,0008,00,0008,00,0008,00,0008,00,0008,00,0008,00,0008,00,0008,00,0008,00,0008,00,0008,00,0008,00,0008,00,0008,00,0008,00,0008,00,0008,00,0008,00,0008,00,0008,00,0008,00,0008,00,0008,00,0008,00,0008,00,0008,00,0008,00,0008,00,0008,00,0008,00,0008,00,0008,00,0008,00,0008,00,0008,00,0008,00,0008,00,0008,00,0008,00,0008,00,0008,00,0008,00,0008,00,0008,00,0008,00,0008,00,0008,00,0008,00,0008,00,0008,00,0008,00,0008,00,0008,00,0008,00,0008,00,0008,00,0008,00,0008,00,0008,00,0008,00,0008,00,0008,00,0008,00,0008,00,0008,00,0008,00,0008,00,0008,00,0008,00,0008,00,0008,00,0008,00,0008,00,0008,00,0008,00,0008,00,0008,00,0008,00,0008,00,0008,00,0008,00,0008,00,0008,00,0008,00,0008,00,0008,00,0008,00,0008,00,0008,00,0008,00,0008,00,0008,00,0008,00,0008,00,0008,00,0008,00,0008,00,0008,00,0008,00,0008,00,0008,00,0008,00,0008,00,0008,00,0008,00,0008,00,0008,00,0008,00,0008,00,0008,00,0008,00,0008,00,0008,00,0008,00,0008,00,0008,00,0008,00,0008,00,0008,00,0008,00,0008,00,0008,00,0008,00,0008,00,0008,00,0008,00,0008,00,0008,00,0008,00,0008,00,0008,00,0008,00,0008,00,0008,00,0008,00,0007,00,0007,00,0007,00,0007,00,0007,00,0007,00,0007,00,0007,00,0007,00,0007,00,0007,00,0007,00,0007,00,0007,00,0007,00,0007,00,0007,00,0007,00,0007,00,0007,00,0007,00,0007,00,0007,00,0007,00,0007,00,0007,00,0007,00,0007,00,0007,00,0007,00,0007,00,0007,00,0007,00,0007,00,0007,00,0007,00,0007,00,0007,00,0007,00,0007,00,0007,00,0007,00,0007,00,0007,00,0007,00,0007,00,0007,00,0007,00,0007,00,0007,00,0007,00,0007,00,0007,00,0007,00,0007,00,0007,00,0007,00,0007,00,0007,00,0007,00,0007,00,0007,00,0007,00,0007,00,0007,00,0007,00,0007,00,0007,00,0007,00,0007,00,0007,00,0007,00,0007,00,0007,00,0007,00,0007,00,0007,00,0007,00,0007,00,0007,00,0007,00,0007,00,0007,00,0007,00,0007,00,0007,00,0007,00,0007,00,0007,00,0007,00,0007,00,0007,00,0007,00,0007,00,0007,00,0007,00,0007,00,0007,00,0007,00,0007,00,0007,00,0007,00,0007,00,0007,00,0007,00,0007,00,0007,00,0007,00,0007,00,0007,00,0007,00,0007,00,0007,00,0007,00,0007,00,0007,00,0007,00,0007,00,0007,00,0007,00,0007,00,0007,00,0007,00,0007,00,0007,00,0007,00,0007,00,0007,00,0007,00,0007,00,0007,00,0007,00,0007,00,0007,00,0007,00,0007,00,0007,00,0007,00,0007,00,0007,00,0007,00,0007,00,0007,00,0007,00,0007,00,0007,00,0007,00,0007,00,0007,00,0007,00,0007,00,0007,00,0007,00,0007,00,0007,00,0007,00,0007,00,0007,00,0007,00,0007,00,0007,00,0007,00,0007,00,0007,00,0007,00,0007,00,0007,00,0007,00,0007,00,0007,00,0007,00,0007,00,0007,00,0007,00,0007,00,0007,00,0007,00,0007,00,0007,00,0007,00,0007,00,0007,00,0007,00,0007,00,0007,00,0007,00,0007,00,0007,00,0007,00,0007,00,0007,00,0007,00,0007,00,0007,00,0007,00,0007,00,0007,00,0007,00,0007,00,0007,00,0007,00,0007,00,0007,00,0007,00,0007,00,0007,00,0007,00,0007,00,0007,00,0007,00,0007,00,0007,00,0007,00,0007,00,0007,00,0007,00,0007,00,0007,00,0007,00,0007,00,0007,00,0007,00,0007,00,0007,00,0007,00,0007,00,0007,00,0007,00,0007,00,0007,00,0007,00,0007,00,0007,00,0007,00,0007,00,0007,00,0007,00,0007,00,0007,00,0007,00,0007,00,0007,00,0007,00,0007,00,0007,00,0007,00,0007,00,0007,00,0007,00,0007,00,0007,00,0007,00,0007,00,0007,00,0007,00,0007,00,0007,00,0007,00,0007,00,0007,00,0007,00,0007,00,0007,00,0007,00,0007,00,0007,00,0007,00,0007,00,0007,00,0007,00,0007,00,0007,00,0007,00,0007,00,0007,00,0007,00,0007,00,0007,00,0007,00,0007,00,0007,00,0007,00,0007,00,0007,00,0007,00,0007,00,0007,00,0007,00,0007,00,0007,00,0007,00,0007,00,0007,00,0007,00,0007,00,0007,00,0007,00,0007,00,0007,00,0007,00,0007,00,0007,00,0007,00,0007,00,0007,00,0007,00,0007,00,0007,00,0007,00,0007,00,0007,00,0007,00,0007,00,0007,00,0007,00,0007,00,0007,00,0007,00,0007,00,0007,00,0007,00,0007,00,0007,00,0007,00,0007,00,0007,00,0007,00,0007,00,0007,00,0007,00,0007,00,0007,00,0007,00,0007,00,0007,00,0007,00,0007,00,0007,00,0007,00,0007,00,0007,00,0007,00,0007,00,0007,00,0007,00,0007,00,0007,00,0007,00,0007,00,0007,00,0007,00,0007,00,0007,00,0007,00,0007,00,0007,00,0007,00,0007,00,0007,00,0007,00,0007,00,0007,00,0007,00,0007,00,0007,00,0007,00,0007,00,0007,00,0007,00,0007,00,0007,00,0007,00,0007,00,0007,00,0007,00,0007,00,0007,00,0007,00,0007,00,0007,00,0007,00,0007,00,0006,00,0006,00,0006,00,0006,00,0006,00,0006,00,0006,00,0006,00,0006,00,0006,00,0006,00,0006,00,0006,00,0006,00,0006,00,0006,00,0006,00,0006,00,0006,00,0006,00,0006,00,0006,00,0006,00,0006,00,0006,00,0006,00,0006,00,0006,00,0006,00,0006,00,0006,00,0006,00,0006,00,0006,00,0006,00,0006,00,0006,00,0006,00,0006,00,0006,00,0006,00,0006,00,0006,00,0006,00,0006,00,0006,00,0006,00,0006,00,0006,00,0006,00,0006,00,0006,00,0006,00,0006,00,0006,00,0006,00,0006,00,0006,00,0006,00,0006,00,0006,00,0006,00,0006,00,0006,00,0006,00,0006,00,0006,00,0006,00,0006,00,0006,00,0006,00,0006,00,0006,00,0006,00,0006,00,0006,00,0006,00,0006,00,0006,00,0006,00,0006,00,0006,00,0006,00,0006,00,0006,00,0006,00,0006,00,0006,00,0006,00,0006,00,0006,00,0006,00,0006,00,0006,00,0006,00,0006,00,0006,00,0006,00,0006,00,0006,00,0006,00,0006,00,0006,00,0006,00,0006,00,0006,00,0006,00,0006,00,0006,00,0006,00,0006,00,0006,00,0006,00,0006,00,0006,00,0006,00,0006,00,0006,00,0006,00,0006,00,0006,00,0006,00,0006,00,0006,00,0006,00,0006,00,0006,00,0006,00,0006,00,0006,00,0006,00,0006,00,0006,00,0006,00,0006,00,0006,00,0006,00,0006,00,0006,00,0006,00,0006,00,0006,00,0006,00,0006,00,0006,00,0006,00,0006,00,0006,00,0006,00,0006,00,0006,00,0006,00,0006,00,0006,00,0006,00,0006,00,0006,00,0006,00,0006,00,0006,00,0006,00,0006,00,0006,00,0006,00,0006,00,0006,00,0006,00,0006,00,0006,00,0006,00,0006,00,0006,00,0006,00,0006,00,0006,00,0006,00,0006,00,0006,00,0006,00,0006,00,0006,00,0006,00,0006,00,0006,00,0006,00,0006,00,0006,00,0006,00,0006,00,0006,00,0006,00,0006,00,0006,00,0006,00,0006,00,0006,00,0006,00,0006,00,0006,00,0006,00,0006,00,0006,00,0006,00,0006,00,0006,00,0006,00,0006,00,0006,00,0006,00,0006,00,0006,00,0006,00,0006,00,0006,00,0006,00,0006,00,0006,00,0006,00,0006,00,0006,00,0006,00,0006,00,0006,00,0006,00,0006,00,0006,00,0006,00,0006,00,0006,00,0006,00,0006,00,0006,00,0006,00,0006,00,0006,00,0006,00,0006,00,0006,00,0006,00,0006,00,0006,00,0006,00,0006,00,0006,00,0006,00,0006,00,0006,00,0006,00,0006,00,0006,00,0006,00,0006,00,0006,00,0006,00,0006,00,0006,00,0006,00,0006,00,0006,00,0006,00,0006,00,0006,00,0006,00,0006,00,0006,00,0006,00,0006,00,0006,00,0006,00,0006,00,0006,00,0006,00,0006,00,0006,00,0006,00,0006,00,0006,00,0006,00,0006,00,0006,00,0006,00,0006,00,0006,00,0006,00,0006,00,0006,00,0006,00,0006,00,0006,00,0006,00,0006,00,0006,00,0006,00,0006,00,0006,00,0006,00,0006,00,0006,00,0006,00,0006,00,0006,00,0006,00,0006,00,0006,00,0006,00,0006,00,0006,00,0006,00,0006,00,0006,00,0006,00,0006,00,0006,00,0006,00,0006,00,0006,00,0006,00,0006,00,0006,00,0006,00,0006,00,0006,00,0006,00,0006,00,0006,00,0006,00,0006,00,0006,00,0006,00,0006,00,0006,00,0006,00,0006,00,0006,00,0006,00,0006,00,0006,00,0006,00,0006,00,0006,00,0006,00,0006,00,0006,00,0006,00,0006,00,0006,00,0006,00,0006,00,0006,00,0006,00,0006,00,0006,00,0006,00,0006,00,0006,00,0006,00,0006,00,0006,00,0006,00,0006,00,0006,00,0006,00,0006,00,0006,00,0006,00,0006,00,0006,00,0006,00,0006,00,0006,00,0006,00,0006,00,0006,00,0006,00,0006,00,0006,00,0006,00,0006,00,0006,00,0006,00,0006,00,0006,00,0006,00,0006,00,0006,00,0006,00,0006,00,0006,00,0006,00,0006,00,0006,00,0006,00,0006,00,0006,00,0006,00,0006,00,0006,00,0006,00,0006,00,0006,00,0006,00,0006,00,0006,00,0006,00,0006,00,0006,00,0006,00,0006,00,0006,00,0006,00,0006,00,0006,00,0006,00,0006,00,0006,00,0006,00,0006,00,0006,00,0006,00,0006,00,0006,00,0006,00,0006,00,0006,00,0006,00,0006,00,0006,00,0006,00,0006,00,0006,00,0006,00,0006,00,0006,00,0006,00,0006,00,0006,00,0006,00,0006,00,0006,00,0006,00,0006,00,0006,00,0006,00,0006,00,0006,00,0006,00,0006,00,0006,00,0006,00,0006,00,0006,00,0006,00,0005,00,0005,00,0005,00,0005,00,0005,00,0005,00,0005,00,0005,00,0005,00,0005,00,0005,00,0005,00,0005,00,0005,00,0005,00,0005,00,0005,00,0005,00,0005,00,0005,00,0005,00,0005,00,0005,00,0005,00,0005,00,0005,00,0005,00,0005,00,0005,00,0005,00,0005,00,0005,00,0005,00,0005,00,0005,00,0005,00,0005,00,0005,00,0005,00,0005,00,0005,00,0005,00,0005,00,0005,00,0005,00,0005,00,0005,00,0005,00,0005,00,0005,00,0005,00,0005,00,0005,00,0005,00,0005,00,0005,00,0005,00,0005,00,0005,00,0005,00,0005,00,0005,00,0005,00,0005,00,0005,00,0005,00,0005,00,0005,00,0005,00,0005,00,0005,00,0005,00,0005,00,0005,00,0005,00,0005,00,0005,00,0005,00,0005,00,0005,00,0005,00,0005,00,0005,00,0005,00,0005,00,0005,00,0005,00,0005,00,0005,00,0005,00,0005,00,0005,00,0005,00,0005,00,0005,00,0005,00,0005,00,0005,00,0005,00,0005,00,0005,00,0005,00,0005,00,0005,00,0005,00,0005,00,0005,00,0005,00,0005,00,0005,00,0005,00,0005,00,0005,00,0005,00,0005,00,0005,00,0005,00,0005,00,0005,00,0005,00,0005,00,0005,00,0005,00,0005,00,0005,00,0005,00,0005,00,0005,00,0005,00,0005,00,0005,00,0005,00,0005,00,0005,00,0005,00,0005,00,0005,00,0005,00,0005,00,0005,00,0005,00,0005,00,0005,00,0005,00,0005,00,0005,00,0005,00,0005,00,0005,00,0005,00,0005,00,0005,00,0005,00,0005,00,0005,00,0005,00,0005,00,0005,00,0005,00,0005,00,0005,00,0005,00,0005,00,0005,00,0005,00,0005,00,0005,00,0005,00,0005,00,0005,00,0005,00,0005,00,0005,00,0005,00,0005,00,0005,00,0005,00,0005,00,0005,00,0005,00,0005,00,0005,00,0005,00,0005,00,0005,00,0005,00,0005,00,0005,00,0005,00,0005,00,0005,00,0005,00,0005,00,0005,00,0005,00,0005,00,0005,00,0005,00,0005,00,0005,00,0005,00,0005,00,0005,00,0005,00,0005,00,0005,00,0005,00,0005,00,0005,00,0005,00,0005,00,0005,00,0005,00,0005,00,0005,00,0005,00,0005,00,0005,00,0005,00,0005,00,0005,00,0005,00,0005,00,0005,00,0005,00,0005,00,0005,00,0005,00,0005,00,0005,00,0005,00,0005,00,0005,00,0005,00,0005,00,0005,00,0005,00,0005,00,0005,00,0005,00,0005,00,0005,00,0005,00,0005,00,0005,00,0005,00,0005,00,0005,00,0005,00,0005,00,0005,00,0005,00,0005,00,0005,00,0005,00,0005,00,0005,00,0005,00,0005,00,0005,00,0005,00,0005,00,0005,00,0005,00,0005,00,0005,00,0005,00,0005,00,0005,00,0005,00,0005,00,0005,00,0005,00,0005,00,0005,00,0005,00,0005,00,0005,00,0005,00,0005,00,0005,00,0005,00,0005,00,0005,00,0005,00,0005,00,0005,00,0005,00,0005,00,0005,00,0005,00,0005,00,0005,00,0005,00,0005,00,0005,00,0005,00,0005,00,0005,00,0005,00,0005,00,0005,00,0005,00,0005,00,0005,00,0005,00,0005,00,0005,00,0005,00,0005,00,0005,00,0005,00,0005,00,0005,00,0005,00,0005,00,0005,00,0005,00,0005,00,0005,00,0005,00,0005,00,0005,00,0005,00,0005,00,0005,00,0005,00,0005,00,0005,00,0005,00,0005,00,0005,00,0005,00,0005,00,0005,00,0005,00,0005,00,0005,00,0005,00,0005,00,0005,00,0005,00,0005,00,0005,00,0005,00,0005,00,0005,00,0005,00,0005,00,0005,00,0005,00,0005,00,0005,00,0005,00,0005,00,0005,00,0005,00,0005,00,0005,00,0005,00,0005,00,0005,00,0005,00,0005,00,0005,00,0005,00,0005,00,0005,00,0005,00,0005,00,0005,00,0005,00,0005,00,0005,00,0005,00,0005,00,0005,00,0005,00,0005,00,0005,00,0005,00,0005,00,0005,00,0005,00,0005,00,0005,00,0005,00,0005,00,0005,00,0005,00,0005,00,0005,00,0005,00,0005,00,0005,00,0005,00,0005,00,0005,00,0005,00,0005,00,0005,00,0005,00,0005,00,0005,00,0005,00,0005,00,0005,00,0005,00,0005,00,0005,00,0005,00,0005,00,0005,00,0005,00,0005,00,0005,00,0005,00,0005,00,0005,00,0005,00,0005,00,0005,00,0005,00,0005,00,0005,00,0005,00,0005,00,0005,00,0005,00,0005,00,0005,00,0005,00,0005,00,0005,00,0005,00,0005,00,0005,00,0005,00,0005,00,0005,00,0005,00,0005,00,0005,00,0005,00,0005,00,0005,00,0005,00,0005,00,0005,00,0005,00,0005,00,0005,00,0005,00,0005,00,0005,00,0005,00,0005,00,0005,00,0005,00,0005,00,0005,00,0005,00,0005,00,0005,00,0005,00,0005,00,0005,00,0005,00,0005,00,0005,00,0005,00,0005,00,0005,00,0005,00,0005,00,0005,00,0005,00,0005,00,0005,00,0005,00,0005,00,0005,00,0005,00,0005,00,0005,00,0005,00,0005,00,0005,00,0005,00,0005,00,0005,00,0005,00,0005,00,0005,00,0005,00,0005,00,0005,00,0005,00,0005,00,0005,00,0005,00,0005,00,0005,00,0005,00,0005,00,0005,00,0005,00,0005,00,0005,00,0005,00,0005,00,0005,00,0005,00,0005,00,0005,00,0005,00,0005,00,0005,00,0005,00,0005,00,0005,00,0005,00,0005,00,0005,00,0005,00,0005,00,0005,00,0005,00,0005,00,0005,00,0005,00,0005,00,0005,00,0005,00,0005,00,0005,00,0005,00,0005,00,0005,00,0005,00,0005,00,0005,00,0005,00,0005,00,0005,00,0005,00,0005,00,0005,00,0005,00,0005,00,0005,00,0005,00,0005,00,0005,00,0005,00,0005,00,0005,00,0005,00,0005,00,0005,00,0005,00,0005,00,0005,00,0005,00,0005,00,0005,00,0005,00,0005,00,0004,00,0004,00,0004,00,0004,00,0004,00,0004,00,0004,00,0004,00,0004,00,0004,00,0004,00,0004,00,0004,00,0004,00,0004,00,0004,00,0004,00,0004,00,0004,00,0004,00,0004,00,0004,00,0004,00,0004,00,0004,00,0004,00,0004,00,0004,00,0004,00,0004,00,0004,00,0004,00,0004,00,0004,00,0004,00,0004,00,0004,00,0004,00,0004,00,0004,00,0004,00,0004,00,0004,00,0004,00,0004,00,0004,00,0004,00,0004,00,0004,00,0004,00,0004,00,0004,00,0004,00,0004,00,0004,00,0004,00,0004,00,0004,00,0004,00,0004,00,0004,00,0004,00,0004,00,0004,00,0004,00,0004,00,0004,00,0004,00,0004,00,0004,00,0004,00,0004,00,0004,00,0004,00,0004,00,0004,00,0004,00,0004,00,0004,00,0004,00,0004,00,0004,00,0004,00,0004,00,0004,00,0004,00,0004,00,0004,00,0004,00,0004,00,0004,00,0004,00,0004,00,0004,00,0004,00,0004,00,0004,00,0004,00,0004,00,0004,00,0004,00,0004,00,0004,00,0004,00,0004,00,0004,00,0004,00,0004,00,0004,00,0004,00,0004,00,0004,00,0004,00,0004,00,0004,00,0004,00,0004,00,0004,00,0004,00,0004,00,0004,00,0004,00,0004,00,0004,00,0004,00,0004,00,0004,00,0004,00,0004,00,0004,00,0004,00,0004,00,0004,00,0004,00,0004,00,0004,00,0004,00,0004,00,0004,00,0004,00,0004,00,0004,00,0004,00,0004,00,0004,00,0004,00,0004,00,0004,00,0004,00,0004,00,0004,00,0004,00,0004,00,0004,00,0004,00,0004,00,0004,00,0004,00,0004,00,0004,00,0004,00,0004,00,0004,00,0004,00,0004,00,0004,00,0004,00,0004,00,0004,00,0004,00,0004,00,0004,00,0004,00,0004,00,0004,00,0004,00,0004,00,0004,00,0004,00,0004,00,0004,00,0004,00,0004,00,0004,00,0004,00,0004,00,0004,00,0004,00,0004,00,0004,00,0004,00,0004,00,0004,00,0004,00,0004,00,0004,00,0004,00,0004,00,0004,00,0004,00,0004,00,0004,00,0004,00,0004,00,0004,00,0004,00,0004,00,0004,00,0004,00,0004,00,0004,00,0004,00,0004,00,0004,00,0004,00,0004,00,0004,00,0004,00,0004,00,0004,00,0004,00,0004,00,0004,00,0004,00,0004,00,0004,00,0004,00,0004,00,0004,00,0004,00,0004,00,0004,00,0004,00,0004,00,0004,00,0004,00,0004,00,0004,00,0004,00,0004,00,0004,00,0004,00,0004,00,0004,00,0004,00,0004,00,0004,00,0004,00,0004,00,0004,00,0004,00,0004,00,0004,00,0004,00,0004,00,0004,00,0004,00,0004,00,0004,00,0004,00,0004,00,0004,00,0004,00,0004,00,0004,00,0004,00,0004,00,0004,00,0004,00,0004,00,0004,00,0004,00,0004,00,0004,00,0004,00,0004,00,0004,00,0004,00,0004,00,0004,00,0004,00,0004,00,0004,00,0004,00,0004,00,0004,00,0004,00,0004,00,0004,00,0004,00,0004,00,0004,00,0004,00,0004,00,0004,00,0004,00,0004,00,0004,00,0004,00,0004,00,0004,00,0004,00,0004,00,0004,00,0004,00,0004,00,0004,00,0004,00,0004,00,0004,00,0004,00,0004,00,0004,00,0004,00,0004,00,0004,00,0004,00,0004,00,0004,00,0004,00,0004,00,0004,00,0004,00,0004,00,0004,00,0004,00,0004,00,0004,00,0004,00,0004,00,0004,00,0004,00,0004,00,0004,00,0004,00,0004,00,0004,00,0004,00,0004,00,0004,00,0004,00,0004,00,0004,00,0004,00,0004,00,0004,00,0004,00,0004,00,0004,00,0004,00,0004,00,0004,00,0004,00,0004,00,0004,00,0004,00,0004,00,0004,00,0004,00,0004,00,0004,00,0004,00,0004,00,0004,00,0004,00,0004,00,0004,00,0004,00,0004,00,0004,00,0004,00,0004,00,0004,00,0004,00,0004,00,0004,00,0004,00,0004,00,0004,00,0004,00,0004,00,0004,00,0004,00,0004,00,0004,00,0004,00,0004,00,0004,00,0004,00,0004,00,0004,00,0004,00,0004,00,0004,00,0004,00,0004,00,0004,00,0004,00,0004,00,0004,00,0004,00,0004,00,0004,00,0004,00,0004,00,0004,00,0004,00,0004,00,0004,00,0004,00,0004,00,0004,00,0004,00,0004,00,0004,00,0004,00,0004,00,0004,00,0004,00,0004,00,0004,00,0004,00,0004,00,0004,00,0004,00,0004,00,0004,00,0004,00,0004,00,0004,00,0004,00,0004,00,0004,00,0004,00,0004,00,0004,00,0004,00,0004,00,0004,00,0004,00,0004,00,0004,00,0004,00,0004,00,0004,00,0004,00,0004,00,0004,00,0004,00,0004,00,0004,00,0004,00,0004,00,0004,00,0004,00,0004,00,0004,00,0004,00,0004,00,0004,00,0004,00,0004,00,0004,00,0004,00,0004,00,0004,00,0004,00,0004,00,0004,00,0004,00,0004,00,0004,00,0004,00,0004,00,0004,00,0004,00,0004,00,0004,00,0004,00,0004,00,0004,00,0004,00,0004,00,0004,00,0004,00,0004,00,0004,00,0004,00,0004,00,0004,00,0004,00,0004,00,0004,00,0004,00,0004,00,0004,00,0004,00,0004,00,0004,00,0004,00,0004,00,0004,00,0004,00,0004,00,0004,00,0004,00,0004,00,0004,00,0004,00,0004,00,0004,00,0004,00,0004,00,0004,00,0004,00,0004,00,0004,00,0004,00,0004,00,0004,00,0004,00,0004,00,0004,00,0004,00,0004,00,0004,00,0004,00,0004,00,0004,00,0004,00,0004,00,0004,00,0004,00,0004,00,0004,00,0004,00,0004,00,0004,00,0004,00,0004,00,0004,00,0004,00,0004,00,0004,00,0004,00,0004,00,0004,00,0004,00,0004,00,0004,00,0004,00,0004,00,0004,00,0004,00,0004,00,0004,00,0004,00,0004,00,0004,00,0004,00,0004,00,0004,00,0004,00,0004,00,0004,00,0004,00,0004,00,0004,00,0004,00,0004,00,0004,00,0004,00,0004,00,0004,00,0004,00,0004,00,0004,00,0004,00,0004,00,0004,00,0004,00,0004,00,0004,00,0004,00,0004,00,0004,00,0004,00,0004,00,0004,00,0004,00,0004,00,0004,00,0004,00,0004,00,0004,00,0004,00,0004,00,0004,00,0004,00,0004,00,0004,00,0004,00,0004,00,0004,00,0004,00,0004,00,0004,00,0004,00,0004,00,0004,00,0004,00,0004,00,0004,00,0004,00,0004,00,0004,00,0004,00,0004,00,0004,00,0004,00,0004,00,0004,00,0004,00,0004,00,0004,00,0004,00,0004,00,0004,00,0004,00,0004,00,0004,00,0004,00,0004,00,0004,00,0004,00,0004,00,0004,00,0004,00,0004,00,0004,00,0004,00,0004,00,0004,00,0004,00,0004,00,0004,00,0004,00,0004,00,0004,00,0004,00,0004,00,0004,00,0004,00,0004,00,0004,00,0004,00,0004,00,0004,00,0004,00,0004,00,0004,00,0004,00,0004,00,0004,00,0004,00,0004,00,0004,00,0004,00,0004,00,0004,00,0004,00,0004,00,0004,00,0004,00,0004,00,0004,00,0004,00,0004,00,0004,00,0004,00,0004,00,0004,00,0004,00,0004,00,0004,00,0004,00,0004,00,0004,00,0004,00,0004,00,0004,00,0004,00,0004,00,0004,00,0004,00,0004,00,0004,00,0004,00,0004,00,0004,00,0004,00,0004,00,0004,00,0004,00,0004,00,0004,00,0004,00,0004,00,0003,00,0003,00,0003,00,0003,00,0003,00,0003,00,0003,00,0003,00,0003,00,0003,00,0003,00,0003,00,0003,00,0003,00,0003,00,0003,00,0003,00,0003,00,0003,00,0003,00,0003,00,0003,00,0003,00,0003,00,0003,00,0003,00,0003,00,0003,00,0003,00,0003,00,0003,00,0003,00,0003,00,0003,00,0003,00,0003,00,0003,00,0003,00,0003,00,0003,00,0003,00,0003,00,0003,00,0003,00,0003,00,0003,00,0003,00,0003,00,0003,00,0003,00,0003,00,0003,00,0003,00,0003,00,0003,00,0003,00,0003,00,0003,00,0003,00,0003,00,0003,00,0003,00,0003,00,0003,00,0003,00,0003,00,0003,00,0003,00,0003,00,0003,00,0003,00,0003,00,0003,00,0003,00,0003,00,0003,00,0003,00,0003,00,0003,00,0003,00,0003,00,0003,00,0003,00,0003,00,0003,00,0003,00,0003,00,0003,00,0003,00,0003,00,0003,00,0003,00,0003,00,0003,00,0003,00,0003,00,0003,00,0003,00,0003,00,0003,00,0003,00,0003,00,0003,00,0003,00,0003,00,0003,00,0003,00,0003,00,0003,00,0003,00,0003,00,0003,00,0003,00,0003,00,0003,00,0003,00,0003,00,0003,00,0003,00,0003,00,0003,00,0003,00,0003,00,0003,00,0003,00,0003,00,0003,00,0003,00,0003,00,0003,00,0003,00,0003,00,0003,00,0003,00,0003,00,0003,00,0003,00,0003,00,0003,00,0003,00,0003,00,0003,00,0003,00,0003,00,0003,00,0003,00,0003,00,0003,00,0003,00,0003,00,0003,00,0003,00,0003,00,0003,00,0003,00,0003,00,0003,00,0003,00,0003,00,0003,00,0003,00,0003,00,0003,00,0003,00,0003,00,0003,00,0003,00,0003,00,0003,00,0003,00,0003,00,0003,00,0003,00,0003,00,0003,00,0003,00,0003,00,0003,00,0003,00,0003,00,0003,00,0003,00,0003,00,0003,00,0003,00,0003,00,0003,00,0003,00,0003,00,0003,00,0003,00,0003,00,0003,00,0003,00,0003,00,0003,00,0003,00,0003,00,0003,00,0003,00,0003,00,0003,00,0003,00,0003,00,0003,00,0003,00,0003,00,0003,00,0003,00,0003,00,0003,00,0003,00,0003,00,0003,00,0003,00,0003,00,0003,00,0003,00,0003,00,0003,00,0003,00,0003,00,0003,00,0003,00,0003,00,0003,00,0003,00,0003,00,0003,00,0003,00,0003,00,0003,00,0003,00,0003,00,0003,00,0003,00,0003,00,0003,00,0003,00,0003,00,0003,00,0003,00,0003,00,0003,00,0003,00,0003,00,0003,00,0003,00,0003,00,0003,00,0003,00,0003,00,0003,00,0003,00,0003,00,0003,00,0003,00,0003,00,0003,00,0003,00,0003,00,0003,00,0003,00,0003,00,0003,00,0003,00,0003,00,0003,00,0003,00,0003,00,0003,00,0003,00,0003,00,0003,00,0003,00,0003,00,0003,00,0003,00,0003,00,0003,00,0003,00,0003,00,0003,00,0003,00,0003,00,0003,00,0003,00,0003,00,0003,00,0003,00,0003,00,0003,00,0003,00,0003,00,0003,00,0003,00,0003,00,0003,00,0003,00,0003,00,0003,00,0003,00,0003,00,0003,00,0003,00,0003,00,0003,00,0003,00,0003,00,0003,00,0003,00,0003,00,0003,00,0003,00,0003,00,0003,00,0003,00,0003,00,0003,00,0003,00,0003,00,0003,00,0003,00,0003,00,0003,00,0003,00,0003,00,0003,00,0003,00,0003,00,0003,00,0003,00,0003,00,0003,00,0003,00,0003,00,0003,00,0003,00,0003,00,0003,00,0003,00,0003,00,0003,00,0003,00,0003,00,0003,00,0003,00,0003,00,0003,00,0003,00,0003,00,0003,00,0003,00,0003,00,0003,00,0003,00,0003,00,0003,00,0003,00,0003,00,0003,00,0003,00,0003,00,0003,00,0003,00,0003,00,0003,00,0003,00,0003,00,0003,00,0003,00,0003,00,0003,00,0003,00,0003,00,0003,00,0003,00,0003,00,0003,00,0003,00,0003,00,0003,00,0003,00,0003,00,0003,00,0003,00,0003,00,0003,00,0003,00,0003,00,0003,00,0003,00,0003,00,0003,00,0003,00,0003,00,0003,00,0003,00,0003,00,0003,00,0003,00,0003,00,0003,00,0003,00,0003,00,0003,00,0003,00,0003,00,0003,00,0003,00,0003,00,0003,00,0003,00,0003,00,0003,00,0003,00,0003,00,0003,00,0003,00,0003,00,0003,00,0003,00,0003,00,0003,00,0003,00,0003,00,0003,00,0003,00,0003,00,0003,00,0003,00,0003,00,0003,00,0003,00,0003,00,0003,00,0003,00,0003,00,0003,00,0003,00,0003,00,0003,00,0003,00,0003,00,0003,00,0003,00,0003,00,0003,00,0003,00,0003,00,0003,00,0003,00,0003,00,0003,00,0003,00,0003,00,0003,00,0003,00,0003,00,0003,00,0003,00,0003,00,0003,00,0003,00,0003,00,0003,00,0003,00,0003,00,0003,00,0003,00,0003,00,0003,00,0003,00,0003,00,0003,00,0003,00,0003,00,0003,00,0003,00,0003,00,0003,00,0003,00,0003,00,0003,00,0003,00,0003,00,0003,00,0003,00,0003,00,0003,00,0003,00,0003,00,0003,00,0003,00,0003,00,0003,00,0003,00,0003,00,0003,00,0003,00,0003,00,0003,00,0003,00,0003,00,0003,00,0003,00,0003,00,0003,00,0003,00,0003,00,0003,00,0003,00,0003,00,0003,00,0003,00,0003,00,0003,00,0003,00,0003,00,0003,00,0003,00,0003,00,0003,00,0003,00,0003,00,0003,00,0003,00,0003,00,0003,00,0003,00,0003,00,0003,00,0003,00,0003,00,0003,00,0003,00,0003,00,0003,00,0003,00,0003,00,0003,00,0003,00,0003,00,0003,00,0003,00,0003,00,0003,00,0003,00,0003,00,0003,00,0003,00,0003,00,0003,00,0003,00,0003,00,0003,00,0003,00,0003,00,0003,00,0003,00,0003,00,0003,00,0003,00,0003,00,0003,00,0003,00,0003,00,0003,00,0003,00,0003,00,0003,00,0003,00,0003,00,0003,00,0003,00,0003,00,0003,00,0003,00,0003,00,0003,00,0003,00,0003,00,0003,00,0003,00,0003,00,0003,00,0003,00,0003,00,0003,00,0003,00,0003,00,0003,00,0003,00,0003,00,0003,00,0003,00,0003,00,0003,00,0003,00,0003,00,0003,00,0003,00,0003,00,0003,00,0003,00,0003,00,0003,00,0003,00,0003,00,0003,00,0003,00,0003,00,0003,00,0003,00,0003,00,0003,00,0003,00,0003,00,0003,00,0003,00,0003,00,0003,00,0003,00,0003,00,0003,00,0003,00,0003,00,0003,00,0003,00,0003,00,0003,00,0003,00,0003,00,0003,00,0003,00,0003,00,0003,00,0003,00,0003,00,0003,00,0003,00,0003,00,0003,00,0003,00,0003,00,0003,00,0003,00,0003,00,0003,00,0003,00,0003,00,0003,00,0003,00,0003,00,0003,00,0003,00,0003,00,0003,00,0003,00,0003,00,0003,00,0003,00,0003,00,0003,00,0003,00,0003,00,0003,00,0003,00,0003,00,0003,00,0003,00,0003,00,0003,00,0003,00,0003,00,0003,00,0003,00,0003,00,0003,00,0003,00,0003,00,0003,00,0003,00,0003,00,0003,00,0003,00,0003,00,0003,00,0003,00,0003,00,0003,00,0003,00,0003,00,0003,00,0003,00,0003,00,0003,00,0003,00,0003,00,0003,00,0003,00,0003,00,0003,00,0003,00,0003,00,0003,00,0003,00,0003,00,0003,00,0003,00,0003,00,0003,00,0003,00,0003,00,0003,00,0003,00,0003,00,0003,00,0003,00,0003,00,0003,00,0003,00,0003,00,0003,00,0003,00,0003,00,0003,00,0003,00,0003,00,0003,00,0003,00,0003,00,0003,00,0003,00,0003,00,0003,00,0003,00,0003,00,0003,00,0003,00,0003,00,0003,00,0003,00,0003,00,0003,00,0003,00,0003,00,0003,00,0003,00,0003,00,0003,00,0003,00,0003,00,0003,00,0003,00,0003,00,0003,00,0003,00,0003,00,0003,00,0003,00,0003,00,0003,00,0003,00,0003,00,0003,00,0003,00,0003,00,0003,00,0003,00,0003,00,0003,00,0003,00,0003,00,0003,00,0003,00,0003,00,0003,00,0003,00,0003,00,0003,00,0003,00,0003,00,0003,00,0003,00,0003,00,0003,00,0003,00,0003,00,0003,00,0003,00,0003,00,0003,00,0003,00,0003,00,0003,00,0003,00,0003,00,0003,00,0003,00,0003,00,0003,00,0003,00,0003,00,0003,00,0003,00,0003,00,0003,00,0003,00,0003,00,0003,00,0003,00,0003,00,0003,00,0003,00,0003,00,0003,00,0003,00,0003,00,0003,00,0003,00,0003,00,0003,00,0003,00,0003,00,0003,00,0003,00,0003,00,0003,00,0003,00,0003,00,0003,00,0003,00,0003,00,0003,00,0003,00,0003,00,0003,00,0003,00,0003,00,0003,00,0003,00,0003,00,0003,00,0003,00,0003,00,0003,00,0003,00,0003,00,0003,00,0003,00,0003,00,0003,00,0003,00,0003,00,0003,00,0003,00,0003,00,0003,00,0003,00,0003,00,0003,00,0003,00,0003,00,0003,00,0003,00,0003,00,0003,00,0003,00,0003,00,0003,00,0003,00,0003,00,0003,00,0003,00,0003,00,0003,00,0003,00,0003,00,0003,00,0003,00,0003,00,0003,00,0003,00,0003,00,0003,00,0003,00,0003,00,0003,00,0003,00,0003,00,0003,00,0003,00,0003,00,0003,00,0003,00,0003,00,0003,00,0003,00,0003,00,0003,00,0003,00,0003,00,0003,00,0003,00,0003,00,0003,00,0003,00,0003,00,0003,00,0003,00,0003,00,0003,00,0003,00,0003,00,0003,00,0003,00,0003,00,0003,00,0003,00,0003,00,0003,00,0003,00,0003,00,0003,00,0003,00,0003,00,0003,00,0003,00,0003,00,0003,00,0003,00,0003,00,0003,00,0003,00,0003,00,0003,00,0003,00,0003,00,0003,00,0003,00,0003,00,0003,00,0003,00,0003,00,0003,00,0003,00,0003,00,0003,00,0003,00,0003,00,0003,00,0003,00,0003,00,0003,00,0003,00,0003,00,0003,00,0003,00,0003,00,0003,00,0003,00,0003,00,0003,00,0003,00,0003,00,0003,00,0003,00,0003,00,0003,00,0003,00,0003,00,0003,00,0003,00,0003,00,0003,00,0003,00,0003,00,0003,00,0003,00,0003,00,0003,00,0003,00,0003,00,0003,00,0003,00,0003,00,0003,00,0003,00,0003,00,0003,00,0003,00,0003,00,0003,00,0003,00,0003,00,0003,00,0003,00,0003,00,0003,00,0003,00,0003,00,0003,00,0003,00,0003,00,0003,00,0003,00,0003,00,0003,00,0003,00,0003,00,0003,00,0003,00,0003,00,0003,00,0003,00,0003,00,0003,00,0003,00,0003,00,0003,00,0003,00,0003,00,0003,00,0003,00,0003,00,0003,00,0003,00,0003,00,0003,00,0003,00,0003,00,0003,00,0003,00,0003,00,0003,00,0003,00,0003,00,0003,00,0003,00,0003,00,0003,00,0003,00,0003,00,0003,00,0003,00,0003,00,0003,00,0003,00,0003,00,0002,00,0002,00,0002,00,0002,00,0002,00,0002,00,0002,00,0002,00,0002,00,0002,00,0002,00,0002,00,0002,00,0002,00,0002,00,0002,00,0002,00,0002,00,0002,00,0002,00,0002,00,0002,00,0002,00,0002,00,0002,00,0002,00,0002,00,0002,00,0002,00,0002,00,0002,00,0002,00,0002,00,0002,00,0002,00,0002,00,0002,00,0002,00,0002,00,0002,00,0002,00,0002,00,0002,00,0002,00,0002,00,0002,00,0002,00,0002,00,0002,00,0002,00,0002,00,0002,00,0002,00,0002,00,0002,00,0002,00,0002,00,0002,00,0002,00,0002,00,0002,00,0002,00,0002,00,0002,00,0002,00,0002,00,0002,00,0002,00,0002,00,0002,00,0002,00,0002,00,0002,00,0002,00,0002,00,0002,00,0002,00,0002,00,0002,00,0002,00,0002,00,0002,00,0002,00,0002,00,0002,00,0002,00,0002,00,0002,00,0002,00,0002,00,0002,00,0002,00,0002,00,0002,00,0002,00,0002,00,0002,00,0002,00,0002,00,0002,00,0002,00,0002,00,0002,00,0002,00,0002,00,0002,00,0002,00,0002,00,0002,00,0002,00,0002,00,0002,00,0002,00,0002,00,0002,00,0002,00,0002,00,0002,00,0002,00,0002,00,0002,00,0002,00,0002,00,0002,00,0002,00,0002,00,0002,00,0002,00,0002,00,0002,00,0002,00,0002,00,0002,00,0002,00,0002,00,0002,00,0002,00,0002,00,0002,00,0002,00,0002,00,0002,00,0002,00,0002,00,0002,00,0002,00,0002,00,0002,00,0002,00,0002,00,0002,00,0002,00,0002,00,0002,00,0002,00,0002,00,0002,00,0002,00,0002,00,0002,00,0002,00,0002,00,0002,00,0002,00,0002,00,0002,00,0002,00,0002,00,0002,00,0002,00,0002,00,0002,00,0002,00,0002,00,0002,00,0002,00,0002,00,0002,00,0002,00,0002,00,0002,00,0002,00,0002,00,0002,00,0002,00,0002,00,0002,00,0002,00,0002,00,0002,00,0002,00,0002,00,0002,00,0002,00,0002,00,0002,00,0002,00,0002,00,0002,00,0002,00,0002,00,0002,00,0002,00,0002,00,0002,00,0002,00,0002,00,0002,00,0002,00,0002,00,0002,00,0002,00,0002,00,0002,00,0002,00,0002,00,0002,00,0002,00,0002,00,0002,00,0002,00,0002,00,0002,00,0002,00,0002,00,0002,00,0002,00,0002,00,0002,00,0002,00,0002,00,0002,00,0002,00,0002,00,0002,00,0002,00,0002,00,0002,00,0002,00,0002,00,0002,00,0002,00,0002,00,0002,00,0002,00,0002,00,0002,00,0002,00,0002,00,0002,00,0002,00,0002,00,0002,00,0002,00,0002,00,0002,00,0002,00,0002,00,0002,00,0002,00,0002,00,0002,00,0002,00,0002,00,0002,00,0002,00,0002,00,0002,00,0002,00,0002,00,0002,00,0002,00,0002,00,0002,00,0002,00,0002,00,0002,00,0002,00,0002,00,0002,00,0002,00,0002,00,0002,00,0002,00,0002,00,0002,00,0002,00,0002,00,0002,00,0002,00,0002,00,0002,00,0002,00,0002,00,0002,00,0002,00,0002,00,0002,00,0002,00,0002,00,0002,00,0002,00,0002,00,0002,00,0002,00,0002,00,0002,00,0002,00,0002,00,0002,00,0002,00,0002,00,0002,00,0002,00,0002,00,0002,00,0002,00,0002,00,0002,00,0002,00,0002,00,0002,00,0002,00,0002,00,0002,00,0002,00,0002,00,0002,00,0002,00,0002,00,0002,00,0002,00,0002,00,0002,00,0002,00,0002,00,0002,00,0002,00,0002,00,0002,00,0002,00,0002,00,0002,00,0002,00,0002,00,0002,00,0002,00,0002,00,0002,00,0002,00,0002,00,0002,00,0002,00,0002,00,0002,00,0002,00,0002,00,0002,00,0002,00,0002,00,0002,00,0002,00,0002,00,0002,00,0002,00,0002,00,0002,00,0002,00,0002,00,0002,00,0002,00,0002,00,0002,00,0002,00,0002,00,0002,00,0002,00,0002,00,0002,00,0002,00,0002,00,0002,00,0002,00,0002,00,0002,00,0002,00,0002,00,0002,00,0002,00,0002,00,0002,00,0002,00,0002,00,0002,00,0002,00,0002,00,0002,00,0002,00,0002,00,0002,00,0002,00,0002,00,0002,00,0002,00,0002,00,0002,00,0002,00,0002,00,0002,00,0002,00,0002,00,0002,00,0002,00,0002,00,0002,00,0002,00,0002,00,0002,00,0002,00,0002,00,0002,00,0002,00,0002,00,0002,00,0002,00,0002,00,0002,00,0002,00,0002,00,0002,00,0002,00,0002,00,0002,00,0002,00,0002,00,0002,00,0002,00,0002,00,0002,00,0002,00,0002,00,0002,00,0002,00,0002,00,0002,00,0002,00,0002,00,0002,00,0002,00,0002,00,0002,00,0002,00,0002,00,0002,00,0002,00,0002,00,0002,00,0002,00,0002,00,0002,00,0002,00,0002,00,0002,00,0002,00,0002,00,0002,00,0002,00,0002,00,0002,00,0002,00,0002,00,0002,00,0002,00,0002,00,0002,00,0002,00,0002,00,0002,00,0002,00,0002,00,0002,00,0002,00,0002,00,0002,00,0002,00,0002,00,0002,00,0002,00,0002,00,0002,00,0002,00,0002,00,0002,00,0002,00,0002,00,0002,00,0002,00,0002,00,0002,00,0002,00,0002,00,0002,00,0002,00,0002,00,0002,00,0002,00,0002,00,0002,00,0002,00,0002,00,0002,00,0002,00,0002,00,0002,00,0002,00,0002,00,0002,00,0002,00,0002,00,0002,00,0002,00,0002,00,0002,00,0002,00,0002,00,0002,00,0002,00,0002,00,0002,00,0002,00,0002,00,0002,00,0002,00,0002,00,0002,00,0002,00,0002,00,0002,00,0002,00,0002,00,0002,00,0002,00,0002,00,0002,00,0002,00,0002,00,0002,00,0002,00,0002,00,0002,00,0002,00,0002,00,0002,00,0002,00,0002,00,0002,00,0002,00,0002,00,0002,00,0002,00,0002,00,0002,00,0002,00,0002,00,0002,00,0002,00,0002,00,0002,00,0002,00,0002,00,0002,00,0002,00,0002,00,0002,00,0002,00,0002,00,0002,00,0002,00,0002,00,0002,00,0002,00,0002,00,0002,00,0002,00,0002,00,0002,00,0002,00,0002,00,0002,00,0002,00,0002,00,0002,00,0002,00,0002,00,0002,00,0002,00,0002,00,0002,00,0002,00,0002,00,0002,00,0002,00,0002,00,0002,00,0002,00,0002,00,0002,00,0002,00,0002,00,0002,00,0002,00,0002,00,0002,00,0002,00,0002,00,0002,00,0002,00,0002,00,0002,00,0002,00,0002,00,0002,00,0002,00,0002,00,0002,00,0002,00,0002,00,0002,00,0002,00,0002,00,0002,00,0002,00,0002,00,0002,00,0002,00,0002,00,0002,00,0002,00,0002,00,0002,00,0002,00,0002,00,0002,00,0002,00,0002,00,0002,00,0002,00,0002,00,0002,00,0002,00,0002,00,0002,00,0002,00,0002,00,0002,00,0002,00,0002,00,0002,00,0002,00,0002,00,0002,00,0002,00,0002,00,0002,00,0002,00,0002,00,0002,00,0002,00,0002,00,0002,00,0002,00,0002,00,0002,00,0002,00,0002,00,0002,00,0002,00,0002,00,0002,00,0002,00,0002,00,0002,00,0002,00,0002,00,0002,00,0002,00,0002,00,0002,00,0002,00,0002,00,0002,00,0002,00,0002,00,0002,00,0002,00,0002,00,0002,00,0002,00,0002,00,0002,00,0002,00,0002,00,0002,00,0002,00,0002,00,0002,00,0002,00,0002,00,0002,00,0002,00,0002,00,0002,00,0002,00,0002,00,0002,00,0002,00,0002,00,0002,00,0002,00,0002,00,0002,00,0002,00,0002,00,0002,00,0002,00,0002,00,0002,00,0002,00,0002,00,0002,00,0002,00,0002,00,0002,00,0002,00,0002,00,0002,00,0002,00,0002,00,0002,00,0002,00,0002,00,0002,00,0002,00,0002,00,0002,00,0002,00,0002,00,0002,00,0002,00,0002,00,0002,00,0002,00,0002,00,0002,00,0002,00,0002,00,0002,00,0002,00,0002,00,0002,00,0002,00,0002,00,0002,00,0002,00,0002,00,0002,00,0002,00,0002,00,0002,00,0002,00,0002,00,0002,00,0002,00,0002,00,0002,00,0002,00,0002,00,0002,00,0002,00,0002,00,0002,00,0002,00,0002,00,0002,00,0002,00,0002,00,0002,00,0002,00,0002,00,0002,00,0002,00,0002,00,0002,00,0002,00,0002,00,0002,00,0002,00,0002,00,0002,00,0002,00,0002,00,0002,00,0002,00,0002,00,0002,00,0002,00,0002,00,0002,00,0002,00,0002,00,0002,00,0002,00,0002,00,0002,00,0002,00,0002,00,0002,00,0002,00,0002,00,0002,00,0002,00,0002,00,0002,00,0002,00,0002,00,0002,00,0002,00,0002,00,0002,00,0002,00,0002,00,0002,00,0002,00,0002,00,0002,00,0002,00,0002,00,0002,00,0002,00,0002,00,0002,00,0002,00,0002,00,0002,00,0002,00,0002,00,0002,00,0002,00,0002,00,0002,00,0002,00,0002,00,0002,00,0002,00,0002,00,0002,00,0002,00,0002,00,0002,00,0002,00,0002,00,0002,00,0002,00,0002,00,0002,00,0002,00,0002,00,0002,00,0002,00,0002,00,0002,00,0002,00,0002,00,0002,00,0002,00,0002,00,0002,00,0002,00,0002,00,0002,00,0002,00,0002,00,0002,00,0002,00,0002,00,0002,00,0002,00,0002,00,0002,00,0002,00,0002,00,0002,00,0002,00,0002,00,0002,00,0002,00,0002,00,0002,00,0002,00,0002,00,0002,00,0002,00,0002,00,0002,00,0002,00,0002,00,0002,00,0002,00,0002,00,0002,00,0002,00,0002,00,0002,00,0002,00,0002,00,0002,00,0002,00,0002,00,0002,00,0002,00,0002,00,0002,00,0002,00,0002,00,0002,00,0002,00,0002,00,0002,00,0002,00,0002,00,0002,00,0002,00,0002,00,0002,00,0002,00,0002,00,0002,00,0002,00,0002,00,0002,00,0002,00,0002,00,0002,00,0002,00,0002,00,0002,00,0002,00,0002,00,0002,00,0002,00,0002,00,0002,00,0002,00,0002,00,0002,00,0002,00,0002,00,0002,00,0002,00,0002,00,0002,00,0002,00,0002,00,0002,00,0002,00,0002,00,0002,00,0002,00,0002,00,0002,00,0002,00,0002,00,0002,00,0002,00,0002,00,0002,00,0002,00,0002,00,0002,00,0002,00,0002,00,0002,00,0002,00,0002,00,0002,00,0002,00,0002,00,0002,00,0002,00,0002,00,0002,00,0002,00,0002,00,0002,00,0002,00,0002,00,0002,00,0002,00,0002,00,0002,00,0002,00,0002,00,0002,00,0002,00,0002,00,0002,00,0002,00,0002,00,0002,00,0002,00,0002,00,0002,00,0002,00,0002,00,0002,00,0002,00,0002,00,0002,00,0002,00,0002,00,0002,00,0002,00,0002,00,0002,00,0002,00,0002,00,0002,00,0002,00,0002,00,0002,00,0002,00,0002,00,0002,00,0002,00,0002,00,0002,00,0002,00,0002,00,0002,00,0002,00,0002,00,0002,00,0002,00,0002,00,0002,00,0002,00,0002,00,0002,00,0002,00,0002,00,0002,00,0002,00,0002,00,0002,00,0002,00,0002,00,0002,00,0002,00,0002,00,0002,00,0002,00,0002,00,0002,00,0002,00,0002,00,0002,00,0002,00,0002,00,0002,00,0002,00,0002,00,0002,00,0002,00,0002,00,0002,00,0002,00,0002,00,0002,00,0002,00,0002,00,0002,00,0002,00,0002,00,0002,00,0002,00,0002,00,0002,00,0002,00,0002,00,0002,00,0002,00,0002,00,0002,00,0002,00,0002,00,0002,00,0002,00,0002,00,0002,00,0002,00,0002,00,0002,00,0002,00,0002,00,0002,00,0002,00,0002,00,0002,00,0002,00,0002,00,0002,00,0002,00,0002,00,0002,00,0002,00,0002,00,0002,00,0002,00,0002,00,0002,00,0002,00,0002,00,0002,00,0002,00,0002,00,0002,00,0002,00,0002,00,0002,00,0002,00,0002,00,0002,00,0002,00,0002,00,0002,00,0002,00,0002,00,0002,00,0002,00,0002,00,0002,00,0002,00,0002,00,0002,00,0002,00,0002,00,0002,00,0002,00,0002,00,0002,00,0002,00,0002,00,0002,00,0002,00,0002,00,0002,00,0002,00,0002,00,0002,00,0002,00,0002,00,0002,00,0002,00,0002,00,0002,00,0002,00,0002,00,0002,00,0002,00,0002,00,0002,00,0002,00,0002,00,0002,00,0002,00,0002,00,0002,00,0002,00,0002,00,0002,00,0002,00,0002,00,0002,00,0002,00,0002,00,0002,00,0002,00,0002,00,0002,00,0002,00,0002,00,0002,00,0002,00,0002,00,0002,00,0002,00,0002,00,0002,00,0002,00,0002,00,0002,00,0002,00,0002,00,0002,00,0002,00,0002,00,0002,00,0002,00,0002,00,0002,00,0002,00,0002,00,0002,00,0002,00,0002,00,0002,00,0002,00,0002,00,0002,00,0002,00,0002,00,0002,00,0002,00,0002,00,0002,00,0002,00,0002,00,0002,00,0002,00,0002,00,0002,00,0002,00,0002,00,0002,00,0002,00,0002,00,0002,00,0002,00,0002,00,0002,00,0002,00,0002,00,0002,00,0002,00,0002,00,0002,00,0002,00,0002,00,0002,00,0002,00,0002,00,0002,00,0002,00,0002,00,0002,00,0002,00,0002,00,0002,00,0002,00,0002,00,0002,00,0002,00,0002,00,0002,00,0002,00,0002,00,0002,00,0002,00,0002,00,0002,00,0002,00,0002,00,0002,00,0002,00,0002,00,0002,00,0002,00,0002,00,0002,00,0002,00,0002,00,0002,00,0002,00,0002,00,0002,00,0002,00,0002,00,0002,00,0002,00,0002,00,0002,00,0002,00,0002,00,0002,00,0002,00,0002,00,0002,00,0002,00,0002,00,0002,00,0002,00,0002,00,0002,00,0002,00,0002,00,0002,00,0002,00,0002,00,0002,00,0002,00,0002,00,0002,00,0002,00,0002,00,0002,00,0002,00,0002,00,0002,00,0002,00,0002,00,0002,00,0002,00,0002,00,0002,00,0002,00,0002,00,0002,00,0002,00,0002,00,0002,00,0002,00,0002,00,0002,00,0002,00,0002,00,0002,00,0002,00,0002,00,0002,00,0002,00,0002,00,0002,00,0002,00,0002,00,0002,00,0002,00,0002,00,0002,00,0002,00,0002,00,0002,00,0002,00,0002,00,0002,00,0002,00,0002,00,0002,00,0002,00,0002,00,0002,00,0002,00,0002,00,0002,00,0002,00,0002,00,0002,00,0002,00,0002,00,0002,00,0002,00,0002,00,0002,00,0002,00,0002,00,0002,00,0002,00,0002,00,0002,00,0002,00,0002,00,0002,00,0002,00,0002,00,0002,00,0002,00,0002,00,0002,00,0002,00,0002,00,0002,00,0002,00,0002,00,0002,00,0002,00,0002,00,0002,00,0002,00,0002,00,0002,00,0002,00,0002,00,0002,00,0002,00,0002,00,0002,00,0002,00,0002,00,0002,00,0002,00,0002,00,0002,00,0002,00,0002,00,0002,00,0002,00,0002,00,0002,00,0002,00,0002,00,0002,00,0002,00,0002,00,0002,00,0002,00,0002,00,0002,00,0002,00,0002,00,0002,00,0002,00,0002,00,0002,00,0002,00,0002,00,0002,00,0002,00,0002,00,0002,00,0002,00,0002,00,0002,00,0002,00,0002,00,0002,00,0002,00,0002,00,0002,00,0002,00,0002,00,0002,00,0002,00,0002,00,0002,00,0002,00,0002,00,0002,00,0002,00,0002,00,0002,00,0002,00,0002,00,0002,00,0002,00,0002,00,0002,00,0002,00,0002,00,0002,00,0002,00,0002,00,0002,00,0002,00,0002,00,0002,00,0002,00,0002,00,0002,00,0002,00,0002,00,0002,00,0002,00,0002,00,0002,00,0002,00,0002,00,0002,00,0002,00,0002,00,0002,00,0002,00,0002,00,0002,00,0002,00,0002,00,0002,00,0002,00,0002,00,0002,00,0002,00,0002,00,0002,00,0002,00,0002,00,0002,00,0002,00,0002,00,0002,00,0002,00,0002,00,0002,00,0002,00,0002,00,0002,00,0002,00,0002,00,0002,00,0002,00,0002,00,0002,00,0002,00,0002,00,0002,00,0002,00,0002,00,0002,00,0002,00,0002,00,0002,00,0002,00,0002,00,0002,00,0002,00,0002,00,0002,00,0002,00,0002,00,0002,00,0002,00,0002,00,0002,00,0002,00,0002,00,0002,00,0002,00,0002,00,0002,00,0002,00,0002,00,0002,00,0002,00,0002,00,0002,00,0002,00,0002,00,0002,00,0002,00,0002,00,0002,00,0002,00,0002,00,0002,00,0002,00,0002,00,0002,00,0002,00,0002,00,0002,00,0002,00,0002,00,0002,00,0002,00,0002,00,0002,00,0002,00,0002,00,0002,00,0002,00,0002,00,0002,00,0002,00,0002,00,0002,00,0002,00,0002,00,0002,00,0002,00,0002,00,0002,00,0002,00,0002,00,0002,00,0002,00,0002,00,0002,00,0002,00,0002,00,0002,00,0002,00,0002,00,0002,00,0002,00,0002,00,0002,00,0002,00,0002,00,0002,00,0002,00,0002,00,0002,00,0002,00,0002,00,0002,00,0002,00,0002,00,0002,00,0002,00,0002,00,0002,00,0002,00,0002,00,0002,00,0002,00,0002,00,0002,00,0002,00,0002,00,0002,00,0002,00,0002,00,0002,00,0002,00,0002,00,0002,00,0002,00,0002,00,0002,00,0002,00,0002,00,0002,00,0002,00,0002,00,0002,00,0002,00,0002,00,0002,00,0002,00,0002,00,0002,00,0002,00,0002,00,0002,00,0002,00,0002,00,0002,00,0002,00,0002,00,0002,00,0002,00,0002,00,0002,00,0002,00,0002,00,0002,00,0002,00,0002,00,0002,00,0002,00,0002,00,0002,00,0002,00,0002,00,0002,00,0002,00,0002,00,0002,00,0002,00,0002,00,0002,00,0002,00,0002,00,0002,00,0002,00,0002,00,0002,00,0002,00,0002,00,0002,00,0002,00,0002,00,0002,00,0002,00,0002,00,0002,00,0002,00,0002,00,0002,00,0002,00,0002,00,0002,00,0002,00,0002,00,0002,00,0002,00,0002,00,0002,00,0002,00,0002,00,0002,00,0002,00,0002,00,0002,00,0002,00,0002,00,0002,00,0002,00,0002,00,0002,00,0002,00,0002,00,0002,00,0002,00,0002,00,0002,00,0002,00,0002,00,0002,00,0002,00,0002,00,0002,00,0002,00,0002,00,0002,00,0002,00,0002,00,0002,00,0001,00,0001,00,0001,00,0001,00,0001,00,0001,00,0001,00,0001,00,0001,00,0001,00,0001,00,0001,00,0001,00,0001,00,0001,00,0001,00,0001,00,0001,00,0001,00,0001,00,0001,00,0001,00,0001,00,0001,00,0001,00,0001,00,0001,00,0001,00,0001,00,0001,00,0001,00,0001,00,0001,00,0001,00,0001,00,0001,00,0001,00,0001,00,0001,00,0001,00,0001,00,0001,00,0001,00,0001,00,0001,00,0001,00,0001,00,0001,00,0001,00,0001,00,0001,00,0001,00,0001,00,0001,00,0001,00,0001,00,0001,00,0001,00,0001,00,0001,00,0001,00,0001,00,0001,00,0001,00,0001,00,0001,00,0001,00,0001,00,0001,00,0001,00,0001,00,0001,00,0001,00,0001,00,0001,00,0001,00,0001,00,0001,00,0001,00,0001,00,0001,00,0001,00,0001,00,0001,00,0001,00,0001,00,0001,00,0001,00,0001,00,0001,00,0001,00,0001,00,0001,00,0001,00,0001,00,0001,00,0001,00,0001,00,0001,00,0001,00,0001,00,0001,00,0001,00,0001,00,0001,00,0001,00,0001,00,0001,00,0001,00,0001,00,0001,00,0001,00,0001,00,0001,00,0001,00,0001,00,0001,00,0001,00,0001,00,0001,00,0001,00,0001,00,0001,00,0001,00,0001,00,0001,00,0001,00,0001,00,0001,00,0001,00,0001,00,0001,00,0001,00,0001,00,0001,00,0001,00,0001,00,0001,00,0001,00,0001,00,0001,00,0001,00,0001,00,0001,00,0001,00,0001,00,0001,00,0001,00,0001,00,0001,00,0001,00,0001,00,0001,00,0001,00,0001,00,0001,00,0001,00,0001,00,0001,00,0001,00,0001,00,0001,00,0001,00,0001,00,0001,00,0001,00,0001,00,0001,00,0001,00,0001,00,0001,00,0001,00,0001,00,0001,00,0001,00,0001,00,0001,00,0001,00,0001,00,0001,00,0001,00,0001,00,0001,00,0001,00,0001,00,0001,00,0001,00,0001,00,0001,00,0001,00,0001,00,0001,00,0001,00,0001,00,0001,00,0001,00,0001,00,0001,00,0001,00,0001,00,0001,00,0001,00,0001,00,0001,00,0001,00,0001,00,0001,00,0001,00,0001,00,0001,00,0001,00,0001,00,0001,00,0001,00,0001,00,0001,00,0001,00,0001,00,0001,00,0001,00,0001,00,0001,00,0001,00,0001,00,0001,00,0001,00,0001,00,0001,00,0001,00,0001,00,0001,00,0001,00,0001,00,0001,00,0001,00,0001,00,0001,00,0001,00,0001,00,0001,00,0001,00,0001,00,0001,00,0001,00,0001,00,0001,00,0001,00,0001,00,0001,00,0001,00,0001,00,0001,00,0001,00,0001,00,0001,00,0001,00,0001,00,0001,00,0001,00,0001,00,0001,00,0001,00,0001,00,0001,00,0001,00,0001,00,0001,00,0001,00,0001,00,0001,00,0001,00,0001,00,0001,00,0001,00,0001,00,0001,00,0001,00,0001,00,0001,00,0001,00,0001,00,0001,00,0001,00,0001,00,0001,00,0001,00,0001,00,0001,00,0001,00,0001,00,0001,00,0001,00,0001,00,0001,00,0001,00,0001,00,0001,00,0001,00,0001,00,0001,00,0001,00,0001,00,0001,00,0001,00,0001,00,0001,00,0001,00,0001,00,0001,00,0001,00,0001,00,0001,00,0001,00,0001,00,0001,00,0001,00,0001,00,0001,00,0001,00,0001,00,0001,00,0001,00,0001,00,0001,00,0001,00,0001,00,0001,00,0001,00,0001,00,0001,00,0001,00,0001,00,0001,00,0001,00,0001,00,0001,00,0001,00,0001,00,0001,00,0001,00,0001,00,0001,00,0001,00,0001,00,0001,00,0001,00,0001,00,0001,00,0001,00,0001,00,0001,00,0001,00,0001,00,0001,00,0001,00,0001,00,0001,00,0001,00,0001,00,0001,00,0001,00,0001,00,0001,00,0001,00,0001,00,0001,00,0001,00,0001,00,0001,00,0001,00,0001,00,0001,00,0001,00,0001,00,0001,00,0001,00,0001,00,0001,00,0001,00,0001,00,0001,00,0001,00,0001,00,0001,00,0001,00,0001,00,0001,00,0001,00,0001,00,0001,00,0001,00,0001,00,0001,00,0001,00,0001,00,0001,00,0001,00,0001,00,0001,00,0001,00,0001,00,0001,00,0001,00,0001,00,0001,00,0001,00,0001,00,0001,00,0001,00,0001,00,0001,00,0001,00,0001,00,0001,00,0001,00,0001,00,0001,00,0001,00,0001,00,0001,00,0001,00,0001,00,0001,00,0001,00,0001,00,0001,00,0001,00,0001,00,0001,00,0001,00,0001,00,0001,00,0001,00,0001,00,0001,00,0001,00,0001,00,0001,00,0001,00,0001,00,0001,00,0001,00,0001,00,0001,00,0001,00,0001,00,0001,00,0001,00,0001,00,0001,00,0001,00,0001,00,0001,00,0001,00,0001,00,0001,00,0001,00,0001,00,0001,00,0001,00,0001,00,0001,00,0001,00,0001,00,0001,00,0001,00,0001,00,0001,00,0001,00,0001,00,0001,00,0001,00,0001,00,0001,00,0001,00,0001,00,0001,00,0001,00,0001,00,0001,00,0001,00,0001,00,0001,00,0001,00,0001,00,0001,00,0001,00,0001,00,0001,00,0001,00,0001,00,0001,00,0001,00,0001,00,0001,00,0001,00,0001,00,0001,00,0001,00,0001,00,0001,00,0001,00,0001,00,0001,00,0001,00,0001,00,0001,00,0001,00,0001,00,0001,00,0001,00,0001,00,0001,00,0001,00,0001,00,0001,00,0001,00,0001,00,0001,00,0001,00,0001,00,0001,00,0001,00,0001,00,0001,00,0001,00,0001,00,0001,00,0001,00,0001,00,0001,00,0001,00,0001,00,0001,00,0001,00,0001,00,0001,00,0001,00,0001,00,0001,00,0001,00,0001,00,0001,00,0001,00,0001,00,0001,00,0001,00,0001,00,0001,00,0001,00,0001,00,0001,00,0001,00,0001,00,0001,00,0001,00,0001,00,0001,00,0001,00,0001,00,0001,00,0001,00,0001,00,0001,00,0001,00,0001,00,0001,00,0001,00,0001,00,0001,00,0001,00,0001,00,0001,00,0001,00,0001,00,0001,00,0001,00,0001,00,0001,00,0001,00,0001,00,0001,00,0001,00,0001,00,0001,00,0001,00,0001,00,0001,00,0001,00,0001,00,0001,00,0001,00,0001,00,0001,00,0001,00,0001,00,0001,00,0001,00,0001,00,0001,00,0001,00,0001,00,0001,00,0001,00,0001,00,0001,00,0001,00,0001,00,0001,00,0001,00,0001,00,0001,00,0001,00,0001,00,0001,00,0001,00,0001,00,0001,00,0001,00,0001,00,0001,00,0001,00,0001,00,0001,00,0001,00,0001,00,0001,00,0001,00,0001,00,0001,00,0001,00,0001,00,0001,00,0001,00,0001,00,0001,00,0001,00,0001,00,0001,00,0001,00,0001,00,0001,00,0001,00,0001,00,0001,00,0001,00,0001,00,0001,00,0001,00,0001,00,0001,00,0001,00,0001,00,0001,00,0001,00,0001,00,0001,00,0001,00,0001,00,0001,00,0001,00,0001,00,0001,00,0001,00,0001,00,0001,00,0001,00,0001,00,0001,00,0001,00,0001,00,0001,00,0001,00,0001,00,0001,00,0001,00,0001,00,0001,00,0001,00,0001,00,0001,00,0001,00,0001,00,0001,00,0001,00,0001,00,0001,00,0001,00,0001,00,0001,00,0001,00,0001,00,0001,00,0001,00,0001,00,0001,00,0001,00,0001,00,0001,00,0001,00,0001,00,0001,00,0001,00,0001,00,0001,00,0001,00,0001,00,0001,00,0001,00,0001,00,0001,00,0001,00,0001,00,0001,00,0001,00,0001,00,0001,00,0001,00,0001,00,0001,00,0001,00,0001,00,0001,00,0001,00,0001,00,0001,00,0001,00,0001,00,0001,00,0001,00,0001,00,0001,00,0001,00,0001,00,0001,00,0001,00,0001,00,0001,00,0001,00,0001,00,0001,00,0001,00,0001,00,0001,00,0001,00,0001,00,0001,00,0001,00,0001,00,0001,00,0001,00,0001,00,0001,00,0001,00,0001,00,0001,00,0001,00,0001,00,0001,00,0001,00,0001,00,0001,00,0001,00,0001,00,0001,00,0001,00,0001,00,0001,00,0001,00,0001,00,0001,00,0001,00,0001,00,0001,00,0001,00,0001,00,0001,00,0001,00,0001,00,0001,00,0001,00,0001,00,0001,00,0001,00,0001,00,0001,00,0001,00,0001,00,0001,00,0001,00,0001,00,0001,00,0001,00,0001,00,0001,00,0001,00,0001,00,0001,00,0001,00,0001,00,0001,00,0001,00,0001,00,0001,00,0001,00,0001,00,0001,00,0001,00,0001,00,0001,00,0001,00,0001,00,0001,00,0001,00,0001,00,0001,00,0001,00,0001,00,0001,00,0001,00,0001,00,0001,00,0001,00,0001,00,0001,00,0001,00,0001,00,0001,00,0001,00,0001,00,0001,00,0001,00,0001,00,0001,00,0001,00,0001,00,0001,00,0001,00,0001,00,0001,00,0001,00,0001,00,0001,00,0001,00,0001,00,0001,00,0001,00,0001,00,0001,00,0001,00,0001,00,0001,00,0001,00,0001,00,0001,00,0001,00,0001,00,0001,00,0001,00,0001,00,0001,00,0001,00,0001,00,0001,00,0001,00,0001,00,0001,00,0001,00,0001,00,0001,00,0001,00,0001,00,0001,00,0001,00,0001,00,0001,00,0001,00,0001,00,0001,00,0001,00,0001,00,0001,00,0001,00,0001,00,0001,00,0001,00,0001,00,0001,00,0001,00,0001,00,0001,00,0001,00,0001,00,0001,00,0001,00,0001,00,0001,00,0001,00,0001,00,0001,00,0001,00,0001,00,0001,00,0001,00,0001,00,0001,00,0001,00,0001,00,0001,00,0001,00,0001,00,0001,00,0001,00,0001,00,0001,00,0001,00,0001,00,0001,00,0001,00,0001,00,0001,00,0001,00,0001,00,0001,00,0001,00,0001,00,0001,00,0001,00,0001,00,0001,00,0001,00,0001,00,0001,00,0001,00,0001,00,0001,00,0001,00,0001,00,0001,00,0001,00,0001,00,0001,00,0001,00,0001,00,0001,00,0001,00,0001,00,0001,00,0001,00,0001,00,0001,00,0001,00,0001,00,0001,00,0001,00,0001,00,0001,00,0001,00,0001,00,0001,00,0001,00,0001,00,0001,00,0001,00,0001,00,0001,00,0001,00,0001,00,0001,00,0001,00,0001,00,0001,00,0001,00,0001,00,0001,00,0001,00,0001,00,0001,00,0001,00,0001,00,0001,00,0001,00,0001,00,0001,00,0001,00,0001,00,0001,00,0001,00,0001,00,0001,00,0001,00,0001,00,0001,00,0001,00,0001,00,0001,00,0001,00,0001,00,0001,00,0001,00,0001,00,0001,00,0001,00,0001,00,0001,00,0001,00,0001,00,0001,00,0001,00,0001,00,0001,00,0001,00,0001,00,0001,00,0001,00,0001,00,0001,00,0001,00,0001,00,0001,00,0001,00,0001,00,0001,00,0001,00,0001,00,0001,00,0001,00,0001,00,0001,00,0001,00,0001,00,0001,00,0001,00,0001,00,0001,00,0001,00,0001,00,0001,00,0001,00,0001,00,0001,00,0001,00,0001,00,0001,00,0001,00,0001,00,0001,00,0001,00,0001,00,0001,00,0001,00,0001,00,0001,00,0001,00,0001,00,0001,00,0001,00,0001,00,0001,00,0001,00,0001,00,0001,00,0001,00,0001,00,0001,00,0001,00,0001,00,0001,00,0001,00,0001,00,0001,00,0001,00,0001,00,0001,00,0001,00,0001,00,0001,00,0001,00,0001,00,0001,00,0001,00,0001,00,0001,00,0001,00,0001,00,0001,00,0001,00,0001,00,0001,00,0001,00,0001,00,0001,00,0001,00,0001,00,0001,00,0001,00,0001,00,0001,00,0001,00,0001,00,0001,00,0001,00,0001,00,0001,00,0001,00,0001,00,0001,00,0001,00,0001,00,0001,00,0001,00,0001,00,0001,00,0001,00,0001,00,0001,00,0001,00,0001,00,0001,00,0001,00,0001,00,0001,00,0001,00,0001,00,0001,00,0001,00,0001,00,0001,00,0001,00,0001,00,0001,00,0001,00,0001,00,0001,00,0001,00,0001,00,0001,00,0001,00,0001,00,0001,00,0001,00,0001,00,0001,00,0001,00,0001,00,0001,00,0001,00,0001,00,0001,00,0001,00,0001,00,0001,00,0001,00,0001,00,0001,00,0001,00,0001,00,0001,00,0001,00,0001,00,0001,00,0001,00,0001,00,0001,00,0001,00,0001,00,0001,00,0001,00,0001,00,0001,00,0001,00,0001,00,0001,00,0001,00,0001,00,0001,00,0001,00,0001,00,0001,00,0001,00,0001,00,0001,00,0001,00,0001,00,0001,00,0001,00,0001,00,0001,00,0001,00,0001,00,0001,00,0001,00,0001,00,0001,00,0001,00,0001,00,0001,00,0001,00,0001,00,0001,00,0001,00,0001,00,0001,00,0001,00,0001,00,0001,00,0001,00,0001,00,0001,00,0001,00,0001,00,0001,00,0001,00,0001,00,0001,00,0001,00,0001,00,0001,00,0001,00,0001,00,0001,00,0001,00,0001,00,0001,00,0001,00,0001,00,0001,00,0001,00,0001,00,0001,00,0001,00,0001,00,0001,00,0001,00,0001,00,0001,00,0001,00,0001,00,0001,00,0001,00,0001,00,0001,00,0001,00,0001,00,0001,00,0001,00,0001,00,0001,00,0001,00,0001,00,0001,00,0001,00,0001,00,0001,00,0001,00,0001,00,0001,00,0001,00,0001,00,0001,00,0001,00,0001,00,0001,00,0001,00,0001,00,0001,00,0001,00,0001,00,0001,00,0001,00,0001,00,0001,00,0001,00,0001,00,0001,00,0001,00,0001,00,0001,00,0001,00,0001,00,0001,00,0001,00,0001,00,0001,00,0001,00,0001,00,0001,00,0001,00,0001,00,0001,00,0001,00,0001,00,0001,00,0001,00,0001,00,0001,00,0001,00,0001,00,0001,00,0001,00,0001,00,0001,00,0001,00,0001,00,0001,00,0001,00,0001,00,0001,00,0001,00,0001,00,0001,00,0001,00,0001,00,0001,00,0001,00,0001,00,0001,00,0001,00,0001,00,0001,00,0001,00,0001,00,0001,00,0001,00,0001,00,0001,00,0001,00,0001,00,0001,00,0001,00,0001,00,0001,00,0001,00,0001,00,0001,00,0001,00,0001,00,0001,00,0001,00,0001,00,0001,00,0001,00,0001,00,0001,00,0001,00,0001,00,0001,00,0001,00,0001,00,0001,00,0001,00,0001,00,0001,00,0001,00,0001,00,0001,00,0001,00,0001,00,0001,00,0001,00,0001,00,0001,00,0001,00,0001,00,0001,00,0001,00,0001,00,0001,00,0001,00,0001,00,0001,00,0001,00,0001,00,0001,00,0001,00,0001,00,0001,00,0001,00,0001,00,0001,00,0001,00,0001,00,0001,00,0001,00,0001,00,0001,00,0001,00,0001,00,0001,00,0001,00,0001,00,0001,00,0001,00,0001,00,0001,00,0001,00,0001,00,0001,00,0001,00,0001,00,0001,00,0001,00,0001,00,0001,00,0001,00,0001,00,0001,00,0001,00,0001,00,0001,00,0001,00,0001,00,0001,00,0001,00,0001,00,0001,00,0001,00,0001,00,0001,00,0001,00,0001,00,0001,00,0001,00,0001,00,0001,00,0001,00,0001,00,0001,00,0001,00,0001,00,0001,00,0001,00,0001,00,0001,00,0001,00,0001,00,0001,00,0001,00,0001,00,0001,00,0001,00,0001,00,0001,00,0001,00,0001,00,0001,00,0001,00,0001,00,0001,00,0001,00,0001,00,0001,00,0001,00,0001,00,0001,00,0001,00,0001,00,0001,00,0001,00,0001,00,0001,00,0001,00,0001,00,0001,00,0001,00,0001,00,0001,00,0001,00,0001,00,0001,00,0001,00,0001,00,0001,00,0001,00,0001,00,0001,00,0001,00,0001,00,0001,00,0001,00,0001,00,0001,00,0001,00,0001,00,0001,00,0001,00,0001,00,0001,00,0001,00,0001,00,0001,00,0001,00,0001,00,0001,00,0001,00,0001,00,0001,00,0001,00,0001,00,0001,00,0001,00,0001,00,0001,00,0001,00,0001,00,0001,00,0001,00,0001,00,0001,00,0001,00,0001,00,0001,00,0001,00,0001,00,0001,00,0001,00,0001,00,0001,00,0001,00,0001,00,0001,00,0001,00,0001,00,0001,00,0001,00,0001,00,0001,00,0001,00,0001,00,0001,00,0001,00,0001,00,0001,00,0001,00,0001,00,0001,00,0001,00,0001,00,0001,00,0001,00,0001,00,0001,00,0001,00,0001,00,0001,00,0001,00,0001,00,0001,00,0001,00,0001,00,0001,00,0001,00,0001,00,0001,00,0001,00,0001,00,0001,00,0001,00,0001,00,0001,00,0001,00,0001,00,0001,00,0001,00,0001,00,0001,00,0001,00,0001,00,0001,00,0001,00,0001,00,0001,00,0001,00,0001,00,0001,00,0001,00,0001,00,0001,00,0001,00,0001,00,0001,00,0001,00,0001,00,0001,00,0001,00,0001,00,0001,00,0001,00,0001,00,0001,00,0001,00,0001,00,0001,00,0001,00,0001,00,0001,00,0001,00,0001,00,0001,00,0001,00,0001,00,0001,00,0001,00,0001,00,0001,00,0001,00,0001,00,0001,00,0001,00,0001,00,0001,00,0001,00,0001,00,0001,00,0001,00,0001,00,0001,00,0001,00,0001,00,0001,00,0001,00,0001,00,0001,00,0001,00,0001,00,0001,00,0001,00,0001,00,0001,00,0001,00,0001,00,0001,00,0001,00,0001,00,0001,00,0001,00,0001,00,0001,00,0001,00,0001,00,0001,00,0001,00,0001,00,0001,00,0001,00,0001,00,0001,00,0001,00,0001,00,0001,00,0001,00,0001,00,0001,00,0001,00,0001,00,0001,00,0001,00,0001,00,0001,00,0001,00,0001,00,0001,00,0001,00,0001,00,0001,00,0001,00,0001,00,0001,00,0001,00,0001,00,0001,00,0001,00,0001,00,0001,00,0001,00,0001,00,0001,00,0001,00,0001,00,0001,00,0001,00,0001,00,0001,00,0001,00,0001,00,0001,00,0001,00,0001,00,0001,00,0001,00,0001,00,0001,00,0001,00,0001,00,0001,00,0001,00,0001,00,0001,00,0001,00,0001,00,0001,00,0001,00,0001,00,0001,00,0001,00,0001,00,0001,00,0001,00,0001,00,0001,00,0001,00,0001,00,0001,00,0001,00,0001,00,0001,00,0001,00,0001,00,0001,00,0001,00,0001,00,0001,00,0001,00,0001,00,0001,00,0001,00,0001,00,0001,00,0001,00,0001,00,0001,00,0001,00,0001,00,0001,00,0001,00,0001,00,0001,00,0001,00,0001,00,0001,00,0001,00,0001,00,0001,00,0001,00,0001,00,0001,00,0001,00,0001,00,0001,00,0001,00,0001,00,0001,00,0001,00,0001,00,0001,00,0001,00,0001,00,0001,00,0001,00,0001,00,0001,00,0001,00,0001,00,0001,00,0001,00,0001,00,0001,00,0001,00,0001,00,0001,00,0001,00,0001,00,0001,00,0001,00,0001,00,0001,00,0001,00,0001,00,0001,00,0001,00,0001,00,0001,00,0001,00,0001,00,0001,00,0001,00,0001,00,0001,00,0001,00,0001,00,0001,00,0001,00,0001,00,0001,00,0001,00,0001,00,0001,00,0001,00,0001,00,0001,00,0001,00,0001,00,0001,00,0001,00,0001,00,0001,00,0001,00,0001,00,0001,00,0001,00,0001,00,0001,00,0001,00,0001,00,0001,00,0001,00,0001,00,0001,00,0001,00,0001,00,0001,00,0001,00,0001,00,0001,00,0001,00,0001,00,0001,00,0001,00,0001,00,0001,00,0001,00,0001,00,0001,00,0001,00,0001,00,0001,00,0001,00,0001,00,0001,00,0001,00,0001,00,0001,00,0001,00,0001,00,0001,00,0001,00,0001,00,0001,00,0001,00,0001,00,0001,00,0001,00,0001,00,0001,00,0001,00,0001,00,0001,00,0001,00,0001,00,0001,00,0001,00,0001,00,0001,00,0001,00,0001,00,0001,00,0001,00,0001,00,0001,00,0001,00,0001,00,0001,00,0001,00,0001,00,0001,00,0001,00,0001,00,0001,00,0001,00,0001,00,0001,00,0001,00,0001,00,0001,00,0001,00,0001,00,0001,00,0001,00,0001,00,0001,00,0001,00,0001,00,0001,00,0001,00,0001,00,0001,00,0001,00,0001,00,0001,00,0001,00,0001,00,0001,00,0001,00,0001,00,0001,00,0001,00,0001,00,0001,00,0001,00,0001,00,0001,00,0001,00,0001,00,0001,00,0001,00,0001,00,0001,00,0001,00,0001,00,0001,00,0001,00,0001,00,0001,00,0001,00,0001,00,0001,00,0001,00,0001,00,0001,00,0001,00,0001,00,0001,00,0001,00,0001,00,0001,00,0001,00,0001,00,0001,00,0001,00,0001,00,0001,00,0001,00,0001,00,0001,00,0001,00,0001,00,0001,00,0001,00,0001,00,0001,00,0001,00,0001,00,0001,00,0001,00,0001,00,0001,00,0001,00,0001,00,0001,00,0001,00,0001,00,0001,00,0001,00,0001,00,0001,00,0001,00,0001,00,0001,00,0001,00,0001,00,0001,00,0001,00,0001,00,0001,00,0001,00,0001,00,0001,00,0001,00,0001,00,0001,00,0001,00,0001,00,0001,00,0001,00,0001,00,0001,00,0001,00,0001,00,0001,00,0001,00,0001,00,0001,00,0001,00,0001,00,0001,00,0001,00,0001,00,0001,00,0001,00,0001,00,0001,00,0001,00,0001,00,0001,00,0001,00,0001,00,0001,00,0001,00,0001,00,0001,00,0001,00,0001,00,0001,00,0001,00,0001,00,0001,00,0001,00,0001,00,0001,00,0001,00,0001,00,0001,00,0001,00,0001,00,0001,00,0001,00,0001,00,0001,00,0001,00,0001,00,0001,00,0001,00,0001,00,0001,00,0001,00,0001,00,0001,00,0001,00,0001,00,0001,00,0001,00,0001,00,0001,00,0001,00,0001,00,0001,00,0001,00,0001,00,0001,00,0001,00,0001,00,0001,00,0001,00,0001,00,0001,00,0001,00,0001,00,0001,00,0001,00,0001,00,0001,00,0001,00,0001,00,0001,00,0001,00,0001,00,0001,00,0001,00,0001,00,0001,00,0001,00,0001,00,0001,00,0001,00,0001,00,0001,00,0001,00,0001,00,0001,00,0001,00,0001,00,0001,00,0001,00,0001,00,0001,00,0001,00,0001,00,0001,00,0001,00,0001,00,0001,00,0001,00,0001,00,0001,00,0001,00,0001,00,0001,00,0001,00,0001,00,0001,00,0001,00,0001,00,0001,00,0001,00,0001,00,0001,00,0001,00,0001,00,0001,00,0001,00,0001,00,0001,00,0001,00,0001,00,0001,00,0001,00,0001,00,0001,00,0001,00,0001,00,0001,00,0001,00,0001,00,0001,00,0001,00,0001,00,0001,00,0001,00,0001,00,0001,00,0001,00,0001,00,0001,00,0001,00,0001,00,0001,00,0001,00,0001,00,0001,00,0001,00,0001,00,0001,00,0001,00,0001,00,0001,00,0001,00,0001,00,0001,00,0001,00,0001,00,0001,00,0001,00,0001,00,0001,00,0001,00,0001,00,0001,00,0001,00,0001,00,0001,00,0001,00,0001,00,0001,00,0001,00,0001,00,0001,00,0001,00,0001,00,0001,00,0001,00,0001,00,0001,00,0001,00,0001,00,0001,00,0001,00,0001,00,0001,00,0001,00,0001,00,0001,00,0001,00,0001,00,0001,00,0001,00,0001,00,0001,00,0001,00,0001,00,0001,00,0001,00,0001,00,0001,00,0001,00,0001,00,0001,00,0001,00,0001,00,0001,00,0001,00,0001,00,0001,00,0001,00,0001,00,0001,00,0001,00,0001,00,0001,00,0001,00,0001,00,0001,00,0001,00,0001,00,0001,00,0001,00,0001,00,0001,00,0001,00,0001,00,0001,00,0001,00,0001,00,0001,00,0001,00,0001,00,0001,00,0001,00,0001,00,0001,00,0001,00,0001,00,0001,00,0001,00,0001,00,0001,00,0001,00,0001,00,0001,00,0001,00,0001,00,0001,00,0001,00,0001,00,0001,00,0001,00,0001,00,0001,00,0001,00,0001,00,0001,00,0001,00,0001,00,0001,00,0001,00,0001,00,0001,00,0001,00,0001,00,0001,00,0001,00,0001,00,0001,00,0001,00,0001,00,0001,00,0001,00,0001,00,0001,00,0001,00,0001,00,0001,00,0001,00,0001,00,0001,00,0001,00,0001,00,0001,00,0001,00,0001,00,0001,00,0001,00,0001,00,0001,00,0001,00,0001,00,0001,00,0001,00,0001,00,0001,00,0001,00,0001,00,0001,00,0001,00,0001,00,0001,00,0001,00,0001,00,0001,00,0001,00,0001,00,0001,00,0001,00,0001,00,0001,00,0001,00,0001,00,0001,00,0001,00,0001,00,0001,00,0001,00,0001,00,0001,00,0001,00,0001,00,0001,00,0001,00,0001,00,0001,00,0001,00,0001,00,0001,00,0001,00,0001,00,0001,00,0001,00,0001,00,0001,00,0001,00,0001,00,0001,00,0001,00,0001,00,0001,00,0001,00,0001,00,0001,00,0001,00,0001,00,0001,00,0001,00,0001,00,0001,00,0001,00,0001,00,0001,00,0001,00,0001,00,0001,00,0001,00,0001,00,0001,00,0001,00,0001,00,0001,00,0001,00,0001,00,0001,00,0001,00,0001,00,0001,00,0001,00,0001,00,0001,00,0001,00,0001,00,0001,00,0001,00,0001,00,0001,00,0001,00,0001,00,0001,00,0001,00,0001,00,0001,00,0001,00,0001,00,0001,00,0001,00,0001,00,0001,00,0001,00,0001,00,0001,00,0001,00,0001,00,0001,00,0001,00,0001,00,0001,00,0001,00,0001,00,0001,00,0001,00,0001,00,0001,00,0001,00,0001,00,0001,00,0001,00,0001,00,0001,00,0001,00,0001,00,0001,00,0001,00,0001,00,0001,00,0001,00,0001,00,0001,00,0001,00,0001,00,0001,00,0001,00,0001,00,0001,00,0001,00,0001,00,0001,00,0001,00,0001,00,0001,00,0001,00,0001,00,0001,00,0001,00,0001,00,0001,00,0001,00,0001,00,0001,00,0001,00,0001,00,0001,00,0001,00,0001,00,0001,00,0001,00,0001,00,0001,00,0001,00,0001,00,0001,00,0001,00,0001,00,0001,00,0001,00,0001,00,0001,00,0001,00,0001,00,0001,00,0001,00,0001,00,0001,00,0001,00,0001,00,0001,00,0001,00,0001,00,0001,00,0001,00,0001,00,0001,00,0001,00,0001,00,0001,00,0001,00,0001,00,0001,00,0001,00,0001,00,0001,00,0001,00,0001,00,0001,00,0001,00,0001,00,0001,00,0001,00,0001,00,0001,00,0001,00,0001,00,0001,00,0001,00,0001,00,0001,00,0001,00,0001,00,0001,00,0001,00,0001,00,0001,00,0001,00,0001,00,0001,00,0001,00,0001,00,0001,00,0001,00,0001,00,0001,00,0001,00,0001,00,0001,00,0001,00,0001,00,0001,00,0001,00,0001,00,0001,00,0001,00,0001,00,0001,00,0001,00,0001,00,0001,00,0001,00,0001,00,0001,00,0001,00,0001,00,0001,00,0001,00,0001,00,0001,00,0001,00,0001,00,0001,00,0001,00,0001,00,0001,00,0001,00,0001,00,0001,00,0001,00,0001,00,0001,00,0001,00,0001,00,0001,00,0001,00,0001,00,0001,00,0001,00,0001,00,0001,00,0001,00,0001,00,0001,00,0001,00,0001,00,0001,00,0001,00,0001,00,0001,00,0001,00,0001,00,0001,00,0001,00,0001,00,0001,00,0001,00,0001,00,0001,00,0001,00,0001,00,0001,00,0001,00,0001,00,0001,00,0001,00,0001,00,0001,00,0001,00,0001,00,0001,00,0001,00,0001,00,0001,00,0001,00,0001,00,0001,00,0001,00,0001,00,0001,00,0001,00,0001,00,0001,00,0001,00,0001,00,0001,00,0001,00,0001,00,0001,00,0001,00,0001,00,0001,00,0001,00,0001,00,0001,00,0001,00,0001,00,0001,00,0001,00,0001,00,0001,00,0001,00,0001,00,0001,00,0001,00,0001,00,0001,00,0001,00,0001,00,0001,00,0001,00,0001,00,0001,00,0001,00,0001,00,0001,00,0001,00,0001,00,0001,00,0001,00,0001,00,0001,00,0001,00,0001,00,0001,00,0001,00,0001,00,0001,00,0001,00,0001,00,0001,00,0001,00,0001,00,0001,00,0001,00,0001,00,0001,00,0001,00,0001,00,0001,00,0001,00,0001,00,0001,00,0001,00,0001,00,0001,00,0001,00,0001,00,0001,00,0001,00,0001,00,0001,00,0001,00,0001,00,0001,00,0001,00,0001,00,0001,00,0001,00,0001,00,0001,00,0001,00,0001,00,0001,00,0001,00,0001,00,0001,00,0001,00,0001,00,0001,00,0001,00,0001,00,0001,00,0001,00,0001,00,0001,00,0001,00,0001,00,0001,00,0001,00,0001,00,0001,00,0001,00,0001,00,0001,00,0001,00,0001,00,0001,00,0001,00,0001,00,0001,00,0001,00,0001,00,0001,00,0001,00,0001,00,0001,00,0001,00,0001,00,0001,00,0001,00,0001,00,0001,00,0001,00,0001,00,0001,00,0001,00,0001,00,0001,00,0001,00,0001,00,0001,00,0001,00,0001,00,0001,00,0001,00,0001,00,0001,00,0001,00,0001,00,0001,00,0001,00,0001,00,0001,00,0001,00,0001,00,0001,00,0001,00,0001,00,0001,00,0001,00,0001,00,0001,00,0001,00,0001,00,0001,00,0001,00,0001,00,0001,00,0001,00,0001,00,0001,00,0001,00,0001,00,0001,00,0001,00,0001,00,0001,00,0001,00,0001,00,0001,00,0001,00,0001,00,0001,00,0001,00,0001,00,0001,00,0001,00,0001,00,0001,00,0001,00,0001,00,0001,00,0001,00,0001,00,0001,00,0001,00,0001,00,0001,00,0001,00,0001,00,0001,00,0001,00,0001,00,0001,00,0001,00,0001,00,0001,00,0001,00,0001,00,0001,00,0001,00,0001,00,0001,00,0001,00,0001,00,0001,00,0001,00,0001,00,0001,00,0001,00,0001,00,0001,00,0001,00,0001,00,0001,00,0001,00,0001,00,0001,00,0001,00,0001,00,0001,00,0001,00,0001,00,0001,00,0001,00,0001,00,0001,00,0001,00,0001,00,0001,00,0001,00,0001,00,0001,00,0001,00,0001,00,0001,00,0001,00,0001,00,0001,00,0001,00,0001,00,0001,00,0001,00,0001,00,0001,00,0001,00,0001,00,0001,00,0001,00,0001,00,0001,00,0001,00,0001,00,0001,00,0001,00,0001,00,0001,00,0001,00,0001,00,0001,00,0001,00,0001,00,0001,00,0001,00,0001,00,0001,00,0001,00,0001,00,0001,00,0001,00,0001,00,0001,00,0001,00,0001,00,0001,00,0001,00,0001,00,0001,00,0001,00,0001,00,0001,00,0001,00,0001,00,0001,00,0001,00,0001,00,0001,00,0001,00,0001,00,0001,00,0001,00,0001,00,0001,00,0001,00,0001,00,0001,00,0001,00,0001,00,0001,00,0001,00,0001,00,0001,00,0001,00,0001,00,0001,00,0001,00,0001,00,0001,00,0001,00,0001,00,0001,00,0001,00,0001,00,0001,00,0001,00,0001,00,0001,00,0001,00,0001,00,0001,00,0001,00,0001,00,0001,00,0001,00,0001,00,0001,00,0001,00,0001,00,0001,00,0001,00,0001,00,0001,00,0001,00,0001,00,0001,00,0001,00,0001,00,0001,00,0001,00,0001,00,0001,00,0001,00,0001,00,0001,00,0001,00,0001,00,0001,00,0001,00,0001,00,0001,00,0001,00,0001,00,0001,00,0001,00,0001,00,0001,00,0001,00,0001,00,0001,00,0001,00,0001,00,0001,00,0001,00,0001,00,0001,00,0001,00,0001,00,0001,00,0001,00,0001,00,0001,00,0001,00,0001,00,0001,00,0001,00,0001,00,0001,00,0001,00,0001,00,0001,00,0001,00,0001,00,0001,00,0001,00,0001,00,0001,00,0001,00,0001,00,0001,00,0001,00,0001,00,0001,00,0001,00,0001,00,0001,00,0001,00,0001,00,0001,00,0001,00,0001,00,0001,00,0001,00,0001,00,0001,00,0001,00,0001,00,0001,00,0001,00,0001,00,0001,00,0001,00,0001,00,0001,00,0001,00,0001,00,0001,00,0001,00,0001,00,0001,00,0001,00,0001,00,0001,00,0001,00,0001,00,0001,00,0001,00,0001,00,0001,00,0001,00,0001,00,0001,00,0001,00,0001,00,0001,00,0001,00,0001,00,0001,00,0001,00,0001,00,0001,00,0001,00,0001,00,0001,00,0001,00,0001,00,0001,00,0001,00,0001,00,0001,00,0001,00,0001,00,0001,00,0001,00,0001,00,0001,00,0001,00,0001,00,0001,00,0001,00,0001,00,0001,00,0001,00,0001,00,0001,00,0001,00,0001,00,0001,00,0001,00,0001,00,0001,00,0001,00,0001,00,0001,00,0001,00,0001,00,0001,00,0001,00,0001,00,0001,00,0001,00,0001,00,0001,00,0001,00,0001,00,0001,00,0001,00,0001,00,0001,00,0001,00,0001,00,0001,00,0001,00,0001,00,0001,00,0001,00,0001,00,0001,00,0001,00,0001,00,0001,00,0001,00,0001,00,0001,00,0001,00,0001,00,0001,00,0001,00,0001,00,0001,00,0001,00,0001,00,0001,00,0001,00,0001,00,0001,00,0001,00,0001,00,0001,00,0001,00,0001,00,0001,00,0001,00,0001,00,0001,00,0001,00,0001,00,0001,00,0001,00,0001,00,0001,00,0001,00,0001,00,0001,00,0001,00,0001,00,0001,00,0001,00,0001,00,0001,00,0001,00,0001,00,0001,00,0001,00,0001,00,0001,00,0001,00,0001,00,0001,00,0001,00,0001,00,0001,00,0001,00,0001,00,0001,00,0001,00,0001,00,0001,00,0001,00,0001,00,0001,00,0001,00,0001,00,0001,00,0001,00,0001,00,0001,00,0001,00,0001,00,0001,00,0001,00,0001,00,0001,00,0001,00,0001,00,0001,00,0001,00,0001,00,0001,00,0001,00,0001,00,0001,00,0001,00,0001,00,0001,00,0001,00,0001,00,0001,00,0001,00,0001,00,0001,00,0001,00,0001,00,0001,00,0001,00,0001,00,0001,00,0001,00,0001,00,0001,00,0001,00,0001,00,0001,00,0001,00,0001,00,0001,00,0001,00,0001,00,0001,00,0001,00,0001,00,0001,00,0001,00,0001,00,0001,00,0001,00,0001,00,0001,00,0001,00,0001,00,0001,00,0001,00,0001,00,0001,00,0001,00,0001,00,0001,00,0001,00,0001,00,0001,00,0001,00,0001,00,0001,00,0001,00,0001,00,0001,00,0001,00,0001,00,0001,00,0001,00,0001,00,0001,00,0001,00,0001,00,0001,00,0001,00,0001,00,0001,00,0001,00,0001,00,0001,00,0001,00,0001,00,0001,00,0001,00,0001,00,0001,00,0001,00,0001,00,0001,00,0001,00,0001,00,0001,00,0001,00,0001,00,0001,00,0001,00,0001,00,0001,00,0001,00,0001,00,0001,00,0001,00,0001,00,0001,00,0001,00,0001,00,0001,00,0001,00,0001,00,0001,00,0001,00,0001,00,0001,00,0001,00,0001,00,0001,00,0001,00,0001,00,0001,00,0001,00,0001,00,0001,00,0001,00,0001,00,0001,00,0001,00,0001,00,0001,00,0001,00,0001,00,0001,00,0001,00,0001,00,0001,00,0001,00,0001,00,0001,00,0001,00,0001,00,0001,00,0001,00,0001,00,0001,00,0001,00,0001,00,0001,00,0001,00,0001,00,0001,00,0001,00,0001,00,0001,00,0001,00,0001,00,0001,00,0001,00,0001,00,0001,00,0001,00,0001,00,0001,00,0001,00,0001,00,0001,00,0001,00,0001,00,0001,00,0001,00,0001,00,0001,00,0001,00,0001,00,0001,00,0001,00,0001,00,0001,00,0001,00,0001,00,0001,00,0001,00,0001,00,0001,00,0001,00,0001,00,0001,00,0001,00,0001,00,0001,00,0001,00,0001,00,0001,00,0001,00,0001,00,0001,00,0001,00,0001,00,0001,00,0001,00,0001,00,0001,00,0001,00,0001,00,0001,00,0001,00,0001,00,0001,00,0001,00,0001,00,0001,00,0001,00,0001,00,0001,00,0001,00,0001,00,0001,00,0001,00,0001,00,0001,00,0001,00,0001,00,0001,00,0001,00,0001,00,0001,00,0001,00,0001,00,0001,00,0001,00,0001,00,0001,00,0001,00,0001,00,0001,00,0001,00,0001,00,0001,00,0001,00,0001,00,0001,00,0001,00,0001,00,0001,00,0001,00,0001,00,0001,00,0001,00,0001,00,0001,00,0001,00,0001,00,0001,00,0001,00,0001,00,0001,00,0001,00,0001,00,0001,00,0001,00,0001,00,0001,00,0001,00,0001,00,0001,00,0001,00,0001,00,0001,00,0001,00,0001,00,0001,00,0001,00,0001,00,0001,00,0001,00,0001,00,0001,00,0001,00,0001,00,0001,00,0001,00,0001,00,0001,00,0001,00,0001,00,0001,00,0001,00,0001,00,0001,00,0001,00,0001,00,0001,00,0001,00,0001,00,0001,00,0001,00,0001,00,0001,00,0001,00,0001,00,0001,00,0001,00,0001,00,0001,00,0001,00,0001,00,0001,00,0001,00,0001,00,0001,00,0001,00,0001,00,0001,00,0001,00,0001,00,0001,00,0001,00,0001,00,0001,00,0001,00,0001,00,0001,00,0001,00,0001,00,0001,00,0001,00,0001,00,0001,00,0001,00,0001,00,0001,00,0001,00,0001,00,0001,00,0001,00,0001,00,0001,00,0001,00,0001,00,0001,00,0001,00,0001,00,0001,00,0001,00,0001,00,0001,00,0001,00,0001,00,0001,00,0001,00,0001,00,0001,00,0001,00,0001,00,0001,00,0001,00,0001,00,0001,00,0001,00,0001,00,0001,00,0001,00,0001,00,0001,00,0001,00,0001,00,0001,00,0001,00,0001,00,0001,00,0001,00,0001,00,0001,00,0001,00,0001,00,0001,00,0001,00,0001,00,0001,00,0001,00,0001,00,0001,00,0001,00,0001,00,0001,00,0001,00,0001,00,0001,00,0001,00,0001,00,0001,00,0001,00,0001,00,0001,00,0001,00,0001,00,0001,00,0001,00,0001,00,0001,00,0001,00,0001,00,0001,00,0001,00,0001,00,0001,00,0001,00,0001,00,0001,00,0001,00,0001,00,0001,00,0001,00,0001,00,0001,00,0001,00,0001,00,0001,00,0001,00,0001,00,0001,00,0001,00,0001,00,0001,00,0001,00,0001,00,0001,00,0001,00,0001,00,0001,00,0001,00,0001,00,0001,00,0001,00,0001,00,0001,00,0001,00,0001,00,0001,00,00025,28,00,00027,43,00,00037,47,00,00020,85,00,00033,14,00,00012,99,00,00027,06,00,00012,70,00,00022,34,00,00018,48,00,00024,77,00,00019,94,00,00018,84,00,00022,03,00,00016,27,00,0007,81,00,00014,48,00,00024,94,00,0006,12,00,00025,16,00,0002,22,00,0005,14,00,00015,33,00,0003,99,00,00022,52,00,0007,08,00,00013,08,00,0007,30,00,00012,33,00,0003,07,00,0004,54,00,00019,44,00,0005,76,00,0005,46,00,0007,66,00,00017,90,00,00010,84,00,0006,03,00,00015,18,00,00016,49,00,0007,39,00,0009,80,00,00076,00,00015,57,00,00011,71,00,0005,65,00,00016,13,00,0003,43,00,00067,00,0004,25,00,0006,12,00,0007,29,00,00094,00,00016,33,00,0003,85,00,00013,00,00012,80,00,0008,87,00,0001,35,00,0002,55,00,0006,98,00,0005,53,00,0008,82,00,0002,52,00,0004,34,00,00013,87,00,0002,45,00,0001,06,00,0007,35,00,00019,57,00,0008,96,00,00067,00,00065,00,0004,31,00,0003,24,00,0005,60,00,00010,97,00,00063,00,0003,77,00,0004,99,00,0004,21,00,0003,39,00,0003,25,00,0001,54,00,00012,32,00,00099,00,0003,74,00,0007,49,00,00017,41,00,0005,62,00,0008,55,00,0003,16,00,0002,13,00,0002,59,00,00013,75,00,0004,38,00,00011,59,00,0009,17,00,0008,77,00,0005,13,00,00017,48,00,0002,86,00,0002,62,00,0003,94,00,0002,40,00,0002,12,00,0002,08,00,0003,75,00,00081,00,00013,26,00,00012,12,00,0002,65,00,0002,52,00,00012,07,00,0004,62,00,0003,62,00,0002,04,00,0001,61,00,0001,23,00,0007,85,00,0004,66,00,0002,80,00,0001,86,00,00011,94,00,0006,73,00,0005,52,00,0002,37,00,0004,62,00,0003,71,00,0003,57,00,00010,79,00,0005,77,00,0005,63,00,00040,00,0006,01,00,0003,42,00,0007,09,00,00010,75,00,0006,22,00,0006,06,00,0002,04,00,00035,00,00025,00,00010,42,00,0001,83,00,0006,56,00,0005,47,00,0004,01,00,0003,25,00,00064,00,00052,00,00052,00,0006,50,00,0006,22,00,0005,32,00,0001,94,00,0005,73,00,0005,58,00,0003,96,00,0009,92,00,0006,36,00,00011,57,00,0004,83,00,0003,03,00,0002,25,00,0001,49,00,0004,52,00,0002,96,00,0002,95,00,0002,89,00,0001,69,00,0009,47,00,0005,22,00,0004,73,00,0003,88,00,0003,32,00,0002,84,00,0001,21,00,0009,82,00,0009,80,00,0007,49,00,0005,54,00,0004,23,00,0001,58,00,0005,24,00,0004,67,00,0003,92,00,0007,57,00,0005,38,00,0005,28,00,0005,09,00,0005,09,00,0004,96,00,0003,71,00,0003,66,00,0003,25,00,0002,43,00,0001,97,00,00030,00,0004,79,00,0004,15,00,0003,92,00,0003,49,00,0001,72,00,00041,00,0007,24,00,0003,37,00,0002,93,00,0002,53,00,0002,00,00,0001,98,00,0004,60,00,0003,17,00,0002,30,00,0002,12,00,00085,00,0008,30,00,0008,14,00,0007,84,00,0005,48,00,0003,68,00,0002,23,00,0001,97,00,0003,57,00,0001,44,00,0001,25,00,0004,75,00,0003,12,00,0003,10,00,0002,88,00,0001,86,00,0001,12,00,0005,62,00,0004,96,00,0004,46,00,0004,07,00,0002,61,00,0002,35,00,0002,19,00,0002,33,00,0007,33,00,0005,14,00,0004,59,00,0004,36,00,0003,04,00,0002,23,00,0001,77,00,0001,09,00,00090,00,00083,00,00022,00,0008,83,00,0007,24,00,0007,05,00,0004,28,00,0004,23,00,0004,09,00,0003,79,00,0003,74,00,0003,68,00,0003,11,00,0002,69,00,0001,58,00,0004,27,00,0003,73,00,0003,72,00,0003,55,00,0002,21,00,0002,09,00,0001,35,00,00071,00,00024,00,0004,71,00,0003,92,00,0003,72,00,0003,63,00,0003,52,00,0003,48,00,0003,46,00,0003,35,00,0003,22,00,0002,97,00,0002,95,00,0002,83,00,00044,00,0006,76,00,0003,90,00,0003,37,00,0002,77,00,0002,73,00,0002,12,00,0002,07,00,0001,91,00,00046,00,0006,36,00,0004,82,00,0004,48,00,0004,31,00,0003,38,00,0003,36,00,0002,83,00,0002,33,00,0002,09,00,0001,97,00,0001,29,00,0001,07,00,00069,00,0007,86,00,0006,07,00,0004,50,00,0003,95,00,0003,74,00,0001,87,00,0001,78,00,0001,56,00,00078,00,00042,00,0006,25,00,0004,78,00,0002,77,00,0002,72,00,0001,91,00,0001,53,00,00089,00,00076,00,00016,00,0005,82,00,0004,23,00,0004,01,00,0003,52,00,0003,46,00,0003,20,00,0002,02,00,0001,96,00,0001,86,00,0001,84,00,0001,83,00,0001,50,00,0001,44,00,0009,52,00,0004,93,00,0003,73,00,0003,58,00,0003,29,00,0003,27,00,0003,09,00,0001,54,00,0001,45,00,0001,05,00,00051,00,0006,75,00,0004,65,00,0004,03,00,0003,43,00,0003,37,00,0002,90,00,0002,66,00,0001,84,00,0001,56,00,00099,00,0004,55,00,0003,50,00,0003,29,00,0002,42,00,0001,00,00,00041,00,0005,68,00,0005,19,00,0004,30,00,0003,59,00,0003,12,00,0002,88,00,0002,74,00,0002,67,00,0002,55,00,0001,68,00,0001,52,00,0001,43,00,00056,00,00055,00,0005,84,00,0005,36,00,0003,81,00,0003,69,00,0003,32,00,0003,20,00,0002,78,00,0002,58,00,0002,08,00,0001,82,00,0001,81,00,0001,34,00,00058,00,0003,24,00,0003,19,00,0002,48,00,0002,34,00,0002,26,00,0001,67,00,0001,61,00,00082,00,00081,00,00058,00,0005,51,00,0005,11,00,0004,94,00,0004,31,00,0004,16,00,0003,47,00,0003,18,00,0002,12,00,0002,02,00,0001,43,00,0001,38,00,0001,37,00,00032,00,0005,55,00,0005,12,00,0003,92,00,0003,31,00,0002,71,00,0002,70,00,0001,91,00,0001,70,00,0001,68,00,0001,57,00,0001,51,00,0001,48,00,0001,46,00,0001,42,00,0001,42,00,0001,36,00,0001,26,00,0001,17,00,0001,07,00,00096,00,00094,00,00052,00,0004,77,00,0003,82,00,0003,36,00,0002,29,00,0002,14,00,0002,08,00,0001,75,00,0001,30,00,0001,13,00,0001,13,00,0001,02,00,0001,01,00,00075,00,00065,00,00059,00,0004,61,00,0004,32,00,0003,67,00,0003,18,00,0003,15,00,0002,98,00,0002,84,00,0002,79,00,0002,65,00,0002,42,00,0001,98,00,0001,81,00,0001,45,00,0001,44,00,0001,44,00,0001,44,00,0001,33,00,0001,32,00,0001,32,00,0001,21,00,0001,11,00,00090,00,00067,00,00044,00,0004,82,00,0004,67,00,0004,63,00,0004,49,00,0004,36,00,0002,77,00,0002,61,00,0002,60,00,0002,54,00,0002,06,00,0001,46,00,0001,31,00,0001,22,00,0001,22,00,00088,00,00056,00,00037,00,00037,00,00014,76,00,0006,06,00,0004,56,00,0004,11,00,0004,02,00,0003,48,00,0003,21,00,0002,76,00,0002,54,00,0002,43,00,0002,40,00,0002,15,00,0001,31,00,0001,29,00,0001,10,00,0001,02,00,00093,00,00090,00,00069,00,00010,00,0005,00,0005,00,0004,07,00,0003,99,00,0003,10,00,0002,49,00,0002,43,00,0002,13,00,0001,80,00,0001,80,00,0001,71,00,0001,55,00,0001,47,00,0001,44,00,0001,42,00,0001,32,00,0001,31,00,0001,31,00,0001,29,00,0001,22,00,0001,17,00,0001,16,00,0001,13,00,00099,00,00098,00,00042,00,0004,27,00,0003,94,00,0003,59,00,0002,82,00,0002,48,00,0002,35,00,0001,43,00,0001,29,00,0001,18,00,00076,00,00059,00,00038,00,0003,82,00,0003,80,00,0003,67,00,0003,43,00,0003,42,00,0003,28,00,0003,10,00,0002,59,00,0002,57,00,0002,54,00,0002,51,00,0002,39,00,0002,21,00,0002,18,00,0002,17,00,0002,00,00,0002,00,00,0001,65,00,0001,48,00,0001,32,00,0001,18,00,0001,13,00,0001,13,00,0001,05,00,00089,00,00085,00,00081,00,00067,00,00067,00,00066,00,00066,00,00055,00,00050,00,00050,00,00018,00,0005,03,00,0003,68,00,0003,23,00,0003,18,00,0002,36,00,0002,24,00,0002,20,00,0002,16,00,0002,00,00,0001,95,00,0001,92,00,0001,81,00,0001,50,00,0001,44,00,0001,25,00,0001,23,00,0001,22,00,0001,14,00,0001,09,00,0001,00,00,00071,00,00065,00,00060,00,00057,00,00028,00,0003,91,00,0003,62,00,0003,54,00,0003,33,00,0002,96,00,0002,81,00,0002,42,00,0002,23,00,0002,21,00,0002,10,00,0001,94,00,0001,93,00,0001,85,00,0001,66,00,0001,57,00,0001,32,00,0001,12,00,0001,05,00,0001,04,00,0001,03,00,00093,00,00056,00,00052,00,00049,00,00029,00,00022,00,00022,00,0008,00,0007,00,0005,05,00,0003,22,00,0003,21,00,0003,15,00,0002,96,00,0002,65,00,0002,41,00,0002,07,00,0001,94,00,0001,89,00,0001,86,00,0001,83,00,0001,66,00,0001,59,00,0001,51,00,0001,40,00,0001,30,00,0001,29,00,0001,22,00,0001,20,00,0001,14,00,0001,11,00,00098,00,00088,00,00079,00,00063,00,00058,00,00023,00,0003,73,00,0003,46,00,0002,05,00,0001,98,00,0001,89,00,0001,66,00,0001,19,00,0001,11,00,00094,00,00094,00,00091,00,00090,00,00084,00,00081,00,00067,00,00060,00,00056,00,00036,00,00011,00,0003,64,00,0003,20,00,0003,17,00,0003,12,00,0002,92,00,0002,69,00,0002,18,00,0002,03,00,0001,95,00,0001,93,00,0001,89,00,0001,85,00,0001,72,00,0001,71,00,0001,68,00,0001,66,00,0001,61,00,0001,60,00,0001,53,00,0001,45,00,0001,44,00,0001,38,00,0001,37,00,0001,24,00,0001,11,00,0001,03,00,0001,01,00,00099,00,00090,00,00089,00,00089,00,00072,00,00072,00,00058,00,00054,00,00048,00,00046,00,00044,00,00042,00,00041,00,00039,00,0008,00,0003,23,00,0003,16,00,0002,85,00,0002,75,00,0002,03,00,0001,96,00,0001,88,00,0001,84,00,0001,76,00,0001,54,00,0001,45,00,0001,44,00,0001,42,00,0001,36,00,0001,26,00,0001,25,00,0001,21,00,0001,07,00,0001,02,00,0001,01,00,00099,00,00096,00,00096,00,00093,00,00090,00,00090,00,00088,00,00087,00,00078,00,00074,00,00073,00,00068,00,00059,00,00057,00,00057,00,00054,00,00048,00,00045,00,00022,00,00020,00,0007,00,0003,37,00,0003,15,00,0002,75,00,0002,62,00,0002,60,00,0002,57,00,0002,53,00,0002,44,00,0002,38,00,0001,82,00,0001,79,00,0001,70,00,0001,68,00,0001,67,00,0001,66,00,0001,64,00,0001,60,00,0001,60,00,0001,59,00,0001,56,00,0001,47,00,0001,39,00,0001,36,00,0001,31,00,0001,25,00,0001,23,00,0001,16,00,0001,06,00,00097,00,00095,00,00091,00,00090,00,00088,00,00084,00,00084,00,00079,00,00075,00,00046,00,00046,00,00040,00,00039,00,00038,00,00027,00,00022,00,0007,00,0007,65,00,0002,76,00,0002,47,00,0002,35,00,0002,27,00,0002,24,00,0002,07,00,0001,89,00,0001,81,00,0001,75,00,0001,66,00,0001,63,00,0001,60,00,0001,38,00,0001,36,00,0001,36,00,0001,34,00,0001,25,00,0001,20,00,0001,18,00,0001,15,00,0001,10,00,0001,06,00,00098,00,00094,00,00085,00,00076,00,00072,00,00060,00,00059,00,00052,00,00050,00,00045,00,00030,00,00016,00,0006,00,0002,42,00,0002,37,00,0002,26,00,0001,97,00,0001,87,00,0001,80,00,0001,67,00,0001,52,00,0001,28,00,0001,21,00,0001,20,00,0001,16,00,00090,00,00083,00,00076,00,00072,00,00071,00,00068,00,00067,00,00065,00,00062,00,00056,00,00054,00,00048,00,00046,00,00045,00,00042,00,00039,00,00035,00,00035,00,00030,00,00029,00,00012,00,0004,10,00,0003,89,00,0003,17,00,0002,35,00,0002,29,00,0002,24,00,0002,03,00,0001,82,00,0001,51,00,0001,39,00,0001,16,00,0001,15,00,0001,09,00,00097,00,00096,00,00091,00,00088,00,00077,00,00075,00,00073,00,00071,00,00068,00,00067,00,00066,00,00065,00,00064,00,00064,00,00063,00,00063,00,00058,00,00058,00,00055,00,00053,00,00049,00,00045,00,00042,00,00034,00,00021,00,00020,00,00019,00,00017,00,0005,77,00,0002,85,00,0002,50,00,0002,27,00,0001,70,00,0001,69,00,0001,64,00,0001,46,00,0001,36,00,0001,09,00,0001,01,00,00099,00,00099,00,00097,00,00092,00,00085,00,00084,00,00080,00,00074,00,00073,00,00068,00,00068,00,00068,00,00068,00,00067,00,00066,00,00066,00,00066,00,00064,00,00062,00,00061,00,00061,00,00060,00,00060,00,00060,00,00060,00,00052,00,00051,00,00049,00,00048,00,00039,00,00032,00,00032,00,00026,00,00023,00,00021,00,00021,00,00020,00,00016,00,00014,00,00013,00,00013,00,0004,01,00,0003,60,00,0002,97,00,0002,44,00,0002,20,00,0002,16,00,0002,15,00,0002,12,00,0002,08,00,0002,06,00,0001,99,00,0001,97,00,0001,94,00,0001,89,00,0001,67,00,0001,51,00,0001,32,00,0001,30,00,0001,05,00,0001,04,00,00097,00,00096,00,00093,00,00085,00,00083,00,00082,00,00082,00,00081,00,00079,00,00071,00,00063,00,00062,00,00062,00,00062,00,00061,00,00057,00,00050,00,00049,00,00049,00,00042,00,00041,00,00040,00,00036,00,00033,00,00033,00,00029,00,00029,00,00028,00,00028,00,00023,00,00023,00,00022,00,00020,00,00013,00,00012,00,0007,00,0006,37,00,0002,43,00,0002,14,00,0002,09,00,0001,98,00,0001,89,00,0001,85,00,0001,81,00,0001,74,00,0001,71,00,0001,65,00,0001,55,00,0001,18,00,0001,16,00,0001,15,00,0001,14,00,0001,13,00,0001,11,00,0001,10,00,0001,09,00,0001,08,00,0001,04,00,0001,03,00,0001,01,00,00088,00,00078,00,00073,00,00066,00,00065,00,00063,00,00059,00,00058,00,00056,00,00056,00,00056,00,00056,00,00053,00,00052,00,00051,00,00051,00,00049,00,00048,00,00047,00,00042,00,00040,00,00040,00,00034,00,00032,00,00024,00,00024,00,00021,00,00018,00,00012,00,00012,00,0009,00,0008,00,0005,20,00,0004,13,00,0002,53,00,0001,92,00,0001,81,00,0001,79,00,0001,77,00,0001,75,00,0001,74,00,0001,71,00,0001,66,00,0001,65,00,0001,59,00,0001,53,00,0001,48,00,0001,38,00,0001,31,00,0001,18,00,0001,14,00,0001,08,00,0001,07,00,0001,04,00,0001,03,00,0001,01,00,0001,00,00,0001,00,00,00099,00,00098,00,00096,00,00095,00,00095,00,00095,00,00094,00,00092,00,00086,00,00086,00,00084,00,00080,00,00080,00,00075,00,00073,00,00072,00,00070,00,00070,00,00069,00,00063,00,00060,00,00060,00,00059,00,00055,00,00054,00,00054,00,00053,00,00053,00,00052,00,00052,00,00049,00,00049,00,00048,00,00046,00,00046,00,00045,00,00045,00,00038,00,00038,00,00035,00,00034,00,00033,00,00031,00,00029,00,00026,00,00025,00,00021,00,00018,00,00011,00,00010,00,0004,00,00011,51,00,0006,40,00,0005,64,00,0005,43,00,0004,71,00,0003,80,00,0002,76,00,0001,80,00,0001,64,00,0001,60,00,0001,57,00,0001,54,00,0001,47,00,0001,47,00,0001,45,00,0001,40,00,0001,38,00,0001,38,00,0001,21,00,0001,20,00,0001,13,00,0001,12,00,0001,09,00,0001,03,00,0001,00,00,00099,00,00098,00,00098,00,00094,00,00091,00,00090,00,00088,00,00085,00,00082,00,00081,00,00080,00,00080,00,00078,00,00075,00,00073,00,00067,00,00066,00,00066,00,00065,00,00064,00,00062,00,00056,00,00055,00,00054,00,00052,00,00052,00,00051,00,00051,00,00050,00,00049,00,00048,00,00048,00,00048,00,00048,00,00048,00,00047,00,00047,00,00047,00,00046,00,00045,00,00043,00,00043,00,00042,00,00039,00,00039,00,00039,00,00038,00,00037,00,00037,00,00034,00,00032,00,00031,00,00030,00,00025,00,00024,00,00018,00,00018,00,00017,00,00015,00,00014,00,0009,00,0009,00,0004,00,0004,45,00,0002,98,00,0002,32,00,0001,72,00,0001,72,00,0001,40,00,0001,38,00,0001,36,00,0001,35,00,0001,30,00,0001,28,00,0001,28,00,0001,26,00,0001,22,00,0001,07,00,0001,04,00,0001,03,00,0001,03,00,0001,02,00,00089,00,00085,00,00084,00,00084,00,00083,00,00082,00,00081,00,00081,00,00080,00,00080,00,00079,00,00077,00,00077,00,00077,00,00076,00,00076,00,00075,00,00074,00,00073,00,00073,00,00072,00,00072,00,00071,00,00071,00,00069,00,00064,00,00064,00,00062,00,00061,00,00061,00,00061,00,00060,00,00059,00,00059,00,00057,00,00057,00,00056,00,00056,00,00055,00,00055,00,00054,00,00053,00,00049,00,00048,00,00047,00,00046,00,00046,00,00046,00,00046,00,00046,00,00045,00,00044,00,00043,00,00043,00,00043,00,00043,00,00041,00,00040,00,00040,00,00040,00,00040,00,00039,00,00038,00,00038,00,00038,00,00038,00,00037,00,00036,00,00036,00,00036,00,00035,00,00035,00,00034,00,00034,00,00034,00,00033,00,00031,00,00031,00,00030,00,00029,00,00028,00,00027,00,00024,00,00024,00,00021,00,00020,00,00019,00,00018,00,00018,00,00017,00,00016,00,00015,00,00015,00,00014,00,00011,00,0009,00,0008,00,0007,00,0006,00,0006,00,0004,00,0004,29,00,0003,22,00,0002,40,00,0001,77,00,0001,68,00,0001,42,00,0001,41,00,0001,37,00,0001,29,00,0001,25,00,0001,24,00,0001,21,00,0001,15,00,0001,15,00,0001,10,00,0001,09,00,00098,00,00098,00,00086,00,00083,00,00083,00,00080,00,00080,00,00078,00,00077,00,00075,00,00075,00,00075,00,00075,00,00071,00,00070,00,00070,00,00069,00,00068,00,00067,00,00067,00,00066,00,00066,00,00066,00,00065,00,00064,00,00064,00,00064,00,00063,00,00060,00,00060,00,00059,00,00058,00,00058,00,00057,00,00057,00,00055,00,00054,00,00054,00,00054,00,00051,00,00049,00,00049,00,00048,00,00046,00,00045,00,00045,00,00044,00,00043,00,00041,00,00041,00,00040,00,00039,00,00039,00,00038,00,00038,00,00038,00,00038,00,00038,00,00037,00,00037,00,00037,00,00035,00,00035,00,00035,00,00035,00,00034,00,00034,00,00034,00,00033,00,00033,00,00033,00,00032,00,00030,00,00029,00,00029,00,00029,00,00028,00,00028,00,00027,00,00026,00,00026,00,00026,00,00026,00,00026,00,00025,00,00025,00,00024,00,00024,00,00024,00,00023,00,00023,00,00023,00,00023,00,00023,00,00022,00,00022,00,00022,00,00022,00,00022,00,00022,00,00021,00,00021,00,00020,00,00020,00,00020,00,00020,00,00020,00,00020,00,00019,00,00018,00,00017,00,00017,00,00017,00,00017,00,00016,00,00016,00,00015,00,00014,00,00014,00,00014,00,00013,00,00013,00,00013,00,00011,00,0008,00,0008,00,0007,00,0007,00,0005,00,0003,44,00,0003,35,00,0003,03,00,0001,92,00,0001,71,00,0001,37,00,0001,34,00,0001,32,00,0001,21,00,0001,16,00,0001,15,00,0001,13,00,0001,10,00,0001,06,00,0001,02,00,0001,02,00,0001,01,00,00099,00,00098,00,00097,00,00097,00,00097,00,00096,00,00096,00,00091,00,00090,00,00085,00,00078,00,00076,00,00073,00,00069,00,00066,00,00065,00,00065,00,00064,00,00063,00,00063,00,00061,00,00060,00,00057,00,00056,00,00055,00,00055,00,00055,00,00055,00,00054,00,00054,00,00054,00,00054,00,00053,00,00053,00,00052,00,00052,00,00050,00,00049,00,00049,00,00049,00,00049,00,00048,00,00048,00,00046,00,00045,00,00045,00,00045,00,00044,00,00044,00,00042,00,00042,00,00041,00,00040,00,00039,00,00039,00,00038,00,00038,00,00037,00,00034,00,00033,00,00031,00,00030,00,00030,00,00030,00,00029,00,00029,00,00029,00,00029,00,00029,00,00029,00,00028,00,00028,00,00028,00,00028,00,00028,00,00028,00,00028,00,00027,00,00027,00,00027,00,00027,00,00027,00,00027,00,00027,00,00026,00,00026,00,00026,00,00025,00,00025,00,00025,00,00025,00,00024,00,00024,00,00023,00,00023,00,00023,00,00023,00,00022,00,00021,00,00021,00,00019,00,00019,00,00018,00,00018,00,00017,00,00017,00,00017,00,00017,00,00017,00,00017,00,00016,00,00015,00,00015,00,00015,00,00015,00,00015,00,00013,00,00013,00,00013,00,00011,00,00010,00,00010,00,0007,00,0007,00,0007,00,0006,00,0006,00,0006,00,0004,00,0004,00,0003,27,00,0002,69,00,0002,64,00,0001,48,00,0001,42,00,0001,38,00,0001,34,00,0001,32,00,0001,30,00,0001,29,00,0001,23,00,0001,19,00,0001,15,00,0001,08,00,0001,05,00,00096,00,00092,00,00092,00,00089,00,00088,00,00086,00,00084,00,00083,00,00083,00,00081,00,00081,00,00078,00,00077,00,00076,00,00076,00,00075,00,00075,00,00075,00,00074,00,00073,00,00073,00,00072,00,00070,00,00070,00,00068,00,00067,00,00065,00,00064,00,00063,00,00061,00,00060,00,00059,00,00059,00,00059,00,00057,00,00056,00,00056,00,00055,00,00055,00,00054,00,00054,00,00052,00,00052,00,00052,00,00051,00,00051,00,00050,00,00050,00,00049,00,00049,00,00049,00,00049,00,00049,00,00049,00,00049,00,00049,00,00048,00,00048,00,00048,00,00048,00,00046,00,00046,00,00046,00,00046,00,00046,00,00046,00,00046,00,00045,00,00045,00,00045,00,00045,00,00044,00,00043,00,00043,00,00042,00,00042,00,00040,00,00040,00,00039,00,00039,00,00039,00,00038,00,00038,00,00038,00,00037,00,00036,00,00036,00,00036,00,00035,00,00035,00,00035,00,00034,00,00033,00,00033,00,00032,00,00032,00,00031,00,00030,00,00029,00,00029,00,00029,00,00028,00,00028,00,00028,00,00027,00,00027,00,00027,00,00027,00,00027,00,00027,00,00026,00,00026,00,00026,00,00026,00,00025,00,00025,00,00025,00,00025,00,00025,00,00025,00,00025,00,00024,00,00024,00,00024,00,00024,00,00023,00,00023,00,00023,00,00023,00,00023,00,00023,00,00023,00,00022,00,00022,00,00022,00,00022,00,00022,00,00022,00,00022,00,00022,00,00021,00,00020,00,00020,00,00020,00,00020,00,00019,00,00019,00,00017,00,00017,00,00017,00,00016,00,00016,00,00016,00,00016,00,00015,00,00015,00,00015,00,00015,00,00014,00,00014,00,00014,00,00013,00,00013,00,00013,00,00012,00,00012,00,00012,00,00011,00,00011,00,00011,00,00011,00,00010,00,00010,00,00010,00,0009,00,0009,00,0009,00,0008,00,0008,00,0007,00,0007,00,0007,00,0006,00,0005,00,0005,00,0005,00,00011,73,00,0002,78,00,0001,28,00,0001,23,00,0001,05,00,0001,03,00,00089,00,00088,00,00086,00,00086,00,00083,00,00083,00,00083,00,00081,00,00080,00,00077,00,00077,00,00076,00,00076,00,00076,00,00075,00,00074,00,00073,00,00072,00,00072,00,00069,00,00069,00,00069,00,00068,00,00067,00,00066,00,00066,00,00066,00,00066,00,00063,00,00063,00,00062,00,00062,00,00061,00,00061,00,00058,00,00057,00,00056,00,00055,00,00055,00,00054,00,00054,00,00053,00,00053,00,00053,00,00050,00,00050,00,00046,00,00046,00,00046,00,00045,00,00045,00,00044,00,00043,00,00043,00,00043,00,00042,00,00042,00,00042,00,00041,00,00041,00,00040,00,00040,00,00040,00,00040,00,00040,00,00039,00,00039,00,00039,00,00039,00,00038,00,00038,00,00038,00,00037,00,00037,00,00037,00,00037,00,00037,00,00037,00,00037,00,00037,00,00036,00,00036,00,00035,00,00035,00,00035,00,00035,00,00035,00,00035,00,00035,00,00035,00,00035,00,00035,00,00034,00,00034,00,00033,00,00032,00,00032,00,00032,00,00031,00,00031,00,00031,00,00031,00,00030,00,00029,00,00028,00,00028,00,00027,00,00027,00,00027,00,00027,00,00026,00,00026,00,00026,00,00026,00,00024,00,00024,00,00024,00,00024,00,00023,00,00023,00,00022,00,00022,00,00022,00,00021,00,00021,00,00021,00,00021,00,00021,00,00021,00,00021,00,00021,00,00020,00,00020,00,00020,00,00020,00,00020,00,00020,00,00020,00,00020,00,00020,00,00019,00,00019,00,00019,00,00019,00,00019,00,00019,00,00019,00,00019,00,00019,00,00019,00,00019,00,00019,00,00019,00,00019,00,00018,00,00018,00,00018,00,00018,00,00018,00,00018,00,00017,00,00017,00,00017,00,00017,00,00017,00,00017,00,00016,00,00016,00,00016,00,00016,00,00016,00,00016,00,00016,00,00015,00,00015,00,00015,00,00015,00,00014,00,00014,00,00014,00,00014,00,00013,00,00013,00,00013,00,00013,00,00013,00,00013,00,00013,00,00012,00,00012,00,00012,00,00012,00,00011,00,00011,00,00011,00,00011,00,00011,00,00011,00,00011,00,00011,00,00010,00,00010,00,00010,00,00010,00,00010,00,00010,00,0009,00,0009,00,0009,00,0009,00,0009,00,0009,00,0009,00,0008,00,0008,00,0008,00,0008,00,0007,00,0007,00,0007,00,0007,00,0006,00,0005,00,0005,00,0005,00,0005,00,0005,00,0005,00,0005,00,0004,00,0004,00,0004,00,0004,00,0004,00,0004,00,0004,00,0003,00,0003,00,0003,00,0001,00,0005,96,00,0004,00,00,0003,81,00,0002,74,00,0002,28,00,0001,11,00,0001,10,00,0001,04,00,0001,03,00,00098,00,00083,00,00080,00,00079,00,00078,00,00076,00,00076,00,00070,00,00068,00,00068,00,00066,00,00062,00,00062,00,00061,00,00061,00,00060,00,00060,00,00059,00,00055,00,00054,00,00054,00,00054,00,00054,00,00053,00,00053,00,00053,00,00053,00,00052,00,00052,00,00052,00,00052,00,00052,00,00052,00,00052,00,00051,00,00051,00,00051,00,00051,00,00050,00,00050,00,00050,00,00049,00,00048,00,00048,00,00047,00,00046,00,00046,00,00045,00,00045,00,00044,00,00044,00,00043,00,00042,00,00042,00,00041,00,00041,00,00041,00,00041,00,00040,00,00040,00,00040,00,00039,00,00039,00,00038,00,00038,00,00036,00,00035,00,00035,00,00034,00,00034,00,00034,00,00033,00,00033,00,00033,00,00032,00,00032,00,00032,00,00032,00,00032,00,00031,00,00031,00,00031,00,00031,00,00031,00,00030,00,00030,00,00030,00,00029,00,00029,00,00029,00,00029,00,00028,00,00028,00,00027,00,00027,00,00027,00,00027,00,00027,00,00027,00,00027,00,00027,00,00026,00,00026,00,00026,00,00025,00,00025,00,00025,00,00025,00,00025,00,00025,00,00024,00,00024,00,00024,00,00024,00,00024,00,00024,00,00024,00,00024,00,00024,00,00024,00,00023,00,00023,00,00023,00,00023,00,00023,00,00023,00,00023,00,00022,00,00022,00,00022,00,00021,00,00021,00,00021,00,00021,00,00020,00,00020,00,00020,00,00019,00,00019,00,00019,00,00019,00,00019,00,00018,00,00018,00,00018,00,00018,00,00018,00,00018,00,00017,00,00017,00,00017,00,00017,00,00017,00,00017,00,00017,00,00017,00,00017,00,00017,00,00017,00,00017,00,00016,00,00016,00,00016,00,00016,00,00016,00,00016,00,00016,00,00016,00,00016,00,00016,00,00016,00,00016,00,00016,00,00015,00,00015,00,00015,00,00015,00,00015,00,00015,00,00015,00,00015,00,00015,00,00015,00,00015,00,00015,00,00015,00,00014,00,00014,00,00014,00,00014,00,00014,00,00014,00,00014,00,00014,00,00014,00,00014,00,00014,00,00014,00,00014,00,00014,00,00014,00,00014,00,00014,00,00014,00,00014,00,00013,00,00013,00,00013,00,00013,00,00013,00,00013,00,00013,00,00013,00,00013,00,00013,00,00013,00,00013,00,00013,00,00013,00,00013,00,00013,00,00013,00,00012,00,00012,00,00012,00,00012,00,00012,00,00012,00,00012,00,00012,00,00012,00,00012,00,00012,00,00012,00,00011,00,00011,00,00011,00,00011,00,00011,00,00011,00,00011,00,00011,00,00011,00,00011,00,00011,00,00011,00,00011,00,00010,00,00010,00,00010,00,00010,00,00010,00,00010,00,00010,00,00010,00,00010,00,00010,00,00010,00,0009,00,0009,00,0009,00,0009,00,0009,00,0009,00,0009,00,0009,00,0009,00,0009,00,0008,00,0008,00,0008,00,0008,00,0008,00,0008,00,0008,00,0008,00,0008,00,0008,00,0008,00,0008,00,0008,00,0008,00,0008,00,0007,00,0007,00,0007,00,0007,00,0007,00,0007,00,0007,00,0007,00,0007,00,0007,00,0007,00,0007,00,0007,00,0007,00,0007,00,0007,00,0007,00,0007,00,0007,00,0007,00,0006,00,0006,00,0006,00,0006,00,0006,00,0006,00,0006,00,0006,00,0006,00,0006,00,0005,00,0005,00,0004,00,0004,00,0004,00,0004,00,0004,00,0004,00,0004,00,0004,00,0004,00,0003,00,0003,00,0003,00,0003,00,0003,00,0003,00,0003,00,0003,00,0003,00,0002,00,0002,00,0002,00,0002,00,0002,00,0005,32,00,0002,20,00,0002,17,00,0001,03,00,00097,00,00085,00,00084,00,00077,00,00077,00,00067,00,00065,00,00062,00,00055,00,00051,00,00051,00,00049,00,00049,00,00049,00,00048,00,00048,00,00047,00,00047,00,00047,00,00046,00,00045,00,00044,00,00044,00,00044,00,00044,00,00044,00,00043,00,00043,00,00042,00,00041,00,00041,00,00040,00,00040,00,00040,00,00040,00,00040,00,00040,00,00040,00,00040,00,00039,00,00039,00,00038,00,00038,00,00038,00,00038,00,00037,00,00037,00,00037,00,00037,00,00036,00,00036,00,00036,00,00036,00,00036,00,00035,00,00035,00,00035,00,00035,00,00034,00,00034,00,00034,00,00033,00,00033,00,00033,00,00033,00,00033,00,00033,00,00032,00,00032,00,00032,00,00032,00,00032,00,00032,00,00032,00,00032,00,00032,00,00032,00,00031,00,00031,00,00031,00,00031,00,00030,00,00030,00,00030,00,00030,00,00029,00,00029,00,00029,00,00028,00,00028,00,00028,00,00028,00,00028,00,00027,00,00027,00,00026,00,00026,00,00026,00,00026,00,00026,00,00025,00,00025,00,00025,00,00025,00,00024,00,00024,00,00023,00,00023,00,00023,00,00023,00,00023,00,00023,00,00023,00,00023,00,00023,00,00023,00,00022,00,00022,00,00022,00,00022,00,00022,00,00022,00,00022,00,00022,00,00022,00,00022,00,00022,00,00022,00,00021,00,00021,00,00021,00,00021,00,00021,00,00021,00,00021,00,00021,00,00021,00,00021,00,00021,00,00021,00,00020,00,00020,00,00020,00,00020,00,00020,00,00020,00,00020,00,00020,00,00020,00,00020,00,00020,00,00020,00,00020,00,00020,00,00019,00,00019,00,00019,00,00019,00,00019,00,00019,00,00019,00,00019,00,00019,00,00019,00,00019,00,00019,00,00019,00,00019,00,00019,00,00019,00,00019,00,00018,00,00018,00,00018,00,00018,00,00018,00,00018,00,00018,00,00018,00,00018,00,00018,00,00018,00,00018,00,00018,00,00017,00,00017,00,00017,00,00017,00,00017,00,00017,00,00017,00,00017,00,00017,00,00017,00,00017,00,00017,00,00017,00,00017,00,00017,00,00017,00,00017,00,00017,00,00017,00,00017,00,00017,00,00016,00,00016,00,00016,00,00016,00,00016,00,00016,00,00016,00,00016,00,00016,00,00016,00,00016,00,00016,00,00015,00,00015,00,00015,00,00015,00,00015,00,00015,00,00015,00,00015,00,00015,00,00015,00,00015,00,00015,00,00015,00,00015,00,00015,00,00015,00,00015,00,00015,00,00015,00,00015,00,00014,00,00014,00,00014,00,00014,00,00014,00,00014,00,00014,00,00014,00,00014,00,00014,00,00014,00,00014,00,00014,00,00014,00,00014,00,00014,00,00014,00,00014,00,00014,00,00013,00,00013,00,00013,00,00013,00,00013,00,00013,00,00013,00,00013,00,00013,00,00013,00,00013,00,00013,00,00013,00,00013,00,00013,00,00013,00,00013,00,00013,00,00013,00,00013,00,00013,00,00013,00,00012,00,00012,00,00012,00,00012,00,00012,00,00012,00,00012,00,00012,00,00012,00,00012,00,00012,00,00012,00,00012,00,00012,00,00012,00,00011,00,00011,00,00011,00,00011,00,00011,00,00011,00,00011,00,00011,00,00011,00,00011,00,00011,00,00011,00,00011,00,00011,00,00011,00,00011,00,00011,00,00011,00,00011,00,00011,00,00011,00,00010,00,00010,00,00010,00,00010,00,00010,00,00010,00,00010,00,00010,00,00010,00,00010,00,00010,00,00010,00,00010,00,00010,00,00010,00,00010,00,00010,00,00010,00,00010,00,00010,00,00010,00,00010,00,00010,00,00010,00,00010,00,00010,00,00010,00,00010,00,00010,00,00010,00,00010,00,00010,00,00010,00,00010,00,00010,00,00010,00,00010,00,00010,00,00010,00,00010,00,00010,00,00010,00,00010,00,00010,00,0009,00,0009,00,0009,00,0009,00,0009,00,0009,00,0009,00,0009,00,0009,00,0009,00,0009,00,0009,00,0009,00,0009,00,0009,00,0009,00,0009,00,0009,00,0009,00,0009,00,0009,00,0009,00,0009,00,0009,00,0009,00,0009,00,0009,00,0009,00,0009,00,0009,00,0008,00,0008,00,0008,00,0008,00,0008,00,0008,00,0008,00,0008,00,0008,00,0008,00,0008,00,0008,00,0008,00,0008,00,0008,00,0008,00,0008,00,0008,00,0008,00,0008,00,0008,00,0008,00,0008,00,0008,00,0008,00,0008,00,0008,00,0008,00,0008,00,0008,00,0008,00,0007,00,0007,00,0007,00,0007,00,0007,00,0007,00,0007,00,0007,00,0007,00,0007,00,0007,00,0007,00,0007,00,0007,00,0007,00,0007,00,0007,00,0007,00,0007,00,0007,00,0007,00,0007,00,0007,00,0007,00,0007,00,0007,00,0007,00,0007,00,0007,00,0007,00,0007,00,0006,00,0006,00,0006,00,0006,00,0006,00,0006,00,0006,00,0006,00,0006,00,0006,00,0006,00,0006,00,0006,00,0006,00,0006,00,0006,00,0006,00,0006,00,0006,00,0006,00,0006,00,0006,00,0006,00,0006,00,0006,00,0006,00,0006,00,0006,00,0006,00,0005,00,0005,00,0005,00,0005,00,0005,00,0005,00,0005,00,0005,00,0005,00,0005,00,0005,00,0005,00,0005,00,0005,00,0005,00,0005,00,0005,00,0005,00,0005,00,0005,00,0005,00,0005,00,0005,00,0005,00,0005,00,0005,00,0005,00,0005,00,0005,00,0005,00,0005,00,0005,00,0004,00,0004,00,0004,00,0004,00,0004,00,0004,00,0004,00,0004,00,0004,00,0004,00,0004,00,0004,00,0004,00,0004,00,0004,00,0004,00,0004,00,0004,00,0004,00,0004,00,0004,00,0004,00,0004,00,0003,00,0003,00,0003,00,0003,00,0003,00,0003,00,0003,00,0003,00,0003,00,0003,00,0003,00,0003,00,0003,00,0003,00,0003,00,0003,00,0003,00,0003,00,0002,00,0002,00,0002,00,0002,00,0002,00,0002,00,0002,00,0002,00,0002,00,0002,00,0002,00,0002,00,0002,00,0002,00,0002,00,0002,00,0002,00,0002,00,0002,00,0002,00,0002,00,0002,00,0002,00,0002,00,0002,00,0002,00,0002,00,0002,00,0002,00,0002,00,0001,00,0001,00,0003,38,00,0003,19,00,0002,75,00,0001,00,00,00076,00,00059,00,00058,00,00051,00,00050,00,00050,00,00049,00,00049,00,00047,00,00045,00,00044,00,00044,00,00041,00,00041,00,00040,00,00040,00,00040,00,00037,00,00037,00,00036,00,00036,00,00035,00,00035,00,00034,00,00033,00,00033,00,00032,00,00031,00,00031,00,00031,00,00030,00,00030,00,00030,00,00030,00,00029,00,00028,00,00028,00,00028,00,00028,00,00028,00,00027,00,00027,00,00027,00,00027,00,00027,00,00026,00,00025,00,00025,00,00025,00,00025,00,00025,00,00025,00,00024,00,00024,00,00024,00,00024,00,00024,00,00024,00,00024,00,00024,00,00024,00,00024,00,00023,00,00023,00,00023,00,00023,00,00023,00,00023,00,00023,00,00022,00,00022,00,00022,00,00022,00,00022,00,00022,00,00021,00,00021,00,00021,00,00021,00,00021,00,00021,00,00021,00,00021,00,00021,00,00021,00,00021,00,00020,00,00020,00,00020,00,00020,00,00020,00,00020,00,00020,00,00020,00,00019,00,00019,00,00019,00,00019,00,00019,00,00019,00,00019,00,00019,00,00019,00,00019,00,00019,00,00019,00,00019,00,00019,00,00018,00,00018,00,00018,00,00018,00,00018,00,00018,00,00018,00,00018,00,00018,00,00018,00,00018,00,00018,00,00018,00,00017,00,00017,00,00017,00,00017,00,00017,00,00017,00,00017,00,00017,00,00017,00,00017,00,00017,00,00017,00,00016,00,00016,00,00016,00,00016,00,00016,00,00016,00,00016,00,00016,00,00016,00,00016,00,00016,00,00016,00,00016,00,00016,00,00016,00,00016,00,00016,00,00016,00,00016,00,00015,00,00015,00,00015,00,00015,00,00015,00,00015,00,00015,00,00015,00,00015,00,00015,00,00015,00,00015,00,00015,00,00015,00,00014,00,00014,00,00014,00,00014,00,00014,00,00014,00,00014,00,00014,00,00014,00,00014,00,00014,00,00014,00,00014,00,00014,00,00014,00,00014,00,00013,00,00013,00,00013,00,00013,00,00013,00,00013,00,00013,00,00013,00,00013,00,00013,00,00013,00,00013,00,00013,00,00013,00,00013,00,00013,00,00013,00,00013,00,00013,00,00013,00,00013,00,00013,00,00013,00,00013,00,00013,00,00013,00,00013,00,00013,00,00013,00,00013,00,00013,00,00012,00,00012,00,00012,00,00012,00,00012,00,00012,00,00012,00,00012,00,00012,00,00012,00,00012,00,00012,00,00012,00,00012,00,00012,00,00012,00,00012,00,00012,00,00012,00,00012,00,00012,00,00012,00,00012,00,00012,00,00012,00,00012,00,00012,00,00012,00,00012,00,00012,00,00012,00,00012,00,00012,00,00011,00,00011,00,00011,00,00011,00,00011,00,00011,00,00011,00,00011,00,00011,00,00011,00,00011,00,00011,00,00011,00,00011,00,00011,00,00011,00,00011,00,00011,00,00011,00,00011,00,00011,00,00011,00,00011,00,00011,00,00011,00,00011,00,00011,00,00011,00,00011,00,00011,00,00011,00,00011,00,00011,00,00011,00,00011,00,00011,00,00011,00,00011,00,00011,00,00011,00,00011,00,00011,00,00011,00,00011,00,00010,00,00010,00,00010,00,00010,00,00010,00,00010,00,00010,00,00010,00,00010,00,00010,00,00010,00,00010,00,00010,00,00010,00,00010,00,00010,00,00010,00,00010,00,00010,00,00010,00,00010,00,00010,00,00010,00,00010,00,00010,00,00010,00,00010,00,00010,00,00010,00,00010,00,00010,00,00010,00,00010,00,00010,00,00010,00,00010,00,00010,00,00010,00,00010,00,00010,00,00010,00,00010,00,00010,00,00010,00,00010,00,0009,00,0009,00,0009,00,0009,00,0009,00,0009,00,0009,00,0009,00,0009,00,0009,00,0009,00,0009,00,0009,00,0009,00,0009,00,0009,00,0009,00,0009,00,0009,00,0009,00,0009,00,0009,00,0009,00,0009,00,0009,00,0009,00,0009,00,0009,00,0009,00,0009,00,0009,00,0009,00,0009,00,0009,00,0009,00,0009,00,0009,00,0009,00,0009,00,0009,00,0009,00,0009,00,0009,00,0009,00,0009,00,0009,00,0009,00,0009,00,0009,00,0009,00,0009,00,0008,00,0008,00,0008,00,0008,00,0008,00,0008,00,0008,00,0008,00,0008,00,0008,00,0008,00,0008,00,0008,00,0008,00,0008,00,0008,00,0008,00,0008,00,0008,00,0008,00,0008,00,0008,00,0008,00,0008,00,0008,00,0008,00,0008,00,0008,00,0008,00,0008,00,0008,00,0008,00,0008,00,0008,00,0008,00,0008,00,0008,00,0008,00,0008,00,0008,00,0008,00,0008,00,0008,00,0008,00,0008,00,0008,00,0008,00,0008,00,0008,00,0008,00,0007,00,0007,00,0007,00,0007,00,0007,00,0007,00,0007,00,0007,00,0007,00,0007,00,0007,00,0007,00,0007,00,0007,00,0007,00,0007,00,0007,00,0007,00,0007,00,0007,00,0007,00,0007,00,0007,00,0007,00,0007,00,0007,00,0007,00,0007,00,0007,00,0007,00,0007,00,0007,00,0007,00,0007,00,0007,00,0007,00,0007,00,0007,00,0007,00,0007,00,0007,00,0007,00,0007,00,0007,00,0007,00,0007,00,0007,00,0007,00,0007,00,0007,00,0007,00,0007,00,0007,00,0007,00,0007,00,0007,00,0007,00,0007,00,0007,00,0007,00,0007,00,0007,00,0007,00,0007,00,0007,00,0007,00,0007,00,0007,00,0007,00,0007,00,0007,00,0007,00,0007,00,0007,00,0007,00,0007,00,0007,00,0007,00,0007,00,0007,00,0007,00,0006,00,0006,00,0006,00,0006,00,0006,00,0006,00,0006,00,0006,00,0006,00,0006,00,0006,00,0006,00,0006,00,0006,00,0006,00,0006,00,0006,00,0006,00,0006,00,0006,00,0006,00,0006,00,0006,00,0006,00,0006,00,0006,00,0006,00,0006,00,0006,00,0006,00,0006,00,0006,00,0006,00,0006,00,0006,00,0006,00,0006,00,0006,00,0006,00,0006,00,0006,00,0006,00,0006,00,0006,00,0006,00,0006,00,0006,00,0006,00,0006,00,0006,00,0006,00,0006,00,0006,00,0006,00,0006,00,0006,00,0006,00,0006,00,0006,00,0006,00,0006,00,0006,00,0006,00,0006,00,0006,00,0006,00,0006,00,0006,00,0006,00,0006,00,0006,00,0006,00,0006,00,0006,00,0006,00,0006,00,0006,00,0006,00,0006,00,0006,00,0006,00,0006,00,0006,00,0006,00,0006,00,0006,00,0006,00,0006,00,0006,00,0006,00,0005,00,0005,00,0005,00,0005,00,0005,00,0005,00,0005,00,0005,00,0005,00,0005,00,0005,00,0005,00,0005,00,0005,00,0005,00,0005,00,0005,00,0005,00,0005,00,0005,00,0005,00,0005,00,0005,00,0005,00,0005,00,0005,00,0005,00,0005,00,0005,00,0005,00,0005,00,0005,00,0005,00,0005,00,0005,00,0005,00,0005,00,0005,00,0005,00,0005,00,0005,00,0005,00,0005,00,0005,00,0005,00,0005,00,0005,00,0005,00,0005,00,0005,00,0005,00,0005,00,0005,00,0005,00,0005,00,0005,00,0005,00,0005,00,0005,00,0005,00,0005,00,0005,00,0005,00,0005,00,0005,00,0005,00,0005,00,0005,00,0005,00,0005,00,0005,00,0005,00,0005,00,0005,00,0005,00,0005,00,0005,00,0005,00,0005,00,0005,00,0005,00,0005,00,0005,00,0005,00,0005,00,0005,00,0005,00,0005,00,0005,00,0005,00,0005,00,0005,00,0005,00,0005,00,0005,00,0005,00,0005,00,0005,00,0005,00,0005,00,0005,00,0005,00,0005,00,0005,00,0005,00,0005,00,0005,00,0005,00,0004,00,0004,00,0004,00,0004,00,0004,00,0004,00,0004,00,0004,00,0004,00,0004,00,0004,00,0004,00,0004,00,0004,00,0004,00,0004,00,0004,00,0004,00,0004,00,0004,00,0004,00,0004,00,0004,00,0004,00,0004,00,0004,00,0004,00,0004,00,0004,00,0004,00,0004,00,0004,00,0004,00,0004,00,0004,00,0004,00,0004,00,0004,00,0004,00,0004,00,0004,00,0004,00,0004,00,0004,00,0004,00,0004,00,0004,00,0004,00,0004,00,0004,00,0004,00,0004,00,0004,00,0004,00,0004,00,0004,00,0004,00,0004,00,0004,00,0004,00,0004,00,0004,00,0004,00,0004,00,0004,00,0004,00,0004,00,0004,00,0004,00,0004,00,0004,00,0004,00,0004,00,0004,00,0004,00,0004,00,0004,00,0004,00,0004,00,0004,00,0004,00,0004,00,0004,00,0004,00,0004,00,0004,00,0004,00,0004,00,0004,00,0004,00,0004,00,0004,00,0004,00,0004,00,0004,00,0004,00,0004,00,0004,00,0004,00,0004,00,0004,00,0004,00,0004,00,0004,00,0004,00,0004,00,0004,00,0004,00,0004,00,0004,00,0004,00,0004,00,0004,00,0004,00,0004,00,0004,00,0004,00,0004,00,0004,00,0004,00,0004,00,0004,00,0004,00,0004,00,0004,00,0004,00,0004,00,0004,00,0004,00,0004,00,0004,00,0004,00,0004,00,0004,00,0003,00,0003,00,0003,00,0003,00,0003,00,0003,00,0003,00,0003,00,0003,00,0003,00,0003,00,0003,00,0003,00,0003,00,0003,00,0003,00,0003,00,0003,00,0003,00,0003,00,0003,00,0003,00,0003,00,0003,00,0003,00,0003,00,0003,00,0003,00,0003,00,0003,00,0003,00,0003,00,0003,00,0003,00,0003,00,0003,00,0003,00,0003,00,0003,00,0003,00,0003,00,0003,00,0003,00,0003,00,0003,00,0003,00,0003,00,0003,00,0003,00,0003,00,0003,00,0003,00,0003,00,0003,00,0003,00,0003,00,0003,00,0003,00,0003,00,0003,00,0003,00,0003,00,0003,00,0003,00,0003,00,0003,00,0003,00,0003,00,0003,00,0003,00,0003,00,0003,00,0003,00,0003,00,0003,00,0003,00,0003,00,0003,00,0003,00,0003,00,0003,00,0003,00,0003,00,0003,00,0003,00,0003,00,0003,00,0003,00,0003,00,0003,00,0003,00,0003,00,0003,00,0003,00,0003,00,0003,00,0003,00,0003,00,0003,00,0003,00,0003,00,0003,00,0003,00,0003,00,0003,00,0003,00,0003,00,0003,00,0003,00,0003,00,0003,00,0003,00,0003,00,0003,00,0003,00,0003,00,0003,00,0003,00,0003,00,0003,00,0003,00,0003,00,0003,00,0003,00,0003,00,0003,00,0003,00,0003,00,0003,00,0003,00,0003,00,0003,00,0003,00,0002,00,0002,00,0002,00,0002,00,0002,00,0002,00,0002,00,0002,00,0002,00,0002,00,0002,00,0002,00,0002,00,0002,00,0002,00,0002,00,0002,00,0002,00,0002,00,0002,00,0002,00,0002,00,0002,00,0002,00,0002,00,0002,00,0002,00,0002,00,0002,00,0002,00,0002,00,0002,00,0002,00,0002,00,0002,00,0002,00,0002,00,0002,00,0002,00,0002,00,0002,00,0002,00,0002,00,0002,00,0002,00,0002,00,0002,00,0002,00,0002,00,0002,00,0002,00,0002,00,0002,00,0002,00,0002,00,0002,00,0002,00,0002,00,0002,00,0002,00,0002,00,0002,00,0002,00,0002,00,0002,00,0002,00,0002,00,0002,00,0002,00,0002,00,0002,00,0002,00,0002,00,0002,00,0002,00,0002,00,0002,00,0002,00,0002,00,0002,00,0002,00,0002,00,0002,00,0002,00,0002,00,0002,00,0002,00,0002,00,0002,00,0002,00,0002,00,0002,00,0002,00,0002,00,0002,00,0002,00,0001,00,0001,00,0001,00,0001,00,0001,00,0001,00,0001,00,0001,00,0001,00,0001,00,0001,00,0001,00,0001,00,0001,00,0001,00,0001,00,0001,00,0001,00,0001,00,0001,00,0001,00,0001,00,0001,00,0001,00,0001,00,0001,00,0001,00,0001,00,0001,00,0001,00,0001,00,0001,00,0001,00,0001,00,0001,00,0001,00,0001,00,0001,00,0001,00,0001,00,0001,00,0001,00,0001,00,0001,00,0001,00,0001,00,0001,00,0001,00,0001,00,0001,00,0001,00,0001,00,0001,00,0001,00,0001,00,0001,00,0001,00,0001,00,0001,00,0001,00,0001,00,0001,00,0001,00,0001,00,0001,00,0001,00,0001,00,0001,00,0001,00,0001,00,0001,00,0001,00,0001,00,0001,00,0001,00,0001,00,0001,00,0001,00,0001,00,0001,00,0001,00,0001,00,0001,00,0001,00,0001,00,0001,00,0001,00,0001,00,0001,00,0001,00,0001,00,0001,00,0001,00,0001,00,0001,00,0001,00,0001,00,0001,00,0001,00,0001,00,0001,00,0001,00,0001,00,0001,00,0001,00,0001,00,0001,00,0001,00,0001,00,0001,00,0001,00,0001,00,0001,00,0001,00,0001,00,0001,00,000\"],\"type\":\"bar\"}],                        {\"template\":{\"data\":{\"histogram2dcontour\":[{\"type\":\"histogram2dcontour\",\"colorbar\":{\"outlinewidth\":0,\"ticks\":\"\"},\"colorscale\":[[0.0,\"#0d0887\"],[0.1111111111111111,\"#46039f\"],[0.2222222222222222,\"#7201a8\"],[0.3333333333333333,\"#9c179e\"],[0.4444444444444444,\"#bd3786\"],[0.5555555555555556,\"#d8576b\"],[0.6666666666666666,\"#ed7953\"],[0.7777777777777778,\"#fb9f3a\"],[0.8888888888888888,\"#fdca26\"],[1.0,\"#f0f921\"]]}],\"choropleth\":[{\"type\":\"choropleth\",\"colorbar\":{\"outlinewidth\":0,\"ticks\":\"\"}}],\"histogram2d\":[{\"type\":\"histogram2d\",\"colorbar\":{\"outlinewidth\":0,\"ticks\":\"\"},\"colorscale\":[[0.0,\"#0d0887\"],[0.1111111111111111,\"#46039f\"],[0.2222222222222222,\"#7201a8\"],[0.3333333333333333,\"#9c179e\"],[0.4444444444444444,\"#bd3786\"],[0.5555555555555556,\"#d8576b\"],[0.6666666666666666,\"#ed7953\"],[0.7777777777777778,\"#fb9f3a\"],[0.8888888888888888,\"#fdca26\"],[1.0,\"#f0f921\"]]}],\"heatmap\":[{\"type\":\"heatmap\",\"colorbar\":{\"outlinewidth\":0,\"ticks\":\"\"},\"colorscale\":[[0.0,\"#0d0887\"],[0.1111111111111111,\"#46039f\"],[0.2222222222222222,\"#7201a8\"],[0.3333333333333333,\"#9c179e\"],[0.4444444444444444,\"#bd3786\"],[0.5555555555555556,\"#d8576b\"],[0.6666666666666666,\"#ed7953\"],[0.7777777777777778,\"#fb9f3a\"],[0.8888888888888888,\"#fdca26\"],[1.0,\"#f0f921\"]]}],\"heatmapgl\":[{\"type\":\"heatmapgl\",\"colorbar\":{\"outlinewidth\":0,\"ticks\":\"\"},\"colorscale\":[[0.0,\"#0d0887\"],[0.1111111111111111,\"#46039f\"],[0.2222222222222222,\"#7201a8\"],[0.3333333333333333,\"#9c179e\"],[0.4444444444444444,\"#bd3786\"],[0.5555555555555556,\"#d8576b\"],[0.6666666666666666,\"#ed7953\"],[0.7777777777777778,\"#fb9f3a\"],[0.8888888888888888,\"#fdca26\"],[1.0,\"#f0f921\"]]}],\"contourcarpet\":[{\"type\":\"contourcarpet\",\"colorbar\":{\"outlinewidth\":0,\"ticks\":\"\"}}],\"contour\":[{\"type\":\"contour\",\"colorbar\":{\"outlinewidth\":0,\"ticks\":\"\"},\"colorscale\":[[0.0,\"#0d0887\"],[0.1111111111111111,\"#46039f\"],[0.2222222222222222,\"#7201a8\"],[0.3333333333333333,\"#9c179e\"],[0.4444444444444444,\"#bd3786\"],[0.5555555555555556,\"#d8576b\"],[0.6666666666666666,\"#ed7953\"],[0.7777777777777778,\"#fb9f3a\"],[0.8888888888888888,\"#fdca26\"],[1.0,\"#f0f921\"]]}],\"surface\":[{\"type\":\"surface\",\"colorbar\":{\"outlinewidth\":0,\"ticks\":\"\"},\"colorscale\":[[0.0,\"#0d0887\"],[0.1111111111111111,\"#46039f\"],[0.2222222222222222,\"#7201a8\"],[0.3333333333333333,\"#9c179e\"],[0.4444444444444444,\"#bd3786\"],[0.5555555555555556,\"#d8576b\"],[0.6666666666666666,\"#ed7953\"],[0.7777777777777778,\"#fb9f3a\"],[0.8888888888888888,\"#fdca26\"],[1.0,\"#f0f921\"]]}],\"mesh3d\":[{\"type\":\"mesh3d\",\"colorbar\":{\"outlinewidth\":0,\"ticks\":\"\"}}],\"scatter\":[{\"fillpattern\":{\"fillmode\":\"overlay\",\"size\":10,\"solidity\":0.2},\"type\":\"scatter\"}],\"parcoords\":[{\"type\":\"parcoords\",\"line\":{\"colorbar\":{\"outlinewidth\":0,\"ticks\":\"\"}}}],\"scatterpolargl\":[{\"type\":\"scatterpolargl\",\"marker\":{\"colorbar\":{\"outlinewidth\":0,\"ticks\":\"\"}}}],\"bar\":[{\"error_x\":{\"color\":\"#2a3f5f\"},\"error_y\":{\"color\":\"#2a3f5f\"},\"marker\":{\"line\":{\"color\":\"white\",\"width\":0.5},\"pattern\":{\"fillmode\":\"overlay\",\"size\":10,\"solidity\":0.2}},\"type\":\"bar\"}],\"scattergeo\":[{\"type\":\"scattergeo\",\"marker\":{\"colorbar\":{\"outlinewidth\":0,\"ticks\":\"\"}}}],\"scatterpolar\":[{\"type\":\"scatterpolar\",\"marker\":{\"colorbar\":{\"outlinewidth\":0,\"ticks\":\"\"}}}],\"histogram\":[{\"marker\":{\"pattern\":{\"fillmode\":\"overlay\",\"size\":10,\"solidity\":0.2}},\"type\":\"histogram\"}],\"scattergl\":[{\"type\":\"scattergl\",\"marker\":{\"colorbar\":{\"outlinewidth\":0,\"ticks\":\"\"}}}],\"scatter3d\":[{\"type\":\"scatter3d\",\"line\":{\"colorbar\":{\"outlinewidth\":0,\"ticks\":\"\"}},\"marker\":{\"colorbar\":{\"outlinewidth\":0,\"ticks\":\"\"}}}],\"scattermapbox\":[{\"type\":\"scattermapbox\",\"marker\":{\"colorbar\":{\"outlinewidth\":0,\"ticks\":\"\"}}}],\"scatterternary\":[{\"type\":\"scatterternary\",\"marker\":{\"colorbar\":{\"outlinewidth\":0,\"ticks\":\"\"}}}],\"scattercarpet\":[{\"type\":\"scattercarpet\",\"marker\":{\"colorbar\":{\"outlinewidth\":0,\"ticks\":\"\"}}}],\"carpet\":[{\"aaxis\":{\"endlinecolor\":\"#2a3f5f\",\"gridcolor\":\"#C8D4E3\",\"linecolor\":\"#C8D4E3\",\"minorgridcolor\":\"#C8D4E3\",\"startlinecolor\":\"#2a3f5f\"},\"baxis\":{\"endlinecolor\":\"#2a3f5f\",\"gridcolor\":\"#C8D4E3\",\"linecolor\":\"#C8D4E3\",\"minorgridcolor\":\"#C8D4E3\",\"startlinecolor\":\"#2a3f5f\"},\"type\":\"carpet\"}],\"table\":[{\"cells\":{\"fill\":{\"color\":\"#EBF0F8\"},\"line\":{\"color\":\"white\"}},\"header\":{\"fill\":{\"color\":\"#C8D4E3\"},\"line\":{\"color\":\"white\"}},\"type\":\"table\"}],\"barpolar\":[{\"marker\":{\"line\":{\"color\":\"white\",\"width\":0.5},\"pattern\":{\"fillmode\":\"overlay\",\"size\":10,\"solidity\":0.2}},\"type\":\"barpolar\"}],\"pie\":[{\"automargin\":true,\"type\":\"pie\"}]},\"layout\":{\"autotypenumbers\":\"strict\",\"colorway\":[\"#636efa\",\"#EF553B\",\"#00cc96\",\"#ab63fa\",\"#FFA15A\",\"#19d3f3\",\"#FF6692\",\"#B6E880\",\"#FF97FF\",\"#FECB52\"],\"font\":{\"color\":\"#2a3f5f\"},\"hovermode\":\"closest\",\"hoverlabel\":{\"align\":\"left\"},\"paper_bgcolor\":\"white\",\"plot_bgcolor\":\"white\",\"polar\":{\"bgcolor\":\"white\",\"angularaxis\":{\"gridcolor\":\"#EBF0F8\",\"linecolor\":\"#EBF0F8\",\"ticks\":\"\"},\"radialaxis\":{\"gridcolor\":\"#EBF0F8\",\"linecolor\":\"#EBF0F8\",\"ticks\":\"\"}},\"ternary\":{\"bgcolor\":\"white\",\"aaxis\":{\"gridcolor\":\"#DFE8F3\",\"linecolor\":\"#A2B1C6\",\"ticks\":\"\"},\"baxis\":{\"gridcolor\":\"#DFE8F3\",\"linecolor\":\"#A2B1C6\",\"ticks\":\"\"},\"caxis\":{\"gridcolor\":\"#DFE8F3\",\"linecolor\":\"#A2B1C6\",\"ticks\":\"\"}},\"coloraxis\":{\"colorbar\":{\"outlinewidth\":0,\"ticks\":\"\"}},\"colorscale\":{\"sequential\":[[0.0,\"#0d0887\"],[0.1111111111111111,\"#46039f\"],[0.2222222222222222,\"#7201a8\"],[0.3333333333333333,\"#9c179e\"],[0.4444444444444444,\"#bd3786\"],[0.5555555555555556,\"#d8576b\"],[0.6666666666666666,\"#ed7953\"],[0.7777777777777778,\"#fb9f3a\"],[0.8888888888888888,\"#fdca26\"],[1.0,\"#f0f921\"]],\"sequentialminus\":[[0.0,\"#0d0887\"],[0.1111111111111111,\"#46039f\"],[0.2222222222222222,\"#7201a8\"],[0.3333333333333333,\"#9c179e\"],[0.4444444444444444,\"#bd3786\"],[0.5555555555555556,\"#d8576b\"],[0.6666666666666666,\"#ed7953\"],[0.7777777777777778,\"#fb9f3a\"],[0.8888888888888888,\"#fdca26\"],[1.0,\"#f0f921\"]],\"diverging\":[[0,\"#8e0152\"],[0.1,\"#c51b7d\"],[0.2,\"#de77ae\"],[0.3,\"#f1b6da\"],[0.4,\"#fde0ef\"],[0.5,\"#f7f7f7\"],[0.6,\"#e6f5d0\"],[0.7,\"#b8e186\"],[0.8,\"#7fbc41\"],[0.9,\"#4d9221\"],[1,\"#276419\"]]},\"xaxis\":{\"gridcolor\":\"#EBF0F8\",\"linecolor\":\"#EBF0F8\",\"ticks\":\"\",\"title\":{\"standoff\":15},\"zerolinecolor\":\"#EBF0F8\",\"automargin\":true,\"zerolinewidth\":2},\"yaxis\":{\"gridcolor\":\"#EBF0F8\",\"linecolor\":\"#EBF0F8\",\"ticks\":\"\",\"title\":{\"standoff\":15},\"zerolinecolor\":\"#EBF0F8\",\"automargin\":true,\"zerolinewidth\":2},\"scene\":{\"xaxis\":{\"backgroundcolor\":\"white\",\"gridcolor\":\"#DFE8F3\",\"linecolor\":\"#EBF0F8\",\"showbackground\":true,\"ticks\":\"\",\"zerolinecolor\":\"#EBF0F8\",\"gridwidth\":2},\"yaxis\":{\"backgroundcolor\":\"white\",\"gridcolor\":\"#DFE8F3\",\"linecolor\":\"#EBF0F8\",\"showbackground\":true,\"ticks\":\"\",\"zerolinecolor\":\"#EBF0F8\",\"gridwidth\":2},\"zaxis\":{\"backgroundcolor\":\"white\",\"gridcolor\":\"#DFE8F3\",\"linecolor\":\"#EBF0F8\",\"showbackground\":true,\"ticks\":\"\",\"zerolinecolor\":\"#EBF0F8\",\"gridwidth\":2}},\"shapedefaults\":{\"line\":{\"color\":\"#2a3f5f\"}},\"annotationdefaults\":{\"arrowcolor\":\"#2a3f5f\",\"arrowhead\":0,\"arrowwidth\":1},\"geo\":{\"bgcolor\":\"white\",\"landcolor\":\"white\",\"subunitcolor\":\"#C8D4E3\",\"showland\":true,\"showlakes\":true,\"lakecolor\":\"white\"},\"title\":{\"x\":0.05},\"mapbox\":{\"style\":\"light\"}}},\"xaxis\":{\"title\":{\"text\":\"Season\"},\"tickangle\":0,\"categoryorder\":\"array\",\"categoryarray\":[\"Winter\",\"Spring\",\"Summer\",\"Fall\"]},\"title\":{\"text\":\"Total Viewership Hours by Release Season (2023)\"},\"yaxis\":{\"title\":{\"text\":\"Total Hours Viewed (in billions)\"}},\"height\":500,\"width\":800},                        {\"responsive\": true}                    ).then(function(){\n",
       "                            \n",
       "var gd = document.getElementById('6341ecd6-7902-4006-81ba-dbac3a21d885');\n",
       "var x = new MutationObserver(function (mutations, observer) {{\n",
       "        var display = window.getComputedStyle(gd).display;\n",
       "        if (!display || display === 'none') {{\n",
       "            console.log([gd, 'removed!']);\n",
       "            Plotly.purge(gd);\n",
       "            observer.disconnect();\n",
       "        }}\n",
       "}});\n",
       "\n",
       "// Listen for the removal of the full notebook cells\n",
       "var notebookContainer = gd.closest('#notebook-container');\n",
       "if (notebookContainer) {{\n",
       "    x.observe(notebookContainer, {childList: true});\n",
       "}}\n",
       "\n",
       "// Listen for the clearing of the current output cell\n",
       "var outputEl = gd.closest('.output');\n",
       "if (outputEl) {{\n",
       "    x.observe(outputEl, {childList: true});\n",
       "}}\n",
       "\n",
       "                        })                };                });            </script>        </div>"
      ]
     },
     "metadata": {},
     "output_type": "display_data"
    }
   ],
   "source": [
    "# define seasons based on release months\n",
    "def get_season(month):\n",
    "    if month in [12, 1, 2]:\n",
    "        return 'Winter'\n",
    "    elif month in [3, 4, 5]:\n",
    "        return 'Spring'\n",
    "    elif month in [6, 7, 8]:\n",
    "        return 'Summer'\n",
    "    else:\n",
    "        return 'Fall'\n",
    "\n",
    "# apply the season categorization to the dataset\n",
    "netflix_data['Release Season'] = netflix_data['Release Month'].apply(get_season)\n",
    "\n",
    "# aggregate viewership hours by release season\n",
    "seasonal_viewership = netflix_data.groupby('Release Season')['Hours Viewed'].sum()\n",
    "\n",
    "# order the seasons as 'Winter', 'Spring', 'Summer', 'Fall'\n",
    "seasons_order = ['Winter', 'Spring', 'Summer', 'Fall']\n",
    "seasonal_viewership = seasonal_viewership.reindex(seasons_order)\n",
    "\n",
    "fig = go.Figure(data=[\n",
    "    go.Bar(\n",
    "        x=seasonal_viewership.index,\n",
    "        y=seasonal_viewership.values,\n",
    "        marker_color='orange'\n",
    "    )\n",
    "])\n",
    "\n",
    "fig.update_layout(\n",
    "    title='Total Viewership Hours by Release Season (2023)',\n",
    "    xaxis_title='Season',\n",
    "    yaxis_title='Total Hours Viewed (in billions)',\n",
    "    xaxis_tickangle=0,\n",
    "    height=500,\n",
    "    width=800,\n",
    "    xaxis=dict(\n",
    "        categoryorder='array',\n",
    "        categoryarray=seasons_order\n",
    "    )\n",
    ")\n",
    "\n",
    "fig.show()"
   ]
  },
  {
   "cell_type": "markdown",
   "id": "cf34141b",
   "metadata": {},
   "source": [
    "The graph indicates that viewership hours peak significantly in the Fall season, with over 80 billion hours viewed, while Winter, Spring, and Summer each have relatively stable and similar viewership around the 20 billion mark. This suggests that Netflix experiences the highest audience engagement during the Fall."
   ]
  },
  {
   "cell_type": "markdown",
   "id": "119d07cb",
   "metadata": {},
   "source": [
    "Now, let’s analyze the number of content releases and their viewership hours across months:"
   ]
  },
  {
   "cell_type": "code",
   "execution_count": 99,
   "id": "70cc8a78",
   "metadata": {},
   "outputs": [
    {
     "data": {
      "application/vnd.plotly.v1+json": {
       "config": {
        "plotlyServerURL": "https://plot.ly"
       },
       "data": [
        {
         "marker": {
          "color": "goldenrod"
         },
         "name": "Number of Releases",
         "opacity": 0.7,
         "type": "bar",
         "x": [
          1,
          2,
          3,
          4,
          5,
          6,
          7,
          8,
          9,
          10,
          11,
          12
         ],
         "y": [
          608,
          560,
          690,
          647,
          624,
          670,
          631,
          674,
          739,
          802,
          734,
          787
         ],
         "yaxis": "y"
        },
        {
         "line": {
          "color": "red"
         },
         "marker": {
          "color": "blue"
         },
         "mode": "lines+markers",
         "name": "Viewership Hours",
         "type": "scatter",
         "x": [
          1,
          2,
          3,
          4,
          5,
          6,
          7,
          8,
          9,
          10,
          11,
          12
         ],
         "y": [
          7271600000,
          7103700000,
          7437100000,
          6865700000,
          7094600000,
          8522000000,
          6524800000,
          6817800000,
          7262200000,
          8123200000,
          7749500000,
          10055800000
         ],
         "yaxis": "y2"
        }
       ],
       "layout": {
        "height": 600,
        "legend": {
         "orientation": "v",
         "x": 1.05,
         "xanchor": "left",
         "y": 1
        },
        "template": {
         "data": {
          "bar": [
           {
            "error_x": {
             "color": "#2a3f5f"
            },
            "error_y": {
             "color": "#2a3f5f"
            },
            "marker": {
             "line": {
              "color": "white",
              "width": 0.5
             },
             "pattern": {
              "fillmode": "overlay",
              "size": 10,
              "solidity": 0.2
             }
            },
            "type": "bar"
           }
          ],
          "barpolar": [
           {
            "marker": {
             "line": {
              "color": "white",
              "width": 0.5
             },
             "pattern": {
              "fillmode": "overlay",
              "size": 10,
              "solidity": 0.2
             }
            },
            "type": "barpolar"
           }
          ],
          "carpet": [
           {
            "aaxis": {
             "endlinecolor": "#2a3f5f",
             "gridcolor": "#C8D4E3",
             "linecolor": "#C8D4E3",
             "minorgridcolor": "#C8D4E3",
             "startlinecolor": "#2a3f5f"
            },
            "baxis": {
             "endlinecolor": "#2a3f5f",
             "gridcolor": "#C8D4E3",
             "linecolor": "#C8D4E3",
             "minorgridcolor": "#C8D4E3",
             "startlinecolor": "#2a3f5f"
            },
            "type": "carpet"
           }
          ],
          "choropleth": [
           {
            "colorbar": {
             "outlinewidth": 0,
             "ticks": ""
            },
            "type": "choropleth"
           }
          ],
          "contour": [
           {
            "colorbar": {
             "outlinewidth": 0,
             "ticks": ""
            },
            "colorscale": [
             [
              0,
              "#0d0887"
             ],
             [
              0.1111111111111111,
              "#46039f"
             ],
             [
              0.2222222222222222,
              "#7201a8"
             ],
             [
              0.3333333333333333,
              "#9c179e"
             ],
             [
              0.4444444444444444,
              "#bd3786"
             ],
             [
              0.5555555555555556,
              "#d8576b"
             ],
             [
              0.6666666666666666,
              "#ed7953"
             ],
             [
              0.7777777777777778,
              "#fb9f3a"
             ],
             [
              0.8888888888888888,
              "#fdca26"
             ],
             [
              1,
              "#f0f921"
             ]
            ],
            "type": "contour"
           }
          ],
          "contourcarpet": [
           {
            "colorbar": {
             "outlinewidth": 0,
             "ticks": ""
            },
            "type": "contourcarpet"
           }
          ],
          "heatmap": [
           {
            "colorbar": {
             "outlinewidth": 0,
             "ticks": ""
            },
            "colorscale": [
             [
              0,
              "#0d0887"
             ],
             [
              0.1111111111111111,
              "#46039f"
             ],
             [
              0.2222222222222222,
              "#7201a8"
             ],
             [
              0.3333333333333333,
              "#9c179e"
             ],
             [
              0.4444444444444444,
              "#bd3786"
             ],
             [
              0.5555555555555556,
              "#d8576b"
             ],
             [
              0.6666666666666666,
              "#ed7953"
             ],
             [
              0.7777777777777778,
              "#fb9f3a"
             ],
             [
              0.8888888888888888,
              "#fdca26"
             ],
             [
              1,
              "#f0f921"
             ]
            ],
            "type": "heatmap"
           }
          ],
          "heatmapgl": [
           {
            "colorbar": {
             "outlinewidth": 0,
             "ticks": ""
            },
            "colorscale": [
             [
              0,
              "#0d0887"
             ],
             [
              0.1111111111111111,
              "#46039f"
             ],
             [
              0.2222222222222222,
              "#7201a8"
             ],
             [
              0.3333333333333333,
              "#9c179e"
             ],
             [
              0.4444444444444444,
              "#bd3786"
             ],
             [
              0.5555555555555556,
              "#d8576b"
             ],
             [
              0.6666666666666666,
              "#ed7953"
             ],
             [
              0.7777777777777778,
              "#fb9f3a"
             ],
             [
              0.8888888888888888,
              "#fdca26"
             ],
             [
              1,
              "#f0f921"
             ]
            ],
            "type": "heatmapgl"
           }
          ],
          "histogram": [
           {
            "marker": {
             "pattern": {
              "fillmode": "overlay",
              "size": 10,
              "solidity": 0.2
             }
            },
            "type": "histogram"
           }
          ],
          "histogram2d": [
           {
            "colorbar": {
             "outlinewidth": 0,
             "ticks": ""
            },
            "colorscale": [
             [
              0,
              "#0d0887"
             ],
             [
              0.1111111111111111,
              "#46039f"
             ],
             [
              0.2222222222222222,
              "#7201a8"
             ],
             [
              0.3333333333333333,
              "#9c179e"
             ],
             [
              0.4444444444444444,
              "#bd3786"
             ],
             [
              0.5555555555555556,
              "#d8576b"
             ],
             [
              0.6666666666666666,
              "#ed7953"
             ],
             [
              0.7777777777777778,
              "#fb9f3a"
             ],
             [
              0.8888888888888888,
              "#fdca26"
             ],
             [
              1,
              "#f0f921"
             ]
            ],
            "type": "histogram2d"
           }
          ],
          "histogram2dcontour": [
           {
            "colorbar": {
             "outlinewidth": 0,
             "ticks": ""
            },
            "colorscale": [
             [
              0,
              "#0d0887"
             ],
             [
              0.1111111111111111,
              "#46039f"
             ],
             [
              0.2222222222222222,
              "#7201a8"
             ],
             [
              0.3333333333333333,
              "#9c179e"
             ],
             [
              0.4444444444444444,
              "#bd3786"
             ],
             [
              0.5555555555555556,
              "#d8576b"
             ],
             [
              0.6666666666666666,
              "#ed7953"
             ],
             [
              0.7777777777777778,
              "#fb9f3a"
             ],
             [
              0.8888888888888888,
              "#fdca26"
             ],
             [
              1,
              "#f0f921"
             ]
            ],
            "type": "histogram2dcontour"
           }
          ],
          "mesh3d": [
           {
            "colorbar": {
             "outlinewidth": 0,
             "ticks": ""
            },
            "type": "mesh3d"
           }
          ],
          "parcoords": [
           {
            "line": {
             "colorbar": {
              "outlinewidth": 0,
              "ticks": ""
             }
            },
            "type": "parcoords"
           }
          ],
          "pie": [
           {
            "automargin": true,
            "type": "pie"
           }
          ],
          "scatter": [
           {
            "fillpattern": {
             "fillmode": "overlay",
             "size": 10,
             "solidity": 0.2
            },
            "type": "scatter"
           }
          ],
          "scatter3d": [
           {
            "line": {
             "colorbar": {
              "outlinewidth": 0,
              "ticks": ""
             }
            },
            "marker": {
             "colorbar": {
              "outlinewidth": 0,
              "ticks": ""
             }
            },
            "type": "scatter3d"
           }
          ],
          "scattercarpet": [
           {
            "marker": {
             "colorbar": {
              "outlinewidth": 0,
              "ticks": ""
             }
            },
            "type": "scattercarpet"
           }
          ],
          "scattergeo": [
           {
            "marker": {
             "colorbar": {
              "outlinewidth": 0,
              "ticks": ""
             }
            },
            "type": "scattergeo"
           }
          ],
          "scattergl": [
           {
            "marker": {
             "colorbar": {
              "outlinewidth": 0,
              "ticks": ""
             }
            },
            "type": "scattergl"
           }
          ],
          "scattermapbox": [
           {
            "marker": {
             "colorbar": {
              "outlinewidth": 0,
              "ticks": ""
             }
            },
            "type": "scattermapbox"
           }
          ],
          "scatterpolar": [
           {
            "marker": {
             "colorbar": {
              "outlinewidth": 0,
              "ticks": ""
             }
            },
            "type": "scatterpolar"
           }
          ],
          "scatterpolargl": [
           {
            "marker": {
             "colorbar": {
              "outlinewidth": 0,
              "ticks": ""
             }
            },
            "type": "scatterpolargl"
           }
          ],
          "scatterternary": [
           {
            "marker": {
             "colorbar": {
              "outlinewidth": 0,
              "ticks": ""
             }
            },
            "type": "scatterternary"
           }
          ],
          "surface": [
           {
            "colorbar": {
             "outlinewidth": 0,
             "ticks": ""
            },
            "colorscale": [
             [
              0,
              "#0d0887"
             ],
             [
              0.1111111111111111,
              "#46039f"
             ],
             [
              0.2222222222222222,
              "#7201a8"
             ],
             [
              0.3333333333333333,
              "#9c179e"
             ],
             [
              0.4444444444444444,
              "#bd3786"
             ],
             [
              0.5555555555555556,
              "#d8576b"
             ],
             [
              0.6666666666666666,
              "#ed7953"
             ],
             [
              0.7777777777777778,
              "#fb9f3a"
             ],
             [
              0.8888888888888888,
              "#fdca26"
             ],
             [
              1,
              "#f0f921"
             ]
            ],
            "type": "surface"
           }
          ],
          "table": [
           {
            "cells": {
             "fill": {
              "color": "#EBF0F8"
             },
             "line": {
              "color": "white"
             }
            },
            "header": {
             "fill": {
              "color": "#C8D4E3"
             },
             "line": {
              "color": "white"
             }
            },
            "type": "table"
           }
          ]
         },
         "layout": {
          "annotationdefaults": {
           "arrowcolor": "#2a3f5f",
           "arrowhead": 0,
           "arrowwidth": 1
          },
          "autotypenumbers": "strict",
          "coloraxis": {
           "colorbar": {
            "outlinewidth": 0,
            "ticks": ""
           }
          },
          "colorscale": {
           "diverging": [
            [
             0,
             "#8e0152"
            ],
            [
             0.1,
             "#c51b7d"
            ],
            [
             0.2,
             "#de77ae"
            ],
            [
             0.3,
             "#f1b6da"
            ],
            [
             0.4,
             "#fde0ef"
            ],
            [
             0.5,
             "#f7f7f7"
            ],
            [
             0.6,
             "#e6f5d0"
            ],
            [
             0.7,
             "#b8e186"
            ],
            [
             0.8,
             "#7fbc41"
            ],
            [
             0.9,
             "#4d9221"
            ],
            [
             1,
             "#276419"
            ]
           ],
           "sequential": [
            [
             0,
             "#0d0887"
            ],
            [
             0.1111111111111111,
             "#46039f"
            ],
            [
             0.2222222222222222,
             "#7201a8"
            ],
            [
             0.3333333333333333,
             "#9c179e"
            ],
            [
             0.4444444444444444,
             "#bd3786"
            ],
            [
             0.5555555555555556,
             "#d8576b"
            ],
            [
             0.6666666666666666,
             "#ed7953"
            ],
            [
             0.7777777777777778,
             "#fb9f3a"
            ],
            [
             0.8888888888888888,
             "#fdca26"
            ],
            [
             1,
             "#f0f921"
            ]
           ],
           "sequentialminus": [
            [
             0,
             "#0d0887"
            ],
            [
             0.1111111111111111,
             "#46039f"
            ],
            [
             0.2222222222222222,
             "#7201a8"
            ],
            [
             0.3333333333333333,
             "#9c179e"
            ],
            [
             0.4444444444444444,
             "#bd3786"
            ],
            [
             0.5555555555555556,
             "#d8576b"
            ],
            [
             0.6666666666666666,
             "#ed7953"
            ],
            [
             0.7777777777777778,
             "#fb9f3a"
            ],
            [
             0.8888888888888888,
             "#fdca26"
            ],
            [
             1,
             "#f0f921"
            ]
           ]
          },
          "colorway": [
           "#636efa",
           "#EF553B",
           "#00cc96",
           "#ab63fa",
           "#FFA15A",
           "#19d3f3",
           "#FF6692",
           "#B6E880",
           "#FF97FF",
           "#FECB52"
          ],
          "font": {
           "color": "#2a3f5f"
          },
          "geo": {
           "bgcolor": "white",
           "lakecolor": "white",
           "landcolor": "white",
           "showlakes": true,
           "showland": true,
           "subunitcolor": "#C8D4E3"
          },
          "hoverlabel": {
           "align": "left"
          },
          "hovermode": "closest",
          "mapbox": {
           "style": "light"
          },
          "paper_bgcolor": "white",
          "plot_bgcolor": "white",
          "polar": {
           "angularaxis": {
            "gridcolor": "#EBF0F8",
            "linecolor": "#EBF0F8",
            "ticks": ""
           },
           "bgcolor": "white",
           "radialaxis": {
            "gridcolor": "#EBF0F8",
            "linecolor": "#EBF0F8",
            "ticks": ""
           }
          },
          "scene": {
           "xaxis": {
            "backgroundcolor": "white",
            "gridcolor": "#DFE8F3",
            "gridwidth": 2,
            "linecolor": "#EBF0F8",
            "showbackground": true,
            "ticks": "",
            "zerolinecolor": "#EBF0F8"
           },
           "yaxis": {
            "backgroundcolor": "white",
            "gridcolor": "#DFE8F3",
            "gridwidth": 2,
            "linecolor": "#EBF0F8",
            "showbackground": true,
            "ticks": "",
            "zerolinecolor": "#EBF0F8"
           },
           "zaxis": {
            "backgroundcolor": "white",
            "gridcolor": "#DFE8F3",
            "gridwidth": 2,
            "linecolor": "#EBF0F8",
            "showbackground": true,
            "ticks": "",
            "zerolinecolor": "#EBF0F8"
           }
          },
          "shapedefaults": {
           "line": {
            "color": "#2a3f5f"
           }
          },
          "ternary": {
           "aaxis": {
            "gridcolor": "#DFE8F3",
            "linecolor": "#A2B1C6",
            "ticks": ""
           },
           "baxis": {
            "gridcolor": "#DFE8F3",
            "linecolor": "#A2B1C6",
            "ticks": ""
           },
           "bgcolor": "white",
           "caxis": {
            "gridcolor": "#DFE8F3",
            "linecolor": "#A2B1C6",
            "ticks": ""
           }
          },
          "title": {
           "x": 0.05
          },
          "xaxis": {
           "automargin": true,
           "gridcolor": "#EBF0F8",
           "linecolor": "#EBF0F8",
           "ticks": "",
           "title": {
            "standoff": 15
           },
           "zerolinecolor": "#EBF0F8",
           "zerolinewidth": 2
          },
          "yaxis": {
           "automargin": true,
           "gridcolor": "#EBF0F8",
           "linecolor": "#EBF0F8",
           "ticks": "",
           "title": {
            "standoff": 15
           },
           "zerolinecolor": "#EBF0F8",
           "zerolinewidth": 2
          }
         }
        },
        "title": {
         "text": "Monthly Release Patterns and Viewership Hours (2023)"
        },
        "width": 1000,
        "xaxis": {
         "tickmode": "array",
         "ticktext": [
          "Jan",
          "Feb",
          "Mar",
          "Apr",
          "May",
          "Jun",
          "Jul",
          "Aug",
          "Sep",
          "Oct",
          "Nov",
          "Dec"
         ],
         "tickvals": [
          1,
          2,
          3,
          4,
          5,
          6,
          7,
          8,
          9,
          10,
          11,
          12
         ],
         "title": {
          "text": "Month"
         }
        },
        "yaxis": {
         "showgrid": false,
         "side": "left",
         "title": {
          "text": "Number of Release"
         }
        },
        "yaxis2": {
         "overlaying": "y",
         "showgrid": false,
         "side": "right",
         "title": {
          "text": "Total Hours Viewed (in billions)"
         }
        }
       }
      },
      "text/html": [
       "<div>                            <div id=\"c0a6244a-4242-4d8f-ae26-a6787cff17d1\" class=\"plotly-graph-div\" style=\"height:600px; width:1000px;\"></div>            <script type=\"text/javascript\">                require([\"plotly\"], function(Plotly) {                    window.PLOTLYENV=window.PLOTLYENV || {};                                    if (document.getElementById(\"c0a6244a-4242-4d8f-ae26-a6787cff17d1\")) {                    Plotly.newPlot(                        \"c0a6244a-4242-4d8f-ae26-a6787cff17d1\",                        [{\"marker\":{\"color\":\"goldenrod\"},\"name\":\"Number of Releases\",\"opacity\":0.7,\"x\":[1.0,2.0,3.0,4.0,5.0,6.0,7.0,8.0,9.0,10.0,11.0,12.0],\"y\":[608,560,690,647,624,670,631,674,739,802,734,787],\"yaxis\":\"y\",\"type\":\"bar\"},{\"line\":{\"color\":\"red\"},\"marker\":{\"color\":\"blue\"},\"mode\":\"lines+markers\",\"name\":\"Viewership Hours\",\"x\":[1.0,2.0,3.0,4.0,5.0,6.0,7.0,8.0,9.0,10.0,11.0,12.0],\"y\":[7271600000.0,7103700000.0,7437100000.0,6865700000.0,7094600000.0,8522000000.0,6524800000.0,6817800000.0,7262200000.0,8123200000.0,7749500000.0,10055800000.0],\"yaxis\":\"y2\",\"type\":\"scatter\"}],                        {\"template\":{\"data\":{\"histogram2dcontour\":[{\"type\":\"histogram2dcontour\",\"colorbar\":{\"outlinewidth\":0,\"ticks\":\"\"},\"colorscale\":[[0.0,\"#0d0887\"],[0.1111111111111111,\"#46039f\"],[0.2222222222222222,\"#7201a8\"],[0.3333333333333333,\"#9c179e\"],[0.4444444444444444,\"#bd3786\"],[0.5555555555555556,\"#d8576b\"],[0.6666666666666666,\"#ed7953\"],[0.7777777777777778,\"#fb9f3a\"],[0.8888888888888888,\"#fdca26\"],[1.0,\"#f0f921\"]]}],\"choropleth\":[{\"type\":\"choropleth\",\"colorbar\":{\"outlinewidth\":0,\"ticks\":\"\"}}],\"histogram2d\":[{\"type\":\"histogram2d\",\"colorbar\":{\"outlinewidth\":0,\"ticks\":\"\"},\"colorscale\":[[0.0,\"#0d0887\"],[0.1111111111111111,\"#46039f\"],[0.2222222222222222,\"#7201a8\"],[0.3333333333333333,\"#9c179e\"],[0.4444444444444444,\"#bd3786\"],[0.5555555555555556,\"#d8576b\"],[0.6666666666666666,\"#ed7953\"],[0.7777777777777778,\"#fb9f3a\"],[0.8888888888888888,\"#fdca26\"],[1.0,\"#f0f921\"]]}],\"heatmap\":[{\"type\":\"heatmap\",\"colorbar\":{\"outlinewidth\":0,\"ticks\":\"\"},\"colorscale\":[[0.0,\"#0d0887\"],[0.1111111111111111,\"#46039f\"],[0.2222222222222222,\"#7201a8\"],[0.3333333333333333,\"#9c179e\"],[0.4444444444444444,\"#bd3786\"],[0.5555555555555556,\"#d8576b\"],[0.6666666666666666,\"#ed7953\"],[0.7777777777777778,\"#fb9f3a\"],[0.8888888888888888,\"#fdca26\"],[1.0,\"#f0f921\"]]}],\"heatmapgl\":[{\"type\":\"heatmapgl\",\"colorbar\":{\"outlinewidth\":0,\"ticks\":\"\"},\"colorscale\":[[0.0,\"#0d0887\"],[0.1111111111111111,\"#46039f\"],[0.2222222222222222,\"#7201a8\"],[0.3333333333333333,\"#9c179e\"],[0.4444444444444444,\"#bd3786\"],[0.5555555555555556,\"#d8576b\"],[0.6666666666666666,\"#ed7953\"],[0.7777777777777778,\"#fb9f3a\"],[0.8888888888888888,\"#fdca26\"],[1.0,\"#f0f921\"]]}],\"contourcarpet\":[{\"type\":\"contourcarpet\",\"colorbar\":{\"outlinewidth\":0,\"ticks\":\"\"}}],\"contour\":[{\"type\":\"contour\",\"colorbar\":{\"outlinewidth\":0,\"ticks\":\"\"},\"colorscale\":[[0.0,\"#0d0887\"],[0.1111111111111111,\"#46039f\"],[0.2222222222222222,\"#7201a8\"],[0.3333333333333333,\"#9c179e\"],[0.4444444444444444,\"#bd3786\"],[0.5555555555555556,\"#d8576b\"],[0.6666666666666666,\"#ed7953\"],[0.7777777777777778,\"#fb9f3a\"],[0.8888888888888888,\"#fdca26\"],[1.0,\"#f0f921\"]]}],\"surface\":[{\"type\":\"surface\",\"colorbar\":{\"outlinewidth\":0,\"ticks\":\"\"},\"colorscale\":[[0.0,\"#0d0887\"],[0.1111111111111111,\"#46039f\"],[0.2222222222222222,\"#7201a8\"],[0.3333333333333333,\"#9c179e\"],[0.4444444444444444,\"#bd3786\"],[0.5555555555555556,\"#d8576b\"],[0.6666666666666666,\"#ed7953\"],[0.7777777777777778,\"#fb9f3a\"],[0.8888888888888888,\"#fdca26\"],[1.0,\"#f0f921\"]]}],\"mesh3d\":[{\"type\":\"mesh3d\",\"colorbar\":{\"outlinewidth\":0,\"ticks\":\"\"}}],\"scatter\":[{\"fillpattern\":{\"fillmode\":\"overlay\",\"size\":10,\"solidity\":0.2},\"type\":\"scatter\"}],\"parcoords\":[{\"type\":\"parcoords\",\"line\":{\"colorbar\":{\"outlinewidth\":0,\"ticks\":\"\"}}}],\"scatterpolargl\":[{\"type\":\"scatterpolargl\",\"marker\":{\"colorbar\":{\"outlinewidth\":0,\"ticks\":\"\"}}}],\"bar\":[{\"error_x\":{\"color\":\"#2a3f5f\"},\"error_y\":{\"color\":\"#2a3f5f\"},\"marker\":{\"line\":{\"color\":\"white\",\"width\":0.5},\"pattern\":{\"fillmode\":\"overlay\",\"size\":10,\"solidity\":0.2}},\"type\":\"bar\"}],\"scattergeo\":[{\"type\":\"scattergeo\",\"marker\":{\"colorbar\":{\"outlinewidth\":0,\"ticks\":\"\"}}}],\"scatterpolar\":[{\"type\":\"scatterpolar\",\"marker\":{\"colorbar\":{\"outlinewidth\":0,\"ticks\":\"\"}}}],\"histogram\":[{\"marker\":{\"pattern\":{\"fillmode\":\"overlay\",\"size\":10,\"solidity\":0.2}},\"type\":\"histogram\"}],\"scattergl\":[{\"type\":\"scattergl\",\"marker\":{\"colorbar\":{\"outlinewidth\":0,\"ticks\":\"\"}}}],\"scatter3d\":[{\"type\":\"scatter3d\",\"line\":{\"colorbar\":{\"outlinewidth\":0,\"ticks\":\"\"}},\"marker\":{\"colorbar\":{\"outlinewidth\":0,\"ticks\":\"\"}}}],\"scattermapbox\":[{\"type\":\"scattermapbox\",\"marker\":{\"colorbar\":{\"outlinewidth\":0,\"ticks\":\"\"}}}],\"scatterternary\":[{\"type\":\"scatterternary\",\"marker\":{\"colorbar\":{\"outlinewidth\":0,\"ticks\":\"\"}}}],\"scattercarpet\":[{\"type\":\"scattercarpet\",\"marker\":{\"colorbar\":{\"outlinewidth\":0,\"ticks\":\"\"}}}],\"carpet\":[{\"aaxis\":{\"endlinecolor\":\"#2a3f5f\",\"gridcolor\":\"#C8D4E3\",\"linecolor\":\"#C8D4E3\",\"minorgridcolor\":\"#C8D4E3\",\"startlinecolor\":\"#2a3f5f\"},\"baxis\":{\"endlinecolor\":\"#2a3f5f\",\"gridcolor\":\"#C8D4E3\",\"linecolor\":\"#C8D4E3\",\"minorgridcolor\":\"#C8D4E3\",\"startlinecolor\":\"#2a3f5f\"},\"type\":\"carpet\"}],\"table\":[{\"cells\":{\"fill\":{\"color\":\"#EBF0F8\"},\"line\":{\"color\":\"white\"}},\"header\":{\"fill\":{\"color\":\"#C8D4E3\"},\"line\":{\"color\":\"white\"}},\"type\":\"table\"}],\"barpolar\":[{\"marker\":{\"line\":{\"color\":\"white\",\"width\":0.5},\"pattern\":{\"fillmode\":\"overlay\",\"size\":10,\"solidity\":0.2}},\"type\":\"barpolar\"}],\"pie\":[{\"automargin\":true,\"type\":\"pie\"}]},\"layout\":{\"autotypenumbers\":\"strict\",\"colorway\":[\"#636efa\",\"#EF553B\",\"#00cc96\",\"#ab63fa\",\"#FFA15A\",\"#19d3f3\",\"#FF6692\",\"#B6E880\",\"#FF97FF\",\"#FECB52\"],\"font\":{\"color\":\"#2a3f5f\"},\"hovermode\":\"closest\",\"hoverlabel\":{\"align\":\"left\"},\"paper_bgcolor\":\"white\",\"plot_bgcolor\":\"white\",\"polar\":{\"bgcolor\":\"white\",\"angularaxis\":{\"gridcolor\":\"#EBF0F8\",\"linecolor\":\"#EBF0F8\",\"ticks\":\"\"},\"radialaxis\":{\"gridcolor\":\"#EBF0F8\",\"linecolor\":\"#EBF0F8\",\"ticks\":\"\"}},\"ternary\":{\"bgcolor\":\"white\",\"aaxis\":{\"gridcolor\":\"#DFE8F3\",\"linecolor\":\"#A2B1C6\",\"ticks\":\"\"},\"baxis\":{\"gridcolor\":\"#DFE8F3\",\"linecolor\":\"#A2B1C6\",\"ticks\":\"\"},\"caxis\":{\"gridcolor\":\"#DFE8F3\",\"linecolor\":\"#A2B1C6\",\"ticks\":\"\"}},\"coloraxis\":{\"colorbar\":{\"outlinewidth\":0,\"ticks\":\"\"}},\"colorscale\":{\"sequential\":[[0.0,\"#0d0887\"],[0.1111111111111111,\"#46039f\"],[0.2222222222222222,\"#7201a8\"],[0.3333333333333333,\"#9c179e\"],[0.4444444444444444,\"#bd3786\"],[0.5555555555555556,\"#d8576b\"],[0.6666666666666666,\"#ed7953\"],[0.7777777777777778,\"#fb9f3a\"],[0.8888888888888888,\"#fdca26\"],[1.0,\"#f0f921\"]],\"sequentialminus\":[[0.0,\"#0d0887\"],[0.1111111111111111,\"#46039f\"],[0.2222222222222222,\"#7201a8\"],[0.3333333333333333,\"#9c179e\"],[0.4444444444444444,\"#bd3786\"],[0.5555555555555556,\"#d8576b\"],[0.6666666666666666,\"#ed7953\"],[0.7777777777777778,\"#fb9f3a\"],[0.8888888888888888,\"#fdca26\"],[1.0,\"#f0f921\"]],\"diverging\":[[0,\"#8e0152\"],[0.1,\"#c51b7d\"],[0.2,\"#de77ae\"],[0.3,\"#f1b6da\"],[0.4,\"#fde0ef\"],[0.5,\"#f7f7f7\"],[0.6,\"#e6f5d0\"],[0.7,\"#b8e186\"],[0.8,\"#7fbc41\"],[0.9,\"#4d9221\"],[1,\"#276419\"]]},\"xaxis\":{\"gridcolor\":\"#EBF0F8\",\"linecolor\":\"#EBF0F8\",\"ticks\":\"\",\"title\":{\"standoff\":15},\"zerolinecolor\":\"#EBF0F8\",\"automargin\":true,\"zerolinewidth\":2},\"yaxis\":{\"gridcolor\":\"#EBF0F8\",\"linecolor\":\"#EBF0F8\",\"ticks\":\"\",\"title\":{\"standoff\":15},\"zerolinecolor\":\"#EBF0F8\",\"automargin\":true,\"zerolinewidth\":2},\"scene\":{\"xaxis\":{\"backgroundcolor\":\"white\",\"gridcolor\":\"#DFE8F3\",\"linecolor\":\"#EBF0F8\",\"showbackground\":true,\"ticks\":\"\",\"zerolinecolor\":\"#EBF0F8\",\"gridwidth\":2},\"yaxis\":{\"backgroundcolor\":\"white\",\"gridcolor\":\"#DFE8F3\",\"linecolor\":\"#EBF0F8\",\"showbackground\":true,\"ticks\":\"\",\"zerolinecolor\":\"#EBF0F8\",\"gridwidth\":2},\"zaxis\":{\"backgroundcolor\":\"white\",\"gridcolor\":\"#DFE8F3\",\"linecolor\":\"#EBF0F8\",\"showbackground\":true,\"ticks\":\"\",\"zerolinecolor\":\"#EBF0F8\",\"gridwidth\":2}},\"shapedefaults\":{\"line\":{\"color\":\"#2a3f5f\"}},\"annotationdefaults\":{\"arrowcolor\":\"#2a3f5f\",\"arrowhead\":0,\"arrowwidth\":1},\"geo\":{\"bgcolor\":\"white\",\"landcolor\":\"white\",\"subunitcolor\":\"#C8D4E3\",\"showland\":true,\"showlakes\":true,\"lakecolor\":\"white\"},\"title\":{\"x\":0.05},\"mapbox\":{\"style\":\"light\"}}},\"xaxis\":{\"title\":{\"text\":\"Month\"},\"tickmode\":\"array\",\"tickvals\":[1,2,3,4,5,6,7,8,9,10,11,12],\"ticktext\":[\"Jan\",\"Feb\",\"Mar\",\"Apr\",\"May\",\"Jun\",\"Jul\",\"Aug\",\"Sep\",\"Oct\",\"Nov\",\"Dec\"]},\"yaxis\":{\"title\":{\"text\":\"Number of Release\"},\"showgrid\":false,\"side\":\"left\"},\"yaxis2\":{\"title\":{\"text\":\"Total Hours Viewed (in billions)\"},\"overlaying\":\"y\",\"side\":\"right\",\"showgrid\":false},\"legend\":{\"x\":1.05,\"y\":1,\"orientation\":\"v\",\"xanchor\":\"left\"},\"title\":{\"text\":\"Monthly Release Patterns and Viewership Hours (2023)\"},\"height\":600,\"width\":1000},                        {\"responsive\": true}                    ).then(function(){\n",
       "                            \n",
       "var gd = document.getElementById('c0a6244a-4242-4d8f-ae26-a6787cff17d1');\n",
       "var x = new MutationObserver(function (mutations, observer) {{\n",
       "        var display = window.getComputedStyle(gd).display;\n",
       "        if (!display || display === 'none') {{\n",
       "            console.log([gd, 'removed!']);\n",
       "            Plotly.purge(gd);\n",
       "            observer.disconnect();\n",
       "        }}\n",
       "}});\n",
       "\n",
       "// Listen for the removal of the full notebook cells\n",
       "var notebookContainer = gd.closest('#notebook-container');\n",
       "if (notebookContainer) {{\n",
       "    x.observe(notebookContainer, {childList: true});\n",
       "}}\n",
       "\n",
       "// Listen for the clearing of the current output cell\n",
       "var outputEl = gd.closest('.output');\n",
       "if (outputEl) {{\n",
       "    x.observe(outputEl, {childList: true});\n",
       "}}\n",
       "\n",
       "                        })                };                });            </script>        </div>"
      ]
     },
     "metadata": {},
     "output_type": "display_data"
    }
   ],
   "source": [
    "monthly_releases=df['Release Month'].value_counts().sort_index()\n",
    "monthly_viewership=df.groupby('Release Month')['Hours Viewed'].sum()\n",
    "\n",
    "fig=go.Figure()\n",
    "\n",
    "fig.add_trace(\n",
    "    go.Bar(\n",
    "        x=monthly_releases.index,\n",
    "        y=monthly_releases.values,\n",
    "        name='Number of Releases',\n",
    "        marker_color='goldenrod',\n",
    "        opacity=0.7,\n",
    "        yaxis='y1'\n",
    "    )\n",
    ")\n",
    "\n",
    "fig.add_trace(\n",
    "    go.Scatter(\n",
    "        x=monthly_viewership.index,\n",
    "        y=monthly_viewership.values,\n",
    "        name='Viewership Hours',\n",
    "        mode='lines+markers',\n",
    "        marker=dict(color='blue'),\n",
    "        line=dict(color='red'),\n",
    "        yaxis='y2'\n",
    "    )\n",
    ")\n",
    "\n",
    "fig.update_layout(\n",
    "    title='Monthly Release Patterns and Viewership Hours (2023)',\n",
    "    xaxis=dict(\n",
    "        title='Month',\n",
    "        tickmode='array',\n",
    "        tickvals=list(range(1,13)),\n",
    "        ticktext=['Jan', 'Feb', 'Mar', 'Apr', 'May', 'Jun', 'Jul', 'Aug', 'Sep', 'Oct', 'Nov', 'Dec']\n",
    "   ),\n",
    "    yaxis=dict(\n",
    "        title='Number of Release',\n",
    "        showgrid=False,\n",
    "        side='left'\n",
    "),\n",
    "\n",
    "    yaxis2=dict(\n",
    "        title='Total Hours Viewed (in billions)',\n",
    "        overlaying='y',\n",
    "        side='right',\n",
    "        showgrid=False\n",
    "),\n",
    "\n",
    "    legend=dict(\n",
    "        x=1.05,\n",
    "        y=1,\n",
    "        orientation='v',\n",
    "        xanchor='left',\n",
    "    ),\n",
    "    height=600,\n",
    "    width=1000\n",
    ")\n",
    "\n",
    "fig.show()"
   ]
  },
  {
   "cell_type": "markdown",
   "id": "d6fb0e32",
   "metadata": {},
   "source": [
    "While the number of releases is relatively steady throughout the year, viewership hours experience a sharp increase in June and a significant rise in December, despite a stable release count. This indicates that viewership is not solely dependent on the number of releases but influenced by the timing and appeal of specific content during these months."
   ]
  },
  {
   "cell_type": "markdown",
   "id": "3b4d3d0b",
   "metadata": {},
   "source": [
    "Next, let’s explore whether Netflix has a preference for releasing content on specific weekdays and how this influences viewership patterns:"
   ]
  },
  {
   "cell_type": "code",
   "execution_count": 102,
   "id": "66cbc87d",
   "metadata": {},
   "outputs": [
    {
     "data": {
      "application/vnd.plotly.v1+json": {
       "config": {
        "plotlyServerURL": "https://plot.ly"
       },
       "data": [
        {
         "marker": {
          "color": "purple"
         },
         "name": "Number of Releases",
         "opacity": 0.6,
         "type": "bar",
         "x": [
          "Monday",
          "Tuesday",
          "Wednesday",
          "Thursday",
          "Friday",
          "Saturday",
          "Sunday"
         ],
         "y": [
          3954500000,
          5562300000,
          15744100000,
          20292800000,
          38217200000,
          5121800000,
          1935300000
         ],
         "yaxis": "y"
        },
        {
         "line": {
          "color": "red"
         },
         "marker": {
          "color": "red"
         },
         "mode": "lines+markers",
         "name": "Number of Releases",
         "type": "scatter",
         "x": [
          "Monday",
          "Tuesday",
          "Wednesday",
          "Thursday",
          "Friday",
          "Saturday",
          "Sunday"
         ],
         "y": [
          3954500000,
          5562300000,
          15744100000,
          20292800000,
          38217200000,
          5121800000,
          1935300000
         ],
         "yaxis": "y2"
        }
       ],
       "layout": {
        "height": 600,
        "legend": {
         "orientation": "v",
         "x": 1.05,
         "xanchor": "left",
         "y": 1
        },
        "template": {
         "data": {
          "bar": [
           {
            "error_x": {
             "color": "#2a3f5f"
            },
            "error_y": {
             "color": "#2a3f5f"
            },
            "marker": {
             "line": {
              "color": "white",
              "width": 0.5
             },
             "pattern": {
              "fillmode": "overlay",
              "size": 10,
              "solidity": 0.2
             }
            },
            "type": "bar"
           }
          ],
          "barpolar": [
           {
            "marker": {
             "line": {
              "color": "white",
              "width": 0.5
             },
             "pattern": {
              "fillmode": "overlay",
              "size": 10,
              "solidity": 0.2
             }
            },
            "type": "barpolar"
           }
          ],
          "carpet": [
           {
            "aaxis": {
             "endlinecolor": "#2a3f5f",
             "gridcolor": "#C8D4E3",
             "linecolor": "#C8D4E3",
             "minorgridcolor": "#C8D4E3",
             "startlinecolor": "#2a3f5f"
            },
            "baxis": {
             "endlinecolor": "#2a3f5f",
             "gridcolor": "#C8D4E3",
             "linecolor": "#C8D4E3",
             "minorgridcolor": "#C8D4E3",
             "startlinecolor": "#2a3f5f"
            },
            "type": "carpet"
           }
          ],
          "choropleth": [
           {
            "colorbar": {
             "outlinewidth": 0,
             "ticks": ""
            },
            "type": "choropleth"
           }
          ],
          "contour": [
           {
            "colorbar": {
             "outlinewidth": 0,
             "ticks": ""
            },
            "colorscale": [
             [
              0,
              "#0d0887"
             ],
             [
              0.1111111111111111,
              "#46039f"
             ],
             [
              0.2222222222222222,
              "#7201a8"
             ],
             [
              0.3333333333333333,
              "#9c179e"
             ],
             [
              0.4444444444444444,
              "#bd3786"
             ],
             [
              0.5555555555555556,
              "#d8576b"
             ],
             [
              0.6666666666666666,
              "#ed7953"
             ],
             [
              0.7777777777777778,
              "#fb9f3a"
             ],
             [
              0.8888888888888888,
              "#fdca26"
             ],
             [
              1,
              "#f0f921"
             ]
            ],
            "type": "contour"
           }
          ],
          "contourcarpet": [
           {
            "colorbar": {
             "outlinewidth": 0,
             "ticks": ""
            },
            "type": "contourcarpet"
           }
          ],
          "heatmap": [
           {
            "colorbar": {
             "outlinewidth": 0,
             "ticks": ""
            },
            "colorscale": [
             [
              0,
              "#0d0887"
             ],
             [
              0.1111111111111111,
              "#46039f"
             ],
             [
              0.2222222222222222,
              "#7201a8"
             ],
             [
              0.3333333333333333,
              "#9c179e"
             ],
             [
              0.4444444444444444,
              "#bd3786"
             ],
             [
              0.5555555555555556,
              "#d8576b"
             ],
             [
              0.6666666666666666,
              "#ed7953"
             ],
             [
              0.7777777777777778,
              "#fb9f3a"
             ],
             [
              0.8888888888888888,
              "#fdca26"
             ],
             [
              1,
              "#f0f921"
             ]
            ],
            "type": "heatmap"
           }
          ],
          "heatmapgl": [
           {
            "colorbar": {
             "outlinewidth": 0,
             "ticks": ""
            },
            "colorscale": [
             [
              0,
              "#0d0887"
             ],
             [
              0.1111111111111111,
              "#46039f"
             ],
             [
              0.2222222222222222,
              "#7201a8"
             ],
             [
              0.3333333333333333,
              "#9c179e"
             ],
             [
              0.4444444444444444,
              "#bd3786"
             ],
             [
              0.5555555555555556,
              "#d8576b"
             ],
             [
              0.6666666666666666,
              "#ed7953"
             ],
             [
              0.7777777777777778,
              "#fb9f3a"
             ],
             [
              0.8888888888888888,
              "#fdca26"
             ],
             [
              1,
              "#f0f921"
             ]
            ],
            "type": "heatmapgl"
           }
          ],
          "histogram": [
           {
            "marker": {
             "pattern": {
              "fillmode": "overlay",
              "size": 10,
              "solidity": 0.2
             }
            },
            "type": "histogram"
           }
          ],
          "histogram2d": [
           {
            "colorbar": {
             "outlinewidth": 0,
             "ticks": ""
            },
            "colorscale": [
             [
              0,
              "#0d0887"
             ],
             [
              0.1111111111111111,
              "#46039f"
             ],
             [
              0.2222222222222222,
              "#7201a8"
             ],
             [
              0.3333333333333333,
              "#9c179e"
             ],
             [
              0.4444444444444444,
              "#bd3786"
             ],
             [
              0.5555555555555556,
              "#d8576b"
             ],
             [
              0.6666666666666666,
              "#ed7953"
             ],
             [
              0.7777777777777778,
              "#fb9f3a"
             ],
             [
              0.8888888888888888,
              "#fdca26"
             ],
             [
              1,
              "#f0f921"
             ]
            ],
            "type": "histogram2d"
           }
          ],
          "histogram2dcontour": [
           {
            "colorbar": {
             "outlinewidth": 0,
             "ticks": ""
            },
            "colorscale": [
             [
              0,
              "#0d0887"
             ],
             [
              0.1111111111111111,
              "#46039f"
             ],
             [
              0.2222222222222222,
              "#7201a8"
             ],
             [
              0.3333333333333333,
              "#9c179e"
             ],
             [
              0.4444444444444444,
              "#bd3786"
             ],
             [
              0.5555555555555556,
              "#d8576b"
             ],
             [
              0.6666666666666666,
              "#ed7953"
             ],
             [
              0.7777777777777778,
              "#fb9f3a"
             ],
             [
              0.8888888888888888,
              "#fdca26"
             ],
             [
              1,
              "#f0f921"
             ]
            ],
            "type": "histogram2dcontour"
           }
          ],
          "mesh3d": [
           {
            "colorbar": {
             "outlinewidth": 0,
             "ticks": ""
            },
            "type": "mesh3d"
           }
          ],
          "parcoords": [
           {
            "line": {
             "colorbar": {
              "outlinewidth": 0,
              "ticks": ""
             }
            },
            "type": "parcoords"
           }
          ],
          "pie": [
           {
            "automargin": true,
            "type": "pie"
           }
          ],
          "scatter": [
           {
            "fillpattern": {
             "fillmode": "overlay",
             "size": 10,
             "solidity": 0.2
            },
            "type": "scatter"
           }
          ],
          "scatter3d": [
           {
            "line": {
             "colorbar": {
              "outlinewidth": 0,
              "ticks": ""
             }
            },
            "marker": {
             "colorbar": {
              "outlinewidth": 0,
              "ticks": ""
             }
            },
            "type": "scatter3d"
           }
          ],
          "scattercarpet": [
           {
            "marker": {
             "colorbar": {
              "outlinewidth": 0,
              "ticks": ""
             }
            },
            "type": "scattercarpet"
           }
          ],
          "scattergeo": [
           {
            "marker": {
             "colorbar": {
              "outlinewidth": 0,
              "ticks": ""
             }
            },
            "type": "scattergeo"
           }
          ],
          "scattergl": [
           {
            "marker": {
             "colorbar": {
              "outlinewidth": 0,
              "ticks": ""
             }
            },
            "type": "scattergl"
           }
          ],
          "scattermapbox": [
           {
            "marker": {
             "colorbar": {
              "outlinewidth": 0,
              "ticks": ""
             }
            },
            "type": "scattermapbox"
           }
          ],
          "scatterpolar": [
           {
            "marker": {
             "colorbar": {
              "outlinewidth": 0,
              "ticks": ""
             }
            },
            "type": "scatterpolar"
           }
          ],
          "scatterpolargl": [
           {
            "marker": {
             "colorbar": {
              "outlinewidth": 0,
              "ticks": ""
             }
            },
            "type": "scatterpolargl"
           }
          ],
          "scatterternary": [
           {
            "marker": {
             "colorbar": {
              "outlinewidth": 0,
              "ticks": ""
             }
            },
            "type": "scatterternary"
           }
          ],
          "surface": [
           {
            "colorbar": {
             "outlinewidth": 0,
             "ticks": ""
            },
            "colorscale": [
             [
              0,
              "#0d0887"
             ],
             [
              0.1111111111111111,
              "#46039f"
             ],
             [
              0.2222222222222222,
              "#7201a8"
             ],
             [
              0.3333333333333333,
              "#9c179e"
             ],
             [
              0.4444444444444444,
              "#bd3786"
             ],
             [
              0.5555555555555556,
              "#d8576b"
             ],
             [
              0.6666666666666666,
              "#ed7953"
             ],
             [
              0.7777777777777778,
              "#fb9f3a"
             ],
             [
              0.8888888888888888,
              "#fdca26"
             ],
             [
              1,
              "#f0f921"
             ]
            ],
            "type": "surface"
           }
          ],
          "table": [
           {
            "cells": {
             "fill": {
              "color": "#EBF0F8"
             },
             "line": {
              "color": "white"
             }
            },
            "header": {
             "fill": {
              "color": "#C8D4E3"
             },
             "line": {
              "color": "white"
             }
            },
            "type": "table"
           }
          ]
         },
         "layout": {
          "annotationdefaults": {
           "arrowcolor": "#2a3f5f",
           "arrowhead": 0,
           "arrowwidth": 1
          },
          "autotypenumbers": "strict",
          "coloraxis": {
           "colorbar": {
            "outlinewidth": 0,
            "ticks": ""
           }
          },
          "colorscale": {
           "diverging": [
            [
             0,
             "#8e0152"
            ],
            [
             0.1,
             "#c51b7d"
            ],
            [
             0.2,
             "#de77ae"
            ],
            [
             0.3,
             "#f1b6da"
            ],
            [
             0.4,
             "#fde0ef"
            ],
            [
             0.5,
             "#f7f7f7"
            ],
            [
             0.6,
             "#e6f5d0"
            ],
            [
             0.7,
             "#b8e186"
            ],
            [
             0.8,
             "#7fbc41"
            ],
            [
             0.9,
             "#4d9221"
            ],
            [
             1,
             "#276419"
            ]
           ],
           "sequential": [
            [
             0,
             "#0d0887"
            ],
            [
             0.1111111111111111,
             "#46039f"
            ],
            [
             0.2222222222222222,
             "#7201a8"
            ],
            [
             0.3333333333333333,
             "#9c179e"
            ],
            [
             0.4444444444444444,
             "#bd3786"
            ],
            [
             0.5555555555555556,
             "#d8576b"
            ],
            [
             0.6666666666666666,
             "#ed7953"
            ],
            [
             0.7777777777777778,
             "#fb9f3a"
            ],
            [
             0.8888888888888888,
             "#fdca26"
            ],
            [
             1,
             "#f0f921"
            ]
           ],
           "sequentialminus": [
            [
             0,
             "#0d0887"
            ],
            [
             0.1111111111111111,
             "#46039f"
            ],
            [
             0.2222222222222222,
             "#7201a8"
            ],
            [
             0.3333333333333333,
             "#9c179e"
            ],
            [
             0.4444444444444444,
             "#bd3786"
            ],
            [
             0.5555555555555556,
             "#d8576b"
            ],
            [
             0.6666666666666666,
             "#ed7953"
            ],
            [
             0.7777777777777778,
             "#fb9f3a"
            ],
            [
             0.8888888888888888,
             "#fdca26"
            ],
            [
             1,
             "#f0f921"
            ]
           ]
          },
          "colorway": [
           "#636efa",
           "#EF553B",
           "#00cc96",
           "#ab63fa",
           "#FFA15A",
           "#19d3f3",
           "#FF6692",
           "#B6E880",
           "#FF97FF",
           "#FECB52"
          ],
          "font": {
           "color": "#2a3f5f"
          },
          "geo": {
           "bgcolor": "white",
           "lakecolor": "white",
           "landcolor": "white",
           "showlakes": true,
           "showland": true,
           "subunitcolor": "#C8D4E3"
          },
          "hoverlabel": {
           "align": "left"
          },
          "hovermode": "closest",
          "mapbox": {
           "style": "light"
          },
          "paper_bgcolor": "white",
          "plot_bgcolor": "white",
          "polar": {
           "angularaxis": {
            "gridcolor": "#EBF0F8",
            "linecolor": "#EBF0F8",
            "ticks": ""
           },
           "bgcolor": "white",
           "radialaxis": {
            "gridcolor": "#EBF0F8",
            "linecolor": "#EBF0F8",
            "ticks": ""
           }
          },
          "scene": {
           "xaxis": {
            "backgroundcolor": "white",
            "gridcolor": "#DFE8F3",
            "gridwidth": 2,
            "linecolor": "#EBF0F8",
            "showbackground": true,
            "ticks": "",
            "zerolinecolor": "#EBF0F8"
           },
           "yaxis": {
            "backgroundcolor": "white",
            "gridcolor": "#DFE8F3",
            "gridwidth": 2,
            "linecolor": "#EBF0F8",
            "showbackground": true,
            "ticks": "",
            "zerolinecolor": "#EBF0F8"
           },
           "zaxis": {
            "backgroundcolor": "white",
            "gridcolor": "#DFE8F3",
            "gridwidth": 2,
            "linecolor": "#EBF0F8",
            "showbackground": true,
            "ticks": "",
            "zerolinecolor": "#EBF0F8"
           }
          },
          "shapedefaults": {
           "line": {
            "color": "#2a3f5f"
           }
          },
          "ternary": {
           "aaxis": {
            "gridcolor": "#DFE8F3",
            "linecolor": "#A2B1C6",
            "ticks": ""
           },
           "baxis": {
            "gridcolor": "#DFE8F3",
            "linecolor": "#A2B1C6",
            "ticks": ""
           },
           "bgcolor": "white",
           "caxis": {
            "gridcolor": "#DFE8F3",
            "linecolor": "#A2B1C6",
            "ticks": ""
           }
          },
          "title": {
           "x": 0.05
          },
          "xaxis": {
           "automargin": true,
           "gridcolor": "#EBF0F8",
           "linecolor": "#EBF0F8",
           "ticks": "",
           "title": {
            "standoff": 15
           },
           "zerolinecolor": "#EBF0F8",
           "zerolinewidth": 2
          },
          "yaxis": {
           "automargin": true,
           "gridcolor": "#EBF0F8",
           "linecolor": "#EBF0F8",
           "ticks": "",
           "title": {
            "standoff": 15
           },
           "zerolinecolor": "#EBF0F8",
           "zerolinewidth": 2
          }
         }
        },
        "title": {
         "text": "Weekly Release Patterns and Viewership Hours (2023)"
        },
        "width": 1000,
        "xaxis": {
         "categoryarray": [
          "Monday",
          "Tuesday",
          "Wednesday",
          "Thursday",
          "Friday",
          "Saturday",
          "Sunday"
         ],
         "categoryorder": "array",
         "title": {
          "text": "Day of the Week"
         }
        },
        "yaxis": {
         "showgrid": false,
         "side": "left",
         "title": {
          "text": "Number of Releases"
         }
        },
        "yaxis2": {
         "overlaying": "y",
         "showgrid": false,
         "side": "right",
         "title": {
          "text": "Total Hours Viewed (in billions)"
         }
        }
       }
      },
      "text/html": [
       "<div>                            <div id=\"c8309866-8cc6-4cff-805f-6f1f67109e0a\" class=\"plotly-graph-div\" style=\"height:600px; width:1000px;\"></div>            <script type=\"text/javascript\">                require([\"plotly\"], function(Plotly) {                    window.PLOTLYENV=window.PLOTLYENV || {};                                    if (document.getElementById(\"c8309866-8cc6-4cff-805f-6f1f67109e0a\")) {                    Plotly.newPlot(                        \"c8309866-8cc6-4cff-805f-6f1f67109e0a\",                        [{\"marker\":{\"color\":\"purple\"},\"name\":\"Number of Releases\",\"opacity\":0.6,\"x\":[\"Monday\",\"Tuesday\",\"Wednesday\",\"Thursday\",\"Friday\",\"Saturday\",\"Sunday\"],\"y\":[3954500000.0,5562300000.0,15744100000.0,20292800000.0,38217200000.0,5121800000.0,1935300000.0],\"yaxis\":\"y\",\"type\":\"bar\"},{\"line\":{\"color\":\"red\"},\"marker\":{\"color\":\"red\"},\"mode\":\"lines+markers\",\"name\":\"Number of Releases\",\"x\":[\"Monday\",\"Tuesday\",\"Wednesday\",\"Thursday\",\"Friday\",\"Saturday\",\"Sunday\"],\"y\":[3954500000.0,5562300000.0,15744100000.0,20292800000.0,38217200000.0,5121800000.0,1935300000.0],\"yaxis\":\"y2\",\"type\":\"scatter\"}],                        {\"template\":{\"data\":{\"histogram2dcontour\":[{\"type\":\"histogram2dcontour\",\"colorbar\":{\"outlinewidth\":0,\"ticks\":\"\"},\"colorscale\":[[0.0,\"#0d0887\"],[0.1111111111111111,\"#46039f\"],[0.2222222222222222,\"#7201a8\"],[0.3333333333333333,\"#9c179e\"],[0.4444444444444444,\"#bd3786\"],[0.5555555555555556,\"#d8576b\"],[0.6666666666666666,\"#ed7953\"],[0.7777777777777778,\"#fb9f3a\"],[0.8888888888888888,\"#fdca26\"],[1.0,\"#f0f921\"]]}],\"choropleth\":[{\"type\":\"choropleth\",\"colorbar\":{\"outlinewidth\":0,\"ticks\":\"\"}}],\"histogram2d\":[{\"type\":\"histogram2d\",\"colorbar\":{\"outlinewidth\":0,\"ticks\":\"\"},\"colorscale\":[[0.0,\"#0d0887\"],[0.1111111111111111,\"#46039f\"],[0.2222222222222222,\"#7201a8\"],[0.3333333333333333,\"#9c179e\"],[0.4444444444444444,\"#bd3786\"],[0.5555555555555556,\"#d8576b\"],[0.6666666666666666,\"#ed7953\"],[0.7777777777777778,\"#fb9f3a\"],[0.8888888888888888,\"#fdca26\"],[1.0,\"#f0f921\"]]}],\"heatmap\":[{\"type\":\"heatmap\",\"colorbar\":{\"outlinewidth\":0,\"ticks\":\"\"},\"colorscale\":[[0.0,\"#0d0887\"],[0.1111111111111111,\"#46039f\"],[0.2222222222222222,\"#7201a8\"],[0.3333333333333333,\"#9c179e\"],[0.4444444444444444,\"#bd3786\"],[0.5555555555555556,\"#d8576b\"],[0.6666666666666666,\"#ed7953\"],[0.7777777777777778,\"#fb9f3a\"],[0.8888888888888888,\"#fdca26\"],[1.0,\"#f0f921\"]]}],\"heatmapgl\":[{\"type\":\"heatmapgl\",\"colorbar\":{\"outlinewidth\":0,\"ticks\":\"\"},\"colorscale\":[[0.0,\"#0d0887\"],[0.1111111111111111,\"#46039f\"],[0.2222222222222222,\"#7201a8\"],[0.3333333333333333,\"#9c179e\"],[0.4444444444444444,\"#bd3786\"],[0.5555555555555556,\"#d8576b\"],[0.6666666666666666,\"#ed7953\"],[0.7777777777777778,\"#fb9f3a\"],[0.8888888888888888,\"#fdca26\"],[1.0,\"#f0f921\"]]}],\"contourcarpet\":[{\"type\":\"contourcarpet\",\"colorbar\":{\"outlinewidth\":0,\"ticks\":\"\"}}],\"contour\":[{\"type\":\"contour\",\"colorbar\":{\"outlinewidth\":0,\"ticks\":\"\"},\"colorscale\":[[0.0,\"#0d0887\"],[0.1111111111111111,\"#46039f\"],[0.2222222222222222,\"#7201a8\"],[0.3333333333333333,\"#9c179e\"],[0.4444444444444444,\"#bd3786\"],[0.5555555555555556,\"#d8576b\"],[0.6666666666666666,\"#ed7953\"],[0.7777777777777778,\"#fb9f3a\"],[0.8888888888888888,\"#fdca26\"],[1.0,\"#f0f921\"]]}],\"surface\":[{\"type\":\"surface\",\"colorbar\":{\"outlinewidth\":0,\"ticks\":\"\"},\"colorscale\":[[0.0,\"#0d0887\"],[0.1111111111111111,\"#46039f\"],[0.2222222222222222,\"#7201a8\"],[0.3333333333333333,\"#9c179e\"],[0.4444444444444444,\"#bd3786\"],[0.5555555555555556,\"#d8576b\"],[0.6666666666666666,\"#ed7953\"],[0.7777777777777778,\"#fb9f3a\"],[0.8888888888888888,\"#fdca26\"],[1.0,\"#f0f921\"]]}],\"mesh3d\":[{\"type\":\"mesh3d\",\"colorbar\":{\"outlinewidth\":0,\"ticks\":\"\"}}],\"scatter\":[{\"fillpattern\":{\"fillmode\":\"overlay\",\"size\":10,\"solidity\":0.2},\"type\":\"scatter\"}],\"parcoords\":[{\"type\":\"parcoords\",\"line\":{\"colorbar\":{\"outlinewidth\":0,\"ticks\":\"\"}}}],\"scatterpolargl\":[{\"type\":\"scatterpolargl\",\"marker\":{\"colorbar\":{\"outlinewidth\":0,\"ticks\":\"\"}}}],\"bar\":[{\"error_x\":{\"color\":\"#2a3f5f\"},\"error_y\":{\"color\":\"#2a3f5f\"},\"marker\":{\"line\":{\"color\":\"white\",\"width\":0.5},\"pattern\":{\"fillmode\":\"overlay\",\"size\":10,\"solidity\":0.2}},\"type\":\"bar\"}],\"scattergeo\":[{\"type\":\"scattergeo\",\"marker\":{\"colorbar\":{\"outlinewidth\":0,\"ticks\":\"\"}}}],\"scatterpolar\":[{\"type\":\"scatterpolar\",\"marker\":{\"colorbar\":{\"outlinewidth\":0,\"ticks\":\"\"}}}],\"histogram\":[{\"marker\":{\"pattern\":{\"fillmode\":\"overlay\",\"size\":10,\"solidity\":0.2}},\"type\":\"histogram\"}],\"scattergl\":[{\"type\":\"scattergl\",\"marker\":{\"colorbar\":{\"outlinewidth\":0,\"ticks\":\"\"}}}],\"scatter3d\":[{\"type\":\"scatter3d\",\"line\":{\"colorbar\":{\"outlinewidth\":0,\"ticks\":\"\"}},\"marker\":{\"colorbar\":{\"outlinewidth\":0,\"ticks\":\"\"}}}],\"scattermapbox\":[{\"type\":\"scattermapbox\",\"marker\":{\"colorbar\":{\"outlinewidth\":0,\"ticks\":\"\"}}}],\"scatterternary\":[{\"type\":\"scatterternary\",\"marker\":{\"colorbar\":{\"outlinewidth\":0,\"ticks\":\"\"}}}],\"scattercarpet\":[{\"type\":\"scattercarpet\",\"marker\":{\"colorbar\":{\"outlinewidth\":0,\"ticks\":\"\"}}}],\"carpet\":[{\"aaxis\":{\"endlinecolor\":\"#2a3f5f\",\"gridcolor\":\"#C8D4E3\",\"linecolor\":\"#C8D4E3\",\"minorgridcolor\":\"#C8D4E3\",\"startlinecolor\":\"#2a3f5f\"},\"baxis\":{\"endlinecolor\":\"#2a3f5f\",\"gridcolor\":\"#C8D4E3\",\"linecolor\":\"#C8D4E3\",\"minorgridcolor\":\"#C8D4E3\",\"startlinecolor\":\"#2a3f5f\"},\"type\":\"carpet\"}],\"table\":[{\"cells\":{\"fill\":{\"color\":\"#EBF0F8\"},\"line\":{\"color\":\"white\"}},\"header\":{\"fill\":{\"color\":\"#C8D4E3\"},\"line\":{\"color\":\"white\"}},\"type\":\"table\"}],\"barpolar\":[{\"marker\":{\"line\":{\"color\":\"white\",\"width\":0.5},\"pattern\":{\"fillmode\":\"overlay\",\"size\":10,\"solidity\":0.2}},\"type\":\"barpolar\"}],\"pie\":[{\"automargin\":true,\"type\":\"pie\"}]},\"layout\":{\"autotypenumbers\":\"strict\",\"colorway\":[\"#636efa\",\"#EF553B\",\"#00cc96\",\"#ab63fa\",\"#FFA15A\",\"#19d3f3\",\"#FF6692\",\"#B6E880\",\"#FF97FF\",\"#FECB52\"],\"font\":{\"color\":\"#2a3f5f\"},\"hovermode\":\"closest\",\"hoverlabel\":{\"align\":\"left\"},\"paper_bgcolor\":\"white\",\"plot_bgcolor\":\"white\",\"polar\":{\"bgcolor\":\"white\",\"angularaxis\":{\"gridcolor\":\"#EBF0F8\",\"linecolor\":\"#EBF0F8\",\"ticks\":\"\"},\"radialaxis\":{\"gridcolor\":\"#EBF0F8\",\"linecolor\":\"#EBF0F8\",\"ticks\":\"\"}},\"ternary\":{\"bgcolor\":\"white\",\"aaxis\":{\"gridcolor\":\"#DFE8F3\",\"linecolor\":\"#A2B1C6\",\"ticks\":\"\"},\"baxis\":{\"gridcolor\":\"#DFE8F3\",\"linecolor\":\"#A2B1C6\",\"ticks\":\"\"},\"caxis\":{\"gridcolor\":\"#DFE8F3\",\"linecolor\":\"#A2B1C6\",\"ticks\":\"\"}},\"coloraxis\":{\"colorbar\":{\"outlinewidth\":0,\"ticks\":\"\"}},\"colorscale\":{\"sequential\":[[0.0,\"#0d0887\"],[0.1111111111111111,\"#46039f\"],[0.2222222222222222,\"#7201a8\"],[0.3333333333333333,\"#9c179e\"],[0.4444444444444444,\"#bd3786\"],[0.5555555555555556,\"#d8576b\"],[0.6666666666666666,\"#ed7953\"],[0.7777777777777778,\"#fb9f3a\"],[0.8888888888888888,\"#fdca26\"],[1.0,\"#f0f921\"]],\"sequentialminus\":[[0.0,\"#0d0887\"],[0.1111111111111111,\"#46039f\"],[0.2222222222222222,\"#7201a8\"],[0.3333333333333333,\"#9c179e\"],[0.4444444444444444,\"#bd3786\"],[0.5555555555555556,\"#d8576b\"],[0.6666666666666666,\"#ed7953\"],[0.7777777777777778,\"#fb9f3a\"],[0.8888888888888888,\"#fdca26\"],[1.0,\"#f0f921\"]],\"diverging\":[[0,\"#8e0152\"],[0.1,\"#c51b7d\"],[0.2,\"#de77ae\"],[0.3,\"#f1b6da\"],[0.4,\"#fde0ef\"],[0.5,\"#f7f7f7\"],[0.6,\"#e6f5d0\"],[0.7,\"#b8e186\"],[0.8,\"#7fbc41\"],[0.9,\"#4d9221\"],[1,\"#276419\"]]},\"xaxis\":{\"gridcolor\":\"#EBF0F8\",\"linecolor\":\"#EBF0F8\",\"ticks\":\"\",\"title\":{\"standoff\":15},\"zerolinecolor\":\"#EBF0F8\",\"automargin\":true,\"zerolinewidth\":2},\"yaxis\":{\"gridcolor\":\"#EBF0F8\",\"linecolor\":\"#EBF0F8\",\"ticks\":\"\",\"title\":{\"standoff\":15},\"zerolinecolor\":\"#EBF0F8\",\"automargin\":true,\"zerolinewidth\":2},\"scene\":{\"xaxis\":{\"backgroundcolor\":\"white\",\"gridcolor\":\"#DFE8F3\",\"linecolor\":\"#EBF0F8\",\"showbackground\":true,\"ticks\":\"\",\"zerolinecolor\":\"#EBF0F8\",\"gridwidth\":2},\"yaxis\":{\"backgroundcolor\":\"white\",\"gridcolor\":\"#DFE8F3\",\"linecolor\":\"#EBF0F8\",\"showbackground\":true,\"ticks\":\"\",\"zerolinecolor\":\"#EBF0F8\",\"gridwidth\":2},\"zaxis\":{\"backgroundcolor\":\"white\",\"gridcolor\":\"#DFE8F3\",\"linecolor\":\"#EBF0F8\",\"showbackground\":true,\"ticks\":\"\",\"zerolinecolor\":\"#EBF0F8\",\"gridwidth\":2}},\"shapedefaults\":{\"line\":{\"color\":\"#2a3f5f\"}},\"annotationdefaults\":{\"arrowcolor\":\"#2a3f5f\",\"arrowhead\":0,\"arrowwidth\":1},\"geo\":{\"bgcolor\":\"white\",\"landcolor\":\"white\",\"subunitcolor\":\"#C8D4E3\",\"showland\":true,\"showlakes\":true,\"lakecolor\":\"white\"},\"title\":{\"x\":0.05},\"mapbox\":{\"style\":\"light\"}}},\"xaxis\":{\"title\":{\"text\":\"Day of the Week\"},\"categoryorder\":\"array\",\"categoryarray\":[\"Monday\",\"Tuesday\",\"Wednesday\",\"Thursday\",\"Friday\",\"Saturday\",\"Sunday\"]},\"yaxis\":{\"title\":{\"text\":\"Number of Releases\"},\"showgrid\":false,\"side\":\"left\"},\"yaxis2\":{\"title\":{\"text\":\"Total Hours Viewed (in billions)\"},\"overlaying\":\"y\",\"side\":\"right\",\"showgrid\":false},\"legend\":{\"x\":1.05,\"y\":1,\"orientation\":\"v\",\"xanchor\":\"left\"},\"title\":{\"text\":\"Weekly Release Patterns and Viewership Hours (2023)\"},\"height\":600,\"width\":1000},                        {\"responsive\": true}                    ).then(function(){\n",
       "                            \n",
       "var gd = document.getElementById('c8309866-8cc6-4cff-805f-6f1f67109e0a');\n",
       "var x = new MutationObserver(function (mutations, observer) {{\n",
       "        var display = window.getComputedStyle(gd).display;\n",
       "        if (!display || display === 'none') {{\n",
       "            console.log([gd, 'removed!']);\n",
       "            Plotly.purge(gd);\n",
       "            observer.disconnect();\n",
       "        }}\n",
       "}});\n",
       "\n",
       "// Listen for the removal of the full notebook cells\n",
       "var notebookContainer = gd.closest('#notebook-container');\n",
       "if (notebookContainer) {{\n",
       "    x.observe(notebookContainer, {childList: true});\n",
       "}}\n",
       "\n",
       "// Listen for the clearing of the current output cell\n",
       "var outputEl = gd.closest('.output');\n",
       "if (outputEl) {{\n",
       "    x.observe(outputEl, {childList: true});\n",
       "}}\n",
       "\n",
       "                        })                };                });            </script>        </div>"
      ]
     },
     "metadata": {},
     "output_type": "display_data"
    }
   ],
   "source": [
    "df['Release Day']=df['Release Date'].dt.day_name()\n",
    "\n",
    "weekday_releases=df['Release Day'].value_counts().reindex(\n",
    "    ['Monday', 'Tuesday', 'Wednesday', 'Thursday', 'Friday', 'Saturday', 'Sunday']\n",
    ")\n",
    "\n",
    "# aggregate viewership hours by day of the week\n",
    "weekday_viewership=df.groupby('Release Day')['Hours Viewed'].sum().reindex(\n",
    "    ['Monday', 'Tuesday', 'Wednesday', 'Thursday', 'Friday', 'Saturday', 'Sunday']\n",
    ")\n",
    "\n",
    "fig=go.Figure()\n",
    "\n",
    "fig.add_trace(\n",
    "    go.Bar(\n",
    "        x=weekday_viewership.index,\n",
    "        y=weekday_viewership.values,\n",
    "        name='Number of Releases',\n",
    "        marker_color='purple',\n",
    "        opacity=0.6,\n",
    "        yaxis='y1'\n",
    "    )\n",
    ")\n",
    "\n",
    "fig.add_trace(\n",
    "    go.Scatter(\n",
    "        x=weekday_viewership.index,\n",
    "        y=weekday_viewership.values,\n",
    "        name='Number of Releases',\n",
    "        mode='lines+markers',\n",
    "        marker=dict(color='red'),\n",
    "        line=dict(color='red'),\n",
    "        yaxis='y2'\n",
    "    )\n",
    ")\n",
    "\n",
    "fig.update_layout(\n",
    "    title='Weekly Release Patterns and Viewership Hours (2023)',\n",
    "    xaxis=dict(\n",
    "        title='Day of the Week',\n",
    "        categoryorder='array',\n",
    "        categoryarray=['Monday', 'Tuesday', 'Wednesday', 'Thursday', 'Friday', 'Saturday', 'Sunday'],\n",
    "    ),\n",
    "    yaxis=dict(\n",
    "        title='Number of Releases',\n",
    "        showgrid=False,\n",
    "        side='left'\n",
    "    ),\n",
    "    yaxis2=dict(\n",
    "        title='Total Hours Viewed (in billions)',\n",
    "        overlaying='y',\n",
    "        side='right',\n",
    "        showgrid=False\n",
    "    ),\n",
    "    legend=dict(\n",
    "        x=1.05,\n",
    "        y=1,\n",
    "        orientation='v',\n",
    "        xanchor='left'\n",
    "    ),\n",
    "    height=600,\n",
    "    width=1000\n",
    ")\n",
    "\n",
    "fig.show()"
   ]
  },
  {
   "cell_type": "markdown",
   "id": "63383cf3",
   "metadata": {},
   "source": [
    "The graph highlights that most content releases occur on Fridays, with viewership hours also peaking significantly on that day. This suggests that Netflix strategically releases content toward the weekend to maximize audience engagement. The viewership drops sharply on Saturdays and Sundays, despite some releases, indicating that the audience tends to consume newly released content right at the start of the weekend, which makes Friday the most impactful day for both releases and viewership."
   ]
  },
  {
   "cell_type": "markdown",
   "id": "2f6b8a8e",
   "metadata": {},
   "source": [
    "To further understand the strategy, let’s explore specific high-impact dates, such as holidays or major events, and their correlation with content releases:"
   ]
  },
  {
   "cell_type": "code",
   "execution_count": 107,
   "id": "c169de7f",
   "metadata": {},
   "outputs": [
    {
     "data": {
      "text/html": [
       "<div>\n",
       "<style scoped>\n",
       "    .dataframe tbody tr th:only-of-type {\n",
       "        vertical-align: middle;\n",
       "    }\n",
       "\n",
       "    .dataframe tbody tr th {\n",
       "        vertical-align: top;\n",
       "    }\n",
       "\n",
       "    .dataframe thead th {\n",
       "        text-align: right;\n",
       "    }\n",
       "</style>\n",
       "<table border=\"1\" class=\"dataframe\">\n",
       "  <thead>\n",
       "    <tr style=\"text-align: right;\">\n",
       "      <th></th>\n",
       "      <th>Title</th>\n",
       "      <th>Release Date</th>\n",
       "      <th>Hours Viewed</th>\n",
       "    </tr>\n",
       "  </thead>\n",
       "  <tbody>\n",
       "    <tr>\n",
       "      <th>2</th>\n",
       "      <td>The Glory: Season 1 // 더 글로리: 시즌 1</td>\n",
       "      <td>2022-12-30</td>\n",
       "      <td>622800000.0</td>\n",
       "    </tr>\n",
       "    <tr>\n",
       "      <th>6</th>\n",
       "      <td>La Reina del Sur: Season 3</td>\n",
       "      <td>2022-12-30</td>\n",
       "      <td>429600000.0</td>\n",
       "    </tr>\n",
       "    <tr>\n",
       "      <th>11</th>\n",
       "      <td>Kaleidoscope: Limited Series</td>\n",
       "      <td>2023-01-01</td>\n",
       "      <td>252500000.0</td>\n",
       "    </tr>\n",
       "    <tr>\n",
       "      <th>29</th>\n",
       "      <td>Perfect Match: Season 1</td>\n",
       "      <td>2023-02-14</td>\n",
       "      <td>176800000.0</td>\n",
       "    </tr>\n",
       "    <tr>\n",
       "      <th>124</th>\n",
       "      <td>Lady Voyeur: Limited Series // Olhar Indiscret...</td>\n",
       "      <td>2022-12-31</td>\n",
       "      <td>86000000.0</td>\n",
       "    </tr>\n",
       "    <tr>\n",
       "      <th>...</th>\n",
       "      <td>...</td>\n",
       "      <td>...</td>\n",
       "      <td>...</td>\n",
       "    </tr>\n",
       "    <tr>\n",
       "      <th>22324</th>\n",
       "      <td>The Romantics: Limited Series</td>\n",
       "      <td>2023-02-14</td>\n",
       "      <td>1000000.0</td>\n",
       "    </tr>\n",
       "    <tr>\n",
       "      <th>22327</th>\n",
       "      <td>Aggretsuko: Season 5 // アグレッシブ烈子: シーズン5</td>\n",
       "      <td>2023-02-16</td>\n",
       "      <td>900000.0</td>\n",
       "    </tr>\n",
       "    <tr>\n",
       "      <th>22966</th>\n",
       "      <td>The Lying Life of Adults: Limited Series // La...</td>\n",
       "      <td>2023-01-04</td>\n",
       "      <td>900000.0</td>\n",
       "    </tr>\n",
       "    <tr>\n",
       "      <th>22985</th>\n",
       "      <td>Community Squad: Season 1 // División Palermo:...</td>\n",
       "      <td>2023-02-17</td>\n",
       "      <td>800000.0</td>\n",
       "    </tr>\n",
       "    <tr>\n",
       "      <th>24187</th>\n",
       "      <td>Live to Lead: Limited Series</td>\n",
       "      <td>2022-12-31</td>\n",
       "      <td>400000.0</td>\n",
       "    </tr>\n",
       "  </tbody>\n",
       "</table>\n",
       "<p>98 rows × 3 columns</p>\n",
       "</div>"
      ],
      "text/plain": [
       "                                                   Title Release Date  \\\n",
       "2                     The Glory: Season 1 // 더 글로리: 시즌 1   2022-12-30   \n",
       "6                             La Reina del Sur: Season 3   2022-12-30   \n",
       "11                          Kaleidoscope: Limited Series   2023-01-01   \n",
       "29                               Perfect Match: Season 1   2023-02-14   \n",
       "124    Lady Voyeur: Limited Series // Olhar Indiscret...   2022-12-31   \n",
       "...                                                  ...          ...   \n",
       "22324                      The Romantics: Limited Series   2023-02-14   \n",
       "22327            Aggretsuko: Season 5 // アグレッシブ烈子: シーズン5   2023-02-16   \n",
       "22966  The Lying Life of Adults: Limited Series // La...   2023-01-04   \n",
       "22985  Community Squad: Season 1 // División Palermo:...   2023-02-17   \n",
       "24187                       Live to Lead: Limited Series   2022-12-31   \n",
       "\n",
       "       Hours Viewed  \n",
       "2       622800000.0  \n",
       "6       429600000.0  \n",
       "11      252500000.0  \n",
       "29      176800000.0  \n",
       "124      86000000.0  \n",
       "...             ...  \n",
       "22324     1000000.0  \n",
       "22327      900000.0  \n",
       "22966      900000.0  \n",
       "22985      800000.0  \n",
       "24187      400000.0  \n",
       "\n",
       "[98 rows x 3 columns]"
      ]
     },
     "execution_count": 107,
     "metadata": {},
     "output_type": "execute_result"
    }
   ],
   "source": [
    "# define significant holidays and events in 2023\n",
    "important_dates = [\n",
    "    '2023-01-01', # new year's day\n",
    "    '2023-02-14', # valentine's day\n",
    "    '2023-07-04', # independence day (US)\n",
    "    '2023-10-31', # halloween day\n",
    "    '2023-12-25'  # christmas day\n",
    "]\n",
    "\n",
    "# convert to datetime\n",
    "important_dates=pd.to_datetime(important_dates)\n",
    "\n",
    "# check for content releases close to these significant holidays (within a 3-day window)\n",
    "holiday_releases=df[df['Release Date'].apply(\n",
    "    lambda x: any((x-date).days in range(-3,4) for date in important_dates)\n",
    ")]\n",
    "\n",
    "# aggregate viewership hours for releases near significant holidays\n",
    "holiday_viewership=holiday_releases.groupby('Release Date')['Hours Viewed'].sum()\n",
    "\n",
    "holiday_releases[['Title','Release Date','Hours Viewed']]"
   ]
  },
  {
   "cell_type": "markdown",
   "id": "dfaf9617",
   "metadata": {},
   "source": [
    "he data reveals that Netflix has strategically released content around key holidays and events. Some of the significant releases include:\n",
    "\n",
    "**New Year’s Period:** The Glory: Season 1, La Reina del Sur: Season 3, and Kaleidoscope: Limited Series were released close to New Year’s Day, resulting in high viewership.</br>\n",
    "**Valentine’s Day:** Perfect Match: Season 1 and The Romantics: Limited Series were released on February 14th, which align with a romantic theme and capitalize on the holiday’s sentiment."
   ]
  },
  {
   "cell_type": "markdown",
   "id": "bfdaf359",
   "metadata": {},
   "source": [
    "### Conclusion\n",
    "\n",
    "So, the content strategy of Netflix revolves around maximizing viewership through targeted release timing and content variety. Shows consistently outperform movies in viewership, with significant spikes in December and June, indicating strategic releases around these periods. The Fall season stands out as the peak time for audience engagement. Most content is released on Fridays, which aims to capture viewers right before the weekend, and viewership aligns strongly with this release pattern. While the number of releases is steady throughout the year, viewership varies, which suggests a focus on high-impact titles and optimal release timing over sheer volume."
   ]
  }
 ],
 "metadata": {
  "kernelspec": {
   "display_name": "Python (py37)",
   "language": "python",
   "name": "py37"
  },
  "language_info": {
   "codemirror_mode": {
    "name": "ipython",
    "version": 3
   },
   "file_extension": ".py",
   "mimetype": "text/x-python",
   "name": "python",
   "nbconvert_exporter": "python",
   "pygments_lexer": "ipython3",
   "version": "3.7.16"
  }
 },
 "nbformat": 4,
 "nbformat_minor": 5
}
